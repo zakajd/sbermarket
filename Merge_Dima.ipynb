{
 "cells": [
  {
   "cell_type": "markdown",
   "metadata": {
    "id": "jH3-DcYxOmP0"
   },
   "source": [
    "1. Users in test? 107068"
   ]
  },
  {
   "cell_type": "code",
   "execution_count": 1,
   "metadata": {
    "colab": {
     "base_uri": "https://localhost:8080/",
     "height": 218
    },
    "id": "pIGOVRKHOwnk",
    "outputId": "366141a3-bc4f-4215-b60e-54e7d684e9ef"
   },
   "outputs": [
    {
     "name": "stdout",
     "output_type": "stream",
     "text": [
      "Requirement already satisfied: kaggle in /usr/local/lib/python3.6/dist-packages (1.5.8)\n",
      "Requirement already satisfied: urllib3<1.25,>=1.21.1 in /usr/local/lib/python3.6/dist-packages (from kaggle) (1.24.3)\n",
      "Requirement already satisfied: requests in /usr/local/lib/python3.6/dist-packages (from kaggle) (2.23.0)\n",
      "Requirement already satisfied: certifi in /usr/local/lib/python3.6/dist-packages (from kaggle) (2020.6.20)\n",
      "Requirement already satisfied: six>=1.10 in /usr/local/lib/python3.6/dist-packages (from kaggle) (1.15.0)\n",
      "Requirement already satisfied: python-slugify in /usr/local/lib/python3.6/dist-packages (from kaggle) (4.0.1)\n",
      "Requirement already satisfied: slugify in /usr/local/lib/python3.6/dist-packages (from kaggle) (0.0.1)\n",
      "Requirement already satisfied: tqdm in /usr/local/lib/python3.6/dist-packages (from kaggle) (4.41.1)\n",
      "Requirement already satisfied: python-dateutil in /usr/local/lib/python3.6/dist-packages (from kaggle) (2.8.1)\n",
      "Requirement already satisfied: idna<3,>=2.5 in /usr/local/lib/python3.6/dist-packages (from requests->kaggle) (2.10)\n",
      "Requirement already satisfied: chardet<4,>=3.0.2 in /usr/local/lib/python3.6/dist-packages (from requests->kaggle) (3.0.4)\n",
      "Requirement already satisfied: text-unidecode>=1.3 in /usr/local/lib/python3.6/dist-packages (from python-slugify->kaggle) (1.3)\n"
     ]
    }
   ],
   "source": [
    "!pip install kaggle"
   ]
  },
  {
   "cell_type": "code",
   "execution_count": 2,
   "metadata": {
    "colab": {
     "base_uri": "https://localhost:8080/",
     "height": 90,
     "resources": {
      "http://localhost:8080/nbextensions/google.colab/files.js": {
       "data": "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",
       "headers": [
        [
         "content-type",
         "application/javascript"
        ]
       ],
       "ok": true,
       "status": 200,
       "status_text": ""
      }
     }
    },
    "id": "qTKK_OldO3dw",
    "outputId": "0f68ff88-52a1-485a-a336-b7a26961b695"
   },
   "outputs": [
    {
     "data": {
      "text/html": [
       "\n",
       "     <input type=\"file\" id=\"files-460e0865-9aef-4cc3-8a67-31dc7a3ef4f0\" name=\"files[]\" multiple disabled\n",
       "        style=\"border:none\" />\n",
       "     <output id=\"result-460e0865-9aef-4cc3-8a67-31dc7a3ef4f0\">\n",
       "      Upload widget is only available when the cell has been executed in the\n",
       "      current browser session. Please rerun this cell to enable.\n",
       "      </output>\n",
       "      <script src=\"/nbextensions/google.colab/files.js\"></script> "
      ],
      "text/plain": [
       "<IPython.core.display.HTML object>"
      ]
     },
     "metadata": {
      "tags": []
     },
     "output_type": "display_data"
    },
    {
     "name": "stdout",
     "output_type": "stream",
     "text": [
      "Saving kaggle.json to kaggle (2).json\n"
     ]
    },
    {
     "data": {
      "text/plain": [
       "{'kaggle.json': b'{\"username\":\"daleschyov\",\"key\":\"92e659c9a4dcaabcaa13ce84697c8e9a\"}'}"
      ]
     },
     "execution_count": 2,
     "metadata": {
      "tags": []
     },
     "output_type": "execute_result"
    }
   ],
   "source": [
    "from google.colab import files\n",
    "files.upload()"
   ]
  },
  {
   "cell_type": "code",
   "execution_count": 3,
   "metadata": {
    "colab": {
     "base_uri": "https://localhost:8080/",
     "height": 571
    },
    "id": "DLFc0dyxO3jb",
    "outputId": "a10ab15b-5f71-40d0-cce4-6164df57a54b"
   },
   "outputs": [
    {
     "name": "stdout",
     "output_type": "stream",
     "text": [
      "Warning: Looks like you're using an outdated API Version, please consider updating (server 1.5.6 / client 1.5.4)\n",
      "tab_2_products_2020-08-18.csv.zip: Skipping, found more recently modified local copy (use --force to force download)\n",
      "tab_2_products_2020-09-07.csv.zip: Skipping, found more recently modified local copy (use --force to force download)\n",
      "tab_2_products_2020-08-08.csv.zip: Skipping, found more recently modified local copy (use --force to force download)\n",
      "tab_2_products_2020-08-28.csv.zip: Skipping, found more recently modified local copy (use --force to force download)\n",
      "tab_2_products_2020-06-29.csv.zip: Skipping, found more recently modified local copy (use --force to force download)\n",
      "tab_2_products_2020-06-09.csv.zip: Skipping, found more recently modified local copy (use --force to force download)\n",
      "tab_2_products_2020-06-19.csv.zip: Skipping, found more recently modified local copy (use --force to force download)\n",
      "tab_2_products_2020-07-19.csv.zip: Skipping, found more recently modified local copy (use --force to force download)\n",
      "tab_2_products_2020-07-29.csv.zip: Skipping, found more recently modified local copy (use --force to force download)\n",
      "tab_2_products_2020-07-09.csv.zip: Skipping, found more recently modified local copy (use --force to force download)\n",
      "tab_2_products_2020-04-10.csv.zip: Skipping, found more recently modified local copy (use --force to force download)\n",
      "tab_2_products_2020-04-30.csv.zip: Skipping, found more recently modified local copy (use --force to force download)\n",
      "tab_2_products_2020-04-20.csv.zip: Skipping, found more recently modified local copy (use --force to force download)\n",
      "tab_2_products_2020-05-10.csv.zip: Skipping, found more recently modified local copy (use --force to force download)\n",
      "tab_2_products_2020-05-30.csv.zip: Skipping, found more recently modified local copy (use --force to force download)\n",
      "tab_2_products_2020-05-20.csv.zip: Skipping, found more recently modified local copy (use --force to force download)\n",
      "tab_2_products_2020-01-11.csv.zip: Skipping, found more recently modified local copy (use --force to force download)\n",
      "tab_2_products_2020-03-21.csv.zip: Skipping, found more recently modified local copy (use --force to force download)\n",
      "tab_2_products_2020-01-21.csv.zip: Skipping, found more recently modified local copy (use --force to force download)\n",
      "tab_2_products_2020-01-01.csv.zip: Skipping, found more recently modified local copy (use --force to force download)\n",
      "tab_2_products_2020-03-31.csv.zip: Skipping, found more recently modified local copy (use --force to force download)\n",
      "tab_2_products_2020-01-31.csv.zip: Skipping, found more recently modified local copy (use --force to force download)\n",
      "tab_2_products_2020-02-10.csv.zip: Skipping, found more recently modified local copy (use --force to force download)\n",
      "tab_2_products_2020-03-01.csv.zip: Skipping, found more recently modified local copy (use --force to force download)\n",
      "tab_2_products_2020-02-20.csv.zip: Skipping, found more recently modified local copy (use --force to force download)\n",
      "tab_2_products_2020-03-11.csv.zip: Skipping, found more recently modified local copy (use --force to force download)\n",
      "tab_5_product_properties.csv.zip: Skipping, found more recently modified local copy (use --force to force download)\n",
      "tab_3_categories.csv: Skipping, found more recently modified local copy (use --force to force download)\n",
      "tab_4_user_profiles.csv.zip: Skipping, found more recently modified local copy (use --force to force download)\n",
      "tab_1_orders.csv.zip: Skipping, found more recently modified local copy (use --force to force download)\n",
      "sample_submission.csv.zip: Skipping, found more recently modified local copy (use --force to force download)\n",
      "tab_6_city.csv: Skipping, found more recently modified local copy (use --force to force download)\n"
     ]
    }
   ],
   "source": [
    "!mkdir -p ~/.kaggle\n",
    "!cp kaggle.json ~/.kaggle/\n",
    "\n",
    "!chmod 600 ~/.kaggle/kaggle.json\n",
    "!kaggle competitions download -c test-recsys"
   ]
  },
  {
   "cell_type": "code",
   "execution_count": 4,
   "metadata": {
    "colab": {
     "base_uri": "https://localhost:8080/",
     "height": 34
    },
    "id": "Og88YzMJO3g9",
    "outputId": "704952ff-3e37-43a3-dd5c-2465bc741a8f"
   },
   "outputs": [
    {
     "name": "stdout",
     "output_type": "stream",
     "text": [
      "Done\n"
     ]
    }
   ],
   "source": [
    "from zipfile import ZipFile\n",
    "\n",
    "file_name = \"sample_submission.csv.zip\"\n",
    "\n",
    "with ZipFile(file_name, 'r') as zip:\n",
    "  zip.extractall()\n",
    "  print('Done')"
   ]
  },
  {
   "cell_type": "code",
   "execution_count": 5,
   "metadata": {
    "ExecuteTime": {
     "end_time": "2020-10-10T14:22:23.887050Z",
     "start_time": "2020-10-10T14:22:23.883919Z"
    },
    "id": "f5dcqgpjOmP2"
   },
   "outputs": [],
   "source": [
    "DATA_PATH = \"data\""
   ]
  },
  {
   "cell_type": "code",
   "execution_count": 6,
   "metadata": {
    "ExecuteTime": {
     "end_time": "2020-10-10T14:22:24.821756Z",
     "start_time": "2020-10-10T14:22:23.889047Z"
    },
    "id": "rtvyDpRJOmP6"
   },
   "outputs": [],
   "source": [
    "# Imports\n",
    "import pandas as pd\n",
    "import numpy as np\n",
    "import datetime \n",
    "from pathlib import Path\n",
    "from tqdm.notebook import tqdm\n",
    "import os\n",
    "\n",
    "%matplotlib inline "
   ]
  },
  {
   "cell_type": "code",
   "execution_count": 7,
   "metadata": {
    "ExecuteTime": {
     "end_time": "2020-10-10T14:22:25.482024Z",
     "start_time": "2020-10-10T14:22:24.823592Z"
    },
    "colab": {
     "base_uri": "https://localhost:8080/",
     "height": 153
    },
    "id": "lSVw_jRlOmP9",
    "outputId": "dfe36912-b21a-4549-c359-02b03b7ca2b1"
   },
   "outputs": [
    {
     "name": "stdout",
     "output_type": "stream",
     "text": [
      "Unique test users: 107068\n"
     ]
    },
    {
     "data": {
      "text/html": [
       "<div>\n",
       "<style scoped>\n",
       "    .dataframe tbody tr th:only-of-type {\n",
       "        vertical-align: middle;\n",
       "    }\n",
       "\n",
       "    .dataframe tbody tr th {\n",
       "        vertical-align: top;\n",
       "    }\n",
       "\n",
       "    .dataframe thead th {\n",
       "        text-align: right;\n",
       "    }\n",
       "</style>\n",
       "<table border=\"1\" class=\"dataframe\">\n",
       "  <thead>\n",
       "    <tr style=\"text-align: right;\">\n",
       "      <th></th>\n",
       "      <th>Id</th>\n",
       "      <th>Predicted</th>\n",
       "    </tr>\n",
       "  </thead>\n",
       "  <tbody>\n",
       "    <tr>\n",
       "      <th>0</th>\n",
       "      <td>51</td>\n",
       "      <td>3239211 10720024 8493844 1965540 5009002 95218...</td>\n",
       "    </tr>\n",
       "    <tr>\n",
       "      <th>1</th>\n",
       "      <td>65</td>\n",
       "      <td>11693356 13392267 2464515 2245175 4748570 1134...</td>\n",
       "    </tr>\n",
       "    <tr>\n",
       "      <th>2</th>\n",
       "      <td>766</td>\n",
       "      <td>12773054 3692749 12726751 10041624 11893515 23...</td>\n",
       "    </tr>\n",
       "  </tbody>\n",
       "</table>\n",
       "</div>"
      ],
      "text/plain": [
       "    Id                                          Predicted\n",
       "0   51  3239211 10720024 8493844 1965540 5009002 95218...\n",
       "1   65  11693356 13392267 2464515 2245175 4748570 1134...\n",
       "2  766  12773054 3692749 12726751 10041624 11893515 23..."
      ]
     },
     "execution_count": 7,
     "metadata": {
      "tags": []
     },
     "output_type": "execute_result"
    }
   ],
   "source": [
    "submission_df = pd.read_csv( \"sample_submission.csv\")\n",
    "test_user_ids = submission_df.Id\n",
    "print(\"Unique test users:\", test_user_ids.nunique())\n",
    "submission_df.head(3)"
   ]
  },
  {
   "cell_type": "code",
   "execution_count": 8,
   "metadata": {
    "ExecuteTime": {
     "end_time": "2020-10-10T14:22:25.497322Z",
     "start_time": "2020-10-10T14:22:25.486539Z"
    },
    "id": "Om51JbcKOmQC"
   },
   "outputs": [],
   "source": [
    "def replace_date(date_str):\n",
    "    if len(date_str) < 8:\n",
    "        return '2020-10-09'\n",
    "    else:\n",
    "        return date_str\n",
    "\n",
    "def str2date(date_str):\n",
    "    try:\n",
    "        date = datetime.datetime.strptime(date_str, '%Y-%m-%d')\n",
    "    except:\n",
    "        date = datetime.datetime.strptime(date_str, '%d.%m.%Y')\n",
    "    return date\n",
    "\n",
    "def calculate_age(born):\n",
    "    today = datetime.date.today()\n",
    "    age = today.year - born.year - ((today.month, today.day) < (born.month, born.day))\n",
    "    if age < 10 or age > 70:\n",
    "        age = 0\n",
    "    return age"
   ]
  },
  {
   "cell_type": "code",
   "execution_count": 9,
   "metadata": {
    "colab": {
     "base_uri": "https://localhost:8080/",
     "height": 34
    },
    "id": "1xTTpiGBQTvZ",
    "outputId": "9ec70b23-b9e1-4dc3-d8d2-a4da24615e99"
   },
   "outputs": [
    {
     "name": "stdout",
     "output_type": "stream",
     "text": [
      "Done\n"
     ]
    }
   ],
   "source": [
    "from zipfile import ZipFile\n",
    "\n",
    "file_name = \"tab_4_user_profiles.csv.zip\"\n",
    "\n",
    "with ZipFile(file_name, 'r') as zip:\n",
    "  zip.extractall()\n",
    "  print('Done')"
   ]
  },
  {
   "cell_type": "code",
   "execution_count": 10,
   "metadata": {
    "ExecuteTime": {
     "end_time": "2020-10-10T14:22:26.132847Z",
     "start_time": "2020-10-10T14:22:25.799909Z"
    },
    "colab": {
     "base_uri": "https://localhost:8080/",
     "height": 262
    },
    "id": "j6o3Ts6nOmQG",
    "outputId": "0ae34012-6c39-4619-cdbc-473fe74805a8"
   },
   "outputs": [
    {
     "name": "stdout",
     "output_type": "stream",
     "text": [
      "Users in original file 438867, unique 436927, diff 1940\n",
      "After filtering 20764, unique 20412, diff 352\n",
      "After droping duplicates and NaN's 8254, unique 8254, diff 0\n",
      "Sanity check. Should be same as previous 8254, unique 8254, diff 0\n"
     ]
    },
    {
     "data": {
      "text/html": [
       "<div>\n",
       "<style scoped>\n",
       "    .dataframe tbody tr th:only-of-type {\n",
       "        vertical-align: middle;\n",
       "    }\n",
       "\n",
       "    .dataframe tbody tr th {\n",
       "        vertical-align: top;\n",
       "    }\n",
       "\n",
       "    .dataframe thead th {\n",
       "        text-align: right;\n",
       "    }\n",
       "</style>\n",
       "<table border=\"1\" class=\"dataframe\">\n",
       "  <thead>\n",
       "    <tr style=\"text-align: right;\">\n",
       "      <th></th>\n",
       "      <th>user_id</th>\n",
       "      <th>gender</th>\n",
       "      <th>age</th>\n",
       "    </tr>\n",
       "  </thead>\n",
       "  <tbody>\n",
       "    <tr>\n",
       "      <th>10</th>\n",
       "      <td>1288925</td>\n",
       "      <td>1</td>\n",
       "      <td>38</td>\n",
       "    </tr>\n",
       "    <tr>\n",
       "      <th>43</th>\n",
       "      <td>1780454</td>\n",
       "      <td>0</td>\n",
       "      <td>0</td>\n",
       "    </tr>\n",
       "    <tr>\n",
       "      <th>48</th>\n",
       "      <td>534410</td>\n",
       "      <td>0</td>\n",
       "      <td>29</td>\n",
       "    </tr>\n",
       "    <tr>\n",
       "      <th>73</th>\n",
       "      <td>1050790</td>\n",
       "      <td>0</td>\n",
       "      <td>33</td>\n",
       "    </tr>\n",
       "    <tr>\n",
       "      <th>85</th>\n",
       "      <td>2119485</td>\n",
       "      <td>0</td>\n",
       "      <td>28</td>\n",
       "    </tr>\n",
       "  </tbody>\n",
       "</table>\n",
       "</div>"
      ],
      "text/plain": [
       "    user_id  gender  age\n",
       "10  1288925       1   38\n",
       "43  1780454       0    0\n",
       "48   534410       0   29\n",
       "73  1050790       0   33\n",
       "85  2119485       0   28"
      ]
     },
     "execution_count": 10,
     "metadata": {
      "tags": []
     },
     "output_type": "execute_result"
    }
   ],
   "source": [
    "## Preprocess Users\n",
    "user_df = pd.read_csv(\"tab_4_user_profiles.csv\")\n",
    "\n",
    "uniq = user_df.user_id.nunique()\n",
    "print(\n",
    "    f\"Users in original file {len(user_df)}, unique {uniq}, diff {len(user_df) - uniq}\")\n",
    "\n",
    "# Filter users not in test\n",
    "user_df = user_df[user_df.user_id.isin(test_user_ids)]\n",
    "uniq = user_df.user_id.nunique()\n",
    "print(f\"After filtering {len(user_df)}, unique {uniq}, diff {len(user_df) - uniq}\")\n",
    "\n",
    "# Drop duplicates (352 / ~2% of the data)\n",
    "user_df.drop_duplicates(\"user_id\", inplace=True)\n",
    "\n",
    "# Drop NaNs\n",
    "user_df.dropna(inplace=True)\n",
    "uniq = user_df.user_id.nunique()\n",
    "print(f\"After droping duplicates and NaN's {len(user_df)}, unique {uniq}, diff {len(user_df) - uniq}\")\n",
    "\n",
    "\n",
    "# Replace incorrect dates\n",
    "user_df.bdate = user_df.bdate.map(lambda x: replace_date(x))\n",
    "# Convert all dates to datetime object\n",
    "user_df.bdate = user_df.bdate.map(lambda x: str2date(x))\n",
    "# Add new column with age\n",
    "user_df[\"age\"] = user_df.bdate.map(lambda x: calculate_age(x))\n",
    "# Drop bdate column\n",
    "user_df.drop(columns=\"bdate\", inplace=True)\n",
    "# Label code column\n",
    "user_df.gender = user_df.gender.astype('category').cat.codes\n",
    "\n",
    "print(f\"Sanity check. Should be same as previous {len(user_df)}, unique {uniq}, diff {len(user_df) - uniq}\")\n",
    "user_df.head()"
   ]
  },
  {
   "cell_type": "code",
   "execution_count": 11,
   "metadata": {
    "ExecuteTime": {
     "end_time": "2020-10-10T14:22:27.326619Z",
     "start_time": "2020-10-10T14:22:27.094725Z"
    },
    "colab": {
     "base_uri": "https://localhost:8080/",
     "height": 282
    },
    "id": "XBVb1kDEOmQK",
    "outputId": "ad6aea61-aca2-4568-8e7a-d3db1ec4773f"
   },
   "outputs": [
    {
     "data": {
      "text/plain": [
       "<matplotlib.axes._subplots.AxesSubplot at 0x7f3d9b51f128>"
      ]
     },
     "execution_count": 11,
     "metadata": {
      "tags": []
     },
     "output_type": "execute_result"
    },
    {
     "data": {
      "image/png": "[encoded data removed]",
      "text/plain": [
       "<Figure size 432x288 with 1 Axes>"
      ]
     },
     "metadata": {
      "needs_background": "light",
      "tags": []
     },
     "output_type": "display_data"
    }
   ],
   "source": [
    "user_df.age.hist()"
   ]
  },
  {
   "cell_type": "code",
   "execution_count": 12,
   "metadata": {
    "ExecuteTime": {
     "end_time": "2020-10-10T14:22:27.548308Z",
     "start_time": "2020-10-10T14:22:27.537812Z"
    },
    "colab": {
     "base_uri": "https://localhost:8080/",
     "height": 136
    },
    "id": "Z_cEd1afOmQO",
    "outputId": "372b8b48-aeac-4f25-c796-11fe156e179d"
   },
   "outputs": [
    {
     "data": {
      "text/html": [
       "<div>\n",
       "<style scoped>\n",
       "    .dataframe tbody tr th:only-of-type {\n",
       "        vertical-align: middle;\n",
       "    }\n",
       "\n",
       "    .dataframe tbody tr th {\n",
       "        vertical-align: top;\n",
       "    }\n",
       "\n",
       "    .dataframe thead th {\n",
       "        text-align: right;\n",
       "    }\n",
       "</style>\n",
       "<table border=\"1\" class=\"dataframe\">\n",
       "  <thead>\n",
       "    <tr style=\"text-align: right;\">\n",
       "      <th></th>\n",
       "      <th>store_id</th>\n",
       "      <th>city_name</th>\n",
       "    </tr>\n",
       "  </thead>\n",
       "  <tbody>\n",
       "    <tr>\n",
       "      <th>0</th>\n",
       "      <td>14</td>\n",
       "      <td>45</td>\n",
       "    </tr>\n",
       "    <tr>\n",
       "      <th>1</th>\n",
       "      <td>21</td>\n",
       "      <td>45</td>\n",
       "    </tr>\n",
       "    <tr>\n",
       "      <th>2</th>\n",
       "      <td>1</td>\n",
       "      <td>45</td>\n",
       "    </tr>\n",
       "  </tbody>\n",
       "</table>\n",
       "</div>"
      ],
      "text/plain": [
       "   store_id  city_name\n",
       "0        14         45\n",
       "1        21         45\n",
       "2         1         45"
      ]
     },
     "execution_count": 12,
     "metadata": {
      "tags": []
     },
     "output_type": "execute_result"
    }
   ],
   "source": [
    "## Preprocess Citys\n",
    "city_df = pd.read_csv( \"tab_6_city.csv\")\n",
    "city_df.city_name = city_df.city_name.astype('category').cat.codes\n",
    "city_df.head(3)"
   ]
  },
  {
   "cell_type": "code",
   "execution_count": 13,
   "metadata": {
    "colab": {
     "base_uri": "https://localhost:8080/",
     "height": 34
    },
    "id": "ReujZqrgQsLl",
    "outputId": "0a073232-6ee3-4bf5-9229-6afacc1bdb24"
   },
   "outputs": [
    {
     "name": "stdout",
     "output_type": "stream",
     "text": [
      "Done\n"
     ]
    }
   ],
   "source": [
    "from zipfile import ZipFile\n",
    "\n",
    "file_name = \"tab_1_orders.csv.zip\"\n",
    "\n",
    "with ZipFile(file_name, 'r') as zip:\n",
    "  zip.extractall()\n",
    "  print('Done')"
   ]
  },
  {
   "cell_type": "code",
   "execution_count": 14,
   "metadata": {
    "ExecuteTime": {
     "end_time": "2020-10-10T14:22:32.808323Z",
     "start_time": "2020-10-10T14:22:28.517954Z"
    },
    "colab": {
     "base_uri": "https://localhost:8080/",
     "height": 262
    },
    "id": "MFZhicJ3OmQS",
    "outputId": "29f7dbe5-bd6c-4b07-d1df-8ee1c6476b1e"
   },
   "outputs": [
    {
     "name": "stdout",
     "output_type": "stream",
     "text": [
      "Rows in original file 2461958, unique 2426955, diff 35003\n",
      "After filtering 967345, unique 953436, diff 13909\n",
      "After dropping duplicates 967340, unique 953436, diff 13904\n",
      "Sanity check. Should be same as previous 967340, unique 953436, diff 13904\n"
     ]
    },
    {
     "data": {
      "text/html": [
       "<div>\n",
       "<style scoped>\n",
       "    .dataframe tbody tr th:only-of-type {\n",
       "        vertical-align: middle;\n",
       "    }\n",
       "\n",
       "    .dataframe tbody tr th {\n",
       "        vertical-align: top;\n",
       "    }\n",
       "\n",
       "    .dataframe thead th {\n",
       "        text-align: right;\n",
       "    }\n",
       "</style>\n",
       "<table border=\"1\" class=\"dataframe\">\n",
       "  <thead>\n",
       "    <tr style=\"text-align: right;\">\n",
       "      <th></th>\n",
       "      <th>user_id</th>\n",
       "      <th>store_id</th>\n",
       "      <th>order_id</th>\n",
       "      <th>order_created_time</th>\n",
       "      <th>retailer</th>\n",
       "      <th>platform</th>\n",
       "      <th>city_name</th>\n",
       "      <th>gender</th>\n",
       "      <th>age</th>\n",
       "    </tr>\n",
       "  </thead>\n",
       "  <tbody>\n",
       "    <tr>\n",
       "      <th>0</th>\n",
       "      <td>187</td>\n",
       "      <td>533</td>\n",
       "      <td>15952443</td>\n",
       "      <td>2020-09-01 17:34:00</td>\n",
       "      <td>16</td>\n",
       "      <td>0</td>\n",
       "      <td>45</td>\n",
       "      <td>NaN</td>\n",
       "      <td>NaN</td>\n",
       "    </tr>\n",
       "    <tr>\n",
       "      <th>1</th>\n",
       "      <td>400</td>\n",
       "      <td>11</td>\n",
       "      <td>11911561</td>\n",
       "      <td>2020-06-13 13:26:03</td>\n",
       "      <td>2</td>\n",
       "      <td>0</td>\n",
       "      <td>45</td>\n",
       "      <td>NaN</td>\n",
       "      <td>NaN</td>\n",
       "    </tr>\n",
       "    <tr>\n",
       "      <th>2</th>\n",
       "      <td>400</td>\n",
       "      <td>11</td>\n",
       "      <td>11922112</td>\n",
       "      <td>2020-06-13 16:30:57</td>\n",
       "      <td>2</td>\n",
       "      <td>0</td>\n",
       "      <td>45</td>\n",
       "      <td>NaN</td>\n",
       "      <td>NaN</td>\n",
       "    </tr>\n",
       "    <tr>\n",
       "      <th>3</th>\n",
       "      <td>400</td>\n",
       "      <td>11</td>\n",
       "      <td>12264981</td>\n",
       "      <td>2020-06-19 11:57:25</td>\n",
       "      <td>2</td>\n",
       "      <td>0</td>\n",
       "      <td>45</td>\n",
       "      <td>NaN</td>\n",
       "      <td>NaN</td>\n",
       "    </tr>\n",
       "    <tr>\n",
       "      <th>4</th>\n",
       "      <td>400</td>\n",
       "      <td>11</td>\n",
       "      <td>12749996</td>\n",
       "      <td>2020-06-29 19:14:42</td>\n",
       "      <td>2</td>\n",
       "      <td>0</td>\n",
       "      <td>45</td>\n",
       "      <td>NaN</td>\n",
       "      <td>NaN</td>\n",
       "    </tr>\n",
       "  </tbody>\n",
       "</table>\n",
       "</div>"
      ],
      "text/plain": [
       "   user_id  store_id  order_id  ... city_name  gender  age\n",
       "0      187       533  15952443  ...        45     NaN  NaN\n",
       "1      400        11  11911561  ...        45     NaN  NaN\n",
       "2      400        11  11922112  ...        45     NaN  NaN\n",
       "3      400        11  12264981  ...        45     NaN  NaN\n",
       "4      400        11  12749996  ...        45     NaN  NaN\n",
       "\n",
       "[5 rows x 9 columns]"
      ]
     },
     "execution_count": 14,
     "metadata": {
      "tags": []
     },
     "output_type": "execute_result"
    }
   ],
   "source": [
    "# diff is because correct primary key is [order_id, store_id]\n",
    "\n",
    "## Preprocess Orders\n",
    "orders_df = pd.read_csv(\"tab_1_orders.csv\")\n",
    "uniq = orders_df.order_id.nunique()\n",
    "print(f\"Rows in original file {len(orders_df)}, unique {uniq}, diff {len(orders_df) - uniq}\")\n",
    "# Filter orders only from test users\n",
    "orders_df = orders_df[orders_df.user_id.isin(test_user_ids)]\n",
    "uniq = orders_df.order_id.nunique()\n",
    "print(f\"After filtering {len(orders_df)}, unique {uniq}, diff {len(orders_df) - uniq}\")\n",
    "\n",
    "# Drop duplicates\n",
    "orders_df.drop_duplicates([\"order_id\", \"store_id\"], inplace=True)\n",
    "uniq = orders_df.order_id.nunique()\n",
    "print(f\"After dropping duplicates {len(orders_df)}, unique {uniq}, diff {len(orders_df) - uniq}\")\n",
    "\n",
    "# Label code columns\n",
    "orders_df.retailer = orders_df.retailer.astype('category').cat.codes\n",
    "orders_df.platform = orders_df.platform.astype('category').cat.codes\n",
    "\n",
    "# Merge city data\n",
    "orders_df = orders_df.set_index('store_id').join(city_df.set_index('store_id'))\n",
    "orders_df.reset_index(inplace=True)\n",
    "# # Merge user data\n",
    "orders_df = orders_df.set_index('user_id').join(user_df.set_index('user_id'))\n",
    "orders_df.reset_index(inplace=True)\n",
    "\n",
    "uniq = orders_df.order_id.nunique()\n",
    "print(f\"Sanity check. Should be same as previous {len(orders_df)}, unique {uniq}, diff {len(orders_df) - uniq}\")\n",
    "orders_df.head()"
   ]
  },
  {
   "cell_type": "code",
   "execution_count": 15,
   "metadata": {
    "ExecuteTime": {
     "end_time": "2020-10-10T14:22:51.877510Z",
     "start_time": "2020-10-10T14:22:32.810872Z"
    },
    "id": "98V2R1kGOmQW"
   },
   "outputs": [],
   "source": [
    "# Add new feature\n",
    "orders_df['order_created_time'] = pd.to_datetime(orders_df['order_created_time'])\n",
    "tmp = orders_df.drop_duplicates([\"order_id\"]).sort_values(by=[\"user_id\", \"order_id\", \"order_created_time\"])\n",
    "tmp['day_since_prior_order'] = tmp.groupby(['user_id'])['order_created_time'].diff().dt.days.fillna(-1)\n",
    "orders_df = orders_df.merge(tmp[[\"order_id\", \"day_since_prior_order\"]])"
   ]
  },
  {
   "cell_type": "code",
   "execution_count": 16,
   "metadata": {
    "ExecuteTime": {
     "end_time": "2020-10-10T14:22:52.029834Z",
     "start_time": "2020-10-10T14:22:51.879002Z"
    },
    "colab": {
     "base_uri": "https://localhost:8080/",
     "height": 282
    },
    "id": "5GZQ7UuEOmQZ",
    "outputId": "a91c39db-dde0-4a34-9380-a4430f3f5643"
   },
   "outputs": [
    {
     "data": {
      "text/plain": [
       "<matplotlib.axes._subplots.AxesSubplot at 0x7f3d9b4a48d0>"
      ]
     },
     "execution_count": 16,
     "metadata": {
      "tags": []
     },
     "output_type": "execute_result"
    },
    {
     "data": {
      "image/png": "[encoded data removed]",
      "text/plain": [
       "<Figure size 432x288 with 1 Axes>"
      ]
     },
     "metadata": {
      "needs_background": "light",
      "tags": []
     },
     "output_type": "display_data"
    }
   ],
   "source": [
    "orders_df.city_name.hist()"
   ]
  },
  {
   "cell_type": "code",
   "execution_count": 17,
   "metadata": {
    "ExecuteTime": {
     "end_time": "2020-10-10T14:25:11.728842Z",
     "start_time": "2020-10-10T14:22:52.031658Z"
    },
    "colab": {
     "base_uri": "https://localhost:8080/",
     "height": 66,
     "referenced_widgets": [
      "df9eefdaf1eb4bfdb115f6840b609110",
      "fadd61a123c74b8cb034408eda660abf",
      "ce0ecf65a4724de79e27a2b82bd99814",
      "8d6bff5c9b2649c097c3efcbc8198d73",
      "3b63bc25ae5b4c0687c91ae74f27348c",
      "41c32308f47a4f20a3544ca527403256",
      "74d71060a17b4870be018a7dcf946c05",
      "3b5914fcc4ef4e9d95c8f807a51e1bd5"
     ]
    },
    "id": "IVnxpHWROmQc",
    "outputId": "3bcc28a0-8b5e-481b-e74e-7efa7c5057af"
   },
   "outputs": [
    {
     "data": {
      "application/vnd.jupyter.widget-view+json": {
       "model_id": "df9eefdaf1eb4bfdb115f6840b609110",
       "version_major": 2,
       "version_minor": 0
      },
      "text/plain": [
       "HBox(children=(FloatProgress(value=0.0, max=26.0), HTML(value='')))"
      ]
     },
     "metadata": {
      "tags": []
     },
     "output_type": "display_data"
    },
    {
     "name": "stdout",
     "output_type": "stream",
     "text": [
      "\n"
     ]
    }
   ],
   "source": [
    "## Preprocess Products\n",
    "import os, fnmatch\n",
    "pathes = sorted(fnmatch.filter(os.listdir('.'), 'tab_2*'))\n",
    "dfs = []\n",
    "\n",
    "for path in tqdm(pathes):\n",
    "    # Read DF\n",
    "    df = pd.read_csv(path)\n",
    "    \n",
    "    # Filter and delete users not from test\n",
    "    df = df[df.user_id.isin(test_user_ids)]\n",
    "\n",
    "    # Drop column with long desciption\n",
    "    df.drop(columns=[\"product_name\"], inplace=True)\n",
    "    \n",
    "    # Label code column\n",
    "    df.brand_name = df.brand_name.astype('category').cat.codes\n",
    "    \n",
    "    # Fill NaNs in one column\n",
    "    df.master_category_id.fillna(-1, inplace=True)\n",
    "    dfs.append(df)"
   ]
  },
  {
   "cell_type": "code",
   "execution_count": 18,
   "metadata": {
    "ExecuteTime": {
     "end_time": "2020-10-10T14:25:15.165921Z",
     "start_time": "2020-10-10T14:25:11.730887Z"
    },
    "colab": {
     "base_uri": "https://localhost:8080/",
     "height": 50
    },
    "id": "_ywQCAUgOmQf",
    "outputId": "6622f19a-fe0a-4e74-f678-5c6e2b99ee1b"
   },
   "outputs": [
    {
     "name": "stdout",
     "output_type": "stream",
     "text": [
      "Num rows in filtered products: 21677070\n",
      "Num unique products: 91994\n"
     ]
    }
   ],
   "source": [
    "products_df = pd.concat(dfs)\n",
    "print(\"Num rows in filtered products:\", len(products_df)) # 21677070\n",
    "print(\"Num unique products:\", products_df.product_id.nunique()) # 91994"
   ]
  },
  {
   "cell_type": "code",
   "execution_count": 19,
   "metadata": {
    "ExecuteTime": {
     "end_time": "2020-10-10T14:25:17.714095Z",
     "start_time": "2020-10-10T14:25:15.168882Z"
    },
    "colab": {
     "base_uri": "https://localhost:8080/",
     "height": 84
    },
    "id": "ej_zhvGqOmQi",
    "outputId": "b0432598-26d5-48a9-e330-47d98034e165"
   },
   "outputs": [
    {
     "name": "stdout",
     "output_type": "stream",
     "text": [
      "Orders: 953436, Products: 839874\n",
      "Intersection: 792285\n",
      "Union orders: 161151\n",
      "Union products: 47589\n"
     ]
    }
   ],
   "source": [
    "# Compare `orders_id`\n",
    "orders_from_orders = set(orders_df.order_id)\n",
    "orders_from_products = set(products_df.order_id)\n",
    "print(f\"Orders: {len(orders_from_orders)}, Products: {len(orders_from_products)}\")\n",
    "print(f\"Intersection: {len(orders_from_orders.intersection(orders_from_products))}\")\n",
    "print(f\"Union orders: {len(orders_from_orders.difference(orders_from_products))}\")\n",
    "print(f\"Union products: {len(orders_from_products.difference(orders_from_orders))}\")\n",
    "\n",
    "# Not for all users/orders in Products table we can find corresponding element in Orders to get additional features"
   ]
  },
  {
   "cell_type": "code",
   "execution_count": 20,
   "metadata": {
    "ExecuteTime": {
     "end_time": "2020-10-10T14:25:29.494651Z",
     "start_time": "2020-10-10T14:25:17.716038Z"
    },
    "id": "4vypwudrOmQl"
   },
   "outputs": [],
   "source": [
    "# Mean order size per user\n",
    "mean_orders = (products_df.groupby([\"user_id\", \"order_id\"])\n",
    "                         .agg({'line_item_id':'count'})\n",
    "                         .groupby(\"user_id\").mean()\n",
    "                         .rename(columns={'line_item_id':'mean_order_size'}))\n",
    "\n",
    "products_df = products_df.merge(mean_orders, on='user_id')"
   ]
  },
  {
   "cell_type": "code",
   "execution_count": 21,
   "metadata": {
    "ExecuteTime": {
     "end_time": "2020-10-10T14:25:35.025008Z",
     "start_time": "2020-10-10T14:25:29.496864Z"
    },
    "colab": {
     "base_uri": "https://localhost:8080/",
     "height": 215
    },
    "id": "MqyH85X0OmQp",
    "outputId": "0466e96c-7fc1-44b8-89bb-33990f6e76a7"
   },
   "outputs": [
    {
     "data": {
      "text/html": [
       "<div>\n",
       "<style scoped>\n",
       "    .dataframe tbody tr th:only-of-type {\n",
       "        vertical-align: middle;\n",
       "    }\n",
       "\n",
       "    .dataframe tbody tr th {\n",
       "        vertical-align: top;\n",
       "    }\n",
       "\n",
       "    .dataframe thead th {\n",
       "        text-align: right;\n",
       "    }\n",
       "</style>\n",
       "<table border=\"1\" class=\"dataframe\">\n",
       "  <thead>\n",
       "    <tr style=\"text-align: right;\">\n",
       "      <th></th>\n",
       "      <th>user_id</th>\n",
       "      <th>order_id</th>\n",
       "      <th>line_item_id</th>\n",
       "      <th>price</th>\n",
       "      <th>quantity</th>\n",
       "      <th>discount</th>\n",
       "      <th>product_id</th>\n",
       "      <th>brand_name</th>\n",
       "      <th>master_category_id</th>\n",
       "      <th>parent_category_id</th>\n",
       "      <th>mean_order_size</th>\n",
       "      <th>store_id</th>\n",
       "      <th>order_created_time</th>\n",
       "      <th>retailer</th>\n",
       "      <th>platform</th>\n",
       "      <th>city_name</th>\n",
       "      <th>gender</th>\n",
       "      <th>age</th>\n",
       "      <th>day_since_prior_order</th>\n",
       "    </tr>\n",
       "  </thead>\n",
       "  <tbody>\n",
       "    <tr>\n",
       "      <th>0</th>\n",
       "      <td>766</td>\n",
       "      <td>5395508</td>\n",
       "      <td>28998751</td>\n",
       "      <td>24.270000</td>\n",
       "      <td>3</td>\n",
       "      <td>0.000000</td>\n",
       "      <td>3069043</td>\n",
       "      <td>2260</td>\n",
       "      <td>77.0</td>\n",
       "      <td>74</td>\n",
       "      <td>19.217391</td>\n",
       "      <td>NaN</td>\n",
       "      <td>NaT</td>\n",
       "      <td>NaN</td>\n",
       "      <td>NaN</td>\n",
       "      <td>NaN</td>\n",
       "      <td>NaN</td>\n",
       "      <td>NaN</td>\n",
       "      <td>NaN</td>\n",
       "    </tr>\n",
       "    <tr>\n",
       "      <th>1</th>\n",
       "      <td>766</td>\n",
       "      <td>5395508</td>\n",
       "      <td>28998796</td>\n",
       "      <td>79.300003</td>\n",
       "      <td>3</td>\n",
       "      <td>0.000000</td>\n",
       "      <td>3041849</td>\n",
       "      <td>1856</td>\n",
       "      <td>26.0</td>\n",
       "      <td>20</td>\n",
       "      <td>19.217391</td>\n",
       "      <td>NaN</td>\n",
       "      <td>NaT</td>\n",
       "      <td>NaN</td>\n",
       "      <td>NaN</td>\n",
       "      <td>NaN</td>\n",
       "      <td>NaN</td>\n",
       "      <td>NaN</td>\n",
       "      <td>NaN</td>\n",
       "    </tr>\n",
       "    <tr>\n",
       "      <th>2</th>\n",
       "      <td>766</td>\n",
       "      <td>5395508</td>\n",
       "      <td>28999083</td>\n",
       "      <td>76.620003</td>\n",
       "      <td>5</td>\n",
       "      <td>15.070000</td>\n",
       "      <td>216</td>\n",
       "      <td>1375</td>\n",
       "      <td>607.0</td>\n",
       "      <td>20</td>\n",
       "      <td>19.217391</td>\n",
       "      <td>NaN</td>\n",
       "      <td>NaT</td>\n",
       "      <td>NaN</td>\n",
       "      <td>NaN</td>\n",
       "      <td>NaN</td>\n",
       "      <td>NaN</td>\n",
       "      <td>NaN</td>\n",
       "      <td>NaN</td>\n",
       "    </tr>\n",
       "    <tr>\n",
       "      <th>3</th>\n",
       "      <td>766</td>\n",
       "      <td>5395508</td>\n",
       "      <td>28999153</td>\n",
       "      <td>72.180000</td>\n",
       "      <td>1</td>\n",
       "      <td>19.540001</td>\n",
       "      <td>1990</td>\n",
       "      <td>1292</td>\n",
       "      <td>32.0</td>\n",
       "      <td>20</td>\n",
       "      <td>19.217391</td>\n",
       "      <td>NaN</td>\n",
       "      <td>NaT</td>\n",
       "      <td>NaN</td>\n",
       "      <td>NaN</td>\n",
       "      <td>NaN</td>\n",
       "      <td>NaN</td>\n",
       "      <td>NaN</td>\n",
       "      <td>NaN</td>\n",
       "    </tr>\n",
       "    <tr>\n",
       "      <th>4</th>\n",
       "      <td>766</td>\n",
       "      <td>5395508</td>\n",
       "      <td>28999278</td>\n",
       "      <td>142.500000</td>\n",
       "      <td>3</td>\n",
       "      <td>0.000000</td>\n",
       "      <td>3883053</td>\n",
       "      <td>1397</td>\n",
       "      <td>31.0</td>\n",
       "      <td>20</td>\n",
       "      <td>19.217391</td>\n",
       "      <td>NaN</td>\n",
       "      <td>NaT</td>\n",
       "      <td>NaN</td>\n",
       "      <td>NaN</td>\n",
       "      <td>NaN</td>\n",
       "      <td>NaN</td>\n",
       "      <td>NaN</td>\n",
       "      <td>NaN</td>\n",
       "    </tr>\n",
       "  </tbody>\n",
       "</table>\n",
       "</div>"
      ],
      "text/plain": [
       "   user_id  order_id  line_item_id  ...  gender  age  day_since_prior_order\n",
       "0      766   5395508      28998751  ...     NaN  NaN                    NaN\n",
       "1      766   5395508      28998796  ...     NaN  NaN                    NaN\n",
       "2      766   5395508      28999083  ...     NaN  NaN                    NaN\n",
       "3      766   5395508      28999153  ...     NaN  NaN                    NaN\n",
       "4      766   5395508      28999278  ...     NaN  NaN                    NaN\n",
       "\n",
       "[5 rows x 19 columns]"
      ]
     },
     "execution_count": 21,
     "metadata": {
      "tags": []
     },
     "output_type": "execute_result"
    }
   ],
   "source": [
    "# Merge Orders data\n",
    "tmp = orders_df.drop_duplicates(\"order_id\").drop(columns=\"user_id\")\n",
    "products_df = products_df.merge(tmp, how='left', on='order_id')\n",
    "products_df.head()"
   ]
  },
  {
   "cell_type": "code",
   "execution_count": 22,
   "metadata": {
    "ExecuteTime": {
     "end_time": "2020-10-10T14:27:41.682645Z",
     "start_time": "2020-10-10T14:27:41.675178Z"
    },
    "colab": {
     "base_uri": "https://localhost:8080/",
     "height": 34
    },
    "id": "rlTZ9rqYOmQt",
    "outputId": "b821732f-5463-4772-c752-20593e2f5075"
   },
   "outputs": [
    {
     "data": {
      "text/plain": [
       "21677070"
      ]
     },
     "execution_count": 22,
     "metadata": {
      "tags": []
     },
     "output_type": "execute_result"
    }
   ],
   "source": [
    "len(products_df)"
   ]
  },
  {
   "cell_type": "markdown",
   "metadata": {
    "id": "sXdvPGN6OmQw"
   },
   "source": [
    "## Convert products df into training data for logistic regression"
   ]
  },
  {
   "cell_type": "code",
   "execution_count": 22,
   "metadata": {
    "ExecuteTime": {
     "end_time": "2020-10-10T14:15:47.300647Z",
     "start_time": "2020-10-10T14:15:47.124121Z"
    },
    "id": "-gT8WhTjOmQx"
   },
   "outputs": [],
   "source": []
  },
  {
   "cell_type": "code",
   "execution_count": 23,
   "metadata": {
    "id": "_FhVSmPSOmQ0"
   },
   "outputs": [],
   "source": [
    "#     # Change data types to reduce memory footprint\n",
    "#     df.astype({\n",
    "#         'user_id': 'int32',\n",
    "#         'order_id': 'int32',\n",
    "#         'price': 'float32',\n",
    "#         'quantity': 'int32',\n",
    "#         'discount': 'float32',\n",
    "#         'product_id': 'int32',\n",
    "#         'brand_name': 'int32',\n",
    "#         'master_category_id': 'int32',\n",
    "#         'parent_category_id': 'int32'}, copy=False)"
   ]
  },
  {
   "cell_type": "code",
   "execution_count": 38,
   "metadata": {
    "ExecuteTime": {
     "end_time": "2020-10-09T21:32:58.396995Z",
     "start_time": "2020-10-09T21:32:56.989648Z"
    },
    "id": "H1EO61wjOmQ3"
   },
   "outputs": [],
   "source": [
    "ids = products_df.groupby('user_id').order_id.count().sort_values(ascending = False)[:1000].keys()"
   ]
  },
  {
   "cell_type": "code",
   "execution_count": 103,
   "metadata": {
    "colab": {
     "base_uri": "https://localhost:8080/",
     "height": 185
    },
    "id": "_4IgiAVomeUQ",
    "outputId": "89ec4edd-7432-47d9-e9af-e67b1a57db0b"
   },
   "outputs": [
    {
     "data": {
      "text/plain": [
       "['age',\n",
       " 'day_since_prior_order',\n",
       " 'user_id',\n",
       " 'store_id',\n",
       " 'gender',\n",
       " 'order_id',\n",
       " 'platform',\n",
       " 'city_name',\n",
       " 'order_created_time',\n",
       " 'retailer']"
      ]
     },
     "execution_count": 103,
     "metadata": {
      "tags": []
     },
     "output_type": "execute_result"
    }
   ],
   "source": []
  },
  {
   "cell_type": "code",
   "execution_count": 105,
   "metadata": {
    "ExecuteTime": {
     "end_time": "2020-10-09T21:33:17.683449Z",
     "start_time": "2020-10-09T21:32:58.398456Z"
    },
    "colab": {
     "base_uri": "https://localhost:8080/",
     "height": 34
    },
    "id": "AjaSNZF6OmQ9",
    "outputId": "c27b94ac-6cd7-4b11-8b35-040b0a44250e"
   },
   "outputs": [
    {
     "name": "stdout",
     "output_type": "stream",
     "text": [
      "Total: 1354723\n"
     ]
    }
   ],
   "source": [
    "# Can be slow, just wait =)\n",
    "\n",
    "merged_df = products_df[products_df.user_id.isin(ids)].merge(orders_df[orders_df.user_id.isin(ids)], \n",
    "                                                             on = list(set(orders_df.columns).intersection(products_df.columns)))\n",
    "merged_df.reset_index(inplace=True)\n",
    "print(\"Total:\", len(merged_df))"
   ]
  },
  {
   "cell_type": "code",
   "execution_count": 106,
   "metadata": {
    "ExecuteTime": {
     "end_time": "2020-10-09T21:33:17.705692Z",
     "start_time": "2020-10-09T21:33:17.685260Z"
    },
    "colab": {
     "base_uri": "https://localhost:8080/",
     "height": 215
    },
    "id": "a-hP9oNhOmRE",
    "outputId": "78a9bb85-d47e-421e-a9e4-88308afe3709"
   },
   "outputs": [
    {
     "data": {
      "text/html": [
       "<div>\n",
       "<style scoped>\n",
       "    .dataframe tbody tr th:only-of-type {\n",
       "        vertical-align: middle;\n",
       "    }\n",
       "\n",
       "    .dataframe tbody tr th {\n",
       "        vertical-align: top;\n",
       "    }\n",
       "\n",
       "    .dataframe thead th {\n",
       "        text-align: right;\n",
       "    }\n",
       "</style>\n",
       "<table border=\"1\" class=\"dataframe\">\n",
       "  <thead>\n",
       "    <tr style=\"text-align: right;\">\n",
       "      <th></th>\n",
       "      <th>index</th>\n",
       "      <th>user_id</th>\n",
       "      <th>order_id</th>\n",
       "      <th>line_item_id</th>\n",
       "      <th>price</th>\n",
       "      <th>quantity</th>\n",
       "      <th>discount</th>\n",
       "      <th>product_id</th>\n",
       "      <th>brand_name</th>\n",
       "      <th>master_category_id</th>\n",
       "      <th>parent_category_id</th>\n",
       "      <th>mean_order_size</th>\n",
       "      <th>store_id</th>\n",
       "      <th>order_created_time</th>\n",
       "      <th>retailer</th>\n",
       "      <th>platform</th>\n",
       "      <th>city_name</th>\n",
       "      <th>gender</th>\n",
       "      <th>age</th>\n",
       "      <th>day_since_prior_order</th>\n",
       "    </tr>\n",
       "  </thead>\n",
       "  <tbody>\n",
       "    <tr>\n",
       "      <th>0</th>\n",
       "      <td>0</td>\n",
       "      <td>13311</td>\n",
       "      <td>5581075</td>\n",
       "      <td>29870834</td>\n",
       "      <td>64.989998</td>\n",
       "      <td>1</td>\n",
       "      <td>40.02</td>\n",
       "      <td>22107</td>\n",
       "      <td>313</td>\n",
       "      <td>596.0</td>\n",
       "      <td>51</td>\n",
       "      <td>32.615385</td>\n",
       "      <td>2.0</td>\n",
       "      <td>2020-01-05 15:23:53</td>\n",
       "      <td>2.0</td>\n",
       "      <td>2.0</td>\n",
       "      <td>45.0</td>\n",
       "      <td>NaN</td>\n",
       "      <td>NaN</td>\n",
       "      <td>-1.0</td>\n",
       "    </tr>\n",
       "    <tr>\n",
       "      <th>1</th>\n",
       "      <td>1</td>\n",
       "      <td>13311</td>\n",
       "      <td>5581075</td>\n",
       "      <td>29870889</td>\n",
       "      <td>125.000000</td>\n",
       "      <td>3</td>\n",
       "      <td>0.00</td>\n",
       "      <td>7397</td>\n",
       "      <td>1362</td>\n",
       "      <td>223.0</td>\n",
       "      <td>221</td>\n",
       "      <td>32.615385</td>\n",
       "      <td>2.0</td>\n",
       "      <td>2020-01-05 15:23:53</td>\n",
       "      <td>2.0</td>\n",
       "      <td>2.0</td>\n",
       "      <td>45.0</td>\n",
       "      <td>NaN</td>\n",
       "      <td>NaN</td>\n",
       "      <td>-1.0</td>\n",
       "    </tr>\n",
       "    <tr>\n",
       "      <th>2</th>\n",
       "      <td>2</td>\n",
       "      <td>13311</td>\n",
       "      <td>5581075</td>\n",
       "      <td>29870901</td>\n",
       "      <td>262.100006</td>\n",
       "      <td>1</td>\n",
       "      <td>0.00</td>\n",
       "      <td>4785</td>\n",
       "      <td>1896</td>\n",
       "      <td>49.0</td>\n",
       "      <td>42</td>\n",
       "      <td>32.615385</td>\n",
       "      <td>2.0</td>\n",
       "      <td>2020-01-05 15:23:53</td>\n",
       "      <td>2.0</td>\n",
       "      <td>2.0</td>\n",
       "      <td>45.0</td>\n",
       "      <td>NaN</td>\n",
       "      <td>NaN</td>\n",
       "      <td>-1.0</td>\n",
       "    </tr>\n",
       "    <tr>\n",
       "      <th>3</th>\n",
       "      <td>3</td>\n",
       "      <td>13311</td>\n",
       "      <td>5581075</td>\n",
       "      <td>29870957</td>\n",
       "      <td>329.000000</td>\n",
       "      <td>2</td>\n",
       "      <td>371.00</td>\n",
       "      <td>6766</td>\n",
       "      <td>218</td>\n",
       "      <td>128.0</td>\n",
       "      <td>126</td>\n",
       "      <td>32.615385</td>\n",
       "      <td>2.0</td>\n",
       "      <td>2020-01-05 15:23:53</td>\n",
       "      <td>2.0</td>\n",
       "      <td>2.0</td>\n",
       "      <td>45.0</td>\n",
       "      <td>NaN</td>\n",
       "      <td>NaN</td>\n",
       "      <td>-1.0</td>\n",
       "    </tr>\n",
       "    <tr>\n",
       "      <th>4</th>\n",
       "      <td>4</td>\n",
       "      <td>13311</td>\n",
       "      <td>5581075</td>\n",
       "      <td>29870967</td>\n",
       "      <td>196.000000</td>\n",
       "      <td>1</td>\n",
       "      <td>0.00</td>\n",
       "      <td>7518</td>\n",
       "      <td>926</td>\n",
       "      <td>217.0</td>\n",
       "      <td>216</td>\n",
       "      <td>32.615385</td>\n",
       "      <td>2.0</td>\n",
       "      <td>2020-01-05 15:23:53</td>\n",
       "      <td>2.0</td>\n",
       "      <td>2.0</td>\n",
       "      <td>45.0</td>\n",
       "      <td>NaN</td>\n",
       "      <td>NaN</td>\n",
       "      <td>-1.0</td>\n",
       "    </tr>\n",
       "  </tbody>\n",
       "</table>\n",
       "</div>"
      ],
      "text/plain": [
       "   index  user_id  order_id  ...  gender  age  day_since_prior_order\n",
       "0      0    13311   5581075  ...     NaN  NaN                   -1.0\n",
       "1      1    13311   5581075  ...     NaN  NaN                   -1.0\n",
       "2      2    13311   5581075  ...     NaN  NaN                   -1.0\n",
       "3      3    13311   5581075  ...     NaN  NaN                   -1.0\n",
       "4      4    13311   5581075  ...     NaN  NaN                   -1.0\n",
       "\n",
       "[5 rows x 20 columns]"
      ]
     },
     "execution_count": 106,
     "metadata": {
      "tags": []
     },
     "output_type": "execute_result"
    }
   ],
   "source": [
    "merged_df.head()"
   ]
  },
  {
   "cell_type": "code",
   "execution_count": 107,
   "metadata": {
    "ExecuteTime": {
     "end_time": "2020-10-09T21:33:49.017760Z",
     "start_time": "2020-10-09T21:33:17.707108Z"
    },
    "id": "r6y7h01kOmRJ"
   },
   "outputs": [],
   "source": [
    "merged_df.fillna(value=-1, inplace=True)"
   ]
  },
  {
   "cell_type": "code",
   "execution_count": 108,
   "metadata": {
    "colab": {
     "base_uri": "https://localhost:8080/",
     "height": 118
    },
    "id": "eCWLmx-bgm_L",
    "outputId": "29923b6b-5e7a-443d-833c-7ac1a7a56099"
   },
   "outputs": [
    {
     "data": {
      "text/plain": [
       "Index(['index', 'user_id', 'order_id', 'line_item_id', 'price', 'quantity',\n",
       "       'discount', 'product_id', 'brand_name', 'master_category_id',\n",
       "       'parent_category_id', 'mean_order_size', 'store_id',\n",
       "       'order_created_time', 'retailer', 'platform', 'city_name', 'gender',\n",
       "       'age', 'day_since_prior_order'],\n",
       "      dtype='object')"
      ]
     },
     "execution_count": 108,
     "metadata": {
      "tags": []
     },
     "output_type": "execute_result"
    }
   ],
   "source": [
    "merged_df.columns\n",
    "\n",
    "last_order_date = merged_df.groupby('user_id').order_created_time.max()\n",
    "\n",
    "merged_df['last_order_date'] = merged_df.user_id.map(last_order_date)\n",
    "\n",
    "validate =  merged_df[merged_df.last_order_date == merged_df.order_created_time]\n",
    "train = merged_df[merged_df.last_order_date != merged_df.order_created_time]\n",
    "\n",
    "last_order_date = train.groupby('user_id').order_created_time.max()\n",
    "train['last_order_date'] = train.user_id.map(last_order_date)"
   ]
  },
  {
   "cell_type": "code",
   "execution_count": null,
   "metadata": {
    "id": "hq0I85Ekssqz"
   },
   "outputs": [],
   "source": []
  },
  {
   "cell_type": "code",
   "execution_count": null,
   "metadata": {
    "id": "tHxLwRFhssx6"
   },
   "outputs": [],
   "source": []
  },
  {
   "cell_type": "code",
   "execution_count": null,
   "metadata": {
    "id": "k40mjhE6ss13"
   },
   "outputs": [],
   "source": []
  },
  {
   "cell_type": "code",
   "execution_count": 73,
   "metadata": {
    "colab": {
     "base_uri": "https://localhost:8080/",
     "height": 215
    },
    "id": "r2Pts2ITlPmK",
    "outputId": "995599f1-7053-4bb5-ac53-afcf3dab99ed"
   },
   "outputs": [
    {
     "data": {
      "text/html": [
       "<div>\n",
       "<style scoped>\n",
       "    .dataframe tbody tr th:only-of-type {\n",
       "        vertical-align: middle;\n",
       "    }\n",
       "\n",
       "    .dataframe tbody tr th {\n",
       "        vertical-align: top;\n",
       "    }\n",
       "\n",
       "    .dataframe thead th {\n",
       "        text-align: right;\n",
       "    }\n",
       "</style>\n",
       "<table border=\"1\" class=\"dataframe\">\n",
       "  <thead>\n",
       "    <tr style=\"text-align: right;\">\n",
       "      <th></th>\n",
       "      <th>user_id</th>\n",
       "      <th>order_id</th>\n",
       "      <th>line_item_id</th>\n",
       "      <th>price</th>\n",
       "      <th>quantity</th>\n",
       "      <th>discount</th>\n",
       "      <th>product_id</th>\n",
       "      <th>brand_name</th>\n",
       "      <th>master_category_id</th>\n",
       "      <th>parent_category_id</th>\n",
       "      <th>mean_order_size</th>\n",
       "      <th>store_id</th>\n",
       "      <th>order_created_time</th>\n",
       "      <th>retailer</th>\n",
       "      <th>platform</th>\n",
       "      <th>city_name</th>\n",
       "      <th>gender</th>\n",
       "      <th>age</th>\n",
       "      <th>day_since_prior_order</th>\n",
       "    </tr>\n",
       "  </thead>\n",
       "  <tbody>\n",
       "    <tr>\n",
       "      <th>0</th>\n",
       "      <td>766</td>\n",
       "      <td>5395508</td>\n",
       "      <td>28998751</td>\n",
       "      <td>24.270000</td>\n",
       "      <td>3</td>\n",
       "      <td>0.000000</td>\n",
       "      <td>3069043</td>\n",
       "      <td>2260</td>\n",
       "      <td>77.0</td>\n",
       "      <td>74</td>\n",
       "      <td>19.217391</td>\n",
       "      <td>NaN</td>\n",
       "      <td>NaT</td>\n",
       "      <td>NaN</td>\n",
       "      <td>NaN</td>\n",
       "      <td>NaN</td>\n",
       "      <td>NaN</td>\n",
       "      <td>NaN</td>\n",
       "      <td>NaN</td>\n",
       "    </tr>\n",
       "    <tr>\n",
       "      <th>1</th>\n",
       "      <td>766</td>\n",
       "      <td>5395508</td>\n",
       "      <td>28998796</td>\n",
       "      <td>79.300003</td>\n",
       "      <td>3</td>\n",
       "      <td>0.000000</td>\n",
       "      <td>3041849</td>\n",
       "      <td>1856</td>\n",
       "      <td>26.0</td>\n",
       "      <td>20</td>\n",
       "      <td>19.217391</td>\n",
       "      <td>NaN</td>\n",
       "      <td>NaT</td>\n",
       "      <td>NaN</td>\n",
       "      <td>NaN</td>\n",
       "      <td>NaN</td>\n",
       "      <td>NaN</td>\n",
       "      <td>NaN</td>\n",
       "      <td>NaN</td>\n",
       "    </tr>\n",
       "    <tr>\n",
       "      <th>2</th>\n",
       "      <td>766</td>\n",
       "      <td>5395508</td>\n",
       "      <td>28999083</td>\n",
       "      <td>76.620003</td>\n",
       "      <td>5</td>\n",
       "      <td>15.070000</td>\n",
       "      <td>216</td>\n",
       "      <td>1375</td>\n",
       "      <td>607.0</td>\n",
       "      <td>20</td>\n",
       "      <td>19.217391</td>\n",
       "      <td>NaN</td>\n",
       "      <td>NaT</td>\n",
       "      <td>NaN</td>\n",
       "      <td>NaN</td>\n",
       "      <td>NaN</td>\n",
       "      <td>NaN</td>\n",
       "      <td>NaN</td>\n",
       "      <td>NaN</td>\n",
       "    </tr>\n",
       "    <tr>\n",
       "      <th>3</th>\n",
       "      <td>766</td>\n",
       "      <td>5395508</td>\n",
       "      <td>28999153</td>\n",
       "      <td>72.180000</td>\n",
       "      <td>1</td>\n",
       "      <td>19.540001</td>\n",
       "      <td>1990</td>\n",
       "      <td>1292</td>\n",
       "      <td>32.0</td>\n",
       "      <td>20</td>\n",
       "      <td>19.217391</td>\n",
       "      <td>NaN</td>\n",
       "      <td>NaT</td>\n",
       "      <td>NaN</td>\n",
       "      <td>NaN</td>\n",
       "      <td>NaN</td>\n",
       "      <td>NaN</td>\n",
       "      <td>NaN</td>\n",
       "      <td>NaN</td>\n",
       "    </tr>\n",
       "    <tr>\n",
       "      <th>4</th>\n",
       "      <td>766</td>\n",
       "      <td>5395508</td>\n",
       "      <td>28999278</td>\n",
       "      <td>142.500000</td>\n",
       "      <td>3</td>\n",
       "      <td>0.000000</td>\n",
       "      <td>3883053</td>\n",
       "      <td>1397</td>\n",
       "      <td>31.0</td>\n",
       "      <td>20</td>\n",
       "      <td>19.217391</td>\n",
       "      <td>NaN</td>\n",
       "      <td>NaT</td>\n",
       "      <td>NaN</td>\n",
       "      <td>NaN</td>\n",
       "      <td>NaN</td>\n",
       "      <td>NaN</td>\n",
       "      <td>NaN</td>\n",
       "      <td>NaN</td>\n",
       "    </tr>\n",
       "  </tbody>\n",
       "</table>\n",
       "</div>"
      ],
      "text/plain": [
       "   user_id  order_id  line_item_id  ...  gender  age  day_since_prior_order\n",
       "0      766   5395508      28998751  ...     NaN  NaN                    NaN\n",
       "1      766   5395508      28998796  ...     NaN  NaN                    NaN\n",
       "2      766   5395508      28999083  ...     NaN  NaN                    NaN\n",
       "3      766   5395508      28999153  ...     NaN  NaN                    NaN\n",
       "4      766   5395508      28999278  ...     NaN  NaN                    NaN\n",
       "\n",
       "[5 rows x 19 columns]"
      ]
     },
     "execution_count": 73,
     "metadata": {
      "tags": []
     },
     "output_type": "execute_result"
    }
   ],
   "source": [
    " products_df.head()"
   ]
  },
  {
   "cell_type": "code",
   "execution_count": null,
   "metadata": {
    "id": "T58QjEoIlPqU"
   },
   "outputs": [],
   "source": []
  },
  {
   "cell_type": "code",
   "execution_count": 47,
   "metadata": {
    "ExecuteTime": {
     "end_time": "2020-10-09T21:33:51.824627Z",
     "start_time": "2020-10-09T21:33:49.027409Z"
    },
    "colab": {
     "base_uri": "https://localhost:8080/",
     "height": 86
    },
    "id": "nRYThp5wOmRS",
    "outputId": "cc1b6de5-4f2b-45a0-ca15-db18ff6b18b8"
   },
   "outputs": [
    {
     "data": {
      "application/vnd.google.colaboratory.intrinsic+json": {
       "type": "string"
      },
      "text/plain": [
       "\"# Change data types to reduce memory footprint\\nmerged_df = merged_df.astype({\\n    'user_id': 'int32',\\n    'order_id': 'int32',\\n    'price': 'float32',\\n    'quantity': 'int32',\\n    'discount': 'float32',\\n    'product_id': 'int32',\\n    'brand_name': 'int32',\\n    'master_category_id': 'int32',\\n    'parent_category_id': 'int32',\\n    'retailer': 'int16',\\n    'platform': 'int8',\\n    'city_name': 'int16',\\n    'gender': 'int8',\\n    'age': 'int8',\\n    }, copy=True)\""
      ]
     },
     "execution_count": 47,
     "metadata": {
      "tags": []
     },
     "output_type": "execute_result"
    }
   ],
   "source": [
    "# Change data types to reduce memory footprint\n",
    "merged_df = merged_df.astype({\n",
    "    'user_id': 'int32',\n",
    "    'order_id': 'int32',\n",
    "    'price': 'float32',\n",
    "    'quantity': 'int32',\n",
    "    'discount': 'float32',\n",
    "    'product_id': 'int32',\n",
    "    'brand_name': 'int32',\n",
    "    'master_category_id': 'int32',\n",
    "    'parent_category_id': 'int32',\n",
    "    'retailer': 'int16',\n",
    "    'platform': 'int8',\n",
    "    'city_name': 'int16',\n",
    "    'gender': 'int8',\n",
    "    'age': 'int8',\n",
    "    }, copy=True)"
   ]
  },
  {
   "cell_type": "code",
   "execution_count": null,
   "metadata": {
    "ExecuteTime": {
     "end_time": "2020-10-09T21:33:51.830999Z",
     "start_time": "2020-10-09T21:33:51.826170Z"
    },
    "id": "oN6XqEnmOmRY"
   },
   "outputs": [],
   "source": [
    "merged_df.dtypes"
   ]
  },
  {
   "cell_type": "code",
   "execution_count": null,
   "metadata": {
    "id": "ZbU3QP9qOmRd"
   },
   "outputs": [],
   "source": []
  },
  {
   "cell_type": "code",
   "execution_count": null,
   "metadata": {
    "ExecuteTime": {
     "end_time": "2020-10-09T21:43:39.254856Z",
     "start_time": "2020-10-09T21:43:39.241278Z"
    },
    "id": "yoeT3QYfOmRi"
   },
   "outputs": [],
   "source": [
    "merged_df.head()"
   ]
  },
  {
   "cell_type": "code",
   "execution_count": null,
   "metadata": {
    "ExecuteTime": {
     "end_time": "2020-10-09T21:35:21.406215Z",
     "start_time": "2020-10-09T21:33:51.832411Z"
    },
    "id": "rPvvyNVVOmRm"
   },
   "outputs": [],
   "source": [
    "merged_df.to_csv(os.path.join(DATA_PATH, \"merged_data.csv\"))"
   ]
  },
  {
   "cell_type": "code",
   "execution_count": null,
   "metadata": {
    "ExecuteTime": {
     "end_time": "2020-10-09T21:54:51.562740Z",
     "start_time": "2020-10-09T21:54:50.055196Z"
    },
    "id": "hZcMHBoSOmRp"
   },
   "outputs": [],
   "source": [
    "merged_df.product_id.value_counts()"
   ]
  },
  {
   "cell_type": "code",
   "execution_count": null,
   "metadata": {
    "id": "iDPbwO05OmRs"
   },
   "outputs": [],
   "source": []
  },
  {
   "cell_type": "code",
   "execution_count": null,
   "metadata": {
    "ExecuteTime": {
     "end_time": "2020-10-09T22:46:09.746103Z",
     "start_time": "2020-10-09T22:45:50.414587Z"
    },
    "id": "A1WZ_f20OmRw"
   },
   "outputs": [],
   "source": [
    "merged_df['count'] = 1\n",
    "df_agg = merged_df.groupby([\"user_id\", \"product_id\"]).agg({'count':sum})\n",
    "g = df_agg['count'].groupby(level=0, group_keys=False)"
   ]
  },
  {
   "cell_type": "code",
   "execution_count": null,
   "metadata": {
    "ExecuteTime": {
     "end_time": "2020-10-09T22:47:51.601331Z",
     "start_time": "2020-10-09T22:46:09.748513Z"
    },
    "id": "JqT4JBNBOmRz"
   },
   "outputs": [],
   "source": [
    "res = g.nlargest(50)\n",
    "res.reset_index(inplace=True)\n",
    "res.product_id = res.product_id.astype('str')\n",
    "submit = res.groupby('user_id')['product_id'].apply(' '.join).reset_index()\n",
    "submit.columns = [\"Id\", \"Predicted\"]\n",
    "submit.to_csv(\"my_sumbit1.csv\", index=False)"
   ]
  },
  {
   "cell_type": "code",
   "execution_count": null,
   "metadata": {
    "id": "ZlGsL2bHOmR2"
   },
   "outputs": [],
   "source": []
  }
 ],
 "metadata": {
  "accelerator": "GPU",
  "colab": {
   "name": "Merge.ipynb",
   "provenance": [],
   "toc_visible": true
  },
  "kernelspec": {
   "display_name": "Python 3",
   "language": "python",
   "name": "python3"
  },
  "language_info": {
   "codemirror_mode": {
    "name": "ipython",
    "version": 3
   },
   "file_extension": ".py",
   "mimetype": "text/x-python",
   "name": "python",
   "nbconvert_exporter": "python",
   "pygments_lexer": "ipython3",
   "version": "3.6.9"
  },
  "widgets": {
   "application/vnd.jupyter.widget-state+json": {
    "3b5914fcc4ef4e9d95c8f807a51e1bd5": {
     "model_module": "@jupyter-widgets/base",
     "model_name": "LayoutModel",
     "state": {
      "_model_module": "@jupyter-widgets/base",
      "_model_module_version": "1.2.0",
      "_model_name": "LayoutModel",
      "_view_count": null,
      "_view_module": "@jupyter-widgets/base",
      "_view_module_version": "1.2.0",
      "_view_name": "LayoutView",
      "align_content": null,
      "align_items": null,
      "align_self": null,
      "border": null,
      "bottom": null,
      "display": null,
      "flex": null,
      "flex_flow": null,
      "grid_area": null,
      "grid_auto_columns": null,
      "grid_auto_flow": null,
      "grid_auto_rows": null,
      "grid_column": null,
      "grid_gap": null,
      "grid_row": null,
      "grid_template_areas": null,
      "grid_template_columns": null,
      "grid_template_rows": null,
      "height": null,
      "justify_content": null,
      "justify_items": null,
      "left": null,
      "margin": null,
      "max_height": null,
      "max_width": null,
      "min_height": null,
      "min_width": null,
      "object_fit": null,
      "object_position": null,
      "order": null,
      "overflow": null,
      "overflow_x": null,
      "overflow_y": null,
      "padding": null,
      "right": null,
      "top": null,
      "visibility": null,
      "width": null
     }
    },
    "3b63bc25ae5b4c0687c91ae74f27348c": {
     "model_module": "@jupyter-widgets/controls",
     "model_name": "ProgressStyleModel",
     "state": {
      "_model_module": "@jupyter-widgets/controls",
      "_model_module_version": "1.5.0",
      "_model_name": "ProgressStyleModel",
      "_view_count": null,
      "_view_module": "@jupyter-widgets/base",
      "_view_module_version": "1.2.0",
      "_view_name": "StyleView",
      "bar_color": null,
      "description_width": "initial"
     }
    },
    "41c32308f47a4f20a3544ca527403256": {
     "model_module": "@jupyter-widgets/base",
     "model_name": "LayoutModel",
     "state": {
      "_model_module": "@jupyter-widgets/base",
      "_model_module_version": "1.2.0",
      "_model_name": "LayoutModel",
      "_view_count": null,
      "_view_module": "@jupyter-widgets/base",
      "_view_module_version": "1.2.0",
      "_view_name": "LayoutView",
      "align_content": null,
      "align_items": null,
      "align_self": null,
      "border": null,
      "bottom": null,
      "display": null,
      "flex": null,
      "flex_flow": null,
      "grid_area": null,
      "grid_auto_columns": null,
      "grid_auto_flow": null,
      "grid_auto_rows": null,
      "grid_column": null,
      "grid_gap": null,
      "grid_row": null,
      "grid_template_areas": null,
      "grid_template_columns": null,
      "grid_template_rows": null,
      "height": null,
      "justify_content": null,
      "justify_items": null,
      "left": null,
      "margin": null,
      "max_height": null,
      "max_width": null,
      "min_height": null,
      "min_width": null,
      "object_fit": null,
      "object_position": null,
      "order": null,
      "overflow": null,
      "overflow_x": null,
      "overflow_y": null,
      "padding": null,
      "right": null,
      "top": null,
      "visibility": null,
      "width": null
     }
    },
    "74d71060a17b4870be018a7dcf946c05": {
     "model_module": "@jupyter-widgets/controls",
     "model_name": "DescriptionStyleModel",
     "state": {
      "_model_module": "@jupyter-widgets/controls",
      "_model_module_version": "1.5.0",
      "_model_name": "DescriptionStyleModel",
      "_view_count": null,
      "_view_module": "@jupyter-widgets/base",
      "_view_module_version": "1.2.0",
      "_view_name": "StyleView",
      "description_width": ""
     }
    },
    "8d6bff5c9b2649c097c3efcbc8198d73": {
     "model_module": "@jupyter-widgets/controls",
     "model_name": "HTMLModel",
     "state": {
      "_dom_classes": [],
      "_model_module": "@jupyter-widgets/controls",
      "_model_module_version": "1.5.0",
      "_model_name": "HTMLModel",
      "_view_count": null,
      "_view_module": "@jupyter-widgets/controls",
      "_view_module_version": "1.5.0",
      "_view_name": "HTMLView",
      "description": "",
      "description_tooltip": null,
      "layout": "IPY_MODEL_3b5914fcc4ef4e9d95c8f807a51e1bd5",
      "placeholder": "​",
      "style": "IPY_MODEL_74d71060a17b4870be018a7dcf946c05",
      "value": " 26/26 [08:39&lt;00:00, 19.98s/it]"
     }
    },
    "ce0ecf65a4724de79e27a2b82bd99814": {
     "model_module": "@jupyter-widgets/controls",
     "model_name": "FloatProgressModel",
     "state": {
      "_dom_classes": [],
      "_model_module": "@jupyter-widgets/controls",
      "_model_module_version": "1.5.0",
      "_model_name": "FloatProgressModel",
      "_view_count": null,
      "_view_module": "@jupyter-widgets/controls",
      "_view_module_version": "1.5.0",
      "_view_name": "ProgressView",
      "bar_style": "success",
      "description": "100%",
      "description_tooltip": null,
      "layout": "IPY_MODEL_41c32308f47a4f20a3544ca527403256",
      "max": 26,
      "min": 0,
      "orientation": "horizontal",
      "style": "IPY_MODEL_3b63bc25ae5b4c0687c91ae74f27348c",
      "value": 26
     }
    },
    "df9eefdaf1eb4bfdb115f6840b609110": {
     "model_module": "@jupyter-widgets/controls",
     "model_name": "HBoxModel",
     "state": {
      "_dom_classes": [],
      "_model_module": "@jupyter-widgets/controls",
      "_model_module_version": "1.5.0",
      "_model_name": "HBoxModel",
      "_view_count": null,
      "_view_module": "@jupyter-widgets/controls",
      "_view_module_version": "1.5.0",
      "_view_name": "HBoxView",
      "box_style": "",
      "children": [
       "IPY_MODEL_ce0ecf65a4724de79e27a2b82bd99814",
       "IPY_MODEL_8d6bff5c9b2649c097c3efcbc8198d73"
      ],
      "layout": "IPY_MODEL_fadd61a123c74b8cb034408eda660abf"
     }
    },
    "fadd61a123c74b8cb034408eda660abf": {
     "model_module": "@jupyter-widgets/base",
     "model_name": "LayoutModel",
     "state": {
      "_model_module": "@jupyter-widgets/base",
      "_model_module_version": "1.2.0",
      "_model_name": "LayoutModel",
      "_view_count": null,
      "_view_module": "@jupyter-widgets/base",
      "_view_module_version": "1.2.0",
      "_view_name": "LayoutView",
      "align_content": null,
      "align_items": null,
      "align_self": null,
      "border": null,
      "bottom": null,
      "display": null,
      "flex": null,
      "flex_flow": null,
      "grid_area": null,
      "grid_auto_columns": null,
      "grid_auto_flow": null,
      "grid_auto_rows": null,
      "grid_column": null,
      "grid_gap": null,
      "grid_row": null,
      "grid_template_areas": null,
      "grid_template_columns": null,
      "grid_template_rows": null,
      "height": null,
      "justify_content": null,
      "justify_items": null,
      "left": null,
      "margin": null,
      "max_height": null,
      "max_width": null,
      "min_height": null,
      "min_width": null,
      "object_fit": null,
      "object_position": null,
      "order": null,
      "overflow": null,
      "overflow_x": null,
      "overflow_y": null,
      "padding": null,
      "right": null,
      "top": null,
      "visibility": null,
      "width": null
     }
    }
   }
  }
 },
 "nbformat": 4,
 "nbformat_minor": 1
}
