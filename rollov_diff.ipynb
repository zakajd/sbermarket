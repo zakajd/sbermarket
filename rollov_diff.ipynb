{
  "nbformat": 4,
  "nbformat_minor": 0,
  "metadata": {
    "colab": {
      "name": "rollov.ipynb",
      "provenance": []
    },
    "kernelspec": {
      "name": "python3",
      "display_name": "Python 3"
    },
    "widgets": {
      "application/vnd.jupyter.widget-state+json": {
        "f41539c7a1804d0e8514f6b151ef0c69": {
          "model_module": "@jupyter-widgets/controls",
          "model_name": "HBoxModel",
          "state": {
            "_view_name": "HBoxView",
            "_dom_classes": [],
            "_model_name": "HBoxModel",
            "_view_module": "@jupyter-widgets/controls",
            "_model_module_version": "1.5.0",
            "_view_count": null,
            "_view_module_version": "1.5.0",
            "box_style": "",
            "layout": "IPY_MODEL_58068dfd077f4ab59c0398c908645c7b",
            "_model_module": "@jupyter-widgets/controls",
            "children": [
              "IPY_MODEL_d3e6760cd9014fd78ffdd092e3b2916c",
              "IPY_MODEL_1eee248a740f499b89c899299a9a5391"
            ]
          }
        },
        "58068dfd077f4ab59c0398c908645c7b": {
          "model_module": "@jupyter-widgets/base",
          "model_name": "LayoutModel",
          "state": {
            "_view_name": "LayoutView",
            "grid_template_rows": null,
            "right": null,
            "justify_content": null,
            "_view_module": "@jupyter-widgets/base",
            "overflow": null,
            "_model_module_version": "1.2.0",
            "_view_count": null,
            "flex_flow": null,
            "width": null,
            "min_width": null,
            "border": null,
            "align_items": null,
            "bottom": null,
            "_model_module": "@jupyter-widgets/base",
            "top": null,
            "grid_column": null,
            "overflow_y": null,
            "overflow_x": null,
            "grid_auto_flow": null,
            "grid_area": null,
            "grid_template_columns": null,
            "flex": null,
            "_model_name": "LayoutModel",
            "justify_items": null,
            "grid_row": null,
            "max_height": null,
            "align_content": null,
            "visibility": null,
            "align_self": null,
            "height": null,
            "min_height": null,
            "padding": null,
            "grid_auto_rows": null,
            "grid_gap": null,
            "max_width": null,
            "order": null,
            "_view_module_version": "1.2.0",
            "grid_template_areas": null,
            "object_position": null,
            "object_fit": null,
            "grid_auto_columns": null,
            "margin": null,
            "display": null,
            "left": null
          }
        },
        "d3e6760cd9014fd78ffdd092e3b2916c": {
          "model_module": "@jupyter-widgets/controls",
          "model_name": "FloatProgressModel",
          "state": {
            "_view_name": "ProgressView",
            "style": "IPY_MODEL_c4645d7a8dfc44a3bb2fc26487946f56",
            "_dom_classes": [],
            "description": "",
            "_model_name": "FloatProgressModel",
            "bar_style": "success",
            "max": 1,
            "_view_module": "@jupyter-widgets/controls",
            "_model_module_version": "1.5.0",
            "value": 1,
            "_view_count": null,
            "_view_module_version": "1.5.0",
            "orientation": "horizontal",
            "min": 0,
            "description_tooltip": null,
            "_model_module": "@jupyter-widgets/controls",
            "layout": "IPY_MODEL_5a9330d35ec64edfbfb6c4a770196511"
          }
        },
        "1eee248a740f499b89c899299a9a5391": {
          "model_module": "@jupyter-widgets/controls",
          "model_name": "HTMLModel",
          "state": {
            "_view_name": "HTMLView",
            "style": "IPY_MODEL_447a601fb8d145d7b887f1ac7d031378",
            "_dom_classes": [],
            "description": "",
            "_model_name": "HTMLModel",
            "placeholder": "​",
            "_view_module": "@jupyter-widgets/controls",
            "_model_module_version": "1.5.0",
            "value": " 35054/? [48:04&lt;00:00, 12.15it/s]",
            "_view_count": null,
            "_view_module_version": "1.5.0",
            "description_tooltip": null,
            "_model_module": "@jupyter-widgets/controls",
            "layout": "IPY_MODEL_cc62170b27ab42fabe6fbebd278ef1b1"
          }
        },
        "c4645d7a8dfc44a3bb2fc26487946f56": {
          "model_module": "@jupyter-widgets/controls",
          "model_name": "ProgressStyleModel",
          "state": {
            "_view_name": "StyleView",
            "_model_name": "ProgressStyleModel",
            "description_width": "initial",
            "_view_module": "@jupyter-widgets/base",
            "_model_module_version": "1.5.0",
            "_view_count": null,
            "_view_module_version": "1.2.0",
            "bar_color": null,
            "_model_module": "@jupyter-widgets/controls"
          }
        },
        "5a9330d35ec64edfbfb6c4a770196511": {
          "model_module": "@jupyter-widgets/base",
          "model_name": "LayoutModel",
          "state": {
            "_view_name": "LayoutView",
            "grid_template_rows": null,
            "right": null,
            "justify_content": null,
            "_view_module": "@jupyter-widgets/base",
            "overflow": null,
            "_model_module_version": "1.2.0",
            "_view_count": null,
            "flex_flow": null,
            "width": null,
            "min_width": null,
            "border": null,
            "align_items": null,
            "bottom": null,
            "_model_module": "@jupyter-widgets/base",
            "top": null,
            "grid_column": null,
            "overflow_y": null,
            "overflow_x": null,
            "grid_auto_flow": null,
            "grid_area": null,
            "grid_template_columns": null,
            "flex": null,
            "_model_name": "LayoutModel",
            "justify_items": null,
            "grid_row": null,
            "max_height": null,
            "align_content": null,
            "visibility": null,
            "align_self": null,
            "height": null,
            "min_height": null,
            "padding": null,
            "grid_auto_rows": null,
            "grid_gap": null,
            "max_width": null,
            "order": null,
            "_view_module_version": "1.2.0",
            "grid_template_areas": null,
            "object_position": null,
            "object_fit": null,
            "grid_auto_columns": null,
            "margin": null,
            "display": null,
            "left": null
          }
        },
        "447a601fb8d145d7b887f1ac7d031378": {
          "model_module": "@jupyter-widgets/controls",
          "model_name": "DescriptionStyleModel",
          "state": {
            "_view_name": "StyleView",
            "_model_name": "DescriptionStyleModel",
            "description_width": "",
            "_view_module": "@jupyter-widgets/base",
            "_model_module_version": "1.5.0",
            "_view_count": null,
            "_view_module_version": "1.2.0",
            "_model_module": "@jupyter-widgets/controls"
          }
        },
        "cc62170b27ab42fabe6fbebd278ef1b1": {
          "model_module": "@jupyter-widgets/base",
          "model_name": "LayoutModel",
          "state": {
            "_view_name": "LayoutView",
            "grid_template_rows": null,
            "right": null,
            "justify_content": null,
            "_view_module": "@jupyter-widgets/base",
            "overflow": null,
            "_model_module_version": "1.2.0",
            "_view_count": null,
            "flex_flow": null,
            "width": null,
            "min_width": null,
            "border": null,
            "align_items": null,
            "bottom": null,
            "_model_module": "@jupyter-widgets/base",
            "top": null,
            "grid_column": null,
            "overflow_y": null,
            "overflow_x": null,
            "grid_auto_flow": null,
            "grid_area": null,
            "grid_template_columns": null,
            "flex": null,
            "_model_name": "LayoutModel",
            "justify_items": null,
            "grid_row": null,
            "max_height": null,
            "align_content": null,
            "visibility": null,
            "align_self": null,
            "height": null,
            "min_height": null,
            "padding": null,
            "grid_auto_rows": null,
            "grid_gap": null,
            "max_width": null,
            "order": null,
            "_view_module_version": "1.2.0",
            "grid_template_areas": null,
            "object_position": null,
            "object_fit": null,
            "grid_auto_columns": null,
            "margin": null,
            "display": null,
            "left": null
          }
        },
        "c3bdb22f87a349578171b3834102f06e": {
          "model_module": "@jupyter-widgets/controls",
          "model_name": "HBoxModel",
          "state": {
            "_view_name": "HBoxView",
            "_dom_classes": [],
            "_model_name": "HBoxModel",
            "_view_module": "@jupyter-widgets/controls",
            "_model_module_version": "1.5.0",
            "_view_count": null,
            "_view_module_version": "1.5.0",
            "box_style": "",
            "layout": "IPY_MODEL_ef9367e929134cef9b5f9206ceb56e37",
            "_model_module": "@jupyter-widgets/controls",
            "children": [
              "IPY_MODEL_95414bd8ba324d78a389f6b5ba38c0cd",
              "IPY_MODEL_cf55766fd04241b89411fbac9cae7f47"
            ]
          }
        },
        "ef9367e929134cef9b5f9206ceb56e37": {
          "model_module": "@jupyter-widgets/base",
          "model_name": "LayoutModel",
          "state": {
            "_view_name": "LayoutView",
            "grid_template_rows": null,
            "right": null,
            "justify_content": null,
            "_view_module": "@jupyter-widgets/base",
            "overflow": null,
            "_model_module_version": "1.2.0",
            "_view_count": null,
            "flex_flow": null,
            "width": null,
            "min_width": null,
            "border": null,
            "align_items": null,
            "bottom": null,
            "_model_module": "@jupyter-widgets/base",
            "top": null,
            "grid_column": null,
            "overflow_y": null,
            "overflow_x": null,
            "grid_auto_flow": null,
            "grid_area": null,
            "grid_template_columns": null,
            "flex": null,
            "_model_name": "LayoutModel",
            "justify_items": null,
            "grid_row": null,
            "max_height": null,
            "align_content": null,
            "visibility": null,
            "align_self": null,
            "height": null,
            "min_height": null,
            "padding": null,
            "grid_auto_rows": null,
            "grid_gap": null,
            "max_width": null,
            "order": null,
            "_view_module_version": "1.2.0",
            "grid_template_areas": null,
            "object_position": null,
            "object_fit": null,
            "grid_auto_columns": null,
            "margin": null,
            "display": null,
            "left": null
          }
        },
        "95414bd8ba324d78a389f6b5ba38c0cd": {
          "model_module": "@jupyter-widgets/controls",
          "model_name": "FloatProgressModel",
          "state": {
            "_view_name": "ProgressView",
            "style": "IPY_MODEL_61800ea6fa8a4210a1461ee7d6c7338e",
            "_dom_classes": [],
            "description": "100%",
            "_model_name": "FloatProgressModel",
            "bar_style": "success",
            "max": 23,
            "_view_module": "@jupyter-widgets/controls",
            "_model_module_version": "1.5.0",
            "value": 23,
            "_view_count": null,
            "_view_module_version": "1.5.0",
            "orientation": "horizontal",
            "min": 0,
            "description_tooltip": null,
            "_model_module": "@jupyter-widgets/controls",
            "layout": "IPY_MODEL_11bdd81d13fc4b678662fa6143ee0b0e"
          }
        },
        "cf55766fd04241b89411fbac9cae7f47": {
          "model_module": "@jupyter-widgets/controls",
          "model_name": "HTMLModel",
          "state": {
            "_view_name": "HTMLView",
            "style": "IPY_MODEL_6cc7aae2c28548168f4ac6fa0a5b1d74",
            "_dom_classes": [],
            "description": "",
            "_model_name": "HTMLModel",
            "placeholder": "​",
            "_view_module": "@jupyter-widgets/controls",
            "_model_module_version": "1.5.0",
            "value": " 23/23 [02:45&lt;00:00,  7.19s/it]",
            "_view_count": null,
            "_view_module_version": "1.5.0",
            "description_tooltip": null,
            "_model_module": "@jupyter-widgets/controls",
            "layout": "IPY_MODEL_b0b095e4e6b64f40aa5f6978592bb3b5"
          }
        },
        "61800ea6fa8a4210a1461ee7d6c7338e": {
          "model_module": "@jupyter-widgets/controls",
          "model_name": "ProgressStyleModel",
          "state": {
            "_view_name": "StyleView",
            "_model_name": "ProgressStyleModel",
            "description_width": "initial",
            "_view_module": "@jupyter-widgets/base",
            "_model_module_version": "1.5.0",
            "_view_count": null,
            "_view_module_version": "1.2.0",
            "bar_color": null,
            "_model_module": "@jupyter-widgets/controls"
          }
        },
        "11bdd81d13fc4b678662fa6143ee0b0e": {
          "model_module": "@jupyter-widgets/base",
          "model_name": "LayoutModel",
          "state": {
            "_view_name": "LayoutView",
            "grid_template_rows": null,
            "right": null,
            "justify_content": null,
            "_view_module": "@jupyter-widgets/base",
            "overflow": null,
            "_model_module_version": "1.2.0",
            "_view_count": null,
            "flex_flow": null,
            "width": null,
            "min_width": null,
            "border": null,
            "align_items": null,
            "bottom": null,
            "_model_module": "@jupyter-widgets/base",
            "top": null,
            "grid_column": null,
            "overflow_y": null,
            "overflow_x": null,
            "grid_auto_flow": null,
            "grid_area": null,
            "grid_template_columns": null,
            "flex": null,
            "_model_name": "LayoutModel",
            "justify_items": null,
            "grid_row": null,
            "max_height": null,
            "align_content": null,
            "visibility": null,
            "align_self": null,
            "height": null,
            "min_height": null,
            "padding": null,
            "grid_auto_rows": null,
            "grid_gap": null,
            "max_width": null,
            "order": null,
            "_view_module_version": "1.2.0",
            "grid_template_areas": null,
            "object_position": null,
            "object_fit": null,
            "grid_auto_columns": null,
            "margin": null,
            "display": null,
            "left": null
          }
        },
        "6cc7aae2c28548168f4ac6fa0a5b1d74": {
          "model_module": "@jupyter-widgets/controls",
          "model_name": "DescriptionStyleModel",
          "state": {
            "_view_name": "StyleView",
            "_model_name": "DescriptionStyleModel",
            "description_width": "",
            "_view_module": "@jupyter-widgets/base",
            "_model_module_version": "1.5.0",
            "_view_count": null,
            "_view_module_version": "1.2.0",
            "_model_module": "@jupyter-widgets/controls"
          }
        },
        "b0b095e4e6b64f40aa5f6978592bb3b5": {
          "model_module": "@jupyter-widgets/base",
          "model_name": "LayoutModel",
          "state": {
            "_view_name": "LayoutView",
            "grid_template_rows": null,
            "right": null,
            "justify_content": null,
            "_view_module": "@jupyter-widgets/base",
            "overflow": null,
            "_model_module_version": "1.2.0",
            "_view_count": null,
            "flex_flow": null,
            "width": null,
            "min_width": null,
            "border": null,
            "align_items": null,
            "bottom": null,
            "_model_module": "@jupyter-widgets/base",
            "top": null,
            "grid_column": null,
            "overflow_y": null,
            "overflow_x": null,
            "grid_auto_flow": null,
            "grid_area": null,
            "grid_template_columns": null,
            "flex": null,
            "_model_name": "LayoutModel",
            "justify_items": null,
            "grid_row": null,
            "max_height": null,
            "align_content": null,
            "visibility": null,
            "align_self": null,
            "height": null,
            "min_height": null,
            "padding": null,
            "grid_auto_rows": null,
            "grid_gap": null,
            "max_width": null,
            "order": null,
            "_view_module_version": "1.2.0",
            "grid_template_areas": null,
            "object_position": null,
            "object_fit": null,
            "grid_auto_columns": null,
            "margin": null,
            "display": null,
            "left": null
          }
        },
        "8c63eff0d8b84402a21ad337609024ad": {
          "model_module": "@jupyter-widgets/controls",
          "model_name": "HBoxModel",
          "state": {
            "_view_name": "HBoxView",
            "_dom_classes": [],
            "_model_name": "HBoxModel",
            "_view_module": "@jupyter-widgets/controls",
            "_model_module_version": "1.5.0",
            "_view_count": null,
            "_view_module_version": "1.5.0",
            "box_style": "",
            "layout": "IPY_MODEL_06b4b54526e349b182e21404f51cfafe",
            "_model_module": "@jupyter-widgets/controls",
            "children": [
              "IPY_MODEL_558cbb30ad0e47d6ab9834a94ce3005f",
              "IPY_MODEL_fda768658364428580fa059be6d04299"
            ]
          }
        },
        "06b4b54526e349b182e21404f51cfafe": {
          "model_module": "@jupyter-widgets/base",
          "model_name": "LayoutModel",
          "state": {
            "_view_name": "LayoutView",
            "grid_template_rows": null,
            "right": null,
            "justify_content": null,
            "_view_module": "@jupyter-widgets/base",
            "overflow": null,
            "_model_module_version": "1.2.0",
            "_view_count": null,
            "flex_flow": null,
            "width": null,
            "min_width": null,
            "border": null,
            "align_items": null,
            "bottom": null,
            "_model_module": "@jupyter-widgets/base",
            "top": null,
            "grid_column": null,
            "overflow_y": null,
            "overflow_x": null,
            "grid_auto_flow": null,
            "grid_area": null,
            "grid_template_columns": null,
            "flex": null,
            "_model_name": "LayoutModel",
            "justify_items": null,
            "grid_row": null,
            "max_height": null,
            "align_content": null,
            "visibility": null,
            "align_self": null,
            "height": null,
            "min_height": null,
            "padding": null,
            "grid_auto_rows": null,
            "grid_gap": null,
            "max_width": null,
            "order": null,
            "_view_module_version": "1.2.0",
            "grid_template_areas": null,
            "object_position": null,
            "object_fit": null,
            "grid_auto_columns": null,
            "margin": null,
            "display": null,
            "left": null
          }
        },
        "558cbb30ad0e47d6ab9834a94ce3005f": {
          "model_module": "@jupyter-widgets/controls",
          "model_name": "FloatProgressModel",
          "state": {
            "_view_name": "ProgressView",
            "style": "IPY_MODEL_fd7bca40fa924045af4a48c4aa1f3e7e",
            "_dom_classes": [],
            "description": "100%",
            "_model_name": "FloatProgressModel",
            "bar_style": "success",
            "max": 3,
            "_view_module": "@jupyter-widgets/controls",
            "_model_module_version": "1.5.0",
            "value": 3,
            "_view_count": null,
            "_view_module_version": "1.5.0",
            "orientation": "horizontal",
            "min": 0,
            "description_tooltip": null,
            "_model_module": "@jupyter-widgets/controls",
            "layout": "IPY_MODEL_dab2d9e910c1488ab728f30862f7cb9e"
          }
        },
        "fda768658364428580fa059be6d04299": {
          "model_module": "@jupyter-widgets/controls",
          "model_name": "HTMLModel",
          "state": {
            "_view_name": "HTMLView",
            "style": "IPY_MODEL_b7628e8d90084d6a941baa32b854fe3e",
            "_dom_classes": [],
            "description": "",
            "_model_name": "HTMLModel",
            "placeholder": "​",
            "_view_module": "@jupyter-widgets/controls",
            "_model_module_version": "1.5.0",
            "value": " 3/3 [00:40&lt;00:00, 13.57s/it]",
            "_view_count": null,
            "_view_module_version": "1.5.0",
            "description_tooltip": null,
            "_model_module": "@jupyter-widgets/controls",
            "layout": "IPY_MODEL_77a1eb81791c4d4f892cada340f43bba"
          }
        },
        "fd7bca40fa924045af4a48c4aa1f3e7e": {
          "model_module": "@jupyter-widgets/controls",
          "model_name": "ProgressStyleModel",
          "state": {
            "_view_name": "StyleView",
            "_model_name": "ProgressStyleModel",
            "description_width": "initial",
            "_view_module": "@jupyter-widgets/base",
            "_model_module_version": "1.5.0",
            "_view_count": null,
            "_view_module_version": "1.2.0",
            "bar_color": null,
            "_model_module": "@jupyter-widgets/controls"
          }
        },
        "dab2d9e910c1488ab728f30862f7cb9e": {
          "model_module": "@jupyter-widgets/base",
          "model_name": "LayoutModel",
          "state": {
            "_view_name": "LayoutView",
            "grid_template_rows": null,
            "right": null,
            "justify_content": null,
            "_view_module": "@jupyter-widgets/base",
            "overflow": null,
            "_model_module_version": "1.2.0",
            "_view_count": null,
            "flex_flow": null,
            "width": null,
            "min_width": null,
            "border": null,
            "align_items": null,
            "bottom": null,
            "_model_module": "@jupyter-widgets/base",
            "top": null,
            "grid_column": null,
            "overflow_y": null,
            "overflow_x": null,
            "grid_auto_flow": null,
            "grid_area": null,
            "grid_template_columns": null,
            "flex": null,
            "_model_name": "LayoutModel",
            "justify_items": null,
            "grid_row": null,
            "max_height": null,
            "align_content": null,
            "visibility": null,
            "align_self": null,
            "height": null,
            "min_height": null,
            "padding": null,
            "grid_auto_rows": null,
            "grid_gap": null,
            "max_width": null,
            "order": null,
            "_view_module_version": "1.2.0",
            "grid_template_areas": null,
            "object_position": null,
            "object_fit": null,
            "grid_auto_columns": null,
            "margin": null,
            "display": null,
            "left": null
          }
        },
        "b7628e8d90084d6a941baa32b854fe3e": {
          "model_module": "@jupyter-widgets/controls",
          "model_name": "DescriptionStyleModel",
          "state": {
            "_view_name": "StyleView",
            "_model_name": "DescriptionStyleModel",
            "description_width": "",
            "_view_module": "@jupyter-widgets/base",
            "_model_module_version": "1.5.0",
            "_view_count": null,
            "_view_module_version": "1.2.0",
            "_model_module": "@jupyter-widgets/controls"
          }
        },
        "77a1eb81791c4d4f892cada340f43bba": {
          "model_module": "@jupyter-widgets/base",
          "model_name": "LayoutModel",
          "state": {
            "_view_name": "LayoutView",
            "grid_template_rows": null,
            "right": null,
            "justify_content": null,
            "_view_module": "@jupyter-widgets/base",
            "overflow": null,
            "_model_module_version": "1.2.0",
            "_view_count": null,
            "flex_flow": null,
            "width": null,
            "min_width": null,
            "border": null,
            "align_items": null,
            "bottom": null,
            "_model_module": "@jupyter-widgets/base",
            "top": null,
            "grid_column": null,
            "overflow_y": null,
            "overflow_x": null,
            "grid_auto_flow": null,
            "grid_area": null,
            "grid_template_columns": null,
            "flex": null,
            "_model_name": "LayoutModel",
            "justify_items": null,
            "grid_row": null,
            "max_height": null,
            "align_content": null,
            "visibility": null,
            "align_self": null,
            "height": null,
            "min_height": null,
            "padding": null,
            "grid_auto_rows": null,
            "grid_gap": null,
            "max_width": null,
            "order": null,
            "_view_module_version": "1.2.0",
            "grid_template_areas": null,
            "object_position": null,
            "object_fit": null,
            "grid_auto_columns": null,
            "margin": null,
            "display": null,
            "left": null
          }
        }
      }
    }
  },
  "cells": [
    {
      "cell_type": "code",
      "metadata": {
        "id": "T9_dClPsDIlx"
      },
      "source": [
        ""
      ],
      "execution_count": null,
      "outputs": []
    },
    {
      "cell_type": "code",
      "metadata": {
        "id": "FcHejO1UtLeN",
        "outputId": "fe431a54-8b27-4b79-8878-74f82e468ef9",
        "colab": {
          "base_uri": "https://localhost:8080/",
          "height": 221
        }
      },
      "source": [
        "!pip install kaggle"
      ],
      "execution_count": null,
      "outputs": [
        {
          "output_type": "stream",
          "text": [
            "Requirement already satisfied: kaggle in /usr/local/lib/python3.6/dist-packages (1.5.8)\n",
            "Requirement already satisfied: python-dateutil in /usr/local/lib/python3.6/dist-packages (from kaggle) (2.8.1)\n",
            "Requirement already satisfied: certifi in /usr/local/lib/python3.6/dist-packages (from kaggle) (2020.6.20)\n",
            "Requirement already satisfied: slugify in /usr/local/lib/python3.6/dist-packages (from kaggle) (0.0.1)\n",
            "Requirement already satisfied: python-slugify in /usr/local/lib/python3.6/dist-packages (from kaggle) (4.0.1)\n",
            "Requirement already satisfied: six>=1.10 in /usr/local/lib/python3.6/dist-packages (from kaggle) (1.15.0)\n",
            "Requirement already satisfied: urllib3<1.25,>=1.21.1 in /usr/local/lib/python3.6/dist-packages (from kaggle) (1.24.3)\n",
            "Requirement already satisfied: tqdm in /usr/local/lib/python3.6/dist-packages (from kaggle) (4.41.1)\n",
            "Requirement already satisfied: requests in /usr/local/lib/python3.6/dist-packages (from kaggle) (2.23.0)\n",
            "Requirement already satisfied: text-unidecode>=1.3 in /usr/local/lib/python3.6/dist-packages (from python-slugify->kaggle) (1.3)\n",
            "Requirement already satisfied: idna<3,>=2.5 in /usr/local/lib/python3.6/dist-packages (from requests->kaggle) (2.10)\n",
            "Requirement already satisfied: chardet<4,>=3.0.2 in /usr/local/lib/python3.6/dist-packages (from requests->kaggle) (3.0.4)\n"
          ],
          "name": "stdout"
        }
      ]
    },
    {
      "cell_type": "code",
      "metadata": {
        "id": "eLM6561N1f35",
        "outputId": "5fae3fe3-b30b-4940-dee9-0050389d009d",
        "colab": {
          "resources": {
            "http://localhost:8080/nbextensions/google.colab/files.js": {
              "data": "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",
              "ok": true,
              "headers": [
                [
                  "content-type",
                  "application/javascript"
                ]
              ],
              "status": 200,
              "status_text": ""
            }
          },
          "base_uri": "https://localhost:8080/",
          "height": 89
        }
      },
      "source": [
        "from google.colab import files\n",
        "files.upload()"
      ],
      "execution_count": 1,
      "outputs": [
        {
          "output_type": "display_data",
          "data": {
            "text/html": [
              "\n",
              "     <input type=\"file\" id=\"files-3ff28922-a9f8-44a4-a93b-3b7ac20e5125\" name=\"files[]\" multiple disabled\n",
              "        style=\"border:none\" />\n",
              "     <output id=\"result-3ff28922-a9f8-44a4-a93b-3b7ac20e5125\">\n",
              "      Upload widget is only available when the cell has been executed in the\n",
              "      current browser session. Please rerun this cell to enable.\n",
              "      </output>\n",
              "      <script src=\"/nbextensions/google.colab/files.js\"></script> "
            ],
            "text/plain": [
              "<IPython.core.display.HTML object>"
            ]
          },
          "metadata": {
            "tags": []
          }
        },
        {
          "output_type": "stream",
          "text": [
            "Saving kaggle.json to kaggle.json\n"
          ],
          "name": "stdout"
        },
        {
          "output_type": "execute_result",
          "data": {
            "text/plain": [
              "{'kaggle.json': b'{\"username\":\"rollov\",\"key\":\"6cd57d0a043c018341ff5e0c9c5f2817\"}'}"
            ]
          },
          "metadata": {
            "tags": []
          },
          "execution_count": 1
        }
      ]
    },
    {
      "cell_type": "code",
      "metadata": {
        "id": "KTW-iJbj1t8q"
      },
      "source": [
        "!mkdir -p ~/.kaggle\n",
        "!cp kaggle.json ~/.kaggle/\n",
        "\n",
        "!chmod 600 ~/.kaggle/kaggle.json"
      ],
      "execution_count": 2,
      "outputs": []
    },
    {
      "cell_type": "code",
      "metadata": {
        "id": "VM3DDwtZ2NEF",
        "outputId": "3462e597-28d6-4415-dea2-5ff27e9cccf5",
        "colab": {
          "base_uri": "https://localhost:8080/",
          "height": 1000
        }
      },
      "source": [
        "!kaggle competitions download -c test-recsys"
      ],
      "execution_count": 3,
      "outputs": [
        {
          "output_type": "stream",
          "text": [
            "Warning: Looks like you're using an outdated API Version, please consider updating (server 1.5.6 / client 1.5.4)\n",
            "Downloading tab_2_products_2020-04-30.csv.zip to /content\n",
            " 98% 134M/137M [00:01<00:00, 53.0MB/s]\n",
            "100% 137M/137M [00:01<00:00, 81.4MB/s]\n",
            "Downloading tab_2_products_2020-04-10.csv.zip to /content\n",
            " 99% 95.0M/96.2M [00:01<00:00, 50.0MB/s]\n",
            "100% 96.2M/96.2M [00:01<00:00, 58.6MB/s]\n",
            "Downloading tab_2_products_2020-04-20.csv.zip to /content\n",
            " 97% 105M/108M [00:02<00:00, 46.5MB/s] \n",
            "100% 108M/108M [00:02<00:00, 53.6MB/s]\n",
            "Downloading tab_2_products_2020-09-07.csv.zip to /content\n",
            " 99% 121M/123M [00:02<00:00, 49.2MB/s]\n",
            "100% 123M/123M [00:02<00:00, 57.9MB/s]\n",
            "Downloading tab_2_products_2020-08-08.csv.zip to /content\n",
            " 89% 97.0M/109M [00:02<00:00, 23.8MB/s]\n",
            "100% 109M/109M [00:02<00:00, 43.6MB/s] \n",
            "Downloading tab_2_products_2020-08-28.csv.zip to /content\n",
            " 79% 95.0M/120M [00:02<00:01, 21.8MB/s]\n",
            "100% 120M/120M [00:02<00:00, 51.8MB/s] \n",
            "Downloading tab_2_products_2020-08-18.csv.zip to /content\n",
            " 80% 89.0M/111M [00:02<00:00, 28.8MB/s]\n",
            "100% 111M/111M [00:02<00:00, 53.5MB/s] \n",
            "Downloading tab_2_products_2020-05-30.csv.zip to /content\n",
            "100% 150M/150M [00:02<00:00, 74.1MB/s]\n",
            "100% 150M/150M [00:02<00:00, 76.0MB/s]\n",
            "Downloading tab_2_products_2020-05-10.csv.zip to /content\n",
            " 92% 132M/144M [00:01<00:00, 124MB/s]\n",
            "100% 144M/144M [00:01<00:00, 134MB/s]\n",
            "Downloading tab_2_products_2020-05-20.csv.zip to /content\n",
            " 93% 145M/156M [00:02<00:00, 69.8MB/s]\n",
            "100% 156M/156M [00:02<00:00, 68.4MB/s]\n",
            "Downloading tab_2_products_2020-01-01.csv.zip to /content\n",
            " 80% 9.00M/11.2M [00:00<00:00, 24.7MB/s]\n",
            "100% 11.2M/11.2M [00:00<00:00, 28.2MB/s]\n",
            "Downloading tab_2_products_2020-02-10.csv.zip to /content\n",
            " 36% 9.00M/24.8M [00:00<00:00, 24.0MB/s]\n",
            "100% 24.8M/24.8M [00:00<00:00, 55.9MB/s]\n",
            "Downloading tab_2_products_2020-03-21.csv.zip to /content\n",
            " 95% 56.0M/59.0M [00:00<00:00, 45.0MB/s]\n",
            "100% 59.0M/59.0M [00:00<00:00, 71.5MB/s]\n",
            "Downloading tab_2_products_2020-01-11.csv.zip to /content\n",
            " 31% 5.00M/16.1M [00:00<00:00, 23.9MB/s]\n",
            "100% 16.1M/16.1M [00:00<00:00, 64.1MB/s]\n",
            "Downloading tab_2_products_2020-01-21.csv.zip to /content\n",
            " 91% 17.0M/18.8M [00:00<00:00, 23.7MB/s]\n",
            "100% 18.8M/18.8M [00:00<00:00, 32.0MB/s]\n",
            "Downloading tab_2_products_2020-03-01.csv.zip to /content\n",
            " 58% 17.0M/29.4M [00:00<00:00, 21.6MB/s]\n",
            "100% 29.4M/29.4M [00:00<00:00, 33.7MB/s]\n",
            "Downloading tab_2_products_2020-03-11.csv.zip to /content\n",
            " 85% 41.0M/48.0M [00:00<00:00, 23.9MB/s]\n",
            "100% 48.0M/48.0M [00:00<00:00, 65.8MB/s]\n",
            "Downloading tab_2_products_2020-01-31.csv.zip to /content\n",
            " 39% 9.00M/23.2M [00:00<00:01, 14.1MB/s]\n",
            "100% 23.2M/23.2M [00:00<00:00, 26.6MB/s]\n",
            "Downloading tab_2_products_2020-03-31.csv.zip to /content\n",
            " 66% 49.0M/74.7M [00:00<00:00, 30.6MB/s]\n",
            "100% 74.7M/74.7M [00:00<00:00, 81.0MB/s]\n",
            "Downloading tab_2_products_2020-02-20.csv.zip to /content\n",
            " 59% 17.0M/29.0M [00:00<00:00, 20.8MB/s]\n",
            "100% 29.0M/29.0M [00:00<00:00, 31.5MB/s]\n",
            "Downloading tab_2_products_2020-06-09.csv.zip to /content\n",
            " 95% 121M/128M [00:02<00:00, 36.8MB/s]\n",
            "100% 128M/128M [00:02<00:00, 46.6MB/s]\n",
            "Downloading tab_2_products_2020-06-29.csv.zip to /content\n",
            " 94% 97.0M/103M [00:01<00:00, 54.7MB/s]\n",
            "100% 103M/103M [00:01<00:00, 65.5MB/s] \n",
            "Downloading tab_2_products_2020-06-19.csv.zip to /content\n",
            " 92% 103M/111M [00:01<00:00, 50.2MB/s] \n",
            "100% 111M/111M [00:01<00:00, 59.1MB/s]\n",
            "Downloading tab_2_products_2020-07-09.csv.zip to /content\n",
            " 98% 110M/112M [00:00<00:00, 80.5MB/s] \n",
            "100% 112M/112M [00:01<00:00, 115MB/s] \n",
            "Downloading tab_2_products_2020-07-19.csv.zip to /content\n",
            " 95% 99.0M/104M [00:01<00:00, 47.4MB/s]\n",
            "100% 104M/104M [00:01<00:00, 55.5MB/s] \n",
            "Downloading tab_2_products_2020-07-29.csv.zip to /content\n",
            " 85% 89.0M/104M [00:00<00:00, 106MB/s]\n",
            "100% 104M/104M [00:00<00:00, 140MB/s] \n",
            "Downloading tab_3_categories.csv to /content\n",
            "  0% 0.00/44.3k [00:00<?, ?B/s]\n",
            "100% 44.3k/44.3k [00:00<00:00, 43.5MB/s]\n",
            "Downloading tab_5_product_properties.csv.zip to /content\n",
            " 59% 33.0M/55.6M [00:01<00:02, 8.09MB/s]\n",
            "100% 55.6M/55.6M [00:01<00:00, 29.6MB/s]\n",
            "Downloading tab_4_user_profiles.csv.zip to /content\n",
            "  0% 0.00/1.94M [00:00<?, ?B/s]\n",
            "100% 1.94M/1.94M [00:00<00:00, 132MB/s]\n",
            "Downloading tab_1_orders.csv.zip to /content\n",
            " 54% 17.0M/31.3M [00:00<00:00, 19.5MB/s]\n",
            "100% 31.3M/31.3M [00:00<00:00, 45.9MB/s]\n",
            "Downloading sample_submission.csv.zip to /content\n",
            " 83% 17.0M/20.4M [00:00<00:00, 29.5MB/s]\n",
            "100% 20.4M/20.4M [00:00<00:00, 51.6MB/s]\n",
            "Downloading tab_6_city.csv to /content\n",
            "  0% 0.00/16.2k [00:00<?, ?B/s]\n",
            "100% 16.2k/16.2k [00:00<00:00, 16.8MB/s]\n"
          ],
          "name": "stdout"
        }
      ]
    },
    {
      "cell_type": "code",
      "metadata": {
        "id": "dBbGFYl-2zhf",
        "outputId": "188c29c6-1567-4a9a-a9a7-4d7968c90539",
        "colab": {
          "base_uri": "https://localhost:8080/",
          "height": 34
        }
      },
      "source": [
        "from zipfile import ZipFile\n",
        "\n",
        "file_name = \"sample_submission.csv.zip\"\n",
        "\n",
        "with ZipFile(file_name, 'r') as zip:\n",
        "  zip.extractall()\n",
        "  print('Done')"
      ],
      "execution_count": 13,
      "outputs": [
        {
          "output_type": "stream",
          "text": [
            "Done\n"
          ],
          "name": "stdout"
        }
      ]
    },
    {
      "cell_type": "code",
      "metadata": {
        "id": "h-cxkIWY51Tq",
        "outputId": "36f2de7e-fe24-4bb6-ee17-f16d6543f6ce",
        "colab": {
          "base_uri": "https://localhost:8080/",
          "height": 459
        }
      },
      "source": [
        "import os, fnmatch\n",
        "\n",
        "tab_2_array = fnmatch.filter(os.listdir('.'), 'tab_2*')\n",
        "\n",
        "k = 1\n",
        "for tab_2 in tab_2_array:\n",
        "  with ZipFile(tab_2, 'r') as zip:\n",
        "    zip.extractall()\n",
        "    print(f'Left: ' + str(len(tab_2_array) - k))\n",
        "    k += 1\n"
      ],
      "execution_count": 8,
      "outputs": [
        {
          "output_type": "stream",
          "text": [
            "Left: 25\n",
            "Left: 24\n",
            "Left: 23\n",
            "Left: 22\n",
            "Left: 21\n",
            "Left: 20\n",
            "Left: 19\n",
            "Left: 18\n",
            "Left: 17\n",
            "Left: 16\n",
            "Left: 15\n",
            "Left: 14\n",
            "Left: 13\n",
            "Left: 12\n",
            "Left: 11\n",
            "Left: 10\n",
            "Left: 9\n",
            "Left: 8\n",
            "Left: 7\n",
            "Left: 6\n",
            "Left: 5\n",
            "Left: 4\n",
            "Left: 3\n",
            "Left: 2\n",
            "Left: 1\n",
            "Left: 0\n"
          ],
          "name": "stdout"
        }
      ]
    },
    {
      "cell_type": "code",
      "metadata": {
        "id": "13CNOAsK7xnd"
      },
      "source": [
        "import pandas as pd\n",
        "import numpy as np"
      ],
      "execution_count": null,
      "outputs": []
    },
    {
      "cell_type": "markdown",
      "metadata": {
        "id": "-zHaqYuJ8DjZ"
      },
      "source": [
        "TAB_1_ORDERS"
      ]
    },
    {
      "cell_type": "code",
      "metadata": {
        "id": "CUpuP_o75pxa",
        "outputId": "90788c65-f186-4991-c68f-5d4796f74c06",
        "colab": {
          "base_uri": "https://localhost:8080/",
          "height": 34
        }
      },
      "source": [
        "tab_1_orders = pd.read_csv('/content/tab_1_orders.csv')\n",
        "tab_6_city = pd.read_csv('/content/tab_6_city.csv')\n",
        "tab_1_orders = tab_1_orders.merge(tab_6_city, left_on='store_id', right_on='store_id')\n",
        "tab_1_orders.shape"
      ],
      "execution_count": null,
      "outputs": [
        {
          "output_type": "execute_result",
          "data": {
            "text/plain": [
              "(2461958, 7)"
            ]
          },
          "metadata": {
            "tags": []
          },
          "execution_count": 15
        }
      ]
    },
    {
      "cell_type": "code",
      "metadata": {
        "id": "u8_cwjFX7wAg",
        "outputId": "8a8ebcae-314f-4558-a698-aa5552487890",
        "colab": {
          "base_uri": "https://localhost:8080/",
          "height": 204
        }
      },
      "source": [
        "tab_1_orders.head()"
      ],
      "execution_count": null,
      "outputs": [
        {
          "output_type": "execute_result",
          "data": {
            "text/html": [
              "<div>\n",
              "<style scoped>\n",
              "    .dataframe tbody tr th:only-of-type {\n",
              "        vertical-align: middle;\n",
              "    }\n",
              "\n",
              "    .dataframe tbody tr th {\n",
              "        vertical-align: top;\n",
              "    }\n",
              "\n",
              "    .dataframe thead th {\n",
              "        text-align: right;\n",
              "    }\n",
              "</style>\n",
              "<table border=\"1\" class=\"dataframe\">\n",
              "  <thead>\n",
              "    <tr style=\"text-align: right;\">\n",
              "      <th></th>\n",
              "      <th>user_id</th>\n",
              "      <th>order_id</th>\n",
              "      <th>order_created_time</th>\n",
              "      <th>retailer</th>\n",
              "      <th>store_id</th>\n",
              "      <th>platform</th>\n",
              "      <th>city_name</th>\n",
              "    </tr>\n",
              "  </thead>\n",
              "  <tbody>\n",
              "    <tr>\n",
              "      <th>0</th>\n",
              "      <td>72</td>\n",
              "      <td>17431000</td>\n",
              "      <td>2020-09-26 10:48:57</td>\n",
              "      <td>METRO</td>\n",
              "      <td>21</td>\n",
              "      <td>app</td>\n",
              "      <td>Москва</td>\n",
              "    </tr>\n",
              "    <tr>\n",
              "      <th>1</th>\n",
              "      <td>1474</td>\n",
              "      <td>10066159</td>\n",
              "      <td>2020-05-14 17:35:58</td>\n",
              "      <td>METRO</td>\n",
              "      <td>21</td>\n",
              "      <td>app</td>\n",
              "      <td>Москва</td>\n",
              "    </tr>\n",
              "    <tr>\n",
              "      <th>2</th>\n",
              "      <td>1474</td>\n",
              "      <td>10083198</td>\n",
              "      <td>2020-05-15 04:40:50</td>\n",
              "      <td>METRO</td>\n",
              "      <td>21</td>\n",
              "      <td>app</td>\n",
              "      <td>Москва</td>\n",
              "    </tr>\n",
              "    <tr>\n",
              "      <th>3</th>\n",
              "      <td>1474</td>\n",
              "      <td>15090928</td>\n",
              "      <td>2020-08-16 09:32:13</td>\n",
              "      <td>METRO</td>\n",
              "      <td>21</td>\n",
              "      <td>app</td>\n",
              "      <td>Москва</td>\n",
              "    </tr>\n",
              "    <tr>\n",
              "      <th>4</th>\n",
              "      <td>2657</td>\n",
              "      <td>7652238</td>\n",
              "      <td>2020-03-29 19:44:24</td>\n",
              "      <td>METRO</td>\n",
              "      <td>21</td>\n",
              "      <td>app</td>\n",
              "      <td>Москва</td>\n",
              "    </tr>\n",
              "  </tbody>\n",
              "</table>\n",
              "</div>"
            ],
            "text/plain": [
              "   user_id  order_id   order_created_time retailer  store_id platform city_name\n",
              "0       72  17431000  2020-09-26 10:48:57    METRO        21      app    Москва\n",
              "1     1474  10066159  2020-05-14 17:35:58    METRO        21      app    Москва\n",
              "2     1474  10083198  2020-05-15 04:40:50    METRO        21      app    Москва\n",
              "3     1474  15090928  2020-08-16 09:32:13    METRO        21      app    Москва\n",
              "4     2657   7652238  2020-03-29 19:44:24    METRO        21      app    Москва"
            ]
          },
          "metadata": {
            "tags": []
          },
          "execution_count": 16
        }
      ]
    },
    {
      "cell_type": "markdown",
      "metadata": {
        "id": "Vhcd1ae28QS1"
      },
      "source": [
        "TAB_3_CATEGORIES"
      ]
    },
    {
      "cell_type": "code",
      "metadata": {
        "id": "6fUWRzBR8UIa",
        "outputId": "8a6305f7-5432-43d3-f2ac-5e1953bf7c43",
        "colab": {
          "base_uri": "https://localhost:8080/",
          "height": 34
        }
      },
      "source": [
        "tab_3_categories = pd.read_csv('/content/tab_3_categories.csv')\n",
        "tab_3_categories.shape"
      ],
      "execution_count": null,
      "outputs": [
        {
          "output_type": "execute_result",
          "data": {
            "text/plain": [
              "(1016, 3)"
            ]
          },
          "metadata": {
            "tags": []
          },
          "execution_count": 17
        }
      ]
    },
    {
      "cell_type": "code",
      "metadata": {
        "id": "8mrKVsZM8XuM",
        "outputId": "77a767f9-4069-45e6-8a86-9a0c86f02f0a",
        "colab": {
          "base_uri": "https://localhost:8080/",
          "height": 80
        }
      },
      "source": [
        "tab_3_categories[tab_3_categories['id'] == 575]"
      ],
      "execution_count": null,
      "outputs": [
        {
          "output_type": "execute_result",
          "data": {
            "text/html": [
              "<div>\n",
              "<style scoped>\n",
              "    .dataframe tbody tr th:only-of-type {\n",
              "        vertical-align: middle;\n",
              "    }\n",
              "\n",
              "    .dataframe tbody tr th {\n",
              "        vertical-align: top;\n",
              "    }\n",
              "\n",
              "    .dataframe thead th {\n",
              "        text-align: right;\n",
              "    }\n",
              "</style>\n",
              "<table border=\"1\" class=\"dataframe\">\n",
              "  <thead>\n",
              "    <tr style=\"text-align: right;\">\n",
              "      <th></th>\n",
              "      <th>id</th>\n",
              "      <th>name</th>\n",
              "      <th>parent_id</th>\n",
              "    </tr>\n",
              "  </thead>\n",
              "  <tbody>\n",
              "    <tr>\n",
              "      <th>574</th>\n",
              "      <td>575</td>\n",
              "      <td>Соль</td>\n",
              "      <td>9</td>\n",
              "    </tr>\n",
              "  </tbody>\n",
              "</table>\n",
              "</div>"
            ],
            "text/plain": [
              "      id  name  parent_id\n",
              "574  575  Соль          9"
            ]
          },
          "metadata": {
            "tags": []
          },
          "execution_count": 18
        }
      ]
    },
    {
      "cell_type": "code",
      "metadata": {
        "id": "ckLIS6p0ZWSc",
        "outputId": "6b46c0df-4b93-48ac-f84b-adcd83f7f39c",
        "colab": {
          "base_uri": "https://localhost:8080/",
          "height": 34
        }
      },
      "source": [
        "tab_3_categories.parent_id.nunique()"
      ],
      "execution_count": null,
      "outputs": [
        {
          "output_type": "execute_result",
          "data": {
            "text/plain": [
              "140"
            ]
          },
          "metadata": {
            "tags": []
          },
          "execution_count": 29
        }
      ]
    },
    {
      "cell_type": "code",
      "metadata": {
        "id": "LyAHWCX3ZJ6h",
        "outputId": "fe7dd829-5211-44b5-8e91-bb250a1b852e",
        "colab": {
          "base_uri": "https://localhost:8080/",
          "height": 419
        }
      },
      "source": [
        "tab_3_categories"
      ],
      "execution_count": null,
      "outputs": [
        {
          "output_type": "execute_result",
          "data": {
            "text/html": [
              "<div>\n",
              "<style scoped>\n",
              "    .dataframe tbody tr th:only-of-type {\n",
              "        vertical-align: middle;\n",
              "    }\n",
              "\n",
              "    .dataframe tbody tr th {\n",
              "        vertical-align: top;\n",
              "    }\n",
              "\n",
              "    .dataframe thead th {\n",
              "        text-align: right;\n",
              "    }\n",
              "</style>\n",
              "<table border=\"1\" class=\"dataframe\">\n",
              "  <thead>\n",
              "    <tr style=\"text-align: right;\">\n",
              "      <th></th>\n",
              "      <th>id</th>\n",
              "      <th>name</th>\n",
              "      <th>parent_id</th>\n",
              "    </tr>\n",
              "  </thead>\n",
              "  <tbody>\n",
              "    <tr>\n",
              "      <th>0</th>\n",
              "      <td>1</td>\n",
              "      <td>Продукты питания</td>\n",
              "      <td>0</td>\n",
              "    </tr>\n",
              "    <tr>\n",
              "      <th>1</th>\n",
              "      <td>2</td>\n",
              "      <td>Замороженные продукты</td>\n",
              "      <td>1</td>\n",
              "    </tr>\n",
              "    <tr>\n",
              "      <th>2</th>\n",
              "      <td>3</td>\n",
              "      <td>Замороженные овощи и фрукты</td>\n",
              "      <td>2</td>\n",
              "    </tr>\n",
              "    <tr>\n",
              "      <th>3</th>\n",
              "      <td>4</td>\n",
              "      <td>Замороженные полуфабрикаты</td>\n",
              "      <td>2</td>\n",
              "    </tr>\n",
              "    <tr>\n",
              "      <th>4</th>\n",
              "      <td>5</td>\n",
              "      <td>Рыба замороженная</td>\n",
              "      <td>2</td>\n",
              "    </tr>\n",
              "    <tr>\n",
              "      <th>...</th>\n",
              "      <td>...</td>\n",
              "      <td>...</td>\n",
              "      <td>...</td>\n",
              "    </tr>\n",
              "    <tr>\n",
              "      <th>1011</th>\n",
              "      <td>1012</td>\n",
              "      <td>Перевязочные материалы</td>\n",
              "      <td>571</td>\n",
              "    </tr>\n",
              "    <tr>\n",
              "      <th>1012</th>\n",
              "      <td>1013</td>\n",
              "      <td>Расходные материалы</td>\n",
              "      <td>571</td>\n",
              "    </tr>\n",
              "    <tr>\n",
              "      <th>1013</th>\n",
              "      <td>1014</td>\n",
              "      <td>Диагностические тесты</td>\n",
              "      <td>571</td>\n",
              "    </tr>\n",
              "    <tr>\n",
              "      <th>1014</th>\n",
              "      <td>1015</td>\n",
              "      <td>Диагностические приборы</td>\n",
              "      <td>571</td>\n",
              "    </tr>\n",
              "    <tr>\n",
              "      <th>1015</th>\n",
              "      <td>1016</td>\n",
              "      <td>Линзы, уход за контактными линзами</td>\n",
              "      <td>572</td>\n",
              "    </tr>\n",
              "  </tbody>\n",
              "</table>\n",
              "<p>1016 rows × 3 columns</p>\n",
              "</div>"
            ],
            "text/plain": [
              "        id                                name  parent_id\n",
              "0        1                    Продукты питания          0\n",
              "1        2               Замороженные продукты          1\n",
              "2        3         Замороженные овощи и фрукты          2\n",
              "3        4          Замороженные полуфабрикаты          2\n",
              "4        5                   Рыба замороженная          2\n",
              "...    ...                                 ...        ...\n",
              "1011  1012              Перевязочные материалы        571\n",
              "1012  1013                 Расходные материалы        571\n",
              "1013  1014               Диагностические тесты        571\n",
              "1014  1015             Диагностические приборы        571\n",
              "1015  1016  Линзы, уход за контактными линзами        572\n",
              "\n",
              "[1016 rows x 3 columns]"
            ]
          },
          "metadata": {
            "tags": []
          },
          "execution_count": 30
        }
      ]
    },
    {
      "cell_type": "code",
      "metadata": {
        "id": "t1XONnLVYoXG",
        "outputId": "e579df10-88fa-49c7-92f8-6f286a058e25",
        "colab": {
          "base_uri": "https://localhost:8080/",
          "height": 607
        }
      },
      "source": [
        "tab_3_categories[tab_3_categories['parent_id'] == 9]"
      ],
      "execution_count": null,
      "outputs": [
        {
          "output_type": "execute_result",
          "data": {
            "text/html": [
              "<div>\n",
              "<style scoped>\n",
              "    .dataframe tbody tr th:only-of-type {\n",
              "        vertical-align: middle;\n",
              "    }\n",
              "\n",
              "    .dataframe tbody tr th {\n",
              "        vertical-align: top;\n",
              "    }\n",
              "\n",
              "    .dataframe thead th {\n",
              "        text-align: right;\n",
              "    }\n",
              "</style>\n",
              "<table border=\"1\" class=\"dataframe\">\n",
              "  <thead>\n",
              "    <tr style=\"text-align: right;\">\n",
              "      <th></th>\n",
              "      <th>id</th>\n",
              "      <th>name</th>\n",
              "      <th>parent_id</th>\n",
              "    </tr>\n",
              "  </thead>\n",
              "  <tbody>\n",
              "    <tr>\n",
              "      <th>9</th>\n",
              "      <td>10</td>\n",
              "      <td>Хлопья, мюсли, сухие завтраки</td>\n",
              "      <td>9</td>\n",
              "    </tr>\n",
              "    <tr>\n",
              "      <th>10</th>\n",
              "      <td>11</td>\n",
              "      <td>Макароны</td>\n",
              "      <td>9</td>\n",
              "    </tr>\n",
              "    <tr>\n",
              "      <th>11</th>\n",
              "      <td>12</td>\n",
              "      <td>Крупы</td>\n",
              "      <td>9</td>\n",
              "    </tr>\n",
              "    <tr>\n",
              "      <th>12</th>\n",
              "      <td>13</td>\n",
              "      <td>Диабетическое питание</td>\n",
              "      <td>9</td>\n",
              "    </tr>\n",
              "    <tr>\n",
              "      <th>13</th>\n",
              "      <td>14</td>\n",
              "      <td>Мука, дрожжи, добавки</td>\n",
              "      <td>9</td>\n",
              "    </tr>\n",
              "    <tr>\n",
              "      <th>14</th>\n",
              "      <td>15</td>\n",
              "      <td>Растительные масла</td>\n",
              "      <td>9</td>\n",
              "    </tr>\n",
              "    <tr>\n",
              "      <th>15</th>\n",
              "      <td>16</td>\n",
              "      <td>Маринады и уксус</td>\n",
              "      <td>9</td>\n",
              "    </tr>\n",
              "    <tr>\n",
              "      <th>16</th>\n",
              "      <td>17</td>\n",
              "      <td>Сахар, соль</td>\n",
              "      <td>9</td>\n",
              "    </tr>\n",
              "    <tr>\n",
              "      <th>17</th>\n",
              "      <td>18</td>\n",
              "      <td>Сухарики, чипсы, снеки</td>\n",
              "      <td>9</td>\n",
              "    </tr>\n",
              "    <tr>\n",
              "      <th>573</th>\n",
              "      <td>574</td>\n",
              "      <td>Сахар и сахарозаменители</td>\n",
              "      <td>9</td>\n",
              "    </tr>\n",
              "    <tr>\n",
              "      <th>574</th>\n",
              "      <td>575</td>\n",
              "      <td>Соль</td>\n",
              "      <td>9</td>\n",
              "    </tr>\n",
              "    <tr>\n",
              "      <th>575</th>\n",
              "      <td>576</td>\n",
              "      <td>Отруби и клетчатка</td>\n",
              "      <td>9</td>\n",
              "    </tr>\n",
              "    <tr>\n",
              "      <th>576</th>\n",
              "      <td>577</td>\n",
              "      <td>Мука</td>\n",
              "      <td>9</td>\n",
              "    </tr>\n",
              "    <tr>\n",
              "      <th>577</th>\n",
              "      <td>578</td>\n",
              "      <td>Все для выпечки и десертов</td>\n",
              "      <td>9</td>\n",
              "    </tr>\n",
              "    <tr>\n",
              "      <th>578</th>\n",
              "      <td>579</td>\n",
              "      <td>Готовые смеси для выпечки и десертов</td>\n",
              "      <td>9</td>\n",
              "    </tr>\n",
              "    <tr>\n",
              "      <th>579</th>\n",
              "      <td>580</td>\n",
              "      <td>Крупы</td>\n",
              "      <td>9</td>\n",
              "    </tr>\n",
              "    <tr>\n",
              "      <th>580</th>\n",
              "      <td>581</td>\n",
              "      <td>Макаронные изделия и паста</td>\n",
              "      <td>9</td>\n",
              "    </tr>\n",
              "    <tr>\n",
              "      <th>581</th>\n",
              "      <td>582</td>\n",
              "      <td>Хлопья, мюсли, сухие завтраки</td>\n",
              "      <td>9</td>\n",
              "    </tr>\n",
              "  </tbody>\n",
              "</table>\n",
              "</div>"
            ],
            "text/plain": [
              "      id                                  name  parent_id\n",
              "9     10         Хлопья, мюсли, сухие завтраки          9\n",
              "10    11                              Макароны          9\n",
              "11    12                                 Крупы          9\n",
              "12    13                 Диабетическое питание          9\n",
              "13    14                 Мука, дрожжи, добавки          9\n",
              "14    15                    Растительные масла          9\n",
              "15    16                      Маринады и уксус          9\n",
              "16    17                           Сахар, соль          9\n",
              "17    18                Сухарики, чипсы, снеки          9\n",
              "573  574              Сахар и сахарозаменители          9\n",
              "574  575                                  Соль          9\n",
              "575  576                    Отруби и клетчатка          9\n",
              "576  577                                  Мука          9\n",
              "577  578            Все для выпечки и десертов          9\n",
              "578  579  Готовые смеси для выпечки и десертов          9\n",
              "579  580                                 Крупы          9\n",
              "580  581            Макаронные изделия и паста          9\n",
              "581  582         Хлопья, мюсли, сухие завтраки          9"
            ]
          },
          "metadata": {
            "tags": []
          },
          "execution_count": 21
        }
      ]
    },
    {
      "cell_type": "markdown",
      "metadata": {
        "id": "4Ap0C4w-8cor"
      },
      "source": [
        "TAB_4_USER_PROFILES"
      ]
    },
    {
      "cell_type": "code",
      "metadata": {
        "id": "7F_Pxm-C8l01",
        "outputId": "02710cc9-0271-49e1-99b3-98387922c713",
        "colab": {
          "base_uri": "https://localhost:8080/",
          "height": 34
        }
      },
      "source": [
        "tab_4_user_profiles = pd.read_csv('/content/tab_4_user_profiles.csv')\n",
        "tab_4_user_profiles.shape"
      ],
      "execution_count": null,
      "outputs": [
        {
          "output_type": "execute_result",
          "data": {
            "text/plain": [
              "(438867, 3)"
            ]
          },
          "metadata": {
            "tags": []
          },
          "execution_count": 22
        }
      ]
    },
    {
      "cell_type": "code",
      "metadata": {
        "id": "1X4qGKiL8rzN",
        "outputId": "04166f3a-943f-419a-f7f5-e69a07c5c0bb",
        "colab": {
          "base_uri": "https://localhost:8080/",
          "height": 204
        }
      },
      "source": [
        "tab_4_user_profiles.head()"
      ],
      "execution_count": null,
      "outputs": [
        {
          "output_type": "execute_result",
          "data": {
            "text/html": [
              "<div>\n",
              "<style scoped>\n",
              "    .dataframe tbody tr th:only-of-type {\n",
              "        vertical-align: middle;\n",
              "    }\n",
              "\n",
              "    .dataframe tbody tr th {\n",
              "        vertical-align: top;\n",
              "    }\n",
              "\n",
              "    .dataframe thead th {\n",
              "        text-align: right;\n",
              "    }\n",
              "</style>\n",
              "<table border=\"1\" class=\"dataframe\">\n",
              "  <thead>\n",
              "    <tr style=\"text-align: right;\">\n",
              "      <th></th>\n",
              "      <th>user_id</th>\n",
              "      <th>gender</th>\n",
              "      <th>bdate</th>\n",
              "    </tr>\n",
              "  </thead>\n",
              "  <tbody>\n",
              "    <tr>\n",
              "      <th>0</th>\n",
              "      <td>2224890</td>\n",
              "      <td>NaN</td>\n",
              "      <td>NaN</td>\n",
              "    </tr>\n",
              "    <tr>\n",
              "      <th>1</th>\n",
              "      <td>1683001</td>\n",
              "      <td>male</td>\n",
              "      <td>1987-10-11</td>\n",
              "    </tr>\n",
              "    <tr>\n",
              "      <th>2</th>\n",
              "      <td>2102480</td>\n",
              "      <td>NaN</td>\n",
              "      <td>NaN</td>\n",
              "    </tr>\n",
              "    <tr>\n",
              "      <th>3</th>\n",
              "      <td>2224895</td>\n",
              "      <td>NaN</td>\n",
              "      <td>NaN</td>\n",
              "    </tr>\n",
              "    <tr>\n",
              "      <th>4</th>\n",
              "      <td>930197</td>\n",
              "      <td>NaN</td>\n",
              "      <td>NaN</td>\n",
              "    </tr>\n",
              "  </tbody>\n",
              "</table>\n",
              "</div>"
            ],
            "text/plain": [
              "   user_id gender       bdate\n",
              "0  2224890    NaN         NaN\n",
              "1  1683001   male  1987-10-11\n",
              "2  2102480    NaN         NaN\n",
              "3  2224895    NaN         NaN\n",
              "4   930197    NaN         NaN"
            ]
          },
          "metadata": {
            "tags": []
          },
          "execution_count": 23
        }
      ]
    },
    {
      "cell_type": "markdown",
      "metadata": {
        "id": "COageuc48t5m"
      },
      "source": [
        "TAB_5_PRODUCT_PROPERTIES"
      ]
    },
    {
      "cell_type": "code",
      "metadata": {
        "id": "Vfxl1rGB8y3j",
        "outputId": "5c22ff52-de7f-4c75-8938-057b28518094",
        "colab": {
          "base_uri": "https://localhost:8080/",
          "height": 34
        }
      },
      "source": [
        "tab_5_product_properties = pd.read_csv('/content/tab_5_product_properties.csv')\n",
        "tab_5_product_properties.shape"
      ],
      "execution_count": null,
      "outputs": [
        {
          "output_type": "execute_result",
          "data": {
            "text/plain": [
              "(6990208, 3)"
            ]
          },
          "metadata": {
            "tags": []
          },
          "execution_count": 24
        }
      ]
    },
    {
      "cell_type": "code",
      "metadata": {
        "id": "5xE13Hha85It",
        "outputId": "daed9256-4806-4992-bf13-176f08bd5246",
        "colab": {
          "base_uri": "https://localhost:8080/",
          "height": 328
        }
      },
      "source": [
        "tab_5_product_properties[tab_5_product_properties['product_id'] == 21612]"
      ],
      "execution_count": null,
      "outputs": [
        {
          "output_type": "execute_result",
          "data": {
            "text/html": [
              "<div>\n",
              "<style scoped>\n",
              "    .dataframe tbody tr th:only-of-type {\n",
              "        vertical-align: middle;\n",
              "    }\n",
              "\n",
              "    .dataframe tbody tr th {\n",
              "        vertical-align: top;\n",
              "    }\n",
              "\n",
              "    .dataframe thead th {\n",
              "        text-align: right;\n",
              "    }\n",
              "</style>\n",
              "<table border=\"1\" class=\"dataframe\">\n",
              "  <thead>\n",
              "    <tr style=\"text-align: right;\">\n",
              "      <th></th>\n",
              "      <th>product_id</th>\n",
              "      <th>property_name</th>\n",
              "      <th>property_value</th>\n",
              "    </tr>\n",
              "  </thead>\n",
              "  <tbody>\n",
              "    <tr>\n",
              "      <th>179317</th>\n",
              "      <td>21612</td>\n",
              "      <td>Вид соли</td>\n",
              "      <td>Каменная</td>\n",
              "    </tr>\n",
              "    <tr>\n",
              "      <th>179318</th>\n",
              "      <td>21612</td>\n",
              "      <td>Условия хранения</td>\n",
              "      <td>В сухом прохладном месте</td>\n",
              "    </tr>\n",
              "    <tr>\n",
              "      <th>179319</th>\n",
              "      <td>21612</td>\n",
              "      <td>Вид помола</td>\n",
              "      <td>Мелкий</td>\n",
              "    </tr>\n",
              "    <tr>\n",
              "      <th>179320</th>\n",
              "      <td>21612</td>\n",
              "      <td>Выработка</td>\n",
              "      <td>Самосадочная</td>\n",
              "    </tr>\n",
              "    <tr>\n",
              "      <th>179321</th>\n",
              "      <td>21612</td>\n",
              "      <td>Вес</td>\n",
              "      <td>1 кг</td>\n",
              "    </tr>\n",
              "    <tr>\n",
              "      <th>179322</th>\n",
              "      <td>21612</td>\n",
              "      <td>Вид упаковки</td>\n",
              "      <td>Пластиковый пакет</td>\n",
              "    </tr>\n",
              "    <tr>\n",
              "      <th>179323</th>\n",
              "      <td>21612</td>\n",
              "      <td>Срок хранения</td>\n",
              "      <td>24 мес</td>\n",
              "    </tr>\n",
              "    <tr>\n",
              "      <th>179324</th>\n",
              "      <td>21612</td>\n",
              "      <td>Тип продукта</td>\n",
              "      <td>Соль поваренная</td>\n",
              "    </tr>\n",
              "    <tr>\n",
              "      <th>179325</th>\n",
              "      <td>21612</td>\n",
              "      <td>Состав</td>\n",
              "      <td>Соль поваренная пищевая</td>\n",
              "    </tr>\n",
              "  </tbody>\n",
              "</table>\n",
              "</div>"
            ],
            "text/plain": [
              "        product_id     property_name            property_value\n",
              "179317       21612          Вид соли                  Каменная\n",
              "179318       21612  Условия хранения  В сухом прохладном месте\n",
              "179319       21612        Вид помола                    Мелкий\n",
              "179320       21612         Выработка              Самосадочная\n",
              "179321       21612               Вес                      1 кг\n",
              "179322       21612      Вид упаковки         Пластиковый пакет\n",
              "179323       21612     Срок хранения                    24 мес\n",
              "179324       21612      Тип продукта           Соль поваренная\n",
              "179325       21612            Состав   Соль поваренная пищевая"
            ]
          },
          "metadata": {
            "tags": []
          },
          "execution_count": 28
        }
      ]
    },
    {
      "cell_type": "markdown",
      "metadata": {
        "id": "-DHQf11qGXlk"
      },
      "source": [
        "TAB_2_PRODUCTS"
      ]
    },
    {
      "cell_type": "code",
      "metadata": {
        "id": "pWgKYgD49h0S",
        "outputId": "7cf1b138-aa36-47fc-cc8f-8b10bc1af169",
        "colab": {
          "base_uri": "https://localhost:8080/",
          "height": 34
        }
      },
      "source": [
        "tab_2_products = pd.read_csv('/content/tab_2_products_2020-01-01.csv')\n",
        "tab_2_products.shape"
      ],
      "execution_count": null,
      "outputs": [
        {
          "output_type": "execute_result",
          "data": {
            "text/plain": [
              "(303667, 11)"
            ]
          },
          "metadata": {
            "tags": []
          },
          "execution_count": 26
        }
      ]
    },
    {
      "cell_type": "code",
      "metadata": {
        "id": "2glIVdDY9od6",
        "outputId": "78b9aa27-65f2-4843-999d-999cc609d964",
        "colab": {
          "base_uri": "https://localhost:8080/",
          "height": 34
        }
      },
      "source": [
        "tab_2_products['master_category_id'].max()"
      ],
      "execution_count": null,
      "outputs": [
        {
          "output_type": "execute_result",
          "data": {
            "text/plain": [
              "1013.0"
            ]
          },
          "metadata": {
            "tags": []
          },
          "execution_count": 16
        }
      ]
    },
    {
      "cell_type": "code",
      "metadata": {
        "id": "6_9rglVnFvDc",
        "outputId": "1d681e34-328e-415d-8c13-ec3ee7abbe45",
        "colab": {
          "base_uri": "https://localhost:8080/",
          "height": 419
        }
      },
      "source": [
        "tab_1_orders"
      ],
      "execution_count": null,
      "outputs": [
        {
          "output_type": "execute_result",
          "data": {
            "text/html": [
              "<div>\n",
              "<style scoped>\n",
              "    .dataframe tbody tr th:only-of-type {\n",
              "        vertical-align: middle;\n",
              "    }\n",
              "\n",
              "    .dataframe tbody tr th {\n",
              "        vertical-align: top;\n",
              "    }\n",
              "\n",
              "    .dataframe thead th {\n",
              "        text-align: right;\n",
              "    }\n",
              "</style>\n",
              "<table border=\"1\" class=\"dataframe\">\n",
              "  <thead>\n",
              "    <tr style=\"text-align: right;\">\n",
              "      <th></th>\n",
              "      <th>user_id</th>\n",
              "      <th>order_id</th>\n",
              "      <th>order_created_time</th>\n",
              "      <th>retailer</th>\n",
              "      <th>store_id</th>\n",
              "      <th>platform</th>\n",
              "      <th>city_name</th>\n",
              "    </tr>\n",
              "  </thead>\n",
              "  <tbody>\n",
              "    <tr>\n",
              "      <th>0</th>\n",
              "      <td>72</td>\n",
              "      <td>17431000</td>\n",
              "      <td>2020-09-26 10:48:57</td>\n",
              "      <td>METRO</td>\n",
              "      <td>21</td>\n",
              "      <td>app</td>\n",
              "      <td>Москва</td>\n",
              "    </tr>\n",
              "    <tr>\n",
              "      <th>1</th>\n",
              "      <td>1474</td>\n",
              "      <td>10066159</td>\n",
              "      <td>2020-05-14 17:35:58</td>\n",
              "      <td>METRO</td>\n",
              "      <td>21</td>\n",
              "      <td>app</td>\n",
              "      <td>Москва</td>\n",
              "    </tr>\n",
              "    <tr>\n",
              "      <th>2</th>\n",
              "      <td>1474</td>\n",
              "      <td>10083198</td>\n",
              "      <td>2020-05-15 04:40:50</td>\n",
              "      <td>METRO</td>\n",
              "      <td>21</td>\n",
              "      <td>app</td>\n",
              "      <td>Москва</td>\n",
              "    </tr>\n",
              "    <tr>\n",
              "      <th>3</th>\n",
              "      <td>1474</td>\n",
              "      <td>15090928</td>\n",
              "      <td>2020-08-16 09:32:13</td>\n",
              "      <td>METRO</td>\n",
              "      <td>21</td>\n",
              "      <td>app</td>\n",
              "      <td>Москва</td>\n",
              "    </tr>\n",
              "    <tr>\n",
              "      <th>4</th>\n",
              "      <td>2657</td>\n",
              "      <td>7652238</td>\n",
              "      <td>2020-03-29 19:44:24</td>\n",
              "      <td>METRO</td>\n",
              "      <td>21</td>\n",
              "      <td>app</td>\n",
              "      <td>Москва</td>\n",
              "    </tr>\n",
              "    <tr>\n",
              "      <th>...</th>\n",
              "      <td>...</td>\n",
              "      <td>...</td>\n",
              "      <td>...</td>\n",
              "      <td>...</td>\n",
              "      <td>...</td>\n",
              "      <td>...</td>\n",
              "      <td>...</td>\n",
              "    </tr>\n",
              "    <tr>\n",
              "      <th>2461953</th>\n",
              "      <td>3383197</td>\n",
              "      <td>17826259</td>\n",
              "      <td>2020-10-01 14:22:41</td>\n",
              "      <td>fissman</td>\n",
              "      <td>809</td>\n",
              "      <td>undefined</td>\n",
              "      <td>Москва</td>\n",
              "    </tr>\n",
              "    <tr>\n",
              "      <th>2461954</th>\n",
              "      <td>3383198</td>\n",
              "      <td>17826253</td>\n",
              "      <td>2020-10-01 14:22:38</td>\n",
              "      <td>fissman</td>\n",
              "      <td>810</td>\n",
              "      <td>undefined</td>\n",
              "      <td>Москва</td>\n",
              "    </tr>\n",
              "    <tr>\n",
              "      <th>2461955</th>\n",
              "      <td>3383199</td>\n",
              "      <td>17826297</td>\n",
              "      <td>2020-10-01 14:23:13</td>\n",
              "      <td>fissman</td>\n",
              "      <td>812</td>\n",
              "      <td>undefined</td>\n",
              "      <td>Москва</td>\n",
              "    </tr>\n",
              "    <tr>\n",
              "      <th>2461956</th>\n",
              "      <td>3383200</td>\n",
              "      <td>17826292</td>\n",
              "      <td>2020-10-01 14:23:09</td>\n",
              "      <td>fissman</td>\n",
              "      <td>814</td>\n",
              "      <td>undefined</td>\n",
              "      <td>Москва</td>\n",
              "    </tr>\n",
              "    <tr>\n",
              "      <th>2461957</th>\n",
              "      <td>3383203</td>\n",
              "      <td>17826280</td>\n",
              "      <td>2020-10-01 14:23:02</td>\n",
              "      <td>fissman</td>\n",
              "      <td>816</td>\n",
              "      <td>undefined</td>\n",
              "      <td>Москва</td>\n",
              "    </tr>\n",
              "  </tbody>\n",
              "</table>\n",
              "<p>2461958 rows × 7 columns</p>\n",
              "</div>"
            ],
            "text/plain": [
              "         user_id  order_id   order_created_time  ... store_id   platform city_name\n",
              "0             72  17431000  2020-09-26 10:48:57  ...       21        app    Москва\n",
              "1           1474  10066159  2020-05-14 17:35:58  ...       21        app    Москва\n",
              "2           1474  10083198  2020-05-15 04:40:50  ...       21        app    Москва\n",
              "3           1474  15090928  2020-08-16 09:32:13  ...       21        app    Москва\n",
              "4           2657   7652238  2020-03-29 19:44:24  ...       21        app    Москва\n",
              "...          ...       ...                  ...  ...      ...        ...       ...\n",
              "2461953  3383197  17826259  2020-10-01 14:22:41  ...      809  undefined    Москва\n",
              "2461954  3383198  17826253  2020-10-01 14:22:38  ...      810  undefined    Москва\n",
              "2461955  3383199  17826297  2020-10-01 14:23:13  ...      812  undefined    Москва\n",
              "2461956  3383200  17826292  2020-10-01 14:23:09  ...      814  undefined    Москва\n",
              "2461957  3383203  17826280  2020-10-01 14:23:02  ...      816  undefined    Москва\n",
              "\n",
              "[2461958 rows x 7 columns]"
            ]
          },
          "metadata": {
            "tags": []
          },
          "execution_count": 17
        }
      ]
    },
    {
      "cell_type": "code",
      "metadata": {
        "id": "aBysl7czGfCz"
      },
      "source": [
        "import datetime\n",
        "\n",
        "tab_1_orders['order_created_time'] = tab_1_orders['order_created_time'].apply(lambda x: datetime.datetime.strptime(x, '%Y-%m-%d %H:%M:%S'))"
      ],
      "execution_count": null,
      "outputs": []
    },
    {
      "cell_type": "code",
      "metadata": {
        "id": "LAekNzkEG-T5",
        "outputId": "af1148f0-4262-4c67-ce4a-155321e1641f",
        "colab": {
          "base_uri": "https://localhost:8080/",
          "height": 34
        }
      },
      "source": [
        "tab_1_orders.user_id.nunique()"
      ],
      "execution_count": null,
      "outputs": [
        {
          "output_type": "execute_result",
          "data": {
            "text/plain": [
              "753572"
            ]
          },
          "metadata": {
            "tags": []
          },
          "execution_count": 19
        }
      ]
    },
    {
      "cell_type": "code",
      "metadata": {
        "id": "TanqrPAPHSN3",
        "outputId": "2343792e-039e-4919-85cb-10b606c91ea0",
        "colab": {
          "base_uri": "https://localhost:8080/",
          "height": 238
        }
      },
      "source": [
        "tab_2_products.groupby(['user_id'])['product_id'].count().sort_values()"
      ],
      "execution_count": null,
      "outputs": [
        {
          "output_type": "execute_result",
          "data": {
            "text/plain": [
              "user_id\n",
              "693691      1\n",
              "479035      1\n",
              "473829      1\n",
              "719162      1\n",
              "702954      1\n",
              "         ... \n",
              "222648    165\n",
              "724561    168\n",
              "264965    182\n",
              "308975    225\n",
              "129053    239\n",
              "Name: product_id, Length: 10580, dtype: int64"
            ]
          },
          "metadata": {
            "tags": []
          },
          "execution_count": 20
        }
      ]
    },
    {
      "cell_type": "code",
      "metadata": {
        "id": "V21Ar9P8HVqt",
        "outputId": "36b67c31-b46b-41b3-a3aa-cb51a1ae39b9",
        "colab": {
          "base_uri": "https://localhost:8080/",
          "height": 419
        }
      },
      "source": [
        "tab_2_products[tab_2_products['user_id'] == 129053]"
      ],
      "execution_count": null,
      "outputs": [
        {
          "output_type": "execute_result",
          "data": {
            "text/html": [
              "<div>\n",
              "<style scoped>\n",
              "    .dataframe tbody tr th:only-of-type {\n",
              "        vertical-align: middle;\n",
              "    }\n",
              "\n",
              "    .dataframe tbody tr th {\n",
              "        vertical-align: top;\n",
              "    }\n",
              "\n",
              "    .dataframe thead th {\n",
              "        text-align: right;\n",
              "    }\n",
              "</style>\n",
              "<table border=\"1\" class=\"dataframe\">\n",
              "  <thead>\n",
              "    <tr style=\"text-align: right;\">\n",
              "      <th></th>\n",
              "      <th>user_id</th>\n",
              "      <th>order_id</th>\n",
              "      <th>line_item_id</th>\n",
              "      <th>price</th>\n",
              "      <th>quantity</th>\n",
              "      <th>discount</th>\n",
              "      <th>product_name</th>\n",
              "      <th>product_id</th>\n",
              "      <th>brand_name</th>\n",
              "      <th>master_category_id</th>\n",
              "      <th>parent_category_id</th>\n",
              "    </tr>\n",
              "  </thead>\n",
              "  <tbody>\n",
              "    <tr>\n",
              "      <th>41094</th>\n",
              "      <td>129053</td>\n",
              "      <td>5549752</td>\n",
              "      <td>28546533</td>\n",
              "      <td>9.670000</td>\n",
              "      <td>20</td>\n",
              "      <td>0.000000</td>\n",
              "      <td>Соль Славяна пищевая самосадочная 1 кг</td>\n",
              "      <td>21612</td>\n",
              "      <td>Славяна</td>\n",
              "      <td>575.0</td>\n",
              "      <td>9</td>\n",
              "    </tr>\n",
              "    <tr>\n",
              "      <th>41095</th>\n",
              "      <td>129053</td>\n",
              "      <td>5549752</td>\n",
              "      <td>28552147</td>\n",
              "      <td>83.000000</td>\n",
              "      <td>10</td>\n",
              "      <td>0.000000</td>\n",
              "      <td>Отбеливатель-пятновыводитель Бос Плюс Maximum</td>\n",
              "      <td>8181</td>\n",
              "      <td>Бос</td>\n",
              "      <td>250.0</td>\n",
              "      <td>243</td>\n",
              "    </tr>\n",
              "    <tr>\n",
              "      <th>41096</th>\n",
              "      <td>129053</td>\n",
              "      <td>5549752</td>\n",
              "      <td>28552210</td>\n",
              "      <td>114.900002</td>\n",
              "      <td>1</td>\n",
              "      <td>70.099998</td>\n",
              "      <td>Кондиционер для белья Lenor Parfumelle Жемчужн...</td>\n",
              "      <td>62476</td>\n",
              "      <td>Lenor</td>\n",
              "      <td>249.0</td>\n",
              "      <td>243</td>\n",
              "    </tr>\n",
              "    <tr>\n",
              "      <th>41097</th>\n",
              "      <td>129053</td>\n",
              "      <td>5549752</td>\n",
              "      <td>28552242</td>\n",
              "      <td>765.000000</td>\n",
              "      <td>1</td>\n",
              "      <td>0.000000</td>\n",
              "      <td>Гель для стирки Ласка Эффект восстановления дл...</td>\n",
              "      <td>8306</td>\n",
              "      <td>Ласка</td>\n",
              "      <td>247.0</td>\n",
              "      <td>243</td>\n",
              "    </tr>\n",
              "    <tr>\n",
              "      <th>41098</th>\n",
              "      <td>129053</td>\n",
              "      <td>5549752</td>\n",
              "      <td>28552245</td>\n",
              "      <td>765.000000</td>\n",
              "      <td>1</td>\n",
              "      <td>0.000000</td>\n",
              "      <td>Гель для стирки Ласка Эффект восстановления дл...</td>\n",
              "      <td>8305</td>\n",
              "      <td>Ласка</td>\n",
              "      <td>247.0</td>\n",
              "      <td>243</td>\n",
              "    </tr>\n",
              "    <tr>\n",
              "      <th>...</th>\n",
              "      <td>...</td>\n",
              "      <td>...</td>\n",
              "      <td>...</td>\n",
              "      <td>...</td>\n",
              "      <td>...</td>\n",
              "      <td>...</td>\n",
              "      <td>...</td>\n",
              "      <td>...</td>\n",
              "      <td>...</td>\n",
              "      <td>...</td>\n",
              "      <td>...</td>\n",
              "    </tr>\n",
              "    <tr>\n",
              "      <th>41328</th>\n",
              "      <td>129053</td>\n",
              "      <td>5626771</td>\n",
              "      <td>29217494</td>\n",
              "      <td>52.990002</td>\n",
              "      <td>1</td>\n",
              "      <td>0.000000</td>\n",
              "      <td>Лаваш Коломенский Армянский тонкий</td>\n",
              "      <td>13478</td>\n",
              "      <td>Коломенский</td>\n",
              "      <td>596.0</td>\n",
              "      <td>51</td>\n",
              "    </tr>\n",
              "    <tr>\n",
              "      <th>41329</th>\n",
              "      <td>129053</td>\n",
              "      <td>5626771</td>\n",
              "      <td>29217607</td>\n",
              "      <td>125.000000</td>\n",
              "      <td>1</td>\n",
              "      <td>0.000000</td>\n",
              "      <td>Горчица Heinz Французская 180 г</td>\n",
              "      <td>13930</td>\n",
              "      <td>Heinz</td>\n",
              "      <td>587.0</td>\n",
              "      <td>479</td>\n",
              "    </tr>\n",
              "    <tr>\n",
              "      <th>41330</th>\n",
              "      <td>129053</td>\n",
              "      <td>5626771</td>\n",
              "      <td>29217639</td>\n",
              "      <td>73.889999</td>\n",
              "      <td>2</td>\n",
              "      <td>18.000000</td>\n",
              "      <td>Сметана Простоквашино 25 % 315 г бзмж</td>\n",
              "      <td>39595</td>\n",
              "      <td>Простоквашино</td>\n",
              "      <td>29.0</td>\n",
              "      <td>20</td>\n",
              "    </tr>\n",
              "    <tr>\n",
              "      <th>41331</th>\n",
              "      <td>129053</td>\n",
              "      <td>5626771</td>\n",
              "      <td>29218228</td>\n",
              "      <td>115.000000</td>\n",
              "      <td>1</td>\n",
              "      <td>0.000000</td>\n",
              "      <td>Лимонная кислота Haas</td>\n",
              "      <td>64834</td>\n",
              "      <td>Haas</td>\n",
              "      <td>578.0</td>\n",
              "      <td>9</td>\n",
              "    </tr>\n",
              "    <tr>\n",
              "      <th>41332</th>\n",
              "      <td>129053</td>\n",
              "      <td>5626771</td>\n",
              "      <td>29225203</td>\n",
              "      <td>547.900024</td>\n",
              "      <td>1</td>\n",
              "      <td>501.100006</td>\n",
              "      <td>Таблетки Finish Powerball All in One Max для п...</td>\n",
              "      <td>24473</td>\n",
              "      <td>Finish</td>\n",
              "      <td>261.0</td>\n",
              "      <td>252</td>\n",
              "    </tr>\n",
              "  </tbody>\n",
              "</table>\n",
              "<p>239 rows × 11 columns</p>\n",
              "</div>"
            ],
            "text/plain": [
              "       user_id  order_id  ...  master_category_id  parent_category_id\n",
              "41094   129053   5549752  ...               575.0                   9\n",
              "41095   129053   5549752  ...               250.0                 243\n",
              "41096   129053   5549752  ...               249.0                 243\n",
              "41097   129053   5549752  ...               247.0                 243\n",
              "41098   129053   5549752  ...               247.0                 243\n",
              "...        ...       ...  ...                 ...                 ...\n",
              "41328   129053   5626771  ...               596.0                  51\n",
              "41329   129053   5626771  ...               587.0                 479\n",
              "41330   129053   5626771  ...                29.0                  20\n",
              "41331   129053   5626771  ...               578.0                   9\n",
              "41332   129053   5626771  ...               261.0                 252\n",
              "\n",
              "[239 rows x 11 columns]"
            ]
          },
          "metadata": {
            "tags": []
          },
          "execution_count": 21
        }
      ]
    },
    {
      "cell_type": "code",
      "metadata": {
        "id": "EqKRd1FFHp8m",
        "outputId": "0b37c1b7-e4cf-46e8-cf99-119e7cc22cbf",
        "colab": {
          "base_uri": "https://localhost:8080/",
          "height": 419
        }
      },
      "source": [
        "tab_1_orders.sort_values(by='order_created_time')"
      ],
      "execution_count": null,
      "outputs": [
        {
          "output_type": "execute_result",
          "data": {
            "text/html": [
              "<div>\n",
              "<style scoped>\n",
              "    .dataframe tbody tr th:only-of-type {\n",
              "        vertical-align: middle;\n",
              "    }\n",
              "\n",
              "    .dataframe tbody tr th {\n",
              "        vertical-align: top;\n",
              "    }\n",
              "\n",
              "    .dataframe thead th {\n",
              "        text-align: right;\n",
              "    }\n",
              "</style>\n",
              "<table border=\"1\" class=\"dataframe\">\n",
              "  <thead>\n",
              "    <tr style=\"text-align: right;\">\n",
              "      <th></th>\n",
              "      <th>user_id</th>\n",
              "      <th>order_id</th>\n",
              "      <th>order_created_time</th>\n",
              "      <th>retailer</th>\n",
              "      <th>store_id</th>\n",
              "      <th>platform</th>\n",
              "      <th>city_name</th>\n",
              "    </tr>\n",
              "  </thead>\n",
              "  <tbody>\n",
              "    <tr>\n",
              "      <th>732299</th>\n",
              "      <td>691783</td>\n",
              "      <td>5531326</td>\n",
              "      <td>2019-12-31 21:29:17</td>\n",
              "      <td>METRO</td>\n",
              "      <td>105</td>\n",
              "      <td>app</td>\n",
              "      <td>Самара</td>\n",
              "    </tr>\n",
              "    <tr>\n",
              "      <th>223398</th>\n",
              "      <td>1780472</td>\n",
              "      <td>5531329</td>\n",
              "      <td>2019-12-31 21:34:24</td>\n",
              "      <td>Ашан</td>\n",
              "      <td>185</td>\n",
              "      <td>web</td>\n",
              "      <td>Москва</td>\n",
              "    </tr>\n",
              "    <tr>\n",
              "      <th>922306</th>\n",
              "      <td>746811</td>\n",
              "      <td>5531332</td>\n",
              "      <td>2019-12-31 21:35:41</td>\n",
              "      <td>METRO</td>\n",
              "      <td>107</td>\n",
              "      <td>app</td>\n",
              "      <td>Волгоград</td>\n",
              "    </tr>\n",
              "    <tr>\n",
              "      <th>58249</th>\n",
              "      <td>38519</td>\n",
              "      <td>5531345</td>\n",
              "      <td>2019-12-31 22:15:31</td>\n",
              "      <td>METRO</td>\n",
              "      <td>3</td>\n",
              "      <td>web</td>\n",
              "      <td>Москва</td>\n",
              "    </tr>\n",
              "    <tr>\n",
              "      <th>157310</th>\n",
              "      <td>204195</td>\n",
              "      <td>5531349</td>\n",
              "      <td>2019-12-31 22:19:25</td>\n",
              "      <td>METRO</td>\n",
              "      <td>10</td>\n",
              "      <td>app</td>\n",
              "      <td>Москва</td>\n",
              "    </tr>\n",
              "    <tr>\n",
              "      <th>...</th>\n",
              "      <td>...</td>\n",
              "      <td>...</td>\n",
              "      <td>...</td>\n",
              "      <td>...</td>\n",
              "      <td>...</td>\n",
              "      <td>...</td>\n",
              "      <td>...</td>\n",
              "    </tr>\n",
              "    <tr>\n",
              "      <th>1675244</th>\n",
              "      <td>3387396</td>\n",
              "      <td>17843206</td>\n",
              "      <td>2020-10-01 20:57:01</td>\n",
              "      <td>METRO</td>\n",
              "      <td>91</td>\n",
              "      <td>web</td>\n",
              "      <td>Ростов-на-Дону</td>\n",
              "    </tr>\n",
              "    <tr>\n",
              "      <th>1694260</th>\n",
              "      <td>1257943</td>\n",
              "      <td>17843217</td>\n",
              "      <td>2020-10-01 20:57:34</td>\n",
              "      <td>METRO</td>\n",
              "      <td>126</td>\n",
              "      <td>app</td>\n",
              "      <td>Пермь</td>\n",
              "    </tr>\n",
              "    <tr>\n",
              "      <th>45657</th>\n",
              "      <td>3204913</td>\n",
              "      <td>17843224</td>\n",
              "      <td>2020-10-01 20:57:54</td>\n",
              "      <td>METRO</td>\n",
              "      <td>320</td>\n",
              "      <td>app</td>\n",
              "      <td>Московская Область</td>\n",
              "    </tr>\n",
              "    <tr>\n",
              "      <th>780358</th>\n",
              "      <td>3387406</td>\n",
              "      <td>17843230</td>\n",
              "      <td>2020-10-01 20:58:01</td>\n",
              "      <td>Лента</td>\n",
              "      <td>301</td>\n",
              "      <td>app</td>\n",
              "      <td>Грозный</td>\n",
              "    </tr>\n",
              "    <tr>\n",
              "      <th>1251076</th>\n",
              "      <td>1719384</td>\n",
              "      <td>17843257</td>\n",
              "      <td>2020-10-01 20:59:11</td>\n",
              "      <td>METRO</td>\n",
              "      <td>94</td>\n",
              "      <td>app</td>\n",
              "      <td>Московская Область</td>\n",
              "    </tr>\n",
              "  </tbody>\n",
              "</table>\n",
              "<p>2461958 rows × 7 columns</p>\n",
              "</div>"
            ],
            "text/plain": [
              "         user_id  order_id  ... platform           city_name\n",
              "732299    691783   5531326  ...      app              Самара\n",
              "223398   1780472   5531329  ...      web              Москва\n",
              "922306    746811   5531332  ...      app           Волгоград\n",
              "58249      38519   5531345  ...      web              Москва\n",
              "157310    204195   5531349  ...      app              Москва\n",
              "...          ...       ...  ...      ...                 ...\n",
              "1675244  3387396  17843206  ...      web      Ростов-на-Дону\n",
              "1694260  1257943  17843217  ...      app               Пермь\n",
              "45657    3204913  17843224  ...      app  Московская Область\n",
              "780358   3387406  17843230  ...      app             Грозный\n",
              "1251076  1719384  17843257  ...      app  Московская Область\n",
              "\n",
              "[2461958 rows x 7 columns]"
            ]
          },
          "metadata": {
            "tags": []
          },
          "execution_count": 22
        }
      ]
    },
    {
      "cell_type": "code",
      "metadata": {
        "id": "c66-9AdsKVP7",
        "outputId": "96025ed2-89cb-43de-e563-e56725e97622",
        "colab": {
          "base_uri": "https://localhost:8080/",
          "height": 34
        }
      },
      "source": [
        "tab_1_orders['order_created_time'].max() - tab_1_orders['order_created_time'].min()"
      ],
      "execution_count": null,
      "outputs": [
        {
          "output_type": "execute_result",
          "data": {
            "text/plain": [
              "Timedelta('274 days 23:29:54')"
            ]
          },
          "metadata": {
            "tags": []
          },
          "execution_count": 23
        }
      ]
    },
    {
      "cell_type": "code",
      "metadata": {
        "id": "LJQFB9ckKwq-"
      },
      "source": [
        "import matplotlib.pyplot as plt\n",
        "import seaborn as sns\n",
        "sns.set()"
      ],
      "execution_count": null,
      "outputs": []
    },
    {
      "cell_type": "code",
      "metadata": {
        "id": "koFDMRDbK3I_",
        "outputId": "1da25421-b0e8-4d5b-81d0-3bf6a0c92de5",
        "colab": {
          "base_uri": "https://localhost:8080/",
          "height": 34
        }
      },
      "source": [
        "tab_1_orders.user_id.nunique()"
      ],
      "execution_count": null,
      "outputs": [
        {
          "output_type": "execute_result",
          "data": {
            "text/plain": [
              "753572"
            ]
          },
          "metadata": {
            "tags": []
          },
          "execution_count": 25
        }
      ]
    },
    {
      "cell_type": "code",
      "metadata": {
        "id": "-0nXHM0VK_US",
        "outputId": "3891f09e-c04d-49c0-d641-247b1e10048d",
        "colab": {
          "base_uri": "https://localhost:8080/",
          "height": 419
        }
      },
      "source": [
        "tab_1_orders"
      ],
      "execution_count": null,
      "outputs": [
        {
          "output_type": "execute_result",
          "data": {
            "text/html": [
              "<div>\n",
              "<style scoped>\n",
              "    .dataframe tbody tr th:only-of-type {\n",
              "        vertical-align: middle;\n",
              "    }\n",
              "\n",
              "    .dataframe tbody tr th {\n",
              "        vertical-align: top;\n",
              "    }\n",
              "\n",
              "    .dataframe thead th {\n",
              "        text-align: right;\n",
              "    }\n",
              "</style>\n",
              "<table border=\"1\" class=\"dataframe\">\n",
              "  <thead>\n",
              "    <tr style=\"text-align: right;\">\n",
              "      <th></th>\n",
              "      <th>user_id</th>\n",
              "      <th>order_id</th>\n",
              "      <th>order_created_time</th>\n",
              "      <th>retailer</th>\n",
              "      <th>store_id</th>\n",
              "      <th>platform</th>\n",
              "      <th>city_name</th>\n",
              "    </tr>\n",
              "  </thead>\n",
              "  <tbody>\n",
              "    <tr>\n",
              "      <th>0</th>\n",
              "      <td>72</td>\n",
              "      <td>17431000</td>\n",
              "      <td>2020-09-26 10:48:57</td>\n",
              "      <td>METRO</td>\n",
              "      <td>21</td>\n",
              "      <td>app</td>\n",
              "      <td>Москва</td>\n",
              "    </tr>\n",
              "    <tr>\n",
              "      <th>1</th>\n",
              "      <td>1474</td>\n",
              "      <td>10066159</td>\n",
              "      <td>2020-05-14 17:35:58</td>\n",
              "      <td>METRO</td>\n",
              "      <td>21</td>\n",
              "      <td>app</td>\n",
              "      <td>Москва</td>\n",
              "    </tr>\n",
              "    <tr>\n",
              "      <th>2</th>\n",
              "      <td>1474</td>\n",
              "      <td>10083198</td>\n",
              "      <td>2020-05-15 04:40:50</td>\n",
              "      <td>METRO</td>\n",
              "      <td>21</td>\n",
              "      <td>app</td>\n",
              "      <td>Москва</td>\n",
              "    </tr>\n",
              "    <tr>\n",
              "      <th>3</th>\n",
              "      <td>1474</td>\n",
              "      <td>15090928</td>\n",
              "      <td>2020-08-16 09:32:13</td>\n",
              "      <td>METRO</td>\n",
              "      <td>21</td>\n",
              "      <td>app</td>\n",
              "      <td>Москва</td>\n",
              "    </tr>\n",
              "    <tr>\n",
              "      <th>4</th>\n",
              "      <td>2657</td>\n",
              "      <td>7652238</td>\n",
              "      <td>2020-03-29 19:44:24</td>\n",
              "      <td>METRO</td>\n",
              "      <td>21</td>\n",
              "      <td>app</td>\n",
              "      <td>Москва</td>\n",
              "    </tr>\n",
              "    <tr>\n",
              "      <th>...</th>\n",
              "      <td>...</td>\n",
              "      <td>...</td>\n",
              "      <td>...</td>\n",
              "      <td>...</td>\n",
              "      <td>...</td>\n",
              "      <td>...</td>\n",
              "      <td>...</td>\n",
              "    </tr>\n",
              "    <tr>\n",
              "      <th>2461953</th>\n",
              "      <td>3383197</td>\n",
              "      <td>17826259</td>\n",
              "      <td>2020-10-01 14:22:41</td>\n",
              "      <td>fissman</td>\n",
              "      <td>809</td>\n",
              "      <td>undefined</td>\n",
              "      <td>Москва</td>\n",
              "    </tr>\n",
              "    <tr>\n",
              "      <th>2461954</th>\n",
              "      <td>3383198</td>\n",
              "      <td>17826253</td>\n",
              "      <td>2020-10-01 14:22:38</td>\n",
              "      <td>fissman</td>\n",
              "      <td>810</td>\n",
              "      <td>undefined</td>\n",
              "      <td>Москва</td>\n",
              "    </tr>\n",
              "    <tr>\n",
              "      <th>2461955</th>\n",
              "      <td>3383199</td>\n",
              "      <td>17826297</td>\n",
              "      <td>2020-10-01 14:23:13</td>\n",
              "      <td>fissman</td>\n",
              "      <td>812</td>\n",
              "      <td>undefined</td>\n",
              "      <td>Москва</td>\n",
              "    </tr>\n",
              "    <tr>\n",
              "      <th>2461956</th>\n",
              "      <td>3383200</td>\n",
              "      <td>17826292</td>\n",
              "      <td>2020-10-01 14:23:09</td>\n",
              "      <td>fissman</td>\n",
              "      <td>814</td>\n",
              "      <td>undefined</td>\n",
              "      <td>Москва</td>\n",
              "    </tr>\n",
              "    <tr>\n",
              "      <th>2461957</th>\n",
              "      <td>3383203</td>\n",
              "      <td>17826280</td>\n",
              "      <td>2020-10-01 14:23:02</td>\n",
              "      <td>fissman</td>\n",
              "      <td>816</td>\n",
              "      <td>undefined</td>\n",
              "      <td>Москва</td>\n",
              "    </tr>\n",
              "  </tbody>\n",
              "</table>\n",
              "<p>2461958 rows × 7 columns</p>\n",
              "</div>"
            ],
            "text/plain": [
              "         user_id  order_id  order_created_time  ... store_id   platform city_name\n",
              "0             72  17431000 2020-09-26 10:48:57  ...       21        app    Москва\n",
              "1           1474  10066159 2020-05-14 17:35:58  ...       21        app    Москва\n",
              "2           1474  10083198 2020-05-15 04:40:50  ...       21        app    Москва\n",
              "3           1474  15090928 2020-08-16 09:32:13  ...       21        app    Москва\n",
              "4           2657   7652238 2020-03-29 19:44:24  ...       21        app    Москва\n",
              "...          ...       ...                 ...  ...      ...        ...       ...\n",
              "2461953  3383197  17826259 2020-10-01 14:22:41  ...      809  undefined    Москва\n",
              "2461954  3383198  17826253 2020-10-01 14:22:38  ...      810  undefined    Москва\n",
              "2461955  3383199  17826297 2020-10-01 14:23:13  ...      812  undefined    Москва\n",
              "2461956  3383200  17826292 2020-10-01 14:23:09  ...      814  undefined    Москва\n",
              "2461957  3383203  17826280 2020-10-01 14:23:02  ...      816  undefined    Москва\n",
              "\n",
              "[2461958 rows x 7 columns]"
            ]
          },
          "metadata": {
            "tags": []
          },
          "execution_count": 26
        }
      ]
    },
    {
      "cell_type": "code",
      "metadata": {
        "id": "IflckgD4LMGl"
      },
      "source": [
        ""
      ],
      "execution_count": null,
      "outputs": []
    },
    {
      "cell_type": "code",
      "metadata": {
        "id": "N7mfJG76RXUU",
        "outputId": "6a300e4b-d74e-4447-b455-48374cd3dce7",
        "colab": {
          "base_uri": "https://localhost:8080/",
          "height": 34
        }
      },
      "source": [
        "import tqdm\n",
        "import os \n",
        "import fnmatch\n",
        "\n",
        "tab_2 = fnmatch.filter(os.listdir('.'), 'tab_2*.csv')\n",
        "# q = pd.read_csv(tab_2[0])\n",
        "\n",
        "res = {}\n",
        "\n",
        "for file_name in tqdm.tqdm(tab_2):\n",
        "  key = file_name.split('_')[-1].split('.')[0]\n",
        "  frame = pd.read_csv(file_name)\n",
        "\n",
        "  unique = frame.user_id.unique()\n",
        "  res[key] = unique"
      ],
      "execution_count": null,
      "outputs": [
        {
          "output_type": "stream",
          "text": [
            "100%|██████████| 26/26 [03:02<00:00,  7.00s/it]\n"
          ],
          "name": "stderr"
        }
      ]
    },
    {
      "cell_type": "code",
      "metadata": {
        "id": "-49C3SxTRf5X"
      },
      "source": [
        "res"
      ],
      "execution_count": null,
      "outputs": []
    },
    {
      "cell_type": "code",
      "metadata": {
        "id": "iirOTAkWT0CH"
      },
      "source": [
        "matrix = np.zeros((len(res), len(res)))\n",
        "\n",
        "for i, key1 in enumerate(res.keys()):\n",
        "  for j, key2 in enumerate(res.keys()):\n",
        "    key1_users = res[key1]\n",
        "    key2_users = res[key2]\n",
        "    intersect_qty = np.intersect1d(key1_users, key2_users).shape[0]\n",
        "\n",
        "    matrix[i][j] = intersect_qty\n"
      ],
      "execution_count": null,
      "outputs": []
    },
    {
      "cell_type": "code",
      "metadata": {
        "id": "wO2SZ7oWUZWN"
      },
      "source": [
        "plt.figure(figsize=(15, 10))\n",
        "sns.heatmap(matrix, xticklabels=res.keys(), yticklabels=res.keys())"
      ],
      "execution_count": null,
      "outputs": []
    },
    {
      "cell_type": "code",
      "metadata": {
        "id": "YD_MhjOyR2qx",
        "outputId": "b0033fd4-c0a2-43c1-b0fe-579027af7d2f",
        "colab": {
          "base_uri": "https://localhost:8080/",
          "height": 470
        }
      },
      "source": [
        "tab_2_products"
      ],
      "execution_count": null,
      "outputs": [
        {
          "output_type": "execute_result",
          "data": {
            "text/html": [
              "<div>\n",
              "<style scoped>\n",
              "    .dataframe tbody tr th:only-of-type {\n",
              "        vertical-align: middle;\n",
              "    }\n",
              "\n",
              "    .dataframe tbody tr th {\n",
              "        vertical-align: top;\n",
              "    }\n",
              "\n",
              "    .dataframe thead th {\n",
              "        text-align: right;\n",
              "    }\n",
              "</style>\n",
              "<table border=\"1\" class=\"dataframe\">\n",
              "  <thead>\n",
              "    <tr style=\"text-align: right;\">\n",
              "      <th></th>\n",
              "      <th>user_id</th>\n",
              "      <th>order_id</th>\n",
              "      <th>line_item_id</th>\n",
              "      <th>price</th>\n",
              "      <th>quantity</th>\n",
              "      <th>discount</th>\n",
              "      <th>product_name</th>\n",
              "      <th>product_id</th>\n",
              "      <th>brand_name</th>\n",
              "      <th>master_category_id</th>\n",
              "      <th>parent_category_id</th>\n",
              "    </tr>\n",
              "  </thead>\n",
              "  <tbody>\n",
              "    <tr>\n",
              "      <th>0</th>\n",
              "      <td>525</td>\n",
              "      <td>5354800</td>\n",
              "      <td>28381452</td>\n",
              "      <td>116.000000</td>\n",
              "      <td>4</td>\n",
              "      <td>0.000000</td>\n",
              "      <td>Лазанья Золотой Петушок мясной слоеный пирог з...</td>\n",
              "      <td>37548</td>\n",
              "      <td>Золотой Петушок</td>\n",
              "      <td>101.0</td>\n",
              "      <td>99</td>\n",
              "    </tr>\n",
              "    <tr>\n",
              "      <th>1</th>\n",
              "      <td>525</td>\n",
              "      <td>5354800</td>\n",
              "      <td>29242911</td>\n",
              "      <td>56.990002</td>\n",
              "      <td>2</td>\n",
              "      <td>13.080000</td>\n",
              "      <td>Хлеб Хлебный Дом Геркулес зерновой с отрубями ...</td>\n",
              "      <td>5636</td>\n",
              "      <td>Хлебный Дом</td>\n",
              "      <td>596.0</td>\n",
              "      <td>51</td>\n",
              "    </tr>\n",
              "    <tr>\n",
              "      <th>2</th>\n",
              "      <td>525</td>\n",
              "      <td>5354800</td>\n",
              "      <td>29242919</td>\n",
              "      <td>64.989998</td>\n",
              "      <td>2</td>\n",
              "      <td>40.020000</td>\n",
              "      <td>Тортилья Delicados оригинальная пшеничная</td>\n",
              "      <td>22107</td>\n",
              "      <td>Delicados</td>\n",
              "      <td>596.0</td>\n",
              "      <td>51</td>\n",
              "    </tr>\n",
              "    <tr>\n",
              "      <th>3</th>\n",
              "      <td>525</td>\n",
              "      <td>5354800</td>\n",
              "      <td>29243785</td>\n",
              "      <td>44.990002</td>\n",
              "      <td>6</td>\n",
              "      <td>0.000000</td>\n",
              "      <td>Вода питьевая минеральная BonAqua газированная...</td>\n",
              "      <td>2530</td>\n",
              "      <td>BonAqua</td>\n",
              "      <td>77.0</td>\n",
              "      <td>74</td>\n",
              "    </tr>\n",
              "    <tr>\n",
              "      <th>4</th>\n",
              "      <td>525</td>\n",
              "      <td>5354800</td>\n",
              "      <td>29244246</td>\n",
              "      <td>65.900002</td>\n",
              "      <td>6</td>\n",
              "      <td>30.990000</td>\n",
              "      <td>Газированный напиток Mirinda Апельсин 1,5 л</td>\n",
              "      <td>3818486</td>\n",
              "      <td>Mirinda</td>\n",
              "      <td>76.0</td>\n",
              "      <td>74</td>\n",
              "    </tr>\n",
              "    <tr>\n",
              "      <th>...</th>\n",
              "      <td>...</td>\n",
              "      <td>...</td>\n",
              "      <td>...</td>\n",
              "      <td>...</td>\n",
              "      <td>...</td>\n",
              "      <td>...</td>\n",
              "      <td>...</td>\n",
              "      <td>...</td>\n",
              "      <td>...</td>\n",
              "      <td>...</td>\n",
              "      <td>...</td>\n",
              "    </tr>\n",
              "    <tr>\n",
              "      <th>303662</th>\n",
              "      <td>725964</td>\n",
              "      <td>5652846</td>\n",
              "      <td>29327078</td>\n",
              "      <td>52.639999</td>\n",
              "      <td>2</td>\n",
              "      <td>23.780001</td>\n",
              "      <td>Черная смородина Fine life быстрозамороженная</td>\n",
              "      <td>94654</td>\n",
              "      <td>Fine Life</td>\n",
              "      <td>592.0</td>\n",
              "      <td>90</td>\n",
              "    </tr>\n",
              "    <tr>\n",
              "      <th>303663</th>\n",
              "      <td>725964</td>\n",
              "      <td>5652846</td>\n",
              "      <td>29327108</td>\n",
              "      <td>29.459999</td>\n",
              "      <td>1</td>\n",
              "      <td>39.400002</td>\n",
              "      <td>Помидоры черри красные 250 г</td>\n",
              "      <td>687</td>\n",
              "      <td>Без бренда</td>\n",
              "      <td>85.0</td>\n",
              "      <td>84</td>\n",
              "    </tr>\n",
              "    <tr>\n",
              "      <th>303664</th>\n",
              "      <td>725964</td>\n",
              "      <td>5652846</td>\n",
              "      <td>29327109</td>\n",
              "      <td>29.480000</td>\n",
              "      <td>1</td>\n",
              "      <td>29.580000</td>\n",
              "      <td>Помидоры черри сливовидные 250 г</td>\n",
              "      <td>4830888</td>\n",
              "      <td>Без бренда</td>\n",
              "      <td>85.0</td>\n",
              "      <td>84</td>\n",
              "    </tr>\n",
              "    <tr>\n",
              "      <th>303665</th>\n",
              "      <td>725964</td>\n",
              "      <td>5652846</td>\n",
              "      <td>29327192</td>\n",
              "      <td>83.220001</td>\n",
              "      <td>1</td>\n",
              "      <td>21.209999</td>\n",
              "      <td>Сыр Bonfesto Моцарелла mini 45% 100 г бзмж</td>\n",
              "      <td>26739</td>\n",
              "      <td>Bonfesto</td>\n",
              "      <td>38.0</td>\n",
              "      <td>35</td>\n",
              "    </tr>\n",
              "    <tr>\n",
              "      <th>303666</th>\n",
              "      <td>725964</td>\n",
              "      <td>5652846</td>\n",
              "      <td>29434188</td>\n",
              "      <td>138.009995</td>\n",
              "      <td>1</td>\n",
              "      <td>0.000000</td>\n",
              "      <td>Сыр Galbani Mozzarella Ball 45% 125 г бзмж</td>\n",
              "      <td>407</td>\n",
              "      <td>Galbani</td>\n",
              "      <td>38.0</td>\n",
              "      <td>35</td>\n",
              "    </tr>\n",
              "  </tbody>\n",
              "</table>\n",
              "<p>303667 rows × 11 columns</p>\n",
              "</div>"
            ],
            "text/plain": [
              "        user_id  order_id  ...  master_category_id  parent_category_id\n",
              "0           525   5354800  ...               101.0                  99\n",
              "1           525   5354800  ...               596.0                  51\n",
              "2           525   5354800  ...               596.0                  51\n",
              "3           525   5354800  ...                77.0                  74\n",
              "4           525   5354800  ...                76.0                  74\n",
              "...         ...       ...  ...                 ...                 ...\n",
              "303662   725964   5652846  ...               592.0                  90\n",
              "303663   725964   5652846  ...                85.0                  84\n",
              "303664   725964   5652846  ...                85.0                  84\n",
              "303665   725964   5652846  ...                38.0                  35\n",
              "303666   725964   5652846  ...                38.0                  35\n",
              "\n",
              "[303667 rows x 11 columns]"
            ]
          },
          "metadata": {
            "tags": []
          },
          "execution_count": 30
        }
      ]
    },
    {
      "cell_type": "code",
      "metadata": {
        "id": "YK3urvilWMOw",
        "outputId": "fb2fc5b5-0ba3-4229-b020-4e53f6ae824b",
        "colab": {
          "base_uri": "https://localhost:8080/",
          "height": 459
        }
      },
      "source": [
        "# total_items = {}\n",
        "\n",
        "# for file_name in tqdm.tqdm(tab_2):\n",
        "#   key = file_name.split('_')[-1].split('.')[0]\n",
        "#   frame = pd.read_csv(file_name)\n",
        "\n",
        "sorted(tab_2)"
      ],
      "execution_count": null,
      "outputs": [
        {
          "output_type": "execute_result",
          "data": {
            "text/plain": [
              "['tab_2_products_2020-01-01.csv',\n",
              " 'tab_2_products_2020-01-11.csv',\n",
              " 'tab_2_products_2020-01-21.csv',\n",
              " 'tab_2_products_2020-01-31.csv',\n",
              " 'tab_2_products_2020-02-10.csv',\n",
              " 'tab_2_products_2020-02-20.csv',\n",
              " 'tab_2_products_2020-03-01.csv',\n",
              " 'tab_2_products_2020-03-11.csv',\n",
              " 'tab_2_products_2020-03-21.csv',\n",
              " 'tab_2_products_2020-03-31.csv',\n",
              " 'tab_2_products_2020-04-10.csv',\n",
              " 'tab_2_products_2020-04-20.csv',\n",
              " 'tab_2_products_2020-04-30.csv',\n",
              " 'tab_2_products_2020-05-10.csv',\n",
              " 'tab_2_products_2020-05-20.csv',\n",
              " 'tab_2_products_2020-05-30.csv',\n",
              " 'tab_2_products_2020-06-09.csv',\n",
              " 'tab_2_products_2020-06-19.csv',\n",
              " 'tab_2_products_2020-06-29.csv',\n",
              " 'tab_2_products_2020-07-09.csv',\n",
              " 'tab_2_products_2020-07-19.csv',\n",
              " 'tab_2_products_2020-07-29.csv',\n",
              " 'tab_2_products_2020-08-08.csv',\n",
              " 'tab_2_products_2020-08-18.csv',\n",
              " 'tab_2_products_2020-08-28.csv',\n",
              " 'tab_2_products_2020-09-07.csv']"
            ]
          },
          "metadata": {
            "tags": []
          },
          "execution_count": 31
        }
      ]
    },
    {
      "cell_type": "code",
      "metadata": {
        "id": "gvynGk8sc1Bx"
      },
      "source": [
        "one_last_month = [\n",
        "    'tab_2_products_2020-08-28.csv',\n",
        "    'tab_2_products_2020-09-07.csv'         \n",
        "]\n",
        "\n",
        "three_last_months = [\n",
        "    'tab_2_products_2020-06-09.csv',\n",
        "    'tab_2_products_2020-06-19.csv',\n",
        "    'tab_2_products_2020-06-29.csv',\n",
        "    'tab_2_products_2020-07-09.csv',\n",
        "    'tab_2_products_2020-07-19.csv',\n",
        "    'tab_2_products_2020-07-29.csv',\n",
        "    'tab_2_products_2020-08-08.csv',\n",
        "    'tab_2_products_2020-08-18.csv',\n",
        "    'tab_2_products_2020-08-28.csv',\n",
        "    'tab_2_products_2020-09-07.csv' \n",
        "]\n",
        "\n",
        "six_last_months = [\n",
        "    'tab_2_products_2020-03-01.csv',\n",
        "    'tab_2_products_2020-03-11.csv',\n",
        "    'tab_2_products_2020-03-21.csv',\n",
        "    'tab_2_products_2020-03-31.csv',\n",
        "    'tab_2_products_2020-04-10.csv',\n",
        "    'tab_2_products_2020-04-20.csv',\n",
        "    'tab_2_products_2020-04-30.csv',\n",
        "    'tab_2_products_2020-05-10.csv',\n",
        "    'tab_2_products_2020-05-20.csv',\n",
        "    'tab_2_products_2020-05-30.csv',\n",
        "    'tab_2_products_2020-06-09.csv',\n",
        "    'tab_2_products_2020-06-19.csv',\n",
        "    'tab_2_products_2020-06-29.csv',\n",
        "    'tab_2_products_2020-07-09.csv',\n",
        "    'tab_2_products_2020-07-19.csv',\n",
        "    'tab_2_products_2020-07-29.csv',\n",
        "    'tab_2_products_2020-08-08.csv',\n",
        "    'tab_2_products_2020-08-18.csv',\n",
        "    'tab_2_products_2020-08-28.csv',\n",
        "    'tab_2_products_2020-09-07.csv'\n",
        "]"
      ],
      "execution_count": null,
      "outputs": []
    },
    {
      "cell_type": "code",
      "metadata": {
        "id": "4m6mxqGbc9aF"
      },
      "source": [
        "from collections import Counter\n",
        "\n",
        "x = pd.read_csv(one_last_month[0])\n",
        "y = pd.read_csv(one_last_month[1])\n",
        "\n",
        "con = pd.concat([x, y])"
      ],
      "execution_count": null,
      "outputs": []
    },
    {
      "cell_type": "code",
      "metadata": {
        "id": "vOGd98azdpcX"
      },
      "source": [
        "september = Counter(con['product_id'].values)"
      ],
      "execution_count": null,
      "outputs": []
    },
    {
      "cell_type": "code",
      "metadata": {
        "id": "YOPtIpeCdrSS"
      },
      "source": [
        "# x['product_id'].value_counts().sort_values(ascending=False).head(50)\n",
        "\n",
        "sept_frame = con[con['product_id'] != 0]['product_id'].value_counts().sort_values(ascending=False).head(50).to_frame().reset_index().rename(columns={'product_id': 'count', 'index': 'id'})\n"
      ],
      "execution_count": null,
      "outputs": []
    },
    {
      "cell_type": "code",
      "metadata": {
        "id": "W13xjjzmeB6B",
        "outputId": "f0d498d7-00df-459d-de53-8a03a82eddbc",
        "colab": {
          "base_uri": "https://localhost:8080/",
          "height": 867
        }
      },
      "source": [
        "t = ' '.join(str(x) for x in sept_frame.id.values.tolist())\n",
        "t.split(' ')"
      ],
      "execution_count": null,
      "outputs": [
        {
          "output_type": "execute_result",
          "data": {
            "text/plain": [
              "['709',\n",
              " '39590',\n",
              " '166',\n",
              " '158',\n",
              " '180',\n",
              " '100',\n",
              " '14564',\n",
              " '67694',\n",
              " '10095',\n",
              " '6685882',\n",
              " '1300',\n",
              " '7325382',\n",
              " '73725',\n",
              " '176',\n",
              " '68465',\n",
              " '5469728',\n",
              " '3497419',\n",
              " '7397',\n",
              " '70763',\n",
              " '77405',\n",
              " '66893',\n",
              " '49911',\n",
              " '63072',\n",
              " '72011',\n",
              " '55133',\n",
              " '6782754',\n",
              " '3817484',\n",
              " '57291',\n",
              " '72875',\n",
              " '21904',\n",
              " '21757',\n",
              " '24836',\n",
              " '5481688',\n",
              " '6805305',\n",
              " '36067',\n",
              " '57292',\n",
              " '96306',\n",
              " '24835',\n",
              " '6749608',\n",
              " '17314',\n",
              " '2271',\n",
              " '7401',\n",
              " '71049',\n",
              " '77094',\n",
              " '57621',\n",
              " '1746',\n",
              " '49921',\n",
              " '26335',\n",
              " '72003',\n",
              " '55134']"
            ]
          },
          "metadata": {
            "tags": []
          },
          "execution_count": 36
        }
      ]
    },
    {
      "cell_type": "code",
      "metadata": {
        "id": "dnKXxZREe-Vo"
      },
      "source": [
        "submit = pd.read_csv('sample_submission.csv')"
      ],
      "execution_count": null,
      "outputs": []
    },
    {
      "cell_type": "code",
      "metadata": {
        "id": "_z6utPmBiqMB",
        "outputId": "75e9da94-1a0a-4cc3-c0df-52e68ae9306e",
        "colab": {
          "base_uri": "https://localhost:8080/",
          "height": 419
        }
      },
      "source": [
        "submit"
      ],
      "execution_count": null,
      "outputs": [
        {
          "output_type": "execute_result",
          "data": {
            "text/html": [
              "<div>\n",
              "<style scoped>\n",
              "    .dataframe tbody tr th:only-of-type {\n",
              "        vertical-align: middle;\n",
              "    }\n",
              "\n",
              "    .dataframe tbody tr th {\n",
              "        vertical-align: top;\n",
              "    }\n",
              "\n",
              "    .dataframe thead th {\n",
              "        text-align: right;\n",
              "    }\n",
              "</style>\n",
              "<table border=\"1\" class=\"dataframe\">\n",
              "  <thead>\n",
              "    <tr style=\"text-align: right;\">\n",
              "      <th></th>\n",
              "      <th>Id</th>\n",
              "      <th>Predicted</th>\n",
              "    </tr>\n",
              "  </thead>\n",
              "  <tbody>\n",
              "    <tr>\n",
              "      <th>0</th>\n",
              "      <td>51</td>\n",
              "      <td>3239211 10720024 8493844 1965540 5009002 95218...</td>\n",
              "    </tr>\n",
              "    <tr>\n",
              "      <th>1</th>\n",
              "      <td>65</td>\n",
              "      <td>11693356 13392267 2464515 2245175 4748570 1134...</td>\n",
              "    </tr>\n",
              "    <tr>\n",
              "      <th>2</th>\n",
              "      <td>766</td>\n",
              "      <td>12773054 3692749 12726751 10041624 11893515 23...</td>\n",
              "    </tr>\n",
              "    <tr>\n",
              "      <th>3</th>\n",
              "      <td>1132</td>\n",
              "      <td>8613934 3599065 575614 4821474 11609320 699047...</td>\n",
              "    </tr>\n",
              "    <tr>\n",
              "      <th>4</th>\n",
              "      <td>1578</td>\n",
              "      <td>289404 4328240 3129788 9390886 11166655 173077...</td>\n",
              "    </tr>\n",
              "    <tr>\n",
              "      <th>...</th>\n",
              "      <td>...</td>\n",
              "      <td>...</td>\n",
              "    </tr>\n",
              "    <tr>\n",
              "      <th>107063</th>\n",
              "      <td>2997849</td>\n",
              "      <td>488280 12804927 11495685 10630957 10105977 123...</td>\n",
              "    </tr>\n",
              "    <tr>\n",
              "      <th>107064</th>\n",
              "      <td>2997853</td>\n",
              "      <td>8793937 4387315 2889577 12818088 5845044 33833...</td>\n",
              "    </tr>\n",
              "    <tr>\n",
              "      <th>107065</th>\n",
              "      <td>2997873</td>\n",
              "      <td>13062625 4299544 6891932 6790047 5060191 19574...</td>\n",
              "    </tr>\n",
              "    <tr>\n",
              "      <th>107066</th>\n",
              "      <td>2997988</td>\n",
              "      <td>450088 7429186 2128096 12142139 4530043 425405...</td>\n",
              "    </tr>\n",
              "    <tr>\n",
              "      <th>107067</th>\n",
              "      <td>2998048</td>\n",
              "      <td>8821711 6445161 10484134 12401659 9743691 3364...</td>\n",
              "    </tr>\n",
              "  </tbody>\n",
              "</table>\n",
              "<p>107068 rows × 2 columns</p>\n",
              "</div>"
            ],
            "text/plain": [
              "             Id                                          Predicted\n",
              "0            51  3239211 10720024 8493844 1965540 5009002 95218...\n",
              "1            65  11693356 13392267 2464515 2245175 4748570 1134...\n",
              "2           766  12773054 3692749 12726751 10041624 11893515 23...\n",
              "3          1132  8613934 3599065 575614 4821474 11609320 699047...\n",
              "4          1578  289404 4328240 3129788 9390886 11166655 173077...\n",
              "...         ...                                                ...\n",
              "107063  2997849  488280 12804927 11495685 10630957 10105977 123...\n",
              "107064  2997853  8793937 4387315 2889577 12818088 5845044 33833...\n",
              "107065  2997873  13062625 4299544 6891932 6790047 5060191 19574...\n",
              "107066  2997988  450088 7429186 2128096 12142139 4530043 425405...\n",
              "107067  2998048  8821711 6445161 10484134 12401659 9743691 3364...\n",
              "\n",
              "[107068 rows x 2 columns]"
            ]
          },
          "metadata": {
            "tags": []
          },
          "execution_count": 38
        }
      ]
    },
    {
      "cell_type": "code",
      "metadata": {
        "id": "5lvHdtXZst3H"
      },
      "source": [
        ""
      ],
      "execution_count": null,
      "outputs": []
    },
    {
      "cell_type": "code",
      "metadata": {
        "id": "-KofBYYxkbZL",
        "outputId": "6bd49c6f-708c-442f-a1b8-d5684c511ceb",
        "colab": {
          "base_uri": "https://localhost:8080/",
          "height": 419
        }
      },
      "source": [
        "x[['user_id', 'product_id']]\n",
        "\n",
        "for file_name in three_last_months:\n",
        "  frame = pd.read_csv(file_name)[['user_id', 'product_id']]"
      ],
      "execution_count": null,
      "outputs": [
        {
          "output_type": "execute_result",
          "data": {
            "text/html": [
              "<div>\n",
              "<style scoped>\n",
              "    .dataframe tbody tr th:only-of-type {\n",
              "        vertical-align: middle;\n",
              "    }\n",
              "\n",
              "    .dataframe tbody tr th {\n",
              "        vertical-align: top;\n",
              "    }\n",
              "\n",
              "    .dataframe thead th {\n",
              "        text-align: right;\n",
              "    }\n",
              "</style>\n",
              "<table border=\"1\" class=\"dataframe\">\n",
              "  <thead>\n",
              "    <tr style=\"text-align: right;\">\n",
              "      <th></th>\n",
              "      <th>user_id</th>\n",
              "      <th>product_id</th>\n",
              "    </tr>\n",
              "  </thead>\n",
              "  <tbody>\n",
              "    <tr>\n",
              "      <th>0</th>\n",
              "      <td>65</td>\n",
              "      <td>201286</td>\n",
              "    </tr>\n",
              "    <tr>\n",
              "      <th>1</th>\n",
              "      <td>65</td>\n",
              "      <td>105764</td>\n",
              "    </tr>\n",
              "    <tr>\n",
              "      <th>2</th>\n",
              "      <td>65</td>\n",
              "      <td>26062</td>\n",
              "    </tr>\n",
              "    <tr>\n",
              "      <th>3</th>\n",
              "      <td>65</td>\n",
              "      <td>3302524</td>\n",
              "    </tr>\n",
              "    <tr>\n",
              "      <th>4</th>\n",
              "      <td>65</td>\n",
              "      <td>54728</td>\n",
              "    </tr>\n",
              "    <tr>\n",
              "      <th>...</th>\n",
              "      <td>...</td>\n",
              "      <td>...</td>\n",
              "    </tr>\n",
              "    <tr>\n",
              "      <th>3167950</th>\n",
              "      <td>3142966</td>\n",
              "      <td>71049</td>\n",
              "    </tr>\n",
              "    <tr>\n",
              "      <th>3167951</th>\n",
              "      <td>3142966</td>\n",
              "      <td>96217</td>\n",
              "    </tr>\n",
              "    <tr>\n",
              "      <th>3167952</th>\n",
              "      <td>3142966</td>\n",
              "      <td>94125</td>\n",
              "    </tr>\n",
              "    <tr>\n",
              "      <th>3167953</th>\n",
              "      <td>3142966</td>\n",
              "      <td>4235874</td>\n",
              "    </tr>\n",
              "    <tr>\n",
              "      <th>3167954</th>\n",
              "      <td>3142966</td>\n",
              "      <td>3850672</td>\n",
              "    </tr>\n",
              "  </tbody>\n",
              "</table>\n",
              "<p>3167955 rows × 2 columns</p>\n",
              "</div>"
            ],
            "text/plain": [
              "         user_id  product_id\n",
              "0             65      201286\n",
              "1             65      105764\n",
              "2             65       26062\n",
              "3             65     3302524\n",
              "4             65       54728\n",
              "...          ...         ...\n",
              "3167950  3142966       71049\n",
              "3167951  3142966       96217\n",
              "3167952  3142966       94125\n",
              "3167953  3142966     4235874\n",
              "3167954  3142966     3850672\n",
              "\n",
              "[3167955 rows x 2 columns]"
            ]
          },
          "metadata": {
            "tags": []
          },
          "execution_count": 232
        }
      ]
    },
    {
      "cell_type": "code",
      "metadata": {
        "id": "g6hi8bHHp02d"
      },
      "source": [
        "submission = pd.read_csv('submission_3_month(2).csv')"
      ],
      "execution_count": null,
      "outputs": []
    },
    {
      "cell_type": "code",
      "metadata": {
        "id": "C_XeqqbYp3BE",
        "outputId": "340cedde-de54-44c4-919c-24a274b4be66",
        "colab": {
          "base_uri": "https://localhost:8080/",
          "height": 419
        }
      },
      "source": [
        "submission"
      ],
      "execution_count": null,
      "outputs": [
        {
          "output_type": "execute_result",
          "data": {
            "text/html": [
              "<div>\n",
              "<style scoped>\n",
              "    .dataframe tbody tr th:only-of-type {\n",
              "        vertical-align: middle;\n",
              "    }\n",
              "\n",
              "    .dataframe tbody tr th {\n",
              "        vertical-align: top;\n",
              "    }\n",
              "\n",
              "    .dataframe thead th {\n",
              "        text-align: right;\n",
              "    }\n",
              "</style>\n",
              "<table border=\"1\" class=\"dataframe\">\n",
              "  <thead>\n",
              "    <tr style=\"text-align: right;\">\n",
              "      <th></th>\n",
              "      <th>user_id</th>\n",
              "      <th>answer_list</th>\n",
              "    </tr>\n",
              "  </thead>\n",
              "  <tbody>\n",
              "    <tr>\n",
              "      <th>0</th>\n",
              "      <td>51</td>\n",
              "      <td>14863 19562 63057 3562687 709 9979 456 661 550...</td>\n",
              "    </tr>\n",
              "    <tr>\n",
              "      <th>1</th>\n",
              "      <td>65</td>\n",
              "      <td>54728 18450 3817542 709 18439 26062 105764 771...</td>\n",
              "    </tr>\n",
              "    <tr>\n",
              "      <th>2</th>\n",
              "      <td>187</td>\n",
              "      <td>88084 88086</td>\n",
              "    </tr>\n",
              "    <tr>\n",
              "      <th>3</th>\n",
              "      <td>400</td>\n",
              "      <td>0 813 94333 3817507 177 407 26751 55034 57085 ...</td>\n",
              "    </tr>\n",
              "    <tr>\n",
              "      <th>4</th>\n",
              "      <td>576</td>\n",
              "      <td>177 2600 102 4443 5628 10002 10757 14007 46469...</td>\n",
              "    </tr>\n",
              "    <tr>\n",
              "      <th>...</th>\n",
              "      <td>...</td>\n",
              "      <td>...</td>\n",
              "    </tr>\n",
              "    <tr>\n",
              "      <th>107063</th>\n",
              "      <td>3142760</td>\n",
              "      <td>225 452 1985 5154 5601 6567 6757 8333 12817 13...</td>\n",
              "    </tr>\n",
              "    <tr>\n",
              "      <th>107064</th>\n",
              "      <td>3142766</td>\n",
              "      <td>104 60546 7365485 7343959 5045132 5044874 3826...</td>\n",
              "    </tr>\n",
              "    <tr>\n",
              "      <th>107065</th>\n",
              "      <td>3142774</td>\n",
              "      <td>14616 21868 201892 1159915 1159916 4033462 504...</td>\n",
              "    </tr>\n",
              "    <tr>\n",
              "      <th>107066</th>\n",
              "      <td>3142820</td>\n",
              "      <td>0 72614 4277211 4277111 4277109 85340 80212 78...</td>\n",
              "    </tr>\n",
              "    <tr>\n",
              "      <th>107067</th>\n",
              "      <td>3142875</td>\n",
              "      <td>9741 63760 63762 63763 67694 68465 5044950 504...</td>\n",
              "    </tr>\n",
              "  </tbody>\n",
              "</table>\n",
              "<p>107068 rows × 2 columns</p>\n",
              "</div>"
            ],
            "text/plain": [
              "        user_id                                        answer_list\n",
              "0            51  14863 19562 63057 3562687 709 9979 456 661 550...\n",
              "1            65  54728 18450 3817542 709 18439 26062 105764 771...\n",
              "2           187                                        88084 88086\n",
              "3           400  0 813 94333 3817507 177 407 26751 55034 57085 ...\n",
              "4           576  177 2600 102 4443 5628 10002 10757 14007 46469...\n",
              "...         ...                                                ...\n",
              "107063  3142760  225 452 1985 5154 5601 6567 6757 8333 12817 13...\n",
              "107064  3142766  104 60546 7365485 7343959 5045132 5044874 3826...\n",
              "107065  3142774  14616 21868 201892 1159915 1159916 4033462 504...\n",
              "107066  3142820  0 72614 4277211 4277111 4277109 85340 80212 78...\n",
              "107067  3142875  9741 63760 63762 63763 67694 68465 5044950 504...\n",
              "\n",
              "[107068 rows x 2 columns]"
            ]
          },
          "metadata": {
            "tags": []
          },
          "execution_count": 406
        }
      ]
    },
    {
      "cell_type": "code",
      "metadata": {
        "id": "IJwHXvvIr0gv",
        "outputId": "a02c5eba-1fb3-45a7-a14f-6881dbdcbca4",
        "colab": {
          "base_uri": "https://localhost:8080/",
          "height": 197
        }
      },
      "source": [
        "qwe = submit.merge(submission, left_on='Id', right_on='user_id', how='left')\n",
        "\n",
        "qwe['answer_array'] = qwe['answer_list'].apply(lambda x: np.nan if pd.isnull(x) else x.split(' '))"
      ],
      "execution_count": null,
      "outputs": [
        {
          "output_type": "error",
          "ename": "NameError",
          "evalue": "ignored",
          "traceback": [
            "\u001b[0;31m---------------------------------------------------------------------------\u001b[0m",
            "\u001b[0;31mNameError\u001b[0m                                 Traceback (most recent call last)",
            "\u001b[0;32m<ipython-input-39-c047c740d5e5>\u001b[0m in \u001b[0;36m<module>\u001b[0;34m()\u001b[0m\n\u001b[0;32m----> 1\u001b[0;31m \u001b[0mqwe\u001b[0m \u001b[0;34m=\u001b[0m \u001b[0msubmit\u001b[0m\u001b[0;34m.\u001b[0m\u001b[0mmerge\u001b[0m\u001b[0;34m(\u001b[0m\u001b[0msubmission\u001b[0m\u001b[0;34m,\u001b[0m \u001b[0mleft_on\u001b[0m\u001b[0;34m=\u001b[0m\u001b[0;34m'Id'\u001b[0m\u001b[0;34m,\u001b[0m \u001b[0mright_on\u001b[0m\u001b[0;34m=\u001b[0m\u001b[0;34m'user_id'\u001b[0m\u001b[0;34m,\u001b[0m \u001b[0mhow\u001b[0m\u001b[0;34m=\u001b[0m\u001b[0;34m'left'\u001b[0m\u001b[0;34m)\u001b[0m\u001b[0;34m\u001b[0m\u001b[0;34m\u001b[0m\u001b[0m\n\u001b[0m\u001b[1;32m      2\u001b[0m \u001b[0;34m\u001b[0m\u001b[0m\n\u001b[1;32m      3\u001b[0m \u001b[0mqwe\u001b[0m\u001b[0;34m[\u001b[0m\u001b[0;34m'answer_array'\u001b[0m\u001b[0;34m]\u001b[0m \u001b[0;34m=\u001b[0m \u001b[0mqwe\u001b[0m\u001b[0;34m[\u001b[0m\u001b[0;34m'answer_list'\u001b[0m\u001b[0;34m]\u001b[0m\u001b[0;34m.\u001b[0m\u001b[0mapply\u001b[0m\u001b[0;34m(\u001b[0m\u001b[0;32mlambda\u001b[0m \u001b[0mx\u001b[0m\u001b[0;34m:\u001b[0m \u001b[0mnp\u001b[0m\u001b[0;34m.\u001b[0m\u001b[0mnan\u001b[0m \u001b[0;32mif\u001b[0m \u001b[0mpd\u001b[0m\u001b[0;34m.\u001b[0m\u001b[0misnull\u001b[0m\u001b[0;34m(\u001b[0m\u001b[0mx\u001b[0m\u001b[0;34m)\u001b[0m \u001b[0;32melse\u001b[0m \u001b[0mx\u001b[0m\u001b[0;34m.\u001b[0m\u001b[0msplit\u001b[0m\u001b[0;34m(\u001b[0m\u001b[0;34m' '\u001b[0m\u001b[0;34m)\u001b[0m\u001b[0;34m)\u001b[0m\u001b[0;34m\u001b[0m\u001b[0;34m\u001b[0m\u001b[0m\n",
            "\u001b[0;31mNameError\u001b[0m: name 'submission' is not defined"
          ]
        }
      ]
    },
    {
      "cell_type": "code",
      "metadata": {
        "id": "gyEoBmRs1RXu",
        "outputId": "a32c92cd-dfc4-40a9-a264-32fe49af8eb2",
        "colab": {
          "base_uri": "https://localhost:8080/",
          "height": 163
        }
      },
      "source": [
        "qwe"
      ],
      "execution_count": null,
      "outputs": [
        {
          "output_type": "error",
          "ename": "NameError",
          "evalue": "ignored",
          "traceback": [
            "\u001b[0;31m---------------------------------------------------------------------------\u001b[0m",
            "\u001b[0;31mNameError\u001b[0m                                 Traceback (most recent call last)",
            "\u001b[0;32m<ipython-input-40-c71de136f937>\u001b[0m in \u001b[0;36m<module>\u001b[0;34m()\u001b[0m\n\u001b[0;32m----> 1\u001b[0;31m \u001b[0mqwe\u001b[0m\u001b[0;34m\u001b[0m\u001b[0;34m\u001b[0m\u001b[0m\n\u001b[0m",
            "\u001b[0;31mNameError\u001b[0m: name 'qwe' is not defined"
          ]
        }
      ]
    },
    {
      "cell_type": "code",
      "metadata": {
        "id": "YwdMW0S00J82",
        "outputId": "b8130711-5506-4f88-bb28-8e49a93cb9bc",
        "colab": {
          "base_uri": "https://localhost:8080/",
          "height": 419
        }
      },
      "source": [
        "frame_fill = qwe[(pd.isnull(qwe['answer_list'])) | (qwe['answer_array'].str.len() < 50)]\n",
        "indexes_raw = frame_fill.index\n",
        "# frame_fill.loc[2, 'answer_array']\n",
        "clear_frame = qwe[~qwe.index.isin(indexes_raw)]\n",
        "frame_fill"
      ],
      "execution_count": null,
      "outputs": [
        {
          "output_type": "execute_result",
          "data": {
            "text/html": [
              "<div>\n",
              "<style scoped>\n",
              "    .dataframe tbody tr th:only-of-type {\n",
              "        vertical-align: middle;\n",
              "    }\n",
              "\n",
              "    .dataframe tbody tr th {\n",
              "        vertical-align: top;\n",
              "    }\n",
              "\n",
              "    .dataframe thead th {\n",
              "        text-align: right;\n",
              "    }\n",
              "</style>\n",
              "<table border=\"1\" class=\"dataframe\">\n",
              "  <thead>\n",
              "    <tr style=\"text-align: right;\">\n",
              "      <th></th>\n",
              "      <th>Id</th>\n",
              "      <th>Predicted</th>\n",
              "      <th>user_id</th>\n",
              "      <th>answer_list</th>\n",
              "      <th>answer_array</th>\n",
              "    </tr>\n",
              "  </thead>\n",
              "  <tbody>\n",
              "    <tr>\n",
              "      <th>77</th>\n",
              "      <td>22664</td>\n",
              "      <td>4814617 4833363 4356962 7495483 3901927 558120...</td>\n",
              "      <td>22664</td>\n",
              "      <td>199645 1087 14465 61768 36269</td>\n",
              "      <td>[199645, 1087, 14465, 61768, 36269]</td>\n",
              "    </tr>\n",
              "    <tr>\n",
              "      <th>84</th>\n",
              "      <td>23639</td>\n",
              "      <td>8036691 120654 12968452 13094332 2158562 45249...</td>\n",
              "      <td>23639</td>\n",
              "      <td>2519 64231 1300 8271 0 8187 27872 77785 49911 ...</td>\n",
              "      <td>[2519, 64231, 1300, 8271, 0, 8187, 27872, 7778...</td>\n",
              "    </tr>\n",
              "    <tr>\n",
              "      <th>85</th>\n",
              "      <td>23762</td>\n",
              "      <td>6131561 11930233 7903528 12267239 13473349 912...</td>\n",
              "      <td>23762</td>\n",
              "      <td>10015 2575 20581 20582 20583 27629 64588 69177...</td>\n",
              "      <td>[10015, 2575, 20581, 20582, 20583, 27629, 6458...</td>\n",
              "    </tr>\n",
              "    <tr>\n",
              "      <th>116</th>\n",
              "      <td>31070</td>\n",
              "      <td>5229403 1003181 11877836 2481659 10557029 1134...</td>\n",
              "      <td>31070</td>\n",
              "      <td>1300 57609 2575 5061792 0 1049 17963 21612 547...</td>\n",
              "      <td>[1300, 57609, 2575, 5061792, 0, 1049, 17963, 2...</td>\n",
              "    </tr>\n",
              "    <tr>\n",
              "      <th>118</th>\n",
              "      <td>31604</td>\n",
              "      <td>9829210 9544519 13232104 4286052 11735679 1110...</td>\n",
              "      <td>31604</td>\n",
              "      <td>5479458 101031 4142091 4830899 65317 50190 573...</td>\n",
              "      <td>[5479458, 101031, 4142091, 4830899, 65317, 501...</td>\n",
              "    </tr>\n",
              "    <tr>\n",
              "      <th>...</th>\n",
              "      <td>...</td>\n",
              "      <td>...</td>\n",
              "      <td>...</td>\n",
              "      <td>...</td>\n",
              "      <td>...</td>\n",
              "    </tr>\n",
              "    <tr>\n",
              "      <th>107063</th>\n",
              "      <td>2997849</td>\n",
              "      <td>488280 12804927 11495685 10630957 10105977 123...</td>\n",
              "      <td>2997849</td>\n",
              "      <td>93412 94112</td>\n",
              "      <td>[93412, 94112]</td>\n",
              "    </tr>\n",
              "    <tr>\n",
              "      <th>107064</th>\n",
              "      <td>2997853</td>\n",
              "      <td>8793937 4387315 2889577 12818088 5845044 33833...</td>\n",
              "      <td>2997853</td>\n",
              "      <td>60692 72283 5481655 5478327 5075712 5061499 38...</td>\n",
              "      <td>[60692, 72283, 5481655, 5478327, 5075712, 5061...</td>\n",
              "    </tr>\n",
              "    <tr>\n",
              "      <th>107065</th>\n",
              "      <td>2997873</td>\n",
              "      <td>13062625 4299544 6891932 6790047 5060191 19574...</td>\n",
              "      <td>2997873</td>\n",
              "      <td>8016 14248 14341 24851 27745 30361 46762 60116...</td>\n",
              "      <td>[8016, 14248, 14341, 24851, 27745, 30361, 4676...</td>\n",
              "    </tr>\n",
              "    <tr>\n",
              "      <th>107066</th>\n",
              "      <td>2997988</td>\n",
              "      <td>450088 7429186 2128096 12142139 4530043 425405...</td>\n",
              "      <td>2997988</td>\n",
              "      <td>100 6692211 7008784 7008408 7000939 6749608 67...</td>\n",
              "      <td>[100, 6692211, 7008784, 7008408, 7000939, 6749...</td>\n",
              "    </tr>\n",
              "    <tr>\n",
              "      <th>107067</th>\n",
              "      <td>2998048</td>\n",
              "      <td>8821711 6445161 10484134 12401659 9743691 3364...</td>\n",
              "      <td>2998048</td>\n",
              "      <td>166 77079 6692437 6692436 6691979 6691965 6691...</td>\n",
              "      <td>[166, 77079, 6692437, 6692436, 6691979, 669196...</td>\n",
              "    </tr>\n",
              "  </tbody>\n",
              "</table>\n",
              "<p>35054 rows × 5 columns</p>\n",
              "</div>"
            ],
            "text/plain": [
              "             Id  ...                                       answer_array\n",
              "77        22664  ...                [199645, 1087, 14465, 61768, 36269]\n",
              "84        23639  ...  [2519, 64231, 1300, 8271, 0, 8187, 27872, 7778...\n",
              "85        23762  ...  [10015, 2575, 20581, 20582, 20583, 27629, 6458...\n",
              "116       31070  ...  [1300, 57609, 2575, 5061792, 0, 1049, 17963, 2...\n",
              "118       31604  ...  [5479458, 101031, 4142091, 4830899, 65317, 501...\n",
              "...         ...  ...                                                ...\n",
              "107063  2997849  ...                                     [93412, 94112]\n",
              "107064  2997853  ...  [60692, 72283, 5481655, 5478327, 5075712, 5061...\n",
              "107065  2997873  ...  [8016, 14248, 14341, 24851, 27745, 30361, 4676...\n",
              "107066  2997988  ...  [100, 6692211, 7008784, 7008408, 7000939, 6749...\n",
              "107067  2998048  ...  [166, 77079, 6692437, 6692436, 6691979, 669196...\n",
              "\n",
              "[35054 rows x 5 columns]"
            ]
          },
          "metadata": {
            "tags": []
          },
          "execution_count": 441
        }
      ]
    },
    {
      "cell_type": "code",
      "metadata": {
        "id": "ZJYpQiWIuCBx"
      },
      "source": [
        "# def transform_value(x_line, y_line):\n",
        "\n",
        "#   to_submit = x_line\n",
        "#   check = y_line\n",
        "\n",
        "#   if isinstance(to_submit, list):\n",
        "#     a1 = check.split(' ')\n",
        "#     a2 = to_submit\n",
        "\n",
        "#     add = 50 - len(a2)\n",
        "#     diff = list(set(a1) - set(a2))\n",
        "\n",
        "#     return diff[:add] + a2\n",
        "\n",
        "#   else:\n",
        "#     return 0  \n",
        "\n",
        "# frame_fill['length'] = np.vectorize(transform_value)(frame_fill['answer_array'], frame_fill['Predicted'])"
      ],
      "execution_count": null,
      "outputs": []
    },
    {
      "cell_type": "code",
      "metadata": {
        "id": "zPZipD-nF-DQ"
      },
      "source": [
        "z3 = clear_frame.copy()\n",
        "z3['Predicted'] = z3['answer_array'].apply(lambda x: ' '.join(x))\n",
        "\n",
        "res = pd.concat([z3[['Id', 'Predicted']], frame_fill[['Id', 'Predicted']]])"
      ],
      "execution_count": null,
      "outputs": []
    },
    {
      "cell_type": "code",
      "metadata": {
        "id": "q6UJK9KPHPlV",
        "outputId": "8d2871b5-35ba-46d8-f723-73322cafe972",
        "colab": {
          "base_uri": "https://localhost:8080/",
          "height": 419
        }
      },
      "source": [
        "res"
      ],
      "execution_count": null,
      "outputs": [
        {
          "output_type": "execute_result",
          "data": {
            "text/html": [
              "<div>\n",
              "<style scoped>\n",
              "    .dataframe tbody tr th:only-of-type {\n",
              "        vertical-align: middle;\n",
              "    }\n",
              "\n",
              "    .dataframe tbody tr th {\n",
              "        vertical-align: top;\n",
              "    }\n",
              "\n",
              "    .dataframe thead th {\n",
              "        text-align: right;\n",
              "    }\n",
              "</style>\n",
              "<table border=\"1\" class=\"dataframe\">\n",
              "  <thead>\n",
              "    <tr style=\"text-align: right;\">\n",
              "      <th></th>\n",
              "      <th>Id</th>\n",
              "      <th>Predicted</th>\n",
              "    </tr>\n",
              "  </thead>\n",
              "  <tbody>\n",
              "    <tr>\n",
              "      <th>0</th>\n",
              "      <td>51</td>\n",
              "      <td>14863 19562 63057 3562687 709 9979 456 661 550...</td>\n",
              "    </tr>\n",
              "    <tr>\n",
              "      <th>1</th>\n",
              "      <td>65</td>\n",
              "      <td>54728 18450 3817542 709 18439 26062 105764 771...</td>\n",
              "    </tr>\n",
              "    <tr>\n",
              "      <th>2</th>\n",
              "      <td>766</td>\n",
              "      <td>3043457 3041849 0 3042629 4033676 3497419 981 ...</td>\n",
              "    </tr>\n",
              "    <tr>\n",
              "      <th>3</th>\n",
              "      <td>1132</td>\n",
              "      <td>95465 2629 9970 91008 2599278 1199 1583 2165 2...</td>\n",
              "    </tr>\n",
              "    <tr>\n",
              "      <th>4</th>\n",
              "      <td>1578</td>\n",
              "      <td>22161 19924 304 4513 45457 4689 19562 69131 25...</td>\n",
              "    </tr>\n",
              "    <tr>\n",
              "      <th>...</th>\n",
              "      <td>...</td>\n",
              "      <td>...</td>\n",
              "    </tr>\n",
              "    <tr>\n",
              "      <th>107063</th>\n",
              "      <td>2997849</td>\n",
              "      <td>488280 12804927 11495685 10630957 10105977 123...</td>\n",
              "    </tr>\n",
              "    <tr>\n",
              "      <th>107064</th>\n",
              "      <td>2997853</td>\n",
              "      <td>8793937 4387315 2889577 12818088 5845044 33833...</td>\n",
              "    </tr>\n",
              "    <tr>\n",
              "      <th>107065</th>\n",
              "      <td>2997873</td>\n",
              "      <td>13062625 4299544 6891932 6790047 5060191 19574...</td>\n",
              "    </tr>\n",
              "    <tr>\n",
              "      <th>107066</th>\n",
              "      <td>2997988</td>\n",
              "      <td>450088 7429186 2128096 12142139 4530043 425405...</td>\n",
              "    </tr>\n",
              "    <tr>\n",
              "      <th>107067</th>\n",
              "      <td>2998048</td>\n",
              "      <td>8821711 6445161 10484134 12401659 9743691 3364...</td>\n",
              "    </tr>\n",
              "  </tbody>\n",
              "</table>\n",
              "<p>107068 rows × 2 columns</p>\n",
              "</div>"
            ],
            "text/plain": [
              "             Id                                          Predicted\n",
              "0            51  14863 19562 63057 3562687 709 9979 456 661 550...\n",
              "1            65  54728 18450 3817542 709 18439 26062 105764 771...\n",
              "2           766  3043457 3041849 0 3042629 4033676 3497419 981 ...\n",
              "3          1132  95465 2629 9970 91008 2599278 1199 1583 2165 2...\n",
              "4          1578  22161 19924 304 4513 45457 4689 19562 69131 25...\n",
              "...         ...                                                ...\n",
              "107063  2997849  488280 12804927 11495685 10630957 10105977 123...\n",
              "107064  2997853  8793937 4387315 2889577 12818088 5845044 33833...\n",
              "107065  2997873  13062625 4299544 6891932 6790047 5060191 19574...\n",
              "107066  2997988  450088 7429186 2128096 12142139 4530043 425405...\n",
              "107067  2998048  8821711 6445161 10484134 12401659 9743691 3364...\n",
              "\n",
              "[107068 rows x 2 columns]"
            ]
          },
          "metadata": {
            "tags": []
          },
          "execution_count": 451
        }
      ]
    },
    {
      "cell_type": "code",
      "metadata": {
        "id": "raOrH4uN7bfv"
      },
      "source": [
        "res.to_csv('subbmit.csv', index=False)"
      ],
      "execution_count": null,
      "outputs": []
    },
    {
      "cell_type": "code",
      "metadata": {
        "id": "8WlZCrMmvzKR",
        "outputId": "cf734a5b-8d9a-47d8-a911-e8911d2d49f1",
        "colab": {
          "base_uri": "https://localhost:8080/",
          "height": 419
        }
      },
      "source": [
        "x1 = clear_frame[['Id', 'Predicted']]\n",
        "x2 = frame_fill[['Id', 'Predicted']]"
      ],
      "execution_count": null,
      "outputs": [
        {
          "output_type": "execute_result",
          "data": {
            "text/html": [
              "<div>\n",
              "<style scoped>\n",
              "    .dataframe tbody tr th:only-of-type {\n",
              "        vertical-align: middle;\n",
              "    }\n",
              "\n",
              "    .dataframe tbody tr th {\n",
              "        vertical-align: top;\n",
              "    }\n",
              "\n",
              "    .dataframe thead th {\n",
              "        text-align: right;\n",
              "    }\n",
              "</style>\n",
              "<table border=\"1\" class=\"dataframe\">\n",
              "  <thead>\n",
              "    <tr style=\"text-align: right;\">\n",
              "      <th></th>\n",
              "      <th>Id</th>\n",
              "      <th>Predicted</th>\n",
              "      <th>user_id</th>\n",
              "      <th>answer_list</th>\n",
              "      <th>answer_array</th>\n",
              "    </tr>\n",
              "  </thead>\n",
              "  <tbody>\n",
              "    <tr>\n",
              "      <th>0</th>\n",
              "      <td>51</td>\n",
              "      <td>3239211 10720024 8493844 1965540 5009002 95218...</td>\n",
              "      <td>51.0</td>\n",
              "      <td>709 14863 63057 655 2600 16420 19562 3562687 3...</td>\n",
              "      <td>[709, 14863, 63057, 655, 2600, 16420, 19562, 3...</td>\n",
              "    </tr>\n",
              "    <tr>\n",
              "      <th>1</th>\n",
              "      <td>65</td>\n",
              "      <td>11693356 13392267 2464515 2245175 4748570 1134...</td>\n",
              "      <td>65.0</td>\n",
              "      <td>54728 3817542 18439 18450 26062 709 105764 771...</td>\n",
              "      <td>[54728, 3817542, 18439, 18450, 26062, 709, 105...</td>\n",
              "    </tr>\n",
              "    <tr>\n",
              "      <th>3</th>\n",
              "      <td>1132</td>\n",
              "      <td>8613934 3599065 575614 4821474 11609320 699047...</td>\n",
              "      <td>1132.0</td>\n",
              "      <td>91008 95465 2599278 49915 1199 2165 2543 2629 ...</td>\n",
              "      <td>[91008, 95465, 2599278, 49915, 1199, 2165, 254...</td>\n",
              "    </tr>\n",
              "    <tr>\n",
              "      <th>4</th>\n",
              "      <td>1578</td>\n",
              "      <td>289404 4328240 3129788 9390886 11166655 173077...</td>\n",
              "      <td>1578.0</td>\n",
              "      <td>22161 19924 45457 39492 69131 304 25524 4513 4...</td>\n",
              "      <td>[22161, 19924, 45457, 39492, 69131, 304, 25524...</td>\n",
              "    </tr>\n",
              "    <tr>\n",
              "      <th>5</th>\n",
              "      <td>2129</td>\n",
              "      <td>747076 7166172 47956 11049756 4756107 6826104 ...</td>\n",
              "      <td>2129.0</td>\n",
              "      <td>24873 27629 8868 24851 27569 29556 84085 96236...</td>\n",
              "      <td>[24873, 27629, 8868, 24851, 27569, 29556, 8408...</td>\n",
              "    </tr>\n",
              "    <tr>\n",
              "      <th>...</th>\n",
              "      <td>...</td>\n",
              "      <td>...</td>\n",
              "      <td>...</td>\n",
              "      <td>...</td>\n",
              "      <td>...</td>\n",
              "    </tr>\n",
              "    <tr>\n",
              "      <th>106989</th>\n",
              "      <td>2994042</td>\n",
              "      <td>5180556 2316076 6898204 7764877 10602651 83859...</td>\n",
              "      <td>2994042.0</td>\n",
              "      <td>29612 285 287 292 2575 4979 4991 5109 5110 511...</td>\n",
              "      <td>[29612, 285, 287, 292, 2575, 4979, 4991, 5109,...</td>\n",
              "    </tr>\n",
              "    <tr>\n",
              "      <th>107009</th>\n",
              "      <td>2995156</td>\n",
              "      <td>8695907 12129829 5333736 8090075 7655367 31540...</td>\n",
              "      <td>2995156.0</td>\n",
              "      <td>456 1786 6137 7640 8309 15373 15375 17314 2314...</td>\n",
              "      <td>[456, 1786, 6137, 7640, 8309, 15373, 15375, 17...</td>\n",
              "    </tr>\n",
              "    <tr>\n",
              "      <th>107033</th>\n",
              "      <td>2996506</td>\n",
              "      <td>2778084 13357612 5056425 2745664 8804006 73709...</td>\n",
              "      <td>2996506.0</td>\n",
              "      <td>0 100 166 1242 1985 7732 9590 15374 23139 2314...</td>\n",
              "      <td>[0, 100, 166, 1242, 1985, 7732, 9590, 15374, 2...</td>\n",
              "    </tr>\n",
              "    <tr>\n",
              "      <th>107047</th>\n",
              "      <td>2996911</td>\n",
              "      <td>9695104 10650959 5488612 6091539 12375597 1172...</td>\n",
              "      <td>2996911.0</td>\n",
              "      <td>0 51 177 1764 6614 9849 14925 18711 20100 2614...</td>\n",
              "      <td>[0, 51, 177, 1764, 6614, 9849, 14925, 18711, 2...</td>\n",
              "    </tr>\n",
              "    <tr>\n",
              "      <th>107060</th>\n",
              "      <td>2997842</td>\n",
              "      <td>10041640 5391380 5157681 8154205 7693103 47133...</td>\n",
              "      <td>2997842.0</td>\n",
              "      <td>592 709 0 165 177 825 876 2268 5187 5256 8181 ...</td>\n",
              "      <td>[592, 709, 0, 165, 177, 825, 876, 2268, 5187, ...</td>\n",
              "    </tr>\n",
              "  </tbody>\n",
              "</table>\n",
              "<p>65232 rows × 5 columns</p>\n",
              "</div>"
            ],
            "text/plain": [
              "             Id  ...                                       answer_array\n",
              "0            51  ...  [709, 14863, 63057, 655, 2600, 16420, 19562, 3...\n",
              "1            65  ...  [54728, 3817542, 18439, 18450, 26062, 709, 105...\n",
              "3          1132  ...  [91008, 95465, 2599278, 49915, 1199, 2165, 254...\n",
              "4          1578  ...  [22161, 19924, 45457, 39492, 69131, 304, 25524...\n",
              "5          2129  ...  [24873, 27629, 8868, 24851, 27569, 29556, 8408...\n",
              "...         ...  ...                                                ...\n",
              "106989  2994042  ...  [29612, 285, 287, 292, 2575, 4979, 4991, 5109,...\n",
              "107009  2995156  ...  [456, 1786, 6137, 7640, 8309, 15373, 15375, 17...\n",
              "107033  2996506  ...  [0, 100, 166, 1242, 1985, 7732, 9590, 15374, 2...\n",
              "107047  2996911  ...  [0, 51, 177, 1764, 6614, 9849, 14925, 18711, 2...\n",
              "107060  2997842  ...  [592, 709, 0, 165, 177, 825, 876, 2268, 5187, ...\n",
              "\n",
              "[65232 rows x 5 columns]"
            ]
          },
          "metadata": {
            "tags": []
          },
          "execution_count": 362
        }
      ]
    },
    {
      "cell_type": "code",
      "metadata": {
        "id": "tJH9JrxKPqr2"
      },
      "source": [
        ""
      ],
      "execution_count": null,
      "outputs": []
    },
    {
      "cell_type": "code",
      "metadata": {
        "id": "0OA7-tqNPrLo"
      },
      "source": [
        "import tqdm\n",
        "import pandas as pd\n",
        "import numpy as np\n",
        "import os \n",
        "import fnmatch\n",
        "\n",
        "tab_2 = fnmatch.filter(os.listdir('.'), 'tab_2*.csv')\n",
        "# q = pd.read_csv(tab_2[0])\n",
        "\n",
        "# res = {}\n",
        "\n",
        "# for file_name in tqdm.tqdm(tab_2):\n",
        "#   key = file_name.split('_')[-1].split('.')[0]\n",
        "#   frame = pd.read_csv(file_name)\n",
        "\n",
        "#   unique = frame.user_id.unique()\n",
        "#   res[key] = unique"
      ],
      "execution_count": 14,
      "outputs": []
    },
    {
      "cell_type": "code",
      "metadata": {
        "id": "szs1jLYzfWqb"
      },
      "source": [
        "submit = pd.read_csv('sample_submission.csv')"
      ],
      "execution_count": 15,
      "outputs": []
    },
    {
      "cell_type": "code",
      "metadata": {
        "id": "mPbruaFTQTUJ"
      },
      "source": [
        "unique_id = submit.Id.unique()"
      ],
      "execution_count": 16,
      "outputs": []
    },
    {
      "cell_type": "code",
      "metadata": {
        "id": "tz-Px7OoPs1U",
        "outputId": "293620ea-d034-4bb5-b43e-faea80779ea5",
        "colab": {
          "base_uri": "https://localhost:8080/",
          "height": 34
        }
      },
      "source": [
        "from tqdm import tqdm\n",
        "\n",
        "res_concat = []\n",
        "\n",
        "for file in tqdm(tab_2):\n",
        "  x = pd.read_csv(file)[['user_id', 'product_id']]\n",
        "  filter_frame = x[x['user_id'].isin(unique_id)]\n",
        "  res_concat.append(filter_frame)"
      ],
      "execution_count": 17,
      "outputs": [
        {
          "output_type": "stream",
          "text": [
            "100%|██████████| 26/26 [02:32<00:00,  5.87s/it]\n"
          ],
          "name": "stderr"
        }
      ]
    },
    {
      "cell_type": "code",
      "metadata": {
        "id": "p_DC0o-Avoun"
      },
      "source": [
        "import pickle\n",
        "\n",
        "with open('res_concat.pickle', 'wb') as f:\n",
        "  pickle.dump(res_concat, f)"
      ],
      "execution_count": 18,
      "outputs": []
    },
    {
      "cell_type": "code",
      "metadata": {
        "id": "pedNKLcFPwcL"
      },
      "source": [
        "xx = pd.concat(res_concat)"
      ],
      "execution_count": 19,
      "outputs": []
    },
    {
      "cell_type": "code",
      "metadata": {
        "id": "ZRZ4xTNnUiqU"
      },
      "source": [
        "xxx = xx.groupby(['user_id'])['product_id'].value_counts()"
      ],
      "execution_count": 20,
      "outputs": []
    },
    {
      "cell_type": "code",
      "metadata": {
        "id": "c1pXl_2KRxcZ",
        "outputId": "cfae97b3-7e1f-4319-f80d-828324ec69d9",
        "colab": {
          "base_uri": "https://localhost:8080/",
          "height": 419
        }
      },
      "source": [
        "asd = xxx.to_frame().rename(columns={'product_id': 'count_id'}).reset_index()\n",
        "asd"
      ],
      "execution_count": 21,
      "outputs": [
        {
          "output_type": "execute_result",
          "data": {
            "text/html": [
              "<div>\n",
              "<style scoped>\n",
              "    .dataframe tbody tr th:only-of-type {\n",
              "        vertical-align: middle;\n",
              "    }\n",
              "\n",
              "    .dataframe tbody tr th {\n",
              "        vertical-align: top;\n",
              "    }\n",
              "\n",
              "    .dataframe thead th {\n",
              "        text-align: right;\n",
              "    }\n",
              "</style>\n",
              "<table border=\"1\" class=\"dataframe\">\n",
              "  <thead>\n",
              "    <tr style=\"text-align: right;\">\n",
              "      <th></th>\n",
              "      <th>user_id</th>\n",
              "      <th>product_id</th>\n",
              "      <th>count_id</th>\n",
              "    </tr>\n",
              "  </thead>\n",
              "  <tbody>\n",
              "    <tr>\n",
              "      <th>0</th>\n",
              "      <td>51</td>\n",
              "      <td>14863</td>\n",
              "      <td>16</td>\n",
              "    </tr>\n",
              "    <tr>\n",
              "      <th>1</th>\n",
              "      <td>51</td>\n",
              "      <td>19562</td>\n",
              "      <td>13</td>\n",
              "    </tr>\n",
              "    <tr>\n",
              "      <th>2</th>\n",
              "      <td>51</td>\n",
              "      <td>63057</td>\n",
              "      <td>13</td>\n",
              "    </tr>\n",
              "    <tr>\n",
              "      <th>3</th>\n",
              "      <td>51</td>\n",
              "      <td>3562687</td>\n",
              "      <td>12</td>\n",
              "    </tr>\n",
              "    <tr>\n",
              "      <th>4</th>\n",
              "      <td>51</td>\n",
              "      <td>709</td>\n",
              "      <td>11</td>\n",
              "    </tr>\n",
              "    <tr>\n",
              "      <th>...</th>\n",
              "      <td>...</td>\n",
              "      <td>...</td>\n",
              "      <td>...</td>\n",
              "    </tr>\n",
              "    <tr>\n",
              "      <th>15124316</th>\n",
              "      <td>3142875</td>\n",
              "      <td>5044950</td>\n",
              "      <td>1</td>\n",
              "    </tr>\n",
              "    <tr>\n",
              "      <th>15124317</th>\n",
              "      <td>3142875</td>\n",
              "      <td>5044951</td>\n",
              "      <td>1</td>\n",
              "    </tr>\n",
              "    <tr>\n",
              "      <th>15124318</th>\n",
              "      <td>3142875</td>\n",
              "      <td>5075130</td>\n",
              "      <td>1</td>\n",
              "    </tr>\n",
              "    <tr>\n",
              "      <th>15124319</th>\n",
              "      <td>3142875</td>\n",
              "      <td>5075131</td>\n",
              "      <td>1</td>\n",
              "    </tr>\n",
              "    <tr>\n",
              "      <th>15124320</th>\n",
              "      <td>3142875</td>\n",
              "      <td>7043716</td>\n",
              "      <td>1</td>\n",
              "    </tr>\n",
              "  </tbody>\n",
              "</table>\n",
              "<p>15124321 rows × 3 columns</p>\n",
              "</div>"
            ],
            "text/plain": [
              "          user_id  product_id  count_id\n",
              "0              51       14863        16\n",
              "1              51       19562        13\n",
              "2              51       63057        13\n",
              "3              51     3562687        12\n",
              "4              51         709        11\n",
              "...           ...         ...       ...\n",
              "15124316  3142875     5044950         1\n",
              "15124317  3142875     5044951         1\n",
              "15124318  3142875     5075130         1\n",
              "15124319  3142875     5075131         1\n",
              "15124320  3142875     7043716         1\n",
              "\n",
              "[15124321 rows x 3 columns]"
            ]
          },
          "metadata": {
            "tags": []
          },
          "execution_count": 21
        }
      ]
    },
    {
      "cell_type": "code",
      "metadata": {
        "id": "iW9llWSWVr4l",
        "outputId": "ccf0729e-2239-4b31-b774-a290c2abdfc9",
        "colab": {
          "base_uri": "https://localhost:8080/",
          "height": 71
        }
      },
      "source": [
        "largest = asd.groupby(['user_id'])['product_id', 'count_id'].apply(pd.DataFrame.nlargest, n=50, columns=['count_id']).reset_index().drop(columns={'level_1'})"
      ],
      "execution_count": 22,
      "outputs": [
        {
          "output_type": "stream",
          "text": [
            "/usr/local/lib/python3.6/dist-packages/ipykernel_launcher.py:1: FutureWarning: Indexing with multiple keys (implicitly converted to a tuple of keys) will be deprecated, use a list instead.\n",
            "  \"\"\"Entry point for launching an IPython kernel.\n"
          ],
          "name": "stderr"
        }
      ]
    },
    {
      "cell_type": "code",
      "metadata": {
        "id": "Va7XLLl7VyfL",
        "outputId": "96132d45-472d-4d28-93ce-654625fb806c",
        "colab": {
          "base_uri": "https://localhost:8080/",
          "height": 419
        }
      },
      "source": [
        "largest"
      ],
      "execution_count": 23,
      "outputs": [
        {
          "output_type": "execute_result",
          "data": {
            "text/html": [
              "<div>\n",
              "<style scoped>\n",
              "    .dataframe tbody tr th:only-of-type {\n",
              "        vertical-align: middle;\n",
              "    }\n",
              "\n",
              "    .dataframe tbody tr th {\n",
              "        vertical-align: top;\n",
              "    }\n",
              "\n",
              "    .dataframe thead th {\n",
              "        text-align: right;\n",
              "    }\n",
              "</style>\n",
              "<table border=\"1\" class=\"dataframe\">\n",
              "  <thead>\n",
              "    <tr style=\"text-align: right;\">\n",
              "      <th></th>\n",
              "      <th>user_id</th>\n",
              "      <th>product_id</th>\n",
              "      <th>count_id</th>\n",
              "    </tr>\n",
              "  </thead>\n",
              "  <tbody>\n",
              "    <tr>\n",
              "      <th>0</th>\n",
              "      <td>51</td>\n",
              "      <td>14863</td>\n",
              "      <td>16</td>\n",
              "    </tr>\n",
              "    <tr>\n",
              "      <th>1</th>\n",
              "      <td>51</td>\n",
              "      <td>19562</td>\n",
              "      <td>13</td>\n",
              "    </tr>\n",
              "    <tr>\n",
              "      <th>2</th>\n",
              "      <td>51</td>\n",
              "      <td>63057</td>\n",
              "      <td>13</td>\n",
              "    </tr>\n",
              "    <tr>\n",
              "      <th>3</th>\n",
              "      <td>51</td>\n",
              "      <td>3562687</td>\n",
              "      <td>12</td>\n",
              "    </tr>\n",
              "    <tr>\n",
              "      <th>4</th>\n",
              "      <td>51</td>\n",
              "      <td>709</td>\n",
              "      <td>11</td>\n",
              "    </tr>\n",
              "    <tr>\n",
              "      <th>...</th>\n",
              "      <td>...</td>\n",
              "      <td>...</td>\n",
              "      <td>...</td>\n",
              "    </tr>\n",
              "    <tr>\n",
              "      <th>4489766</th>\n",
              "      <td>3142875</td>\n",
              "      <td>5044950</td>\n",
              "      <td>1</td>\n",
              "    </tr>\n",
              "    <tr>\n",
              "      <th>4489767</th>\n",
              "      <td>3142875</td>\n",
              "      <td>5044951</td>\n",
              "      <td>1</td>\n",
              "    </tr>\n",
              "    <tr>\n",
              "      <th>4489768</th>\n",
              "      <td>3142875</td>\n",
              "      <td>5075130</td>\n",
              "      <td>1</td>\n",
              "    </tr>\n",
              "    <tr>\n",
              "      <th>4489769</th>\n",
              "      <td>3142875</td>\n",
              "      <td>5075131</td>\n",
              "      <td>1</td>\n",
              "    </tr>\n",
              "    <tr>\n",
              "      <th>4489770</th>\n",
              "      <td>3142875</td>\n",
              "      <td>7043716</td>\n",
              "      <td>1</td>\n",
              "    </tr>\n",
              "  </tbody>\n",
              "</table>\n",
              "<p>4489771 rows × 3 columns</p>\n",
              "</div>"
            ],
            "text/plain": [
              "         user_id  product_id  count_id\n",
              "0             51       14863        16\n",
              "1             51       19562        13\n",
              "2             51       63057        13\n",
              "3             51     3562687        12\n",
              "4             51         709        11\n",
              "...          ...         ...       ...\n",
              "4489766  3142875     5044950         1\n",
              "4489767  3142875     5044951         1\n",
              "4489768  3142875     5075130         1\n",
              "4489769  3142875     5075131         1\n",
              "4489770  3142875     7043716         1\n",
              "\n",
              "[4489771 rows x 3 columns]"
            ]
          },
          "metadata": {
            "tags": []
          },
          "execution_count": 23
        }
      ]
    },
    {
      "cell_type": "code",
      "metadata": {
        "id": "hrt-LQFeWQtF"
      },
      "source": [
        "category_dict = largest[['user_id', 'product_id']].groupby(['user_id'])['product_id'].apply(list).to_dict()"
      ],
      "execution_count": 24,
      "outputs": []
    },
    {
      "cell_type": "code",
      "metadata": {
        "id": "zhriEKgUWdGM",
        "outputId": "6dbb51c6-727d-42bc-98bf-9f0e839f34e3",
        "colab": {
          "base_uri": "https://localhost:8080/",
          "height": 34
        }
      },
      "source": [
        "len(category_dict.keys())"
      ],
      "execution_count": 25,
      "outputs": [
        {
          "output_type": "execute_result",
          "data": {
            "text/plain": [
              "107068"
            ]
          },
          "metadata": {
            "tags": []
          },
          "execution_count": 25
        }
      ]
    },
    {
      "cell_type": "code",
      "metadata": {
        "id": "rhKGPz9XR2mE"
      },
      "source": [
        "category = {key: str(value) for key, value in category_dict.items()}"
      ],
      "execution_count": 26,
      "outputs": []
    },
    {
      "cell_type": "code",
      "metadata": {
        "id": "PNvzP89PR32x",
        "outputId": "dfff2707-dc3e-47ca-ed4e-b3ab22fb6ef4",
        "colab": {
          "base_uri": "https://localhost:8080/",
          "height": 34
        }
      },
      "source": [
        "matrix = []\n",
        "\n",
        "for key, value in tqdm(category.items()):\n",
        "  row = [key, value]\n",
        "  matrix.append(row)"
      ],
      "execution_count": 27,
      "outputs": [
        {
          "output_type": "stream",
          "text": [
            "100%|██████████| 107068/107068 [00:00<00:00, 1347851.28it/s]\n"
          ],
          "name": "stderr"
        }
      ]
    },
    {
      "cell_type": "code",
      "metadata": {
        "id": "Hjd2UQpeu7sE",
        "outputId": "af862e7b-fdd3-4953-f69b-824461e4a160",
        "colab": {
          "base_uri": "https://localhost:8080/",
          "height": 214
        }
      },
      "source": [
        "import pickle\n",
        "\n",
        "# with open('data.pickle', 'wb') as f:\n",
        "#   pickle.dump(matrix, f)\n",
        "\n",
        "# with open('data.pickle', 'rb') as f:\n",
        "#   matrix = pickle.load(f)"
      ],
      "execution_count": 28,
      "outputs": [
        {
          "output_type": "error",
          "ename": "FileNotFoundError",
          "evalue": "ignored",
          "traceback": [
            "\u001b[0;31m---------------------------------------------------------------------------\u001b[0m",
            "\u001b[0;31mFileNotFoundError\u001b[0m                         Traceback (most recent call last)",
            "\u001b[0;32m<ipython-input-28-9413797d01a4>\u001b[0m in \u001b[0;36m<module>\u001b[0;34m()\u001b[0m\n\u001b[1;32m      4\u001b[0m \u001b[0;31m#   pickle.dump(matrix, f)\u001b[0m\u001b[0;34m\u001b[0m\u001b[0;34m\u001b[0m\u001b[0;34m\u001b[0m\u001b[0m\n\u001b[1;32m      5\u001b[0m \u001b[0;34m\u001b[0m\u001b[0m\n\u001b[0;32m----> 6\u001b[0;31m \u001b[0;32mwith\u001b[0m \u001b[0mopen\u001b[0m\u001b[0;34m(\u001b[0m\u001b[0;34m'data.pickle'\u001b[0m\u001b[0;34m,\u001b[0m \u001b[0;34m'rb'\u001b[0m\u001b[0;34m)\u001b[0m \u001b[0;32mas\u001b[0m \u001b[0mf\u001b[0m\u001b[0;34m:\u001b[0m\u001b[0;34m\u001b[0m\u001b[0;34m\u001b[0m\u001b[0m\n\u001b[0m\u001b[1;32m      7\u001b[0m   \u001b[0mmatrix\u001b[0m \u001b[0;34m=\u001b[0m \u001b[0mpickle\u001b[0m\u001b[0;34m.\u001b[0m\u001b[0mload\u001b[0m\u001b[0;34m(\u001b[0m\u001b[0mf\u001b[0m\u001b[0;34m)\u001b[0m\u001b[0;34m\u001b[0m\u001b[0;34m\u001b[0m\u001b[0m\n",
            "\u001b[0;31mFileNotFoundError\u001b[0m: [Errno 2] No such file or directory: 'data.pickle'"
          ]
        }
      ]
    },
    {
      "cell_type": "code",
      "metadata": {
        "id": "HKxo_DSWWr0z"
      },
      "source": [
        "import pandas as pd\n",
        "import numpy as np\n",
        "from ast import literal_eval\n",
        "\n",
        "q = pd.DataFrame(matrix).rename(columns={0: 'Id', 1: 'Predicted'})"
      ],
      "execution_count": 48,
      "outputs": []
    },
    {
      "cell_type": "code",
      "metadata": {
        "id": "vhjEf9iQXXz5"
      },
      "source": [
        "from ast import literal_eval\n",
        "\n",
        "q['length'] = q['Predicted'].apply(lambda x: len(literal_eval(x)))"
      ],
      "execution_count": 49,
      "outputs": []
    },
    {
      "cell_type": "code",
      "metadata": {
        "id": "uHiGzgI2XYVu"
      },
      "source": [
        "most_popular = largest.groupby(['product_id'])['count_id'].sum().to_frame().reset_index().sort_values(by='count_id', ascending=False).product_id.values"
      ],
      "execution_count": 50,
      "outputs": []
    },
    {
      "cell_type": "code",
      "metadata": {
        "id": "8Q5p5T0RcSvw"
      },
      "source": [
        "clear = q[q['length'] == 50]\n",
        "clear_index = clear.index\n",
        "raw = q[~q.index.isin(clear_index)]"
      ],
      "execution_count": 51,
      "outputs": []
    },
    {
      "cell_type": "code",
      "metadata": {
        "id": "Vapv34bFi_VQ",
        "outputId": "e81d10ae-1de5-4cf0-e165-12d24f4552bb",
        "colab": {
          "base_uri": "https://localhost:8080/",
          "height": 34
        }
      },
      "source": [
        "most_popular.shape"
      ],
      "execution_count": 52,
      "outputs": [
        {
          "output_type": "execute_result",
          "data": {
            "text/plain": [
              "(73554,)"
            ]
          },
          "metadata": {
            "tags": []
          },
          "execution_count": 52
        }
      ]
    },
    {
      "cell_type": "code",
      "metadata": {
        "id": "OtNvYnkveVAi",
        "outputId": "db48a5b4-d5f4-4d30-e69e-c82de4c836fa",
        "colab": {
          "base_uri": "https://localhost:8080/",
          "height": 34
        }
      },
      "source": [
        "raw.shape"
      ],
      "execution_count": 53,
      "outputs": [
        {
          "output_type": "execute_result",
          "data": {
            "text/plain": [
              "(35054, 3)"
            ]
          },
          "metadata": {
            "tags": []
          },
          "execution_count": 53
        }
      ]
    },
    {
      "cell_type": "code",
      "metadata": {
        "id": "G_9GL4yTjpCi"
      },
      "source": [
        "import collections\n",
        "\n",
        "class OrderedSet(collections.Set):\n",
        "    def __init__(self, iterable=()):\n",
        "        self.d = collections.OrderedDict.fromkeys(iterable)\n",
        "\n",
        "    def __len__(self):\n",
        "        return len(self.d)\n",
        "\n",
        "    def __contains__(self, element):\n",
        "        return element in self.d\n",
        "\n",
        "    def __iter__(self):\n",
        "        return iter(self.d)\n"
      ],
      "execution_count": 54,
      "outputs": []
    },
    {
      "cell_type": "code",
      "metadata": {
        "id": "bj1iwLucckbZ",
        "outputId": "c52c408f-bd6e-4043-9eb1-fb2aa914e1b1",
        "colab": {
          "base_uri": "https://localhost:8080/",
          "height": 117,
          "referenced_widgets": [
            "f41539c7a1804d0e8514f6b151ef0c69",
            "58068dfd077f4ab59c0398c908645c7b",
            "d3e6760cd9014fd78ffdd092e3b2916c",
            "1eee248a740f499b89c899299a9a5391",
            "c4645d7a8dfc44a3bb2fc26487946f56",
            "5a9330d35ec64edfbfb6c4a770196511",
            "447a601fb8d145d7b887f1ac7d031378",
            "cc62170b27ab42fabe6fbebd278ef1b1"
          ]
        }
      },
      "source": [
        "from tqdm import tqdm_notebook\n",
        "\n",
        "total_pred = []\n",
        "\n",
        "for index, row in tqdm_notebook(raw.iterrows()):\n",
        "  length = row['length']\n",
        "  left = 50 - length\n",
        "  predicted = literal_eval(row.Predicted)\n",
        "\n",
        "  diff = list(OrderedSet(most_popular) - OrderedSet(predicted))\n",
        "  res_diff = diff[:left]\n",
        "  current_pred = predicted + res_diff\n",
        "  total_pred.append(current_pred)\n",
        "\n",
        "  # for value in most_popular:\n",
        "  #   if value not in predicted and len(predicted) != 50:\n",
        "  #     predicted.append(value)\n",
        "\n",
        "  # total_pred.append(predicted)\n"
      ],
      "execution_count": 59,
      "outputs": [
        {
          "output_type": "stream",
          "text": [
            "/usr/local/lib/python3.6/dist-packages/ipykernel_launcher.py:5: TqdmDeprecationWarning: This function will be removed in tqdm==5.0.0\n",
            "Please use `tqdm.notebook.tqdm` instead of `tqdm.tqdm_notebook`\n",
            "  \"\"\"\n"
          ],
          "name": "stderr"
        },
        {
          "output_type": "display_data",
          "data": {
            "application/vnd.jupyter.widget-view+json": {
              "model_id": "f41539c7a1804d0e8514f6b151ef0c69",
              "version_minor": 0,
              "version_major": 2
            },
            "text/plain": [
              "HBox(children=(FloatProgress(value=1.0, bar_style='info', max=1.0), HTML(value='')))"
            ]
          },
          "metadata": {
            "tags": []
          }
        },
        {
          "output_type": "stream",
          "text": [
            "\n"
          ],
          "name": "stdout"
        }
      ]
    },
    {
      "cell_type": "code",
      "metadata": {
        "id": "4n_hWx0FzwyG",
        "outputId": "2c4b5c08-3b49-4246-fbd3-a4e4838fe12f",
        "colab": {
          "base_uri": "https://localhost:8080/",
          "height": 306
        }
      },
      "source": [
        "raw_frame = pd.concat(total_pred)"
      ],
      "execution_count": 61,
      "outputs": [
        {
          "output_type": "error",
          "ename": "TypeError",
          "evalue": "ignored",
          "traceback": [
            "\u001b[0;31m---------------------------------------------------------------------------\u001b[0m",
            "\u001b[0;31mTypeError\u001b[0m                                 Traceback (most recent call last)",
            "\u001b[0;32m<ipython-input-61-aa0350b61ffe>\u001b[0m in \u001b[0;36m<module>\u001b[0;34m()\u001b[0m\n\u001b[0;32m----> 1\u001b[0;31m \u001b[0mraw_frame\u001b[0m \u001b[0;34m=\u001b[0m \u001b[0mpd\u001b[0m\u001b[0;34m.\u001b[0m\u001b[0mconcat\u001b[0m\u001b[0;34m(\u001b[0m\u001b[0mtotal_pred\u001b[0m\u001b[0;34m)\u001b[0m\u001b[0;34m\u001b[0m\u001b[0;34m\u001b[0m\u001b[0m\n\u001b[0m",
            "\u001b[0;32m/usr/local/lib/python3.6/dist-packages/pandas/core/reshape/concat.py\u001b[0m in \u001b[0;36mconcat\u001b[0;34m(objs, axis, join, ignore_index, keys, levels, names, verify_integrity, sort, copy)\u001b[0m\n\u001b[1;32m    282\u001b[0m         \u001b[0mverify_integrity\u001b[0m\u001b[0;34m=\u001b[0m\u001b[0mverify_integrity\u001b[0m\u001b[0;34m,\u001b[0m\u001b[0;34m\u001b[0m\u001b[0;34m\u001b[0m\u001b[0m\n\u001b[1;32m    283\u001b[0m         \u001b[0mcopy\u001b[0m\u001b[0;34m=\u001b[0m\u001b[0mcopy\u001b[0m\u001b[0;34m,\u001b[0m\u001b[0;34m\u001b[0m\u001b[0;34m\u001b[0m\u001b[0m\n\u001b[0;32m--> 284\u001b[0;31m         \u001b[0msort\u001b[0m\u001b[0;34m=\u001b[0m\u001b[0msort\u001b[0m\u001b[0;34m,\u001b[0m\u001b[0;34m\u001b[0m\u001b[0;34m\u001b[0m\u001b[0m\n\u001b[0m\u001b[1;32m    285\u001b[0m     )\n\u001b[1;32m    286\u001b[0m \u001b[0;34m\u001b[0m\u001b[0m\n",
            "\u001b[0;32m/usr/local/lib/python3.6/dist-packages/pandas/core/reshape/concat.py\u001b[0m in \u001b[0;36m__init__\u001b[0;34m(self, objs, axis, join, keys, levels, names, ignore_index, verify_integrity, copy, sort)\u001b[0m\n\u001b[1;32m    357\u001b[0m                     \u001b[0;34m\"only Series and DataFrame objs are valid\"\u001b[0m\u001b[0;34m\u001b[0m\u001b[0;34m\u001b[0m\u001b[0m\n\u001b[1;32m    358\u001b[0m                 )\n\u001b[0;32m--> 359\u001b[0;31m                 \u001b[0;32mraise\u001b[0m \u001b[0mTypeError\u001b[0m\u001b[0;34m(\u001b[0m\u001b[0mmsg\u001b[0m\u001b[0;34m)\u001b[0m\u001b[0;34m\u001b[0m\u001b[0;34m\u001b[0m\u001b[0m\n\u001b[0m\u001b[1;32m    360\u001b[0m \u001b[0;34m\u001b[0m\u001b[0m\n\u001b[1;32m    361\u001b[0m             \u001b[0;31m# consolidate\u001b[0m\u001b[0;34m\u001b[0m\u001b[0;34m\u001b[0m\u001b[0;34m\u001b[0m\u001b[0m\n",
            "\u001b[0;31mTypeError\u001b[0m: cannot concatenate object of type '<class 'list'>'; only Series and DataFrame objs are valid"
          ]
        }
      ]
    },
    {
      "cell_type": "code",
      "metadata": {
        "id": "fCCPRBGxByQT",
        "outputId": "47c61924-2390-4f53-901c-162b1fc15f41",
        "colab": {
          "base_uri": "https://localhost:8080/",
          "height": 119
        }
      },
      "source": [
        "raw['Predcited'] = [str(x) for x in total_pred]"
      ],
      "execution_count": 64,
      "outputs": [
        {
          "output_type": "stream",
          "text": [
            "/usr/local/lib/python3.6/dist-packages/ipykernel_launcher.py:1: SettingWithCopyWarning: \n",
            "A value is trying to be set on a copy of a slice from a DataFrame.\n",
            "Try using .loc[row_indexer,col_indexer] = value instead\n",
            "\n",
            "See the caveats in the documentation: https://pandas.pydata.org/pandas-docs/stable/user_guide/indexing.html#returning-a-view-versus-a-copy\n",
            "  \"\"\"Entry point for launching an IPython kernel.\n"
          ],
          "name": "stderr"
        }
      ]
    },
    {
      "cell_type": "code",
      "metadata": {
        "id": "YF02Aiq3ByIW"
      },
      "source": [
        "raw_columns = raw[['Id', 'Predcited']].rename(columns={'Predcited': 'Predicted'})"
      ],
      "execution_count": 67,
      "outputs": []
    },
    {
      "cell_type": "code",
      "metadata": {
        "id": "7kdgOOu0zzYb"
      },
      "source": [
        "# total_total = pd.concat(clear[['Id', 'Predicted'], raw_columns])\n",
        "clear_col = clear[['Id', 'Predicted']]"
      ],
      "execution_count": 71,
      "outputs": []
    },
    {
      "cell_type": "code",
      "metadata": {
        "id": "8Xfj1yXgCZxi",
        "outputId": "2ff9f72f-1669-4256-c604-33c4b3ddc701",
        "colab": {
          "base_uri": "https://localhost:8080/",
          "height": 419
        }
      },
      "source": [
        "clear_col"
      ],
      "execution_count": 80,
      "outputs": [
        {
          "output_type": "execute_result",
          "data": {
            "text/html": [
              "<div>\n",
              "<style scoped>\n",
              "    .dataframe tbody tr th:only-of-type {\n",
              "        vertical-align: middle;\n",
              "    }\n",
              "\n",
              "    .dataframe tbody tr th {\n",
              "        vertical-align: top;\n",
              "    }\n",
              "\n",
              "    .dataframe thead th {\n",
              "        text-align: right;\n",
              "    }\n",
              "</style>\n",
              "<table border=\"1\" class=\"dataframe\">\n",
              "  <thead>\n",
              "    <tr style=\"text-align: right;\">\n",
              "      <th></th>\n",
              "      <th>Id</th>\n",
              "      <th>Predicted</th>\n",
              "    </tr>\n",
              "  </thead>\n",
              "  <tbody>\n",
              "    <tr>\n",
              "      <th>0</th>\n",
              "      <td>51</td>\n",
              "      <td>[14863, 19562, 63057, 3562687, 709, 9979, 456,...</td>\n",
              "    </tr>\n",
              "    <tr>\n",
              "      <th>1</th>\n",
              "      <td>65</td>\n",
              "      <td>[54728, 18450, 3817542, 709, 18439, 26062, 105...</td>\n",
              "    </tr>\n",
              "    <tr>\n",
              "      <th>3</th>\n",
              "      <td>400</td>\n",
              "      <td>[0, 813, 94333, 3817507, 177, 407, 26751, 5503...</td>\n",
              "    </tr>\n",
              "    <tr>\n",
              "      <th>4</th>\n",
              "      <td>576</td>\n",
              "      <td>[177, 2600, 102, 4443, 5628, 10002, 10757, 140...</td>\n",
              "    </tr>\n",
              "    <tr>\n",
              "      <th>5</th>\n",
              "      <td>608</td>\n",
              "      <td>[9611, 55641, 5470984, 7342615, 4424, 4443, 51...</td>\n",
              "    </tr>\n",
              "    <tr>\n",
              "      <th>...</th>\n",
              "      <td>...</td>\n",
              "      <td>...</td>\n",
              "    </tr>\n",
              "    <tr>\n",
              "      <th>106929</th>\n",
              "      <td>3137586</td>\n",
              "      <td>[166, 285, 1504, 2084, 6347, 6367, 6368, 9945,...</td>\n",
              "    </tr>\n",
              "    <tr>\n",
              "      <th>106941</th>\n",
              "      <td>3137890</td>\n",
              "      <td>[105, 166, 7090, 9397, 10163, 14303, 17809, 19...</td>\n",
              "    </tr>\n",
              "    <tr>\n",
              "      <th>106969</th>\n",
              "      <td>3139005</td>\n",
              "      <td>[80020, 80021, 877, 1749, 1822, 1823, 2482, 97...</td>\n",
              "    </tr>\n",
              "    <tr>\n",
              "      <th>107030</th>\n",
              "      <td>3141664</td>\n",
              "      <td>[60876, 6388051, 175, 6622, 6777, 7979, 7988, ...</td>\n",
              "    </tr>\n",
              "    <tr>\n",
              "      <th>107063</th>\n",
              "      <td>3142760</td>\n",
              "      <td>[225, 452, 1985, 5154, 5601, 6567, 6757, 8333,...</td>\n",
              "    </tr>\n",
              "  </tbody>\n",
              "</table>\n",
              "<p>72014 rows × 2 columns</p>\n",
              "</div>"
            ],
            "text/plain": [
              "             Id                                          Predicted\n",
              "0            51  [14863, 19562, 63057, 3562687, 709, 9979, 456,...\n",
              "1            65  [54728, 18450, 3817542, 709, 18439, 26062, 105...\n",
              "3           400  [0, 813, 94333, 3817507, 177, 407, 26751, 5503...\n",
              "4           576  [177, 2600, 102, 4443, 5628, 10002, 10757, 140...\n",
              "5           608  [9611, 55641, 5470984, 7342615, 4424, 4443, 51...\n",
              "...         ...                                                ...\n",
              "106929  3137586  [166, 285, 1504, 2084, 6347, 6367, 6368, 9945,...\n",
              "106941  3137890  [105, 166, 7090, 9397, 10163, 14303, 17809, 19...\n",
              "106969  3139005  [80020, 80021, 877, 1749, 1822, 1823, 2482, 97...\n",
              "107030  3141664  [60876, 6388051, 175, 6622, 6777, 7979, 7988, ...\n",
              "107063  3142760  [225, 452, 1985, 5154, 5601, 6567, 6757, 8333,...\n",
              "\n",
              "[72014 rows x 2 columns]"
            ]
          },
          "metadata": {
            "tags": []
          },
          "execution_count": 80
        }
      ]
    },
    {
      "cell_type": "code",
      "metadata": {
        "id": "N9b2If0sCZqS",
        "outputId": "5e8c1929-a4b6-4765-a6a1-6b4d05232e7a",
        "colab": {
          "base_uri": "https://localhost:8080/",
          "height": 419
        }
      },
      "source": [
        "raw_columns"
      ],
      "execution_count": 79,
      "outputs": [
        {
          "output_type": "execute_result",
          "data": {
            "text/html": [
              "<div>\n",
              "<style scoped>\n",
              "    .dataframe tbody tr th:only-of-type {\n",
              "        vertical-align: middle;\n",
              "    }\n",
              "\n",
              "    .dataframe tbody tr th {\n",
              "        vertical-align: top;\n",
              "    }\n",
              "\n",
              "    .dataframe thead th {\n",
              "        text-align: right;\n",
              "    }\n",
              "</style>\n",
              "<table border=\"1\" class=\"dataframe\">\n",
              "  <thead>\n",
              "    <tr style=\"text-align: right;\">\n",
              "      <th></th>\n",
              "      <th>Id</th>\n",
              "      <th>Predicted</th>\n",
              "    </tr>\n",
              "  </thead>\n",
              "  <tbody>\n",
              "    <tr>\n",
              "      <th>2</th>\n",
              "      <td>187</td>\n",
              "      <td>[88084, 88086, 0, 709, 39590, 166, 55133, 1300...</td>\n",
              "    </tr>\n",
              "    <tr>\n",
              "      <th>10</th>\n",
              "      <td>1221</td>\n",
              "      <td>[2578, 9959, 58032, 4276318, 196879, 58812, 42...</td>\n",
              "    </tr>\n",
              "    <tr>\n",
              "      <th>11</th>\n",
              "      <td>1474</td>\n",
              "      <td>[37433, 31277, 105, 90812, 36666, 3039043, 145...</td>\n",
              "    </tr>\n",
              "    <tr>\n",
              "      <th>13</th>\n",
              "      <td>1626</td>\n",
              "      <td>[6622, 1766, 15593, 17647, 25838, 4592637, 639...</td>\n",
              "    </tr>\n",
              "    <tr>\n",
              "      <th>19</th>\n",
              "      <td>2682</td>\n",
              "      <td>[4431, 45458, 7042872, 7032787, 57219, 57561, ...</td>\n",
              "    </tr>\n",
              "    <tr>\n",
              "      <th>...</th>\n",
              "      <td>...</td>\n",
              "      <td>...</td>\n",
              "    </tr>\n",
              "    <tr>\n",
              "      <th>107062</th>\n",
              "      <td>3142704</td>\n",
              "      <td>[18028, 30339, 5469408, 5061047, 3497419, 3497...</td>\n",
              "    </tr>\n",
              "    <tr>\n",
              "      <th>107064</th>\n",
              "      <td>3142766</td>\n",
              "      <td>[104, 60546, 7365485, 7343959, 5045132, 504487...</td>\n",
              "    </tr>\n",
              "    <tr>\n",
              "      <th>107065</th>\n",
              "      <td>3142774</td>\n",
              "      <td>[14616, 21868, 201892, 1159915, 1159916, 40334...</td>\n",
              "    </tr>\n",
              "    <tr>\n",
              "      <th>107066</th>\n",
              "      <td>3142820</td>\n",
              "      <td>[0, 72614, 4277211, 4277111, 4277109, 85340, 8...</td>\n",
              "    </tr>\n",
              "    <tr>\n",
              "      <th>107067</th>\n",
              "      <td>3142875</td>\n",
              "      <td>[9741, 63760, 63762, 63763, 67694, 68465, 5044...</td>\n",
              "    </tr>\n",
              "  </tbody>\n",
              "</table>\n",
              "<p>35054 rows × 2 columns</p>\n",
              "</div>"
            ],
            "text/plain": [
              "             Id                                          Predicted\n",
              "2           187  [88084, 88086, 0, 709, 39590, 166, 55133, 1300...\n",
              "10         1221  [2578, 9959, 58032, 4276318, 196879, 58812, 42...\n",
              "11         1474  [37433, 31277, 105, 90812, 36666, 3039043, 145...\n",
              "13         1626  [6622, 1766, 15593, 17647, 25838, 4592637, 639...\n",
              "19         2682  [4431, 45458, 7042872, 7032787, 57219, 57561, ...\n",
              "...         ...                                                ...\n",
              "107062  3142704  [18028, 30339, 5469408, 5061047, 3497419, 3497...\n",
              "107064  3142766  [104, 60546, 7365485, 7343959, 5045132, 504487...\n",
              "107065  3142774  [14616, 21868, 201892, 1159915, 1159916, 40334...\n",
              "107066  3142820  [0, 72614, 4277211, 4277111, 4277109, 85340, 8...\n",
              "107067  3142875  [9741, 63760, 63762, 63763, 67694, 68465, 5044...\n",
              "\n",
              "[35054 rows x 2 columns]"
            ]
          },
          "metadata": {
            "tags": []
          },
          "execution_count": 79
        }
      ]
    },
    {
      "cell_type": "code",
      "metadata": {
        "id": "daa-CMeLCZir"
      },
      "source": [
        "from ast import literal_eval\n",
        "\n",
        "res_res = pd.concat([clear_col, raw_columns])\n",
        "res_res['Predicted'] = res_res['Predicted'].apply(lambda x: ' '.join([str(i) for i in literal_eval(x)]))"
      ],
      "execution_count": 84,
      "outputs": []
    },
    {
      "cell_type": "code",
      "metadata": {
        "id": "DLrfRPYDCZXy"
      },
      "source": [
        "res_res.to_csv('qweqwe.csv', index=False)"
      ],
      "execution_count": 86,
      "outputs": []
    },
    {
      "cell_type": "code",
      "metadata": {
        "id": "19me5GBCYkYh"
      },
      "source": [
        "a = [1, 3, 5, 6]\n",
        "b = [2, 1, 5, 7, 4]\n",
        "\n",
        "# b - a\n",
        "\n",
        "# [2, 7, 4]"
      ],
      "execution_count": null,
      "outputs": []
    },
    {
      "cell_type": "code",
      "metadata": {
        "id": "R5KDRUluY23g",
        "outputId": "dc7911ab-4b7c-4e22-ffae-3a6ac8f5e7a8",
        "colab": {
          "base_uri": "https://localhost:8080/",
          "height": 34
        }
      },
      "source": [
        "\n",
        "print(list(OrderedSet(b) - OrderedSet(a)))"
      ],
      "execution_count": null,
      "outputs": [
        {
          "output_type": "stream",
          "text": [
            "[2, 7, 4]\n"
          ],
          "name": "stdout"
        }
      ]
    },
    {
      "cell_type": "markdown",
      "metadata": {
        "id": "cQPI9m5-bwhO"
      },
      "source": [
        "Validation"
      ]
    },
    {
      "cell_type": "code",
      "metadata": {
        "id": "xftMnbVesHxD"
      },
      "source": [
        "from tqdm import tqdm\n",
        "import os \n",
        "import pandas as pd\n",
        "import numpy as np\n",
        "import fnmatch\n",
        "\n",
        "tab_2 = sorted(fnmatch.filter(os.listdir('.'), 'tab_2*.csv'))\n",
        "submit_example = pd.read_csv('sample_submission.csv')"
      ],
      "execution_count": 88,
      "outputs": []
    },
    {
      "cell_type": "code",
      "metadata": {
        "id": "2Zx88okWsjaz"
      },
      "source": [
        "submit_user_id = submit_example.Id.unique()"
      ],
      "execution_count": 89,
      "outputs": []
    },
    {
      "cell_type": "code",
      "metadata": {
        "id": "PpmsOXEcsUWN",
        "outputId": "a843bb98-578b-4432-8bb6-affbb248ebb0",
        "colab": {
          "base_uri": "https://localhost:8080/",
          "height": 71
        }
      },
      "source": [
        "first_part = tab_2[:23]\n",
        "print(first_part)\n",
        "\n",
        "second_part = tab_2[23:]\n",
        "print(second_part)\n",
        "\n",
        "# third_part = tab_2[21:24]\n",
        "# print(third_part)\n",
        "\n",
        "# fourth_part = tab_2[24:]\n",
        "# print(fourth_part)"
      ],
      "execution_count": 90,
      "outputs": [
        {
          "output_type": "stream",
          "text": [
            "['tab_2_products_2020-01-01.csv', 'tab_2_products_2020-01-11.csv', 'tab_2_products_2020-01-21.csv', 'tab_2_products_2020-01-31.csv', 'tab_2_products_2020-02-10.csv', 'tab_2_products_2020-02-20.csv', 'tab_2_products_2020-03-01.csv', 'tab_2_products_2020-03-11.csv', 'tab_2_products_2020-03-21.csv', 'tab_2_products_2020-03-31.csv', 'tab_2_products_2020-04-10.csv', 'tab_2_products_2020-04-20.csv', 'tab_2_products_2020-04-30.csv', 'tab_2_products_2020-05-10.csv', 'tab_2_products_2020-05-20.csv', 'tab_2_products_2020-05-30.csv', 'tab_2_products_2020-06-09.csv', 'tab_2_products_2020-06-19.csv', 'tab_2_products_2020-06-29.csv', 'tab_2_products_2020-07-09.csv', 'tab_2_products_2020-07-19.csv', 'tab_2_products_2020-07-29.csv', 'tab_2_products_2020-08-08.csv']\n",
            "['tab_2_products_2020-08-18.csv', 'tab_2_products_2020-08-28.csv', 'tab_2_products_2020-09-07.csv']\n"
          ],
          "name": "stdout"
        }
      ]
    },
    {
      "cell_type": "code",
      "metadata": {
        "id": "Ztk4yM_vu4jc"
      },
      "source": [
        "def popular_products_months(months_array):\n",
        "  res_concat_list = []\n",
        "\n",
        "  for file in tqdm_notebook(months_array):\n",
        "    x = pd.read_csv(file)\n",
        "    filter_frame = x[x['user_id'].isin(submit_user_id)]\n",
        "    res_concat_list.append(filter_frame)\n",
        "\n",
        "  res_first = pd.concat(res_concat_list)\n",
        "  print('Concated')\n",
        "\n",
        "  xxx = res_first.groupby(['user_id'])['product_id'].value_counts()\n",
        "  first = xxx.to_frame().rename(columns={'product_id': 'count_id'}).reset_index()\n",
        "\n",
        "  largest_first = first.groupby(['user_id'])['product_id', 'count_id'].apply(pd.DataFrame.nlargest, n=50, columns=['count_id']).reset_index().drop(columns={'level_1'})\n",
        "  dict_ = largest_first[['user_id', 'product_id']].groupby(['user_id'])['product_id'].apply(list).to_dict()\n",
        "\n",
        "  print('Ready')\n",
        "\n",
        "  return dict_"
      ],
      "execution_count": 93,
      "outputs": []
    },
    {
      "cell_type": "code",
      "metadata": {
        "id": "KLiMfWSovVjd",
        "outputId": "3b48be07-37f0-4b7b-f47d-f3796c076e43",
        "colab": {
          "base_uri": "https://localhost:8080/",
          "height": 288,
          "referenced_widgets": [
            "c3bdb22f87a349578171b3834102f06e",
            "ef9367e929134cef9b5f9206ceb56e37",
            "95414bd8ba324d78a389f6b5ba38c0cd",
            "cf55766fd04241b89411fbac9cae7f47",
            "61800ea6fa8a4210a1461ee7d6c7338e",
            "11bdd81d13fc4b678662fa6143ee0b0e",
            "6cc7aae2c28548168f4ac6fa0a5b1d74",
            "b0b095e4e6b64f40aa5f6978592bb3b5",
            "8c63eff0d8b84402a21ad337609024ad",
            "06b4b54526e349b182e21404f51cfafe",
            "558cbb30ad0e47d6ab9834a94ce3005f",
            "fda768658364428580fa059be6d04299",
            "fd7bca40fa924045af4a48c4aa1f3e7e",
            "dab2d9e910c1488ab728f30862f7cb9e",
            "b7628e8d90084d6a941baa32b854fe3e",
            "77a1eb81791c4d4f892cada340f43bba"
          ]
        }
      },
      "source": [
        "first_part = popular_products_months(first_part)\n",
        "second_part = popular_products_months(second_part)\n",
        "# third_part = popular_products_months(third_part)\n",
        "# fourth_part = popular_products_months(fourth_part)"
      ],
      "execution_count": 94,
      "outputs": [
        {
          "output_type": "stream",
          "text": [
            "/usr/local/lib/python3.6/dist-packages/ipykernel_launcher.py:4: TqdmDeprecationWarning: This function will be removed in tqdm==5.0.0\n",
            "Please use `tqdm.notebook.tqdm` instead of `tqdm.tqdm_notebook`\n",
            "  after removing the cwd from sys.path.\n"
          ],
          "name": "stderr"
        },
        {
          "output_type": "display_data",
          "data": {
            "application/vnd.jupyter.widget-view+json": {
              "model_id": "c3bdb22f87a349578171b3834102f06e",
              "version_minor": 0,
              "version_major": 2
            },
            "text/plain": [
              "HBox(children=(FloatProgress(value=0.0, max=23.0), HTML(value='')))"
            ]
          },
          "metadata": {
            "tags": []
          }
        },
        {
          "output_type": "stream",
          "text": [
            "\n",
            "Concated\n"
          ],
          "name": "stdout"
        },
        {
          "output_type": "stream",
          "text": [
            "/usr/local/lib/python3.6/dist-packages/ipykernel_launcher.py:15: FutureWarning: Indexing with multiple keys (implicitly converted to a tuple of keys) will be deprecated, use a list instead.\n",
            "  from ipykernel import kernelapp as app\n"
          ],
          "name": "stderr"
        },
        {
          "output_type": "stream",
          "text": [
            "Ready\n"
          ],
          "name": "stdout"
        },
        {
          "output_type": "display_data",
          "data": {
            "application/vnd.jupyter.widget-view+json": {
              "model_id": "8c63eff0d8b84402a21ad337609024ad",
              "version_minor": 0,
              "version_major": 2
            },
            "text/plain": [
              "HBox(children=(FloatProgress(value=0.0, max=3.0), HTML(value='')))"
            ]
          },
          "metadata": {
            "tags": []
          }
        },
        {
          "output_type": "stream",
          "text": [
            "\n",
            "Concated\n",
            "Ready\n"
          ],
          "name": "stdout"
        }
      ]
    },
    {
      "cell_type": "code",
      "metadata": {
        "id": "uEVt0J5Qv7Vx"
      },
      "source": [
        "def length_keys(dict_):\n",
        "  return len(dict_.keys())"
      ],
      "execution_count": 95,
      "outputs": []
    },
    {
      "cell_type": "code",
      "metadata": {
        "id": "8LgCqlvXv7HN",
        "outputId": "6ebe5b22-1976-4de8-dbc2-5cd229dadea8",
        "colab": {
          "base_uri": "https://localhost:8080/",
          "height": 51
        }
      },
      "source": [
        "print(length_keys(first_part))\n",
        "print(length_keys(second_part))\n",
        "# print(length_keys(third_part))\n",
        "# print(length_keys(fourth_part))"
      ],
      "execution_count": 96,
      "outputs": [
        {
          "output_type": "stream",
          "text": [
            "86852\n",
            "80135\n"
          ],
          "name": "stdout"
        }
      ]
    },
    {
      "cell_type": "markdown",
      "metadata": {
        "id": "sdEqsGsr5Jki"
      },
      "source": [
        "Example"
      ]
    },
    {
      "cell_type": "code",
      "metadata": {
        "id": "jW0F6cw05Jc4"
      },
      "source": [
        "check = [\n",
        "         list(first_part.keys()), \n",
        "         list(second_part.keys()), \n",
        "        #  list(third_part.keys()), \n",
        "        #  list(fourth_part.keys())\n",
        "         ]"
      ],
      "execution_count": 97,
      "outputs": []
    },
    {
      "cell_type": "code",
      "metadata": {
        "id": "3yXoGA4F5JLG"
      },
      "source": [
        "total_dicts = [\n",
        "               first_part,\n",
        "               second_part,\n",
        "              #  third_part,\n",
        "              #  fourth_part\n",
        "               ]"
      ],
      "execution_count": 98,
      "outputs": []
    },
    {
      "cell_type": "code",
      "metadata": {
        "id": "k6K_j4wL-NqJ",
        "outputId": "2a37edcd-332d-4777-fdc3-5d318d13fd1d",
        "colab": {
          "base_uri": "https://localhost:8080/",
          "height": 71
        }
      },
      "source": [
        "q = []\n",
        "\n",
        "for dict_ in total_dicts:\n",
        "  print(dict_[1508181])\n",
        "  q.append(dict_[1508181])"
      ],
      "execution_count": 99,
      "outputs": [
        {
          "output_type": "stream",
          "text": [
            "[3818615, 0, 709, 3564693, 46963, 3563878, 63072, 3565080, 3571473, 7029264, 7029327, 7054119, 14264, 18015, 48324, 2834407, 3565479, 3818320, 7029355, 7062257, 25838, 25853, 55133, 2834409, 3571078, 3818321, 3818579, 3818817, 7008781, 7029363, 7054133, 239, 1990, 7374, 8016, 8685, 9808, 12792, 18421, 24848, 25864, 39489, 45616, 55134, 67320, 75906, 75924, 81845, 85358, 96437]\n",
            "[3563878, 3818579, 3564693, 3818571, 3818572, 3818574, 2834410, 3565479, 3571473, 3818615, 4204677, 19928, 25853, 48324, 83074, 2834409, 3565084, 3565087, 3566296, 3818575, 3818578, 3818619, 5476534, 7029292, 7048217, 7054119, 7054123, 7055285, 7055846, 7062367, 7062412, 9210651, 981, 1990, 9808, 12846, 14264, 14632, 14638, 18015, 24831, 25838, 25864, 26632, 27883, 45616, 52220, 57200, 57500, 67596]\n"
          ],
          "name": "stdout"
        }
      ]
    },
    {
      "cell_type": "code",
      "metadata": {
        "id": "Eufa5gFY-YmD",
        "outputId": "b6e1c04a-3736-4ebc-8565-8658aa5dabc6",
        "colab": {
          "base_uri": "https://localhost:8080/",
          "height": 306
        }
      },
      "source": [
        "set.intersection(*map(set,q))"
      ],
      "execution_count": 100,
      "outputs": [
        {
          "output_type": "execute_result",
          "data": {
            "text/plain": [
              "{1990,\n",
              " 9808,\n",
              " 14264,\n",
              " 18015,\n",
              " 25838,\n",
              " 25853,\n",
              " 25864,\n",
              " 45616,\n",
              " 48324,\n",
              " 2834409,\n",
              " 3563878,\n",
              " 3564693,\n",
              " 3565479,\n",
              " 3571473,\n",
              " 3818579,\n",
              " 3818615,\n",
              " 7054119}"
            ]
          },
          "metadata": {
            "tags": []
          },
          "execution_count": 100
        }
      ]
    },
    {
      "cell_type": "code",
      "metadata": {
        "id": "Kdg4G_928rHb",
        "outputId": "f667e108-dbf8-4f7d-bbdf-fb1d8bcb1d87",
        "colab": {
          "base_uri": "https://localhost:8080/",
          "height": 306
        }
      },
      "source": [
        "qwe = [dict_[1508181] for dict_ in total_dicts]\n",
        "set.intersection(*map(set,qwe))"
      ],
      "execution_count": 101,
      "outputs": [
        {
          "output_type": "execute_result",
          "data": {
            "text/plain": [
              "{1990,\n",
              " 9808,\n",
              " 14264,\n",
              " 18015,\n",
              " 25838,\n",
              " 25853,\n",
              " 25864,\n",
              " 45616,\n",
              " 48324,\n",
              " 2834409,\n",
              " 3563878,\n",
              " 3564693,\n",
              " 3565479,\n",
              " 3571473,\n",
              " 3818579,\n",
              " 3818615,\n",
              " 7054119}"
            ]
          },
          "metadata": {
            "tags": []
          },
          "execution_count": 101
        }
      ]
    },
    {
      "cell_type": "code",
      "metadata": {
        "id": "zKxZC1uQ5JAZ",
        "outputId": "12975b8f-069b-4461-9b6c-ce373b65a328",
        "colab": {
          "base_uri": "https://localhost:8080/",
          "height": 544
        }
      },
      "source": [
        "res_dict = []\n",
        "\n",
        "for user in tqdm(submit_user_id):\n",
        "  current_user = []\n",
        "  for dict_ in total_dicts:\n",
        "    try:\n",
        "      res = dict_[user]\n",
        "      current_user.append(res)\n",
        "    except KeyError:\n",
        "      pass\n",
        "\n",
        "  set_res = set.intersection(*map(set,current_user))\n",
        "  res_dict.append([user, len(set_res), len(current_user), list(set_res)])\n",
        "  # res_dict[user] = len(set_res)\n",
        "\n",
        "# example = [dict_[660181] for dict_ in total_dicts]"
      ],
      "execution_count": 102,
      "outputs": [
        {
          "output_type": "stream",
          "text": [
            "\n",
            "\n",
            "\n",
            "  0%|          | 0/107068 [00:00<?, ?it/s]\u001b[A\u001b[A\u001b[A\n",
            "\n",
            "\n",
            " 10%|█         | 10735/107068 [00:00<00:00, 107344.47it/s]\u001b[A\u001b[A\u001b[A\n",
            "\n",
            "\n",
            " 21%|██        | 22123/107068 [00:00<00:00, 109224.27it/s]\u001b[A\u001b[A\u001b[A\n",
            "\n",
            "\n",
            " 26%|██▌       | 27794/107068 [00:00<00:02, 36071.40it/s] \u001b[A\u001b[A\u001b[A\n",
            "\n",
            "\n",
            " 38%|███▊      | 40444/107068 [00:00<00:01, 45918.88it/s]\u001b[A\u001b[A\u001b[A\n",
            "\n",
            "\n",
            " 49%|████▉     | 52218/107068 [00:00<00:00, 56204.04it/s]\u001b[A\u001b[A\u001b[A\n",
            "\n",
            "\n",
            " 60%|█████▉    | 63987/107068 [00:00<00:00, 66648.23it/s]\u001b[A\u001b[A\u001b[A\n",
            "\n",
            "\n",
            " 72%|███████▏  | 76628/107068 [00:01<00:00, 77662.94it/s]\u001b[A\u001b[A\u001b[A\n",
            "\n",
            "\n",
            " 85%|████████▌ | 91390/107068 [00:01<00:00, 90533.59it/s]\u001b[A\u001b[A\u001b[A\n",
            "\n",
            "\n",
            "100%|██████████| 107068/107068 [00:01<00:00, 66087.28it/s]\n"
          ],
          "name": "stderr"
        }
      ]
    },
    {
      "cell_type": "code",
      "metadata": {
        "id": "CGunaqVl5I4N"
      },
      "source": [
        "dd = pd.DataFrame(res_dict).rename(columns={0: 'user_id', 1: 'product_intersection', 2: 'qty_periods', 3: 'intersect_products'})"
      ],
      "execution_count": 103,
      "outputs": []
    },
    {
      "cell_type": "code",
      "metadata": {
        "id": "zrzIPmZIvmGn",
        "outputId": "dcc4176e-76ab-45e0-9b90-8c19138dee6a",
        "colab": {
          "base_uri": "https://localhost:8080/",
          "height": 419
        }
      },
      "source": [
        "dd.sort_values(by='qty_periods', ascending=False)"
      ],
      "execution_count": 104,
      "outputs": [
        {
          "output_type": "execute_result",
          "data": {
            "text/html": [
              "<div>\n",
              "<style scoped>\n",
              "    .dataframe tbody tr th:only-of-type {\n",
              "        vertical-align: middle;\n",
              "    }\n",
              "\n",
              "    .dataframe tbody tr th {\n",
              "        vertical-align: top;\n",
              "    }\n",
              "\n",
              "    .dataframe thead th {\n",
              "        text-align: right;\n",
              "    }\n",
              "</style>\n",
              "<table border=\"1\" class=\"dataframe\">\n",
              "  <thead>\n",
              "    <tr style=\"text-align: right;\">\n",
              "      <th></th>\n",
              "      <th>user_id</th>\n",
              "      <th>product_intersection</th>\n",
              "      <th>qty_periods</th>\n",
              "      <th>intersect_products</th>\n",
              "    </tr>\n",
              "  </thead>\n",
              "  <tbody>\n",
              "    <tr>\n",
              "      <th>53534</th>\n",
              "      <td>2037604</td>\n",
              "      <td>9</td>\n",
              "      <td>2</td>\n",
              "      <td>[165, 39590, 39591, 1990, 138, 3045035, 57131,...</td>\n",
              "    </tr>\n",
              "    <tr>\n",
              "      <th>46963</th>\n",
              "      <td>1655151</td>\n",
              "      <td>3</td>\n",
              "      <td>2</td>\n",
              "      <td>[105979, 4715, 38447]</td>\n",
              "    </tr>\n",
              "    <tr>\n",
              "      <th>46931</th>\n",
              "      <td>1653492</td>\n",
              "      <td>2</td>\n",
              "      <td>2</td>\n",
              "      <td>[45457, 22980]</td>\n",
              "    </tr>\n",
              "    <tr>\n",
              "      <th>97122</th>\n",
              "      <td>1232606</td>\n",
              "      <td>3</td>\n",
              "      <td>2</td>\n",
              "      <td>[0, 72929, 6770631]</td>\n",
              "    </tr>\n",
              "    <tr>\n",
              "      <th>97121</th>\n",
              "      <td>1232430</td>\n",
              "      <td>3</td>\n",
              "      <td>2</td>\n",
              "      <td>[96253, 18742, 67679]</td>\n",
              "    </tr>\n",
              "    <tr>\n",
              "      <th>...</th>\n",
              "      <td>...</td>\n",
              "      <td>...</td>\n",
              "      <td>...</td>\n",
              "      <td>...</td>\n",
              "    </tr>\n",
              "    <tr>\n",
              "      <th>66497</th>\n",
              "      <td>2047957</td>\n",
              "      <td>50</td>\n",
              "      <td>1</td>\n",
              "      <td>[31107, 3497348, 9733, 65672, 4592908, 26128, ...</td>\n",
              "    </tr>\n",
              "    <tr>\n",
              "      <th>66499</th>\n",
              "      <td>2048869</td>\n",
              "      <td>13</td>\n",
              "      <td>1</td>\n",
              "      <td>[2146, 5154, 3817542, 2834185, 3817577, 27948,...</td>\n",
              "    </tr>\n",
              "    <tr>\n",
              "      <th>66501</th>\n",
              "      <td>2049328</td>\n",
              "      <td>50</td>\n",
              "      <td>1</td>\n",
              "      <td>[0, 14469, 38411, 199694, 199695, 93714, 38175...</td>\n",
              "    </tr>\n",
              "    <tr>\n",
              "      <th>66504</th>\n",
              "      <td>2049699</td>\n",
              "      <td>47</td>\n",
              "      <td>1</td>\n",
              "      <td>[0, 3497476, 7008782, 7008788, 75926, 77079, 7...</td>\n",
              "    </tr>\n",
              "    <tr>\n",
              "      <th>107067</th>\n",
              "      <td>2998048</td>\n",
              "      <td>27</td>\n",
              "      <td>1</td>\n",
              "      <td>[5046788, 6691979, 29647, 6692436, 6692437, 46...</td>\n",
              "    </tr>\n",
              "  </tbody>\n",
              "</table>\n",
              "<p>107068 rows × 4 columns</p>\n",
              "</div>"
            ],
            "text/plain": [
              "        user_id  ...                                 intersect_products\n",
              "53534   2037604  ...  [165, 39590, 39591, 1990, 138, 3045035, 57131,...\n",
              "46963   1655151  ...                              [105979, 4715, 38447]\n",
              "46931   1653492  ...                                     [45457, 22980]\n",
              "97122   1232606  ...                                [0, 72929, 6770631]\n",
              "97121   1232430  ...                              [96253, 18742, 67679]\n",
              "...         ...  ...                                                ...\n",
              "66497   2047957  ...  [31107, 3497348, 9733, 65672, 4592908, 26128, ...\n",
              "66499   2048869  ...  [2146, 5154, 3817542, 2834185, 3817577, 27948,...\n",
              "66501   2049328  ...  [0, 14469, 38411, 199694, 199695, 93714, 38175...\n",
              "66504   2049699  ...  [0, 3497476, 7008782, 7008788, 75926, 77079, 7...\n",
              "107067  2998048  ...  [5046788, 6691979, 29647, 6692436, 6692437, 46...\n",
              "\n",
              "[107068 rows x 4 columns]"
            ]
          },
          "metadata": {
            "tags": []
          },
          "execution_count": 104
        }
      ]
    },
    {
      "cell_type": "code",
      "metadata": {
        "id": "fYXCXs634733",
        "outputId": "4a1cbb93-834f-4fe5-ce33-0a1586ee7202",
        "colab": {
          "base_uri": "https://localhost:8080/",
          "height": 556
        }
      },
      "source": [
        "import matplotlib.pyplot as plt\n",
        "import seaborn as sns\n",
        "sns.set()\n",
        "\n",
        "plt.figure(figsize=(12, 8))\n",
        "\n",
        "check = dd[dd['qty_periods'] == 2]\n",
        "\n",
        "sns.distplot(check.product_intersection.values)"
      ],
      "execution_count": 105,
      "outputs": [
        {
          "output_type": "stream",
          "text": [
            "/usr/local/lib/python3.6/dist-packages/seaborn/distributions.py:2551: FutureWarning: `distplot` is a deprecated function and will be removed in a future version. Please adapt your code to use either `displot` (a figure-level function with similar flexibility) or `histplot` (an axes-level function for histograms).\n",
            "  warnings.warn(msg, FutureWarning)\n"
          ],
          "name": "stderr"
        },
        {
          "output_type": "execute_result",
          "data": {
            "text/plain": [
              "<matplotlib.axes._subplots.AxesSubplot at 0x7f0a0d12b4e0>"
            ]
          },
          "metadata": {
            "tags": []
          },
          "execution_count": 105
        },
        {
          "output_type": "display_data",
          "data": {
            "image/png": "[encoded data removed]",
            "text/plain": [
              "<Figure size 864x576 with 1 Axes>"
            ]
          },
          "metadata": {
            "tags": []
          }
        }
      ]
    },
    {
      "cell_type": "code",
      "metadata": {
        "id": "gCbMqrtcD2qA",
        "outputId": "428e6d91-3538-461f-a569-38af98f2ac3d",
        "colab": {
          "base_uri": "https://localhost:8080/",
          "height": 573
        }
      },
      "source": [
        "plt.figure(figsize=(12, 8))\n",
        "\n",
        "sns.countplot(check.product_intersection.values)\n",
        "\n",
        "plt.xlabel('count_product_intersection')\n",
        "plt.ylabel('count')\n",
        "\n",
        "# plt.savefig('sadfdasf.jpg')"
      ],
      "execution_count": 106,
      "outputs": [
        {
          "output_type": "stream",
          "text": [
            "/usr/local/lib/python3.6/dist-packages/seaborn/_decorators.py:43: FutureWarning: Pass the following variable as a keyword arg: x. From version 0.12, the only valid positional argument will be `data`, and passing other arguments without an explicit keyword will result in an error or misinterpretation.\n",
            "  FutureWarning\n"
          ],
          "name": "stderr"
        },
        {
          "output_type": "execute_result",
          "data": {
            "text/plain": [
              "Text(0, 0.5, 'count')"
            ]
          },
          "metadata": {
            "tags": []
          },
          "execution_count": 106
        },
        {
          "output_type": "display_data",
          "data": {
            "image/png": "[encoded data removed]",
            "text/plain": [
              "<Figure size 864x576 with 1 Axes>"
            ]
          },
          "metadata": {
            "tags": []
          }
        }
      ]
    },
    {
      "cell_type": "code",
      "metadata": {
        "id": "hxcp2lGb47ug",
        "outputId": "df5cc379-80fe-4a87-e1d1-baf42a7b21eb",
        "colab": {
          "base_uri": "https://localhost:8080/",
          "height": 34
        }
      },
      "source": [
        "product_intersection = np.arange(9, 50)\n",
        "check[check['product_intersection'].isin(product_intersection)].shape[0] / dd.shape[0]"
      ],
      "execution_count": 107,
      "outputs": [
        {
          "output_type": "execute_result",
          "data": {
            "text/plain": [
              "0.17121829117943738"
            ]
          },
          "metadata": {
            "tags": []
          },
          "execution_count": 107
        }
      ]
    },
    {
      "cell_type": "code",
      "metadata": {
        "id": "ZU299GhDHWYS",
        "outputId": "f3ac4bc1-c7ba-4eeb-d5fe-b53bfcd90b7e",
        "colab": {
          "base_uri": "https://localhost:8080/",
          "height": 419
        }
      },
      "source": [
        "check.sort_values(by=['qty_periods', 'product_intersection'], ascending=False).head(500)"
      ],
      "execution_count": 134,
      "outputs": [
        {
          "output_type": "execute_result",
          "data": {
            "text/html": [
              "<div>\n",
              "<style scoped>\n",
              "    .dataframe tbody tr th:only-of-type {\n",
              "        vertical-align: middle;\n",
              "    }\n",
              "\n",
              "    .dataframe tbody tr th {\n",
              "        vertical-align: top;\n",
              "    }\n",
              "\n",
              "    .dataframe thead th {\n",
              "        text-align: right;\n",
              "    }\n",
              "</style>\n",
              "<table border=\"1\" class=\"dataframe\">\n",
              "  <thead>\n",
              "    <tr style=\"text-align: right;\">\n",
              "      <th></th>\n",
              "      <th>user_id</th>\n",
              "      <th>product_intersection</th>\n",
              "      <th>qty_periods</th>\n",
              "      <th>intersect_products</th>\n",
              "    </tr>\n",
              "  </thead>\n",
              "  <tbody>\n",
              "    <tr>\n",
              "      <th>72964</th>\n",
              "      <td>2540509</td>\n",
              "      <td>44</td>\n",
              "      <td>2</td>\n",
              "      <td>[3497347, 21767, 266, 202006, 14361, 58010, 19...</td>\n",
              "    </tr>\n",
              "    <tr>\n",
              "      <th>67028</th>\n",
              "      <td>2135642</td>\n",
              "      <td>42</td>\n",
              "      <td>2</td>\n",
              "      <td>[2306, 37123, 9859, 10115, 21511, 102284, 4592...</td>\n",
              "    </tr>\n",
              "    <tr>\n",
              "      <th>29396</th>\n",
              "      <td>1940826</td>\n",
              "      <td>41</td>\n",
              "      <td>2</td>\n",
              "      <td>[59909, 13449, 60042, 2321, 60692, 67220, 6773...</td>\n",
              "    </tr>\n",
              "    <tr>\n",
              "      <th>93193</th>\n",
              "      <td>2721721</td>\n",
              "      <td>39</td>\n",
              "      <td>2</td>\n",
              "      <td>[63621, 37128, 45459, 25109, 24357, 24872, 454...</td>\n",
              "    </tr>\n",
              "    <tr>\n",
              "      <th>74280</th>\n",
              "      <td>2624947</td>\n",
              "      <td>38</td>\n",
              "      <td>2</td>\n",
              "      <td>[3075072, 3075073, 3075075, 45586, 76690, 3821...</td>\n",
              "    </tr>\n",
              "    <tr>\n",
              "      <th>...</th>\n",
              "      <td>...</td>\n",
              "      <td>...</td>\n",
              "      <td>...</td>\n",
              "      <td>...</td>\n",
              "    </tr>\n",
              "    <tr>\n",
              "      <th>15633</th>\n",
              "      <td>1118349</td>\n",
              "      <td>23</td>\n",
              "      <td>2</td>\n",
              "      <td>[5075970, 7014915, 5075971, 1037, 7015569, 143...</td>\n",
              "    </tr>\n",
              "    <tr>\n",
              "      <th>16046</th>\n",
              "      <td>1177120</td>\n",
              "      <td>23</td>\n",
              "      <td>2</td>\n",
              "      <td>[261, 399, 6300, 43, 79410, 4141624, 4141625, ...</td>\n",
              "    </tr>\n",
              "    <tr>\n",
              "      <th>16050</th>\n",
              "      <td>1177555</td>\n",
              "      <td>23</td>\n",
              "      <td>2</td>\n",
              "      <td>[5642, 142, 84497, 45457, 2066, 17813, 84509, ...</td>\n",
              "    </tr>\n",
              "    <tr>\n",
              "      <th>16219</th>\n",
              "      <td>1197167</td>\n",
              "      <td>23</td>\n",
              "      <td>2</td>\n",
              "      <td>[36483, 24836, 14469, 24842, 138, 45459, 84000...</td>\n",
              "    </tr>\n",
              "    <tr>\n",
              "      <th>16228</th>\n",
              "      <td>1197989</td>\n",
              "      <td>23</td>\n",
              "      <td>2</td>\n",
              "      <td>[0, 10120, 101136, 5483290, 65179, 158, 20003,...</td>\n",
              "    </tr>\n",
              "  </tbody>\n",
              "</table>\n",
              "<p>500 rows × 4 columns</p>\n",
              "</div>"
            ],
            "text/plain": [
              "       user_id  ...                                 intersect_products\n",
              "72964  2540509  ...  [3497347, 21767, 266, 202006, 14361, 58010, 19...\n",
              "67028  2135642  ...  [2306, 37123, 9859, 10115, 21511, 102284, 4592...\n",
              "29396  1940826  ...  [59909, 13449, 60042, 2321, 60692, 67220, 6773...\n",
              "93193  2721721  ...  [63621, 37128, 45459, 25109, 24357, 24872, 454...\n",
              "74280  2624947  ...  [3075072, 3075073, 3075075, 45586, 76690, 3821...\n",
              "...        ...  ...                                                ...\n",
              "15633  1118349  ...  [5075970, 7014915, 5075971, 1037, 7015569, 143...\n",
              "16046  1177120  ...  [261, 399, 6300, 43, 79410, 4141624, 4141625, ...\n",
              "16050  1177555  ...  [5642, 142, 84497, 45457, 2066, 17813, 84509, ...\n",
              "16219  1197167  ...  [36483, 24836, 14469, 24842, 138, 45459, 84000...\n",
              "16228  1197989  ...  [0, 10120, 101136, 5483290, 65179, 158, 20003,...\n",
              "\n",
              "[500 rows x 4 columns]"
            ]
          },
          "metadata": {
            "tags": []
          },
          "execution_count": 134
        }
      ]
    },
    {
      "cell_type": "code",
      "metadata": {
        "id": "0HD1895lGojf",
        "outputId": "1f3ade1f-04a0-4fe5-eee4-a2082a9c6ac2",
        "colab": {
          "base_uri": "https://localhost:8080/",
          "height": 34
        }
      },
      "source": [
        "f = [int(x) for x in res_res[res_res.Id == 1197989].Predicted.values[0].split(' ')]\n",
        "g = check[check.user_id == 1197989].intersect_products.values[0]\n",
        "\n",
        "list(set(g) - set(f))"
      ],
      "execution_count": 135,
      "outputs": [
        {
          "output_type": "execute_result",
          "data": {
            "text/plain": [
              "[]"
            ]
          },
          "metadata": {
            "tags": []
          },
          "execution_count": 135
        }
      ]
    },
    {
      "cell_type": "code",
      "metadata": {
        "id": "PlVcRMAlIJbC",
        "outputId": "b052ee6d-0572-4515-f389-f9ff9b9aa606",
        "colab": {
          "base_uri": "https://localhost:8080/",
          "height": 527
        }
      },
      "source": [
        "g"
      ],
      "execution_count": 128,
      "outputs": [
        {
          "output_type": "execute_result",
          "data": {
            "text/plain": [
              "[0,\n",
              " 77075,\n",
              " 2325,\n",
              " 46742,\n",
              " 151,\n",
              " 9496,\n",
              " 85789,\n",
              " 77099,\n",
              " 7014956,\n",
              " 77229,\n",
              " 5478066,\n",
              " 25141,\n",
              " 6782778,\n",
              " 7000508,\n",
              " 6640702,\n",
              " 6337,\n",
              " 6691650,\n",
              " 73411,\n",
              " 62024,\n",
              " 6347,\n",
              " 57552,\n",
              " 6640724,\n",
              " 6640598,\n",
              " 39770,\n",
              " 6640603,\n",
              " 3818084,\n",
              " 94054,\n",
              " 73725,\n",
              " 73335,\n",
              " 21757]"
            ]
          },
          "metadata": {
            "tags": []
          },
          "execution_count": 128
        }
      ]
    },
    {
      "cell_type": "code",
      "metadata": {
        "id": "UWKDPJGlIac3",
        "outputId": "141fa496-7922-48fe-d8c6-1a6fa9edc492",
        "colab": {
          "base_uri": "https://localhost:8080/",
          "height": 867
        }
      },
      "source": [
        "f"
      ],
      "execution_count": 129,
      "outputs": [
        {
          "output_type": "execute_result",
          "data": {
            "text/plain": [
              "[151,\n",
              " 6347,\n",
              " 6782778,\n",
              " 7014956,\n",
              " 2325,\n",
              " 77099,\n",
              " 73335,\n",
              " 85789,\n",
              " 3818084,\n",
              " 7000508,\n",
              " 0,\n",
              " 6375429,\n",
              " 6640603,\n",
              " 46742,\n",
              " 77229,\n",
              " 73725,\n",
              " 6782779,\n",
              " 62024,\n",
              " 4276055,\n",
              " 6640598,\n",
              " 6337,\n",
              " 73411,\n",
              " 5478066,\n",
              " 6640702,\n",
              " 9496,\n",
              " 6805276,\n",
              " 13692,\n",
              " 25141,\n",
              " 57552,\n",
              " 75606,\n",
              " 75679,\n",
              " 6368453,\n",
              " 6640724,\n",
              " 6805110,\n",
              " 39770,\n",
              " 73937,\n",
              " 77075,\n",
              " 201322,\n",
              " 5045417,\n",
              " 6685853,\n",
              " 6338,\n",
              " 73286,\n",
              " 94054,\n",
              " 6691650,\n",
              " 7401,\n",
              " 21757,\n",
              " 96439,\n",
              " 7330060,\n",
              " 9571,\n",
              " 45589]"
            ]
          },
          "metadata": {
            "tags": []
          },
          "execution_count": 129
        }
      ]
    },
    {
      "cell_type": "code",
      "metadata": {
        "id": "SSazbblZGobT",
        "outputId": "4312432e-284c-4f4e-80fe-abc131a3f46e",
        "colab": {
          "base_uri": "https://localhost:8080/",
          "height": 231
        }
      },
      "source": [
        "res_concat_list = []\n",
        "\n",
        "for file in tqdm(tab_2):\n",
        "  x = pd.read_csv(file)\n",
        "  filter_frame = x[x['user_id'].isin(submit_user_id)]\n",
        "  res_concat_list.append(filter_frame)\n",
        "\n",
        "frame = pd.concat(res_concat_list)"
      ],
      "execution_count": null,
      "outputs": [
        {
          "output_type": "error",
          "ename": "NameError",
          "evalue": "ignored",
          "traceback": [
            "\u001b[0;31m---------------------------------------------------------------------------\u001b[0m",
            "\u001b[0;31mNameError\u001b[0m                                 Traceback (most recent call last)",
            "\u001b[0;32m<ipython-input-1-b83b63be702c>\u001b[0m in \u001b[0;36m<module>\u001b[0;34m()\u001b[0m\n\u001b[1;32m      1\u001b[0m \u001b[0mres_concat_list\u001b[0m \u001b[0;34m=\u001b[0m \u001b[0;34m[\u001b[0m\u001b[0;34m]\u001b[0m\u001b[0;34m\u001b[0m\u001b[0;34m\u001b[0m\u001b[0m\n\u001b[1;32m      2\u001b[0m \u001b[0;34m\u001b[0m\u001b[0m\n\u001b[0;32m----> 3\u001b[0;31m \u001b[0;32mfor\u001b[0m \u001b[0mfile\u001b[0m \u001b[0;32min\u001b[0m \u001b[0mtqdm\u001b[0m\u001b[0;34m(\u001b[0m\u001b[0mtab_2\u001b[0m\u001b[0;34m)\u001b[0m\u001b[0;34m:\u001b[0m\u001b[0;34m\u001b[0m\u001b[0;34m\u001b[0m\u001b[0m\n\u001b[0m\u001b[1;32m      4\u001b[0m   \u001b[0mx\u001b[0m \u001b[0;34m=\u001b[0m \u001b[0mpd\u001b[0m\u001b[0;34m.\u001b[0m\u001b[0mread_csv\u001b[0m\u001b[0;34m(\u001b[0m\u001b[0mfile\u001b[0m\u001b[0;34m)\u001b[0m\u001b[0;34m\u001b[0m\u001b[0;34m\u001b[0m\u001b[0m\n\u001b[1;32m      5\u001b[0m   \u001b[0mfilter_frame\u001b[0m \u001b[0;34m=\u001b[0m \u001b[0mx\u001b[0m\u001b[0;34m[\u001b[0m\u001b[0mx\u001b[0m\u001b[0;34m[\u001b[0m\u001b[0;34m'user_id'\u001b[0m\u001b[0;34m]\u001b[0m\u001b[0;34m.\u001b[0m\u001b[0misin\u001b[0m\u001b[0;34m(\u001b[0m\u001b[0msubmit_user_id\u001b[0m\u001b[0;34m)\u001b[0m\u001b[0;34m]\u001b[0m\u001b[0;34m\u001b[0m\u001b[0;34m\u001b[0m\u001b[0m\n",
            "\u001b[0;31mNameError\u001b[0m: name 'tqdm' is not defined"
          ]
        }
      ]
    },
    {
      "cell_type": "code",
      "metadata": {
        "id": "PYMpffmELQWz"
      },
      "source": [
        "tab_1_orders = pd.read_csv('tab_1_orders.csv')"
      ],
      "execution_count": null,
      "outputs": []
    },
    {
      "cell_type": "code",
      "metadata": {
        "id": "CIpvfXyELYJM",
        "outputId": "76f921cd-408f-4770-9b3d-c5eeeb12657d",
        "colab": {
          "base_uri": "https://localhost:8080/",
          "height": 204
        }
      },
      "source": [
        "tab_1_orders.head()"
      ],
      "execution_count": null,
      "outputs": [
        {
          "output_type": "execute_result",
          "data": {
            "text/html": [
              "<div>\n",
              "<style scoped>\n",
              "    .dataframe tbody tr th:only-of-type {\n",
              "        vertical-align: middle;\n",
              "    }\n",
              "\n",
              "    .dataframe tbody tr th {\n",
              "        vertical-align: top;\n",
              "    }\n",
              "\n",
              "    .dataframe thead th {\n",
              "        text-align: right;\n",
              "    }\n",
              "</style>\n",
              "<table border=\"1\" class=\"dataframe\">\n",
              "  <thead>\n",
              "    <tr style=\"text-align: right;\">\n",
              "      <th></th>\n",
              "      <th>user_id</th>\n",
              "      <th>order_id</th>\n",
              "      <th>order_created_time</th>\n",
              "      <th>retailer</th>\n",
              "      <th>store_id</th>\n",
              "      <th>platform</th>\n",
              "    </tr>\n",
              "  </thead>\n",
              "  <tbody>\n",
              "    <tr>\n",
              "      <th>0</th>\n",
              "      <td>72</td>\n",
              "      <td>17431000</td>\n",
              "      <td>2020-09-26 10:48:57</td>\n",
              "      <td>METRO</td>\n",
              "      <td>21</td>\n",
              "      <td>app</td>\n",
              "    </tr>\n",
              "    <tr>\n",
              "      <th>1</th>\n",
              "      <td>83</td>\n",
              "      <td>9718154</td>\n",
              "      <td>2020-05-08 09:46:18</td>\n",
              "      <td>METRO</td>\n",
              "      <td>87</td>\n",
              "      <td>web</td>\n",
              "    </tr>\n",
              "    <tr>\n",
              "      <th>2</th>\n",
              "      <td>142</td>\n",
              "      <td>10056850</td>\n",
              "      <td>2020-05-14 15:06:03</td>\n",
              "      <td>METRO</td>\n",
              "      <td>320</td>\n",
              "      <td>app</td>\n",
              "    </tr>\n",
              "    <tr>\n",
              "      <th>3</th>\n",
              "      <td>187</td>\n",
              "      <td>15952443</td>\n",
              "      <td>2020-09-01 17:34:00</td>\n",
              "      <td>ВкусВилл</td>\n",
              "      <td>533</td>\n",
              "      <td>app</td>\n",
              "    </tr>\n",
              "    <tr>\n",
              "      <th>4</th>\n",
              "      <td>224</td>\n",
              "      <td>10409918</td>\n",
              "      <td>2020-05-20 06:32:50</td>\n",
              "      <td>Ашан</td>\n",
              "      <td>183</td>\n",
              "      <td>web</td>\n",
              "    </tr>\n",
              "  </tbody>\n",
              "</table>\n",
              "</div>"
            ],
            "text/plain": [
              "   user_id  order_id   order_created_time  retailer  store_id platform\n",
              "0       72  17431000  2020-09-26 10:48:57     METRO        21      app\n",
              "1       83   9718154  2020-05-08 09:46:18     METRO        87      web\n",
              "2      142  10056850  2020-05-14 15:06:03     METRO       320      app\n",
              "3      187  15952443  2020-09-01 17:34:00  ВкусВилл       533      app\n",
              "4      224  10409918  2020-05-20 06:32:50      Ашан       183      web"
            ]
          },
          "metadata": {
            "tags": []
          },
          "execution_count": 186
        }
      ]
    },
    {
      "cell_type": "code",
      "metadata": {
        "id": "26FNWU0rTY-W",
        "outputId": "c4b15133-ee5e-4aa3-ac62-9662ef32484d",
        "colab": {
          "base_uri": "https://localhost:8080/",
          "height": 316
        }
      },
      "source": [
        "frame['master_parent'] = str(int(frame['master_category_id'])) + '_' + str(frame['parent_category_id'])\n",
        "\n",
        "frame"
      ],
      "execution_count": null,
      "outputs": [
        {
          "output_type": "error",
          "ename": "TypeError",
          "evalue": "ignored",
          "traceback": [
            "\u001b[0;31m---------------------------------------------------------------------------\u001b[0m",
            "\u001b[0;31mTypeError\u001b[0m                                 Traceback (most recent call last)",
            "\u001b[0;32m<ipython-input-194-858e29b2f437>\u001b[0m in \u001b[0;36m<module>\u001b[0;34m()\u001b[0m\n\u001b[0;32m----> 1\u001b[0;31m \u001b[0mframe\u001b[0m\u001b[0;34m[\u001b[0m\u001b[0;34m'master_parent'\u001b[0m\u001b[0;34m]\u001b[0m \u001b[0;34m=\u001b[0m \u001b[0mstr\u001b[0m\u001b[0;34m(\u001b[0m\u001b[0mint\u001b[0m\u001b[0;34m(\u001b[0m\u001b[0mframe\u001b[0m\u001b[0;34m[\u001b[0m\u001b[0;34m'master_category_id'\u001b[0m\u001b[0;34m]\u001b[0m\u001b[0;34m)\u001b[0m\u001b[0;34m)\u001b[0m \u001b[0;34m+\u001b[0m \u001b[0;34m'_'\u001b[0m \u001b[0;34m+\u001b[0m \u001b[0mstr\u001b[0m\u001b[0;34m(\u001b[0m\u001b[0mframe\u001b[0m\u001b[0;34m[\u001b[0m\u001b[0;34m'parent_category_id'\u001b[0m\u001b[0;34m]\u001b[0m\u001b[0;34m)\u001b[0m\u001b[0;34m\u001b[0m\u001b[0;34m\u001b[0m\u001b[0m\n\u001b[0m\u001b[1;32m      2\u001b[0m \u001b[0;34m\u001b[0m\u001b[0m\n\u001b[1;32m      3\u001b[0m \u001b[0mframe\u001b[0m\u001b[0;34m\u001b[0m\u001b[0;34m\u001b[0m\u001b[0m\n",
            "\u001b[0;32m/usr/local/lib/python3.6/dist-packages/pandas/core/series.py\u001b[0m in \u001b[0;36mwrapper\u001b[0;34m(self)\u001b[0m\n\u001b[1;32m    127\u001b[0m         \u001b[0;32mif\u001b[0m \u001b[0mlen\u001b[0m\u001b[0;34m(\u001b[0m\u001b[0mself\u001b[0m\u001b[0;34m)\u001b[0m \u001b[0;34m==\u001b[0m \u001b[0;36m1\u001b[0m\u001b[0;34m:\u001b[0m\u001b[0;34m\u001b[0m\u001b[0;34m\u001b[0m\u001b[0m\n\u001b[1;32m    128\u001b[0m             \u001b[0;32mreturn\u001b[0m \u001b[0mconverter\u001b[0m\u001b[0;34m(\u001b[0m\u001b[0mself\u001b[0m\u001b[0;34m.\u001b[0m\u001b[0miloc\u001b[0m\u001b[0;34m[\u001b[0m\u001b[0;36m0\u001b[0m\u001b[0;34m]\u001b[0m\u001b[0;34m)\u001b[0m\u001b[0;34m\u001b[0m\u001b[0;34m\u001b[0m\u001b[0m\n\u001b[0;32m--> 129\u001b[0;31m         \u001b[0;32mraise\u001b[0m \u001b[0mTypeError\u001b[0m\u001b[0;34m(\u001b[0m\u001b[0;34mf\"cannot convert the series to {converter}\"\u001b[0m\u001b[0;34m)\u001b[0m\u001b[0;34m\u001b[0m\u001b[0;34m\u001b[0m\u001b[0m\n\u001b[0m\u001b[1;32m    130\u001b[0m \u001b[0;34m\u001b[0m\u001b[0m\n\u001b[1;32m    131\u001b[0m     \u001b[0mwrapper\u001b[0m\u001b[0;34m.\u001b[0m\u001b[0m__name__\u001b[0m \u001b[0;34m=\u001b[0m \u001b[0;34mf\"__{converter.__name__}__\"\u001b[0m\u001b[0;34m\u001b[0m\u001b[0;34m\u001b[0m\u001b[0m\n",
            "\u001b[0;31mTypeError\u001b[0m: cannot convert the series to <class 'int'>"
          ]
        }
      ]
    },
    {
      "cell_type": "code",
      "metadata": {
        "id": "85Cn8iR8LvmR"
      },
      "source": [
        "# frame_merge = frame.merge(tab_1_orders, left_on='order_id', right_on='order_id')"
      ],
      "execution_count": null,
      "outputs": []
    },
    {
      "cell_type": "code",
      "metadata": {
        "id": "GKcjkh92LELi"
      },
      "source": [
        "drop_columns = [\n",
        "      'order_id',\n",
        "      'line_item_id',\n",
        "      'product_name',\n",
        "      'product_id',\n",
        "      'retailer',\n",
        "      'user_id_y'\n",
        "]\n",
        "\n",
        "frame = frame.drop(columns=drop_columns)"
      ],
      "execution_count": null,
      "outputs": []
    },
    {
      "cell_type": "code",
      "metadata": {
        "id": "zdlV7xLLGoUJ",
        "outputId": "18fef790-e4e2-4133-c049-40e20756e8ea",
        "colab": {
          "base_uri": "https://localhost:8080/",
          "height": 419
        }
      },
      "source": [
        "frame.sort_values(by='order_created_time')"
      ],
      "execution_count": null,
      "outputs": [
        {
          "output_type": "execute_result",
          "data": {
            "text/html": [
              "<div>\n",
              "<style scoped>\n",
              "    .dataframe tbody tr th:only-of-type {\n",
              "        vertical-align: middle;\n",
              "    }\n",
              "\n",
              "    .dataframe tbody tr th {\n",
              "        vertical-align: top;\n",
              "    }\n",
              "\n",
              "    .dataframe thead th {\n",
              "        text-align: right;\n",
              "    }\n",
              "</style>\n",
              "<table border=\"1\" class=\"dataframe\">\n",
              "  <thead>\n",
              "    <tr style=\"text-align: right;\">\n",
              "      <th></th>\n",
              "      <th>user_id_x</th>\n",
              "      <th>price</th>\n",
              "      <th>quantity</th>\n",
              "      <th>discount</th>\n",
              "      <th>brand_name</th>\n",
              "      <th>master_category_id</th>\n",
              "      <th>parent_category_id</th>\n",
              "      <th>order_created_time</th>\n",
              "      <th>store_id</th>\n",
              "      <th>platform</th>\n",
              "    </tr>\n",
              "  </thead>\n",
              "  <tbody>\n",
              "    <tr>\n",
              "      <th>3014503</th>\n",
              "      <td>1795320</td>\n",
              "      <td>39.900002</td>\n",
              "      <td>1</td>\n",
              "      <td>4.090000</td>\n",
              "      <td>Corny</td>\n",
              "      <td>582.0</td>\n",
              "      <td>9</td>\n",
              "      <td>2020-01-01 10:20:46</td>\n",
              "      <td>255</td>\n",
              "      <td>app</td>\n",
              "    </tr>\n",
              "    <tr>\n",
              "      <th>3014502</th>\n",
              "      <td>1795320</td>\n",
              "      <td>149.899994</td>\n",
              "      <td>1</td>\n",
              "      <td>147.479996</td>\n",
              "      <td>Jardin</td>\n",
              "      <td>128.0</td>\n",
              "      <td>126</td>\n",
              "      <td>2020-01-01 10:20:46</td>\n",
              "      <td>255</td>\n",
              "      <td>app</td>\n",
              "    </tr>\n",
              "    <tr>\n",
              "      <th>3014478</th>\n",
              "      <td>1795320</td>\n",
              "      <td>28.990000</td>\n",
              "      <td>2</td>\n",
              "      <td>0.000000</td>\n",
              "      <td>Cheetos</td>\n",
              "      <td>612.0</td>\n",
              "      <td>19</td>\n",
              "      <td>2020-01-01 10:20:46</td>\n",
              "      <td>255</td>\n",
              "      <td>app</td>\n",
              "    </tr>\n",
              "    <tr>\n",
              "      <th>3014479</th>\n",
              "      <td>1795320</td>\n",
              "      <td>61.990002</td>\n",
              "      <td>1</td>\n",
              "      <td>0.000000</td>\n",
              "      <td>Простоквашино</td>\n",
              "      <td>29.0</td>\n",
              "      <td>20</td>\n",
              "      <td>2020-01-01 10:20:46</td>\n",
              "      <td>255</td>\n",
              "      <td>app</td>\n",
              "    </tr>\n",
              "    <tr>\n",
              "      <th>3014480</th>\n",
              "      <td>1795320</td>\n",
              "      <td>76.900002</td>\n",
              "      <td>2</td>\n",
              "      <td>0.000000</td>\n",
              "      <td>Parmalat</td>\n",
              "      <td>26.0</td>\n",
              "      <td>20</td>\n",
              "      <td>2020-01-01 10:20:46</td>\n",
              "      <td>255</td>\n",
              "      <td>app</td>\n",
              "    </tr>\n",
              "    <tr>\n",
              "      <th>...</th>\n",
              "      <td>...</td>\n",
              "      <td>...</td>\n",
              "      <td>...</td>\n",
              "      <td>...</td>\n",
              "      <td>...</td>\n",
              "      <td>...</td>\n",
              "      <td>...</td>\n",
              "      <td>...</td>\n",
              "      <td>...</td>\n",
              "      <td>...</td>\n",
              "    </tr>\n",
              "    <tr>\n",
              "      <th>7399466</th>\n",
              "      <td>2418239</td>\n",
              "      <td>109.889999</td>\n",
              "      <td>1</td>\n",
              "      <td>42.799999</td>\n",
              "      <td>Lay's</td>\n",
              "      <td>610.0</td>\n",
              "      <td>19</td>\n",
              "      <td>2020-09-16 22:57:36</td>\n",
              "      <td>200</td>\n",
              "      <td>app</td>\n",
              "    </tr>\n",
              "    <tr>\n",
              "      <th>7399468</th>\n",
              "      <td>2418239</td>\n",
              "      <td>154.990005</td>\n",
              "      <td>1</td>\n",
              "      <td>165.000000</td>\n",
              "      <td>Bibigo</td>\n",
              "      <td>643.0</td>\n",
              "      <td>99</td>\n",
              "      <td>2020-09-16 22:57:36</td>\n",
              "      <td>200</td>\n",
              "      <td>app</td>\n",
              "    </tr>\n",
              "    <tr>\n",
              "      <th>7399459</th>\n",
              "      <td>2418239</td>\n",
              "      <td>102.199997</td>\n",
              "      <td>1</td>\n",
              "      <td>19.160000</td>\n",
              "      <td>Лента</td>\n",
              "      <td>639.0</td>\n",
              "      <td>99</td>\n",
              "      <td>2020-09-16 22:57:36</td>\n",
              "      <td>200</td>\n",
              "      <td>app</td>\n",
              "    </tr>\n",
              "    <tr>\n",
              "      <th>7399464</th>\n",
              "      <td>2418239</td>\n",
              "      <td>73.690002</td>\n",
              "      <td>2</td>\n",
              "      <td>0.000000</td>\n",
              "      <td>Лента</td>\n",
              "      <td>596.0</td>\n",
              "      <td>51</td>\n",
              "      <td>2020-09-16 22:57:36</td>\n",
              "      <td>200</td>\n",
              "      <td>app</td>\n",
              "    </tr>\n",
              "    <tr>\n",
              "      <th>7399460</th>\n",
              "      <td>2418239</td>\n",
              "      <td>103.559998</td>\n",
              "      <td>1</td>\n",
              "      <td>0.000000</td>\n",
              "      <td>Лента</td>\n",
              "      <td>641.0</td>\n",
              "      <td>99</td>\n",
              "      <td>2020-09-16 22:57:36</td>\n",
              "      <td>200</td>\n",
              "      <td>app</td>\n",
              "    </tr>\n",
              "  </tbody>\n",
              "</table>\n",
              "<p>7856064 rows × 10 columns</p>\n",
              "</div>"
            ],
            "text/plain": [
              "         user_id_x       price  ...  store_id  platform\n",
              "3014503    1795320   39.900002  ...       255       app\n",
              "3014502    1795320  149.899994  ...       255       app\n",
              "3014478    1795320   28.990000  ...       255       app\n",
              "3014479    1795320   61.990002  ...       255       app\n",
              "3014480    1795320   76.900002  ...       255       app\n",
              "...            ...         ...  ...       ...       ...\n",
              "7399466    2418239  109.889999  ...       200       app\n",
              "7399468    2418239  154.990005  ...       200       app\n",
              "7399459    2418239  102.199997  ...       200       app\n",
              "7399464    2418239   73.690002  ...       200       app\n",
              "7399460    2418239  103.559998  ...       200       app\n",
              "\n",
              "[7856064 rows x 10 columns]"
            ]
          },
          "metadata": {
            "tags": []
          },
          "execution_count": 183
        }
      ]
    },
    {
      "cell_type": "code",
      "metadata": {
        "id": "H5iVFezNKG62"
      },
      "source": [
        ""
      ],
      "execution_count": null,
      "outputs": []
    },
    {
      "cell_type": "code",
      "metadata": {
        "id": "333oifnPKGz0"
      },
      "source": [
        ""
      ],
      "execution_count": null,
      "outputs": []
    },
    {
      "cell_type": "code",
      "metadata": {
        "id": "4eW2nzIjKGtV"
      },
      "source": [
        ""
      ],
      "execution_count": null,
      "outputs": []
    },
    {
      "cell_type": "code",
      "metadata": {
        "id": "1UqcBcwxKGje"
      },
      "source": [
        ""
      ],
      "execution_count": null,
      "outputs": []
    },
    {
      "cell_type": "code",
      "metadata": {
        "id": "wOaRMjnuKGcP"
      },
      "source": [
        ""
      ],
      "execution_count": null,
      "outputs": []
    },
    {
      "cell_type": "code",
      "metadata": {
        "id": "1IBegoLIGoM5"
      },
      "source": [
        ""
      ],
      "execution_count": null,
      "outputs": []
    },
    {
      "cell_type": "code",
      "metadata": {
        "id": "djE1t-PcGoFS"
      },
      "source": [
        ""
      ],
      "execution_count": null,
      "outputs": []
    },
    {
      "cell_type": "code",
      "metadata": {
        "id": "VzoxjtO4sVgJ",
        "outputId": "4141187a-43bb-4230-dd9e-9b98a2887a6f",
        "colab": {
          "base_uri": "https://localhost:8080/",
          "height": 34
        }
      },
      "source": [
        "from tqdm import tqdm\n",
        "\n",
        "res_concat_first = []\n",
        "\n",
        "for file in tqdm(first_part):\n",
        "  x = pd.read_csv(file)\n",
        "  filter_frame = x[x['user_id'].isin(submit_user_id)]\n",
        "  res_concat_first.append(filter_frame)"
      ],
      "execution_count": null,
      "outputs": [
        {
          "output_type": "stream",
          "text": [
            "100%|██████████| 7/7 [00:11<00:00,  1.66s/it]\n"
          ],
          "name": "stderr"
        }
      ]
    },
    {
      "cell_type": "code",
      "metadata": {
        "id": "xIamNUABuEYB",
        "outputId": "562448c5-5b26-4512-efb5-eb0b4eb903ea",
        "colab": {
          "base_uri": "https://localhost:8080/",
          "height": 71
        }
      },
      "source": [
        "res_first = pd.concat(res_concat_first)\n",
        "\n",
        "xxx = res_first.groupby(['user_id'])['product_id'].value_counts()\n",
        "first = xxx.to_frame().rename(columns={'product_id': 'count_id'}).reset_index()\n",
        "\n",
        "largest_first = first.groupby(['user_id'])['product_id', 'count_id'].apply(pd.DataFrame.nlargest, n=50, columns=['count_id']).reset_index().drop(columns={'level_1'})\n",
        "first_dict = largest_first[['user_id', 'product_id']].groupby(['user_id'])['product_id'].apply(list).to_dict()"
      ],
      "execution_count": null,
      "outputs": [
        {
          "output_type": "stream",
          "text": [
            "/usr/local/lib/python3.6/dist-packages/ipykernel_launcher.py:6: FutureWarning: Indexing with multiple keys (implicitly converted to a tuple of keys) will be deprecated, use a list instead.\n",
            "  \n"
          ],
          "name": "stderr"
        }
      ]
    },
    {
      "cell_type": "code",
      "metadata": {
        "id": "Hacf0JF6uIWd",
        "outputId": "109f2bde-b3fc-4779-8105-03ac9fff2fae",
        "colab": {
          "base_uri": "https://localhost:8080/",
          "height": 34
        }
      },
      "source": [
        "len(first_dict.keys())"
      ],
      "execution_count": null,
      "outputs": [
        {
          "output_type": "execute_result",
          "data": {
            "text/plain": [
              "14369"
            ]
          },
          "metadata": {
            "tags": []
          },
          "execution_count": 52
        }
      ]
    },
    {
      "cell_type": "code",
      "metadata": {
        "id": "AOrMjQBhuv-M"
      },
      "source": [
        ""
      ],
      "execution_count": null,
      "outputs": []
    }
  ]
}