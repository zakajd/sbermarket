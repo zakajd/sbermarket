{
  "nbformat": 4,
  "nbformat_minor": 0,
  "metadata": {
    "colab": {
      "name": "CatBoost.ipynb",
      "provenance": [],
      "collapsed_sections": []
    },
    "kernelspec": {
      "name": "python3",
      "display_name": "Python 3"
    },
    "accelerator": "GPU"
  },
  "cells": [
    {
      "cell_type": "code",
      "metadata": {
        "id": "HPCkh7Lqtcpq",
        "outputId": "f3347641-ccba-4a0d-8d00-4e28890a1b45",
        "colab": {
          "base_uri": "https://localhost:8080/",
          "height": 34
        }
      },
      "source": [
        "from google.colab import drive\n",
        "\n",
        "drive.mount('/content/gdrive')"
      ],
      "execution_count": 1,
      "outputs": [
        {
          "output_type": "stream",
          "text": [
            "Drive already mounted at /content/gdrive; to attempt to forcibly remount, call drive.mount(\"/content/gdrive\", force_remount=True).\n"
          ],
          "name": "stdout"
        }
      ]
    },
    {
      "cell_type": "code",
      "metadata": {
        "id": "Qe8PzteJSX9W",
        "outputId": "12e202a0-b9a0-4e73-ddac-b1bf5ccec8b5",
        "colab": {
          "base_uri": "https://localhost:8080/",
          "height": 252
        }
      },
      "source": [
        "!pip install CatBoost"
      ],
      "execution_count": 2,
      "outputs": [
        {
          "output_type": "stream",
          "text": [
            "Requirement already satisfied: CatBoost in /usr/local/lib/python3.6/dist-packages (0.24.2)\n",
            "Requirement already satisfied: matplotlib in /usr/local/lib/python3.6/dist-packages (from CatBoost) (3.2.2)\n",
            "Requirement already satisfied: pandas>=0.24.0 in /usr/local/lib/python3.6/dist-packages (from CatBoost) (1.1.2)\n",
            "Requirement already satisfied: graphviz in /usr/local/lib/python3.6/dist-packages (from CatBoost) (0.10.1)\n",
            "Requirement already satisfied: plotly in /usr/local/lib/python3.6/dist-packages (from CatBoost) (4.4.1)\n",
            "Requirement already satisfied: six in /usr/local/lib/python3.6/dist-packages (from CatBoost) (1.15.0)\n",
            "Requirement already satisfied: scipy in /usr/local/lib/python3.6/dist-packages (from CatBoost) (1.4.1)\n",
            "Requirement already satisfied: numpy>=1.16.0 in /usr/local/lib/python3.6/dist-packages (from CatBoost) (1.18.5)\n",
            "Requirement already satisfied: pyparsing!=2.0.4,!=2.1.2,!=2.1.6,>=2.0.1 in /usr/local/lib/python3.6/dist-packages (from matplotlib->CatBoost) (2.4.7)\n",
            "Requirement already satisfied: python-dateutil>=2.1 in /usr/local/lib/python3.6/dist-packages (from matplotlib->CatBoost) (2.8.1)\n",
            "Requirement already satisfied: cycler>=0.10 in /usr/local/lib/python3.6/dist-packages (from matplotlib->CatBoost) (0.10.0)\n",
            "Requirement already satisfied: kiwisolver>=1.0.1 in /usr/local/lib/python3.6/dist-packages (from matplotlib->CatBoost) (1.2.0)\n",
            "Requirement already satisfied: pytz>=2017.2 in /usr/local/lib/python3.6/dist-packages (from pandas>=0.24.0->CatBoost) (2018.9)\n",
            "Requirement already satisfied: retrying>=1.3.3 in /usr/local/lib/python3.6/dist-packages (from plotly->CatBoost) (1.3.3)\n"
          ],
          "name": "stdout"
        }
      ]
    },
    {
      "cell_type": "code",
      "metadata": {
        "id": "iwLi91VUttu9",
        "outputId": "7f62b0b9-be1a-43ea-b590-8a56f39d6587",
        "colab": {
          "base_uri": "https://localhost:8080/",
          "height": 118
        }
      },
      "source": [
        "!ls 'gdrive/My Drive/Sbermarket hacklab'"
      ],
      "execution_count": 3,
      "outputs": [
        {
          "output_type": "stream",
          "text": [
            "'404 found - Sbermarket.gslides'   sample_submission.csv\n",
            "'404 old.gslides'\t\t   Sbermarket_ipynb_.ipynb\n",
            " kaggle_tab_1345\t\t  'Skoltech Hack (basket predict).gslides'\n",
            " merged_data.csv\t\t   tab_2\n",
            " Merge.ipynb\t\t\t   tab_6_city.csv\n",
            " my_file.ipynb\t\t\t   tab_6_city.xlsx\n"
          ],
          "name": "stdout"
        }
      ]
    },
    {
      "cell_type": "code",
      "metadata": {
        "id": "2Kurej6rttw8"
      },
      "source": [
        "import pandas as pd\n",
        "import matplotlib.pyplot as plt"
      ],
      "execution_count": 4,
      "outputs": []
    },
    {
      "cell_type": "code",
      "metadata": {
        "id": "0U3qSPGottzL",
        "outputId": "14998cea-6907-4288-a13e-acc95ef1cc16",
        "colab": {
          "base_uri": "https://localhost:8080/",
          "height": 266
        }
      },
      "source": [
        "merged = pd.read_csv('gdrive/My Drive/Sbermarket hacklab/merged_data.csv', index_col=None)\n",
        "merged.head()"
      ],
      "execution_count": 5,
      "outputs": [
        {
          "output_type": "stream",
          "text": [
            "/usr/local/lib/python3.6/dist-packages/IPython/core/interactiveshell.py:2718: DtypeWarning: Columns (11,16) have mixed types.Specify dtype option on import or set low_memory=False.\n",
            "  interactivity=interactivity, compiler=compiler, result=result)\n"
          ],
          "name": "stderr"
        },
        {
          "output_type": "execute_result",
          "data": {
            "text/html": [
              "<div>\n",
              "<style scoped>\n",
              "    .dataframe tbody tr th:only-of-type {\n",
              "        vertical-align: middle;\n",
              "    }\n",
              "\n",
              "    .dataframe tbody tr th {\n",
              "        vertical-align: top;\n",
              "    }\n",
              "\n",
              "    .dataframe thead th {\n",
              "        text-align: right;\n",
              "    }\n",
              "</style>\n",
              "<table border=\"1\" class=\"dataframe\">\n",
              "  <thead>\n",
              "    <tr style=\"text-align: right;\">\n",
              "      <th></th>\n",
              "      <th>Unnamed: 0</th>\n",
              "      <th>order_id</th>\n",
              "      <th>user_id</th>\n",
              "      <th>line_item_id</th>\n",
              "      <th>price</th>\n",
              "      <th>quantity</th>\n",
              "      <th>discount</th>\n",
              "      <th>product_id</th>\n",
              "      <th>brand_name</th>\n",
              "      <th>master_category_id</th>\n",
              "      <th>parent_category_id</th>\n",
              "      <th>order_created_time</th>\n",
              "      <th>retailer</th>\n",
              "      <th>platform</th>\n",
              "      <th>city_name</th>\n",
              "      <th>gender</th>\n",
              "      <th>bdate</th>\n",
              "      <th>age</th>\n",
              "    </tr>\n",
              "  </thead>\n",
              "  <tbody>\n",
              "    <tr>\n",
              "      <th>0</th>\n",
              "      <td>0</td>\n",
              "      <td>139128</td>\n",
              "      <td>1050</td>\n",
              "      <td>97633689</td>\n",
              "      <td>236.89</td>\n",
              "      <td>1</td>\n",
              "      <td>0.0</td>\n",
              "      <td>5045454</td>\n",
              "      <td>3573</td>\n",
              "      <td>122</td>\n",
              "      <td>119</td>\n",
              "      <td>-1</td>\n",
              "      <td>-1</td>\n",
              "      <td>-1</td>\n",
              "      <td>-1</td>\n",
              "      <td>-1</td>\n",
              "      <td>-1</td>\n",
              "      <td>-1</td>\n",
              "    </tr>\n",
              "    <tr>\n",
              "      <th>1</th>\n",
              "      <td>1</td>\n",
              "      <td>139128</td>\n",
              "      <td>1050</td>\n",
              "      <td>97633791</td>\n",
              "      <td>178.16</td>\n",
              "      <td>1</td>\n",
              "      <td>0.0</td>\n",
              "      <td>73719</td>\n",
              "      <td>5154</td>\n",
              "      <td>122</td>\n",
              "      <td>119</td>\n",
              "      <td>-1</td>\n",
              "      <td>-1</td>\n",
              "      <td>-1</td>\n",
              "      <td>-1</td>\n",
              "      <td>-1</td>\n",
              "      <td>-1</td>\n",
              "      <td>-1</td>\n",
              "    </tr>\n",
              "    <tr>\n",
              "      <th>2</th>\n",
              "      <td>2</td>\n",
              "      <td>139128</td>\n",
              "      <td>1050</td>\n",
              "      <td>97635201</td>\n",
              "      <td>173.28</td>\n",
              "      <td>1</td>\n",
              "      <td>0.0</td>\n",
              "      <td>7000939</td>\n",
              "      <td>2846</td>\n",
              "      <td>85</td>\n",
              "      <td>84</td>\n",
              "      <td>-1</td>\n",
              "      <td>-1</td>\n",
              "      <td>-1</td>\n",
              "      <td>-1</td>\n",
              "      <td>-1</td>\n",
              "      <td>-1</td>\n",
              "      <td>-1</td>\n",
              "    </tr>\n",
              "    <tr>\n",
              "      <th>3</th>\n",
              "      <td>3</td>\n",
              "      <td>139128</td>\n",
              "      <td>1050</td>\n",
              "      <td>97635312</td>\n",
              "      <td>73.69</td>\n",
              "      <td>1</td>\n",
              "      <td>0.0</td>\n",
              "      <td>7386015</td>\n",
              "      <td>3342</td>\n",
              "      <td>85</td>\n",
              "      <td>84</td>\n",
              "      <td>-1</td>\n",
              "      <td>-1</td>\n",
              "      <td>-1</td>\n",
              "      <td>-1</td>\n",
              "      <td>-1</td>\n",
              "      <td>-1</td>\n",
              "      <td>-1</td>\n",
              "    </tr>\n",
              "    <tr>\n",
              "      <th>4</th>\n",
              "      <td>4</td>\n",
              "      <td>139128</td>\n",
              "      <td>1050</td>\n",
              "      <td>97635414</td>\n",
              "      <td>282.14</td>\n",
              "      <td>1</td>\n",
              "      <td>0.0</td>\n",
              "      <td>73291</td>\n",
              "      <td>2846</td>\n",
              "      <td>85</td>\n",
              "      <td>84</td>\n",
              "      <td>-1</td>\n",
              "      <td>-1</td>\n",
              "      <td>-1</td>\n",
              "      <td>-1</td>\n",
              "      <td>-1</td>\n",
              "      <td>-1</td>\n",
              "      <td>-1</td>\n",
              "    </tr>\n",
              "  </tbody>\n",
              "</table>\n",
              "</div>"
            ],
            "text/plain": [
              "   Unnamed: 0  order_id  user_id  line_item_id  ...  city_name  gender  bdate  age\n",
              "0           0    139128     1050      97633689  ...         -1      -1     -1   -1\n",
              "1           1    139128     1050      97633791  ...         -1      -1     -1   -1\n",
              "2           2    139128     1050      97635201  ...         -1      -1     -1   -1\n",
              "3           3    139128     1050      97635312  ...         -1      -1     -1   -1\n",
              "4           4    139128     1050      97635414  ...         -1      -1     -1   -1\n",
              "\n",
              "[5 rows x 18 columns]"
            ]
          },
          "metadata": {
            "tags": []
          },
          "execution_count": 5
        }
      ]
    },
    {
      "cell_type": "code",
      "metadata": {
        "id": "tqOI7DhFtt4F",
        "outputId": "6f317a50-81ee-4fcb-af22-13c13e76566d",
        "colab": {
          "base_uri": "https://localhost:8080/",
          "height": 34
        }
      },
      "source": [
        "merged['user_id'].nunique()"
      ],
      "execution_count": 6,
      "outputs": [
        {
          "output_type": "execute_result",
          "data": {
            "text/plain": [
              "107068"
            ]
          },
          "metadata": {
            "tags": []
          },
          "execution_count": 6
        }
      ]
    },
    {
      "cell_type": "code",
      "metadata": {
        "id": "3GNhp8-au7PV",
        "outputId": "e65990f9-caaf-4006-ac21-9214c2db12c5",
        "colab": {
          "base_uri": "https://localhost:8080/",
          "height": 34
        }
      },
      "source": [
        "merged['product_id'].nunique()"
      ],
      "execution_count": 7,
      "outputs": [
        {
          "output_type": "execute_result",
          "data": {
            "text/plain": [
              "91994"
            ]
          },
          "metadata": {
            "tags": []
          },
          "execution_count": 7
        }
      ]
    },
    {
      "cell_type": "code",
      "metadata": {
        "id": "yopy5yUfy29X",
        "outputId": "f272fbb0-e924-4cb2-9381-b0ec2078ca85",
        "colab": {
          "base_uri": "https://localhost:8080/",
          "height": 34
        }
      },
      "source": [
        "merged = merged[merged['product_id'] != 0]\n",
        "len(merged)"
      ],
      "execution_count": 8,
      "outputs": [
        {
          "output_type": "execute_result",
          "data": {
            "text/plain": [
              "21466723"
            ]
          },
          "metadata": {
            "tags": []
          },
          "execution_count": 8
        }
      ]
    },
    {
      "cell_type": "code",
      "metadata": {
        "id": "LyNh37LBu7Rs",
        "outputId": "f99eeec0-b97e-4d73-fdd6-eb4830f2ec9f",
        "colab": {
          "base_uri": "https://localhost:8080/",
          "height": 445
        }
      },
      "source": [
        "plt.figure(figsize=(10, 7))\n",
        "merged['product_id'].value_counts().hist(bins=100)"
      ],
      "execution_count": 9,
      "outputs": [
        {
          "output_type": "execute_result",
          "data": {
            "text/plain": [
              "<matplotlib.axes._subplots.AxesSubplot at 0x7f43f5cf9cc0>"
            ]
          },
          "metadata": {
            "tags": []
          },
          "execution_count": 9
        },
        {
          "output_type": "display_data",
          "data": {
            "image/png": "[encoded data removed]",
            "text/plain": [
              "<Figure size 720x504 with 1 Axes>"
            ]
          },
          "metadata": {
            "tags": [],
            "needs_background": "light"
          }
        }
      ]
    },
    {
      "cell_type": "code",
      "metadata": {
        "id": "FIhvfwPxzGJI",
        "outputId": "c03b09ac-b0a5-4c02-bfdc-37b0eccfcfde",
        "colab": {
          "base_uri": "https://localhost:8080/",
          "height": 34
        }
      },
      "source": [
        "merged['user_id'].nunique()"
      ],
      "execution_count": 10,
      "outputs": [
        {
          "output_type": "execute_result",
          "data": {
            "text/plain": [
              "107066"
            ]
          },
          "metadata": {
            "tags": []
          },
          "execution_count": 10
        }
      ]
    },
    {
      "cell_type": "code",
      "metadata": {
        "id": "lJliLpEott6U",
        "outputId": "e411650c-efc0-4eac-9e1a-449d6209b880",
        "colab": {
          "base_uri": "https://localhost:8080/",
          "height": 34
        }
      },
      "source": [
        "merged['product_id'].value_counts().mean()"
      ],
      "execution_count": 11,
      "outputs": [
        {
          "output_type": "execute_result",
          "data": {
            "text/plain": [
              "233.35170067287729"
            ]
          },
          "metadata": {
            "tags": []
          },
          "execution_count": 11
        }
      ]
    },
    {
      "cell_type": "code",
      "metadata": {
        "id": "ZV1mIqcNtt80",
        "outputId": "dd655000-e0a1-4751-b9d6-88a6684f111c",
        "colab": {
          "base_uri": "https://localhost:8080/",
          "height": 34
        }
      },
      "source": [
        "merged['product_id'].median()"
      ],
      "execution_count": 12,
      "outputs": [
        {
          "output_type": "execute_result",
          "data": {
            "text/plain": [
              "72012.0"
            ]
          },
          "metadata": {
            "tags": []
          },
          "execution_count": 12
        }
      ]
    },
    {
      "cell_type": "code",
      "metadata": {
        "id": "lcqqgI8Rtn8O",
        "outputId": "55b8ec10-4587-4302-812c-10d734972e59",
        "colab": {
          "base_uri": "https://localhost:8080/",
          "height": 402
        }
      },
      "source": [
        "groupby_0 = pd.DataFrame({'count' : merged.groupby(['product_id']).size()}).reset_index()\n",
        "groupby_0 = groupby_0.sort_values(['count'], ascending=False)\n",
        "groupby_0"
      ],
      "execution_count": 13,
      "outputs": [
        {
          "output_type": "execute_result",
          "data": {
            "text/html": [
              "<div>\n",
              "<style scoped>\n",
              "    .dataframe tbody tr th:only-of-type {\n",
              "        vertical-align: middle;\n",
              "    }\n",
              "\n",
              "    .dataframe tbody tr th {\n",
              "        vertical-align: top;\n",
              "    }\n",
              "\n",
              "    .dataframe thead th {\n",
              "        text-align: right;\n",
              "    }\n",
              "</style>\n",
              "<table border=\"1\" class=\"dataframe\">\n",
              "  <thead>\n",
              "    <tr style=\"text-align: right;\">\n",
              "      <th></th>\n",
              "      <th>product_id</th>\n",
              "      <th>count</th>\n",
              "    </tr>\n",
              "  </thead>\n",
              "  <tbody>\n",
              "    <tr>\n",
              "      <th>193</th>\n",
              "      <td>709</td>\n",
              "      <td>139570</td>\n",
              "    </tr>\n",
              "    <tr>\n",
              "      <th>9290</th>\n",
              "      <td>39590</td>\n",
              "      <td>44804</td>\n",
              "    </tr>\n",
              "    <tr>\n",
              "      <th>71</th>\n",
              "      <td>166</td>\n",
              "      <td>36970</td>\n",
              "    </tr>\n",
              "    <tr>\n",
              "      <th>10588</th>\n",
              "      <td>55133</td>\n",
              "      <td>34424</td>\n",
              "    </tr>\n",
              "    <tr>\n",
              "      <th>361</th>\n",
              "      <td>1300</td>\n",
              "      <td>32142</td>\n",
              "    </tr>\n",
              "    <tr>\n",
              "      <th>...</th>\n",
              "      <td>...</td>\n",
              "      <td>...</td>\n",
              "    </tr>\n",
              "    <tr>\n",
              "      <th>76028</th>\n",
              "      <td>7054745</td>\n",
              "      <td>1</td>\n",
              "    </tr>\n",
              "    <tr>\n",
              "      <th>76025</th>\n",
              "      <td>7054739</td>\n",
              "      <td>1</td>\n",
              "    </tr>\n",
              "    <tr>\n",
              "      <th>35947</th>\n",
              "      <td>3860282</td>\n",
              "      <td>1</td>\n",
              "    </tr>\n",
              "    <tr>\n",
              "      <th>35948</th>\n",
              "      <td>3860283</td>\n",
              "      <td>1</td>\n",
              "    </tr>\n",
              "    <tr>\n",
              "      <th>37593</th>\n",
              "      <td>4274634</td>\n",
              "      <td>1</td>\n",
              "    </tr>\n",
              "  </tbody>\n",
              "</table>\n",
              "<p>91993 rows × 2 columns</p>\n",
              "</div>"
            ],
            "text/plain": [
              "       product_id   count\n",
              "193           709  139570\n",
              "9290        39590   44804\n",
              "71            166   36970\n",
              "10588       55133   34424\n",
              "361          1300   32142\n",
              "...           ...     ...\n",
              "76028     7054745       1\n",
              "76025     7054739       1\n",
              "35947     3860282       1\n",
              "35948     3860283       1\n",
              "37593     4274634       1\n",
              "\n",
              "[91993 rows x 2 columns]"
            ]
          },
          "metadata": {
            "tags": []
          },
          "execution_count": 13
        }
      ]
    },
    {
      "cell_type": "code",
      "metadata": {
        "id": "4l8HWLaMzo_W",
        "outputId": "fc41cdb7-f70e-47da-d3bd-7d9909307d44",
        "colab": {
          "base_uri": "https://localhost:8080/",
          "height": 34
        }
      },
      "source": [
        "groupby_0['count'].sum()"
      ],
      "execution_count": 14,
      "outputs": [
        {
          "output_type": "execute_result",
          "data": {
            "text/plain": [
              "21466723"
            ]
          },
          "metadata": {
            "tags": []
          },
          "execution_count": 14
        }
      ]
    },
    {
      "cell_type": "code",
      "metadata": {
        "id": "JnHcF1mwxfBf",
        "outputId": "59e752e9-29bb-48b4-a2f6-a0fb63f33e61",
        "colab": {
          "base_uri": "https://localhost:8080/",
          "height": 34
        }
      },
      "source": [
        "# доля покрытия\n",
        "groupby_0[:1000]['count'].sum() / groupby_0['count'].sum()"
      ],
      "execution_count": 15,
      "outputs": [
        {
          "output_type": "execute_result",
          "data": {
            "text/plain": [
              "0.28358841729126516"
            ]
          },
          "metadata": {
            "tags": []
          },
          "execution_count": 15
        }
      ]
    },
    {
      "cell_type": "code",
      "metadata": {
        "id": "nKgJTpezxfDX",
        "outputId": "afd27604-cf71-4a4f-a031-9c247aedd061",
        "colab": {
          "base_uri": "https://localhost:8080/",
          "height": 34
        }
      },
      "source": [
        "# доля покрытия\n",
        "groupby_0[:3000]['count'].sum() / groupby_0['count'].sum()"
      ],
      "execution_count": 16,
      "outputs": [
        {
          "output_type": "execute_result",
          "data": {
            "text/plain": [
              "0.4745225901503457"
            ]
          },
          "metadata": {
            "tags": []
          },
          "execution_count": 16
        }
      ]
    },
    {
      "cell_type": "code",
      "metadata": {
        "id": "9EQfHjZjxfF4",
        "outputId": "fc2056cd-661c-4f7d-e4bd-f66bed7408f2",
        "colab": {
          "base_uri": "https://localhost:8080/",
          "height": 34
        }
      },
      "source": [
        "# доля покрытия\n",
        "groupby_0[:35000]['count'].sum() / groupby_0['count'].sum()"
      ],
      "execution_count": 17,
      "outputs": [
        {
          "output_type": "execute_result",
          "data": {
            "text/plain": [
              "0.9561352238066332"
            ]
          },
          "metadata": {
            "tags": []
          },
          "execution_count": 17
        }
      ]
    },
    {
      "cell_type": "code",
      "metadata": {
        "id": "8IVow3Lp0guY"
      },
      "source": [
        "# фильтруем\n",
        "top_products = groupby_0[:3000]['product_id'].tolist()"
      ],
      "execution_count": 18,
      "outputs": []
    },
    {
      "cell_type": "code",
      "metadata": {
        "id": "IAJJmGW903pm",
        "outputId": "f224a537-f47b-4dee-b2e7-5739519b80ea",
        "colab": {
          "base_uri": "https://localhost:8080/",
          "height": 34
        }
      },
      "source": [
        "merged = merged[merged['product_id'].isin(top_products)]\n",
        "len(merged)"
      ],
      "execution_count": 19,
      "outputs": [
        {
          "output_type": "execute_result",
          "data": {
            "text/plain": [
              "10186445"
            ]
          },
          "metadata": {
            "tags": []
          },
          "execution_count": 19
        }
      ]
    },
    {
      "cell_type": "code",
      "metadata": {
        "id": "ZKFEQl4XxfKZ",
        "outputId": "18c1b4bf-f4cf-473f-8930-84f7da756558",
        "colab": {
          "base_uri": "https://localhost:8080/",
          "height": 34
        }
      },
      "source": [
        "merged['user_id'].nunique()"
      ],
      "execution_count": 20,
      "outputs": [
        {
          "output_type": "execute_result",
          "data": {
            "text/plain": [
              "105801"
            ]
          },
          "metadata": {
            "tags": []
          },
          "execution_count": 20
        }
      ]
    },
    {
      "cell_type": "code",
      "metadata": {
        "id": "cgNyh6XLxfOv",
        "outputId": "cf93096e-64d9-4804-d66b-f919c5cfff83",
        "colab": {
          "base_uri": "https://localhost:8080/",
          "height": 402
        }
      },
      "source": [
        "users_n_orders = merged.groupby(['user_id'])['order_id'].nunique().to_frame('count').reset_index()\n",
        "users_n_orders"
      ],
      "execution_count": 21,
      "outputs": [
        {
          "output_type": "execute_result",
          "data": {
            "text/html": [
              "<div>\n",
              "<style scoped>\n",
              "    .dataframe tbody tr th:only-of-type {\n",
              "        vertical-align: middle;\n",
              "    }\n",
              "\n",
              "    .dataframe tbody tr th {\n",
              "        vertical-align: top;\n",
              "    }\n",
              "\n",
              "    .dataframe thead th {\n",
              "        text-align: right;\n",
              "    }\n",
              "</style>\n",
              "<table border=\"1\" class=\"dataframe\">\n",
              "  <thead>\n",
              "    <tr style=\"text-align: right;\">\n",
              "      <th></th>\n",
              "      <th>user_id</th>\n",
              "      <th>count</th>\n",
              "    </tr>\n",
              "  </thead>\n",
              "  <tbody>\n",
              "    <tr>\n",
              "      <th>0</th>\n",
              "      <td>51</td>\n",
              "      <td>17</td>\n",
              "    </tr>\n",
              "    <tr>\n",
              "      <th>1</th>\n",
              "      <td>65</td>\n",
              "      <td>23</td>\n",
              "    </tr>\n",
              "    <tr>\n",
              "      <th>2</th>\n",
              "      <td>400</td>\n",
              "      <td>5</td>\n",
              "    </tr>\n",
              "    <tr>\n",
              "      <th>3</th>\n",
              "      <td>576</td>\n",
              "      <td>8</td>\n",
              "    </tr>\n",
              "    <tr>\n",
              "      <th>4</th>\n",
              "      <td>608</td>\n",
              "      <td>4</td>\n",
              "    </tr>\n",
              "    <tr>\n",
              "      <th>...</th>\n",
              "      <td>...</td>\n",
              "      <td>...</td>\n",
              "    </tr>\n",
              "    <tr>\n",
              "      <th>105796</th>\n",
              "      <td>3142760</td>\n",
              "      <td>1</td>\n",
              "    </tr>\n",
              "    <tr>\n",
              "      <th>105797</th>\n",
              "      <td>3142766</td>\n",
              "      <td>1</td>\n",
              "    </tr>\n",
              "    <tr>\n",
              "      <th>105798</th>\n",
              "      <td>3142774</td>\n",
              "      <td>1</td>\n",
              "    </tr>\n",
              "    <tr>\n",
              "      <th>105799</th>\n",
              "      <td>3142820</td>\n",
              "      <td>1</td>\n",
              "    </tr>\n",
              "    <tr>\n",
              "      <th>105800</th>\n",
              "      <td>3142875</td>\n",
              "      <td>1</td>\n",
              "    </tr>\n",
              "  </tbody>\n",
              "</table>\n",
              "<p>105801 rows × 2 columns</p>\n",
              "</div>"
            ],
            "text/plain": [
              "        user_id  count\n",
              "0            51     17\n",
              "1            65     23\n",
              "2           400      5\n",
              "3           576      8\n",
              "4           608      4\n",
              "...         ...    ...\n",
              "105796  3142760      1\n",
              "105797  3142766      1\n",
              "105798  3142774      1\n",
              "105799  3142820      1\n",
              "105800  3142875      1\n",
              "\n",
              "[105801 rows x 2 columns]"
            ]
          },
          "metadata": {
            "tags": []
          },
          "execution_count": 21
        }
      ]
    },
    {
      "cell_type": "code",
      "metadata": {
        "id": "A9TVHTV-4KQA",
        "outputId": "50200597-95a7-49fd-cc08-71fd4cad8cfc",
        "colab": {
          "base_uri": "https://localhost:8080/",
          "height": 34
        }
      },
      "source": [
        "valid_users = users_n_orders[users_n_orders['count'] >= 2]\n",
        "valid_users_ids = valid_users['user_id'].tolist()\n",
        "len(valid_users_ids)"
      ],
      "execution_count": 22,
      "outputs": [
        {
          "output_type": "execute_result",
          "data": {
            "text/plain": [
              "85793"
            ]
          },
          "metadata": {
            "tags": []
          },
          "execution_count": 22
        }
      ]
    },
    {
      "cell_type": "code",
      "metadata": {
        "id": "RVs5e6DD4KUC",
        "outputId": "a8eccb50-d8bb-4866-f3e1-381207b5ed79",
        "colab": {
          "base_uri": "https://localhost:8080/",
          "height": 34
        }
      },
      "source": [
        "merged = merged[merged['user_id'].isin(valid_users_ids)]\n",
        "len(merged)"
      ],
      "execution_count": 23,
      "outputs": [
        {
          "output_type": "execute_result",
          "data": {
            "text/plain": [
              "9968211"
            ]
          },
          "metadata": {
            "tags": []
          },
          "execution_count": 23
        }
      ]
    },
    {
      "cell_type": "code",
      "metadata": {
        "id": "3yoN6gUA7qao",
        "outputId": "46ecb449-d371-4124-f440-df409133b262",
        "colab": {
          "base_uri": "https://localhost:8080/",
          "height": 336
        }
      },
      "source": [
        "merged.dtypes"
      ],
      "execution_count": 24,
      "outputs": [
        {
          "output_type": "execute_result",
          "data": {
            "text/plain": [
              "Unnamed: 0              int64\n",
              "order_id                int64\n",
              "user_id                 int64\n",
              "line_item_id            int64\n",
              "price                 float64\n",
              "quantity                int64\n",
              "discount              float64\n",
              "product_id              int64\n",
              "brand_name              int64\n",
              "master_category_id      int64\n",
              "parent_category_id      int64\n",
              "order_created_time     object\n",
              "retailer                int64\n",
              "platform                int64\n",
              "city_name               int64\n",
              "gender                  int64\n",
              "bdate                  object\n",
              "age                     int64\n",
              "dtype: object"
            ]
          },
          "metadata": {
            "tags": []
          },
          "execution_count": 24
        }
      ]
    },
    {
      "cell_type": "code",
      "metadata": {
        "id": "NfvjUpwU9A_x"
      },
      "source": [
        "merged_ = merged[merged['order_created_time'].values != -1]\n",
        "merged_ = merged_[merged_['order_created_time'].values != '-1']"
      ],
      "execution_count": 25,
      "outputs": []
    },
    {
      "cell_type": "code",
      "metadata": {
        "id": "I8f5Nsi5_Rp_",
        "outputId": "d9928688-c745-4aa5-fe39-16f67960c799",
        "colab": {
          "base_uri": "https://localhost:8080/",
          "height": 274
        }
      },
      "source": [
        "merged_.head(3)"
      ],
      "execution_count": 26,
      "outputs": [
        {
          "output_type": "execute_result",
          "data": {
            "text/html": [
              "<div>\n",
              "<style scoped>\n",
              "    .dataframe tbody tr th:only-of-type {\n",
              "        vertical-align: middle;\n",
              "    }\n",
              "\n",
              "    .dataframe tbody tr th {\n",
              "        vertical-align: top;\n",
              "    }\n",
              "\n",
              "    .dataframe thead th {\n",
              "        text-align: right;\n",
              "    }\n",
              "</style>\n",
              "<table border=\"1\" class=\"dataframe\">\n",
              "  <thead>\n",
              "    <tr style=\"text-align: right;\">\n",
              "      <th></th>\n",
              "      <th>Unnamed: 0</th>\n",
              "      <th>order_id</th>\n",
              "      <th>user_id</th>\n",
              "      <th>line_item_id</th>\n",
              "      <th>price</th>\n",
              "      <th>quantity</th>\n",
              "      <th>discount</th>\n",
              "      <th>product_id</th>\n",
              "      <th>brand_name</th>\n",
              "      <th>master_category_id</th>\n",
              "      <th>parent_category_id</th>\n",
              "      <th>order_created_time</th>\n",
              "      <th>retailer</th>\n",
              "      <th>platform</th>\n",
              "      <th>city_name</th>\n",
              "      <th>gender</th>\n",
              "      <th>bdate</th>\n",
              "      <th>age</th>\n",
              "    </tr>\n",
              "  </thead>\n",
              "  <tbody>\n",
              "    <tr>\n",
              "      <th>282503</th>\n",
              "      <td>282503</td>\n",
              "      <td>5531326</td>\n",
              "      <td>691783</td>\n",
              "      <td>28336408</td>\n",
              "      <td>40.00</td>\n",
              "      <td>1</td>\n",
              "      <td>6.99</td>\n",
              "      <td>67693</td>\n",
              "      <td>700</td>\n",
              "      <td>577</td>\n",
              "      <td>9</td>\n",
              "      <td>2019-12-31 21:29:17</td>\n",
              "      <td>4</td>\n",
              "      <td>0</td>\n",
              "      <td>71</td>\n",
              "      <td>1</td>\n",
              "      <td>1998-06-20 00:00:00</td>\n",
              "      <td>22</td>\n",
              "    </tr>\n",
              "    <tr>\n",
              "      <th>282504</th>\n",
              "      <td>282504</td>\n",
              "      <td>5531326</td>\n",
              "      <td>691783</td>\n",
              "      <td>28336410</td>\n",
              "      <td>139.00</td>\n",
              "      <td>1</td>\n",
              "      <td>106.00</td>\n",
              "      <td>1536</td>\n",
              "      <td>815</td>\n",
              "      <td>582</td>\n",
              "      <td>9</td>\n",
              "      <td>2019-12-31 21:29:17</td>\n",
              "      <td>4</td>\n",
              "      <td>0</td>\n",
              "      <td>71</td>\n",
              "      <td>1</td>\n",
              "      <td>1998-06-20 00:00:00</td>\n",
              "      <td>22</td>\n",
              "    </tr>\n",
              "    <tr>\n",
              "      <th>282506</th>\n",
              "      <td>282506</td>\n",
              "      <td>5531326</td>\n",
              "      <td>691783</td>\n",
              "      <td>28336412</td>\n",
              "      <td>57.41</td>\n",
              "      <td>1</td>\n",
              "      <td>19.79</td>\n",
              "      <td>3817542</td>\n",
              "      <td>1355</td>\n",
              "      <td>91</td>\n",
              "      <td>90</td>\n",
              "      <td>2019-12-31 21:29:17</td>\n",
              "      <td>4</td>\n",
              "      <td>0</td>\n",
              "      <td>71</td>\n",
              "      <td>1</td>\n",
              "      <td>1998-06-20 00:00:00</td>\n",
              "      <td>22</td>\n",
              "    </tr>\n",
              "  </tbody>\n",
              "</table>\n",
              "</div>"
            ],
            "text/plain": [
              "        Unnamed: 0  order_id  user_id  ...  gender                bdate  age\n",
              "282503      282503   5531326   691783  ...       1  1998-06-20 00:00:00   22\n",
              "282504      282504   5531326   691783  ...       1  1998-06-20 00:00:00   22\n",
              "282506      282506   5531326   691783  ...       1  1998-06-20 00:00:00   22\n",
              "\n",
              "[3 rows x 18 columns]"
            ]
          },
          "metadata": {
            "tags": []
          },
          "execution_count": 26
        }
      ]
    },
    {
      "cell_type": "code",
      "metadata": {
        "id": "dTPnnCOj9si3",
        "outputId": "59bc4517-858c-41b6-c0db-7e65110bb99c",
        "colab": {
          "base_uri": "https://localhost:8080/",
          "height": 34
        }
      },
      "source": [
        "merged_ = merged_.drop(columns=['Unnamed: 0']) \n",
        "merged_['user_id'].nunique()"
      ],
      "execution_count": 27,
      "outputs": [
        {
          "output_type": "execute_result",
          "data": {
            "text/plain": [
              "83358"
            ]
          },
          "metadata": {
            "tags": []
          },
          "execution_count": 27
        }
      ]
    },
    {
      "cell_type": "code",
      "metadata": {
        "id": "4nTctBE77isJ"
      },
      "source": [
        "# Change data types to reduce memory footprint\n",
        "merged_ = merged_.astype({\n",
        "    'user_id': 'int32',\n",
        "    'order_id': 'int32',\n",
        "    'price': 'float32',\n",
        "    'quantity': 'int32',\n",
        "    'discount': 'float32',\n",
        "    'product_id': 'int32',\n",
        "    'brand_name': 'int32',\n",
        "    'master_category_id': 'int32',\n",
        "    'parent_category_id': 'int32',\n",
        "    'order_created_time': str,\n",
        "    'retailer': 'int32',\n",
        "    'platform': 'int32',\n",
        "    'city_name': 'int32',\n",
        "    'gender': 'int32',\n",
        "    'age': 'int32'}, copy=False)"
      ],
      "execution_count": 28,
      "outputs": []
    },
    {
      "cell_type": "code",
      "metadata": {
        "id": "ptN0EmaQCQrZ"
      },
      "source": [
        "# merged_['order_created_time_'] = merged_['order_created_time'].merged_.strftime('%y-%m-%d')\n",
        "# merged_.head(3)\n",
        "# .dt.strftime('%Y-%m-%d')\n",
        "# .apply(lambda x: x[:10])\n",
        "merged_['order_created_time'] = pd.to_datetime(merged_['order_created_time'], format='%Y-%m-%d %H:%M:%S', exact=True)"
      ],
      "execution_count": 29,
      "outputs": []
    },
    {
      "cell_type": "code",
      "metadata": {
        "id": "XuvbzJC48Tl4",
        "outputId": "f998b4d2-be6f-41a9-a1cc-6d8e4361d895",
        "colab": {
          "base_uri": "https://localhost:8080/",
          "height": 319
        }
      },
      "source": [
        "merged_.dtypes"
      ],
      "execution_count": 30,
      "outputs": [
        {
          "output_type": "execute_result",
          "data": {
            "text/plain": [
              "order_id                       int32\n",
              "user_id                        int32\n",
              "line_item_id                   int64\n",
              "price                        float32\n",
              "quantity                       int32\n",
              "discount                     float32\n",
              "product_id                     int32\n",
              "brand_name                     int32\n",
              "master_category_id             int32\n",
              "parent_category_id             int32\n",
              "order_created_time    datetime64[ns]\n",
              "retailer                       int32\n",
              "platform                       int32\n",
              "city_name                      int32\n",
              "gender                         int32\n",
              "bdate                         object\n",
              "age                            int32\n",
              "dtype: object"
            ]
          },
          "metadata": {
            "tags": []
          },
          "execution_count": 30
        }
      ]
    },
    {
      "cell_type": "code",
      "metadata": {
        "id": "jqpGh4JKFVwz",
        "outputId": "489fca4e-8be3-4533-b953-d7722919f22a",
        "colab": {
          "base_uri": "https://localhost:8080/",
          "height": 257
        }
      },
      "source": [
        "merged_.head(3)"
      ],
      "execution_count": 31,
      "outputs": [
        {
          "output_type": "execute_result",
          "data": {
            "text/html": [
              "<div>\n",
              "<style scoped>\n",
              "    .dataframe tbody tr th:only-of-type {\n",
              "        vertical-align: middle;\n",
              "    }\n",
              "\n",
              "    .dataframe tbody tr th {\n",
              "        vertical-align: top;\n",
              "    }\n",
              "\n",
              "    .dataframe thead th {\n",
              "        text-align: right;\n",
              "    }\n",
              "</style>\n",
              "<table border=\"1\" class=\"dataframe\">\n",
              "  <thead>\n",
              "    <tr style=\"text-align: right;\">\n",
              "      <th></th>\n",
              "      <th>order_id</th>\n",
              "      <th>user_id</th>\n",
              "      <th>line_item_id</th>\n",
              "      <th>price</th>\n",
              "      <th>quantity</th>\n",
              "      <th>discount</th>\n",
              "      <th>product_id</th>\n",
              "      <th>brand_name</th>\n",
              "      <th>master_category_id</th>\n",
              "      <th>parent_category_id</th>\n",
              "      <th>order_created_time</th>\n",
              "      <th>retailer</th>\n",
              "      <th>platform</th>\n",
              "      <th>city_name</th>\n",
              "      <th>gender</th>\n",
              "      <th>bdate</th>\n",
              "      <th>age</th>\n",
              "    </tr>\n",
              "  </thead>\n",
              "  <tbody>\n",
              "    <tr>\n",
              "      <th>282503</th>\n",
              "      <td>5531326</td>\n",
              "      <td>691783</td>\n",
              "      <td>28336408</td>\n",
              "      <td>40.00</td>\n",
              "      <td>1</td>\n",
              "      <td>6.990000</td>\n",
              "      <td>67693</td>\n",
              "      <td>700</td>\n",
              "      <td>577</td>\n",
              "      <td>9</td>\n",
              "      <td>2019-12-31 21:29:17</td>\n",
              "      <td>4</td>\n",
              "      <td>0</td>\n",
              "      <td>71</td>\n",
              "      <td>1</td>\n",
              "      <td>1998-06-20 00:00:00</td>\n",
              "      <td>22</td>\n",
              "    </tr>\n",
              "    <tr>\n",
              "      <th>282504</th>\n",
              "      <td>5531326</td>\n",
              "      <td>691783</td>\n",
              "      <td>28336410</td>\n",
              "      <td>139.00</td>\n",
              "      <td>1</td>\n",
              "      <td>106.000000</td>\n",
              "      <td>1536</td>\n",
              "      <td>815</td>\n",
              "      <td>582</td>\n",
              "      <td>9</td>\n",
              "      <td>2019-12-31 21:29:17</td>\n",
              "      <td>4</td>\n",
              "      <td>0</td>\n",
              "      <td>71</td>\n",
              "      <td>1</td>\n",
              "      <td>1998-06-20 00:00:00</td>\n",
              "      <td>22</td>\n",
              "    </tr>\n",
              "    <tr>\n",
              "      <th>282506</th>\n",
              "      <td>5531326</td>\n",
              "      <td>691783</td>\n",
              "      <td>28336412</td>\n",
              "      <td>57.41</td>\n",
              "      <td>1</td>\n",
              "      <td>19.790001</td>\n",
              "      <td>3817542</td>\n",
              "      <td>1355</td>\n",
              "      <td>91</td>\n",
              "      <td>90</td>\n",
              "      <td>2019-12-31 21:29:17</td>\n",
              "      <td>4</td>\n",
              "      <td>0</td>\n",
              "      <td>71</td>\n",
              "      <td>1</td>\n",
              "      <td>1998-06-20 00:00:00</td>\n",
              "      <td>22</td>\n",
              "    </tr>\n",
              "  </tbody>\n",
              "</table>\n",
              "</div>"
            ],
            "text/plain": [
              "        order_id  user_id  line_item_id  ...  gender                bdate  age\n",
              "282503   5531326   691783      28336408  ...       1  1998-06-20 00:00:00   22\n",
              "282504   5531326   691783      28336410  ...       1  1998-06-20 00:00:00   22\n",
              "282506   5531326   691783      28336412  ...       1  1998-06-20 00:00:00   22\n",
              "\n",
              "[3 rows x 17 columns]"
            ]
          },
          "metadata": {
            "tags": []
          },
          "execution_count": 31
        }
      ]
    },
    {
      "cell_type": "code",
      "metadata": {
        "id": "_tOs2zqN6VEX",
        "outputId": "c9651078-31d1-4c88-f9e4-8a462fa3b298",
        "colab": {
          "base_uri": "https://localhost:8080/",
          "height": 402
        }
      },
      "source": [
        "last_order = merged_.groupby(['user_id'])['order_created_time'].min().to_frame('order_created_time').reset_index()\n",
        "last_order"
      ],
      "execution_count": 32,
      "outputs": [
        {
          "output_type": "execute_result",
          "data": {
            "text/html": [
              "<div>\n",
              "<style scoped>\n",
              "    .dataframe tbody tr th:only-of-type {\n",
              "        vertical-align: middle;\n",
              "    }\n",
              "\n",
              "    .dataframe tbody tr th {\n",
              "        vertical-align: top;\n",
              "    }\n",
              "\n",
              "    .dataframe thead th {\n",
              "        text-align: right;\n",
              "    }\n",
              "</style>\n",
              "<table border=\"1\" class=\"dataframe\">\n",
              "  <thead>\n",
              "    <tr style=\"text-align: right;\">\n",
              "      <th></th>\n",
              "      <th>user_id</th>\n",
              "      <th>order_created_time</th>\n",
              "    </tr>\n",
              "  </thead>\n",
              "  <tbody>\n",
              "    <tr>\n",
              "      <th>0</th>\n",
              "      <td>400</td>\n",
              "      <td>2020-06-13 13:26:03</td>\n",
              "    </tr>\n",
              "    <tr>\n",
              "      <th>1</th>\n",
              "      <td>576</td>\n",
              "      <td>2020-06-26 08:05:37</td>\n",
              "    </tr>\n",
              "    <tr>\n",
              "      <th>2</th>\n",
              "      <td>608</td>\n",
              "      <td>2020-08-04 16:30:07</td>\n",
              "    </tr>\n",
              "    <tr>\n",
              "      <th>3</th>\n",
              "      <td>766</td>\n",
              "      <td>2020-01-08 12:16:16</td>\n",
              "    </tr>\n",
              "    <tr>\n",
              "      <th>4</th>\n",
              "      <td>1012</td>\n",
              "      <td>2020-01-09 14:08:24</td>\n",
              "    </tr>\n",
              "    <tr>\n",
              "      <th>...</th>\n",
              "      <td>...</td>\n",
              "      <td>...</td>\n",
              "    </tr>\n",
              "    <tr>\n",
              "      <th>83353</th>\n",
              "      <td>3127156</td>\n",
              "      <td>2020-09-15 17:11:12</td>\n",
              "    </tr>\n",
              "    <tr>\n",
              "      <th>83354</th>\n",
              "      <td>3128356</td>\n",
              "      <td>2020-09-15 22:50:23</td>\n",
              "    </tr>\n",
              "    <tr>\n",
              "      <th>83355</th>\n",
              "      <td>3130099</td>\n",
              "      <td>2020-09-16 05:31:28</td>\n",
              "    </tr>\n",
              "    <tr>\n",
              "      <th>83356</th>\n",
              "      <td>3133198</td>\n",
              "      <td>2020-09-16 07:58:02</td>\n",
              "    </tr>\n",
              "    <tr>\n",
              "      <th>83357</th>\n",
              "      <td>3142407</td>\n",
              "      <td>2020-09-15 16:07:24</td>\n",
              "    </tr>\n",
              "  </tbody>\n",
              "</table>\n",
              "<p>83358 rows × 2 columns</p>\n",
              "</div>"
            ],
            "text/plain": [
              "       user_id  order_created_time\n",
              "0          400 2020-06-13 13:26:03\n",
              "1          576 2020-06-26 08:05:37\n",
              "2          608 2020-08-04 16:30:07\n",
              "3          766 2020-01-08 12:16:16\n",
              "4         1012 2020-01-09 14:08:24\n",
              "...        ...                 ...\n",
              "83353  3127156 2020-09-15 17:11:12\n",
              "83354  3128356 2020-09-15 22:50:23\n",
              "83355  3130099 2020-09-16 05:31:28\n",
              "83356  3133198 2020-09-16 07:58:02\n",
              "83357  3142407 2020-09-15 16:07:24\n",
              "\n",
              "[83358 rows x 2 columns]"
            ]
          },
          "metadata": {
            "tags": []
          },
          "execution_count": 32
        }
      ]
    },
    {
      "cell_type": "code",
      "metadata": {
        "id": "vV8TbQ0q6VGo",
        "outputId": "a4f335df-826b-4b44-d854-9e46114d0eba",
        "colab": {
          "base_uri": "https://localhost:8080/",
          "height": 274
        }
      },
      "source": [
        "target = pd.merge(merged_, last_order, on=['user_id', 'order_created_time']) \n",
        "print(len(target))\n",
        "target.head(3)"
      ],
      "execution_count": 33,
      "outputs": [
        {
          "output_type": "stream",
          "text": [
            "1113594\n"
          ],
          "name": "stdout"
        },
        {
          "output_type": "execute_result",
          "data": {
            "text/html": [
              "<div>\n",
              "<style scoped>\n",
              "    .dataframe tbody tr th:only-of-type {\n",
              "        vertical-align: middle;\n",
              "    }\n",
              "\n",
              "    .dataframe tbody tr th {\n",
              "        vertical-align: top;\n",
              "    }\n",
              "\n",
              "    .dataframe thead th {\n",
              "        text-align: right;\n",
              "    }\n",
              "</style>\n",
              "<table border=\"1\" class=\"dataframe\">\n",
              "  <thead>\n",
              "    <tr style=\"text-align: right;\">\n",
              "      <th></th>\n",
              "      <th>order_id</th>\n",
              "      <th>user_id</th>\n",
              "      <th>line_item_id</th>\n",
              "      <th>price</th>\n",
              "      <th>quantity</th>\n",
              "      <th>discount</th>\n",
              "      <th>product_id</th>\n",
              "      <th>brand_name</th>\n",
              "      <th>master_category_id</th>\n",
              "      <th>parent_category_id</th>\n",
              "      <th>order_created_time</th>\n",
              "      <th>retailer</th>\n",
              "      <th>platform</th>\n",
              "      <th>city_name</th>\n",
              "      <th>gender</th>\n",
              "      <th>bdate</th>\n",
              "      <th>age</th>\n",
              "    </tr>\n",
              "  </thead>\n",
              "  <tbody>\n",
              "    <tr>\n",
              "      <th>0</th>\n",
              "      <td>5531326</td>\n",
              "      <td>691783</td>\n",
              "      <td>28336408</td>\n",
              "      <td>40.00</td>\n",
              "      <td>1</td>\n",
              "      <td>6.990000</td>\n",
              "      <td>67693</td>\n",
              "      <td>700</td>\n",
              "      <td>577</td>\n",
              "      <td>9</td>\n",
              "      <td>2019-12-31 21:29:17</td>\n",
              "      <td>4</td>\n",
              "      <td>0</td>\n",
              "      <td>71</td>\n",
              "      <td>1</td>\n",
              "      <td>1998-06-20 00:00:00</td>\n",
              "      <td>22</td>\n",
              "    </tr>\n",
              "    <tr>\n",
              "      <th>1</th>\n",
              "      <td>5531326</td>\n",
              "      <td>691783</td>\n",
              "      <td>28336410</td>\n",
              "      <td>139.00</td>\n",
              "      <td>1</td>\n",
              "      <td>106.000000</td>\n",
              "      <td>1536</td>\n",
              "      <td>815</td>\n",
              "      <td>582</td>\n",
              "      <td>9</td>\n",
              "      <td>2019-12-31 21:29:17</td>\n",
              "      <td>4</td>\n",
              "      <td>0</td>\n",
              "      <td>71</td>\n",
              "      <td>1</td>\n",
              "      <td>1998-06-20 00:00:00</td>\n",
              "      <td>22</td>\n",
              "    </tr>\n",
              "    <tr>\n",
              "      <th>2</th>\n",
              "      <td>5531326</td>\n",
              "      <td>691783</td>\n",
              "      <td>28336412</td>\n",
              "      <td>57.41</td>\n",
              "      <td>1</td>\n",
              "      <td>19.790001</td>\n",
              "      <td>3817542</td>\n",
              "      <td>1355</td>\n",
              "      <td>91</td>\n",
              "      <td>90</td>\n",
              "      <td>2019-12-31 21:29:17</td>\n",
              "      <td>4</td>\n",
              "      <td>0</td>\n",
              "      <td>71</td>\n",
              "      <td>1</td>\n",
              "      <td>1998-06-20 00:00:00</td>\n",
              "      <td>22</td>\n",
              "    </tr>\n",
              "  </tbody>\n",
              "</table>\n",
              "</div>"
            ],
            "text/plain": [
              "   order_id  user_id  line_item_id  ...  gender                bdate  age\n",
              "0   5531326   691783      28336408  ...       1  1998-06-20 00:00:00   22\n",
              "1   5531326   691783      28336410  ...       1  1998-06-20 00:00:00   22\n",
              "2   5531326   691783      28336412  ...       1  1998-06-20 00:00:00   22\n",
              "\n",
              "[3 rows x 17 columns]"
            ]
          },
          "metadata": {
            "tags": []
          },
          "execution_count": 33
        }
      ]
    },
    {
      "cell_type": "code",
      "metadata": {
        "id": "IE2GAnpAFpLu",
        "outputId": "09a479c7-86b8-4384-ebdf-fa64868c32a4",
        "colab": {
          "base_uri": "https://localhost:8080/",
          "height": 237
        }
      },
      "source": [
        "target_user_product_pos = target[['user_id', 'product_id']]\n",
        "target_user_product_pos['target'] = 1\n",
        "target_user_product_pos.head(3)"
      ],
      "execution_count": 34,
      "outputs": [
        {
          "output_type": "stream",
          "text": [
            "/usr/local/lib/python3.6/dist-packages/ipykernel_launcher.py:2: SettingWithCopyWarning: \n",
            "A value is trying to be set on a copy of a slice from a DataFrame.\n",
            "Try using .loc[row_indexer,col_indexer] = value instead\n",
            "\n",
            "See the caveats in the documentation: https://pandas.pydata.org/pandas-docs/stable/user_guide/indexing.html#returning-a-view-versus-a-copy\n",
            "  \n"
          ],
          "name": "stderr"
        },
        {
          "output_type": "execute_result",
          "data": {
            "text/html": [
              "<div>\n",
              "<style scoped>\n",
              "    .dataframe tbody tr th:only-of-type {\n",
              "        vertical-align: middle;\n",
              "    }\n",
              "\n",
              "    .dataframe tbody tr th {\n",
              "        vertical-align: top;\n",
              "    }\n",
              "\n",
              "    .dataframe thead th {\n",
              "        text-align: right;\n",
              "    }\n",
              "</style>\n",
              "<table border=\"1\" class=\"dataframe\">\n",
              "  <thead>\n",
              "    <tr style=\"text-align: right;\">\n",
              "      <th></th>\n",
              "      <th>user_id</th>\n",
              "      <th>product_id</th>\n",
              "      <th>target</th>\n",
              "    </tr>\n",
              "  </thead>\n",
              "  <tbody>\n",
              "    <tr>\n",
              "      <th>0</th>\n",
              "      <td>691783</td>\n",
              "      <td>67693</td>\n",
              "      <td>1</td>\n",
              "    </tr>\n",
              "    <tr>\n",
              "      <th>1</th>\n",
              "      <td>691783</td>\n",
              "      <td>1536</td>\n",
              "      <td>1</td>\n",
              "    </tr>\n",
              "    <tr>\n",
              "      <th>2</th>\n",
              "      <td>691783</td>\n",
              "      <td>3817542</td>\n",
              "      <td>1</td>\n",
              "    </tr>\n",
              "  </tbody>\n",
              "</table>\n",
              "</div>"
            ],
            "text/plain": [
              "   user_id  product_id  target\n",
              "0   691783       67693       1\n",
              "1   691783        1536       1\n",
              "2   691783     3817542       1"
            ]
          },
          "metadata": {
            "tags": []
          },
          "execution_count": 34
        }
      ]
    },
    {
      "cell_type": "code",
      "metadata": {
        "id": "4SxzOsrsFpNy",
        "outputId": "56bd3ad8-15c6-486c-eeaf-4bf10acf4c08",
        "colab": {
          "base_uri": "https://localhost:8080/",
          "height": 257
        }
      },
      "source": [
        "merged_.head(3)"
      ],
      "execution_count": 35,
      "outputs": [
        {
          "output_type": "execute_result",
          "data": {
            "text/html": [
              "<div>\n",
              "<style scoped>\n",
              "    .dataframe tbody tr th:only-of-type {\n",
              "        vertical-align: middle;\n",
              "    }\n",
              "\n",
              "    .dataframe tbody tr th {\n",
              "        vertical-align: top;\n",
              "    }\n",
              "\n",
              "    .dataframe thead th {\n",
              "        text-align: right;\n",
              "    }\n",
              "</style>\n",
              "<table border=\"1\" class=\"dataframe\">\n",
              "  <thead>\n",
              "    <tr style=\"text-align: right;\">\n",
              "      <th></th>\n",
              "      <th>order_id</th>\n",
              "      <th>user_id</th>\n",
              "      <th>line_item_id</th>\n",
              "      <th>price</th>\n",
              "      <th>quantity</th>\n",
              "      <th>discount</th>\n",
              "      <th>product_id</th>\n",
              "      <th>brand_name</th>\n",
              "      <th>master_category_id</th>\n",
              "      <th>parent_category_id</th>\n",
              "      <th>order_created_time</th>\n",
              "      <th>retailer</th>\n",
              "      <th>platform</th>\n",
              "      <th>city_name</th>\n",
              "      <th>gender</th>\n",
              "      <th>bdate</th>\n",
              "      <th>age</th>\n",
              "    </tr>\n",
              "  </thead>\n",
              "  <tbody>\n",
              "    <tr>\n",
              "      <th>282503</th>\n",
              "      <td>5531326</td>\n",
              "      <td>691783</td>\n",
              "      <td>28336408</td>\n",
              "      <td>40.00</td>\n",
              "      <td>1</td>\n",
              "      <td>6.990000</td>\n",
              "      <td>67693</td>\n",
              "      <td>700</td>\n",
              "      <td>577</td>\n",
              "      <td>9</td>\n",
              "      <td>2019-12-31 21:29:17</td>\n",
              "      <td>4</td>\n",
              "      <td>0</td>\n",
              "      <td>71</td>\n",
              "      <td>1</td>\n",
              "      <td>1998-06-20 00:00:00</td>\n",
              "      <td>22</td>\n",
              "    </tr>\n",
              "    <tr>\n",
              "      <th>282504</th>\n",
              "      <td>5531326</td>\n",
              "      <td>691783</td>\n",
              "      <td>28336410</td>\n",
              "      <td>139.00</td>\n",
              "      <td>1</td>\n",
              "      <td>106.000000</td>\n",
              "      <td>1536</td>\n",
              "      <td>815</td>\n",
              "      <td>582</td>\n",
              "      <td>9</td>\n",
              "      <td>2019-12-31 21:29:17</td>\n",
              "      <td>4</td>\n",
              "      <td>0</td>\n",
              "      <td>71</td>\n",
              "      <td>1</td>\n",
              "      <td>1998-06-20 00:00:00</td>\n",
              "      <td>22</td>\n",
              "    </tr>\n",
              "    <tr>\n",
              "      <th>282506</th>\n",
              "      <td>5531326</td>\n",
              "      <td>691783</td>\n",
              "      <td>28336412</td>\n",
              "      <td>57.41</td>\n",
              "      <td>1</td>\n",
              "      <td>19.790001</td>\n",
              "      <td>3817542</td>\n",
              "      <td>1355</td>\n",
              "      <td>91</td>\n",
              "      <td>90</td>\n",
              "      <td>2019-12-31 21:29:17</td>\n",
              "      <td>4</td>\n",
              "      <td>0</td>\n",
              "      <td>71</td>\n",
              "      <td>1</td>\n",
              "      <td>1998-06-20 00:00:00</td>\n",
              "      <td>22</td>\n",
              "    </tr>\n",
              "  </tbody>\n",
              "</table>\n",
              "</div>"
            ],
            "text/plain": [
              "        order_id  user_id  line_item_id  ...  gender                bdate  age\n",
              "282503   5531326   691783      28336408  ...       1  1998-06-20 00:00:00   22\n",
              "282504   5531326   691783      28336410  ...       1  1998-06-20 00:00:00   22\n",
              "282506   5531326   691783      28336412  ...       1  1998-06-20 00:00:00   22\n",
              "\n",
              "[3 rows x 17 columns]"
            ]
          },
          "metadata": {
            "tags": []
          },
          "execution_count": 35
        }
      ]
    },
    {
      "cell_type": "code",
      "metadata": {
        "id": "KasFvlGmFpSI",
        "outputId": "013cff7d-5dcf-46e4-bee1-89a53907a061",
        "colab": {
          "base_uri": "https://localhost:8080/",
          "height": 257
        }
      },
      "source": [
        "features = merged_.groupby(['user_id', 'product_id', 'master_category_id', \n",
        "                            'parent_category_id', 'retailer', 'gender', 'age'], as_index=False).agg(\n",
        "  product_count=pd.NamedAgg(column='order_created_time', aggfunc='count'),\n",
        "  avg_discount=pd.NamedAgg(column='discount', aggfunc='mean'),\n",
        "  max_discount=pd.NamedAgg(column='discount', aggfunc='max'),\n",
        "  min_discount=pd.NamedAgg(column='discount', aggfunc='min'),\n",
        "  avg_price=pd.NamedAgg(column='price', aggfunc='mean'),\n",
        "  max_price=pd.NamedAgg(column='price', aggfunc='max'),\n",
        "  min_price=pd.NamedAgg(column='price', aggfunc='min'),\n",
        "  max_date=pd.NamedAgg(column='order_created_time', aggfunc='max'))\n",
        "            \n",
        "features.head(3)"
      ],
      "execution_count": 36,
      "outputs": [
        {
          "output_type": "execute_result",
          "data": {
            "text/html": [
              "<div>\n",
              "<style scoped>\n",
              "    .dataframe tbody tr th:only-of-type {\n",
              "        vertical-align: middle;\n",
              "    }\n",
              "\n",
              "    .dataframe tbody tr th {\n",
              "        vertical-align: top;\n",
              "    }\n",
              "\n",
              "    .dataframe thead th {\n",
              "        text-align: right;\n",
              "    }\n",
              "</style>\n",
              "<table border=\"1\" class=\"dataframe\">\n",
              "  <thead>\n",
              "    <tr style=\"text-align: right;\">\n",
              "      <th></th>\n",
              "      <th>user_id</th>\n",
              "      <th>product_id</th>\n",
              "      <th>master_category_id</th>\n",
              "      <th>parent_category_id</th>\n",
              "      <th>retailer</th>\n",
              "      <th>gender</th>\n",
              "      <th>age</th>\n",
              "      <th>product_count</th>\n",
              "      <th>avg_discount</th>\n",
              "      <th>max_discount</th>\n",
              "      <th>min_discount</th>\n",
              "      <th>avg_price</th>\n",
              "      <th>max_price</th>\n",
              "      <th>min_price</th>\n",
              "      <th>max_date</th>\n",
              "    </tr>\n",
              "  </thead>\n",
              "  <tbody>\n",
              "    <tr>\n",
              "      <th>0</th>\n",
              "      <td>400</td>\n",
              "      <td>177</td>\n",
              "      <td>26</td>\n",
              "      <td>20</td>\n",
              "      <td>4</td>\n",
              "      <td>-1</td>\n",
              "      <td>-1</td>\n",
              "      <td>2</td>\n",
              "      <td>9.995</td>\n",
              "      <td>19.99</td>\n",
              "      <td>0.0</td>\n",
              "      <td>64.895004</td>\n",
              "      <td>74.889999</td>\n",
              "      <td>54.900002</td>\n",
              "      <td>2020-07-09 12:01:19</td>\n",
              "    </tr>\n",
              "    <tr>\n",
              "      <th>1</th>\n",
              "      <td>400</td>\n",
              "      <td>407</td>\n",
              "      <td>38</td>\n",
              "      <td>35</td>\n",
              "      <td>4</td>\n",
              "      <td>-1</td>\n",
              "      <td>-1</td>\n",
              "      <td>2</td>\n",
              "      <td>51.000</td>\n",
              "      <td>51.00</td>\n",
              "      <td>51.0</td>\n",
              "      <td>99.000000</td>\n",
              "      <td>99.000000</td>\n",
              "      <td>99.000000</td>\n",
              "      <td>2020-06-13 16:30:57</td>\n",
              "    </tr>\n",
              "    <tr>\n",
              "      <th>2</th>\n",
              "      <td>400</td>\n",
              "      <td>487</td>\n",
              "      <td>38</td>\n",
              "      <td>35</td>\n",
              "      <td>4</td>\n",
              "      <td>-1</td>\n",
              "      <td>-1</td>\n",
              "      <td>1</td>\n",
              "      <td>64.000</td>\n",
              "      <td>64.00</td>\n",
              "      <td>64.0</td>\n",
              "      <td>125.000000</td>\n",
              "      <td>125.000000</td>\n",
              "      <td>125.000000</td>\n",
              "      <td>2020-06-19 11:57:25</td>\n",
              "    </tr>\n",
              "  </tbody>\n",
              "</table>\n",
              "</div>"
            ],
            "text/plain": [
              "   user_id  product_id  ...   min_price            max_date\n",
              "0      400         177  ...   54.900002 2020-07-09 12:01:19\n",
              "1      400         407  ...   99.000000 2020-06-13 16:30:57\n",
              "2      400         487  ...  125.000000 2020-06-19 11:57:25\n",
              "\n",
              "[3 rows x 15 columns]"
            ]
          },
          "metadata": {
            "tags": []
          },
          "execution_count": 36
        }
      ]
    },
    {
      "cell_type": "code",
      "metadata": {
        "id": "SqlhRem-FpUf",
        "outputId": "c0859f7f-eff1-4a32-a6ea-2f260b03cacb",
        "colab": {
          "base_uri": "https://localhost:8080/",
          "height": 257
        }
      },
      "source": [
        "train = pd.merge(features, target_user_product_pos, on=['user_id', 'product_id'], how='left')\n",
        "train.head(3)"
      ],
      "execution_count": 37,
      "outputs": [
        {
          "output_type": "execute_result",
          "data": {
            "text/html": [
              "<div>\n",
              "<style scoped>\n",
              "    .dataframe tbody tr th:only-of-type {\n",
              "        vertical-align: middle;\n",
              "    }\n",
              "\n",
              "    .dataframe tbody tr th {\n",
              "        vertical-align: top;\n",
              "    }\n",
              "\n",
              "    .dataframe thead th {\n",
              "        text-align: right;\n",
              "    }\n",
              "</style>\n",
              "<table border=\"1\" class=\"dataframe\">\n",
              "  <thead>\n",
              "    <tr style=\"text-align: right;\">\n",
              "      <th></th>\n",
              "      <th>user_id</th>\n",
              "      <th>product_id</th>\n",
              "      <th>master_category_id</th>\n",
              "      <th>parent_category_id</th>\n",
              "      <th>retailer</th>\n",
              "      <th>gender</th>\n",
              "      <th>age</th>\n",
              "      <th>product_count</th>\n",
              "      <th>avg_discount</th>\n",
              "      <th>max_discount</th>\n",
              "      <th>min_discount</th>\n",
              "      <th>avg_price</th>\n",
              "      <th>max_price</th>\n",
              "      <th>min_price</th>\n",
              "      <th>max_date</th>\n",
              "      <th>target</th>\n",
              "    </tr>\n",
              "  </thead>\n",
              "  <tbody>\n",
              "    <tr>\n",
              "      <th>0</th>\n",
              "      <td>400</td>\n",
              "      <td>177</td>\n",
              "      <td>26</td>\n",
              "      <td>20</td>\n",
              "      <td>4</td>\n",
              "      <td>-1</td>\n",
              "      <td>-1</td>\n",
              "      <td>2</td>\n",
              "      <td>9.995</td>\n",
              "      <td>19.99</td>\n",
              "      <td>0.0</td>\n",
              "      <td>64.895004</td>\n",
              "      <td>74.889999</td>\n",
              "      <td>54.900002</td>\n",
              "      <td>2020-07-09 12:01:19</td>\n",
              "      <td>1.0</td>\n",
              "    </tr>\n",
              "    <tr>\n",
              "      <th>1</th>\n",
              "      <td>400</td>\n",
              "      <td>407</td>\n",
              "      <td>38</td>\n",
              "      <td>35</td>\n",
              "      <td>4</td>\n",
              "      <td>-1</td>\n",
              "      <td>-1</td>\n",
              "      <td>2</td>\n",
              "      <td>51.000</td>\n",
              "      <td>51.00</td>\n",
              "      <td>51.0</td>\n",
              "      <td>99.000000</td>\n",
              "      <td>99.000000</td>\n",
              "      <td>99.000000</td>\n",
              "      <td>2020-06-13 16:30:57</td>\n",
              "      <td>1.0</td>\n",
              "    </tr>\n",
              "    <tr>\n",
              "      <th>2</th>\n",
              "      <td>400</td>\n",
              "      <td>487</td>\n",
              "      <td>38</td>\n",
              "      <td>35</td>\n",
              "      <td>4</td>\n",
              "      <td>-1</td>\n",
              "      <td>-1</td>\n",
              "      <td>1</td>\n",
              "      <td>64.000</td>\n",
              "      <td>64.00</td>\n",
              "      <td>64.0</td>\n",
              "      <td>125.000000</td>\n",
              "      <td>125.000000</td>\n",
              "      <td>125.000000</td>\n",
              "      <td>2020-06-19 11:57:25</td>\n",
              "      <td>NaN</td>\n",
              "    </tr>\n",
              "  </tbody>\n",
              "</table>\n",
              "</div>"
            ],
            "text/plain": [
              "   user_id  product_id  ...            max_date  target\n",
              "0      400         177  ... 2020-07-09 12:01:19     1.0\n",
              "1      400         407  ... 2020-06-13 16:30:57     1.0\n",
              "2      400         487  ... 2020-06-19 11:57:25     NaN\n",
              "\n",
              "[3 rows x 16 columns]"
            ]
          },
          "metadata": {
            "tags": []
          },
          "execution_count": 37
        }
      ]
    },
    {
      "cell_type": "code",
      "metadata": {
        "id": "7-FGIFdZ6VIs",
        "outputId": "88342b71-3cc8-4422-ff9e-5b99d777142b",
        "colab": {
          "base_uri": "https://localhost:8080/",
          "height": 118
        }
      },
      "source": [
        "train['target'] = train['target'].fillna(0)\n",
        "print(train['target'] .value_counts())\n",
        "print(train['target'] .value_counts(normalize=True))"
      ],
      "execution_count": 38,
      "outputs": [
        {
          "output_type": "stream",
          "text": [
            "0.0    5210008\n",
            "1.0    1186301\n",
            "Name: target, dtype: int64\n",
            "0.0    0.814534\n",
            "1.0    0.185466\n",
            "Name: target, dtype: float64\n"
          ],
          "name": "stdout"
        }
      ]
    },
    {
      "cell_type": "code",
      "metadata": {
        "id": "PS3QOYCkOkKV",
        "outputId": "1926e937-1ac6-4880-b43f-7a1a963bedb7",
        "colab": {
          "base_uri": "https://localhost:8080/",
          "height": 34
        }
      },
      "source": [
        "len(train) == len(features)"
      ],
      "execution_count": 39,
      "outputs": [
        {
          "output_type": "execute_result",
          "data": {
            "text/plain": [
              "False"
            ]
          },
          "metadata": {
            "tags": []
          },
          "execution_count": 39
        }
      ]
    },
    {
      "cell_type": "code",
      "metadata": {
        "id": "m8ixSOJ4Oxw7",
        "outputId": "6d0afe97-6638-49c9-bd19-9670487eecc4",
        "colab": {
          "base_uri": "https://localhost:8080/",
          "height": 34
        }
      },
      "source": [
        "len(features)"
      ],
      "execution_count": 40,
      "outputs": [
        {
          "output_type": "execute_result",
          "data": {
            "text/plain": [
              "6372271"
            ]
          },
          "metadata": {
            "tags": []
          },
          "execution_count": 40
        }
      ]
    },
    {
      "cell_type": "code",
      "metadata": {
        "id": "ryW25ojfO1Uj",
        "outputId": "dcaaf526-a5b8-489e-d123-efa7bdf25eca",
        "colab": {
          "base_uri": "https://localhost:8080/",
          "height": 34
        }
      },
      "source": [
        "features[['user_id', 'product_id']].groupby('user_id').product_id.nunique().sum()"
      ],
      "execution_count": 41,
      "outputs": [
        {
          "output_type": "execute_result",
          "data": {
            "text/plain": [
              "6086960"
            ]
          },
          "metadata": {
            "tags": []
          },
          "execution_count": 41
        }
      ]
    },
    {
      "cell_type": "markdown",
      "metadata": {
        "id": "zt0YrpnhSMLv"
      },
      "source": [
        "### Модель\n"
      ]
    },
    {
      "cell_type": "code",
      "metadata": {
        "id": "sivE8PFMPD9D",
        "outputId": "c421c6c4-2a3a-4b88-e95f-87da0f6f340e",
        "colab": {
          "base_uri": "https://localhost:8080/",
          "height": 34
        }
      },
      "source": [
        "train['GroupId'] = train['user_id'].apply(str)\n",
        "len(set(train['GroupId']))"
      ],
      "execution_count": 56,
      "outputs": [
        {
          "output_type": "execute_result",
          "data": {
            "text/plain": [
              "83358"
            ]
          },
          "metadata": {
            "tags": []
          },
          "execution_count": 56
        }
      ]
    },
    {
      "cell_type": "code",
      "metadata": {
        "id": "caTXIU_xUxP5"
      },
      "source": [
        "train_labels = train['target']\n",
        "train = train.drop(columns=['target'])"
      ],
      "execution_count": 43,
      "outputs": []
    },
    {
      "cell_type": "code",
      "metadata": {
        "id": "dMb46nFkRr-o"
      },
      "source": [
        "from catboost import CatBoost, CatBoostClassifier, Pool"
      ],
      "execution_count": 82,
      "outputs": []
    },
    {
      "cell_type": "code",
      "metadata": {
        "id": "mpnHsyU3RsDT",
        "outputId": "ef4a49bb-03e7-48bf-9ad1-688d21143650",
        "colab": {
          "base_uri": "https://localhost:8080/",
          "height": 471
        }
      },
      "source": [
        "%%time\n",
        "param = {\n",
        "    'iterations': 100, \n",
        "    'task_type': 'GPU', \n",
        "    'loss_function': 'YetiRank',\n",
        "}\n",
        "model = CatBoost(param)\n",
        "train_size = int(len(train) * 0.5)\n",
        "test_size = int(len(train) * 0.5)\n",
        "train_pool = Pool(\n",
        "    data=train.iloc[:train_size], \n",
        "    label=train_labels.iloc[:train_size], \n",
        "    group_id=train.iloc[:train_size]['GroupId'],\n",
        ")\n",
        "test_pool = Pool(\n",
        "    data=train.iloc[train_size: train_size + test_size], \n",
        "    label=train_labels.iloc[train_size: train_size + test_size], \n",
        "    group_id=train.iloc[train_size: train_size + test_size]['GroupId'],\n",
        ")\n",
        "model.fit(train_pool, verbose=0, plot=True)\n",
        "print(model.feature_importances_)\n",
        "print(model.best_score_, model.best_iteration_)\n",
        "\n",
        "from sklearn.metrics import roc_auc_score\n",
        "\n",
        "predictions = model.predict(train_pool)\n",
        "print('train auc', roc_auc_score(train_pool.get_label(), predictions))\n",
        "\n",
        "predictions = model.predict(test_pool)\n",
        "print('test auc', roc_auc_score(test_pool.get_label(), predictions))"
      ],
      "execution_count": 104,
      "outputs": [
        {
          "output_type": "error",
          "ename": "CatBoostError",
          "evalue": "ignored",
          "traceback": [
            "\u001b[0;31m---------------------------------------------------------------------------\u001b[0m",
            "\u001b[0;31mCatBoostError\u001b[0m                             Traceback (most recent call last)",
            "\u001b[0;32m<ipython-input-104-c1f20f2312fc>\u001b[0m in \u001b[0;36m<module>\u001b[0;34m()\u001b[0m\n\u001b[0;32m----> 1\u001b[0;31m \u001b[0mget_ipython\u001b[0m\u001b[0;34m(\u001b[0m\u001b[0;34m)\u001b[0m\u001b[0;34m.\u001b[0m\u001b[0mrun_cell_magic\u001b[0m\u001b[0;34m(\u001b[0m\u001b[0;34m'time'\u001b[0m\u001b[0;34m,\u001b[0m \u001b[0;34m''\u001b[0m\u001b[0;34m,\u001b[0m \u001b[0;34m\"param = {\\n    'iterations': 100, \\n    'task_type': 'GPU', \\n    'loss_function': 'YetiRank',\\n}\\nmodel = CatBoost(param)\\ntrain_size = 10 ** 7\\ntest_size = 10 ** 7\\ntrain_pool = Pool(\\n    data=train.iloc[:train_size], \\n    label=train_labels.iloc[:train_size], \\n    group_id=train.iloc[:train_size]['GroupId'],\\n)\\ntest_pool = Pool(\\n    data=train.iloc[train_size: train_size + test_size], \\n    label=train_labels.iloc[train_size: train_size + test_size], \\n    group_id=train.iloc[train_size: train_size + test_size]['GroupId'],\\n)\\nmodel.fit(train_pool, verbose=0, plot=True)\\nprint(model.feature_importances_)\\nprint(model.best_score_, model.best_iteration_)\\n\\nfrom sklearn.metrics import roc_auc_score\\n\\npredictions = model.predict(train_pool)\\nprint('train auc', roc_auc_score(train_pool.get_label(), predictions))\\n\\npredictions = model.predict(test_pool)\\nprint('test auc', roc_auc_score(test_pool.get_label(), predictions))\"\u001b[0m\u001b[0;34m)\u001b[0m\u001b[0;34m\u001b[0m\u001b[0;34m\u001b[0m\u001b[0m\n\u001b[0m",
            "\u001b[0;32m/usr/local/lib/python3.6/dist-packages/IPython/core/interactiveshell.py\u001b[0m in \u001b[0;36mrun_cell_magic\u001b[0;34m(self, magic_name, line, cell)\u001b[0m\n\u001b[1;32m   2115\u001b[0m             \u001b[0mmagic_arg_s\u001b[0m \u001b[0;34m=\u001b[0m \u001b[0mself\u001b[0m\u001b[0;34m.\u001b[0m\u001b[0mvar_expand\u001b[0m\u001b[0;34m(\u001b[0m\u001b[0mline\u001b[0m\u001b[0;34m,\u001b[0m \u001b[0mstack_depth\u001b[0m\u001b[0;34m)\u001b[0m\u001b[0;34m\u001b[0m\u001b[0;34m\u001b[0m\u001b[0m\n\u001b[1;32m   2116\u001b[0m             \u001b[0;32mwith\u001b[0m \u001b[0mself\u001b[0m\u001b[0;34m.\u001b[0m\u001b[0mbuiltin_trap\u001b[0m\u001b[0;34m:\u001b[0m\u001b[0;34m\u001b[0m\u001b[0;34m\u001b[0m\u001b[0m\n\u001b[0;32m-> 2117\u001b[0;31m                 \u001b[0mresult\u001b[0m \u001b[0;34m=\u001b[0m \u001b[0mfn\u001b[0m\u001b[0;34m(\u001b[0m\u001b[0mmagic_arg_s\u001b[0m\u001b[0;34m,\u001b[0m \u001b[0mcell\u001b[0m\u001b[0;34m)\u001b[0m\u001b[0;34m\u001b[0m\u001b[0;34m\u001b[0m\u001b[0m\n\u001b[0m\u001b[1;32m   2118\u001b[0m             \u001b[0;32mreturn\u001b[0m \u001b[0mresult\u001b[0m\u001b[0;34m\u001b[0m\u001b[0;34m\u001b[0m\u001b[0m\n\u001b[1;32m   2119\u001b[0m \u001b[0;34m\u001b[0m\u001b[0m\n",
            "\u001b[0;32m<decorator-gen-60>\u001b[0m in \u001b[0;36mtime\u001b[0;34m(self, line, cell, local_ns)\u001b[0m\n",
            "\u001b[0;32m/usr/local/lib/python3.6/dist-packages/IPython/core/magic.py\u001b[0m in \u001b[0;36m<lambda>\u001b[0;34m(f, *a, **k)\u001b[0m\n\u001b[1;32m    186\u001b[0m     \u001b[0;31m# but it's overkill for just that one bit of state.\u001b[0m\u001b[0;34m\u001b[0m\u001b[0;34m\u001b[0m\u001b[0;34m\u001b[0m\u001b[0m\n\u001b[1;32m    187\u001b[0m     \u001b[0;32mdef\u001b[0m \u001b[0mmagic_deco\u001b[0m\u001b[0;34m(\u001b[0m\u001b[0marg\u001b[0m\u001b[0;34m)\u001b[0m\u001b[0;34m:\u001b[0m\u001b[0;34m\u001b[0m\u001b[0;34m\u001b[0m\u001b[0m\n\u001b[0;32m--> 188\u001b[0;31m         \u001b[0mcall\u001b[0m \u001b[0;34m=\u001b[0m \u001b[0;32mlambda\u001b[0m \u001b[0mf\u001b[0m\u001b[0;34m,\u001b[0m \u001b[0;34m*\u001b[0m\u001b[0ma\u001b[0m\u001b[0;34m,\u001b[0m \u001b[0;34m**\u001b[0m\u001b[0mk\u001b[0m\u001b[0;34m:\u001b[0m \u001b[0mf\u001b[0m\u001b[0;34m(\u001b[0m\u001b[0;34m*\u001b[0m\u001b[0ma\u001b[0m\u001b[0;34m,\u001b[0m \u001b[0;34m**\u001b[0m\u001b[0mk\u001b[0m\u001b[0;34m)\u001b[0m\u001b[0;34m\u001b[0m\u001b[0;34m\u001b[0m\u001b[0m\n\u001b[0m\u001b[1;32m    189\u001b[0m \u001b[0;34m\u001b[0m\u001b[0m\n\u001b[1;32m    190\u001b[0m         \u001b[0;32mif\u001b[0m \u001b[0mcallable\u001b[0m\u001b[0;34m(\u001b[0m\u001b[0marg\u001b[0m\u001b[0;34m)\u001b[0m\u001b[0;34m:\u001b[0m\u001b[0;34m\u001b[0m\u001b[0;34m\u001b[0m\u001b[0m\n",
            "\u001b[0;32m/usr/local/lib/python3.6/dist-packages/IPython/core/magics/execution.py\u001b[0m in \u001b[0;36mtime\u001b[0;34m(self, line, cell, local_ns)\u001b[0m\n\u001b[1;32m   1191\u001b[0m         \u001b[0;32melse\u001b[0m\u001b[0;34m:\u001b[0m\u001b[0;34m\u001b[0m\u001b[0;34m\u001b[0m\u001b[0m\n\u001b[1;32m   1192\u001b[0m             \u001b[0mst\u001b[0m \u001b[0;34m=\u001b[0m \u001b[0mclock2\u001b[0m\u001b[0;34m(\u001b[0m\u001b[0;34m)\u001b[0m\u001b[0;34m\u001b[0m\u001b[0;34m\u001b[0m\u001b[0m\n\u001b[0;32m-> 1193\u001b[0;31m             \u001b[0mexec\u001b[0m\u001b[0;34m(\u001b[0m\u001b[0mcode\u001b[0m\u001b[0;34m,\u001b[0m \u001b[0mglob\u001b[0m\u001b[0;34m,\u001b[0m \u001b[0mlocal_ns\u001b[0m\u001b[0;34m)\u001b[0m\u001b[0;34m\u001b[0m\u001b[0;34m\u001b[0m\u001b[0m\n\u001b[0m\u001b[1;32m   1194\u001b[0m             \u001b[0mend\u001b[0m \u001b[0;34m=\u001b[0m \u001b[0mclock2\u001b[0m\u001b[0;34m(\u001b[0m\u001b[0;34m)\u001b[0m\u001b[0;34m\u001b[0m\u001b[0;34m\u001b[0m\u001b[0m\n\u001b[1;32m   1195\u001b[0m             \u001b[0mout\u001b[0m \u001b[0;34m=\u001b[0m \u001b[0;32mNone\u001b[0m\u001b[0;34m\u001b[0m\u001b[0;34m\u001b[0m\u001b[0m\n",
            "\u001b[0;32m<timed exec>\u001b[0m in \u001b[0;36m<module>\u001b[0;34m()\u001b[0m\n",
            "\u001b[0;32m/usr/local/lib/python3.6/dist-packages/catboost/core.py\u001b[0m in \u001b[0;36m__init__\u001b[0;34m(self, data, label, cat_features, text_features, embedding_features, column_description, pairs, delimiter, has_header, ignore_csv_quoting, weight, group_id, group_weight, subgroup_id, pairs_weight, baseline, feature_names, thread_count)\u001b[0m\n\u001b[1;32m    453\u001b[0m                     )\n\u001b[1;32m    454\u001b[0m \u001b[0;34m\u001b[0m\u001b[0m\n\u001b[0;32m--> 455\u001b[0;31m                 \u001b[0mself\u001b[0m\u001b[0;34m.\u001b[0m\u001b[0m_init\u001b[0m\u001b[0;34m(\u001b[0m\u001b[0mdata\u001b[0m\u001b[0;34m,\u001b[0m \u001b[0mlabel\u001b[0m\u001b[0;34m,\u001b[0m \u001b[0mcat_features\u001b[0m\u001b[0;34m,\u001b[0m \u001b[0mtext_features\u001b[0m\u001b[0;34m,\u001b[0m \u001b[0membedding_features\u001b[0m\u001b[0;34m,\u001b[0m \u001b[0mpairs\u001b[0m\u001b[0;34m,\u001b[0m \u001b[0mweight\u001b[0m\u001b[0;34m,\u001b[0m \u001b[0mgroup_id\u001b[0m\u001b[0;34m,\u001b[0m \u001b[0mgroup_weight\u001b[0m\u001b[0;34m,\u001b[0m \u001b[0msubgroup_id\u001b[0m\u001b[0;34m,\u001b[0m \u001b[0mpairs_weight\u001b[0m\u001b[0;34m,\u001b[0m \u001b[0mbaseline\u001b[0m\u001b[0;34m,\u001b[0m \u001b[0mfeature_names\u001b[0m\u001b[0;34m,\u001b[0m \u001b[0mthread_count\u001b[0m\u001b[0;34m)\u001b[0m\u001b[0;34m\u001b[0m\u001b[0;34m\u001b[0m\u001b[0m\n\u001b[0m\u001b[1;32m    456\u001b[0m         \u001b[0msuper\u001b[0m\u001b[0;34m(\u001b[0m\u001b[0mPool\u001b[0m\u001b[0;34m,\u001b[0m \u001b[0mself\u001b[0m\u001b[0;34m)\u001b[0m\u001b[0;34m.\u001b[0m\u001b[0m__init__\u001b[0m\u001b[0;34m(\u001b[0m\u001b[0;34m)\u001b[0m\u001b[0;34m\u001b[0m\u001b[0;34m\u001b[0m\u001b[0m\n\u001b[1;32m    457\u001b[0m \u001b[0;34m\u001b[0m\u001b[0m\n",
            "\u001b[0;32m/usr/local/lib/python3.6/dist-packages/catboost/core.py\u001b[0m in \u001b[0;36m_init\u001b[0;34m(self, data, label, cat_features, text_features, embedding_features, pairs, weight, group_id, group_weight, subgroup_id, pairs_weight, baseline, feature_names, thread_count)\u001b[0m\n\u001b[1;32m    914\u001b[0m         \u001b[0;32mif\u001b[0m \u001b[0mlabel\u001b[0m \u001b[0;32mis\u001b[0m \u001b[0;32mnot\u001b[0m \u001b[0;32mNone\u001b[0m\u001b[0;34m:\u001b[0m\u001b[0;34m\u001b[0m\u001b[0;34m\u001b[0m\u001b[0m\n\u001b[1;32m    915\u001b[0m             \u001b[0mself\u001b[0m\u001b[0;34m.\u001b[0m\u001b[0m_check_label_type\u001b[0m\u001b[0;34m(\u001b[0m\u001b[0mlabel\u001b[0m\u001b[0;34m)\u001b[0m\u001b[0;34m\u001b[0m\u001b[0;34m\u001b[0m\u001b[0m\n\u001b[0;32m--> 916\u001b[0;31m             \u001b[0mself\u001b[0m\u001b[0;34m.\u001b[0m\u001b[0m_check_label_empty\u001b[0m\u001b[0;34m(\u001b[0m\u001b[0mlabel\u001b[0m\u001b[0;34m)\u001b[0m\u001b[0;34m\u001b[0m\u001b[0;34m\u001b[0m\u001b[0m\n\u001b[0m\u001b[1;32m    917\u001b[0m             \u001b[0mlabel\u001b[0m \u001b[0;34m=\u001b[0m \u001b[0mself\u001b[0m\u001b[0;34m.\u001b[0m\u001b[0m_label_if_pandas_to_numpy\u001b[0m\u001b[0;34m(\u001b[0m\u001b[0mlabel\u001b[0m\u001b[0;34m)\u001b[0m\u001b[0;34m\u001b[0m\u001b[0;34m\u001b[0m\u001b[0m\n\u001b[1;32m    918\u001b[0m             \u001b[0;32mif\u001b[0m \u001b[0mlen\u001b[0m\u001b[0;34m(\u001b[0m\u001b[0mnp\u001b[0m\u001b[0;34m.\u001b[0m\u001b[0mshape\u001b[0m\u001b[0;34m(\u001b[0m\u001b[0mlabel\u001b[0m\u001b[0;34m)\u001b[0m\u001b[0;34m)\u001b[0m \u001b[0;34m==\u001b[0m \u001b[0;36m1\u001b[0m\u001b[0;34m:\u001b[0m\u001b[0;34m\u001b[0m\u001b[0;34m\u001b[0m\u001b[0m\n",
            "\u001b[0;32m/usr/local/lib/python3.6/dist-packages/catboost/core.py\u001b[0m in \u001b[0;36m_check_label_empty\u001b[0;34m(self, label)\u001b[0m\n\u001b[1;32m    558\u001b[0m         \"\"\"\n\u001b[1;32m    559\u001b[0m         \u001b[0;32mif\u001b[0m \u001b[0mlen\u001b[0m\u001b[0;34m(\u001b[0m\u001b[0mlabel\u001b[0m\u001b[0;34m)\u001b[0m \u001b[0;34m==\u001b[0m \u001b[0;36m0\u001b[0m\u001b[0;34m:\u001b[0m\u001b[0;34m\u001b[0m\u001b[0;34m\u001b[0m\u001b[0m\n\u001b[0;32m--> 560\u001b[0;31m             \u001b[0;32mraise\u001b[0m \u001b[0mCatBoostError\u001b[0m\u001b[0;34m(\u001b[0m\u001b[0;34m\"Labels variable is empty.\"\u001b[0m\u001b[0;34m)\u001b[0m\u001b[0;34m\u001b[0m\u001b[0;34m\u001b[0m\u001b[0m\n\u001b[0m\u001b[1;32m    561\u001b[0m \u001b[0;34m\u001b[0m\u001b[0m\n\u001b[1;32m    562\u001b[0m     \u001b[0;32mdef\u001b[0m \u001b[0m_check_label_shape\u001b[0m\u001b[0;34m(\u001b[0m\u001b[0mself\u001b[0m\u001b[0;34m,\u001b[0m \u001b[0mlabel\u001b[0m\u001b[0;34m,\u001b[0m \u001b[0msamples_count\u001b[0m\u001b[0;34m)\u001b[0m\u001b[0;34m:\u001b[0m\u001b[0;34m\u001b[0m\u001b[0;34m\u001b[0m\u001b[0m\n",
            "\u001b[0;31mCatBoostError\u001b[0m: Labels variable is empty."
          ]
        }
      ]
    },
    {
      "cell_type": "code",
      "metadata": {
        "id": "SPcVBZfkd7c2"
      },
      "source": [
        ""
      ],
      "execution_count": null,
      "outputs": []
    },
    {
      "cell_type": "code",
      "metadata": {
        "id": "saoRzdRad7nT"
      },
      "source": [
        ""
      ],
      "execution_count": null,
      "outputs": []
    },
    {
      "cell_type": "code",
      "metadata": {
        "id": "3TrmZWSXd7tE"
      },
      "source": [
        ""
      ],
      "execution_count": null,
      "outputs": []
    },
    {
      "cell_type": "code",
      "metadata": {
        "id": "fhZ4xOl_d7xp"
      },
      "source": [
        ""
      ],
      "execution_count": null,
      "outputs": []
    },
    {
      "cell_type": "code",
      "metadata": {
        "id": "e0q2EY_8d728"
      },
      "source": [
        ""
      ],
      "execution_count": null,
      "outputs": []
    },
    {
      "cell_type": "code",
      "metadata": {
        "id": "1Fr149VDd78W"
      },
      "source": [
        ""
      ],
      "execution_count": null,
      "outputs": []
    }
  ]
}