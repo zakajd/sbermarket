{
 "cells": [
  {
   "cell_type": "code",
   "execution_count": 63,
   "metadata": {
    "colab": {
     "base_uri": "https://localhost:8080/",
     "height": 252
    },
    "id": "Qe8PzteJSX9W",
    "outputId": "d9a133a8-62a0-4a71-b4d3-5e7b99db74b2"
   },
   "outputs": [],
   "source": [
    "# !pip install catboost"
   ]
  },
  {
   "cell_type": "code",
   "execution_count": 64,
   "metadata": {
    "colab": {
     "base_uri": "https://localhost:8080/",
     "height": 118
    },
    "id": "JXuE8F6uh-8_",
    "outputId": "7841c4b3-6079-4ed2-f921-f9593abd89e7"
   },
   "outputs": [],
   "source": [
    "# !pip install ml_metrics"
   ]
  },
  {
   "cell_type": "code",
   "execution_count": 1,
   "metadata": {
    "id": "2Kurej6rttw8"
   },
   "outputs": [],
   "source": [
    "import pandas as pd\n",
    "import matplotlib.pyplot as plt"
   ]
  },
  {
   "cell_type": "code",
   "execution_count": 2,
   "metadata": {
    "colab": {
     "base_uri": "https://localhost:8080/",
     "height": 266
    },
    "id": "0U3qSPGottzL",
    "outputId": "a68a67f4-d2cf-4366-f24e-cb0f28607d79"
   },
   "outputs": [
    {
     "name": "stderr",
     "output_type": "stream",
     "text": [
      "D:\\programs\\anaconda3\\lib\\site-packages\\IPython\\core\\interactiveshell.py:3071: DtypeWarning: Columns (11,16) have mixed types.Specify dtype option on import or set low_memory=False.\n",
      "  has_raised = await self.run_ast_nodes(code_ast.body, cell_name,\n"
     ]
    },
    {
     "data": {
      "text/html": [
       "<div>\n",
       "<style scoped>\n",
       "    .dataframe tbody tr th:only-of-type {\n",
       "        vertical-align: middle;\n",
       "    }\n",
       "\n",
       "    .dataframe tbody tr th {\n",
       "        vertical-align: top;\n",
       "    }\n",
       "\n",
       "    .dataframe thead th {\n",
       "        text-align: right;\n",
       "    }\n",
       "</style>\n",
       "<table border=\"1\" class=\"dataframe\">\n",
       "  <thead>\n",
       "    <tr style=\"text-align: right;\">\n",
       "      <th></th>\n",
       "      <th>Unnamed: 0</th>\n",
       "      <th>order_id</th>\n",
       "      <th>user_id</th>\n",
       "      <th>line_item_id</th>\n",
       "      <th>price</th>\n",
       "      <th>quantity</th>\n",
       "      <th>discount</th>\n",
       "      <th>product_id</th>\n",
       "      <th>brand_name</th>\n",
       "      <th>master_category_id</th>\n",
       "      <th>parent_category_id</th>\n",
       "      <th>order_created_time</th>\n",
       "      <th>retailer</th>\n",
       "      <th>platform</th>\n",
       "      <th>city_name</th>\n",
       "      <th>gender</th>\n",
       "      <th>bdate</th>\n",
       "      <th>age</th>\n",
       "    </tr>\n",
       "  </thead>\n",
       "  <tbody>\n",
       "    <tr>\n",
       "      <th>0</th>\n",
       "      <td>0</td>\n",
       "      <td>139128</td>\n",
       "      <td>1050</td>\n",
       "      <td>97633689</td>\n",
       "      <td>236.89</td>\n",
       "      <td>1</td>\n",
       "      <td>0.0</td>\n",
       "      <td>5045454</td>\n",
       "      <td>3573</td>\n",
       "      <td>122</td>\n",
       "      <td>119</td>\n",
       "      <td>-1</td>\n",
       "      <td>-1</td>\n",
       "      <td>-1</td>\n",
       "      <td>-1</td>\n",
       "      <td>-1</td>\n",
       "      <td>-1</td>\n",
       "      <td>-1</td>\n",
       "    </tr>\n",
       "    <tr>\n",
       "      <th>1</th>\n",
       "      <td>1</td>\n",
       "      <td>139128</td>\n",
       "      <td>1050</td>\n",
       "      <td>97633791</td>\n",
       "      <td>178.16</td>\n",
       "      <td>1</td>\n",
       "      <td>0.0</td>\n",
       "      <td>73719</td>\n",
       "      <td>5154</td>\n",
       "      <td>122</td>\n",
       "      <td>119</td>\n",
       "      <td>-1</td>\n",
       "      <td>-1</td>\n",
       "      <td>-1</td>\n",
       "      <td>-1</td>\n",
       "      <td>-1</td>\n",
       "      <td>-1</td>\n",
       "      <td>-1</td>\n",
       "    </tr>\n",
       "    <tr>\n",
       "      <th>2</th>\n",
       "      <td>2</td>\n",
       "      <td>139128</td>\n",
       "      <td>1050</td>\n",
       "      <td>97635201</td>\n",
       "      <td>173.28</td>\n",
       "      <td>1</td>\n",
       "      <td>0.0</td>\n",
       "      <td>7000939</td>\n",
       "      <td>2846</td>\n",
       "      <td>85</td>\n",
       "      <td>84</td>\n",
       "      <td>-1</td>\n",
       "      <td>-1</td>\n",
       "      <td>-1</td>\n",
       "      <td>-1</td>\n",
       "      <td>-1</td>\n",
       "      <td>-1</td>\n",
       "      <td>-1</td>\n",
       "    </tr>\n",
       "    <tr>\n",
       "      <th>3</th>\n",
       "      <td>3</td>\n",
       "      <td>139128</td>\n",
       "      <td>1050</td>\n",
       "      <td>97635312</td>\n",
       "      <td>73.69</td>\n",
       "      <td>1</td>\n",
       "      <td>0.0</td>\n",
       "      <td>7386015</td>\n",
       "      <td>3342</td>\n",
       "      <td>85</td>\n",
       "      <td>84</td>\n",
       "      <td>-1</td>\n",
       "      <td>-1</td>\n",
       "      <td>-1</td>\n",
       "      <td>-1</td>\n",
       "      <td>-1</td>\n",
       "      <td>-1</td>\n",
       "      <td>-1</td>\n",
       "    </tr>\n",
       "    <tr>\n",
       "      <th>4</th>\n",
       "      <td>4</td>\n",
       "      <td>139128</td>\n",
       "      <td>1050</td>\n",
       "      <td>97635414</td>\n",
       "      <td>282.14</td>\n",
       "      <td>1</td>\n",
       "      <td>0.0</td>\n",
       "      <td>73291</td>\n",
       "      <td>2846</td>\n",
       "      <td>85</td>\n",
       "      <td>84</td>\n",
       "      <td>-1</td>\n",
       "      <td>-1</td>\n",
       "      <td>-1</td>\n",
       "      <td>-1</td>\n",
       "      <td>-1</td>\n",
       "      <td>-1</td>\n",
       "      <td>-1</td>\n",
       "    </tr>\n",
       "  </tbody>\n",
       "</table>\n",
       "</div>"
      ],
      "text/plain": [
       "   Unnamed: 0  order_id  user_id  line_item_id   price  quantity  discount  \\\n",
       "0           0    139128     1050      97633689  236.89         1       0.0   \n",
       "1           1    139128     1050      97633791  178.16         1       0.0   \n",
       "2           2    139128     1050      97635201  173.28         1       0.0   \n",
       "3           3    139128     1050      97635312   73.69         1       0.0   \n",
       "4           4    139128     1050      97635414  282.14         1       0.0   \n",
       "\n",
       "   product_id  brand_name  master_category_id  parent_category_id  \\\n",
       "0     5045454        3573                 122                 119   \n",
       "1       73719        5154                 122                 119   \n",
       "2     7000939        2846                  85                  84   \n",
       "3     7386015        3342                  85                  84   \n",
       "4       73291        2846                  85                  84   \n",
       "\n",
       "  order_created_time  retailer  platform  city_name  gender bdate  age  \n",
       "0                 -1        -1        -1         -1      -1    -1   -1  \n",
       "1                 -1        -1        -1         -1      -1    -1   -1  \n",
       "2                 -1        -1        -1         -1      -1    -1   -1  \n",
       "3                 -1        -1        -1         -1      -1    -1   -1  \n",
       "4                 -1        -1        -1         -1      -1    -1   -1  "
      ]
     },
     "execution_count": 2,
     "metadata": {},
     "output_type": "execute_result"
    }
   ],
   "source": [
    "merged = pd.read_csv('data/merged_data.csv', index_col=None)\n",
    "merged.head()"
   ]
  },
  {
   "cell_type": "code",
   "execution_count": 3,
   "metadata": {
    "colab": {
     "base_uri": "https://localhost:8080/",
     "height": 34
    },
    "id": "tqOI7DhFtt4F",
    "outputId": "4d876ef4-57ee-4f4f-ee64-b2c283b25dcf"
   },
   "outputs": [
    {
     "name": "stdout",
     "output_type": "stream",
     "text": [
      "107068\n",
      "91994\n",
      "21677070\n",
      "21466723\n"
     ]
    }
   ],
   "source": [
    "print(merged['user_id'].nunique())\n",
    "print(merged['product_id'].nunique())\n",
    "print(len(merged))\n",
    "\n",
    "merged = merged[merged['product_id'] != 0]\n",
    "print(len(merged))"
   ]
  },
  {
   "cell_type": "code",
   "execution_count": 4,
   "metadata": {
    "colab": {
     "base_uri": "https://localhost:8080/",
     "height": 445
    },
    "id": "LyNh37LBu7Rs",
    "outputId": "5be4e104-a9ac-41b5-801e-7e3ce09aa7f6"
   },
   "outputs": [
    {
     "data": {
      "text/plain": [
       "<matplotlib.axes._subplots.AxesSubplot at 0x1c685fbff70>"
      ]
     },
     "execution_count": 4,
     "metadata": {},
     "output_type": "execute_result"
    },
    {
     "data": {
      "image/png": "[encoded data removed]",
      "text/plain": [
       "<Figure size 720x504 with 1 Axes>"
      ]
     },
     "metadata": {
      "needs_background": "light"
     },
     "output_type": "display_data"
    }
   ],
   "source": [
    "plt.figure(figsize=(10, 7))\n",
    "merged['product_id'].value_counts().hist(bins=100)"
   ]
  },
  {
   "cell_type": "code",
   "execution_count": 5,
   "metadata": {
    "colab": {
     "base_uri": "https://localhost:8080/",
     "height": 34
    },
    "id": "FIhvfwPxzGJI",
    "outputId": "e79a18d7-f79f-4225-e9f6-436e9396a08b"
   },
   "outputs": [
    {
     "data": {
      "text/plain": [
       "107066"
      ]
     },
     "execution_count": 5,
     "metadata": {},
     "output_type": "execute_result"
    }
   ],
   "source": [
    "merged['user_id'].nunique()"
   ]
  },
  {
   "cell_type": "code",
   "execution_count": 6,
   "metadata": {
    "colab": {
     "base_uri": "https://localhost:8080/",
     "height": 402
    },
    "id": "lcqqgI8Rtn8O",
    "outputId": "733953cd-214e-4e24-c574-0e0b0e6c6952"
   },
   "outputs": [
    {
     "data": {
      "text/html": [
       "<div>\n",
       "<style scoped>\n",
       "    .dataframe tbody tr th:only-of-type {\n",
       "        vertical-align: middle;\n",
       "    }\n",
       "\n",
       "    .dataframe tbody tr th {\n",
       "        vertical-align: top;\n",
       "    }\n",
       "\n",
       "    .dataframe thead th {\n",
       "        text-align: right;\n",
       "    }\n",
       "</style>\n",
       "<table border=\"1\" class=\"dataframe\">\n",
       "  <thead>\n",
       "    <tr style=\"text-align: right;\">\n",
       "      <th></th>\n",
       "      <th>product_id</th>\n",
       "      <th>count</th>\n",
       "    </tr>\n",
       "  </thead>\n",
       "  <tbody>\n",
       "    <tr>\n",
       "      <th>193</th>\n",
       "      <td>709</td>\n",
       "      <td>139570</td>\n",
       "    </tr>\n",
       "    <tr>\n",
       "      <th>9290</th>\n",
       "      <td>39590</td>\n",
       "      <td>44804</td>\n",
       "    </tr>\n",
       "    <tr>\n",
       "      <th>71</th>\n",
       "      <td>166</td>\n",
       "      <td>36970</td>\n",
       "    </tr>\n",
       "  </tbody>\n",
       "</table>\n",
       "</div>"
      ],
      "text/plain": [
       "      product_id   count\n",
       "193          709  139570\n",
       "9290       39590   44804\n",
       "71           166   36970"
      ]
     },
     "execution_count": 6,
     "metadata": {},
     "output_type": "execute_result"
    }
   ],
   "source": [
    "groupby_0 = pd.DataFrame({'count' : merged.groupby(['product_id']).size()}).reset_index()\n",
    "groupby_0 = groupby_0.sort_values(['count'], ascending=False)\n",
    "groupby_0.head(3)"
   ]
  },
  {
   "cell_type": "code",
   "execution_count": 7,
   "metadata": {
    "colab": {
     "base_uri": "https://localhost:8080/",
     "height": 34
    },
    "id": "4l8HWLaMzo_W",
    "outputId": "b0d68057-de69-43cf-c680-26a7622007ed"
   },
   "outputs": [
    {
     "data": {
      "text/plain": [
       "21466723"
      ]
     },
     "execution_count": 7,
     "metadata": {},
     "output_type": "execute_result"
    }
   ],
   "source": [
    "groupby_0['count'].sum()"
   ]
  },
  {
   "cell_type": "code",
   "execution_count": 8,
   "metadata": {
    "colab": {
     "base_uri": "https://localhost:8080/",
     "height": 34
    },
    "id": "JnHcF1mwxfBf",
    "outputId": "8caf4be5-c8c2-4ac9-e5d1-cc778000fc55"
   },
   "outputs": [
    {
     "data": {
      "text/plain": [
       "0.28358841729126516"
      ]
     },
     "execution_count": 8,
     "metadata": {},
     "output_type": "execute_result"
    }
   ],
   "source": [
    "# доля покрытия\n",
    "groupby_0[:1000]['count'].sum() / groupby_0['count'].sum()"
   ]
  },
  {
   "cell_type": "code",
   "execution_count": 9,
   "metadata": {
    "colab": {
     "base_uri": "https://localhost:8080/",
     "height": 34
    },
    "id": "nKgJTpezxfDX",
    "outputId": "5d298275-34f5-4f05-fab9-903a8dbfa736"
   },
   "outputs": [
    {
     "data": {
      "text/plain": [
       "0.8288523124838384"
      ]
     },
     "execution_count": 9,
     "metadata": {},
     "output_type": "execute_result"
    }
   ],
   "source": [
    "# доля покрытия\n",
    "groupby_0[:15000]['count'].sum() / groupby_0['count'].sum()"
   ]
  },
  {
   "cell_type": "code",
   "execution_count": 10,
   "metadata": {
    "colab": {
     "base_uri": "https://localhost:8080/",
     "height": 34
    },
    "id": "9EQfHjZjxfF4",
    "outputId": "02c37647-c8e0-459f-9087-1b352773d514"
   },
   "outputs": [
    {
     "data": {
      "text/plain": [
       "0.9561352238066332"
      ]
     },
     "execution_count": 10,
     "metadata": {},
     "output_type": "execute_result"
    }
   ],
   "source": [
    "# доля покрытия\n",
    "groupby_0[:35000]['count'].sum() / groupby_0['count'].sum()"
   ]
  },
  {
   "cell_type": "code",
   "execution_count": 11,
   "metadata": {
    "id": "8IVow3Lp0guY"
   },
   "outputs": [
    {
     "name": "stdout",
     "output_type": "stream",
     "text": [
      "17792743\n",
      "106621\n"
     ]
    }
   ],
   "source": [
    "# фильтруем по продуктам\n",
    "top_products = groupby_0[:15000]['product_id'].tolist()\n",
    "\n",
    "merged = merged[merged['product_id'].isin(top_products)]\n",
    "print(len(merged))\n",
    "print(merged['user_id'].nunique())"
   ]
  },
  {
   "cell_type": "code",
   "execution_count": 12,
   "metadata": {
    "colab": {
     "base_uri": "https://localhost:8080/",
     "height": 34
    },
    "id": "IAJJmGW903pm",
    "outputId": "3bdaf333-d574-4e78-abd2-762f242a2323"
   },
   "outputs": [
    {
     "data": {
      "text/html": [
       "<div>\n",
       "<style scoped>\n",
       "    .dataframe tbody tr th:only-of-type {\n",
       "        vertical-align: middle;\n",
       "    }\n",
       "\n",
       "    .dataframe tbody tr th {\n",
       "        vertical-align: top;\n",
       "    }\n",
       "\n",
       "    .dataframe thead th {\n",
       "        text-align: right;\n",
       "    }\n",
       "</style>\n",
       "<table border=\"1\" class=\"dataframe\">\n",
       "  <thead>\n",
       "    <tr style=\"text-align: right;\">\n",
       "      <th></th>\n",
       "      <th>user_id</th>\n",
       "      <th>count</th>\n",
       "    </tr>\n",
       "  </thead>\n",
       "  <tbody>\n",
       "    <tr>\n",
       "      <th>0</th>\n",
       "      <td>51</td>\n",
       "      <td>17</td>\n",
       "    </tr>\n",
       "    <tr>\n",
       "      <th>1</th>\n",
       "      <td>65</td>\n",
       "      <td>23</td>\n",
       "    </tr>\n",
       "    <tr>\n",
       "      <th>2</th>\n",
       "      <td>400</td>\n",
       "      <td>5</td>\n",
       "    </tr>\n",
       "  </tbody>\n",
       "</table>\n",
       "</div>"
      ],
      "text/plain": [
       "   user_id  count\n",
       "0       51     17\n",
       "1       65     23\n",
       "2      400      5"
      ]
     },
     "execution_count": 12,
     "metadata": {},
     "output_type": "execute_result"
    }
   ],
   "source": [
    "users_n_orders = merged.groupby(['user_id'])['order_id'].nunique().to_frame('count').reset_index()\n",
    "users_n_orders.head(3)"
   ]
  },
  {
   "cell_type": "code",
   "execution_count": 13,
   "metadata": {
    "colab": {
     "base_uri": "https://localhost:8080/",
     "height": 34
    },
    "id": "ZKFEQl4XxfKZ",
    "outputId": "605bee1f-d4ec-4404-dc71-f58d6e741f91"
   },
   "outputs": [
    {
     "name": "stdout",
     "output_type": "stream",
     "text": [
      "valid_users_ids 86647\n",
      "17419118\n"
     ]
    }
   ],
   "source": [
    "valid_users = users_n_orders[users_n_orders['count'] >= 2]\n",
    "valid_users_ids = valid_users['user_id'].tolist()\n",
    "print('valid_users_ids', len(valid_users_ids))\n",
    "\n",
    "merged = merged[merged['user_id'].isin(valid_users_ids)]\n",
    "print(len(merged))"
   ]
  },
  {
   "cell_type": "code",
   "execution_count": 14,
   "metadata": {},
   "outputs": [],
   "source": [
    "merged_ = merged[merged['order_created_time'].values != -1]\n",
    "merged_ = merged_[merged_['order_created_time'].values != '-1']\n",
    "merged_ = merged_.drop(columns=['Unnamed: 0']) \n",
    "\n",
    "# Change data types to reduce memory footprint\n",
    "merged_ = merged_.astype({\n",
    "    'user_id': 'int32',\n",
    "    'order_id': 'int32',\n",
    "    'price': 'float32',\n",
    "    'quantity': 'int32',\n",
    "    'discount': 'float32',\n",
    "    'product_id': 'int32',\n",
    "    'brand_name': 'int32',\n",
    "    'master_category_id': 'int32',\n",
    "    'parent_category_id': 'int32',\n",
    "    'order_created_time': str,\n",
    "    'retailer': 'int32',\n",
    "    'platform': 'int32',\n",
    "    'city_name': 'int32',\n",
    "    'gender': 'int32',\n",
    "    'age': 'int32'}, copy=False)\n",
    "\n",
    "merged_['order_created_time'] = pd.to_datetime(merged_['order_created_time'], format='%Y-%m-%d %H:%M:%S', exact=True)"
   ]
  },
  {
   "cell_type": "code",
   "execution_count": 15,
   "metadata": {},
   "outputs": [
    {
     "data": {
      "text/plain": [
       "order_id                       int32\n",
       "user_id                        int32\n",
       "line_item_id                   int64\n",
       "price                        float32\n",
       "quantity                       int32\n",
       "discount                     float32\n",
       "product_id                     int32\n",
       "brand_name                     int32\n",
       "master_category_id             int32\n",
       "parent_category_id             int32\n",
       "order_created_time    datetime64[ns]\n",
       "retailer                       int32\n",
       "platform                       int32\n",
       "city_name                      int32\n",
       "gender                         int32\n",
       "bdate                         object\n",
       "age                            int32\n",
       "dtype: object"
      ]
     },
     "execution_count": 15,
     "metadata": {},
     "output_type": "execute_result"
    }
   ],
   "source": [
    "merged_.dtypes"
   ]
  },
  {
   "cell_type": "code",
   "execution_count": 16,
   "metadata": {},
   "outputs": [
    {
     "data": {
      "text/html": [
       "<div>\n",
       "<style scoped>\n",
       "    .dataframe tbody tr th:only-of-type {\n",
       "        vertical-align: middle;\n",
       "    }\n",
       "\n",
       "    .dataframe tbody tr th {\n",
       "        vertical-align: top;\n",
       "    }\n",
       "\n",
       "    .dataframe thead th {\n",
       "        text-align: right;\n",
       "    }\n",
       "</style>\n",
       "<table border=\"1\" class=\"dataframe\">\n",
       "  <thead>\n",
       "    <tr style=\"text-align: right;\">\n",
       "      <th></th>\n",
       "      <th>order_id</th>\n",
       "      <th>user_id</th>\n",
       "      <th>line_item_id</th>\n",
       "      <th>price</th>\n",
       "      <th>quantity</th>\n",
       "      <th>discount</th>\n",
       "      <th>product_id</th>\n",
       "      <th>brand_name</th>\n",
       "      <th>master_category_id</th>\n",
       "      <th>parent_category_id</th>\n",
       "      <th>order_created_time</th>\n",
       "      <th>retailer</th>\n",
       "      <th>platform</th>\n",
       "      <th>city_name</th>\n",
       "      <th>gender</th>\n",
       "      <th>bdate</th>\n",
       "      <th>age</th>\n",
       "    </tr>\n",
       "  </thead>\n",
       "  <tbody>\n",
       "    <tr>\n",
       "      <th>282503</th>\n",
       "      <td>5531326</td>\n",
       "      <td>691783</td>\n",
       "      <td>28336408</td>\n",
       "      <td>40.000000</td>\n",
       "      <td>1</td>\n",
       "      <td>6.990000</td>\n",
       "      <td>67693</td>\n",
       "      <td>700</td>\n",
       "      <td>577</td>\n",
       "      <td>9</td>\n",
       "      <td>2019-12-31 21:29:17</td>\n",
       "      <td>4</td>\n",
       "      <td>0</td>\n",
       "      <td>71</td>\n",
       "      <td>1</td>\n",
       "      <td>1998-06-20 00:00:00</td>\n",
       "      <td>22</td>\n",
       "    </tr>\n",
       "    <tr>\n",
       "      <th>282504</th>\n",
       "      <td>5531326</td>\n",
       "      <td>691783</td>\n",
       "      <td>28336410</td>\n",
       "      <td>139.000000</td>\n",
       "      <td>1</td>\n",
       "      <td>106.000000</td>\n",
       "      <td>1536</td>\n",
       "      <td>815</td>\n",
       "      <td>582</td>\n",
       "      <td>9</td>\n",
       "      <td>2019-12-31 21:29:17</td>\n",
       "      <td>4</td>\n",
       "      <td>0</td>\n",
       "      <td>71</td>\n",
       "      <td>1</td>\n",
       "      <td>1998-06-20 00:00:00</td>\n",
       "      <td>22</td>\n",
       "    </tr>\n",
       "    <tr>\n",
       "      <th>282505</th>\n",
       "      <td>5531326</td>\n",
       "      <td>691783</td>\n",
       "      <td>28336411</td>\n",
       "      <td>49.900002</td>\n",
       "      <td>1</td>\n",
       "      <td>39.990002</td>\n",
       "      <td>57951</td>\n",
       "      <td>104</td>\n",
       "      <td>581</td>\n",
       "      <td>9</td>\n",
       "      <td>2019-12-31 21:29:17</td>\n",
       "      <td>4</td>\n",
       "      <td>0</td>\n",
       "      <td>71</td>\n",
       "      <td>1</td>\n",
       "      <td>1998-06-20 00:00:00</td>\n",
       "      <td>22</td>\n",
       "    </tr>\n",
       "  </tbody>\n",
       "</table>\n",
       "</div>"
      ],
      "text/plain": [
       "        order_id  user_id  line_item_id       price  quantity    discount  \\\n",
       "282503   5531326   691783      28336408   40.000000         1    6.990000   \n",
       "282504   5531326   691783      28336410  139.000000         1  106.000000   \n",
       "282505   5531326   691783      28336411   49.900002         1   39.990002   \n",
       "\n",
       "        product_id  brand_name  master_category_id  parent_category_id  \\\n",
       "282503       67693         700                 577                   9   \n",
       "282504        1536         815                 582                   9   \n",
       "282505       57951         104                 581                   9   \n",
       "\n",
       "        order_created_time  retailer  platform  city_name  gender  \\\n",
       "282503 2019-12-31 21:29:17         4         0         71       1   \n",
       "282504 2019-12-31 21:29:17         4         0         71       1   \n",
       "282505 2019-12-31 21:29:17         4         0         71       1   \n",
       "\n",
       "                      bdate  age  \n",
       "282503  1998-06-20 00:00:00   22  \n",
       "282504  1998-06-20 00:00:00   22  \n",
       "282505  1998-06-20 00:00:00   22  "
      ]
     },
     "execution_count": 16,
     "metadata": {},
     "output_type": "execute_result"
    }
   ],
   "source": [
    "merged_.head(3)"
   ]
  },
  {
   "cell_type": "code",
   "execution_count": 17,
   "metadata": {},
   "outputs": [],
   "source": [
    "# last_order = merged_.groupby(['user_id'])['order_created_time'].max().to_frame('order_created_time').reset_index()\n",
    "# last_order.head(3)"
   ]
  },
  {
   "cell_type": "code",
   "execution_count": 18,
   "metadata": {},
   "outputs": [],
   "source": [
    "# target = pd.merge(merged_, last_order, on=['user_id', 'order_created_time']) \n",
    "# print(len(target))\n",
    "\n",
    "# target_user_product_pos = target[['user_id', 'product_id']]\n",
    "# target_user_product_pos['target'] = 1\n",
    "# target_user_product_pos = target_user_product_pos.drop_duplicates()\n",
    "# target_user_product_pos.head(3)"
   ]
  },
  {
   "cell_type": "code",
   "execution_count": 19,
   "metadata": {},
   "outputs": [],
   "source": [
    "# # коряво\n",
    "# last_order['user_date'] = last_order['user_id'].apply(str) + last_order['order_created_time'].apply(str)\n",
    "# merged_['user_date'] = merged_['user_id'].apply(str) + merged_['order_created_time'].apply(str)\n",
    "\n",
    "# merged_ = merged_[~merged_['user_date'].isin(set(last_order['user_date']))]\n",
    "# len(merged_)"
   ]
  },
  {
   "cell_type": "code",
   "execution_count": 20,
   "metadata": {},
   "outputs": [],
   "source": [
    "del merged"
   ]
  },
  {
   "cell_type": "code",
   "execution_count": 21,
   "metadata": {},
   "outputs": [
    {
     "data": {
      "text/html": [
       "<div>\n",
       "<style scoped>\n",
       "    .dataframe tbody tr th:only-of-type {\n",
       "        vertical-align: middle;\n",
       "    }\n",
       "\n",
       "    .dataframe tbody tr th {\n",
       "        vertical-align: top;\n",
       "    }\n",
       "\n",
       "    .dataframe thead th {\n",
       "        text-align: right;\n",
       "    }\n",
       "</style>\n",
       "<table border=\"1\" class=\"dataframe\">\n",
       "  <thead>\n",
       "    <tr style=\"text-align: right;\">\n",
       "      <th></th>\n",
       "      <th>order_id</th>\n",
       "      <th>user_id</th>\n",
       "      <th>line_item_id</th>\n",
       "      <th>price</th>\n",
       "      <th>quantity</th>\n",
       "      <th>discount</th>\n",
       "      <th>product_id</th>\n",
       "      <th>brand_name</th>\n",
       "      <th>master_category_id</th>\n",
       "      <th>parent_category_id</th>\n",
       "      <th>order_created_time</th>\n",
       "      <th>retailer</th>\n",
       "      <th>platform</th>\n",
       "      <th>city_name</th>\n",
       "      <th>gender</th>\n",
       "      <th>bdate</th>\n",
       "      <th>age</th>\n",
       "    </tr>\n",
       "  </thead>\n",
       "  <tbody>\n",
       "    <tr>\n",
       "      <th>282503</th>\n",
       "      <td>5531326</td>\n",
       "      <td>691783</td>\n",
       "      <td>28336408</td>\n",
       "      <td>40.000000</td>\n",
       "      <td>1</td>\n",
       "      <td>6.990000</td>\n",
       "      <td>67693</td>\n",
       "      <td>700</td>\n",
       "      <td>577</td>\n",
       "      <td>9</td>\n",
       "      <td>2019-12-31 21:29:17</td>\n",
       "      <td>4</td>\n",
       "      <td>0</td>\n",
       "      <td>71</td>\n",
       "      <td>1</td>\n",
       "      <td>1998-06-20 00:00:00</td>\n",
       "      <td>22</td>\n",
       "    </tr>\n",
       "    <tr>\n",
       "      <th>282504</th>\n",
       "      <td>5531326</td>\n",
       "      <td>691783</td>\n",
       "      <td>28336410</td>\n",
       "      <td>139.000000</td>\n",
       "      <td>1</td>\n",
       "      <td>106.000000</td>\n",
       "      <td>1536</td>\n",
       "      <td>815</td>\n",
       "      <td>582</td>\n",
       "      <td>9</td>\n",
       "      <td>2019-12-31 21:29:17</td>\n",
       "      <td>4</td>\n",
       "      <td>0</td>\n",
       "      <td>71</td>\n",
       "      <td>1</td>\n",
       "      <td>1998-06-20 00:00:00</td>\n",
       "      <td>22</td>\n",
       "    </tr>\n",
       "    <tr>\n",
       "      <th>282505</th>\n",
       "      <td>5531326</td>\n",
       "      <td>691783</td>\n",
       "      <td>28336411</td>\n",
       "      <td>49.900002</td>\n",
       "      <td>1</td>\n",
       "      <td>39.990002</td>\n",
       "      <td>57951</td>\n",
       "      <td>104</td>\n",
       "      <td>581</td>\n",
       "      <td>9</td>\n",
       "      <td>2019-12-31 21:29:17</td>\n",
       "      <td>4</td>\n",
       "      <td>0</td>\n",
       "      <td>71</td>\n",
       "      <td>1</td>\n",
       "      <td>1998-06-20 00:00:00</td>\n",
       "      <td>22</td>\n",
       "    </tr>\n",
       "  </tbody>\n",
       "</table>\n",
       "</div>"
      ],
      "text/plain": [
       "        order_id  user_id  line_item_id       price  quantity    discount  \\\n",
       "282503   5531326   691783      28336408   40.000000         1    6.990000   \n",
       "282504   5531326   691783      28336410  139.000000         1  106.000000   \n",
       "282505   5531326   691783      28336411   49.900002         1   39.990002   \n",
       "\n",
       "        product_id  brand_name  master_category_id  parent_category_id  \\\n",
       "282503       67693         700                 577                   9   \n",
       "282504        1536         815                 582                   9   \n",
       "282505       57951         104                 581                   9   \n",
       "\n",
       "        order_created_time  retailer  platform  city_name  gender  \\\n",
       "282503 2019-12-31 21:29:17         4         0         71       1   \n",
       "282504 2019-12-31 21:29:17         4         0         71       1   \n",
       "282505 2019-12-31 21:29:17         4         0         71       1   \n",
       "\n",
       "                      bdate  age  \n",
       "282503  1998-06-20 00:00:00   22  \n",
       "282504  1998-06-20 00:00:00   22  \n",
       "282505  1998-06-20 00:00:00   22  "
      ]
     },
     "execution_count": 21,
     "metadata": {},
     "output_type": "execute_result"
    }
   ],
   "source": [
    "merged_.head(3)"
   ]
  },
  {
   "cell_type": "code",
   "execution_count": 22,
   "metadata": {},
   "outputs": [
    {
     "data": {
      "text/html": [
       "<div>\n",
       "<style scoped>\n",
       "    .dataframe tbody tr th:only-of-type {\n",
       "        vertical-align: middle;\n",
       "    }\n",
       "\n",
       "    .dataframe tbody tr th {\n",
       "        vertical-align: top;\n",
       "    }\n",
       "\n",
       "    .dataframe thead th {\n",
       "        text-align: right;\n",
       "    }\n",
       "</style>\n",
       "<table border=\"1\" class=\"dataframe\">\n",
       "  <thead>\n",
       "    <tr style=\"text-align: right;\">\n",
       "      <th></th>\n",
       "      <th>user_id</th>\n",
       "      <th>product_id</th>\n",
       "      <th>master_category_id</th>\n",
       "      <th>parent_category_id</th>\n",
       "      <th>product_count</th>\n",
       "      <th>avg_discount</th>\n",
       "      <th>max_discount</th>\n",
       "      <th>min_discount</th>\n",
       "      <th>avg_price</th>\n",
       "      <th>max_price</th>\n",
       "      <th>min_price</th>\n",
       "    </tr>\n",
       "  </thead>\n",
       "  <tbody>\n",
       "    <tr>\n",
       "      <th>0</th>\n",
       "      <td>400</td>\n",
       "      <td>41</td>\n",
       "      <td>85</td>\n",
       "      <td>84</td>\n",
       "      <td>1</td>\n",
       "      <td>0.000</td>\n",
       "      <td>0.00</td>\n",
       "      <td>0.0</td>\n",
       "      <td>59.000000</td>\n",
       "      <td>59.000000</td>\n",
       "      <td>59.000000</td>\n",
       "    </tr>\n",
       "    <tr>\n",
       "      <th>1</th>\n",
       "      <td>400</td>\n",
       "      <td>177</td>\n",
       "      <td>26</td>\n",
       "      <td>20</td>\n",
       "      <td>2</td>\n",
       "      <td>9.995</td>\n",
       "      <td>19.99</td>\n",
       "      <td>0.0</td>\n",
       "      <td>64.895004</td>\n",
       "      <td>74.889999</td>\n",
       "      <td>54.900002</td>\n",
       "    </tr>\n",
       "    <tr>\n",
       "      <th>2</th>\n",
       "      <td>400</td>\n",
       "      <td>397</td>\n",
       "      <td>38</td>\n",
       "      <td>35</td>\n",
       "      <td>1</td>\n",
       "      <td>139.000</td>\n",
       "      <td>139.00</td>\n",
       "      <td>139.0</td>\n",
       "      <td>265.000000</td>\n",
       "      <td>265.000000</td>\n",
       "      <td>265.000000</td>\n",
       "    </tr>\n",
       "  </tbody>\n",
       "</table>\n",
       "</div>"
      ],
      "text/plain": [
       "   user_id  product_id  master_category_id  parent_category_id  product_count  \\\n",
       "0      400          41                  85                  84              1   \n",
       "1      400         177                  26                  20              2   \n",
       "2      400         397                  38                  35              1   \n",
       "\n",
       "   avg_discount  max_discount  min_discount   avg_price   max_price  \\\n",
       "0         0.000          0.00           0.0   59.000000   59.000000   \n",
       "1         9.995         19.99           0.0   64.895004   74.889999   \n",
       "2       139.000        139.00         139.0  265.000000  265.000000   \n",
       "\n",
       "    min_price  \n",
       "0   59.000000  \n",
       "1   54.900002  \n",
       "2  265.000000  "
      ]
     },
     "execution_count": 22,
     "metadata": {},
     "output_type": "execute_result"
    }
   ],
   "source": [
    "features = merged_.groupby(['user_id', 'product_id', 'master_category_id', \n",
    "                            'parent_category_id']).agg(\n",
    "    product_count=pd.NamedAgg(column='order_created_time', aggfunc='count'),\n",
    "    avg_discount=pd.NamedAgg(column='discount', aggfunc='mean'),\n",
    "    max_discount=pd.NamedAgg(column='discount', aggfunc='max'),\n",
    "    min_discount=pd.NamedAgg(column='discount', aggfunc='min'),\n",
    "    avg_price=pd.NamedAgg(column='price', aggfunc='mean'),\n",
    "    max_price=pd.NamedAgg(column='price', aggfunc='max'),\n",
    "    min_price=pd.NamedAgg(column='price', aggfunc='min'),\n",
    "#     max_date=pd.NamedAgg(column='order_created_time', aggfunc='max')\n",
    ").reset_index()\n",
    "            \n",
    "features.head(3)"
   ]
  },
  {
   "cell_type": "code",
   "execution_count": 23,
   "metadata": {},
   "outputs": [],
   "source": [
    "features.to_csv('features.csv', header=True, index=False)"
   ]
  },
  {
   "cell_type": "code",
   "execution_count": null,
   "metadata": {},
   "outputs": [],
   "source": []
  }
 ],
 "metadata": {
  "accelerator": "GPU",
  "colab": {
   "collapsed_sections": [],
   "name": "CatBoost.ipynb",
   "provenance": []
  },
  "kernelspec": {
   "display_name": "Python 3",
   "language": "python",
   "name": "python3"
  },
  "language_info": {
   "codemirror_mode": {
    "name": "ipython",
    "version": 3
   },
   "file_extension": ".py",
   "mimetype": "text/x-python",
   "name": "python",
   "nbconvert_exporter": "python",
   "pygments_lexer": "ipython3",
   "version": "3.8.3"
  },
  "widgets": {
   "application/vnd.jupyter.widget-state+json": {
    "4acc08f71c13453cad15db7a6c503353": {
     "model_module": "@jupyter-widgets/base",
     "model_name": "DOMWidgetModel",
     "state": {
      "_dom_classes": [],
      "_model_module": "@jupyter-widgets/base",
      "_model_module_version": "1.2.0",
      "_model_name": "DOMWidgetModel",
      "_view_count": null,
      "_view_module": "catboost_module",
      "_view_module_version": "",
      "_view_name": "CatboostIpythonWidgetView",
      "data": {
       "catboost_info": {
        "content": {
         "data": {
          "iterations": [
           {
            "iteration": 0,
            "passed_time": 0.4098448371,
            "remaining_time": 20.08239702
           },
           {
            "iteration": 1,
            "passed_time": 0.6958574784,
            "remaining_time": 16.70057948
           },
           {
            "iteration": 2,
            "passed_time": 0.9791317181,
            "remaining_time": 15.33973025
           },
           {
            "iteration": 3,
            "passed_time": 1.266914746,
            "remaining_time": 14.56951958
           },
           {
            "iteration": 4,
            "passed_time": 1.554761966,
            "remaining_time": 13.9928577
           },
           {
            "iteration": 5,
            "passed_time": 1.839716878,
            "remaining_time": 13.4912571
           },
           {
            "iteration": 6,
            "passed_time": 2.137431011,
            "remaining_time": 13.12993335
           },
           {
            "iteration": 7,
            "passed_time": 2.426358063,
            "remaining_time": 12.73837983
           },
           {
            "iteration": 8,
            "passed_time": 2.716806822,
            "remaining_time": 12.37656441
           },
           {
            "iteration": 9,
            "passed_time": 3.011345029,
            "remaining_time": 12.04538012
           },
           {
            "iteration": 10,
            "passed_time": 3.297762972,
            "remaining_time": 11.69206872
           },
           {
            "iteration": 11,
            "passed_time": 3.586183119,
            "remaining_time": 11.35624654
           },
           {
            "iteration": 12,
            "passed_time": 3.872505995,
            "remaining_time": 11.02174783
           },
           {
            "iteration": 13,
            "passed_time": 4.174939575,
            "remaining_time": 10.73555891
           },
           {
            "iteration": 14,
            "passed_time": 4.463745942,
            "remaining_time": 10.4154072
           },
           {
            "iteration": 15,
            "passed_time": 4.760168656,
            "remaining_time": 10.11535839
           },
           {
            "iteration": 16,
            "passed_time": 5.048443569,
            "remaining_time": 9.799919869
           },
           {
            "iteration": 17,
            "passed_time": 5.335668599,
            "remaining_time": 9.485633065
           },
           {
            "iteration": 18,
            "passed_time": 5.62312141,
            "remaining_time": 9.17456651
           },
           {
            "iteration": 19,
            "passed_time": 5.91355957,
            "remaining_time": 8.870339355
           },
           {
            "iteration": 20,
            "passed_time": 6.209026204,
            "remaining_time": 8.57436952
           },
           {
            "iteration": 21,
            "passed_time": 6.498560977,
            "remaining_time": 8.270895789
           },
           {
            "iteration": 22,
            "passed_time": 6.798469985,
            "remaining_time": 7.980812591
           },
           {
            "iteration": 23,
            "passed_time": 7.087108289,
            "remaining_time": 7.677700646
           },
           {
            "iteration": 24,
            "passed_time": 7.375109406,
            "remaining_time": 7.375109406
           },
           {
            "iteration": 25,
            "passed_time": 7.664657789,
            "remaining_time": 7.075068728
           },
           {
            "iteration": 26,
            "passed_time": 7.953892634,
            "remaining_time": 6.77553817
           },
           {
            "iteration": 27,
            "passed_time": 8.244325191,
            "remaining_time": 6.477684078
           },
           {
            "iteration": 28,
            "passed_time": 8.534023978,
            "remaining_time": 6.179810467
           },
           {
            "iteration": 29,
            "passed_time": 8.832358437,
            "remaining_time": 5.888238958
           },
           {
            "iteration": 30,
            "passed_time": 9.118486689,
            "remaining_time": 5.588749906
           },
           {
            "iteration": 31,
            "passed_time": 9.407537468,
            "remaining_time": 5.291739826
           },
           {
            "iteration": 32,
            "passed_time": 9.698846435,
            "remaining_time": 4.996375436
           },
           {
            "iteration": 33,
            "passed_time": 9.987653101,
            "remaining_time": 4.700072048
           },
           {
            "iteration": 34,
            "passed_time": 10.28094079,
            "remaining_time": 4.406117481
           },
           {
            "iteration": 35,
            "passed_time": 10.5710685,
            "remaining_time": 4.110971082
           },
           {
            "iteration": 36,
            "passed_time": 10.87127591,
            "remaining_time": 3.819637482
           },
           {
            "iteration": 37,
            "passed_time": 11.15919382,
            "remaining_time": 3.523955944
           },
           {
            "iteration": 38,
            "passed_time": 11.45083005,
            "remaining_time": 3.229721296
           },
           {
            "iteration": 39,
            "passed_time": 11.74345554,
            "remaining_time": 2.935863884
           },
           {
            "iteration": 40,
            "passed_time": 12.04105734,
            "remaining_time": 2.643158929
           },
           {
            "iteration": 41,
            "passed_time": 12.33609132,
            "remaining_time": 2.349731679
           },
           {
            "iteration": 42,
            "passed_time": 12.62967557,
            "remaining_time": 2.055993697
           },
           {
            "iteration": 43,
            "passed_time": 12.92046452,
            "remaining_time": 1.761881525
           },
           {
            "iteration": 44,
            "passed_time": 13.2082722,
            "remaining_time": 1.4675858
           },
           {
            "iteration": 45,
            "passed_time": 13.49979271,
            "remaining_time": 1.173895018
           },
           {
            "iteration": 46,
            "passed_time": 13.79191665,
            "remaining_time": 0.8803351051
           },
           {
            "iteration": 47,
            "passed_time": 14.09088822,
            "remaining_time": 0.5871203424
           },
           {
            "iteration": 48,
            "passed_time": 14.38736252,
            "remaining_time": 0.2936196432
           },
           {
            "iteration": 49,
            "passed_time": 14.6780318,
            "remaining_time": 0
           }
          ],
          "meta": {
           "iteration_count": 50,
           "launch_mode": "Train",
           "learn_metrics": [],
           "learn_sets": [
            "learn"
           ],
           "name": "experiment",
           "parameters": "",
           "test_metrics": [],
           "test_sets": []
          }
         },
         "passed_iterations": 49,
         "total_iterations": 50
        },
        "name": "catboost_info",
        "path": "catboost_info"
       }
      },
      "layout": "IPY_MODEL_c39d05c715cf4a7e90bb6ef05e4b0b94"
     }
    },
    "c39d05c715cf4a7e90bb6ef05e4b0b94": {
     "model_module": "@jupyter-widgets/base",
     "model_name": "LayoutModel",
     "state": {
      "_model_module": "@jupyter-widgets/base",
      "_model_module_version": "1.2.0",
      "_model_name": "LayoutModel",
      "_view_count": null,
      "_view_module": "@jupyter-widgets/base",
      "_view_module_version": "1.2.0",
      "_view_name": "LayoutView",
      "align_content": null,
      "align_items": null,
      "align_self": "stretch",
      "border": null,
      "bottom": null,
      "display": null,
      "flex": null,
      "flex_flow": null,
      "grid_area": null,
      "grid_auto_columns": null,
      "grid_auto_flow": null,
      "grid_auto_rows": null,
      "grid_column": null,
      "grid_gap": null,
      "grid_row": null,
      "grid_template_areas": null,
      "grid_template_columns": null,
      "grid_template_rows": null,
      "height": "500px",
      "justify_content": null,
      "justify_items": null,
      "left": null,
      "margin": null,
      "max_height": null,
      "max_width": null,
      "min_height": null,
      "min_width": null,
      "object_fit": null,
      "object_position": null,
      "order": null,
      "overflow": null,
      "overflow_x": null,
      "overflow_y": null,
      "padding": null,
      "right": null,
      "top": null,
      "visibility": null,
      "width": null
     }
    }
   }
  }
 },
 "nbformat": 4,
 "nbformat_minor": 1
}
