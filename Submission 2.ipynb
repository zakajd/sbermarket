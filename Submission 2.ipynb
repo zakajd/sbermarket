{
 "cells": [
  {
   "cell_type": "code",
   "execution_count": 34,
   "metadata": {},
   "outputs": [],
   "source": [
    "import pandas as pd\n",
    "import matplotlib.pyplot as plt"
   ]
  },
  {
   "cell_type": "markdown",
   "metadata": {},
   "source": [
    "### User id"
   ]
  },
  {
   "cell_type": "code",
   "execution_count": 9,
   "metadata": {},
   "outputs": [
    {
     "data": {
      "text/html": [
       "<div>\n",
       "<style scoped>\n",
       "    .dataframe tbody tr th:only-of-type {\n",
       "        vertical-align: middle;\n",
       "    }\n",
       "\n",
       "    .dataframe tbody tr th {\n",
       "        vertical-align: top;\n",
       "    }\n",
       "\n",
       "    .dataframe thead th {\n",
       "        text-align: right;\n",
       "    }\n",
       "</style>\n",
       "<table border=\"1\" class=\"dataframe\">\n",
       "  <thead>\n",
       "    <tr style=\"text-align: right;\">\n",
       "      <th></th>\n",
       "      <th>Id</th>\n",
       "      <th>Predicted</th>\n",
       "    </tr>\n",
       "  </thead>\n",
       "  <tbody>\n",
       "    <tr>\n",
       "      <th>0</th>\n",
       "      <td>51</td>\n",
       "      <td>3239211 10720024 8493844 1965540 5009002 95218...</td>\n",
       "    </tr>\n",
       "    <tr>\n",
       "      <th>1</th>\n",
       "      <td>65</td>\n",
       "      <td>11693356 13392267 2464515 2245175 4748570 1134...</td>\n",
       "    </tr>\n",
       "    <tr>\n",
       "      <th>2</th>\n",
       "      <td>766</td>\n",
       "      <td>12773054 3692749 12726751 10041624 11893515 23...</td>\n",
       "    </tr>\n",
       "  </tbody>\n",
       "</table>\n",
       "</div>"
      ],
      "text/plain": [
       "    Id                                          Predicted\n",
       "0   51  3239211 10720024 8493844 1965540 5009002 95218...\n",
       "1   65  11693356 13392267 2464515 2245175 4748570 1134...\n",
       "2  766  12773054 3692749 12726751 10041624 11893515 23..."
      ]
     },
     "execution_count": 9,
     "metadata": {},
     "output_type": "execute_result"
    }
   ],
   "source": [
    "sample_submission = pd.read_csv('data/test-recsys/sample_submission.csv')\n",
    "sample_submission.head(3)"
   ]
  },
  {
   "cell_type": "code",
   "execution_count": 19,
   "metadata": {},
   "outputs": [
    {
     "data": {
      "text/plain": [
       "107068"
      ]
     },
     "execution_count": 19,
     "metadata": {},
     "output_type": "execute_result"
    }
   ],
   "source": [
    "test_user_ids = sample_submission['Id']\n",
    "UNQ_test_user_ids = set(test_user_ids)\n",
    "len(test_user_ids)"
   ]
  },
  {
   "cell_type": "code",
   "execution_count": 20,
   "metadata": {},
   "outputs": [
    {
     "data": {
      "text/plain": [
       "107068"
      ]
     },
     "execution_count": 20,
     "metadata": {},
     "output_type": "execute_result"
    }
   ],
   "source": [
    "len(UNQ_test_user_ids)"
   ]
  },
  {
   "cell_type": "code",
   "execution_count": 99,
   "metadata": {},
   "outputs": [
    {
     "data": {
      "text/html": [
       "<div>\n",
       "<style scoped>\n",
       "    .dataframe tbody tr th:only-of-type {\n",
       "        vertical-align: middle;\n",
       "    }\n",
       "\n",
       "    .dataframe tbody tr th {\n",
       "        vertical-align: top;\n",
       "    }\n",
       "\n",
       "    .dataframe thead th {\n",
       "        text-align: right;\n",
       "    }\n",
       "</style>\n",
       "<table border=\"1\" class=\"dataframe\">\n",
       "  <thead>\n",
       "    <tr style=\"text-align: right;\">\n",
       "      <th></th>\n",
       "      <th>user_id</th>\n",
       "      <th>order_id</th>\n",
       "      <th>order_created_time</th>\n",
       "      <th>retailer</th>\n",
       "      <th>store_id</th>\n",
       "      <th>platform</th>\n",
       "    </tr>\n",
       "  </thead>\n",
       "  <tbody>\n",
       "    <tr>\n",
       "      <th>0</th>\n",
       "      <td>72</td>\n",
       "      <td>17431000</td>\n",
       "      <td>2020-09-26 10:48:57</td>\n",
       "      <td>METRO</td>\n",
       "      <td>21</td>\n",
       "      <td>app</td>\n",
       "    </tr>\n",
       "    <tr>\n",
       "      <th>1</th>\n",
       "      <td>83</td>\n",
       "      <td>9718154</td>\n",
       "      <td>2020-05-08 09:46:18</td>\n",
       "      <td>METRO</td>\n",
       "      <td>87</td>\n",
       "      <td>web</td>\n",
       "    </tr>\n",
       "    <tr>\n",
       "      <th>2</th>\n",
       "      <td>142</td>\n",
       "      <td>10056850</td>\n",
       "      <td>2020-05-14 15:06:03</td>\n",
       "      <td>METRO</td>\n",
       "      <td>320</td>\n",
       "      <td>app</td>\n",
       "    </tr>\n",
       "  </tbody>\n",
       "</table>\n",
       "</div>"
      ],
      "text/plain": [
       "   user_id  order_id   order_created_time retailer  store_id platform\n",
       "0       72  17431000  2020-09-26 10:48:57    METRO        21      app\n",
       "1       83   9718154  2020-05-08 09:46:18    METRO        87      web\n",
       "2      142  10056850  2020-05-14 15:06:03    METRO       320      app"
      ]
     },
     "execution_count": 99,
     "metadata": {},
     "output_type": "execute_result"
    }
   ],
   "source": [
    "tab_1_orders = pd.read_csv('data/test-recsys/kaggle_tab_1345/tab_1_orders.csv')\n",
    "tab_1_orders.head(3)"
   ]
  },
  {
   "cell_type": "code",
   "execution_count": 100,
   "metadata": {},
   "outputs": [
    {
     "data": {
      "text/plain": [
       "2461958"
      ]
     },
     "execution_count": 100,
     "metadata": {},
     "output_type": "execute_result"
    }
   ],
   "source": [
    "len(tab_1_orders)"
   ]
  },
  {
   "cell_type": "code",
   "execution_count": 101,
   "metadata": {},
   "outputs": [
    {
     "data": {
      "text/plain": [
       "753572"
      ]
     },
     "execution_count": 101,
     "metadata": {},
     "output_type": "execute_result"
    }
   ],
   "source": [
    "data_user_ids = tab_1_orders['user_id']\n",
    "UNQ_data_user_ids = set(data_user_ids)\n",
    "len(UNQ_data_user_ids)"
   ]
  },
  {
   "cell_type": "code",
   "execution_count": 21,
   "metadata": {},
   "outputs": [
    {
     "data": {
      "text/plain": [
       "False"
      ]
     },
     "execution_count": 21,
     "metadata": {},
     "output_type": "execute_result"
    }
   ],
   "source": [
    "UNQ_test_user_ids.issubset(UNQ_data_user_ids) "
   ]
  },
  {
   "cell_type": "code",
   "execution_count": 102,
   "metadata": {
    "scrolled": true
   },
   "outputs": [
    {
     "data": {
      "text/plain": [
       "104238"
      ]
     },
     "execution_count": 102,
     "metadata": {},
     "output_type": "execute_result"
    }
   ],
   "source": [
    "intersect_user_ids = UNQ_test_user_ids.intersection(UNQ_data_user_ids)\n",
    "len(intersect_user_ids)"
   ]
  },
  {
   "cell_type": "markdown",
   "metadata": {},
   "source": [
    "### Users"
   ]
  },
  {
   "cell_type": "code",
   "execution_count": 96,
   "metadata": {},
   "outputs": [
    {
     "data": {
      "text/html": [
       "<div>\n",
       "<style scoped>\n",
       "    .dataframe tbody tr th:only-of-type {\n",
       "        vertical-align: middle;\n",
       "    }\n",
       "\n",
       "    .dataframe tbody tr th {\n",
       "        vertical-align: top;\n",
       "    }\n",
       "\n",
       "    .dataframe thead th {\n",
       "        text-align: right;\n",
       "    }\n",
       "</style>\n",
       "<table border=\"1\" class=\"dataframe\">\n",
       "  <thead>\n",
       "    <tr style=\"text-align: right;\">\n",
       "      <th></th>\n",
       "      <th>user_id</th>\n",
       "      <th>gender</th>\n",
       "      <th>bdate</th>\n",
       "    </tr>\n",
       "  </thead>\n",
       "  <tbody>\n",
       "    <tr>\n",
       "      <th>0</th>\n",
       "      <td>2224890</td>\n",
       "      <td>NaN</td>\n",
       "      <td>NaN</td>\n",
       "    </tr>\n",
       "    <tr>\n",
       "      <th>1</th>\n",
       "      <td>1683001</td>\n",
       "      <td>male</td>\n",
       "      <td>1987-10-11</td>\n",
       "    </tr>\n",
       "    <tr>\n",
       "      <th>2</th>\n",
       "      <td>2102480</td>\n",
       "      <td>NaN</td>\n",
       "      <td>NaN</td>\n",
       "    </tr>\n",
       "  </tbody>\n",
       "</table>\n",
       "</div>"
      ],
      "text/plain": [
       "   user_id gender       bdate\n",
       "0  2224890    NaN         NaN\n",
       "1  1683001   male  1987-10-11\n",
       "2  2102480    NaN         NaN"
      ]
     },
     "execution_count": 96,
     "metadata": {},
     "output_type": "execute_result"
    }
   ],
   "source": [
    "users = pd.read_csv('data/test-recsys/kaggle_tab_1345/tab_4_user_profiles.csv')\n",
    "users.head(3)"
   ]
  },
  {
   "cell_type": "code",
   "execution_count": 98,
   "metadata": {},
   "outputs": [
    {
     "data": {
      "text/plain": [
       "436927"
      ]
     },
     "execution_count": 98,
     "metadata": {},
     "output_type": "execute_result"
    }
   ],
   "source": [
    "UNQ_users = set(users['user_id'])\n",
    "len(UNQ_users)"
   ]
  },
  {
   "cell_type": "code",
   "execution_count": 105,
   "metadata": {},
   "outputs": [
    {
     "data": {
      "text/plain": [
       "117786"
      ]
     },
     "execution_count": 105,
     "metadata": {},
     "output_type": "execute_result"
    }
   ],
   "source": [
    "inter_data_users = UNQ_users.intersection(UNQ_data_user_ids)\n",
    "len(inter_data_users)"
   ]
  },
  {
   "cell_type": "code",
   "execution_count": null,
   "metadata": {},
   "outputs": [],
   "source": []
  },
  {
   "cell_type": "markdown",
   "metadata": {},
   "source": [
    "### Product id"
   ]
  },
  {
   "cell_type": "code",
   "execution_count": 24,
   "metadata": {},
   "outputs": [
    {
     "data": {
      "text/html": [
       "<div>\n",
       "<style scoped>\n",
       "    .dataframe tbody tr th:only-of-type {\n",
       "        vertical-align: middle;\n",
       "    }\n",
       "\n",
       "    .dataframe tbody tr th {\n",
       "        vertical-align: top;\n",
       "    }\n",
       "\n",
       "    .dataframe thead th {\n",
       "        text-align: right;\n",
       "    }\n",
       "</style>\n",
       "<table border=\"1\" class=\"dataframe\">\n",
       "  <thead>\n",
       "    <tr style=\"text-align: right;\">\n",
       "      <th></th>\n",
       "      <th>product_id</th>\n",
       "      <th>property_name</th>\n",
       "      <th>property_value</th>\n",
       "    </tr>\n",
       "  </thead>\n",
       "  <tbody>\n",
       "    <tr>\n",
       "      <th>0</th>\n",
       "      <td>1</td>\n",
       "      <td>Вес</td>\n",
       "      <td>100 г</td>\n",
       "    </tr>\n",
       "    <tr>\n",
       "      <th>1</th>\n",
       "      <td>2</td>\n",
       "      <td>Вид</td>\n",
       "      <td>Молочный напиток</td>\n",
       "    </tr>\n",
       "    <tr>\n",
       "      <th>2</th>\n",
       "      <td>2</td>\n",
       "      <td>Вес</td>\n",
       "      <td>100 г</td>\n",
       "    </tr>\n",
       "  </tbody>\n",
       "</table>\n",
       "</div>"
      ],
      "text/plain": [
       "   product_id property_name    property_value\n",
       "0           1           Вес             100 г\n",
       "1           2           Вид  Молочный напиток\n",
       "2           2           Вес             100 г"
      ]
     },
     "execution_count": 24,
     "metadata": {},
     "output_type": "execute_result"
    }
   ],
   "source": [
    "tab_5_products = pd.read_csv('data/test-recsys/kaggle_tab_1345/tab_5_product_properties.csv')\n",
    "tab_5_products.head(3)"
   ]
  },
  {
   "cell_type": "code",
   "execution_count": 25,
   "metadata": {},
   "outputs": [
    {
     "data": {
      "text/plain": [
       "686344"
      ]
     },
     "execution_count": 25,
     "metadata": {},
     "output_type": "execute_result"
    }
   ],
   "source": [
    "product_ids = set(tab_5_products['product_id'])\n",
    "len(product_ids)"
   ]
  },
  {
   "cell_type": "markdown",
   "metadata": {},
   "source": [
    "### Distributions"
   ]
  },
  {
   "cell_type": "code",
   "execution_count": 27,
   "metadata": {},
   "outputs": [
    {
     "data": {
      "text/plain": [
       "('2019-12-31 21:29:17', '2020-10-01 20:59:11')"
      ]
     },
     "execution_count": 27,
     "metadata": {},
     "output_type": "execute_result"
    }
   ],
   "source": [
    "min(tab_1_orders['order_created_time']), max(tab_1_orders['order_created_time'])"
   ]
  },
  {
   "cell_type": "code",
   "execution_count": 33,
   "metadata": {},
   "outputs": [
    {
     "data": {
      "text/html": [
       "<div>\n",
       "<style scoped>\n",
       "    .dataframe tbody tr th:only-of-type {\n",
       "        vertical-align: middle;\n",
       "    }\n",
       "\n",
       "    .dataframe tbody tr th {\n",
       "        vertical-align: top;\n",
       "    }\n",
       "\n",
       "    .dataframe thead th {\n",
       "        text-align: right;\n",
       "    }\n",
       "</style>\n",
       "<table border=\"1\" class=\"dataframe\">\n",
       "  <thead>\n",
       "    <tr style=\"text-align: right;\">\n",
       "      <th></th>\n",
       "      <th>user_id</th>\n",
       "      <th>order_id</th>\n",
       "      <th>order_created_time</th>\n",
       "      <th>retailer</th>\n",
       "      <th>store_id</th>\n",
       "      <th>platform</th>\n",
       "      <th>year</th>\n",
       "      <th>month</th>\n",
       "      <th>year_month</th>\n",
       "    </tr>\n",
       "  </thead>\n",
       "  <tbody>\n",
       "    <tr>\n",
       "      <th>0</th>\n",
       "      <td>72</td>\n",
       "      <td>17431000</td>\n",
       "      <td>2020-09-26 10:48:57</td>\n",
       "      <td>METRO</td>\n",
       "      <td>21</td>\n",
       "      <td>app</td>\n",
       "      <td>2020</td>\n",
       "      <td>09</td>\n",
       "      <td>2020_09</td>\n",
       "    </tr>\n",
       "    <tr>\n",
       "      <th>1</th>\n",
       "      <td>83</td>\n",
       "      <td>9718154</td>\n",
       "      <td>2020-05-08 09:46:18</td>\n",
       "      <td>METRO</td>\n",
       "      <td>87</td>\n",
       "      <td>web</td>\n",
       "      <td>2020</td>\n",
       "      <td>05</td>\n",
       "      <td>2020_05</td>\n",
       "    </tr>\n",
       "    <tr>\n",
       "      <th>2</th>\n",
       "      <td>142</td>\n",
       "      <td>10056850</td>\n",
       "      <td>2020-05-14 15:06:03</td>\n",
       "      <td>METRO</td>\n",
       "      <td>320</td>\n",
       "      <td>app</td>\n",
       "      <td>2020</td>\n",
       "      <td>05</td>\n",
       "      <td>2020_05</td>\n",
       "    </tr>\n",
       "  </tbody>\n",
       "</table>\n",
       "</div>"
      ],
      "text/plain": [
       "   user_id  order_id   order_created_time retailer  store_id platform  year  \\\n",
       "0       72  17431000  2020-09-26 10:48:57    METRO        21      app  2020   \n",
       "1       83   9718154  2020-05-08 09:46:18    METRO        87      web  2020   \n",
       "2      142  10056850  2020-05-14 15:06:03    METRO       320      app  2020   \n",
       "\n",
       "  month year_month  \n",
       "0    09    2020_09  \n",
       "1    05    2020_05  \n",
       "2    05    2020_05  "
      ]
     },
     "execution_count": 33,
     "metadata": {},
     "output_type": "execute_result"
    }
   ],
   "source": [
    "tab_1_orders['year'] = tab_1_orders['order_created_time'].apply(lambda x: x[:4])\n",
    "tab_1_orders['month'] = tab_1_orders['order_created_time'].apply(lambda x: x[5:7])\n",
    "tab_1_orders['year_month'] = tab_1_orders['year'] + '_' + tab_1_orders['month']\n",
    "tab_1_orders.head(3)"
   ]
  },
  {
   "cell_type": "code",
   "execution_count": 85,
   "metadata": {
    "scrolled": true
   },
   "outputs": [],
   "source": [
    "year_month_counts = tab_1_orders['year_month'].value_counts()\n",
    "year_month = ['2019_12', '2020_01', '2020_02', '2020_03', '2020_04', '2020_05', '2020_06', \n",
    "              '2020_07', '2020_08', '2020_09', '2020_10']\n",
    "counts = [year_month_counts[date] for date in year_month]"
   ]
  },
  {
   "cell_type": "code",
   "execution_count": 89,
   "metadata": {},
   "outputs": [
    {
     "data": {
      "image/png": "[encoded data removed]",
      "text/plain": [
       "<Figure size 792x432 with 1 Axes>"
      ]
     },
     "metadata": {
      "needs_background": "light"
     },
     "output_type": "display_data"
    }
   ],
   "source": [
    "plt.figure(figsize=(11, 6))\n",
    "plt.plot(year_month, counts)\n",
    "plt.show()"
   ]
  },
  {
   "cell_type": "markdown",
   "metadata": {},
   "source": [
    "### Сколько заказов на человека"
   ]
  },
  {
   "cell_type": "code",
   "execution_count": 92,
   "metadata": {},
   "outputs": [
    {
     "data": {
      "text/plain": [
       "344968     205\n",
       "224747     196\n",
       "300421     185\n",
       "958080     152\n",
       "351997     144\n",
       "          ... \n",
       "2558050      1\n",
       "2570340      1\n",
       "2566246      1\n",
       "2582638      1\n",
       "3357287      1\n",
       "Name: user_id, Length: 753572, dtype: int64"
      ]
     },
     "execution_count": 92,
     "metadata": {},
     "output_type": "execute_result"
    }
   ],
   "source": [
    "tab_1_orders['user_id'].value_counts()"
   ]
  },
  {
   "cell_type": "code",
   "execution_count": 95,
   "metadata": {},
   "outputs": [
    {
     "data": {
      "text/plain": [
       "True"
      ]
     },
     "execution_count": 95,
     "metadata": {},
     "output_type": "execute_result"
    }
   ],
   "source": [
    "344968 in UNQ_test_user_ids"
   ]
  },
  {
   "cell_type": "code",
   "execution_count": null,
   "metadata": {},
   "outputs": [],
   "source": []
  },
  {
   "cell_type": "code",
   "execution_count": 107,
   "metadata": {},
   "outputs": [],
   "source": [
    "import tqdm\n",
    "import fnmatch\n",
    "import os"
   ]
  },
  {
   "cell_type": "code",
   "execution_count": 114,
   "metadata": {},
   "outputs": [
    {
     "name": "stderr",
     "output_type": "stream",
     "text": [
      "\"ls\" не является внутренней или внешней\n",
      "командой, исполняемой программой или пакетным файлом.\n"
     ]
    }
   ],
   "source": [
    "!ls"
   ]
  },
  {
   "cell_type": "code",
   "execution_count": 117,
   "metadata": {},
   "outputs": [
    {
     "name": "stderr",
     "output_type": "stream",
     "text": [
      "\r",
      "  0%|          | 0/10 [00:00<?, ?it/s]"
     ]
    },
    {
     "name": "stdout",
     "output_type": "stream",
     "text": [
      "['tab_2_products_2020-01-01.csv', 'tab_2_products_2020-01-11.csv', 'tab_2_products_2020-01-21.csv', 'tab_2_products_2020-01-31.csv', 'tab_2_products_2020-02-10.csv', 'tab_2_products_2020-02-20.csv', 'tab_2_products_2020-03-01.csv', 'tab_2_products_2020-03-11.csv', 'tab_2_products_2020-03-21.csv', 'tab_2_products_2020-03-31.csv']\n"
     ]
    },
    {
     "name": "stderr",
     "output_type": "stream",
     "text": [
      "100%|██████████| 10/10 [00:16<00:00,  1.66s/it]\n"
     ]
    },
    {
     "data": {
      "text/plain": [
       "303667"
      ]
     },
     "execution_count": 117,
     "metadata": {},
     "output_type": "execute_result"
    }
   ],
   "source": [
    "tab_2_1 = fnmatch.filter(os.listdir('data/test-recsys/sbermarket_tab_2_1/'), 'tab_2*.csv')\n",
    "print(tab_2_1)\n",
    "\n",
    "products_2_1 = None\n",
    "\n",
    "for file_name in tqdm.tqdm(tab_2_1):\n",
    "#     key = file_name.split('_')[-1].split('.')[0]\n",
    "    \n",
    "    if products_2_1 is None:\n",
    "        products_2_1 = pd.read_csv('data/test-recsys/sbermarket_tab_2_1/' + file_name)\n",
    "    else:\n",
    "        frame = pd.read_csv('data/test-recsys/sbermarket_tab_2_1/' + file_name)\n",
    "        products_2_1.append(frame, ignore_index=True)\n",
    "        \n",
    "len(products_2_1)"
   ]
  },
  {
   "cell_type": "code",
   "execution_count": 118,
   "metadata": {},
   "outputs": [
    {
     "name": "stderr",
     "output_type": "stream",
     "text": [
      "\r",
      "  0%|          | 0/3 [00:00<?, ?it/s]"
     ]
    },
    {
     "name": "stdout",
     "output_type": "stream",
     "text": [
      "['tab_2_products_2020-04-10.csv', 'tab_2_products_2020-04-20.csv', 'tab_2_products_2020-04-30.csv']\n"
     ]
    },
    {
     "name": "stderr",
     "output_type": "stream",
     "text": [
      "100%|██████████| 3/3 [00:16<00:00,  5.62s/it]\n"
     ]
    },
    {
     "data": {
      "text/plain": [
       "2596852"
      ]
     },
     "execution_count": 118,
     "metadata": {},
     "output_type": "execute_result"
    }
   ],
   "source": [
    "tab_2_2 = fnmatch.filter(os.listdir('data/test-recsys/sbermarket_tab_2_2/'), 'tab_2*.csv')\n",
    "print(tab_2_2)\n",
    "\n",
    "products_2_2 = None\n",
    "\n",
    "for file_name in tqdm.tqdm(tab_2_2):\n",
    "#     key = file_name.split('_')[-1].split('.')[0]\n",
    "    \n",
    "    if products_2_2 is None:\n",
    "        products_2_2 = pd.read_csv('data/test-recsys/sbermarket_tab_2_2/' + file_name)\n",
    "    else:\n",
    "        frame = pd.read_csv('data/test-recsys/sbermarket_tab_2_2/' + file_name)\n",
    "        products_2_2.append(frame, ignore_index=True)\n",
    "        \n",
    "len(products_2_2)"
   ]
  },
  {
   "cell_type": "markdown",
   "metadata": {},
   "source": [
    "### Топ продукты по пользователю"
   ]
  },
  {
   "cell_type": "code",
   "execution_count": 137,
   "metadata": {},
   "outputs": [
    {
     "name": "stderr",
     "output_type": "stream",
     "text": [
      "\r",
      "  0%|          | 0/3 [00:00<?, ?it/s]"
     ]
    },
    {
     "name": "stdout",
     "output_type": "stream",
     "text": [
      "['tab_2_products_2020-07-09.csv', 'tab_2_products_2020-07-19.csv', 'tab_2_products_2020-07-29.csv']\n"
     ]
    },
    {
     "name": "stderr",
     "output_type": "stream",
     "text": [
      "100%|██████████| 3/3 [00:16<00:00,  5.63s/it]\n"
     ]
    },
    {
     "data": {
      "text/plain": [
       "8332165"
      ]
     },
     "execution_count": 137,
     "metadata": {},
     "output_type": "execute_result"
    }
   ],
   "source": [
    "tab_2_5 = fnmatch.filter(os.listdir('data/test-recsys/sbermarket_tab_2_5/'), 'tab_2*.csv')\n",
    "print(tab_2_5)\n",
    "\n",
    "products_2_5 = None\n",
    "\n",
    "for file_name in tqdm.tqdm(tab_2_5):\n",
    "#     key = file_name.split('_')[-1].split('.')[0]\n",
    "    \n",
    "    if products_2_5 is None:\n",
    "        products_2_5 = pd.read_csv('data/test-recsys/sbermarket_tab_2_5/' + file_name)\n",
    "    else:\n",
    "        frame = pd.read_csv('data/test-recsys/sbermarket_tab_2_5/' + file_name)\n",
    "        products_2_5 = products_2_5.append(frame, ignore_index=True)\n",
    "        \n",
    "len(products_2_5)"
   ]
  },
  {
   "cell_type": "code",
   "execution_count": 138,
   "metadata": {},
   "outputs": [
    {
     "name": "stderr",
     "output_type": "stream",
     "text": [
      "\r",
      "  0%|          | 0/4 [00:00<?, ?it/s]"
     ]
    },
    {
     "name": "stdout",
     "output_type": "stream",
     "text": [
      "['tab_2_products_2020-08-08.csv', 'tab_2_products_2020-08-18.csv', 'tab_2_products_2020-08-28.csv', 'tab_2_products_2020-09-07.csv']\n"
     ]
    },
    {
     "name": "stderr",
     "output_type": "stream",
     "text": [
      "100%|██████████| 4/4 [00:27<00:00,  6.89s/it]\n"
     ]
    },
    {
     "data": {
      "text/plain": [
       "11947253"
      ]
     },
     "execution_count": 138,
     "metadata": {},
     "output_type": "execute_result"
    }
   ],
   "source": [
    "tab_2_6 = fnmatch.filter(os.listdir('data/test-recsys/sbermarket_tab_2_6/'), 'tab_2*.csv')\n",
    "print(tab_2_6)\n",
    "\n",
    "products_2_6 = None\n",
    "\n",
    "for file_name in tqdm.tqdm(tab_2_6):\n",
    "#     key = file_name.split('_')[-1].split('.')[0]\n",
    "    \n",
    "    if products_2_6 is None:\n",
    "        products_2_6 = pd.read_csv('data/test-recsys/sbermarket_tab_2_6/' + file_name)\n",
    "    else:\n",
    "        frame = pd.read_csv('data/test-recsys/sbermarket_tab_2_6/' + file_name)\n",
    "        products_2_6 = products_2_6.append(frame, ignore_index=True)\n",
    "        \n",
    "len(products_2_6)"
   ]
  },
  {
   "cell_type": "code",
   "execution_count": 142,
   "metadata": {},
   "outputs": [
    {
     "data": {
      "text/plain": [
       "20279418"
      ]
     },
     "execution_count": 142,
     "metadata": {},
     "output_type": "execute_result"
    }
   ],
   "source": [
    "products_2_5 = products_2_5.append(products_2_6)\n",
    "len(products_2_5)"
   ]
  },
  {
   "cell_type": "code",
   "execution_count": null,
   "metadata": {},
   "outputs": [],
   "source": []
  },
  {
   "cell_type": "code",
   "execution_count": 139,
   "metadata": {},
   "outputs": [],
   "source": [
    "users_2_6 = set(products_2_6['user_id'])"
   ]
  },
  {
   "cell_type": "code",
   "execution_count": 140,
   "metadata": {},
   "outputs": [
    {
     "data": {
      "text/plain": [
       "273904"
      ]
     },
     "execution_count": 140,
     "metadata": {},
     "output_type": "execute_result"
    }
   ],
   "source": [
    "len(users_2_6)"
   ]
  },
  {
   "cell_type": "code",
   "execution_count": 141,
   "metadata": {},
   "outputs": [
    {
     "data": {
      "text/plain": [
       "86119"
      ]
     },
     "execution_count": 141,
     "metadata": {},
     "output_type": "execute_result"
    }
   ],
   "source": [
    "len(users_2_6.intersection(UNQ_test_user_ids))"
   ]
  },
  {
   "cell_type": "code",
   "execution_count": 144,
   "metadata": {},
   "outputs": [
    {
     "data": {
      "text/plain": [
       "374412"
      ]
     },
     "execution_count": 144,
     "metadata": {},
     "output_type": "execute_result"
    }
   ],
   "source": [
    "users_2_5_6 = set(products_2_5['user_id'])\n",
    "len(users_2_5_6)"
   ]
  },
  {
   "cell_type": "code",
   "execution_count": 145,
   "metadata": {},
   "outputs": [
    {
     "data": {
      "text/plain": [
       "96382"
      ]
     },
     "execution_count": 145,
     "metadata": {},
     "output_type": "execute_result"
    }
   ],
   "source": [
    "len(users_2_5_6.intersection(UNQ_test_user_ids))"
   ]
  },
  {
   "cell_type": "code",
   "execution_count": 147,
   "metadata": {},
   "outputs": [
    {
     "data": {
      "text/html": [
       "<div>\n",
       "<style scoped>\n",
       "    .dataframe tbody tr th:only-of-type {\n",
       "        vertical-align: middle;\n",
       "    }\n",
       "\n",
       "    .dataframe tbody tr th {\n",
       "        vertical-align: top;\n",
       "    }\n",
       "\n",
       "    .dataframe thead th {\n",
       "        text-align: right;\n",
       "    }\n",
       "</style>\n",
       "<table border=\"1\" class=\"dataframe\">\n",
       "  <thead>\n",
       "    <tr style=\"text-align: right;\">\n",
       "      <th></th>\n",
       "      <th>user_id</th>\n",
       "      <th>predicted</th>\n",
       "    </tr>\n",
       "  </thead>\n",
       "  <tbody>\n",
       "    <tr>\n",
       "      <th>0</th>\n",
       "      <td>51</td>\n",
       "      <td>3239211 10720024 8493844 1965540 5009002 95218...</td>\n",
       "    </tr>\n",
       "    <tr>\n",
       "      <th>1</th>\n",
       "      <td>65</td>\n",
       "      <td>11693356 13392267 2464515 2245175 4748570 1134...</td>\n",
       "    </tr>\n",
       "    <tr>\n",
       "      <th>2</th>\n",
       "      <td>766</td>\n",
       "      <td>12773054 3692749 12726751 10041624 11893515 23...</td>\n",
       "    </tr>\n",
       "  </tbody>\n",
       "</table>\n",
       "</div>"
      ],
      "text/plain": [
       "   user_id                                          predicted\n",
       "0       51  3239211 10720024 8493844 1965540 5009002 95218...\n",
       "1       65  11693356 13392267 2464515 2245175 4748570 1134...\n",
       "2      766  12773054 3692749 12726751 10041624 11893515 23..."
      ]
     },
     "execution_count": 147,
     "metadata": {},
     "output_type": "execute_result"
    }
   ],
   "source": [
    "sample_submission.columns = ['user_id', 'predicted']\n",
    "sample_submission.head(3)"
   ]
  },
  {
   "cell_type": "code",
   "execution_count": 150,
   "metadata": {},
   "outputs": [],
   "source": [
    "test_user_product = pd.merge(products_2_5, sample_submission, on='user_id')"
   ]
  },
  {
   "cell_type": "code",
   "execution_count": 151,
   "metadata": {},
   "outputs": [
    {
     "data": {
      "text/plain": [
       "9114011"
      ]
     },
     "execution_count": 151,
     "metadata": {},
     "output_type": "execute_result"
    }
   ],
   "source": [
    "len(test_user_product)"
   ]
  },
  {
   "cell_type": "code",
   "execution_count": 152,
   "metadata": {},
   "outputs": [
    {
     "data": {
      "text/html": [
       "<div>\n",
       "<style scoped>\n",
       "    .dataframe tbody tr th:only-of-type {\n",
       "        vertical-align: middle;\n",
       "    }\n",
       "\n",
       "    .dataframe tbody tr th {\n",
       "        vertical-align: top;\n",
       "    }\n",
       "\n",
       "    .dataframe thead th {\n",
       "        text-align: right;\n",
       "    }\n",
       "</style>\n",
       "<table border=\"1\" class=\"dataframe\">\n",
       "  <thead>\n",
       "    <tr style=\"text-align: right;\">\n",
       "      <th></th>\n",
       "      <th>user_id</th>\n",
       "      <th>order_id</th>\n",
       "      <th>line_item_id</th>\n",
       "      <th>price</th>\n",
       "      <th>quantity</th>\n",
       "      <th>discount</th>\n",
       "      <th>product_name</th>\n",
       "      <th>product_id</th>\n",
       "      <th>brand_name</th>\n",
       "      <th>master_category_id</th>\n",
       "      <th>parent_category_id</th>\n",
       "      <th>predicted</th>\n",
       "    </tr>\n",
       "  </thead>\n",
       "  <tbody>\n",
       "    <tr>\n",
       "      <th>0</th>\n",
       "      <td>65</td>\n",
       "      <td>12864224</td>\n",
       "      <td>130003820</td>\n",
       "      <td>34.990002</td>\n",
       "      <td>1</td>\n",
       "      <td>0.00</td>\n",
       "      <td>Семечки льняные Диет Пром 200 г</td>\n",
       "      <td>2833472</td>\n",
       "      <td>Диет Пром</td>\n",
       "      <td>97.0</td>\n",
       "      <td>94</td>\n",
       "      <td>11693356 13392267 2464515 2245175 4748570 1134...</td>\n",
       "    </tr>\n",
       "    <tr>\n",
       "      <th>1</th>\n",
       "      <td>65</td>\n",
       "      <td>12864224</td>\n",
       "      <td>130003821</td>\n",
       "      <td>215.000000</td>\n",
       "      <td>1</td>\n",
       "      <td>0.00</td>\n",
       "      <td>Шоколад Lindt Excellence горький 78%</td>\n",
       "      <td>201286</td>\n",
       "      <td>Lindt</td>\n",
       "      <td>60.0</td>\n",
       "      <td>56</td>\n",
       "      <td>11693356 13392267 2464515 2245175 4748570 1134...</td>\n",
       "    </tr>\n",
       "    <tr>\n",
       "      <th>2</th>\n",
       "      <td>65</td>\n",
       "      <td>12864224</td>\n",
       "      <td>130003822</td>\n",
       "      <td>57.900002</td>\n",
       "      <td>3</td>\n",
       "      <td>15.29</td>\n",
       "      <td>Творог Valio Мягкий обезжиренный 0,1% бзмж</td>\n",
       "      <td>18450</td>\n",
       "      <td>Valio</td>\n",
       "      <td>30.0</td>\n",
       "      <td>20</td>\n",
       "      <td>11693356 13392267 2464515 2245175 4748570 1134...</td>\n",
       "    </tr>\n",
       "  </tbody>\n",
       "</table>\n",
       "</div>"
      ],
      "text/plain": [
       "   user_id  order_id  line_item_id       price  quantity  discount  \\\n",
       "0       65  12864224     130003820   34.990002         1      0.00   \n",
       "1       65  12864224     130003821  215.000000         1      0.00   \n",
       "2       65  12864224     130003822   57.900002         3     15.29   \n",
       "\n",
       "                                 product_name  product_id brand_name  \\\n",
       "0             Семечки льняные Диет Пром 200 г     2833472  Диет Пром   \n",
       "1        Шоколад Lindt Excellence горький 78%      201286      Lindt   \n",
       "2  Творог Valio Мягкий обезжиренный 0,1% бзмж       18450      Valio   \n",
       "\n",
       "   master_category_id  parent_category_id  \\\n",
       "0                97.0                  94   \n",
       "1                60.0                  56   \n",
       "2                30.0                  20   \n",
       "\n",
       "                                           predicted  \n",
       "0  11693356 13392267 2464515 2245175 4748570 1134...  \n",
       "1  11693356 13392267 2464515 2245175 4748570 1134...  \n",
       "2  11693356 13392267 2464515 2245175 4748570 1134...  "
      ]
     },
     "execution_count": 152,
     "metadata": {},
     "output_type": "execute_result"
    }
   ],
   "source": [
    "test_user_product.head(3)"
   ]
  },
  {
   "cell_type": "code",
   "execution_count": 174,
   "metadata": {},
   "outputs": [],
   "source": [
    "groupby_0 = pd.DataFrame({'count' : test_user_product.groupby(['user_id', 'product_id']).size()}).reset_index()"
   ]
  },
  {
   "cell_type": "code",
   "execution_count": 175,
   "metadata": {},
   "outputs": [
    {
     "data": {
      "text/html": [
       "<div>\n",
       "<style scoped>\n",
       "    .dataframe tbody tr th:only-of-type {\n",
       "        vertical-align: middle;\n",
       "    }\n",
       "\n",
       "    .dataframe tbody tr th {\n",
       "        vertical-align: top;\n",
       "    }\n",
       "\n",
       "    .dataframe thead th {\n",
       "        text-align: right;\n",
       "    }\n",
       "</style>\n",
       "<table border=\"1\" class=\"dataframe\">\n",
       "  <thead>\n",
       "    <tr style=\"text-align: right;\">\n",
       "      <th></th>\n",
       "      <th>user_id</th>\n",
       "      <th>product_id</th>\n",
       "      <th>count</th>\n",
       "    </tr>\n",
       "  </thead>\n",
       "  <tbody>\n",
       "    <tr>\n",
       "      <th>0</th>\n",
       "      <td>51</td>\n",
       "      <td>456</td>\n",
       "      <td>1</td>\n",
       "    </tr>\n",
       "    <tr>\n",
       "      <th>1</th>\n",
       "      <td>51</td>\n",
       "      <td>478</td>\n",
       "      <td>1</td>\n",
       "    </tr>\n",
       "    <tr>\n",
       "      <th>2</th>\n",
       "      <td>51</td>\n",
       "      <td>539</td>\n",
       "      <td>1</td>\n",
       "    </tr>\n",
       "    <tr>\n",
       "      <th>3</th>\n",
       "      <td>51</td>\n",
       "      <td>562</td>\n",
       "      <td>1</td>\n",
       "    </tr>\n",
       "    <tr>\n",
       "      <th>4</th>\n",
       "      <td>51</td>\n",
       "      <td>651</td>\n",
       "      <td>1</td>\n",
       "    </tr>\n",
       "  </tbody>\n",
       "</table>\n",
       "</div>"
      ],
      "text/plain": [
       "   user_id  product_id  count\n",
       "0       51         456      1\n",
       "1       51         478      1\n",
       "2       51         539      1\n",
       "3       51         562      1\n",
       "4       51         651      1"
      ]
     },
     "execution_count": 175,
     "metadata": {},
     "output_type": "execute_result"
    }
   ],
   "source": [
    "groupby_0.head()"
   ]
  },
  {
   "cell_type": "code",
   "execution_count": 221,
   "metadata": {},
   "outputs": [
    {
     "data": {
      "text/html": [
       "<div>\n",
       "<style scoped>\n",
       "    .dataframe tbody tr th:only-of-type {\n",
       "        vertical-align: middle;\n",
       "    }\n",
       "\n",
       "    .dataframe tbody tr th {\n",
       "        vertical-align: top;\n",
       "    }\n",
       "\n",
       "    .dataframe thead th {\n",
       "        text-align: right;\n",
       "    }\n",
       "</style>\n",
       "<table border=\"1\" class=\"dataframe\">\n",
       "  <thead>\n",
       "    <tr style=\"text-align: right;\">\n",
       "      <th></th>\n",
       "      <th>user_id</th>\n",
       "      <th>product_id</th>\n",
       "      <th>count</th>\n",
       "    </tr>\n",
       "  </thead>\n",
       "  <tbody>\n",
       "    <tr>\n",
       "      <th>7231092</th>\n",
       "      <td>3142875</td>\n",
       "      <td>9741</td>\n",
       "      <td>3</td>\n",
       "    </tr>\n",
       "    <tr>\n",
       "      <th>7231093</th>\n",
       "      <td>3142875</td>\n",
       "      <td>63760</td>\n",
       "      <td>1</td>\n",
       "    </tr>\n",
       "    <tr>\n",
       "      <th>7231094</th>\n",
       "      <td>3142875</td>\n",
       "      <td>63762</td>\n",
       "      <td>1</td>\n",
       "    </tr>\n",
       "    <tr>\n",
       "      <th>7231095</th>\n",
       "      <td>3142875</td>\n",
       "      <td>63763</td>\n",
       "      <td>1</td>\n",
       "    </tr>\n",
       "    <tr>\n",
       "      <th>7231096</th>\n",
       "      <td>3142875</td>\n",
       "      <td>67694</td>\n",
       "      <td>1</td>\n",
       "    </tr>\n",
       "    <tr>\n",
       "      <th>...</th>\n",
       "      <td>...</td>\n",
       "      <td>...</td>\n",
       "      <td>...</td>\n",
       "    </tr>\n",
       "    <tr>\n",
       "      <th>54</th>\n",
       "      <td>51</td>\n",
       "      <td>6593937</td>\n",
       "      <td>1</td>\n",
       "    </tr>\n",
       "    <tr>\n",
       "      <th>55</th>\n",
       "      <td>51</td>\n",
       "      <td>6677915</td>\n",
       "      <td>1</td>\n",
       "    </tr>\n",
       "    <tr>\n",
       "      <th>56</th>\n",
       "      <td>51</td>\n",
       "      <td>7061902</td>\n",
       "      <td>1</td>\n",
       "    </tr>\n",
       "    <tr>\n",
       "      <th>57</th>\n",
       "      <td>51</td>\n",
       "      <td>7386516</td>\n",
       "      <td>1</td>\n",
       "    </tr>\n",
       "    <tr>\n",
       "      <th>58</th>\n",
       "      <td>51</td>\n",
       "      <td>7724781</td>\n",
       "      <td>1</td>\n",
       "    </tr>\n",
       "  </tbody>\n",
       "</table>\n",
       "<p>7231103 rows × 3 columns</p>\n",
       "</div>"
      ],
      "text/plain": [
       "         user_id  product_id  count\n",
       "7231092  3142875        9741      3\n",
       "7231093  3142875       63760      1\n",
       "7231094  3142875       63762      1\n",
       "7231095  3142875       63763      1\n",
       "7231096  3142875       67694      1\n",
       "...          ...         ...    ...\n",
       "54            51     6593937      1\n",
       "55            51     6677915      1\n",
       "56            51     7061902      1\n",
       "57            51     7386516      1\n",
       "58            51     7724781      1\n",
       "\n",
       "[7231103 rows x 3 columns]"
      ]
     },
     "execution_count": 221,
     "metadata": {},
     "output_type": "execute_result"
    }
   ],
   "source": [
    "groupby_0 = groupby_0.sort_values(['user_id', 'count'], ascending=False)\n",
    "groupby_0"
   ]
  },
  {
   "cell_type": "code",
   "execution_count": 222,
   "metadata": {},
   "outputs": [
    {
     "name": "stdout",
     "output_type": "stream",
     "text": [
      "user_id\n",
      "51         3817489 456 478 539 562 651 680 688 709 800 26...\n",
      "65         54728 3817542 18439 709 5639 18450 105764 2606...\n",
      "187                                              88084 88086\n",
      "400        177 397 981 5642 6613 6992 8472 8545 9936 1019...\n",
      "576        177 2600 102 4443 5628 10002 10757 14007 46469...\n",
      "                                 ...                        \n",
      "3142760    225 452 1985 5154 5601 6567 6757 8333 12817 13...\n",
      "3142766    104 166 172 180 6341 14770 18438 19932 37061 5...\n",
      "3142774    14616 21868 201892 1159915 1159916 4033462 504...\n",
      "3142820    0 13120 13181 14105 15375 22194 38251 38931 57...\n",
      "3142875    9741 63760 63762 63763 67694 68465 5044950 504...\n",
      "Name: product_id, Length: 96382, dtype: object\n"
     ]
    }
   ],
   "source": [
    "grouped_df = groupby_0.groupby('user_id')\n",
    "\n",
    "grouped_lists = grouped_df['product_id'].agg(lambda column: \" \".join([str(elem) for elem in column]))\n",
    "\n",
    "# grouped_lists = grouped_lists.reset_index(name=\"product_id\")\n",
    "\n",
    "print(grouped_lists)"
   ]
  },
  {
   "cell_type": "code",
   "execution_count": 226,
   "metadata": {},
   "outputs": [
    {
     "data": {
      "text/html": [
       "<div>\n",
       "<style scoped>\n",
       "    .dataframe tbody tr th:only-of-type {\n",
       "        vertical-align: middle;\n",
       "    }\n",
       "\n",
       "    .dataframe tbody tr th {\n",
       "        vertical-align: top;\n",
       "    }\n",
       "\n",
       "    .dataframe thead th {\n",
       "        text-align: right;\n",
       "    }\n",
       "</style>\n",
       "<table border=\"1\" class=\"dataframe\">\n",
       "  <thead>\n",
       "    <tr style=\"text-align: right;\">\n",
       "      <th></th>\n",
       "      <th>user_id</th>\n",
       "      <th>predicted</th>\n",
       "      <th>product_id</th>\n",
       "    </tr>\n",
       "  </thead>\n",
       "  <tbody>\n",
       "    <tr>\n",
       "      <th>0</th>\n",
       "      <td>51</td>\n",
       "      <td>3239211 10720024 8493844 1965540 5009002 95218...</td>\n",
       "      <td>3817489 456 478 539 562 651 680 688 709 800 26...</td>\n",
       "    </tr>\n",
       "    <tr>\n",
       "      <th>1</th>\n",
       "      <td>65</td>\n",
       "      <td>11693356 13392267 2464515 2245175 4748570 1134...</td>\n",
       "      <td>54728 3817542 18439 709 5639 18450 105764 2606...</td>\n",
       "    </tr>\n",
       "    <tr>\n",
       "      <th>2</th>\n",
       "      <td>766</td>\n",
       "      <td>12773054 3692749 12726751 10041624 11893515 23...</td>\n",
       "      <td>0 131 1037 2048 5154 6018 6190 6621 9551 9553 ...</td>\n",
       "    </tr>\n",
       "  </tbody>\n",
       "</table>\n",
       "</div>"
      ],
      "text/plain": [
       "   user_id                                          predicted  \\\n",
       "0       51  3239211 10720024 8493844 1965540 5009002 95218...   \n",
       "1       65  11693356 13392267 2464515 2245175 4748570 1134...   \n",
       "2      766  12773054 3692749 12726751 10041624 11893515 23...   \n",
       "\n",
       "                                          product_id  \n",
       "0  3817489 456 478 539 562 651 680 688 709 800 26...  \n",
       "1  54728 3817542 18439 709 5639 18450 105764 2606...  \n",
       "2  0 131 1037 2048 5154 6018 6190 6621 9551 9553 ...  "
      ]
     },
     "execution_count": 226,
     "metadata": {},
     "output_type": "execute_result"
    }
   ],
   "source": [
    "test_submit = pd.merge(sample_submission, grouped_lists, on='user_id', how='left')\n",
    "test_submit.head(3)"
   ]
  },
  {
   "cell_type": "code",
   "execution_count": 227,
   "metadata": {},
   "outputs": [
    {
     "data": {
      "text/html": [
       "<div>\n",
       "<style scoped>\n",
       "    .dataframe tbody tr th:only-of-type {\n",
       "        vertical-align: middle;\n",
       "    }\n",
       "\n",
       "    .dataframe tbody tr th {\n",
       "        vertical-align: top;\n",
       "    }\n",
       "\n",
       "    .dataframe thead th {\n",
       "        text-align: right;\n",
       "    }\n",
       "</style>\n",
       "<table border=\"1\" class=\"dataframe\">\n",
       "  <thead>\n",
       "    <tr style=\"text-align: right;\">\n",
       "      <th></th>\n",
       "      <th>user_id</th>\n",
       "      <th>product_id</th>\n",
       "    </tr>\n",
       "  </thead>\n",
       "  <tbody>\n",
       "    <tr>\n",
       "      <th>0</th>\n",
       "      <td>51</td>\n",
       "      <td>3817489 456 478 539 562 651 680 688 709 800 26...</td>\n",
       "    </tr>\n",
       "    <tr>\n",
       "      <th>1</th>\n",
       "      <td>65</td>\n",
       "      <td>54728 3817542 18439 709 5639 18450 105764 2606...</td>\n",
       "    </tr>\n",
       "    <tr>\n",
       "      <th>2</th>\n",
       "      <td>766</td>\n",
       "      <td>0 131 1037 2048 5154 6018 6190 6621 9551 9553 ...</td>\n",
       "    </tr>\n",
       "  </tbody>\n",
       "</table>\n",
       "</div>"
      ],
      "text/plain": [
       "   user_id                                         product_id\n",
       "0       51  3817489 456 478 539 562 651 680 688 709 800 26...\n",
       "1       65  54728 3817542 18439 709 5639 18450 105764 2606...\n",
       "2      766  0 131 1037 2048 5154 6018 6190 6621 9551 9553 ..."
      ]
     },
     "execution_count": 227,
     "metadata": {},
     "output_type": "execute_result"
    }
   ],
   "source": [
    "test_submit = test_submit.drop(columns=['predicted'])\n",
    "test_submit.head(3)"
   ]
  },
  {
   "cell_type": "code",
   "execution_count": 1,
   "metadata": {},
   "outputs": [
    {
     "ename": "NameError",
     "evalue": "name 'test_submit' is not defined",
     "output_type": "error",
     "traceback": [
      "\u001b[1;31m---------------------------------------------------------------------------\u001b[0m",
      "\u001b[1;31mNameError\u001b[0m                                 Traceback (most recent call last)",
      "\u001b[1;32m<ipython-input-1-bf2e3943d9c8>\u001b[0m in \u001b[0;36m<module>\u001b[1;34m\u001b[0m\n\u001b[1;32m----> 1\u001b[1;33m \u001b[0mlen\u001b[0m\u001b[1;33m(\u001b[0m\u001b[0mtest_submit\u001b[0m\u001b[1;33m)\u001b[0m\u001b[1;33m\u001b[0m\u001b[1;33m\u001b[0m\u001b[0m\n\u001b[0m",
      "\u001b[1;31mNameError\u001b[0m: name 'test_submit' is not defined"
     ]
    }
   ],
   "source": [
    "len(test_submit)"
   ]
  },
  {
   "cell_type": "code",
   "execution_count": 229,
   "metadata": {},
   "outputs": [],
   "source": [
    "test_submit.rename(columns={'user_id': 'Id', 'product_id': 'Predicted'})\\\n",
    "    .to_csv('test_submission_01.csv', sep=',', header=True, index=False)"
   ]
  },
  {
   "cell_type": "code",
   "execution_count": null,
   "metadata": {},
   "outputs": [],
   "source": []
  },
  {
   "cell_type": "code",
   "execution_count": null,
   "metadata": {},
   "outputs": [],
   "source": []
  },
  {
   "cell_type": "code",
   "execution_count": null,
   "metadata": {},
   "outputs": [],
   "source": []
  },
  {
   "cell_type": "code",
   "execution_count": null,
   "metadata": {},
   "outputs": [],
   "source": []
  },
  {
   "cell_type": "code",
   "execution_count": null,
   "metadata": {},
   "outputs": [],
   "source": []
  },
  {
   "cell_type": "markdown",
   "metadata": {},
   "source": [
    "### Users"
   ]
  },
  {
   "cell_type": "code",
   "execution_count": null,
   "metadata": {},
   "outputs": [],
   "source": [
    "# toko users"
   ]
  },
  {
   "cell_type": "code",
   "execution_count": 120,
   "metadata": {},
   "outputs": [
    {
     "name": "stderr",
     "output_type": "stream",
     "text": [
      "\r",
      "  0%|          | 0/10 [00:00<?, ?it/s]"
     ]
    },
    {
     "name": "stdout",
     "output_type": "stream",
     "text": [
      "['tab_2_products_2020-01-01.csv', 'tab_2_products_2020-01-11.csv', 'tab_2_products_2020-01-21.csv', 'tab_2_products_2020-01-31.csv', 'tab_2_products_2020-02-10.csv', 'tab_2_products_2020-02-20.csv', 'tab_2_products_2020-03-01.csv', 'tab_2_products_2020-03-11.csv', 'tab_2_products_2020-03-21.csv', 'tab_2_products_2020-03-31.csv']\n"
     ]
    },
    {
     "name": "stderr",
     "output_type": "stream",
     "text": [
      "100%|██████████| 10/10 [00:16<00:00,  1.61s/it]\n"
     ]
    },
    {
     "data": {
      "text/plain": [
       "144261"
      ]
     },
     "execution_count": 120,
     "metadata": {},
     "output_type": "execute_result"
    }
   ],
   "source": [
    "tab_2_1 = fnmatch.filter(os.listdir('data/test-recsys/sbermarket_tab_2_1/'), 'tab_2*.csv')\n",
    "print(tab_2_1)\n",
    "\n",
    "users = set()\n",
    "\n",
    "for file_name in tqdm.tqdm(tab_2_1):\n",
    "#     key = file_name.split('_')[-1].split('.')[0]\n",
    "    \n",
    "    products = pd.read_csv('data/test-recsys/sbermarket_tab_2_1/' + file_name)\n",
    "    users |= set(products['user_id'])\n",
    "    \n",
    "len(users)"
   ]
  },
  {
   "cell_type": "code",
   "execution_count": 121,
   "metadata": {},
   "outputs": [
    {
     "name": "stderr",
     "output_type": "stream",
     "text": [
      "100%|██████████| 3/3 [00:16<00:00,  5.56s/it]\n"
     ]
    },
    {
     "data": {
      "text/plain": [
       "245368"
      ]
     },
     "execution_count": 121,
     "metadata": {},
     "output_type": "execute_result"
    }
   ],
   "source": [
    "tab_2_2 = fnmatch.filter(os.listdir('data/test-recsys/sbermarket_tab_2_2/'), 'tab_2*.csv')\n",
    "# print(tab_2_2)\n",
    "\n",
    "# users = set()\n",
    "\n",
    "for file_name in tqdm.tqdm(tab_2_2):\n",
    "#     key = file_name.split('_')[-1].split('.')[0]\n",
    "    \n",
    "    products = pd.read_csv('data/test-recsys/sbermarket_tab_2_2/' + file_name)\n",
    "    users |= set(products['user_id'])\n",
    "    \n",
    "len(users)"
   ]
  },
  {
   "cell_type": "code",
   "execution_count": 122,
   "metadata": {},
   "outputs": [
    {
     "name": "stderr",
     "output_type": "stream",
     "text": [
      "100%|██████████| 3/3 [00:21<00:00,  7.22s/it]\n"
     ]
    },
    {
     "data": {
      "text/plain": [
       "363206"
      ]
     },
     "execution_count": 122,
     "metadata": {},
     "output_type": "execute_result"
    }
   ],
   "source": [
    "tab_2_3 = fnmatch.filter(os.listdir('data/test-recsys/sbermarket_tab_2_3/'), 'tab_2*.csv')\n",
    "# print(tab_2_3)\n",
    "\n",
    "# users = set()\n",
    "\n",
    "for file_name in tqdm.tqdm(tab_2_3):\n",
    "#     key = file_name.split('_')[-1].split('.')[0]\n",
    "    \n",
    "    products = pd.read_csv('data/test-recsys/sbermarket_tab_2_3/' + file_name)\n",
    "    users |= set(products['user_id'])\n",
    "    \n",
    "len(users)"
   ]
  },
  {
   "cell_type": "code",
   "execution_count": 123,
   "metadata": {},
   "outputs": [
    {
     "name": "stderr",
     "output_type": "stream",
     "text": [
      "100%|██████████| 3/3 [00:16<00:00,  5.54s/it]\n"
     ]
    },
    {
     "data": {
      "text/plain": [
       "438081"
      ]
     },
     "execution_count": 123,
     "metadata": {},
     "output_type": "execute_result"
    }
   ],
   "source": [
    "tab_2_4 = fnmatch.filter(os.listdir('data/test-recsys/sbermarket_tab_2_4/'), 'tab_2*.csv')\n",
    "# print(tab_2_4)\n",
    "\n",
    "# users = set()\n",
    "\n",
    "for file_name in tqdm.tqdm(tab_2_4):\n",
    "#     key = file_name.split('_')[-1].split('.')[0]\n",
    "    \n",
    "    products = pd.read_csv('data/test-recsys/sbermarket_tab_2_4/' + file_name)\n",
    "    users |= set(products['user_id'])\n",
    "    \n",
    "len(users)"
   ]
  },
  {
   "cell_type": "code",
   "execution_count": 124,
   "metadata": {},
   "outputs": [
    {
     "name": "stderr",
     "output_type": "stream",
     "text": [
      "100%|██████████| 3/3 [00:15<00:00,  5.30s/it]\n"
     ]
    },
    {
     "data": {
      "text/plain": [
       "521582"
      ]
     },
     "execution_count": 124,
     "metadata": {},
     "output_type": "execute_result"
    }
   ],
   "source": [
    "tab_2_5 = fnmatch.filter(os.listdir('data/test-recsys/sbermarket_tab_2_5/'), 'tab_2*.csv')\n",
    "# print(tab_2_5)\n",
    "\n",
    "# users = set()\n",
    "\n",
    "for file_name in tqdm.tqdm(tab_2_5):\n",
    "#     key = file_name.split('_')[-1].split('.')[0]\n",
    "    \n",
    "    products = pd.read_csv('data/test-recsys/sbermarket_tab_2_5/' + file_name)\n",
    "    users |= set(products['user_id'])\n",
    "    \n",
    "len(users)"
   ]
  },
  {
   "cell_type": "code",
   "execution_count": 125,
   "metadata": {},
   "outputs": [
    {
     "name": "stderr",
     "output_type": "stream",
     "text": [
      "100%|██████████| 4/4 [00:22<00:00,  5.51s/it]\n"
     ]
    },
    {
     "data": {
      "text/plain": [
       "657502"
      ]
     },
     "execution_count": 125,
     "metadata": {},
     "output_type": "execute_result"
    }
   ],
   "source": [
    "tab_2_6 = fnmatch.filter(os.listdir('data/test-recsys/sbermarket_tab_2_6/'), 'tab_2*.csv')\n",
    "# print(tab_2_6)\n",
    "\n",
    "# users = set()\n",
    "\n",
    "for file_name in tqdm.tqdm(tab_2_6):\n",
    "#     key = file_name.split('_')[-1].split('.')[0]\n",
    "    \n",
    "    products = pd.read_csv('data/test-recsys/sbermarket_tab_2_6/' + file_name)\n",
    "    users |= set(products['user_id'])\n",
    "    \n",
    "len(users)"
   ]
  },
  {
   "cell_type": "code",
   "execution_count": 126,
   "metadata": {},
   "outputs": [
    {
     "data": {
      "text/plain": [
       "657502"
      ]
     },
     "execution_count": 126,
     "metadata": {},
     "output_type": "execute_result"
    }
   ],
   "source": [
    "len(users)"
   ]
  },
  {
   "cell_type": "code",
   "execution_count": 127,
   "metadata": {},
   "outputs": [
    {
     "data": {
      "text/plain": [
       "91001"
      ]
     },
     "execution_count": 127,
     "metadata": {},
     "output_type": "execute_result"
    }
   ],
   "source": [
    "len(users.intersection(UNQ_users))"
   ]
  },
  {
   "cell_type": "code",
   "execution_count": 128,
   "metadata": {},
   "outputs": [
    {
     "data": {
      "text/plain": [
       "107068"
      ]
     },
     "execution_count": 128,
     "metadata": {},
     "output_type": "execute_result"
    }
   ],
   "source": [
    "len(users.intersection(UNQ_test_user_ids))"
   ]
  },
  {
   "cell_type": "code",
   "execution_count": 129,
   "metadata": {},
   "outputs": [
    {
     "data": {
      "text/plain": [
       "107068"
      ]
     },
     "execution_count": 129,
     "metadata": {},
     "output_type": "execute_result"
    }
   ],
   "source": [
    "len(UNQ_test_user_ids)"
   ]
  },
  {
   "cell_type": "code",
   "execution_count": null,
   "metadata": {},
   "outputs": [],
   "source": []
  }
 ],
 "metadata": {
  "kernelspec": {
   "display_name": "Python 3",
   "language": "python",
   "name": "python3"
  },
  "language_info": {
   "codemirror_mode": {
    "name": "ipython",
    "version": 3
   },
   "file_extension": ".py",
   "mimetype": "text/x-python",
   "name": "python",
   "nbconvert_exporter": "python",
   "pygments_lexer": "ipython3",
   "version": "3.8.3"
  }
 },
 "nbformat": 4,
 "nbformat_minor": 4
}
