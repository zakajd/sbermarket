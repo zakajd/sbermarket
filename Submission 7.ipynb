{
 "cells": [
  {
   "cell_type": "code",
   "execution_count": 1,
   "metadata": {},
   "outputs": [],
   "source": [
    "import pandas as pd\n",
    "import matplotlib.pyplot as plt"
   ]
  },
  {
   "cell_type": "markdown",
   "metadata": {},
   "source": [
    "### User id"
   ]
  },
  {
   "cell_type": "code",
   "execution_count": 2,
   "metadata": {},
   "outputs": [
    {
     "data": {
      "text/html": [
       "<div>\n",
       "<style scoped>\n",
       "    .dataframe tbody tr th:only-of-type {\n",
       "        vertical-align: middle;\n",
       "    }\n",
       "\n",
       "    .dataframe tbody tr th {\n",
       "        vertical-align: top;\n",
       "    }\n",
       "\n",
       "    .dataframe thead th {\n",
       "        text-align: right;\n",
       "    }\n",
       "</style>\n",
       "<table border=\"1\" class=\"dataframe\">\n",
       "  <thead>\n",
       "    <tr style=\"text-align: right;\">\n",
       "      <th></th>\n",
       "      <th>Id</th>\n",
       "      <th>Predicted</th>\n",
       "    </tr>\n",
       "  </thead>\n",
       "  <tbody>\n",
       "    <tr>\n",
       "      <th>0</th>\n",
       "      <td>51</td>\n",
       "      <td>3239211 10720024 8493844 1965540 5009002 95218...</td>\n",
       "    </tr>\n",
       "    <tr>\n",
       "      <th>1</th>\n",
       "      <td>65</td>\n",
       "      <td>11693356 13392267 2464515 2245175 4748570 1134...</td>\n",
       "    </tr>\n",
       "    <tr>\n",
       "      <th>2</th>\n",
       "      <td>766</td>\n",
       "      <td>12773054 3692749 12726751 10041624 11893515 23...</td>\n",
       "    </tr>\n",
       "  </tbody>\n",
       "</table>\n",
       "</div>"
      ],
      "text/plain": [
       "    Id                                          Predicted\n",
       "0   51  3239211 10720024 8493844 1965540 5009002 95218...\n",
       "1   65  11693356 13392267 2464515 2245175 4748570 1134...\n",
       "2  766  12773054 3692749 12726751 10041624 11893515 23..."
      ]
     },
     "execution_count": 2,
     "metadata": {},
     "output_type": "execute_result"
    }
   ],
   "source": [
    "sample_submission = pd.read_csv('data/test-recsys/sample_submission.csv')\n",
    "sample_submission.head(3)"
   ]
  },
  {
   "cell_type": "code",
   "execution_count": 3,
   "metadata": {},
   "outputs": [
    {
     "data": {
      "text/plain": [
       "107068"
      ]
     },
     "execution_count": 3,
     "metadata": {},
     "output_type": "execute_result"
    }
   ],
   "source": [
    "test_user_ids = sample_submission['Id']\n",
    "UNQ_test_user_ids = set(test_user_ids)\n",
    "len(test_user_ids)"
   ]
  },
  {
   "cell_type": "code",
   "execution_count": 4,
   "metadata": {},
   "outputs": [
    {
     "data": {
      "text/plain": [
       "107068"
      ]
     },
     "execution_count": 4,
     "metadata": {},
     "output_type": "execute_result"
    }
   ],
   "source": [
    "len(UNQ_test_user_ids)"
   ]
  },
  {
   "cell_type": "markdown",
   "metadata": {},
   "source": [
    "### Топ продукты юзеров на всех данных"
   ]
  },
  {
   "cell_type": "code",
   "execution_count": 5,
   "metadata": {},
   "outputs": [],
   "source": [
    "import tqdm\n",
    "import fnmatch\n",
    "import os"
   ]
  },
  {
   "cell_type": "code",
   "execution_count": 7,
   "metadata": {},
   "outputs": [],
   "source": [
    "# del products"
   ]
  },
  {
   "cell_type": "code",
   "execution_count": 6,
   "metadata": {},
   "outputs": [
    {
     "name": "stderr",
     "output_type": "stream",
     "text": [
      "  0%|          | 0/6 [00:00<?, ?it/s]\n",
      "  0%|          | 0/10 [00:00<?, ?it/s]\u001b[A"
     ]
    },
    {
     "name": "stdout",
     "output_type": "stream",
     "text": [
      "2_1/\n"
     ]
    },
    {
     "name": "stderr",
     "output_type": "stream",
     "text": [
      "\n",
      " 10%|█         | 1/10 [00:00<00:06,  1.39it/s]\u001b[A\n",
      " 20%|██        | 2/10 [00:01<00:05,  1.34it/s]\u001b[A\n",
      " 30%|███       | 3/10 [00:02<00:05,  1.23it/s]\u001b[A\n",
      " 40%|████      | 4/10 [00:03<00:05,  1.07it/s]\u001b[A\n",
      " 50%|█████     | 5/10 [00:04<00:05,  1.02s/it]\u001b[A\n",
      " 60%|██████    | 6/10 [00:06<00:04,  1.12s/it]\u001b[A\n",
      " 70%|███████   | 7/10 [00:07<00:03,  1.19s/it]\u001b[A\n",
      " 80%|████████  | 8/10 [00:09<00:03,  1.54s/it]\u001b[A\n",
      " 90%|█████████ | 9/10 [00:12<00:01,  1.97s/it]\u001b[A\n",
      "100%|██████████| 10/10 [00:16<00:00,  1.65s/it]\u001b[A\n",
      " 17%|█▋        | 1/6 [00:16<01:22, 16.53s/it]\n",
      "  0%|          | 0/3 [00:00<?, ?it/s]\u001b[A"
     ]
    },
    {
     "name": "stdout",
     "output_type": "stream",
     "text": [
      "2_2/\n"
     ]
    },
    {
     "name": "stderr",
     "output_type": "stream",
     "text": [
      "\n",
      " 33%|███▎      | 1/3 [00:04<00:09,  4.70s/it]\u001b[A\n",
      " 67%|██████▋   | 2/3 [00:10<00:04,  4.94s/it]\u001b[A\n",
      "100%|██████████| 3/3 [00:16<00:00,  5.60s/it]\u001b[A\n",
      " 33%|███▎      | 2/6 [00:33<01:06, 16.60s/it]\n",
      "  0%|          | 0/3 [00:00<?, ?it/s]\u001b[A"
     ]
    },
    {
     "name": "stdout",
     "output_type": "stream",
     "text": [
      "2_3/\n"
     ]
    },
    {
     "name": "stderr",
     "output_type": "stream",
     "text": [
      "\n",
      " 33%|███▎      | 1/3 [00:07<00:14,  7.38s/it]\u001b[A\n",
      " 67%|██████▋   | 2/3 [00:15<00:07,  7.60s/it]\u001b[A\n",
      "100%|██████████| 3/3 [00:23<00:00,  7.81s/it]\u001b[A\n",
      " 50%|█████     | 3/6 [00:56<00:55, 18.65s/it]\n",
      "  0%|          | 0/3 [00:00<?, ?it/s]\u001b[A"
     ]
    },
    {
     "name": "stdout",
     "output_type": "stream",
     "text": [
      "2_4/\n"
     ]
    },
    {
     "name": "stderr",
     "output_type": "stream",
     "text": [
      "\n",
      " 33%|███▎      | 1/3 [00:07<00:15,  7.68s/it]\u001b[A\n",
      " 67%|██████▋   | 2/3 [00:13<00:07,  7.27s/it]\u001b[A\n",
      "100%|██████████| 3/3 [00:20<00:00,  6.67s/it]\u001b[A\n",
      " 67%|██████▋   | 4/6 [01:16<00:38, 19.06s/it]\n",
      "  0%|          | 0/3 [00:00<?, ?it/s]\u001b[A"
     ]
    },
    {
     "name": "stdout",
     "output_type": "stream",
     "text": [
      "2_5/\n"
     ]
    },
    {
     "name": "stderr",
     "output_type": "stream",
     "text": [
      "\n",
      " 33%|███▎      | 1/3 [00:06<00:12,  6.33s/it]\u001b[A\n",
      " 67%|██████▋   | 2/3 [00:12<00:06,  6.23s/it]\u001b[A\n",
      "100%|██████████| 3/3 [00:17<00:00,  5.98s/it]\u001b[A\n",
      " 83%|████████▎ | 5/6 [01:34<00:18, 18.73s/it]\n",
      "  0%|          | 0/4 [00:00<?, ?it/s]\u001b[A"
     ]
    },
    {
     "name": "stdout",
     "output_type": "stream",
     "text": [
      "2_6/\n"
     ]
    },
    {
     "name": "stderr",
     "output_type": "stream",
     "text": [
      "\n",
      " 25%|██▌       | 1/4 [00:05<00:17,  5.81s/it]\u001b[A\n",
      " 50%|█████     | 2/4 [00:12<00:11,  5.94s/it]\u001b[A\n",
      " 75%|███████▌  | 3/4 [00:18<00:06,  6.11s/it]\u001b[A\n",
      "100%|██████████| 4/4 [00:25<00:00,  6.27s/it]\u001b[A\n",
      "100%|██████████| 6/6 [01:59<00:00, 19.97s/it]\n"
     ]
    },
    {
     "data": {
      "text/plain": [
       "21677070"
      ]
     },
     "execution_count": 6,
     "metadata": {},
     "output_type": "execute_result"
    }
   ],
   "source": [
    "sections = ['2_1/', '2_2/', '2_3/', '2_4/', '2_5/', '2_6/']\n",
    "\n",
    "products = None\n",
    "\n",
    "for section in tqdm.tqdm(sections):\n",
    "    print(section)\n",
    "    \n",
    "    tab = fnmatch.filter(os.listdir('data/test-recsys/sbermarket_tab_' + section), 'tab_2*.csv')\n",
    "\n",
    "    for file_name in tqdm.tqdm(tab):\n",
    "\n",
    "        if products is None:\n",
    "            products = pd.read_csv('data/test-recsys/sbermarket_tab_' + section + file_name)[['user_id', 'product_id']]\n",
    "            products = products[products['user_id'].isin(UNQ_test_user_ids)]\n",
    "        else:\n",
    "            frame = pd.read_csv('data/test-recsys/sbermarket_tab_' + section + file_name)[['user_id', 'product_id']]\n",
    "            frame = frame[frame['user_id'].isin(UNQ_test_user_ids)]\n",
    "            products = products.append(frame, ignore_index=True)\n",
    "\n",
    "len(products)"
   ]
  },
  {
   "cell_type": "code",
   "execution_count": 8,
   "metadata": {},
   "outputs": [
    {
     "data": {
      "text/html": [
       "<div>\n",
       "<style scoped>\n",
       "    .dataframe tbody tr th:only-of-type {\n",
       "        vertical-align: middle;\n",
       "    }\n",
       "\n",
       "    .dataframe tbody tr th {\n",
       "        vertical-align: top;\n",
       "    }\n",
       "\n",
       "    .dataframe thead th {\n",
       "        text-align: right;\n",
       "    }\n",
       "</style>\n",
       "<table border=\"1\" class=\"dataframe\">\n",
       "  <thead>\n",
       "    <tr style=\"text-align: right;\">\n",
       "      <th></th>\n",
       "      <th>user_id</th>\n",
       "      <th>predicted</th>\n",
       "    </tr>\n",
       "  </thead>\n",
       "  <tbody>\n",
       "    <tr>\n",
       "      <th>0</th>\n",
       "      <td>51</td>\n",
       "      <td>3239211 10720024 8493844 1965540 5009002 95218...</td>\n",
       "    </tr>\n",
       "    <tr>\n",
       "      <th>1</th>\n",
       "      <td>65</td>\n",
       "      <td>11693356 13392267 2464515 2245175 4748570 1134...</td>\n",
       "    </tr>\n",
       "    <tr>\n",
       "      <th>2</th>\n",
       "      <td>766</td>\n",
       "      <td>12773054 3692749 12726751 10041624 11893515 23...</td>\n",
       "    </tr>\n",
       "  </tbody>\n",
       "</table>\n",
       "</div>"
      ],
      "text/plain": [
       "   user_id                                          predicted\n",
       "0       51  3239211 10720024 8493844 1965540 5009002 95218...\n",
       "1       65  11693356 13392267 2464515 2245175 4748570 1134...\n",
       "2      766  12773054 3692749 12726751 10041624 11893515 23..."
      ]
     },
     "execution_count": 8,
     "metadata": {},
     "output_type": "execute_result"
    }
   ],
   "source": [
    "sample_submission.columns = ['user_id', 'predicted']\n",
    "sample_submission.head(3)"
   ]
  },
  {
   "cell_type": "code",
   "execution_count": 9,
   "metadata": {},
   "outputs": [],
   "source": [
    "test_user_product = pd.merge(products, sample_submission, on='user_id')"
   ]
  },
  {
   "cell_type": "code",
   "execution_count": 10,
   "metadata": {},
   "outputs": [
    {
     "data": {
      "text/plain": [
       "21677070"
      ]
     },
     "execution_count": 10,
     "metadata": {},
     "output_type": "execute_result"
    }
   ],
   "source": [
    "len(test_user_product)"
   ]
  },
  {
   "cell_type": "code",
   "execution_count": 11,
   "metadata": {},
   "outputs": [
    {
     "data": {
      "text/html": [
       "<div>\n",
       "<style scoped>\n",
       "    .dataframe tbody tr th:only-of-type {\n",
       "        vertical-align: middle;\n",
       "    }\n",
       "\n",
       "    .dataframe tbody tr th {\n",
       "        vertical-align: top;\n",
       "    }\n",
       "\n",
       "    .dataframe thead th {\n",
       "        text-align: right;\n",
       "    }\n",
       "</style>\n",
       "<table border=\"1\" class=\"dataframe\">\n",
       "  <thead>\n",
       "    <tr style=\"text-align: right;\">\n",
       "      <th></th>\n",
       "      <th>user_id</th>\n",
       "      <th>product_id</th>\n",
       "      <th>count</th>\n",
       "    </tr>\n",
       "  </thead>\n",
       "  <tbody>\n",
       "    <tr>\n",
       "      <th>15124310</th>\n",
       "      <td>3142875</td>\n",
       "      <td>9741</td>\n",
       "      <td>3</td>\n",
       "    </tr>\n",
       "    <tr>\n",
       "      <th>15124311</th>\n",
       "      <td>3142875</td>\n",
       "      <td>63760</td>\n",
       "      <td>1</td>\n",
       "    </tr>\n",
       "    <tr>\n",
       "      <th>15124312</th>\n",
       "      <td>3142875</td>\n",
       "      <td>63762</td>\n",
       "      <td>1</td>\n",
       "    </tr>\n",
       "    <tr>\n",
       "      <th>15124313</th>\n",
       "      <td>3142875</td>\n",
       "      <td>63763</td>\n",
       "      <td>1</td>\n",
       "    </tr>\n",
       "    <tr>\n",
       "      <th>15124314</th>\n",
       "      <td>3142875</td>\n",
       "      <td>67694</td>\n",
       "      <td>1</td>\n",
       "    </tr>\n",
       "    <tr>\n",
       "      <th>...</th>\n",
       "      <td>...</td>\n",
       "      <td>...</td>\n",
       "      <td>...</td>\n",
       "    </tr>\n",
       "    <tr>\n",
       "      <th>495</th>\n",
       "      <td>51</td>\n",
       "      <td>7386516</td>\n",
       "      <td>1</td>\n",
       "    </tr>\n",
       "    <tr>\n",
       "      <th>496</th>\n",
       "      <td>51</td>\n",
       "      <td>7724781</td>\n",
       "      <td>1</td>\n",
       "    </tr>\n",
       "    <tr>\n",
       "      <th>498</th>\n",
       "      <td>51</td>\n",
       "      <td>10527105</td>\n",
       "      <td>1</td>\n",
       "    </tr>\n",
       "    <tr>\n",
       "      <th>499</th>\n",
       "      <td>51</td>\n",
       "      <td>10527113</td>\n",
       "      <td>1</td>\n",
       "    </tr>\n",
       "    <tr>\n",
       "      <th>500</th>\n",
       "      <td>51</td>\n",
       "      <td>13230748</td>\n",
       "      <td>1</td>\n",
       "    </tr>\n",
       "  </tbody>\n",
       "</table>\n",
       "<p>15124321 rows × 3 columns</p>\n",
       "</div>"
      ],
      "text/plain": [
       "          user_id  product_id  count\n",
       "15124310  3142875        9741      3\n",
       "15124311  3142875       63760      1\n",
       "15124312  3142875       63762      1\n",
       "15124313  3142875       63763      1\n",
       "15124314  3142875       67694      1\n",
       "...           ...         ...    ...\n",
       "495            51     7386516      1\n",
       "496            51     7724781      1\n",
       "498            51    10527105      1\n",
       "499            51    10527113      1\n",
       "500            51    13230748      1\n",
       "\n",
       "[15124321 rows x 3 columns]"
      ]
     },
     "execution_count": 11,
     "metadata": {},
     "output_type": "execute_result"
    }
   ],
   "source": [
    "groupby_0 = pd.DataFrame({'count' : test_user_product.groupby(['user_id', 'product_id']).size()}).reset_index()\n",
    "groupby_0 = groupby_0.sort_values(['user_id', 'count'], ascending=False)\n",
    "groupby_0"
   ]
  },
  {
   "cell_type": "code",
   "execution_count": 12,
   "metadata": {},
   "outputs": [
    {
     "name": "stdout",
     "output_type": "stream",
     "text": [
      "user_id\n",
      "51         14863 19562 63057 3562687 709 9979 456 661 550...\n",
      "65         54728 18450 3817542 709 18439 26062 105764 771...\n",
      "187                                              88084 88086\n",
      "400        0 813 94333 3817507 177 407 26751 55034 57085 ...\n",
      "576        177 2600 102 4443 5628 10002 10757 14007 46469...\n",
      "                                 ...                        \n",
      "3142760    225 452 1985 5154 5601 6567 6757 8333 12817 13...\n",
      "3142766    104 166 172 180 6341 14770 18438 19932 37061 5...\n",
      "3142774    14616 21868 201892 1159915 1159916 4033462 504...\n",
      "3142820    0 13120 13181 14105 15375 22194 38251 38931 57...\n",
      "3142875    9741 63760 63762 63763 67694 68465 5044950 504...\n",
      "Name: product_id, Length: 107068, dtype: object\n"
     ]
    }
   ],
   "source": [
    "grouped_df = groupby_0.groupby('user_id')\n",
    "grouped_lists = grouped_df['product_id'].agg(lambda column: \" \".join([str(elem) for elem in column]))\n",
    "print(grouped_lists)"
   ]
  },
  {
   "cell_type": "code",
   "execution_count": 13,
   "metadata": {},
   "outputs": [
    {
     "data": {
      "text/plain": [
       "107068"
      ]
     },
     "execution_count": 13,
     "metadata": {},
     "output_type": "execute_result"
    }
   ],
   "source": [
    "len(grouped_lists)"
   ]
  },
  {
   "cell_type": "code",
   "execution_count": 14,
   "metadata": {},
   "outputs": [
    {
     "data": {
      "text/html": [
       "<div>\n",
       "<style scoped>\n",
       "    .dataframe tbody tr th:only-of-type {\n",
       "        vertical-align: middle;\n",
       "    }\n",
       "\n",
       "    .dataframe tbody tr th {\n",
       "        vertical-align: top;\n",
       "    }\n",
       "\n",
       "    .dataframe thead th {\n",
       "        text-align: right;\n",
       "    }\n",
       "</style>\n",
       "<table border=\"1\" class=\"dataframe\">\n",
       "  <thead>\n",
       "    <tr style=\"text-align: right;\">\n",
       "      <th></th>\n",
       "      <th>user_id</th>\n",
       "      <th>product_id</th>\n",
       "    </tr>\n",
       "  </thead>\n",
       "  <tbody>\n",
       "    <tr>\n",
       "      <th>0</th>\n",
       "      <td>51</td>\n",
       "      <td>14863 19562 63057 3562687 709 9979 456 661 550...</td>\n",
       "    </tr>\n",
       "    <tr>\n",
       "      <th>1</th>\n",
       "      <td>65</td>\n",
       "      <td>54728 18450 3817542 709 18439 26062 105764 771...</td>\n",
       "    </tr>\n",
       "    <tr>\n",
       "      <th>2</th>\n",
       "      <td>766</td>\n",
       "      <td>3043457 3041849 0 3042629 4033676 3497419 981 ...</td>\n",
       "    </tr>\n",
       "  </tbody>\n",
       "</table>\n",
       "</div>"
      ],
      "text/plain": [
       "   user_id                                         product_id\n",
       "0       51  14863 19562 63057 3562687 709 9979 456 661 550...\n",
       "1       65  54728 18450 3817542 709 18439 26062 105764 771...\n",
       "2      766  3043457 3041849 0 3042629 4033676 3497419 981 ..."
      ]
     },
     "execution_count": 14,
     "metadata": {},
     "output_type": "execute_result"
    }
   ],
   "source": [
    "test_submit = pd.merge(sample_submission, grouped_lists, on='user_id', how='left')\n",
    "test_submit = test_submit.drop(columns=['predicted'])\n",
    "test_submit.head(3)"
   ]
  },
  {
   "cell_type": "code",
   "execution_count": 15,
   "metadata": {},
   "outputs": [],
   "source": [
    "test_submit.rename(columns={'user_id': 'Id', 'product_id': 'Predicted'})\\\n",
    "    .to_csv('test_submission_04.csv', sep=',', header=True, index=False)"
   ]
  },
  {
   "cell_type": "markdown",
   "metadata": {},
   "source": [
    "### Выбрать топ продукты за все время"
   ]
  },
  {
   "cell_type": "code",
   "execution_count": 64,
   "metadata": {},
   "outputs": [
    {
     "name": "stderr",
     "output_type": "stream",
     "text": [
      "  0%|          | 0/6 [00:00<?, ?it/s]\n",
      "  0%|          | 0/10 [00:00<?, ?it/s]\u001b[A"
     ]
    },
    {
     "name": "stdout",
     "output_type": "stream",
     "text": [
      "2_1/\n"
     ]
    },
    {
     "name": "stderr",
     "output_type": "stream",
     "text": [
      "\n",
      " 10%|█         | 1/10 [00:00<00:04,  1.86it/s]\u001b[A\n",
      " 20%|██        | 2/10 [00:01<00:05,  1.57it/s]\u001b[A\n",
      " 30%|███       | 3/10 [00:02<00:04,  1.40it/s]\u001b[A\n",
      " 40%|████      | 4/10 [00:03<00:04,  1.20it/s]\u001b[A\n",
      " 50%|█████     | 5/10 [00:04<00:04,  1.03it/s]\u001b[A\n",
      " 60%|██████    | 6/10 [00:06<00:04,  1.13s/it]\u001b[A\n",
      " 70%|███████   | 7/10 [00:07<00:03,  1.24s/it]\u001b[A\n",
      " 80%|████████  | 8/10 [00:10<00:03,  1.60s/it]\u001b[A\n",
      " 90%|█████████ | 9/10 [00:13<00:02,  2.03s/it]\u001b[A\n",
      "100%|██████████| 10/10 [00:16<00:00,  1.68s/it]\u001b[A\n",
      " 17%|█▋        | 1/6 [00:16<01:24, 16.82s/it]\n",
      "  0%|          | 0/3 [00:00<?, ?it/s]\u001b[A"
     ]
    },
    {
     "name": "stdout",
     "output_type": "stream",
     "text": [
      "2_2/\n"
     ]
    },
    {
     "name": "stderr",
     "output_type": "stream",
     "text": [
      "\n",
      " 33%|███▎      | 1/3 [00:04<00:09,  4.97s/it]\u001b[A\n",
      " 67%|██████▋   | 2/3 [00:10<00:05,  5.11s/it]\u001b[A\n",
      "100%|██████████| 3/3 [00:17<00:00,  5.78s/it]\u001b[A\n",
      " 33%|███▎      | 2/6 [00:34<01:07, 16.97s/it]\n",
      "  0%|          | 0/3 [00:00<?, ?it/s]\u001b[A"
     ]
    },
    {
     "name": "stdout",
     "output_type": "stream",
     "text": [
      "2_3/\n"
     ]
    },
    {
     "name": "stderr",
     "output_type": "stream",
     "text": [
      "\n",
      " 33%|███▎      | 1/3 [00:07<00:15,  7.54s/it]\u001b[A\n",
      " 67%|██████▋   | 2/3 [00:15<00:07,  7.70s/it]\u001b[A\n",
      "100%|██████████| 3/3 [00:23<00:00,  7.92s/it]\u001b[A\n",
      " 50%|█████     | 3/6 [00:57<00:57, 19.01s/it]\n",
      "  0%|          | 0/3 [00:00<?, ?it/s]\u001b[A"
     ]
    },
    {
     "name": "stdout",
     "output_type": "stream",
     "text": [
      "2_4/\n"
     ]
    },
    {
     "name": "stderr",
     "output_type": "stream",
     "text": [
      "\n",
      " 33%|███▎      | 1/3 [00:06<00:13,  6.94s/it]\u001b[A\n",
      " 67%|██████▋   | 2/3 [00:12<00:06,  6.64s/it]\u001b[A\n",
      "100%|██████████| 3/3 [00:18<00:00,  6.11s/it]\u001b[A\n",
      " 67%|██████▋   | 4/6 [01:16<00:37, 18.81s/it]\n",
      "  0%|          | 0/3 [00:00<?, ?it/s]\u001b[A"
     ]
    },
    {
     "name": "stdout",
     "output_type": "stream",
     "text": [
      "2_5/\n"
     ]
    },
    {
     "name": "stderr",
     "output_type": "stream",
     "text": [
      "\n",
      " 33%|███▎      | 1/3 [00:05<00:11,  5.76s/it]\u001b[A\n",
      " 67%|██████▋   | 2/3 [00:11<00:05,  5.64s/it]\u001b[A\n",
      "100%|██████████| 3/3 [00:16<00:00,  5.60s/it]\u001b[A\n",
      " 83%|████████▎ | 5/6 [01:33<00:18, 18.21s/it]\n",
      "  0%|          | 0/4 [00:00<?, ?it/s]\u001b[A"
     ]
    },
    {
     "name": "stdout",
     "output_type": "stream",
     "text": [
      "2_6/\n"
     ]
    },
    {
     "name": "stderr",
     "output_type": "stream",
     "text": [
      "\n",
      " 25%|██▌       | 1/4 [00:05<00:17,  5.79s/it]\u001b[A\n",
      " 50%|█████     | 2/4 [00:11<00:11,  5.81s/it]\u001b[A\n",
      " 75%|███████▌  | 3/4 [00:18<00:06,  6.07s/it]\u001b[A\n",
      "100%|██████████| 4/4 [00:25<00:00,  6.26s/it]\u001b[A\n",
      "100%|██████████| 6/6 [01:58<00:00, 19.69s/it]\n"
     ]
    },
    {
     "data": {
      "text/plain": [
       "21677070"
      ]
     },
     "execution_count": 64,
     "metadata": {},
     "output_type": "execute_result"
    }
   ],
   "source": [
    "sections = ['2_1/', '2_2/', '2_3/', '2_4/', '2_5/', '2_6/']\n",
    "\n",
    "products_all = None\n",
    "\n",
    "for section in tqdm.tqdm(sections):\n",
    "    print(section)\n",
    "    \n",
    "    tab = fnmatch.filter(os.listdir('data/test-recsys/sbermarket_tab_' + section), 'tab_2*.csv')\n",
    "\n",
    "    for file_name in tqdm.tqdm(tab):\n",
    "\n",
    "        if products_all is None:\n",
    "            products_all = pd.read_csv(\n",
    "                'data/test-recsys/sbermarket_tab_' + section + file_name)[['user_id', 'product_id', 'product_name']]\n",
    "            products_all = products_all[products_all['user_id'].isin(UNQ_test_user_ids)][['product_id', 'product_name']]\n",
    "        else:\n",
    "            frame = pd.read_csv(\n",
    "                'data/test-recsys/sbermarket_tab_' + section + file_name)[['user_id', 'product_id', 'product_name']]\n",
    "            frame = frame[frame['user_id'].isin(UNQ_test_user_ids)][['product_id', 'product_name']]\n",
    "            products_all = products_all.append(frame, ignore_index=True)\n",
    "\n",
    "len(products_all)"
   ]
  },
  {
   "cell_type": "code",
   "execution_count": 66,
   "metadata": {},
   "outputs": [
    {
     "data": {
      "text/html": [
       "<div>\n",
       "<style scoped>\n",
       "    .dataframe tbody tr th:only-of-type {\n",
       "        vertical-align: middle;\n",
       "    }\n",
       "\n",
       "    .dataframe tbody tr th {\n",
       "        vertical-align: top;\n",
       "    }\n",
       "\n",
       "    .dataframe thead th {\n",
       "        text-align: right;\n",
       "    }\n",
       "</style>\n",
       "<table border=\"1\" class=\"dataframe\">\n",
       "  <thead>\n",
       "    <tr style=\"text-align: right;\">\n",
       "      <th></th>\n",
       "      <th>product_id</th>\n",
       "      <th>product_name</th>\n",
       "    </tr>\n",
       "  </thead>\n",
       "  <tbody>\n",
       "    <tr>\n",
       "      <th>0</th>\n",
       "      <td>3069043</td>\n",
       "      <td>Вода минеральная Славяновская среднегазированн...</td>\n",
       "    </tr>\n",
       "    <tr>\n",
       "      <th>1</th>\n",
       "      <td>3041849</td>\n",
       "      <td>Молоко Маруся пастеризованное 3,5-4,5% 930 мл</td>\n",
       "    </tr>\n",
       "    <tr>\n",
       "      <th>2</th>\n",
       "      <td>216</td>\n",
       "      <td>Творог Благода Крестьянский 12% 180 г</td>\n",
       "    </tr>\n",
       "  </tbody>\n",
       "</table>\n",
       "</div>"
      ],
      "text/plain": [
       "   product_id                                       product_name\n",
       "0     3069043  Вода минеральная Славяновская среднегазированн...\n",
       "1     3041849      Молоко Маруся пастеризованное 3,5-4,5% 930 мл\n",
       "2         216              Творог Благода Крестьянский 12% 180 г"
      ]
     },
     "execution_count": 66,
     "metadata": {},
     "output_type": "execute_result"
    }
   ],
   "source": [
    "products_all.head(3)"
   ]
  },
  {
   "cell_type": "code",
   "execution_count": 67,
   "metadata": {},
   "outputs": [
    {
     "data": {
      "text/html": [
       "<div>\n",
       "<style scoped>\n",
       "    .dataframe tbody tr th:only-of-type {\n",
       "        vertical-align: middle;\n",
       "    }\n",
       "\n",
       "    .dataframe tbody tr th {\n",
       "        vertical-align: top;\n",
       "    }\n",
       "\n",
       "    .dataframe thead th {\n",
       "        text-align: right;\n",
       "    }\n",
       "</style>\n",
       "<table border=\"1\" class=\"dataframe\">\n",
       "  <thead>\n",
       "    <tr style=\"text-align: right;\">\n",
       "      <th></th>\n",
       "      <th>product_id</th>\n",
       "      <th>product_name</th>\n",
       "      <th>count</th>\n",
       "    </tr>\n",
       "  </thead>\n",
       "  <tbody>\n",
       "    <tr>\n",
       "      <th>193</th>\n",
       "      <td>709</td>\n",
       "      <td>Бананы</td>\n",
       "      <td>139570</td>\n",
       "    </tr>\n",
       "    <tr>\n",
       "      <th>9290</th>\n",
       "      <td>39590</td>\n",
       "      <td>Сметана Простоквашино 15 % 315 г бзмж</td>\n",
       "      <td>44804</td>\n",
       "    </tr>\n",
       "    <tr>\n",
       "      <th>71</th>\n",
       "      <td>166</td>\n",
       "      <td>Молоко Простоквашино Отборное пастеризованное ...</td>\n",
       "      <td>36970</td>\n",
       "    </tr>\n",
       "    <tr>\n",
       "      <th>10588</th>\n",
       "      <td>55133</td>\n",
       "      <td>Помидоры</td>\n",
       "      <td>34424</td>\n",
       "    </tr>\n",
       "    <tr>\n",
       "      <th>361</th>\n",
       "      <td>1300</td>\n",
       "      <td>Сахар Aro белый кристаллический 1 кг</td>\n",
       "      <td>32142</td>\n",
       "    </tr>\n",
       "    <tr>\n",
       "      <th>...</th>\n",
       "      <td>...</td>\n",
       "      <td>...</td>\n",
       "      <td>...</td>\n",
       "    </tr>\n",
       "    <tr>\n",
       "      <th>80625</th>\n",
       "      <td>7323563</td>\n",
       "      <td>Тесто Billa дрожжевое 600 г</td>\n",
       "      <td>1</td>\n",
       "    </tr>\n",
       "    <tr>\n",
       "      <th>80626</th>\n",
       "      <td>7323572</td>\n",
       "      <td>Пастила Billa ванильно-сливочная 220 г</td>\n",
       "      <td>1</td>\n",
       "    </tr>\n",
       "    <tr>\n",
       "      <th>87328</th>\n",
       "      <td>7470328</td>\n",
       "      <td>Подкладка Limpopo для лепки настольная в ассор...</td>\n",
       "      <td>1</td>\n",
       "    </tr>\n",
       "    <tr>\n",
       "      <th>87327</th>\n",
       "      <td>7470327</td>\n",
       "      <td>Подкладка Limpopo для лепки в ассортименте А5</td>\n",
       "      <td>1</td>\n",
       "    </tr>\n",
       "    <tr>\n",
       "      <th>77011</th>\n",
       "      <td>7057865</td>\n",
       "      <td>Томаты Гвардейские теплицы черные</td>\n",
       "      <td>1</td>\n",
       "    </tr>\n",
       "  </tbody>\n",
       "</table>\n",
       "<p>91992 rows × 3 columns</p>\n",
       "</div>"
      ],
      "text/plain": [
       "       product_id                                       product_name   count\n",
       "193           709                                             Бананы  139570\n",
       "9290        39590              Сметана Простоквашино 15 % 315 г бзмж   44804\n",
       "71            166  Молоко Простоквашино Отборное пастеризованное ...   36970\n",
       "10588       55133                                           Помидоры   34424\n",
       "361          1300               Сахар Aro белый кристаллический 1 кг   32142\n",
       "...           ...                                                ...     ...\n",
       "80625     7323563                        Тесто Billa дрожжевое 600 г       1\n",
       "80626     7323572             Пастила Billa ванильно-сливочная 220 г       1\n",
       "87328     7470328  Подкладка Limpopo для лепки настольная в ассор...       1\n",
       "87327     7470327      Подкладка Limpopo для лепки в ассортименте А5       1\n",
       "77011     7057865                  Томаты Гвардейские теплицы черные       1\n",
       "\n",
       "[91992 rows x 3 columns]"
      ]
     },
     "execution_count": 67,
     "metadata": {},
     "output_type": "execute_result"
    }
   ],
   "source": [
    "groupby_0 = pd.DataFrame({'count' : products_all.groupby(['product_id', 'product_name']).size()}).reset_index()\n",
    "groupby_0 = groupby_0.sort_values(['count'], ascending=False)\n",
    "groupby_0"
   ]
  },
  {
   "cell_type": "code",
   "execution_count": 68,
   "metadata": {},
   "outputs": [],
   "source": [
    "top_products = groupby_0['product_id'][:50].tolist()\n",
    "top_products = [str(product) for product in top_products]\n",
    "# top_products"
   ]
  },
  {
   "cell_type": "code",
   "execution_count": 69,
   "metadata": {},
   "outputs": [],
   "source": [
    "def fill_with_top_products(x):\n",
    "    ids = x.split()\n",
    "    if len(ids) < 50:\n",
    "        ids.extend(top_products[:50 - len(ids)])\n",
    "        \n",
    "    return \" \".join(ids)"
   ]
  },
  {
   "cell_type": "code",
   "execution_count": 70,
   "metadata": {},
   "outputs": [
    {
     "data": {
      "text/plain": [
       "50"
      ]
     },
     "execution_count": 70,
     "metadata": {},
     "output_type": "execute_result"
    }
   ],
   "source": [
    "len(fill_with_top_products(\"12 34 5\").split())"
   ]
  },
  {
   "cell_type": "code",
   "execution_count": 71,
   "metadata": {},
   "outputs": [],
   "source": [
    "test_submit['product_id'] = test_submit['product_id'].apply(lambda x: fill_with_top_products(x))"
   ]
  },
  {
   "cell_type": "code",
   "execution_count": 72,
   "metadata": {},
   "outputs": [
    {
     "data": {
      "text/html": [
       "<div>\n",
       "<style scoped>\n",
       "    .dataframe tbody tr th:only-of-type {\n",
       "        vertical-align: middle;\n",
       "    }\n",
       "\n",
       "    .dataframe tbody tr th {\n",
       "        vertical-align: top;\n",
       "    }\n",
       "\n",
       "    .dataframe thead th {\n",
       "        text-align: right;\n",
       "    }\n",
       "</style>\n",
       "<table border=\"1\" class=\"dataframe\">\n",
       "  <thead>\n",
       "    <tr style=\"text-align: right;\">\n",
       "      <th></th>\n",
       "      <th>user_id</th>\n",
       "      <th>product_id</th>\n",
       "    </tr>\n",
       "  </thead>\n",
       "  <tbody>\n",
       "    <tr>\n",
       "      <th>0</th>\n",
       "      <td>51</td>\n",
       "      <td>14863 19562 63057 3562687 709 9979 456 661 550...</td>\n",
       "    </tr>\n",
       "    <tr>\n",
       "      <th>1</th>\n",
       "      <td>65</td>\n",
       "      <td>54728 18450 3817542 709 18439 26062 105764 771...</td>\n",
       "    </tr>\n",
       "    <tr>\n",
       "      <th>2</th>\n",
       "      <td>766</td>\n",
       "      <td>3043457 3041849 0 3042629 4033676 3497419 981 ...</td>\n",
       "    </tr>\n",
       "    <tr>\n",
       "      <th>3</th>\n",
       "      <td>1132</td>\n",
       "      <td>95465 2629 9970 91008 2599278 1199 1583 2165 2...</td>\n",
       "    </tr>\n",
       "    <tr>\n",
       "      <th>4</th>\n",
       "      <td>1578</td>\n",
       "      <td>22161 19924 304 4513 45457 4689 19562 69131 25...</td>\n",
       "    </tr>\n",
       "  </tbody>\n",
       "</table>\n",
       "</div>"
      ],
      "text/plain": [
       "   user_id                                         product_id\n",
       "0       51  14863 19562 63057 3562687 709 9979 456 661 550...\n",
       "1       65  54728 18450 3817542 709 18439 26062 105764 771...\n",
       "2      766  3043457 3041849 0 3042629 4033676 3497419 981 ...\n",
       "3     1132  95465 2629 9970 91008 2599278 1199 1583 2165 2...\n",
       "4     1578  22161 19924 304 4513 45457 4689 19562 69131 25..."
      ]
     },
     "execution_count": 72,
     "metadata": {},
     "output_type": "execute_result"
    }
   ],
   "source": [
    "test_submit.head()"
   ]
  },
  {
   "cell_type": "code",
   "execution_count": 73,
   "metadata": {},
   "outputs": [],
   "source": [
    "test_submit['length'] = test_submit['product_id'].apply(lambda x: len(x.split()))"
   ]
  },
  {
   "cell_type": "code",
   "execution_count": 74,
   "metadata": {},
   "outputs": [
    {
     "data": {
      "text/html": [
       "<div>\n",
       "<style scoped>\n",
       "    .dataframe tbody tr th:only-of-type {\n",
       "        vertical-align: middle;\n",
       "    }\n",
       "\n",
       "    .dataframe tbody tr th {\n",
       "        vertical-align: top;\n",
       "    }\n",
       "\n",
       "    .dataframe thead th {\n",
       "        text-align: right;\n",
       "    }\n",
       "</style>\n",
       "<table border=\"1\" class=\"dataframe\">\n",
       "  <thead>\n",
       "    <tr style=\"text-align: right;\">\n",
       "      <th></th>\n",
       "      <th>user_id</th>\n",
       "      <th>product_id</th>\n",
       "      <th>length</th>\n",
       "    </tr>\n",
       "  </thead>\n",
       "  <tbody>\n",
       "    <tr>\n",
       "      <th>0</th>\n",
       "      <td>51</td>\n",
       "      <td>14863 19562 63057 3562687 709 9979 456 661 550...</td>\n",
       "      <td>501</td>\n",
       "    </tr>\n",
       "    <tr>\n",
       "      <th>1</th>\n",
       "      <td>65</td>\n",
       "      <td>54728 18450 3817542 709 18439 26062 105764 771...</td>\n",
       "      <td>176</td>\n",
       "    </tr>\n",
       "    <tr>\n",
       "      <th>2</th>\n",
       "      <td>766</td>\n",
       "      <td>3043457 3041849 0 3042629 4033676 3497419 981 ...</td>\n",
       "      <td>305</td>\n",
       "    </tr>\n",
       "    <tr>\n",
       "      <th>3</th>\n",
       "      <td>1132</td>\n",
       "      <td>95465 2629 9970 91008 2599278 1199 1583 2165 2...</td>\n",
       "      <td>103</td>\n",
       "    </tr>\n",
       "    <tr>\n",
       "      <th>4</th>\n",
       "      <td>1578</td>\n",
       "      <td>22161 19924 304 4513 45457 4689 19562 69131 25...</td>\n",
       "      <td>683</td>\n",
       "    </tr>\n",
       "  </tbody>\n",
       "</table>\n",
       "</div>"
      ],
      "text/plain": [
       "   user_id                                         product_id  length\n",
       "0       51  14863 19562 63057 3562687 709 9979 456 661 550...     501\n",
       "1       65  54728 18450 3817542 709 18439 26062 105764 771...     176\n",
       "2      766  3043457 3041849 0 3042629 4033676 3497419 981 ...     305\n",
       "3     1132  95465 2629 9970 91008 2599278 1199 1583 2165 2...     103\n",
       "4     1578  22161 19924 304 4513 45457 4689 19562 69131 25...     683"
      ]
     },
     "execution_count": 74,
     "metadata": {},
     "output_type": "execute_result"
    }
   ],
   "source": [
    "test_submit.head()"
   ]
  },
  {
   "cell_type": "code",
   "execution_count": 75,
   "metadata": {},
   "outputs": [
    {
     "data": {
      "text/plain": [
       "True"
      ]
     },
     "execution_count": 75,
     "metadata": {},
     "output_type": "execute_result"
    }
   ],
   "source": [
    "(test_submit['length'] >= 50).all()"
   ]
  },
  {
   "cell_type": "code",
   "execution_count": 76,
   "metadata": {},
   "outputs": [],
   "source": [
    "test_submit = test_submit.drop(columns=['length'])"
   ]
  },
  {
   "cell_type": "code",
   "execution_count": 77,
   "metadata": {},
   "outputs": [],
   "source": [
    "test_submit.rename(columns={'user_id': 'Id', 'product_id': 'Predicted'})\\\n",
    "    .to_csv('test_submission_07.csv', sep=',', header=True, index=False)"
   ]
  },
  {
   "cell_type": "code",
   "execution_count": null,
   "metadata": {},
   "outputs": [],
   "source": []
  },
  {
   "cell_type": "code",
   "execution_count": null,
   "metadata": {},
   "outputs": [],
   "source": []
  },
  {
   "cell_type": "code",
   "execution_count": null,
   "metadata": {},
   "outputs": [],
   "source": []
  },
  {
   "cell_type": "code",
   "execution_count": null,
   "metadata": {},
   "outputs": [],
   "source": []
  },
  {
   "cell_type": "markdown",
   "metadata": {},
   "source": [
    "### Users"
   ]
  },
  {
   "cell_type": "code",
   "execution_count": null,
   "metadata": {},
   "outputs": [],
   "source": [
    "# toko users"
   ]
  },
  {
   "cell_type": "code",
   "execution_count": 120,
   "metadata": {},
   "outputs": [
    {
     "name": "stderr",
     "output_type": "stream",
     "text": [
      "\r",
      "  0%|          | 0/10 [00:00<?, ?it/s]"
     ]
    },
    {
     "name": "stdout",
     "output_type": "stream",
     "text": [
      "['tab_2_products_2020-01-01.csv', 'tab_2_products_2020-01-11.csv', 'tab_2_products_2020-01-21.csv', 'tab_2_products_2020-01-31.csv', 'tab_2_products_2020-02-10.csv', 'tab_2_products_2020-02-20.csv', 'tab_2_products_2020-03-01.csv', 'tab_2_products_2020-03-11.csv', 'tab_2_products_2020-03-21.csv', 'tab_2_products_2020-03-31.csv']\n"
     ]
    },
    {
     "name": "stderr",
     "output_type": "stream",
     "text": [
      "100%|██████████| 10/10 [00:16<00:00,  1.61s/it]\n"
     ]
    },
    {
     "data": {
      "text/plain": [
       "144261"
      ]
     },
     "execution_count": 120,
     "metadata": {},
     "output_type": "execute_result"
    }
   ],
   "source": [
    "tab_2_1 = fnmatch.filter(os.listdir('data/test-recsys/sbermarket_tab_2_1/'), 'tab_2*.csv')\n",
    "print(tab_2_1)\n",
    "\n",
    "users = set()\n",
    "\n",
    "for file_name in tqdm.tqdm(tab_2_1):\n",
    "#     key = file_name.split('_')[-1].split('.')[0]\n",
    "    \n",
    "    products = pd.read_csv('data/test-recsys/sbermarket_tab_2_1/' + file_name)\n",
    "    users |= set(products['user_id'])\n",
    "    \n",
    "len(users)"
   ]
  },
  {
   "cell_type": "code",
   "execution_count": 121,
   "metadata": {},
   "outputs": [
    {
     "name": "stderr",
     "output_type": "stream",
     "text": [
      "100%|██████████| 3/3 [00:16<00:00,  5.56s/it]\n"
     ]
    },
    {
     "data": {
      "text/plain": [
       "245368"
      ]
     },
     "execution_count": 121,
     "metadata": {},
     "output_type": "execute_result"
    }
   ],
   "source": [
    "tab_2_2 = fnmatch.filter(os.listdir('data/test-recsys/sbermarket_tab_2_2/'), 'tab_2*.csv')\n",
    "# print(tab_2_2)\n",
    "\n",
    "# users = set()\n",
    "\n",
    "for file_name in tqdm.tqdm(tab_2_2):\n",
    "#     key = file_name.split('_')[-1].split('.')[0]\n",
    "    \n",
    "    products = pd.read_csv('data/test-recsys/sbermarket_tab_2_2/' + file_name)\n",
    "    users |= set(products['user_id'])\n",
    "    \n",
    "len(users)"
   ]
  },
  {
   "cell_type": "code",
   "execution_count": 122,
   "metadata": {},
   "outputs": [
    {
     "name": "stderr",
     "output_type": "stream",
     "text": [
      "100%|██████████| 3/3 [00:21<00:00,  7.22s/it]\n"
     ]
    },
    {
     "data": {
      "text/plain": [
       "363206"
      ]
     },
     "execution_count": 122,
     "metadata": {},
     "output_type": "execute_result"
    }
   ],
   "source": [
    "tab_2_3 = fnmatch.filter(os.listdir('data/test-recsys/sbermarket_tab_2_3/'), 'tab_2*.csv')\n",
    "# print(tab_2_3)\n",
    "\n",
    "# users = set()\n",
    "\n",
    "for file_name in tqdm.tqdm(tab_2_3):\n",
    "#     key = file_name.split('_')[-1].split('.')[0]\n",
    "    \n",
    "    products = pd.read_csv('data/test-recsys/sbermarket_tab_2_3/' + file_name)\n",
    "    users |= set(products['user_id'])\n",
    "    \n",
    "len(users)"
   ]
  },
  {
   "cell_type": "code",
   "execution_count": 123,
   "metadata": {},
   "outputs": [
    {
     "name": "stderr",
     "output_type": "stream",
     "text": [
      "100%|██████████| 3/3 [00:16<00:00,  5.54s/it]\n"
     ]
    },
    {
     "data": {
      "text/plain": [
       "438081"
      ]
     },
     "execution_count": 123,
     "metadata": {},
     "output_type": "execute_result"
    }
   ],
   "source": [
    "tab_2_4 = fnmatch.filter(os.listdir('data/test-recsys/sbermarket_tab_2_4/'), 'tab_2*.csv')\n",
    "# print(tab_2_4)\n",
    "\n",
    "# users = set()\n",
    "\n",
    "for file_name in tqdm.tqdm(tab_2_4):\n",
    "#     key = file_name.split('_')[-1].split('.')[0]\n",
    "    \n",
    "    products = pd.read_csv('data/test-recsys/sbermarket_tab_2_4/' + file_name)\n",
    "    users |= set(products['user_id'])\n",
    "    \n",
    "len(users)"
   ]
  },
  {
   "cell_type": "code",
   "execution_count": 124,
   "metadata": {},
   "outputs": [
    {
     "name": "stderr",
     "output_type": "stream",
     "text": [
      "100%|██████████| 3/3 [00:15<00:00,  5.30s/it]\n"
     ]
    },
    {
     "data": {
      "text/plain": [
       "521582"
      ]
     },
     "execution_count": 124,
     "metadata": {},
     "output_type": "execute_result"
    }
   ],
   "source": [
    "tab_2_5 = fnmatch.filter(os.listdir('data/test-recsys/sbermarket_tab_2_5/'), 'tab_2*.csv')\n",
    "# print(tab_2_5)\n",
    "\n",
    "# users = set()\n",
    "\n",
    "for file_name in tqdm.tqdm(tab_2_5):\n",
    "#     key = file_name.split('_')[-1].split('.')[0]\n",
    "    \n",
    "    products = pd.read_csv('data/test-recsys/sbermarket_tab_2_5/' + file_name)\n",
    "    users |= set(products['user_id'])\n",
    "    \n",
    "len(users)"
   ]
  },
  {
   "cell_type": "code",
   "execution_count": 125,
   "metadata": {},
   "outputs": [
    {
     "name": "stderr",
     "output_type": "stream",
     "text": [
      "100%|██████████| 4/4 [00:22<00:00,  5.51s/it]\n"
     ]
    },
    {
     "data": {
      "text/plain": [
       "657502"
      ]
     },
     "execution_count": 125,
     "metadata": {},
     "output_type": "execute_result"
    }
   ],
   "source": [
    "tab_2_6 = fnmatch.filter(os.listdir('data/test-recsys/sbermarket_tab_2_6/'), 'tab_2*.csv')\n",
    "# print(tab_2_6)\n",
    "\n",
    "# users = set()\n",
    "\n",
    "for file_name in tqdm.tqdm(tab_2_6):\n",
    "#     key = file_name.split('_')[-1].split('.')[0]\n",
    "    \n",
    "    products = pd.read_csv('data/test-recsys/sbermarket_tab_2_6/' + file_name)\n",
    "    users |= set(products['user_id'])\n",
    "    \n",
    "len(users)"
   ]
  },
  {
   "cell_type": "code",
   "execution_count": 126,
   "metadata": {},
   "outputs": [
    {
     "data": {
      "text/plain": [
       "657502"
      ]
     },
     "execution_count": 126,
     "metadata": {},
     "output_type": "execute_result"
    }
   ],
   "source": [
    "len(users)"
   ]
  },
  {
   "cell_type": "code",
   "execution_count": 127,
   "metadata": {},
   "outputs": [
    {
     "data": {
      "text/plain": [
       "91001"
      ]
     },
     "execution_count": 127,
     "metadata": {},
     "output_type": "execute_result"
    }
   ],
   "source": [
    "len(users.intersection(UNQ_users))"
   ]
  },
  {
   "cell_type": "code",
   "execution_count": 128,
   "metadata": {},
   "outputs": [
    {
     "data": {
      "text/plain": [
       "107068"
      ]
     },
     "execution_count": 128,
     "metadata": {},
     "output_type": "execute_result"
    }
   ],
   "source": [
    "len(users.intersection(UNQ_test_user_ids))"
   ]
  },
  {
   "cell_type": "code",
   "execution_count": 129,
   "metadata": {},
   "outputs": [
    {
     "data": {
      "text/plain": [
       "107068"
      ]
     },
     "execution_count": 129,
     "metadata": {},
     "output_type": "execute_result"
    }
   ],
   "source": [
    "len(UNQ_test_user_ids)"
   ]
  },
  {
   "cell_type": "code",
   "execution_count": null,
   "metadata": {},
   "outputs": [],
   "source": []
  }
 ],
 "metadata": {
  "kernelspec": {
   "display_name": "Python 3",
   "language": "python",
   "name": "python3"
  },
  "language_info": {
   "codemirror_mode": {
    "name": "ipython",
    "version": 3
   },
   "file_extension": ".py",
   "mimetype": "text/x-python",
   "name": "python",
   "nbconvert_exporter": "python",
   "pygments_lexer": "ipython3",
   "version": "3.8.3"
  }
 },
 "nbformat": 4,
 "nbformat_minor": 4
}
