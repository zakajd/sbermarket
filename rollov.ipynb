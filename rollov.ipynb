{
  "nbformat": 4,
  "nbformat_minor": 0,
  "metadata": {
    "colab": {
      "name": "rollov.ipynb",
      "provenance": []
    },
    "kernelspec": {
      "name": "python3",
      "display_name": "Python 3"
    }
  },
  "cells": [
    {
      "cell_type": "code",
      "metadata": {
        "id": "FcHejO1UtLeN",
        "outputId": "ed50b76a-f6fb-48d3-d8f5-2f6c468d4ed8",
        "colab": {
          "base_uri": "https://localhost:8080/",
          "height": 221
        }
      },
      "source": [
        "!pip install kaggle"
      ],
      "execution_count": null,
      "outputs": [
        {
          "output_type": "stream",
          "text": [
            "Requirement already satisfied: kaggle in /usr/local/lib/python3.6/dist-packages (1.5.8)\n",
            "Requirement already satisfied: slugify in /usr/local/lib/python3.6/dist-packages (from kaggle) (0.0.1)\n",
            "Requirement already satisfied: python-slugify in /usr/local/lib/python3.6/dist-packages (from kaggle) (4.0.1)\n",
            "Requirement already satisfied: tqdm in /usr/local/lib/python3.6/dist-packages (from kaggle) (4.41.1)\n",
            "Requirement already satisfied: requests in /usr/local/lib/python3.6/dist-packages (from kaggle) (2.23.0)\n",
            "Requirement already satisfied: six>=1.10 in /usr/local/lib/python3.6/dist-packages (from kaggle) (1.15.0)\n",
            "Requirement already satisfied: certifi in /usr/local/lib/python3.6/dist-packages (from kaggle) (2020.6.20)\n",
            "Requirement already satisfied: urllib3<1.25,>=1.21.1 in /usr/local/lib/python3.6/dist-packages (from kaggle) (1.24.3)\n",
            "Requirement already satisfied: python-dateutil in /usr/local/lib/python3.6/dist-packages (from kaggle) (2.8.1)\n",
            "Requirement already satisfied: text-unidecode>=1.3 in /usr/local/lib/python3.6/dist-packages (from python-slugify->kaggle) (1.3)\n",
            "Requirement already satisfied: chardet<4,>=3.0.2 in /usr/local/lib/python3.6/dist-packages (from requests->kaggle) (3.0.4)\n",
            "Requirement already satisfied: idna<3,>=2.5 in /usr/local/lib/python3.6/dist-packages (from requests->kaggle) (2.10)\n"
          ],
          "name": "stdout"
        }
      ]
    },
    {
      "cell_type": "code",
      "metadata": {
        "id": "eLM6561N1f35",
        "outputId": "b8aecc38-3d9c-42cf-81c0-e68cd175a823",
        "colab": {
          "resources": {
            "http://localhost:8080/nbextensions/google.colab/files.js": {
              "data": "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",
              "ok": true,
              "headers": [
                [
                  "content-type",
                  "application/javascript"
                ]
              ],
              "status": 200,
              "status_text": ""
            }
          },
          "base_uri": "https://localhost:8080/",
          "height": 89
        }
      },
      "source": [
        "from google.colab import files\n",
        "files.upload()"
      ],
      "execution_count": null,
      "outputs": [
        {
          "output_type": "display_data",
          "data": {
            "text/html": [
              "\n",
              "     <input type=\"file\" id=\"files-6375837d-d91a-4c52-a326-5af4aaff3801\" name=\"files[]\" multiple disabled\n",
              "        style=\"border:none\" />\n",
              "     <output id=\"result-6375837d-d91a-4c52-a326-5af4aaff3801\">\n",
              "      Upload widget is only available when the cell has been executed in the\n",
              "      current browser session. Please rerun this cell to enable.\n",
              "      </output>\n",
              "      <script src=\"/nbextensions/google.colab/files.js\"></script> "
            ],
            "text/plain": [
              "<IPython.core.display.HTML object>"
            ]
          },
          "metadata": {
            "tags": []
          }
        },
        {
          "output_type": "stream",
          "text": [
            "Saving kaggle.json to kaggle.json\n"
          ],
          "name": "stdout"
        },
        {
          "output_type": "execute_result",
          "data": {
            "text/plain": [
              "{'kaggle.json': b'{\"username\":\"rollov\",\"key\":\"6cd57d0a043c018341ff5e0c9c5f2817\"}'}"
            ]
          },
          "metadata": {
            "tags": []
          },
          "execution_count": 20
        }
      ]
    },
    {
      "cell_type": "code",
      "metadata": {
        "id": "KTW-iJbj1t8q"
      },
      "source": [
        "!mkdir -p ~/.kaggle\n",
        "!cp kaggle.json ~/.kaggle/\n",
        "\n",
        "!chmod 600 ~/.kaggle/kaggle.json"
      ],
      "execution_count": null,
      "outputs": []
    },
    {
      "cell_type": "code",
      "metadata": {
        "id": "VM3DDwtZ2NEF",
        "outputId": "4bcce2b6-3515-4407-cf4e-1839f7366003",
        "colab": {
          "base_uri": "https://localhost:8080/",
          "height": 1000
        }
      },
      "source": [
        "!kaggle competitions download -c test-recsys"
      ],
      "execution_count": null,
      "outputs": [
        {
          "output_type": "stream",
          "text": [
            "Warning: Looks like you're using an outdated API Version, please consider updating (server 1.5.6 / client 1.5.4)\n",
            "Downloading tab_2_products_2020-04-20.csv.zip to /content\n",
            " 82% 89.0M/108M [00:02<00:01, 17.2MB/s]\n",
            "100% 108M/108M [00:03<00:00, 37.0MB/s] \n",
            "Downloading tab_2_products_2020-04-30.csv.zip to /content\n",
            " 98% 135M/137M [00:02<00:00, 40.2MB/s]\n",
            "100% 137M/137M [00:02<00:00, 62.0MB/s]\n",
            "Downloading tab_2_products_2020-04-10.csv.zip to /content\n",
            " 93% 89.0M/96.2M [00:01<00:00, 44.2MB/s]\n",
            "100% 96.2M/96.2M [00:01<00:00, 55.4MB/s]\n",
            "Downloading tab_2_products_2020-05-30.csv.zip to /content\n",
            " 93% 139M/150M [00:02<00:00, 41.3MB/s]\n",
            "100% 150M/150M [00:02<00:00, 55.8MB/s]\n",
            "Downloading tab_2_products_2020-05-20.csv.zip to /content\n",
            " 93% 144M/156M [00:03<00:00, 35.1MB/s]\n",
            "100% 156M/156M [00:03<00:00, 45.9MB/s]\n",
            "Downloading tab_2_products_2020-05-10.csv.zip to /content\n",
            " 91% 130M/144M [00:03<00:00, 32.5MB/s]\n",
            "100% 144M/144M [00:03<00:00, 44.3MB/s]\n",
            "Downloading tab_2_products_2020-01-31.csv.zip to /content\n",
            " 39% 9.00M/23.2M [00:00<00:00, 24.5MB/s]\n",
            "100% 23.2M/23.2M [00:00<00:00, 47.3MB/s]\n",
            "Downloading tab_2_products_2020-03-01.csv.zip to /content\n",
            " 31% 9.00M/29.4M [00:00<00:00, 25.8MB/s]\n",
            "100% 29.4M/29.4M [00:00<00:00, 66.1MB/s]\n",
            "Downloading tab_2_products_2020-03-21.csv.zip to /content\n",
            " 76% 45.0M/59.0M [00:01<00:00, 20.2MB/s]\n",
            "100% 59.0M/59.0M [00:01<00:00, 43.7MB/s]\n",
            "Downloading tab_2_products_2020-02-20.csv.zip to /content\n",
            " 31% 9.00M/29.0M [00:00<00:00, 25.8MB/s]\n",
            "100% 29.0M/29.0M [00:00<00:00, 65.4MB/s]\n",
            "Downloading tab_2_products_2020-02-10.csv.zip to /content\n",
            " 36% 9.00M/24.8M [00:00<00:00, 24.4MB/s]\n",
            "100% 24.8M/24.8M [00:00<00:00, 55.9MB/s]\n",
            "Downloading tab_2_products_2020-03-11.csv.zip to /content\n",
            " 85% 41.0M/48.0M [00:01<00:00, 22.0MB/s]\n",
            "100% 48.0M/48.0M [00:01<00:00, 33.2MB/s]\n",
            "Downloading tab_2_products_2020-03-31.csv.zip to /content\n",
            " 76% 57.0M/74.7M [00:00<00:00, 45.9MB/s]\n",
            "100% 74.7M/74.7M [00:00<00:00, 90.4MB/s]\n",
            "Downloading tab_2_products_2020-01-01.csv.zip to /content\n",
            " 80% 9.00M/11.2M [00:00<00:00, 13.9MB/s]\n",
            "100% 11.2M/11.2M [00:00<00:00, 13.6MB/s]\n",
            "Downloading tab_2_products_2020-01-21.csv.zip to /content\n",
            " 27% 5.00M/18.8M [00:00<00:00, 17.6MB/s]\n",
            "100% 18.8M/18.8M [00:00<00:00, 47.4MB/s]\n",
            "Downloading tab_2_products_2020-01-11.csv.zip to /content\n",
            " 31% 5.00M/16.1M [00:00<00:00, 17.5MB/s]\n",
            "100% 16.1M/16.1M [00:00<00:00, 40.8MB/s]\n",
            "Downloading tab_2_products_2020-07-29.csv.zip to /content\n",
            " 91% 95.0M/104M [00:01<00:00, 42.2MB/s]\n",
            "100% 104M/104M [00:01<00:00, 63.4MB/s] \n",
            "Downloading tab_2_products_2020-07-19.csv.zip to /content\n",
            " 98% 102M/104M [00:01<00:00, 52.8MB/s] \n",
            "100% 104M/104M [00:01<00:00, 72.1MB/s]\n",
            "Downloading tab_2_products_2020-07-09.csv.zip to /content\n",
            " 94% 105M/112M [00:02<00:00, 29.7MB/s] \n",
            "100% 112M/112M [00:02<00:00, 46.5MB/s]\n",
            "Downloading tab_2_products_2020-08-18.csv.zip to /content\n",
            " 94% 105M/111M [00:01<00:00, 80.6MB/s] \n",
            "100% 111M/111M [00:01<00:00, 85.3MB/s]\n",
            "Downloading tab_2_products_2020-08-28.csv.zip to /content\n",
            " 95% 114M/120M [00:02<00:00, 34.5MB/s]\n",
            "100% 120M/120M [00:02<00:00, 56.5MB/s]\n",
            "Downloading tab_2_products_2020-09-07.csv.zip to /content\n",
            " 99% 121M/123M [00:01<00:00, 53.3MB/s]\n",
            "100% 123M/123M [00:01<00:00, 65.3MB/s]\n",
            "Downloading tab_2_products_2020-08-08.csv.zip to /content\n",
            " 90% 98.0M/109M [00:01<00:00, 38.5MB/s]\n",
            "100% 109M/109M [00:01<00:00, 64.4MB/s] \n",
            "Downloading tab_2_products_2020-06-09.csv.zip to /content\n",
            " 96% 123M/128M [00:02<00:00, 47.6MB/s]\n",
            "100% 128M/128M [00:02<00:00, 60.4MB/s]\n",
            "Downloading tab_2_products_2020-06-19.csv.zip to /content\n",
            " 96% 107M/111M [00:02<00:00, 35.0MB/s] \n",
            "100% 111M/111M [00:02<00:00, 45.4MB/s]\n",
            "Downloading tab_2_products_2020-06-29.csv.zip to /content\n",
            " 81% 83.0M/103M [00:01<00:00, 34.7MB/s]\n",
            "100% 103M/103M [00:01<00:00, 62.9MB/s] \n",
            "Downloading tab_5_product_properties.csv.zip to /content\n",
            " 90% 50.0M/55.6M [00:01<00:00, 31.4MB/s]\n",
            "100% 55.6M/55.6M [00:01<00:00, 49.9MB/s]\n",
            "Downloading tab_4_user_profiles.csv.zip to /content\n",
            "  0% 0.00/1.94M [00:00<?, ?B/s]\n",
            "100% 1.94M/1.94M [00:00<00:00, 279MB/s]\n",
            "Downloading tab_1_orders.csv.zip to /content\n",
            " 54% 17.0M/31.3M [00:00<00:00, 21.2MB/s]\n",
            "100% 31.3M/31.3M [00:00<00:00, 33.9MB/s]\n",
            "Downloading tab_3_categories.csv to /content\n",
            "  0% 0.00/44.3k [00:00<?, ?B/s]\n",
            "100% 44.3k/44.3k [00:00<00:00, 45.7MB/s]\n",
            "Downloading tab_6_city.csv to /content\n",
            "  0% 0.00/16.2k [00:00<?, ?B/s]\n",
            "100% 16.2k/16.2k [00:00<00:00, 16.7MB/s]\n",
            "Downloading sample_submission.csv.zip to /content\n",
            " 24% 5.00M/20.4M [00:00<00:00, 20.9MB/s]\n",
            "100% 20.4M/20.4M [00:00<00:00, 68.0MB/s]\n"
          ],
          "name": "stdout"
        }
      ]
    },
    {
      "cell_type": "code",
      "metadata": {
        "id": "dBbGFYl-2zhf",
        "outputId": "283aa73a-45f6-43fb-cccf-9d677e9dae39",
        "colab": {
          "base_uri": "https://localhost:8080/",
          "height": 34
        }
      },
      "source": [
        "from zipfile import ZipFile\n",
        "\n",
        "file_name = \"tab_5_product_properties.csv.zip\"\n",
        "\n",
        "with ZipFile(file_name, 'r') as zip:\n",
        "  zip.extractall()\n",
        "  print('Done')"
      ],
      "execution_count": null,
      "outputs": [
        {
          "output_type": "stream",
          "text": [
            "Done\n"
          ],
          "name": "stdout"
        }
      ]
    },
    {
      "cell_type": "code",
      "metadata": {
        "id": "h-cxkIWY51Tq",
        "outputId": "a43b7c6d-037a-4476-bc4b-4e61e5b3edcb",
        "colab": {
          "base_uri": "https://localhost:8080/",
          "height": 459
        }
      },
      "source": [
        "import os, fnmatch\n",
        "\n",
        "tab_2_array = fnmatch.filter(os.listdir('.'), 'tab_2*')\n",
        "\n",
        "k = 1\n",
        "for tab_2 in tab_2_array:\n",
        "  with ZipFile(tab_2, 'r') as zip:\n",
        "    zip.extractall()\n",
        "    print(f'Left: ' + str(len(tab_2_array) - k))\n",
        "    k += 1\n"
      ],
      "execution_count": null,
      "outputs": [
        {
          "output_type": "stream",
          "text": [
            "Left: 25\n",
            "Left: 24\n",
            "Left: 23\n",
            "Left: 22\n",
            "Left: 21\n",
            "Left: 20\n",
            "Left: 19\n",
            "Left: 18\n",
            "Left: 17\n",
            "Left: 16\n",
            "Left: 15\n",
            "Left: 14\n",
            "Left: 13\n",
            "Left: 12\n",
            "Left: 11\n",
            "Left: 10\n",
            "Left: 9\n",
            "Left: 8\n",
            "Left: 7\n",
            "Left: 6\n",
            "Left: 5\n",
            "Left: 4\n",
            "Left: 3\n",
            "Left: 2\n",
            "Left: 1\n",
            "Left: 0\n"
          ],
          "name": "stdout"
        }
      ]
    },
    {
      "cell_type": "code",
      "metadata": {
        "id": "13CNOAsK7xnd"
      },
      "source": [
        "import pandas as pd\n",
        "import numpy as np"
      ],
      "execution_count": null,
      "outputs": []
    },
    {
      "cell_type": "markdown",
      "metadata": {
        "id": "-zHaqYuJ8DjZ"
      },
      "source": [
        "TAB_1_ORDERS"
      ]
    },
    {
      "cell_type": "code",
      "metadata": {
        "id": "CUpuP_o75pxa",
        "outputId": "9ce7eed7-40c5-409b-a5ff-a5196227625b",
        "colab": {
          "base_uri": "https://localhost:8080/",
          "height": 34
        }
      },
      "source": [
        "tab_1_orders = pd.read_csv('/content/tab_1_orders.csv')\n",
        "tab_6_city = pd.read_csv('/content/tab_6_city.csv')\n",
        "tab_1_orders = tab_1_orders.merge(tab_6_city, left_on='store_id', right_on='store_id')\n",
        "tab_1_orders.shape"
      ],
      "execution_count": 81,
      "outputs": [
        {
          "output_type": "execute_result",
          "data": {
            "text/plain": [
              "(2461958, 7)"
            ]
          },
          "metadata": {
            "tags": []
          },
          "execution_count": 81
        }
      ]
    },
    {
      "cell_type": "code",
      "metadata": {
        "id": "u8_cwjFX7wAg",
        "outputId": "b05f8243-2556-44e3-fc72-92d77429bfcc",
        "colab": {
          "base_uri": "https://localhost:8080/",
          "height": 204
        }
      },
      "source": [
        "tab_1_orders.head()"
      ],
      "execution_count": 82,
      "outputs": [
        {
          "output_type": "execute_result",
          "data": {
            "text/html": [
              "<div>\n",
              "<style scoped>\n",
              "    .dataframe tbody tr th:only-of-type {\n",
              "        vertical-align: middle;\n",
              "    }\n",
              "\n",
              "    .dataframe tbody tr th {\n",
              "        vertical-align: top;\n",
              "    }\n",
              "\n",
              "    .dataframe thead th {\n",
              "        text-align: right;\n",
              "    }\n",
              "</style>\n",
              "<table border=\"1\" class=\"dataframe\">\n",
              "  <thead>\n",
              "    <tr style=\"text-align: right;\">\n",
              "      <th></th>\n",
              "      <th>user_id</th>\n",
              "      <th>order_id</th>\n",
              "      <th>order_created_time</th>\n",
              "      <th>retailer</th>\n",
              "      <th>store_id</th>\n",
              "      <th>platform</th>\n",
              "      <th>city_name</th>\n",
              "    </tr>\n",
              "  </thead>\n",
              "  <tbody>\n",
              "    <tr>\n",
              "      <th>0</th>\n",
              "      <td>72</td>\n",
              "      <td>17431000</td>\n",
              "      <td>2020-09-26 10:48:57</td>\n",
              "      <td>METRO</td>\n",
              "      <td>21</td>\n",
              "      <td>app</td>\n",
              "      <td>Москва</td>\n",
              "    </tr>\n",
              "    <tr>\n",
              "      <th>1</th>\n",
              "      <td>1474</td>\n",
              "      <td>10066159</td>\n",
              "      <td>2020-05-14 17:35:58</td>\n",
              "      <td>METRO</td>\n",
              "      <td>21</td>\n",
              "      <td>app</td>\n",
              "      <td>Москва</td>\n",
              "    </tr>\n",
              "    <tr>\n",
              "      <th>2</th>\n",
              "      <td>1474</td>\n",
              "      <td>10083198</td>\n",
              "      <td>2020-05-15 04:40:50</td>\n",
              "      <td>METRO</td>\n",
              "      <td>21</td>\n",
              "      <td>app</td>\n",
              "      <td>Москва</td>\n",
              "    </tr>\n",
              "    <tr>\n",
              "      <th>3</th>\n",
              "      <td>1474</td>\n",
              "      <td>15090928</td>\n",
              "      <td>2020-08-16 09:32:13</td>\n",
              "      <td>METRO</td>\n",
              "      <td>21</td>\n",
              "      <td>app</td>\n",
              "      <td>Москва</td>\n",
              "    </tr>\n",
              "    <tr>\n",
              "      <th>4</th>\n",
              "      <td>2657</td>\n",
              "      <td>7652238</td>\n",
              "      <td>2020-03-29 19:44:24</td>\n",
              "      <td>METRO</td>\n",
              "      <td>21</td>\n",
              "      <td>app</td>\n",
              "      <td>Москва</td>\n",
              "    </tr>\n",
              "  </tbody>\n",
              "</table>\n",
              "</div>"
            ],
            "text/plain": [
              "   user_id  order_id   order_created_time retailer  store_id platform city_name\n",
              "0       72  17431000  2020-09-26 10:48:57    METRO        21      app    Москва\n",
              "1     1474  10066159  2020-05-14 17:35:58    METRO        21      app    Москва\n",
              "2     1474  10083198  2020-05-15 04:40:50    METRO        21      app    Москва\n",
              "3     1474  15090928  2020-08-16 09:32:13    METRO        21      app    Москва\n",
              "4     2657   7652238  2020-03-29 19:44:24    METRO        21      app    Москва"
            ]
          },
          "metadata": {
            "tags": []
          },
          "execution_count": 82
        }
      ]
    },
    {
      "cell_type": "markdown",
      "metadata": {
        "id": "Vhcd1ae28QS1"
      },
      "source": [
        "TAB_3_CATEGORIES"
      ]
    },
    {
      "cell_type": "code",
      "metadata": {
        "id": "6fUWRzBR8UIa",
        "outputId": "48a279e4-7190-4b54-af79-66fc116cd1fc",
        "colab": {
          "base_uri": "https://localhost:8080/",
          "height": 34
        }
      },
      "source": [
        "tab_3_categories = pd.read_csv('/content/tab_3_categories.csv')\n",
        "tab_3_categories.shape"
      ],
      "execution_count": 83,
      "outputs": [
        {
          "output_type": "execute_result",
          "data": {
            "text/plain": [
              "(1016, 3)"
            ]
          },
          "metadata": {
            "tags": []
          },
          "execution_count": 83
        }
      ]
    },
    {
      "cell_type": "code",
      "metadata": {
        "id": "8mrKVsZM8XuM",
        "outputId": "e85a3a20-9382-4f9f-d725-6e1e8896e56b",
        "colab": {
          "base_uri": "https://localhost:8080/",
          "height": 204
        }
      },
      "source": [
        "tab_3_categories.head()"
      ],
      "execution_count": 84,
      "outputs": [
        {
          "output_type": "execute_result",
          "data": {
            "text/html": [
              "<div>\n",
              "<style scoped>\n",
              "    .dataframe tbody tr th:only-of-type {\n",
              "        vertical-align: middle;\n",
              "    }\n",
              "\n",
              "    .dataframe tbody tr th {\n",
              "        vertical-align: top;\n",
              "    }\n",
              "\n",
              "    .dataframe thead th {\n",
              "        text-align: right;\n",
              "    }\n",
              "</style>\n",
              "<table border=\"1\" class=\"dataframe\">\n",
              "  <thead>\n",
              "    <tr style=\"text-align: right;\">\n",
              "      <th></th>\n",
              "      <th>id</th>\n",
              "      <th>name</th>\n",
              "      <th>parent_id</th>\n",
              "    </tr>\n",
              "  </thead>\n",
              "  <tbody>\n",
              "    <tr>\n",
              "      <th>0</th>\n",
              "      <td>1</td>\n",
              "      <td>Продукты питания</td>\n",
              "      <td>0</td>\n",
              "    </tr>\n",
              "    <tr>\n",
              "      <th>1</th>\n",
              "      <td>2</td>\n",
              "      <td>Замороженные продукты</td>\n",
              "      <td>1</td>\n",
              "    </tr>\n",
              "    <tr>\n",
              "      <th>2</th>\n",
              "      <td>3</td>\n",
              "      <td>Замороженные овощи и фрукты</td>\n",
              "      <td>2</td>\n",
              "    </tr>\n",
              "    <tr>\n",
              "      <th>3</th>\n",
              "      <td>4</td>\n",
              "      <td>Замороженные полуфабрикаты</td>\n",
              "      <td>2</td>\n",
              "    </tr>\n",
              "    <tr>\n",
              "      <th>4</th>\n",
              "      <td>5</td>\n",
              "      <td>Рыба замороженная</td>\n",
              "      <td>2</td>\n",
              "    </tr>\n",
              "  </tbody>\n",
              "</table>\n",
              "</div>"
            ],
            "text/plain": [
              "   id                         name  parent_id\n",
              "0   1             Продукты питания          0\n",
              "1   2        Замороженные продукты          1\n",
              "2   3  Замороженные овощи и фрукты          2\n",
              "3   4   Замороженные полуфабрикаты          2\n",
              "4   5            Рыба замороженная          2"
            ]
          },
          "metadata": {
            "tags": []
          },
          "execution_count": 84
        }
      ]
    },
    {
      "cell_type": "markdown",
      "metadata": {
        "id": "4Ap0C4w-8cor"
      },
      "source": [
        "TAB_4_USER_PROFILES"
      ]
    },
    {
      "cell_type": "code",
      "metadata": {
        "id": "7F_Pxm-C8l01",
        "outputId": "68d09c7e-f3bc-4e9b-e35b-36b9e1ea0f2d",
        "colab": {
          "base_uri": "https://localhost:8080/",
          "height": 34
        }
      },
      "source": [
        "tab_4_user_profiles = pd.read_csv('/content/tab_4_user_profiles.csv')\n",
        "tab_4_user_profiles.shape"
      ],
      "execution_count": 85,
      "outputs": [
        {
          "output_type": "execute_result",
          "data": {
            "text/plain": [
              "(438867, 3)"
            ]
          },
          "metadata": {
            "tags": []
          },
          "execution_count": 85
        }
      ]
    },
    {
      "cell_type": "code",
      "metadata": {
        "id": "1X4qGKiL8rzN",
        "outputId": "1c01ee2c-8f10-4ef1-8710-4d280bd88238",
        "colab": {
          "base_uri": "https://localhost:8080/",
          "height": 204
        }
      },
      "source": [
        "tab_4_user_profiles.head()"
      ],
      "execution_count": 86,
      "outputs": [
        {
          "output_type": "execute_result",
          "data": {
            "text/html": [
              "<div>\n",
              "<style scoped>\n",
              "    .dataframe tbody tr th:only-of-type {\n",
              "        vertical-align: middle;\n",
              "    }\n",
              "\n",
              "    .dataframe tbody tr th {\n",
              "        vertical-align: top;\n",
              "    }\n",
              "\n",
              "    .dataframe thead th {\n",
              "        text-align: right;\n",
              "    }\n",
              "</style>\n",
              "<table border=\"1\" class=\"dataframe\">\n",
              "  <thead>\n",
              "    <tr style=\"text-align: right;\">\n",
              "      <th></th>\n",
              "      <th>user_id</th>\n",
              "      <th>gender</th>\n",
              "      <th>bdate</th>\n",
              "    </tr>\n",
              "  </thead>\n",
              "  <tbody>\n",
              "    <tr>\n",
              "      <th>0</th>\n",
              "      <td>2224890</td>\n",
              "      <td>NaN</td>\n",
              "      <td>NaN</td>\n",
              "    </tr>\n",
              "    <tr>\n",
              "      <th>1</th>\n",
              "      <td>1683001</td>\n",
              "      <td>male</td>\n",
              "      <td>1987-10-11</td>\n",
              "    </tr>\n",
              "    <tr>\n",
              "      <th>2</th>\n",
              "      <td>2102480</td>\n",
              "      <td>NaN</td>\n",
              "      <td>NaN</td>\n",
              "    </tr>\n",
              "    <tr>\n",
              "      <th>3</th>\n",
              "      <td>2224895</td>\n",
              "      <td>NaN</td>\n",
              "      <td>NaN</td>\n",
              "    </tr>\n",
              "    <tr>\n",
              "      <th>4</th>\n",
              "      <td>930197</td>\n",
              "      <td>NaN</td>\n",
              "      <td>NaN</td>\n",
              "    </tr>\n",
              "  </tbody>\n",
              "</table>\n",
              "</div>"
            ],
            "text/plain": [
              "   user_id gender       bdate\n",
              "0  2224890    NaN         NaN\n",
              "1  1683001   male  1987-10-11\n",
              "2  2102480    NaN         NaN\n",
              "3  2224895    NaN         NaN\n",
              "4   930197    NaN         NaN"
            ]
          },
          "metadata": {
            "tags": []
          },
          "execution_count": 86
        }
      ]
    },
    {
      "cell_type": "markdown",
      "metadata": {
        "id": "COageuc48t5m"
      },
      "source": [
        "TAB_5_PRODUCT_PROPERTIES"
      ]
    },
    {
      "cell_type": "code",
      "metadata": {
        "id": "Vfxl1rGB8y3j",
        "outputId": "64c0bb2b-c5a7-4ea3-e83e-45be7cdf3250",
        "colab": {
          "base_uri": "https://localhost:8080/",
          "height": 34
        }
      },
      "source": [
        "tab_5_product_properties = pd.read_csv('/content/tab_5_product_properties.csv')\n",
        "tab_5_product_properties.shape"
      ],
      "execution_count": 87,
      "outputs": [
        {
          "output_type": "execute_result",
          "data": {
            "text/plain": [
              "(6990208, 3)"
            ]
          },
          "metadata": {
            "tags": []
          },
          "execution_count": 87
        }
      ]
    },
    {
      "cell_type": "code",
      "metadata": {
        "id": "5xE13Hha85It",
        "outputId": "dab804c6-63d9-4f89-d936-e29cc37be531",
        "colab": {
          "base_uri": "https://localhost:8080/",
          "height": 204
        }
      },
      "source": [
        "tab_5_product_properties.head()"
      ],
      "execution_count": 88,
      "outputs": [
        {
          "output_type": "execute_result",
          "data": {
            "text/html": [
              "<div>\n",
              "<style scoped>\n",
              "    .dataframe tbody tr th:only-of-type {\n",
              "        vertical-align: middle;\n",
              "    }\n",
              "\n",
              "    .dataframe tbody tr th {\n",
              "        vertical-align: top;\n",
              "    }\n",
              "\n",
              "    .dataframe thead th {\n",
              "        text-align: right;\n",
              "    }\n",
              "</style>\n",
              "<table border=\"1\" class=\"dataframe\">\n",
              "  <thead>\n",
              "    <tr style=\"text-align: right;\">\n",
              "      <th></th>\n",
              "      <th>product_id</th>\n",
              "      <th>property_name</th>\n",
              "      <th>property_value</th>\n",
              "    </tr>\n",
              "  </thead>\n",
              "  <tbody>\n",
              "    <tr>\n",
              "      <th>0</th>\n",
              "      <td>1</td>\n",
              "      <td>Вес</td>\n",
              "      <td>100 г</td>\n",
              "    </tr>\n",
              "    <tr>\n",
              "      <th>1</th>\n",
              "      <td>2</td>\n",
              "      <td>Вид</td>\n",
              "      <td>Молочный напиток</td>\n",
              "    </tr>\n",
              "    <tr>\n",
              "      <th>2</th>\n",
              "      <td>2</td>\n",
              "      <td>Вес</td>\n",
              "      <td>100 г</td>\n",
              "    </tr>\n",
              "    <tr>\n",
              "      <th>3</th>\n",
              "      <td>2</td>\n",
              "      <td>Вкус</td>\n",
              "      <td>Черника</td>\n",
              "    </tr>\n",
              "    <tr>\n",
              "      <th>4</th>\n",
              "      <td>2</td>\n",
              "      <td>Сырье</td>\n",
              "      <td>Натуральное молоко</td>\n",
              "    </tr>\n",
              "  </tbody>\n",
              "</table>\n",
              "</div>"
            ],
            "text/plain": [
              "   product_id property_name      property_value\n",
              "0           1           Вес               100 г\n",
              "1           2           Вид    Молочный напиток\n",
              "2           2           Вес               100 г\n",
              "3           2          Вкус             Черника\n",
              "4           2         Сырье  Натуральное молоко"
            ]
          },
          "metadata": {
            "tags": []
          },
          "execution_count": 88
        }
      ]
    },
    {
      "cell_type": "markdown",
      "metadata": {
        "id": "-DHQf11qGXlk"
      },
      "source": [
        "TAB_2_PRODUCTS"
      ]
    },
    {
      "cell_type": "code",
      "metadata": {
        "id": "pWgKYgD49h0S",
        "outputId": "ae0b4b9d-f4f1-4739-cc65-444b0038ae3a",
        "colab": {
          "base_uri": "https://localhost:8080/",
          "height": 34
        }
      },
      "source": [
        "tab_2_products = pd.read_csv('/content/tab_2_products_2020-01-01.csv')\n",
        "tab_2_products.shape"
      ],
      "execution_count": 89,
      "outputs": [
        {
          "output_type": "execute_result",
          "data": {
            "text/plain": [
              "(303667, 11)"
            ]
          },
          "metadata": {
            "tags": []
          },
          "execution_count": 89
        }
      ]
    },
    {
      "cell_type": "code",
      "metadata": {
        "id": "2glIVdDY9od6",
        "outputId": "f8acfe25-0eaa-4750-b536-6c4428fb8241",
        "colab": {
          "base_uri": "https://localhost:8080/",
          "height": 204
        }
      },
      "source": [
        "tab_2_products.head()"
      ],
      "execution_count": 90,
      "outputs": [
        {
          "output_type": "execute_result",
          "data": {
            "text/html": [
              "<div>\n",
              "<style scoped>\n",
              "    .dataframe tbody tr th:only-of-type {\n",
              "        vertical-align: middle;\n",
              "    }\n",
              "\n",
              "    .dataframe tbody tr th {\n",
              "        vertical-align: top;\n",
              "    }\n",
              "\n",
              "    .dataframe thead th {\n",
              "        text-align: right;\n",
              "    }\n",
              "</style>\n",
              "<table border=\"1\" class=\"dataframe\">\n",
              "  <thead>\n",
              "    <tr style=\"text-align: right;\">\n",
              "      <th></th>\n",
              "      <th>user_id</th>\n",
              "      <th>order_id</th>\n",
              "      <th>line_item_id</th>\n",
              "      <th>price</th>\n",
              "      <th>quantity</th>\n",
              "      <th>discount</th>\n",
              "      <th>product_name</th>\n",
              "      <th>product_id</th>\n",
              "      <th>brand_name</th>\n",
              "      <th>master_category_id</th>\n",
              "      <th>parent_category_id</th>\n",
              "    </tr>\n",
              "  </thead>\n",
              "  <tbody>\n",
              "    <tr>\n",
              "      <th>0</th>\n",
              "      <td>525</td>\n",
              "      <td>5354800</td>\n",
              "      <td>28381452</td>\n",
              "      <td>116.000000</td>\n",
              "      <td>4</td>\n",
              "      <td>0.00</td>\n",
              "      <td>Лазанья Золотой Петушок мясной слоеный пирог з...</td>\n",
              "      <td>37548</td>\n",
              "      <td>Золотой Петушок</td>\n",
              "      <td>101.0</td>\n",
              "      <td>99</td>\n",
              "    </tr>\n",
              "    <tr>\n",
              "      <th>1</th>\n",
              "      <td>525</td>\n",
              "      <td>5354800</td>\n",
              "      <td>29242911</td>\n",
              "      <td>56.990002</td>\n",
              "      <td>2</td>\n",
              "      <td>13.08</td>\n",
              "      <td>Хлеб Хлебный Дом Геркулес зерновой с отрубями ...</td>\n",
              "      <td>5636</td>\n",
              "      <td>Хлебный Дом</td>\n",
              "      <td>596.0</td>\n",
              "      <td>51</td>\n",
              "    </tr>\n",
              "    <tr>\n",
              "      <th>2</th>\n",
              "      <td>525</td>\n",
              "      <td>5354800</td>\n",
              "      <td>29242919</td>\n",
              "      <td>64.989998</td>\n",
              "      <td>2</td>\n",
              "      <td>40.02</td>\n",
              "      <td>Тортилья Delicados оригинальная пшеничная</td>\n",
              "      <td>22107</td>\n",
              "      <td>Delicados</td>\n",
              "      <td>596.0</td>\n",
              "      <td>51</td>\n",
              "    </tr>\n",
              "    <tr>\n",
              "      <th>3</th>\n",
              "      <td>525</td>\n",
              "      <td>5354800</td>\n",
              "      <td>29243785</td>\n",
              "      <td>44.990002</td>\n",
              "      <td>6</td>\n",
              "      <td>0.00</td>\n",
              "      <td>Вода питьевая минеральная BonAqua газированная...</td>\n",
              "      <td>2530</td>\n",
              "      <td>BonAqua</td>\n",
              "      <td>77.0</td>\n",
              "      <td>74</td>\n",
              "    </tr>\n",
              "    <tr>\n",
              "      <th>4</th>\n",
              "      <td>525</td>\n",
              "      <td>5354800</td>\n",
              "      <td>29244246</td>\n",
              "      <td>65.900002</td>\n",
              "      <td>6</td>\n",
              "      <td>30.99</td>\n",
              "      <td>Газированный напиток Mirinda Апельсин 1,5 л</td>\n",
              "      <td>3818486</td>\n",
              "      <td>Mirinda</td>\n",
              "      <td>76.0</td>\n",
              "      <td>74</td>\n",
              "    </tr>\n",
              "  </tbody>\n",
              "</table>\n",
              "</div>"
            ],
            "text/plain": [
              "   user_id  order_id  ...  master_category_id  parent_category_id\n",
              "0      525   5354800  ...               101.0                  99\n",
              "1      525   5354800  ...               596.0                  51\n",
              "2      525   5354800  ...               596.0                  51\n",
              "3      525   5354800  ...                77.0                  74\n",
              "4      525   5354800  ...                76.0                  74\n",
              "\n",
              "[5 rows x 11 columns]"
            ]
          },
          "metadata": {
            "tags": []
          },
          "execution_count": 90
        }
      ]
    },
    {
      "cell_type": "code",
      "metadata": {
        "id": "6_9rglVnFvDc",
        "outputId": "a4aec822-90aa-45a4-921b-b2a3a89c66dc",
        "colab": {
          "base_uri": "https://localhost:8080/",
          "height": 419
        }
      },
      "source": [
        "tab_1_orders"
      ],
      "execution_count": 93,
      "outputs": [
        {
          "output_type": "execute_result",
          "data": {
            "text/html": [
              "<div>\n",
              "<style scoped>\n",
              "    .dataframe tbody tr th:only-of-type {\n",
              "        vertical-align: middle;\n",
              "    }\n",
              "\n",
              "    .dataframe tbody tr th {\n",
              "        vertical-align: top;\n",
              "    }\n",
              "\n",
              "    .dataframe thead th {\n",
              "        text-align: right;\n",
              "    }\n",
              "</style>\n",
              "<table border=\"1\" class=\"dataframe\">\n",
              "  <thead>\n",
              "    <tr style=\"text-align: right;\">\n",
              "      <th></th>\n",
              "      <th>user_id</th>\n",
              "      <th>order_id</th>\n",
              "      <th>order_created_time</th>\n",
              "      <th>retailer</th>\n",
              "      <th>store_id</th>\n",
              "      <th>platform</th>\n",
              "      <th>city_name</th>\n",
              "    </tr>\n",
              "  </thead>\n",
              "  <tbody>\n",
              "    <tr>\n",
              "      <th>0</th>\n",
              "      <td>72</td>\n",
              "      <td>17431000</td>\n",
              "      <td>2020-09-26 10:48:57</td>\n",
              "      <td>METRO</td>\n",
              "      <td>21</td>\n",
              "      <td>app</td>\n",
              "      <td>Москва</td>\n",
              "    </tr>\n",
              "    <tr>\n",
              "      <th>1</th>\n",
              "      <td>1474</td>\n",
              "      <td>10066159</td>\n",
              "      <td>2020-05-14 17:35:58</td>\n",
              "      <td>METRO</td>\n",
              "      <td>21</td>\n",
              "      <td>app</td>\n",
              "      <td>Москва</td>\n",
              "    </tr>\n",
              "    <tr>\n",
              "      <th>2</th>\n",
              "      <td>1474</td>\n",
              "      <td>10083198</td>\n",
              "      <td>2020-05-15 04:40:50</td>\n",
              "      <td>METRO</td>\n",
              "      <td>21</td>\n",
              "      <td>app</td>\n",
              "      <td>Москва</td>\n",
              "    </tr>\n",
              "    <tr>\n",
              "      <th>3</th>\n",
              "      <td>1474</td>\n",
              "      <td>15090928</td>\n",
              "      <td>2020-08-16 09:32:13</td>\n",
              "      <td>METRO</td>\n",
              "      <td>21</td>\n",
              "      <td>app</td>\n",
              "      <td>Москва</td>\n",
              "    </tr>\n",
              "    <tr>\n",
              "      <th>4</th>\n",
              "      <td>2657</td>\n",
              "      <td>7652238</td>\n",
              "      <td>2020-03-29 19:44:24</td>\n",
              "      <td>METRO</td>\n",
              "      <td>21</td>\n",
              "      <td>app</td>\n",
              "      <td>Москва</td>\n",
              "    </tr>\n",
              "    <tr>\n",
              "      <th>...</th>\n",
              "      <td>...</td>\n",
              "      <td>...</td>\n",
              "      <td>...</td>\n",
              "      <td>...</td>\n",
              "      <td>...</td>\n",
              "      <td>...</td>\n",
              "      <td>...</td>\n",
              "    </tr>\n",
              "    <tr>\n",
              "      <th>2461953</th>\n",
              "      <td>3383197</td>\n",
              "      <td>17826259</td>\n",
              "      <td>2020-10-01 14:22:41</td>\n",
              "      <td>fissman</td>\n",
              "      <td>809</td>\n",
              "      <td>undefined</td>\n",
              "      <td>Москва</td>\n",
              "    </tr>\n",
              "    <tr>\n",
              "      <th>2461954</th>\n",
              "      <td>3383198</td>\n",
              "      <td>17826253</td>\n",
              "      <td>2020-10-01 14:22:38</td>\n",
              "      <td>fissman</td>\n",
              "      <td>810</td>\n",
              "      <td>undefined</td>\n",
              "      <td>Москва</td>\n",
              "    </tr>\n",
              "    <tr>\n",
              "      <th>2461955</th>\n",
              "      <td>3383199</td>\n",
              "      <td>17826297</td>\n",
              "      <td>2020-10-01 14:23:13</td>\n",
              "      <td>fissman</td>\n",
              "      <td>812</td>\n",
              "      <td>undefined</td>\n",
              "      <td>Москва</td>\n",
              "    </tr>\n",
              "    <tr>\n",
              "      <th>2461956</th>\n",
              "      <td>3383200</td>\n",
              "      <td>17826292</td>\n",
              "      <td>2020-10-01 14:23:09</td>\n",
              "      <td>fissman</td>\n",
              "      <td>814</td>\n",
              "      <td>undefined</td>\n",
              "      <td>Москва</td>\n",
              "    </tr>\n",
              "    <tr>\n",
              "      <th>2461957</th>\n",
              "      <td>3383203</td>\n",
              "      <td>17826280</td>\n",
              "      <td>2020-10-01 14:23:02</td>\n",
              "      <td>fissman</td>\n",
              "      <td>816</td>\n",
              "      <td>undefined</td>\n",
              "      <td>Москва</td>\n",
              "    </tr>\n",
              "  </tbody>\n",
              "</table>\n",
              "<p>2461958 rows × 7 columns</p>\n",
              "</div>"
            ],
            "text/plain": [
              "         user_id  order_id   order_created_time  ... store_id   platform city_name\n",
              "0             72  17431000  2020-09-26 10:48:57  ...       21        app    Москва\n",
              "1           1474  10066159  2020-05-14 17:35:58  ...       21        app    Москва\n",
              "2           1474  10083198  2020-05-15 04:40:50  ...       21        app    Москва\n",
              "3           1474  15090928  2020-08-16 09:32:13  ...       21        app    Москва\n",
              "4           2657   7652238  2020-03-29 19:44:24  ...       21        app    Москва\n",
              "...          ...       ...                  ...  ...      ...        ...       ...\n",
              "2461953  3383197  17826259  2020-10-01 14:22:41  ...      809  undefined    Москва\n",
              "2461954  3383198  17826253  2020-10-01 14:22:38  ...      810  undefined    Москва\n",
              "2461955  3383199  17826297  2020-10-01 14:23:13  ...      812  undefined    Москва\n",
              "2461956  3383200  17826292  2020-10-01 14:23:09  ...      814  undefined    Москва\n",
              "2461957  3383203  17826280  2020-10-01 14:23:02  ...      816  undefined    Москва\n",
              "\n",
              "[2461958 rows x 7 columns]"
            ]
          },
          "metadata": {
            "tags": []
          },
          "execution_count": 93
        }
      ]
    },
    {
      "cell_type": "code",
      "metadata": {
        "id": "aBysl7czGfCz"
      },
      "source": [
        "import datetime\n",
        "\n",
        "tab_1_orders['order_created_time'] = tab_1_orders['order_created_time'].apply(lambda x: datetime.datetime.strptime(x, '%Y-%m-%d %H:%M:%S'))"
      ],
      "execution_count": 95,
      "outputs": []
    },
    {
      "cell_type": "code",
      "metadata": {
        "id": "LAekNzkEG-T5",
        "outputId": "5bc108e6-4875-4ab5-d8d6-5e3fa9622077",
        "colab": {
          "base_uri": "https://localhost:8080/",
          "height": 34
        }
      },
      "source": [
        "tab_1_orders.user_id.nunique()"
      ],
      "execution_count": 96,
      "outputs": [
        {
          "output_type": "execute_result",
          "data": {
            "text/plain": [
              "753572"
            ]
          },
          "metadata": {
            "tags": []
          },
          "execution_count": 96
        }
      ]
    },
    {
      "cell_type": "code",
      "metadata": {
        "id": "TanqrPAPHSN3",
        "outputId": "429b6525-faab-499a-a3fd-7601c26795f8",
        "colab": {
          "base_uri": "https://localhost:8080/",
          "height": 238
        }
      },
      "source": [
        "tab_2_products.groupby(['user_id'])['product_id'].count().sort_values()"
      ],
      "execution_count": 101,
      "outputs": [
        {
          "output_type": "execute_result",
          "data": {
            "text/plain": [
              "user_id\n",
              "693691      1\n",
              "479035      1\n",
              "473829      1\n",
              "719162      1\n",
              "702954      1\n",
              "         ... \n",
              "222648    165\n",
              "724561    168\n",
              "264965    182\n",
              "308975    225\n",
              "129053    239\n",
              "Name: product_id, Length: 10580, dtype: int64"
            ]
          },
          "metadata": {
            "tags": []
          },
          "execution_count": 101
        }
      ]
    },
    {
      "cell_type": "code",
      "metadata": {
        "id": "V21Ar9P8HVqt",
        "outputId": "01966df8-438f-40e9-bbcc-7a92ec2cb858",
        "colab": {
          "base_uri": "https://localhost:8080/",
          "height": 419
        }
      },
      "source": [
        "tab_2_products[tab_2_products['user_id'] == 129053]"
      ],
      "execution_count": 107,
      "outputs": [
        {
          "output_type": "execute_result",
          "data": {
            "text/html": [
              "<div>\n",
              "<style scoped>\n",
              "    .dataframe tbody tr th:only-of-type {\n",
              "        vertical-align: middle;\n",
              "    }\n",
              "\n",
              "    .dataframe tbody tr th {\n",
              "        vertical-align: top;\n",
              "    }\n",
              "\n",
              "    .dataframe thead th {\n",
              "        text-align: right;\n",
              "    }\n",
              "</style>\n",
              "<table border=\"1\" class=\"dataframe\">\n",
              "  <thead>\n",
              "    <tr style=\"text-align: right;\">\n",
              "      <th></th>\n",
              "      <th>user_id</th>\n",
              "      <th>order_id</th>\n",
              "      <th>line_item_id</th>\n",
              "      <th>price</th>\n",
              "      <th>quantity</th>\n",
              "      <th>discount</th>\n",
              "      <th>product_name</th>\n",
              "      <th>product_id</th>\n",
              "      <th>brand_name</th>\n",
              "      <th>master_category_id</th>\n",
              "      <th>parent_category_id</th>\n",
              "    </tr>\n",
              "  </thead>\n",
              "  <tbody>\n",
              "    <tr>\n",
              "      <th>41094</th>\n",
              "      <td>129053</td>\n",
              "      <td>5549752</td>\n",
              "      <td>28546533</td>\n",
              "      <td>9.670000</td>\n",
              "      <td>20</td>\n",
              "      <td>0.000000</td>\n",
              "      <td>Соль Славяна пищевая самосадочная 1 кг</td>\n",
              "      <td>21612</td>\n",
              "      <td>Славяна</td>\n",
              "      <td>575.0</td>\n",
              "      <td>9</td>\n",
              "    </tr>\n",
              "    <tr>\n",
              "      <th>41095</th>\n",
              "      <td>129053</td>\n",
              "      <td>5549752</td>\n",
              "      <td>28552147</td>\n",
              "      <td>83.000000</td>\n",
              "      <td>10</td>\n",
              "      <td>0.000000</td>\n",
              "      <td>Отбеливатель-пятновыводитель Бос Плюс Maximum</td>\n",
              "      <td>8181</td>\n",
              "      <td>Бос</td>\n",
              "      <td>250.0</td>\n",
              "      <td>243</td>\n",
              "    </tr>\n",
              "    <tr>\n",
              "      <th>41096</th>\n",
              "      <td>129053</td>\n",
              "      <td>5549752</td>\n",
              "      <td>28552210</td>\n",
              "      <td>114.900002</td>\n",
              "      <td>1</td>\n",
              "      <td>70.099998</td>\n",
              "      <td>Кондиционер для белья Lenor Parfumelle Жемчужн...</td>\n",
              "      <td>62476</td>\n",
              "      <td>Lenor</td>\n",
              "      <td>249.0</td>\n",
              "      <td>243</td>\n",
              "    </tr>\n",
              "    <tr>\n",
              "      <th>41097</th>\n",
              "      <td>129053</td>\n",
              "      <td>5549752</td>\n",
              "      <td>28552242</td>\n",
              "      <td>765.000000</td>\n",
              "      <td>1</td>\n",
              "      <td>0.000000</td>\n",
              "      <td>Гель для стирки Ласка Эффект восстановления дл...</td>\n",
              "      <td>8306</td>\n",
              "      <td>Ласка</td>\n",
              "      <td>247.0</td>\n",
              "      <td>243</td>\n",
              "    </tr>\n",
              "    <tr>\n",
              "      <th>41098</th>\n",
              "      <td>129053</td>\n",
              "      <td>5549752</td>\n",
              "      <td>28552245</td>\n",
              "      <td>765.000000</td>\n",
              "      <td>1</td>\n",
              "      <td>0.000000</td>\n",
              "      <td>Гель для стирки Ласка Эффект восстановления дл...</td>\n",
              "      <td>8305</td>\n",
              "      <td>Ласка</td>\n",
              "      <td>247.0</td>\n",
              "      <td>243</td>\n",
              "    </tr>\n",
              "    <tr>\n",
              "      <th>...</th>\n",
              "      <td>...</td>\n",
              "      <td>...</td>\n",
              "      <td>...</td>\n",
              "      <td>...</td>\n",
              "      <td>...</td>\n",
              "      <td>...</td>\n",
              "      <td>...</td>\n",
              "      <td>...</td>\n",
              "      <td>...</td>\n",
              "      <td>...</td>\n",
              "      <td>...</td>\n",
              "    </tr>\n",
              "    <tr>\n",
              "      <th>41328</th>\n",
              "      <td>129053</td>\n",
              "      <td>5626771</td>\n",
              "      <td>29217494</td>\n",
              "      <td>52.990002</td>\n",
              "      <td>1</td>\n",
              "      <td>0.000000</td>\n",
              "      <td>Лаваш Коломенский Армянский тонкий</td>\n",
              "      <td>13478</td>\n",
              "      <td>Коломенский</td>\n",
              "      <td>596.0</td>\n",
              "      <td>51</td>\n",
              "    </tr>\n",
              "    <tr>\n",
              "      <th>41329</th>\n",
              "      <td>129053</td>\n",
              "      <td>5626771</td>\n",
              "      <td>29217607</td>\n",
              "      <td>125.000000</td>\n",
              "      <td>1</td>\n",
              "      <td>0.000000</td>\n",
              "      <td>Горчица Heinz Французская 180 г</td>\n",
              "      <td>13930</td>\n",
              "      <td>Heinz</td>\n",
              "      <td>587.0</td>\n",
              "      <td>479</td>\n",
              "    </tr>\n",
              "    <tr>\n",
              "      <th>41330</th>\n",
              "      <td>129053</td>\n",
              "      <td>5626771</td>\n",
              "      <td>29217639</td>\n",
              "      <td>73.889999</td>\n",
              "      <td>2</td>\n",
              "      <td>18.000000</td>\n",
              "      <td>Сметана Простоквашино 25 % 315 г бзмж</td>\n",
              "      <td>39595</td>\n",
              "      <td>Простоквашино</td>\n",
              "      <td>29.0</td>\n",
              "      <td>20</td>\n",
              "    </tr>\n",
              "    <tr>\n",
              "      <th>41331</th>\n",
              "      <td>129053</td>\n",
              "      <td>5626771</td>\n",
              "      <td>29218228</td>\n",
              "      <td>115.000000</td>\n",
              "      <td>1</td>\n",
              "      <td>0.000000</td>\n",
              "      <td>Лимонная кислота Haas</td>\n",
              "      <td>64834</td>\n",
              "      <td>Haas</td>\n",
              "      <td>578.0</td>\n",
              "      <td>9</td>\n",
              "    </tr>\n",
              "    <tr>\n",
              "      <th>41332</th>\n",
              "      <td>129053</td>\n",
              "      <td>5626771</td>\n",
              "      <td>29225203</td>\n",
              "      <td>547.900024</td>\n",
              "      <td>1</td>\n",
              "      <td>501.100006</td>\n",
              "      <td>Таблетки Finish Powerball All in One Max для п...</td>\n",
              "      <td>24473</td>\n",
              "      <td>Finish</td>\n",
              "      <td>261.0</td>\n",
              "      <td>252</td>\n",
              "    </tr>\n",
              "  </tbody>\n",
              "</table>\n",
              "<p>239 rows × 11 columns</p>\n",
              "</div>"
            ],
            "text/plain": [
              "       user_id  order_id  ...  master_category_id  parent_category_id\n",
              "41094   129053   5549752  ...               575.0                   9\n",
              "41095   129053   5549752  ...               250.0                 243\n",
              "41096   129053   5549752  ...               249.0                 243\n",
              "41097   129053   5549752  ...               247.0                 243\n",
              "41098   129053   5549752  ...               247.0                 243\n",
              "...        ...       ...  ...                 ...                 ...\n",
              "41328   129053   5626771  ...               596.0                  51\n",
              "41329   129053   5626771  ...               587.0                 479\n",
              "41330   129053   5626771  ...                29.0                  20\n",
              "41331   129053   5626771  ...               578.0                   9\n",
              "41332   129053   5626771  ...               261.0                 252\n",
              "\n",
              "[239 rows x 11 columns]"
            ]
          },
          "metadata": {
            "tags": []
          },
          "execution_count": 107
        }
      ]
    },
    {
      "cell_type": "code",
      "metadata": {
        "id": "EqKRd1FFHp8m"
      },
      "source": [
        ""
      ],
      "execution_count": null,
      "outputs": []
    }
  ]
}