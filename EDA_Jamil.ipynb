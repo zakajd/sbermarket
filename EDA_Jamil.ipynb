{
 "cells": [
  {
   "cell_type": "markdown",
   "metadata": {},
   "source": [
    "## Imports"
   ]
  },
  {
   "cell_type": "code",
   "execution_count": 1,
   "metadata": {
    "ExecuteTime": {
     "end_time": "2020-10-09T15:32:53.540753Z",
     "start_time": "2020-10-09T15:32:53.267906Z"
    }
   },
   "outputs": [],
   "source": [
    "import pandas as pd\n",
    "import numpy as np\n"
   ]
  },
  {
   "cell_type": "code",
   "execution_count": null,
   "metadata": {},
   "outputs": [],
   "source": []
  },
  {
   "cell_type": "markdown",
   "metadata": {},
   "source": [
    "## Read files"
   ]
  },
  {
   "cell_type": "code",
   "execution_count": 26,
   "metadata": {
    "ExecuteTime": {
     "end_time": "2020-10-09T15:58:30.688783Z",
     "start_time": "2020-10-09T15:58:30.679554Z"
    }
   },
   "outputs": [
    {
     "name": "stdout",
     "output_type": "stream",
     "text": [
      "788\n"
     ]
    },
    {
     "data": {
      "text/html": [
       "<div>\n",
       "<style scoped>\n",
       "    .dataframe tbody tr th:only-of-type {\n",
       "        vertical-align: middle;\n",
       "    }\n",
       "\n",
       "    .dataframe tbody tr th {\n",
       "        vertical-align: top;\n",
       "    }\n",
       "\n",
       "    .dataframe thead th {\n",
       "        text-align: right;\n",
       "    }\n",
       "</style>\n",
       "<table border=\"1\" class=\"dataframe\">\n",
       "  <thead>\n",
       "    <tr style=\"text-align: right;\">\n",
       "      <th></th>\n",
       "      <th>store_id</th>\n",
       "      <th>city_name</th>\n",
       "    </tr>\n",
       "  </thead>\n",
       "  <tbody>\n",
       "    <tr>\n",
       "      <th>0</th>\n",
       "      <td>14</td>\n",
       "      <td>Москва</td>\n",
       "    </tr>\n",
       "    <tr>\n",
       "      <th>1</th>\n",
       "      <td>21</td>\n",
       "      <td>Москва</td>\n",
       "    </tr>\n",
       "    <tr>\n",
       "      <th>2</th>\n",
       "      <td>1</td>\n",
       "      <td>Москва</td>\n",
       "    </tr>\n",
       "    <tr>\n",
       "      <th>3</th>\n",
       "      <td>4</td>\n",
       "      <td>Москва</td>\n",
       "    </tr>\n",
       "    <tr>\n",
       "      <th>4</th>\n",
       "      <td>7</td>\n",
       "      <td>Москва</td>\n",
       "    </tr>\n",
       "  </tbody>\n",
       "</table>\n",
       "</div>"
      ],
      "text/plain": [
       "   store_id city_name\n",
       "0        14    Москва\n",
       "1        21    Москва\n",
       "2         1    Москва\n",
       "3         4    Москва\n",
       "4         7    Москва"
      ]
     },
     "execution_count": 26,
     "metadata": {},
     "output_type": "execute_result"
    }
   ],
   "source": [
    "city_df = pd.read_csv(\"data/tab_6_city.csv\")\n",
    "print(len(city_df))\n",
    "city_df.head()"
   ]
  },
  {
   "cell_type": "code",
   "execution_count": 30,
   "metadata": {
    "ExecuteTime": {
     "end_time": "2020-10-09T16:00:11.472578Z",
     "start_time": "2020-10-09T16:00:11.467835Z"
    }
   },
   "outputs": [
    {
     "data": {
      "text/plain": [
       "0"
      ]
     },
     "execution_count": 30,
     "metadata": {},
     "output_type": "execute_result"
    }
   ],
   "source": [
    "city_df[\"city_name\"].isna().sum()"
   ]
  },
  {
   "cell_type": "code",
   "execution_count": 54,
   "metadata": {
    "ExecuteTime": {
     "end_time": "2020-10-09T16:12:19.388950Z",
     "start_time": "2020-10-09T16:12:18.708519Z"
    }
   },
   "outputs": [],
   "source": []
  },
  {
   "cell_type": "code",
   "execution_count": 56,
   "metadata": {
    "ExecuteTime": {
     "end_time": "2020-10-09T16:16:42.560674Z",
     "start_time": "2020-10-09T16:16:39.914470Z"
    }
   },
   "outputs": [
    {
     "name": "stdout",
     "output_type": "stream",
     "text": [
      "2461927\n"
     ]
    },
    {
     "data": {
      "text/html": [
       "<div>\n",
       "<style scoped>\n",
       "    .dataframe tbody tr th:only-of-type {\n",
       "        vertical-align: middle;\n",
       "    }\n",
       "\n",
       "    .dataframe tbody tr th {\n",
       "        vertical-align: top;\n",
       "    }\n",
       "\n",
       "    .dataframe thead th {\n",
       "        text-align: right;\n",
       "    }\n",
       "</style>\n",
       "<table border=\"1\" class=\"dataframe\">\n",
       "  <thead>\n",
       "    <tr style=\"text-align: right;\">\n",
       "      <th></th>\n",
       "      <th>user_id</th>\n",
       "      <th>order_id</th>\n",
       "      <th>order_created_time</th>\n",
       "      <th>retailer</th>\n",
       "      <th>store_id</th>\n",
       "      <th>platform</th>\n",
       "    </tr>\n",
       "  </thead>\n",
       "  <tbody>\n",
       "    <tr>\n",
       "      <th>0</th>\n",
       "      <td>72</td>\n",
       "      <td>17431000</td>\n",
       "      <td>2020-09-26 10:48:57</td>\n",
       "      <td>METRO</td>\n",
       "      <td>21</td>\n",
       "      <td>app</td>\n",
       "    </tr>\n",
       "    <tr>\n",
       "      <th>1</th>\n",
       "      <td>83</td>\n",
       "      <td>9718154</td>\n",
       "      <td>2020-05-08 09:46:18</td>\n",
       "      <td>METRO</td>\n",
       "      <td>87</td>\n",
       "      <td>web</td>\n",
       "    </tr>\n",
       "    <tr>\n",
       "      <th>2</th>\n",
       "      <td>142</td>\n",
       "      <td>10056850</td>\n",
       "      <td>2020-05-14 15:06:03</td>\n",
       "      <td>METRO</td>\n",
       "      <td>320</td>\n",
       "      <td>app</td>\n",
       "    </tr>\n",
       "    <tr>\n",
       "      <th>3</th>\n",
       "      <td>187</td>\n",
       "      <td>15952443</td>\n",
       "      <td>2020-09-01 17:34:00</td>\n",
       "      <td>ВкусВилл</td>\n",
       "      <td>533</td>\n",
       "      <td>app</td>\n",
       "    </tr>\n",
       "    <tr>\n",
       "      <th>4</th>\n",
       "      <td>224</td>\n",
       "      <td>10409918</td>\n",
       "      <td>2020-05-20 06:32:50</td>\n",
       "      <td>Ашан</td>\n",
       "      <td>183</td>\n",
       "      <td>web</td>\n",
       "    </tr>\n",
       "  </tbody>\n",
       "</table>\n",
       "</div>"
      ],
      "text/plain": [
       "   user_id  order_id   order_created_time  retailer  store_id platform\n",
       "0       72  17431000  2020-09-26 10:48:57     METRO        21      app\n",
       "1       83   9718154  2020-05-08 09:46:18     METRO        87      web\n",
       "2      142  10056850  2020-05-14 15:06:03     METRO       320      app\n",
       "3      187  15952443  2020-09-01 17:34:00  ВкусВилл       533      app\n",
       "4      224  10409918  2020-05-20 06:32:50      Ашан       183      web"
      ]
     },
     "execution_count": 56,
     "metadata": {},
     "output_type": "execute_result"
    }
   ],
   "source": [
    "orders_df = pd.read_csv(\"data/kaggle_tab_1345/tab_1_orders.csv\")\n",
    "orders_df.drop_duplicates([\"order_id\", \"store_id\"], inplace=True)\n",
    "print(len(orders_df))\n",
    "orders_df.head()"
   ]
  },
  {
   "cell_type": "code",
   "execution_count": 71,
   "metadata": {
    "ExecuteTime": {
     "end_time": "2020-10-09T16:19:28.190748Z",
     "start_time": "2020-10-09T16:19:28.135262Z"
    }
   },
   "outputs": [
    {
     "data": {
      "text/plain": [
       "array(['app', 'web', 'undefined'], dtype=object)"
      ]
     },
     "execution_count": 71,
     "metadata": {},
     "output_type": "execute_result"
    }
   ],
   "source": [
    "orders_df.platform.unique()"
   ]
  },
  {
   "cell_type": "code",
   "execution_count": null,
   "metadata": {},
   "outputs": [],
   "source": []
  },
  {
   "cell_type": "code",
   "execution_count": 53,
   "metadata": {
    "ExecuteTime": {
     "end_time": "2020-10-09T16:10:27.940202Z",
     "start_time": "2020-10-09T16:10:27.922635Z"
    }
   },
   "outputs": [
    {
     "data": {
      "text/html": [
       "<div>\n",
       "<style scoped>\n",
       "    .dataframe tbody tr th:only-of-type {\n",
       "        vertical-align: middle;\n",
       "    }\n",
       "\n",
       "    .dataframe tbody tr th {\n",
       "        vertical-align: top;\n",
       "    }\n",
       "\n",
       "    .dataframe thead th {\n",
       "        text-align: right;\n",
       "    }\n",
       "</style>\n",
       "<table border=\"1\" class=\"dataframe\">\n",
       "  <thead>\n",
       "    <tr style=\"text-align: right;\">\n",
       "      <th></th>\n",
       "      <th>user_id</th>\n",
       "      <th>order_id</th>\n",
       "      <th>order_created_time</th>\n",
       "      <th>retailer</th>\n",
       "      <th>store_id</th>\n",
       "      <th>platform</th>\n",
       "    </tr>\n",
       "  </thead>\n",
       "  <tbody>\n",
       "    <tr>\n",
       "      <th>415567</th>\n",
       "      <td>741524</td>\n",
       "      <td>13176473</td>\n",
       "      <td>2020-07-09 11:54:53</td>\n",
       "      <td>METRO</td>\n",
       "      <td>109</td>\n",
       "      <td>undefined</td>\n",
       "    </tr>\n",
       "    <tr>\n",
       "      <th>415568</th>\n",
       "      <td>741524</td>\n",
       "      <td>13176473</td>\n",
       "      <td>2020-07-09 11:54:53</td>\n",
       "      <td>METRO</td>\n",
       "      <td>109</td>\n",
       "      <td>undefined</td>\n",
       "    </tr>\n",
       "  </tbody>\n",
       "</table>\n",
       "</div>"
      ],
      "text/plain": [
       "        user_id  order_id   order_created_time retailer  store_id   platform\n",
       "415567   741524  13176473  2020-07-09 11:54:53    METRO       109  undefined\n",
       "415568   741524  13176473  2020-07-09 11:54:53    METRO       109  undefined"
      ]
     },
     "execution_count": 53,
     "metadata": {},
     "output_type": "execute_result"
    }
   ],
   "source": [
    "orders_df[(orders_df[\"order_id\"] == 13176473) & (orders_df[\"store_id\"] == 109)]"
   ]
  },
  {
   "cell_type": "code",
   "execution_count": null,
   "metadata": {
    "ExecuteTime": {
     "end_time": "2020-10-09T16:07:44.050267Z",
     "start_time": "2020-10-09T16:07:39.387888Z"
    }
   },
   "outputs": [],
   "source": [
    "mask = orders_df.groupby([\"order_id\", \"store_id\"])[\"order_id\"].count() > 1"
   ]
  },
  {
   "cell_type": "code",
   "execution_count": 47,
   "metadata": {
    "ExecuteTime": {
     "end_time": "2020-10-09T16:07:44.050267Z",
     "start_time": "2020-10-09T16:07:39.387888Z"
    }
   },
   "outputs": [
    {
     "data": {
      "text/html": [
       "<div>\n",
       "<style scoped>\n",
       "    .dataframe tbody tr th:only-of-type {\n",
       "        vertical-align: middle;\n",
       "    }\n",
       "\n",
       "    .dataframe tbody tr th {\n",
       "        vertical-align: top;\n",
       "    }\n",
       "\n",
       "    .dataframe thead th {\n",
       "        text-align: right;\n",
       "    }\n",
       "</style>\n",
       "<table border=\"1\" class=\"dataframe\">\n",
       "  <thead>\n",
       "    <tr style=\"text-align: right;\">\n",
       "      <th></th>\n",
       "      <th></th>\n",
       "      <th>user_id</th>\n",
       "      <th>order_created_time</th>\n",
       "      <th>retailer</th>\n",
       "      <th>platform</th>\n",
       "    </tr>\n",
       "    <tr>\n",
       "      <th>order_id</th>\n",
       "      <th>store_id</th>\n",
       "      <th></th>\n",
       "      <th></th>\n",
       "      <th></th>\n",
       "      <th></th>\n",
       "    </tr>\n",
       "  </thead>\n",
       "  <tbody>\n",
       "    <tr>\n",
       "      <th>7030288</th>\n",
       "      <th>102</th>\n",
       "      <td>2</td>\n",
       "      <td>2</td>\n",
       "      <td>2</td>\n",
       "      <td>2</td>\n",
       "    </tr>\n",
       "    <tr>\n",
       "      <th>8268394</th>\n",
       "      <th>10</th>\n",
       "      <td>2</td>\n",
       "      <td>2</td>\n",
       "      <td>2</td>\n",
       "      <td>2</td>\n",
       "    </tr>\n",
       "    <tr>\n",
       "      <th>8307763</th>\n",
       "      <th>10</th>\n",
       "      <td>2</td>\n",
       "      <td>2</td>\n",
       "      <td>2</td>\n",
       "      <td>2</td>\n",
       "    </tr>\n",
       "    <tr>\n",
       "      <th>8433561</th>\n",
       "      <th>10</th>\n",
       "      <td>2</td>\n",
       "      <td>2</td>\n",
       "      <td>2</td>\n",
       "      <td>2</td>\n",
       "    </tr>\n",
       "    <tr>\n",
       "      <th>8534025</th>\n",
       "      <th>10</th>\n",
       "      <td>2</td>\n",
       "      <td>2</td>\n",
       "      <td>2</td>\n",
       "      <td>2</td>\n",
       "    </tr>\n",
       "    <tr>\n",
       "      <th>10200945</th>\n",
       "      <th>11</th>\n",
       "      <td>2</td>\n",
       "      <td>2</td>\n",
       "      <td>2</td>\n",
       "      <td>2</td>\n",
       "    </tr>\n",
       "    <tr>\n",
       "      <th>12354606</th>\n",
       "      <th>68</th>\n",
       "      <td>2</td>\n",
       "      <td>2</td>\n",
       "      <td>2</td>\n",
       "      <td>2</td>\n",
       "    </tr>\n",
       "    <tr>\n",
       "      <th>12412493</th>\n",
       "      <th>68</th>\n",
       "      <td>2</td>\n",
       "      <td>2</td>\n",
       "      <td>2</td>\n",
       "      <td>2</td>\n",
       "    </tr>\n",
       "    <tr>\n",
       "      <th>12470303</th>\n",
       "      <th>110</th>\n",
       "      <td>2</td>\n",
       "      <td>2</td>\n",
       "      <td>2</td>\n",
       "      <td>2</td>\n",
       "    </tr>\n",
       "    <tr>\n",
       "      <th>12622417</th>\n",
       "      <th>110</th>\n",
       "      <td>2</td>\n",
       "      <td>2</td>\n",
       "      <td>2</td>\n",
       "      <td>2</td>\n",
       "    </tr>\n",
       "    <tr>\n",
       "      <th>13176473</th>\n",
       "      <th>109</th>\n",
       "      <td>2</td>\n",
       "      <td>2</td>\n",
       "      <td>2</td>\n",
       "      <td>2</td>\n",
       "    </tr>\n",
       "    <tr>\n",
       "      <th>13186375</th>\n",
       "      <th>109</th>\n",
       "      <td>2</td>\n",
       "      <td>2</td>\n",
       "      <td>2</td>\n",
       "      <td>2</td>\n",
       "    </tr>\n",
       "    <tr>\n",
       "      <th>13191861</th>\n",
       "      <th>110</th>\n",
       "      <td>2</td>\n",
       "      <td>2</td>\n",
       "      <td>2</td>\n",
       "      <td>2</td>\n",
       "    </tr>\n",
       "    <tr>\n",
       "      <th>13191902</th>\n",
       "      <th>109</th>\n",
       "      <td>2</td>\n",
       "      <td>2</td>\n",
       "      <td>2</td>\n",
       "      <td>2</td>\n",
       "    </tr>\n",
       "    <tr>\n",
       "      <th>13213800</th>\n",
       "      <th>111</th>\n",
       "      <td>2</td>\n",
       "      <td>2</td>\n",
       "      <td>2</td>\n",
       "      <td>2</td>\n",
       "    </tr>\n",
       "    <tr>\n",
       "      <th>13223820</th>\n",
       "      <th>10</th>\n",
       "      <td>2</td>\n",
       "      <td>2</td>\n",
       "      <td>2</td>\n",
       "      <td>2</td>\n",
       "    </tr>\n",
       "    <tr>\n",
       "      <th>13453637</th>\n",
       "      <th>10</th>\n",
       "      <td>2</td>\n",
       "      <td>2</td>\n",
       "      <td>2</td>\n",
       "      <td>2</td>\n",
       "    </tr>\n",
       "    <tr>\n",
       "      <th>13601735</th>\n",
       "      <th>110</th>\n",
       "      <td>2</td>\n",
       "      <td>2</td>\n",
       "      <td>2</td>\n",
       "      <td>2</td>\n",
       "    </tr>\n",
       "    <tr>\n",
       "      <th>13746950</th>\n",
       "      <th>10</th>\n",
       "      <td>2</td>\n",
       "      <td>2</td>\n",
       "      <td>2</td>\n",
       "      <td>2</td>\n",
       "    </tr>\n",
       "    <tr>\n",
       "      <th>13931349</th>\n",
       "      <th>10</th>\n",
       "      <td>2</td>\n",
       "      <td>2</td>\n",
       "      <td>2</td>\n",
       "      <td>2</td>\n",
       "    </tr>\n",
       "    <tr>\n",
       "      <th>13940800</th>\n",
       "      <th>62</th>\n",
       "      <td>2</td>\n",
       "      <td>2</td>\n",
       "      <td>2</td>\n",
       "      <td>2</td>\n",
       "    </tr>\n",
       "    <tr>\n",
       "      <th>14665849</th>\n",
       "      <th>65</th>\n",
       "      <td>2</td>\n",
       "      <td>2</td>\n",
       "      <td>2</td>\n",
       "      <td>2</td>\n",
       "    </tr>\n",
       "    <tr>\n",
       "      <th>14921236</th>\n",
       "      <th>127</th>\n",
       "      <td>2</td>\n",
       "      <td>2</td>\n",
       "      <td>2</td>\n",
       "      <td>2</td>\n",
       "    </tr>\n",
       "    <tr>\n",
       "      <th>15329880</th>\n",
       "      <th>126</th>\n",
       "      <td>2</td>\n",
       "      <td>2</td>\n",
       "      <td>2</td>\n",
       "      <td>2</td>\n",
       "    </tr>\n",
       "    <tr>\n",
       "      <th>15444997</th>\n",
       "      <th>110</th>\n",
       "      <td>2</td>\n",
       "      <td>2</td>\n",
       "      <td>2</td>\n",
       "      <td>2</td>\n",
       "    </tr>\n",
       "    <tr>\n",
       "      <th>15635883</th>\n",
       "      <th>66</th>\n",
       "      <td>2</td>\n",
       "      <td>2</td>\n",
       "      <td>2</td>\n",
       "      <td>2</td>\n",
       "    </tr>\n",
       "    <tr>\n",
       "      <th>16040482</th>\n",
       "      <th>180</th>\n",
       "      <td>2</td>\n",
       "      <td>2</td>\n",
       "      <td>2</td>\n",
       "      <td>2</td>\n",
       "    </tr>\n",
       "    <tr>\n",
       "      <th>16076319</th>\n",
       "      <th>211</th>\n",
       "      <td>2</td>\n",
       "      <td>2</td>\n",
       "      <td>2</td>\n",
       "      <td>2</td>\n",
       "    </tr>\n",
       "    <tr>\n",
       "      <th>16323542</th>\n",
       "      <th>180</th>\n",
       "      <td>2</td>\n",
       "      <td>2</td>\n",
       "      <td>2</td>\n",
       "      <td>2</td>\n",
       "    </tr>\n",
       "    <tr>\n",
       "      <th>16522043</th>\n",
       "      <th>3</th>\n",
       "      <td>2</td>\n",
       "      <td>2</td>\n",
       "      <td>2</td>\n",
       "      <td>2</td>\n",
       "    </tr>\n",
       "    <tr>\n",
       "      <th>16538548</th>\n",
       "      <th>65</th>\n",
       "      <td>2</td>\n",
       "      <td>2</td>\n",
       "      <td>2</td>\n",
       "      <td>2</td>\n",
       "    </tr>\n",
       "  </tbody>\n",
       "</table>\n",
       "</div>"
      ],
      "text/plain": [
       "                   user_id  order_created_time  retailer  platform\n",
       "order_id store_id                                                 \n",
       "7030288  102             2                   2         2         2\n",
       "8268394  10              2                   2         2         2\n",
       "8307763  10              2                   2         2         2\n",
       "8433561  10              2                   2         2         2\n",
       "8534025  10              2                   2         2         2\n",
       "10200945 11              2                   2         2         2\n",
       "12354606 68              2                   2         2         2\n",
       "12412493 68              2                   2         2         2\n",
       "12470303 110             2                   2         2         2\n",
       "12622417 110             2                   2         2         2\n",
       "13176473 109             2                   2         2         2\n",
       "13186375 109             2                   2         2         2\n",
       "13191861 110             2                   2         2         2\n",
       "13191902 109             2                   2         2         2\n",
       "13213800 111             2                   2         2         2\n",
       "13223820 10              2                   2         2         2\n",
       "13453637 10              2                   2         2         2\n",
       "13601735 110             2                   2         2         2\n",
       "13746950 10              2                   2         2         2\n",
       "13931349 10              2                   2         2         2\n",
       "13940800 62              2                   2         2         2\n",
       "14665849 65              2                   2         2         2\n",
       "14921236 127             2                   2         2         2\n",
       "15329880 126             2                   2         2         2\n",
       "15444997 110             2                   2         2         2\n",
       "15635883 66              2                   2         2         2\n",
       "16040482 180             2                   2         2         2\n",
       "16076319 211             2                   2         2         2\n",
       "16323542 180             2                   2         2         2\n",
       "16522043 3               2                   2         2         2\n",
       "16538548 65              2                   2         2         2"
      ]
     },
     "execution_count": 47,
     "metadata": {},
     "output_type": "execute_result"
    }
   ],
   "source": [
    "orders_df.groupby([\"order_id\", \"store_id\"]).count()[mask]"
   ]
  },
  {
   "cell_type": "code",
   "execution_count": 38,
   "metadata": {
    "ExecuteTime": {
     "end_time": "2020-10-09T16:04:23.402849Z",
     "start_time": "2020-10-09T16:04:22.394149Z"
    }
   },
   "outputs": [
    {
     "data": {
      "text/plain": [
       "15"
      ]
     },
     "execution_count": 38,
     "metadata": {},
     "output_type": "execute_result"
    }
   ],
   "source": [
    "sum(orders_df.groupby(\"order_id\")[\"order_id\"].count() > 3)"
   ]
  },
  {
   "cell_type": "code",
   "execution_count": null,
   "metadata": {},
   "outputs": [],
   "source": [
    "orders_df = orders_df.iloc[]"
   ]
  },
  {
   "cell_type": "code",
   "execution_count": 31,
   "metadata": {
    "ExecuteTime": {
     "end_time": "2020-10-09T16:01:49.078555Z",
     "start_time": "2020-10-09T16:01:48.859026Z"
    }
   },
   "outputs": [
    {
     "data": {
      "text/plain": [
       "(2461958, 2426955)"
      ]
     },
     "execution_count": 31,
     "metadata": {},
     "output_type": "execute_result"
    }
   ],
   "source": [
    "len(orders_df), orders_df[\"order_id\"].nunique()"
   ]
  },
  {
   "cell_type": "code",
   "execution_count": 4,
   "metadata": {
    "ExecuteTime": {
     "end_time": "2020-10-09T15:32:56.473919Z",
     "start_time": "2020-10-09T15:32:56.463882Z"
    }
   },
   "outputs": [
    {
     "name": "stdout",
     "output_type": "stream",
     "text": [
      "1016\n"
     ]
    },
    {
     "data": {
      "text/html": [
       "<div>\n",
       "<style scoped>\n",
       "    .dataframe tbody tr th:only-of-type {\n",
       "        vertical-align: middle;\n",
       "    }\n",
       "\n",
       "    .dataframe tbody tr th {\n",
       "        vertical-align: top;\n",
       "    }\n",
       "\n",
       "    .dataframe thead th {\n",
       "        text-align: right;\n",
       "    }\n",
       "</style>\n",
       "<table border=\"1\" class=\"dataframe\">\n",
       "  <thead>\n",
       "    <tr style=\"text-align: right;\">\n",
       "      <th></th>\n",
       "      <th>id</th>\n",
       "      <th>name</th>\n",
       "      <th>parent_id</th>\n",
       "    </tr>\n",
       "  </thead>\n",
       "  <tbody>\n",
       "    <tr>\n",
       "      <th>0</th>\n",
       "      <td>1</td>\n",
       "      <td>Продукты питания</td>\n",
       "      <td>0</td>\n",
       "    </tr>\n",
       "    <tr>\n",
       "      <th>1</th>\n",
       "      <td>2</td>\n",
       "      <td>Замороженные продукты</td>\n",
       "      <td>1</td>\n",
       "    </tr>\n",
       "    <tr>\n",
       "      <th>2</th>\n",
       "      <td>3</td>\n",
       "      <td>Замороженные овощи и фрукты</td>\n",
       "      <td>2</td>\n",
       "    </tr>\n",
       "    <tr>\n",
       "      <th>3</th>\n",
       "      <td>4</td>\n",
       "      <td>Замороженные полуфабрикаты</td>\n",
       "      <td>2</td>\n",
       "    </tr>\n",
       "    <tr>\n",
       "      <th>4</th>\n",
       "      <td>5</td>\n",
       "      <td>Рыба замороженная</td>\n",
       "      <td>2</td>\n",
       "    </tr>\n",
       "  </tbody>\n",
       "</table>\n",
       "</div>"
      ],
      "text/plain": [
       "   id                         name  parent_id\n",
       "0   1             Продукты питания          0\n",
       "1   2        Замороженные продукты          1\n",
       "2   3  Замороженные овощи и фрукты          2\n",
       "3   4   Замороженные полуфабрикаты          2\n",
       "4   5            Рыба замороженная          2"
      ]
     },
     "execution_count": 4,
     "metadata": {},
     "output_type": "execute_result"
    }
   ],
   "source": [
    "categories_df = pd.read_csv(\"data/kaggle_tab_1345/tab_3_categories.csv\")\n",
    "print(len(categories_df))\n",
    "categories_df.head()"
   ]
  },
  {
   "cell_type": "code",
   "execution_count": 5,
   "metadata": {
    "ExecuteTime": {
     "end_time": "2020-10-09T15:32:56.604049Z",
     "start_time": "2020-10-09T15:32:56.475246Z"
    }
   },
   "outputs": [
    {
     "name": "stdout",
     "output_type": "stream",
     "text": [
      "438867\n"
     ]
    },
    {
     "data": {
      "text/html": [
       "<div>\n",
       "<style scoped>\n",
       "    .dataframe tbody tr th:only-of-type {\n",
       "        vertical-align: middle;\n",
       "    }\n",
       "\n",
       "    .dataframe tbody tr th {\n",
       "        vertical-align: top;\n",
       "    }\n",
       "\n",
       "    .dataframe thead th {\n",
       "        text-align: right;\n",
       "    }\n",
       "</style>\n",
       "<table border=\"1\" class=\"dataframe\">\n",
       "  <thead>\n",
       "    <tr style=\"text-align: right;\">\n",
       "      <th></th>\n",
       "      <th>user_id</th>\n",
       "      <th>gender</th>\n",
       "      <th>bdate</th>\n",
       "    </tr>\n",
       "  </thead>\n",
       "  <tbody>\n",
       "    <tr>\n",
       "      <th>0</th>\n",
       "      <td>2224890</td>\n",
       "      <td>NaN</td>\n",
       "      <td>NaN</td>\n",
       "    </tr>\n",
       "    <tr>\n",
       "      <th>1</th>\n",
       "      <td>1683001</td>\n",
       "      <td>male</td>\n",
       "      <td>1987-10-11</td>\n",
       "    </tr>\n",
       "    <tr>\n",
       "      <th>2</th>\n",
       "      <td>2102480</td>\n",
       "      <td>NaN</td>\n",
       "      <td>NaN</td>\n",
       "    </tr>\n",
       "    <tr>\n",
       "      <th>3</th>\n",
       "      <td>2224895</td>\n",
       "      <td>NaN</td>\n",
       "      <td>NaN</td>\n",
       "    </tr>\n",
       "    <tr>\n",
       "      <th>4</th>\n",
       "      <td>930197</td>\n",
       "      <td>NaN</td>\n",
       "      <td>NaN</td>\n",
       "    </tr>\n",
       "  </tbody>\n",
       "</table>\n",
       "</div>"
      ],
      "text/plain": [
       "   user_id gender       bdate\n",
       "0  2224890    NaN         NaN\n",
       "1  1683001   male  1987-10-11\n",
       "2  2102480    NaN         NaN\n",
       "3  2224895    NaN         NaN\n",
       "4   930197    NaN         NaN"
      ]
     },
     "execution_count": 5,
     "metadata": {},
     "output_type": "execute_result"
    }
   ],
   "source": [
    "user_df = pd.read_csv(\"data/kaggle_tab_1345/tab_4_user_profiles.csv\")\n",
    "print(len(user_df))\n",
    "user_df.head()"
   ]
  },
  {
   "cell_type": "code",
   "execution_count": 75,
   "metadata": {
    "ExecuteTime": {
     "end_time": "2020-10-09T16:25:04.264604Z",
     "start_time": "2020-10-09T16:25:04.237154Z"
    }
   },
   "outputs": [
    {
     "data": {
      "text/plain": [
       "array([nan, '1987-10-11', '1982-09-24', ..., '2.5.1996', '1956-01-22',\n",
       "       '14.8.2002'], dtype=object)"
      ]
     },
     "execution_count": 75,
     "metadata": {},
     "output_type": "execute_result"
    }
   ],
   "source": [
    "user_df.bdate.unique()"
   ]
  },
  {
   "cell_type": "code",
   "execution_count": 24,
   "metadata": {
    "ExecuteTime": {
     "end_time": "2020-10-09T15:41:04.439502Z",
     "start_time": "2020-10-09T15:41:04.401112Z"
    }
   },
   "outputs": [
    {
     "data": {
      "text/plain": [
       "(438867, 436927)"
      ]
     },
     "execution_count": 24,
     "metadata": {},
     "output_type": "execute_result"
    }
   ],
   "source": [
    "len(user_df), user_df[\"user_id\"].nunique()"
   ]
  },
  {
   "cell_type": "code",
   "execution_count": null,
   "metadata": {},
   "outputs": [],
   "source": [
    "users = "
   ]
  },
  {
   "cell_type": "code",
   "execution_count": 6,
   "metadata": {
    "ExecuteTime": {
     "end_time": "2020-10-09T15:33:00.168247Z",
     "start_time": "2020-10-09T15:32:56.605563Z"
    }
   },
   "outputs": [
    {
     "name": "stdout",
     "output_type": "stream",
     "text": [
      "6990208\n"
     ]
    },
    {
     "data": {
      "text/html": [
       "<div>\n",
       "<style scoped>\n",
       "    .dataframe tbody tr th:only-of-type {\n",
       "        vertical-align: middle;\n",
       "    }\n",
       "\n",
       "    .dataframe tbody tr th {\n",
       "        vertical-align: top;\n",
       "    }\n",
       "\n",
       "    .dataframe thead th {\n",
       "        text-align: right;\n",
       "    }\n",
       "</style>\n",
       "<table border=\"1\" class=\"dataframe\">\n",
       "  <thead>\n",
       "    <tr style=\"text-align: right;\">\n",
       "      <th></th>\n",
       "      <th>product_id</th>\n",
       "      <th>property_name</th>\n",
       "      <th>property_value</th>\n",
       "    </tr>\n",
       "  </thead>\n",
       "  <tbody>\n",
       "    <tr>\n",
       "      <th>0</th>\n",
       "      <td>1</td>\n",
       "      <td>Вес</td>\n",
       "      <td>100 г</td>\n",
       "    </tr>\n",
       "    <tr>\n",
       "      <th>1</th>\n",
       "      <td>2</td>\n",
       "      <td>Вид</td>\n",
       "      <td>Молочный напиток</td>\n",
       "    </tr>\n",
       "    <tr>\n",
       "      <th>2</th>\n",
       "      <td>2</td>\n",
       "      <td>Вес</td>\n",
       "      <td>100 г</td>\n",
       "    </tr>\n",
       "    <tr>\n",
       "      <th>3</th>\n",
       "      <td>2</td>\n",
       "      <td>Вкус</td>\n",
       "      <td>Черника</td>\n",
       "    </tr>\n",
       "    <tr>\n",
       "      <th>4</th>\n",
       "      <td>2</td>\n",
       "      <td>Сырье</td>\n",
       "      <td>Натуральное молоко</td>\n",
       "    </tr>\n",
       "  </tbody>\n",
       "</table>\n",
       "</div>"
      ],
      "text/plain": [
       "   product_id property_name      property_value\n",
       "0           1           Вес               100 г\n",
       "1           2           Вид    Молочный напиток\n",
       "2           2           Вес               100 г\n",
       "3           2          Вкус             Черника\n",
       "4           2         Сырье  Натуральное молоко"
      ]
     },
     "execution_count": 6,
     "metadata": {},
     "output_type": "execute_result"
    }
   ],
   "source": [
    "product_df = pd.read_csv(\"data/kaggle_tab_1345/tab_5_product_properties.csv\")\n",
    "print(len(product_df))\n",
    "product_df.head()"
   ]
  },
  {
   "cell_type": "code",
   "execution_count": 85,
   "metadata": {
    "ExecuteTime": {
     "end_time": "2020-10-09T17:00:02.155753Z",
     "start_time": "2020-10-09T17:00:02.136328Z"
    }
   },
   "outputs": [
    {
     "data": {
      "text/html": [
       "<div>\n",
       "<style scoped>\n",
       "    .dataframe tbody tr th:only-of-type {\n",
       "        vertical-align: middle;\n",
       "    }\n",
       "\n",
       "    .dataframe tbody tr th {\n",
       "        vertical-align: top;\n",
       "    }\n",
       "\n",
       "    .dataframe thead th {\n",
       "        text-align: right;\n",
       "    }\n",
       "</style>\n",
       "<table border=\"1\" class=\"dataframe\">\n",
       "  <thead>\n",
       "    <tr style=\"text-align: right;\">\n",
       "      <th></th>\n",
       "      <th>product_id</th>\n",
       "      <th>property_name</th>\n",
       "      <th>property_value</th>\n",
       "    </tr>\n",
       "  </thead>\n",
       "  <tbody>\n",
       "    <tr>\n",
       "      <th>7</th>\n",
       "      <td>4</td>\n",
       "      <td>Вес</td>\n",
       "      <td>200 г</td>\n",
       "    </tr>\n",
       "  </tbody>\n",
       "</table>\n",
       "</div>"
      ],
      "text/plain": [
       "   product_id property_name property_value\n",
       "7           4           Вес          200 г"
      ]
     },
     "execution_count": 85,
     "metadata": {},
     "output_type": "execute_result"
    }
   ],
   "source": [
    "product_df[product_df.product_id == 4]"
   ]
  },
  {
   "cell_type": "code",
   "execution_count": 8,
   "metadata": {
    "ExecuteTime": {
     "end_time": "2020-10-09T15:34:00.548442Z",
     "start_time": "2020-10-09T15:33:56.832873Z"
    }
   },
   "outputs": [
    {
     "name": "stdout",
     "output_type": "stream",
     "text": [
      "303667\n",
      "513065\n",
      "631727\n",
      "664805\n",
      "781726\n"
     ]
    }
   ],
   "source": [
    "df_1 = pd.read_csv(\"data/sbermarket_tab_2_1/tab_2_products_2020-01-01.csv\")\n",
    "print(len(df_1))\n",
    "df_2 = pd.read_csv(\"data/sbermarket_tab_2_1/tab_2_products_2020-01-21.csv\")\n",
    "print(len(df_2))\n",
    "df_3 = pd.read_csv(\"data/sbermarket_tab_2_1/tab_2_products_2020-01-31.csv\")\n",
    "print(len(df_3))\n",
    "df_4 = pd.read_csv(\"data/sbermarket_tab_2_1/tab_2_products_2020-02-10.csv\")\n",
    "print(len(df_4))\n",
    "df_5 = pd.read_csv(\"data/sbermarket_tab_2_1/tab_2_products_2020-02-20.csv\")\n",
    "print(len(df_5))"
   ]
  },
  {
   "cell_type": "code",
   "execution_count": 78,
   "metadata": {
    "ExecuteTime": {
     "end_time": "2020-10-09T16:29:44.568537Z",
     "start_time": "2020-10-09T16:29:44.554400Z"
    }
   },
   "outputs": [
    {
     "data": {
      "text/html": [
       "<div>\n",
       "<style scoped>\n",
       "    .dataframe tbody tr th:only-of-type {\n",
       "        vertical-align: middle;\n",
       "    }\n",
       "\n",
       "    .dataframe tbody tr th {\n",
       "        vertical-align: top;\n",
       "    }\n",
       "\n",
       "    .dataframe thead th {\n",
       "        text-align: right;\n",
       "    }\n",
       "</style>\n",
       "<table border=\"1\" class=\"dataframe\">\n",
       "  <thead>\n",
       "    <tr style=\"text-align: right;\">\n",
       "      <th></th>\n",
       "      <th>user_id</th>\n",
       "      <th>order_id</th>\n",
       "      <th>line_item_id</th>\n",
       "      <th>price</th>\n",
       "      <th>quantity</th>\n",
       "      <th>discount</th>\n",
       "      <th>product_name</th>\n",
       "      <th>product_id</th>\n",
       "      <th>brand_name</th>\n",
       "      <th>master_category_id</th>\n",
       "      <th>parent_category_id</th>\n",
       "    </tr>\n",
       "  </thead>\n",
       "  <tbody>\n",
       "    <tr>\n",
       "      <th>0</th>\n",
       "      <td>525</td>\n",
       "      <td>5354800</td>\n",
       "      <td>28381452</td>\n",
       "      <td>116.000000</td>\n",
       "      <td>4</td>\n",
       "      <td>0.000000</td>\n",
       "      <td>Лазанья Золотой Петушок мясной слоеный пирог з...</td>\n",
       "      <td>37548</td>\n",
       "      <td>Золотой Петушок</td>\n",
       "      <td>101.0</td>\n",
       "      <td>99</td>\n",
       "    </tr>\n",
       "    <tr>\n",
       "      <th>1</th>\n",
       "      <td>525</td>\n",
       "      <td>5354800</td>\n",
       "      <td>29242911</td>\n",
       "      <td>56.990002</td>\n",
       "      <td>2</td>\n",
       "      <td>13.080000</td>\n",
       "      <td>Хлеб Хлебный Дом Геркулес зерновой с отрубями ...</td>\n",
       "      <td>5636</td>\n",
       "      <td>Хлебный Дом</td>\n",
       "      <td>596.0</td>\n",
       "      <td>51</td>\n",
       "    </tr>\n",
       "    <tr>\n",
       "      <th>2</th>\n",
       "      <td>525</td>\n",
       "      <td>5354800</td>\n",
       "      <td>29242919</td>\n",
       "      <td>64.989998</td>\n",
       "      <td>2</td>\n",
       "      <td>40.020000</td>\n",
       "      <td>Тортилья Delicados оригинальная пшеничная</td>\n",
       "      <td>22107</td>\n",
       "      <td>Delicados</td>\n",
       "      <td>596.0</td>\n",
       "      <td>51</td>\n",
       "    </tr>\n",
       "    <tr>\n",
       "      <th>3</th>\n",
       "      <td>525</td>\n",
       "      <td>5354800</td>\n",
       "      <td>29243785</td>\n",
       "      <td>44.990002</td>\n",
       "      <td>6</td>\n",
       "      <td>0.000000</td>\n",
       "      <td>Вода питьевая минеральная BonAqua газированная...</td>\n",
       "      <td>2530</td>\n",
       "      <td>BonAqua</td>\n",
       "      <td>77.0</td>\n",
       "      <td>74</td>\n",
       "    </tr>\n",
       "    <tr>\n",
       "      <th>4</th>\n",
       "      <td>525</td>\n",
       "      <td>5354800</td>\n",
       "      <td>29244246</td>\n",
       "      <td>65.900002</td>\n",
       "      <td>6</td>\n",
       "      <td>30.990000</td>\n",
       "      <td>Газированный напиток Mirinda Апельсин 1,5 л</td>\n",
       "      <td>3818486</td>\n",
       "      <td>Mirinda</td>\n",
       "      <td>76.0</td>\n",
       "      <td>74</td>\n",
       "    </tr>\n",
       "    <tr>\n",
       "      <th>5</th>\n",
       "      <td>525</td>\n",
       "      <td>5354800</td>\n",
       "      <td>29245495</td>\n",
       "      <td>29.900000</td>\n",
       "      <td>1</td>\n",
       "      <td>39.990002</td>\n",
       "      <td>Помидоры черри красные 250 г</td>\n",
       "      <td>687</td>\n",
       "      <td>Без бренда</td>\n",
       "      <td>85.0</td>\n",
       "      <td>84</td>\n",
       "    </tr>\n",
       "    <tr>\n",
       "      <th>6</th>\n",
       "      <td>525</td>\n",
       "      <td>5354800</td>\n",
       "      <td>29245927</td>\n",
       "      <td>239.000000</td>\n",
       "      <td>1</td>\n",
       "      <td>91.000000</td>\n",
       "      <td>Сыр полутвердый Сыробогатов Российский 50% 400...</td>\n",
       "      <td>64913</td>\n",
       "      <td>Сыробогатов</td>\n",
       "      <td>36.0</td>\n",
       "      <td>35</td>\n",
       "    </tr>\n",
       "    <tr>\n",
       "      <th>7</th>\n",
       "      <td>525</td>\n",
       "      <td>5354800</td>\n",
       "      <td>29246056</td>\n",
       "      <td>448.459991</td>\n",
       "      <td>1</td>\n",
       "      <td>125.580002</td>\n",
       "      <td>Сосиски Черкизово Молочные по-черкизовски</td>\n",
       "      <td>4372</td>\n",
       "      <td>Черкизово</td>\n",
       "      <td>47.0</td>\n",
       "      <td>42</td>\n",
       "    </tr>\n",
       "    <tr>\n",
       "      <th>8</th>\n",
       "      <td>525</td>\n",
       "      <td>5354800</td>\n",
       "      <td>29246248</td>\n",
       "      <td>410.470001</td>\n",
       "      <td>1</td>\n",
       "      <td>188.220001</td>\n",
       "      <td>Колбаса Дымов Праздничная сырокопченая ~590 г</td>\n",
       "      <td>16673</td>\n",
       "      <td>Дымов</td>\n",
       "      <td>45.0</td>\n",
       "      <td>42</td>\n",
       "    </tr>\n",
       "    <tr>\n",
       "      <th>9</th>\n",
       "      <td>525</td>\n",
       "      <td>5354800</td>\n",
       "      <td>29246761</td>\n",
       "      <td>38.990002</td>\n",
       "      <td>6</td>\n",
       "      <td>0.000000</td>\n",
       "      <td>Энергетический напиток Monster красный</td>\n",
       "      <td>67252</td>\n",
       "      <td>Monster</td>\n",
       "      <td>634.0</td>\n",
       "      <td>74</td>\n",
       "    </tr>\n",
       "    <tr>\n",
       "      <th>10</th>\n",
       "      <td>525</td>\n",
       "      <td>5354800</td>\n",
       "      <td>29246845</td>\n",
       "      <td>46.900002</td>\n",
       "      <td>6</td>\n",
       "      <td>29.100000</td>\n",
       "      <td>Напиток Turbo Energy энергетический безалкогол...</td>\n",
       "      <td>4203439</td>\n",
       "      <td>Turbo Energy</td>\n",
       "      <td>634.0</td>\n",
       "      <td>74</td>\n",
       "    </tr>\n",
       "    <tr>\n",
       "      <th>11</th>\n",
       "      <td>525</td>\n",
       "      <td>5354800</td>\n",
       "      <td>29246931</td>\n",
       "      <td>104.900002</td>\n",
       "      <td>2</td>\n",
       "      <td>72.099998</td>\n",
       "      <td>Сок Добрый томат</td>\n",
       "      <td>2303</td>\n",
       "      <td>Добрый</td>\n",
       "      <td>630.0</td>\n",
       "      <td>74</td>\n",
       "    </tr>\n",
       "    <tr>\n",
       "      <th>12</th>\n",
       "      <td>525</td>\n",
       "      <td>5354800</td>\n",
       "      <td>29246955</td>\n",
       "      <td>116.000000</td>\n",
       "      <td>4</td>\n",
       "      <td>0.000000</td>\n",
       "      <td>Лазанья Золотой Петушок мясной слоеный пирог з...</td>\n",
       "      <td>37548</td>\n",
       "      <td>Золотой Петушок</td>\n",
       "      <td>101.0</td>\n",
       "      <td>99</td>\n",
       "    </tr>\n",
       "    <tr>\n",
       "      <th>13</th>\n",
       "      <td>525</td>\n",
       "      <td>5354800</td>\n",
       "      <td>29272563</td>\n",
       "      <td>69.989998</td>\n",
       "      <td>2</td>\n",
       "      <td>0.000000</td>\n",
       "      <td>Тортилья Horeca Select пшеничная 20 см</td>\n",
       "      <td>16230</td>\n",
       "      <td>Horeca Select</td>\n",
       "      <td>596.0</td>\n",
       "      <td>51</td>\n",
       "    </tr>\n",
       "  </tbody>\n",
       "</table>\n",
       "</div>"
      ],
      "text/plain": [
       "    user_id  order_id  line_item_id       price  quantity    discount  \\\n",
       "0       525   5354800      28381452  116.000000         4    0.000000   \n",
       "1       525   5354800      29242911   56.990002         2   13.080000   \n",
       "2       525   5354800      29242919   64.989998         2   40.020000   \n",
       "3       525   5354800      29243785   44.990002         6    0.000000   \n",
       "4       525   5354800      29244246   65.900002         6   30.990000   \n",
       "5       525   5354800      29245495   29.900000         1   39.990002   \n",
       "6       525   5354800      29245927  239.000000         1   91.000000   \n",
       "7       525   5354800      29246056  448.459991         1  125.580002   \n",
       "8       525   5354800      29246248  410.470001         1  188.220001   \n",
       "9       525   5354800      29246761   38.990002         6    0.000000   \n",
       "10      525   5354800      29246845   46.900002         6   29.100000   \n",
       "11      525   5354800      29246931  104.900002         2   72.099998   \n",
       "12      525   5354800      29246955  116.000000         4    0.000000   \n",
       "13      525   5354800      29272563   69.989998         2    0.000000   \n",
       "\n",
       "                                         product_name  product_id  \\\n",
       "0   Лазанья Золотой Петушок мясной слоеный пирог з...       37548   \n",
       "1   Хлеб Хлебный Дом Геркулес зерновой с отрубями ...        5636   \n",
       "2           Тортилья Delicados оригинальная пшеничная       22107   \n",
       "3   Вода питьевая минеральная BonAqua газированная...        2530   \n",
       "4         Газированный напиток Mirinda Апельсин 1,5 л     3818486   \n",
       "5                        Помидоры черри красные 250 г         687   \n",
       "6   Сыр полутвердый Сыробогатов Российский 50% 400...       64913   \n",
       "7           Сосиски Черкизово Молочные по-черкизовски        4372   \n",
       "8       Колбаса Дымов Праздничная сырокопченая ~590 г       16673   \n",
       "9              Энергетический напиток Monster красный       67252   \n",
       "10  Напиток Turbo Energy энергетический безалкогол...     4203439   \n",
       "11                                   Сок Добрый томат        2303   \n",
       "12  Лазанья Золотой Петушок мясной слоеный пирог з...       37548   \n",
       "13             Тортилья Horeca Select пшеничная 20 см       16230   \n",
       "\n",
       "         brand_name  master_category_id  parent_category_id  \n",
       "0   Золотой Петушок               101.0                  99  \n",
       "1       Хлебный Дом               596.0                  51  \n",
       "2         Delicados               596.0                  51  \n",
       "3           BonAqua                77.0                  74  \n",
       "4           Mirinda                76.0                  74  \n",
       "5        Без бренда                85.0                  84  \n",
       "6       Сыробогатов                36.0                  35  \n",
       "7         Черкизово                47.0                  42  \n",
       "8             Дымов                45.0                  42  \n",
       "9           Monster               634.0                  74  \n",
       "10     Turbo Energy               634.0                  74  \n",
       "11           Добрый               630.0                  74  \n",
       "12  Золотой Петушок               101.0                  99  \n",
       "13    Horeca Select               596.0                  51  "
      ]
     },
     "execution_count": 78,
     "metadata": {},
     "output_type": "execute_result"
    }
   ],
   "source": [
    "df_1[df_1.order_id == 5354800]"
   ]
  },
  {
   "cell_type": "code",
   "execution_count": 77,
   "metadata": {
    "ExecuteTime": {
     "end_time": "2020-10-09T16:28:56.870250Z",
     "start_time": "2020-10-09T16:28:56.857517Z"
    }
   },
   "outputs": [
    {
     "data": {
      "text/plain": [
       "(303667, 303667)"
      ]
     },
     "execution_count": 77,
     "metadata": {},
     "output_type": "execute_result"
    }
   ],
   "source": [
    "len(df_1), df_1.line_item_id.nunique()"
   ]
  },
  {
   "cell_type": "code",
   "execution_count": 81,
   "metadata": {
    "ExecuteTime": {
     "end_time": "2020-10-09T16:43:10.725801Z",
     "start_time": "2020-10-09T16:43:10.723578Z"
    }
   },
   "outputs": [],
   "source": [
    "# df_1.master_category_id.unique()"
   ]
  },
  {
   "cell_type": "code",
   "execution_count": 76,
   "metadata": {
    "ExecuteTime": {
     "end_time": "2020-10-09T16:25:45.008827Z",
     "start_time": "2020-10-09T16:25:44.997983Z"
    }
   },
   "outputs": [
    {
     "data": {
      "text/html": [
       "<div>\n",
       "<style scoped>\n",
       "    .dataframe tbody tr th:only-of-type {\n",
       "        vertical-align: middle;\n",
       "    }\n",
       "\n",
       "    .dataframe tbody tr th {\n",
       "        vertical-align: top;\n",
       "    }\n",
       "\n",
       "    .dataframe thead th {\n",
       "        text-align: right;\n",
       "    }\n",
       "</style>\n",
       "<table border=\"1\" class=\"dataframe\">\n",
       "  <thead>\n",
       "    <tr style=\"text-align: right;\">\n",
       "      <th></th>\n",
       "      <th>user_id</th>\n",
       "      <th>order_id</th>\n",
       "      <th>line_item_id</th>\n",
       "      <th>price</th>\n",
       "      <th>quantity</th>\n",
       "      <th>discount</th>\n",
       "      <th>product_name</th>\n",
       "      <th>product_id</th>\n",
       "      <th>brand_name</th>\n",
       "      <th>master_category_id</th>\n",
       "      <th>parent_category_id</th>\n",
       "    </tr>\n",
       "  </thead>\n",
       "  <tbody>\n",
       "    <tr>\n",
       "      <th>0</th>\n",
       "      <td>525</td>\n",
       "      <td>5354800</td>\n",
       "      <td>28381452</td>\n",
       "      <td>116.000000</td>\n",
       "      <td>4</td>\n",
       "      <td>0.00</td>\n",
       "      <td>Лазанья Золотой Петушок мясной слоеный пирог з...</td>\n",
       "      <td>37548</td>\n",
       "      <td>Золотой Петушок</td>\n",
       "      <td>101.0</td>\n",
       "      <td>99</td>\n",
       "    </tr>\n",
       "    <tr>\n",
       "      <th>1</th>\n",
       "      <td>525</td>\n",
       "      <td>5354800</td>\n",
       "      <td>29242911</td>\n",
       "      <td>56.990002</td>\n",
       "      <td>2</td>\n",
       "      <td>13.08</td>\n",
       "      <td>Хлеб Хлебный Дом Геркулес зерновой с отрубями ...</td>\n",
       "      <td>5636</td>\n",
       "      <td>Хлебный Дом</td>\n",
       "      <td>596.0</td>\n",
       "      <td>51</td>\n",
       "    </tr>\n",
       "    <tr>\n",
       "      <th>2</th>\n",
       "      <td>525</td>\n",
       "      <td>5354800</td>\n",
       "      <td>29242919</td>\n",
       "      <td>64.989998</td>\n",
       "      <td>2</td>\n",
       "      <td>40.02</td>\n",
       "      <td>Тортилья Delicados оригинальная пшеничная</td>\n",
       "      <td>22107</td>\n",
       "      <td>Delicados</td>\n",
       "      <td>596.0</td>\n",
       "      <td>51</td>\n",
       "    </tr>\n",
       "    <tr>\n",
       "      <th>3</th>\n",
       "      <td>525</td>\n",
       "      <td>5354800</td>\n",
       "      <td>29243785</td>\n",
       "      <td>44.990002</td>\n",
       "      <td>6</td>\n",
       "      <td>0.00</td>\n",
       "      <td>Вода питьевая минеральная BonAqua газированная...</td>\n",
       "      <td>2530</td>\n",
       "      <td>BonAqua</td>\n",
       "      <td>77.0</td>\n",
       "      <td>74</td>\n",
       "    </tr>\n",
       "    <tr>\n",
       "      <th>4</th>\n",
       "      <td>525</td>\n",
       "      <td>5354800</td>\n",
       "      <td>29244246</td>\n",
       "      <td>65.900002</td>\n",
       "      <td>6</td>\n",
       "      <td>30.99</td>\n",
       "      <td>Газированный напиток Mirinda Апельсин 1,5 л</td>\n",
       "      <td>3818486</td>\n",
       "      <td>Mirinda</td>\n",
       "      <td>76.0</td>\n",
       "      <td>74</td>\n",
       "    </tr>\n",
       "  </tbody>\n",
       "</table>\n",
       "</div>"
      ],
      "text/plain": [
       "   user_id  order_id  line_item_id       price  quantity  discount  \\\n",
       "0      525   5354800      28381452  116.000000         4      0.00   \n",
       "1      525   5354800      29242911   56.990002         2     13.08   \n",
       "2      525   5354800      29242919   64.989998         2     40.02   \n",
       "3      525   5354800      29243785   44.990002         6      0.00   \n",
       "4      525   5354800      29244246   65.900002         6     30.99   \n",
       "\n",
       "                                        product_name  product_id  \\\n",
       "0  Лазанья Золотой Петушок мясной слоеный пирог з...       37548   \n",
       "1  Хлеб Хлебный Дом Геркулес зерновой с отрубями ...        5636   \n",
       "2          Тортилья Delicados оригинальная пшеничная       22107   \n",
       "3  Вода питьевая минеральная BonAqua газированная...        2530   \n",
       "4        Газированный напиток Mirinda Апельсин 1,5 л     3818486   \n",
       "\n",
       "        brand_name  master_category_id  parent_category_id  \n",
       "0  Золотой Петушок               101.0                  99  \n",
       "1      Хлебный Дом               596.0                  51  \n",
       "2        Delicados               596.0                  51  \n",
       "3          BonAqua                77.0                  74  \n",
       "4          Mirinda                76.0                  74  "
      ]
     },
     "execution_count": 76,
     "metadata": {},
     "output_type": "execute_result"
    }
   ],
   "source": [
    "df_1.head()"
   ]
  },
  {
   "cell_type": "code",
   "execution_count": 9,
   "metadata": {
    "ExecuteTime": {
     "end_time": "2020-10-09T15:34:08.049301Z",
     "start_time": "2020-10-09T15:34:00.550616Z"
    }
   },
   "outputs": [
    {
     "name": "stdout",
     "output_type": "stream",
     "text": [
      "790429\n",
      "1304507\n",
      "1588400\n",
      "2011974\n"
     ]
    }
   ],
   "source": [
    "df_6 = pd.read_csv(\"data/sbermarket_tab_2_1/tab_2_products_2020-03-01.csv\")\n",
    "print(len(df_6))\n",
    "df_7 = pd.read_csv(\"data/sbermarket_tab_2_1/tab_2_products_2020-03-11.csv\")\n",
    "print(len(df_7))\n",
    "df_8 = pd.read_csv(\"data/sbermarket_tab_2_1/tab_2_products_2020-03-21.csv\")\n",
    "print(len(df_8))\n",
    "df_9 = pd.read_csv(\"data/sbermarket_tab_2_1/tab_2_products_2020-03-31.csv\")\n",
    "print(len(df_9))"
   ]
  },
  {
   "cell_type": "code",
   "execution_count": 225,
   "metadata": {
    "ExecuteTime": {
     "end_time": "2020-10-09T19:31:39.310168Z",
     "start_time": "2020-10-09T19:31:38.827611Z"
    }
   },
   "outputs": [
    {
     "data": {
      "text/html": [
       "<div>\n",
       "<style scoped>\n",
       "    .dataframe tbody tr th:only-of-type {\n",
       "        vertical-align: middle;\n",
       "    }\n",
       "\n",
       "    .dataframe tbody tr th {\n",
       "        vertical-align: top;\n",
       "    }\n",
       "\n",
       "    .dataframe thead th {\n",
       "        text-align: right;\n",
       "    }\n",
       "</style>\n",
       "<table border=\"1\" class=\"dataframe\">\n",
       "  <thead>\n",
       "    <tr style=\"text-align: right;\">\n",
       "      <th></th>\n",
       "      <th>Id</th>\n",
       "      <th>Predicted</th>\n",
       "    </tr>\n",
       "  </thead>\n",
       "  <tbody>\n",
       "    <tr>\n",
       "      <th>0</th>\n",
       "      <td>51</td>\n",
       "      <td>3239211 10720024 8493844 1965540 5009002 95218...</td>\n",
       "    </tr>\n",
       "    <tr>\n",
       "      <th>1</th>\n",
       "      <td>65</td>\n",
       "      <td>11693356 13392267 2464515 2245175 4748570 1134...</td>\n",
       "    </tr>\n",
       "    <tr>\n",
       "      <th>2</th>\n",
       "      <td>766</td>\n",
       "      <td>12773054 3692749 12726751 10041624 11893515 23...</td>\n",
       "    </tr>\n",
       "    <tr>\n",
       "      <th>3</th>\n",
       "      <td>1132</td>\n",
       "      <td>8613934 3599065 575614 4821474 11609320 699047...</td>\n",
       "    </tr>\n",
       "    <tr>\n",
       "      <th>4</th>\n",
       "      <td>1578</td>\n",
       "      <td>289404 4328240 3129788 9390886 11166655 173077...</td>\n",
       "    </tr>\n",
       "  </tbody>\n",
       "</table>\n",
       "</div>"
      ],
      "text/plain": [
       "     Id                                          Predicted\n",
       "0    51  3239211 10720024 8493844 1965540 5009002 95218...\n",
       "1    65  11693356 13392267 2464515 2245175 4748570 1134...\n",
       "2   766  12773054 3692749 12726751 10041624 11893515 23...\n",
       "3  1132  8613934 3599065 575614 4821474 11609320 699047...\n",
       "4  1578  289404 4328240 3129788 9390886 11166655 173077..."
      ]
     },
     "execution_count": 225,
     "metadata": {},
     "output_type": "execute_result"
    }
   ],
   "source": [
    "submission_df = pd.read_csv(\"data/sample_submission.csv\")\n",
    "test_user_ids = submission_df.Id\n",
    "# submission_df.head()"
   ]
  },
  {
   "cell_type": "code",
   "execution_count": 227,
   "metadata": {
    "ExecuteTime": {
     "end_time": "2020-10-09T19:32:08.867027Z",
     "start_time": "2020-10-09T19:32:08.863533Z"
    }
   },
   "outputs": [
    {
     "data": {
      "text/plain": [
       "107068"
      ]
     },
     "execution_count": 227,
     "metadata": {},
     "output_type": "execute_result"
    }
   ],
   "source": [
    "\n",
    "len(test_user_ids)"
   ]
  },
  {
   "cell_type": "code",
   "execution_count": 22,
   "metadata": {
    "ExecuteTime": {
     "end_time": "2020-10-09T15:39:59.334623Z",
     "start_time": "2020-10-09T15:39:59.323723Z"
    }
   },
   "outputs": [
    {
     "data": {
      "text/plain": [
       "(107068, 107068)"
      ]
     },
     "execution_count": 22,
     "metadata": {},
     "output_type": "execute_result"
    }
   ],
   "source": [
    "len(submission_df), submission_df[\"Id\"].nunique()"
   ]
  },
  {
   "cell_type": "markdown",
   "metadata": {},
   "source": [
    "# Merge table "
   ]
  },
  {
   "cell_type": "code",
   "execution_count": 281,
   "metadata": {
    "ExecuteTime": {
     "end_time": "2020-10-09T19:53:11.211693Z",
     "start_time": "2020-10-09T19:53:10.968998Z"
    }
   },
   "outputs": [
    {
     "name": "stdout",
     "output_type": "stream",
     "text": [
      "438867\n",
      "8335\n"
     ]
    },
    {
     "data": {
      "text/html": [
       "<div>\n",
       "<style scoped>\n",
       "    .dataframe tbody tr th:only-of-type {\n",
       "        vertical-align: middle;\n",
       "    }\n",
       "\n",
       "    .dataframe tbody tr th {\n",
       "        vertical-align: top;\n",
       "    }\n",
       "\n",
       "    .dataframe thead th {\n",
       "        text-align: right;\n",
       "    }\n",
       "</style>\n",
       "<table border=\"1\" class=\"dataframe\">\n",
       "  <thead>\n",
       "    <tr style=\"text-align: right;\">\n",
       "      <th></th>\n",
       "      <th>user_id</th>\n",
       "      <th>gender</th>\n",
       "      <th>bdate</th>\n",
       "      <th>age</th>\n",
       "    </tr>\n",
       "  </thead>\n",
       "  <tbody>\n",
       "    <tr>\n",
       "      <th>10</th>\n",
       "      <td>1288925</td>\n",
       "      <td>1</td>\n",
       "      <td>1982-09-24</td>\n",
       "      <td>38</td>\n",
       "    </tr>\n",
       "    <tr>\n",
       "      <th>43</th>\n",
       "      <td>1780454</td>\n",
       "      <td>0</td>\n",
       "      <td>1948-01-10</td>\n",
       "      <td>0</td>\n",
       "    </tr>\n",
       "    <tr>\n",
       "      <th>48</th>\n",
       "      <td>534410</td>\n",
       "      <td>0</td>\n",
       "      <td>1990-10-31</td>\n",
       "      <td>29</td>\n",
       "    </tr>\n",
       "    <tr>\n",
       "      <th>73</th>\n",
       "      <td>1050790</td>\n",
       "      <td>0</td>\n",
       "      <td>1986-11-22</td>\n",
       "      <td>33</td>\n",
       "    </tr>\n",
       "    <tr>\n",
       "      <th>85</th>\n",
       "      <td>2119485</td>\n",
       "      <td>0</td>\n",
       "      <td>1992-05-10</td>\n",
       "      <td>28</td>\n",
       "    </tr>\n",
       "  </tbody>\n",
       "</table>\n",
       "</div>"
      ],
      "text/plain": [
       "    user_id  gender      bdate  age\n",
       "10  1288925       1 1982-09-24   38\n",
       "43  1780454       0 1948-01-10    0\n",
       "48   534410       0 1990-10-31   29\n",
       "73  1050790       0 1986-11-22   33\n",
       "85  2119485       0 1992-05-10   28"
      ]
     },
     "execution_count": 281,
     "metadata": {},
     "output_type": "execute_result"
    }
   ],
   "source": [
    "import datetime \n",
    "def replace_date(date_str):\n",
    "    if len(date_str) < 8:\n",
    "        return '2020-10-09'\n",
    "    else:\n",
    "        return date_str\n",
    "\n",
    "def str2date(date_str):\n",
    "    try:\n",
    "        date = datetime.datetime.strptime(date_str, '%Y-%m-%d')\n",
    "    except:\n",
    "        date = datetime.datetime.strptime(date_str, '%d.%m.%Y')\n",
    "    return date\n",
    "\n",
    "def calculate_age(born):\n",
    "    today = date.today()\n",
    "    age = today.year - born.year - ((today.month, today.day) < (born.month, born.day))\n",
    "    if age < 15 or age > 60:\n",
    "        age = 0\n",
    "    return age\n",
    "\n",
    "user_df = pd.read_csv(\"data/kaggle_tab_1345/tab_4_user_profiles.csv\")\n",
    "print(len(user_df))\n",
    "\n",
    "# Drop NaNs\n",
    "user_df.dropna(inplace=True)\n",
    "\n",
    "# # Fill NaNs\n",
    "# user_df.bdate.fillna('2020-10-09', inplace=True)\n",
    "\n",
    "user_df = user_df[user_df.user_id.isin(test_user_ids)]\n",
    "\n",
    "# Replace incorrect dates\n",
    "user_df.bdate = user_df.bdate.map(lambda x: replace_date(x))\n",
    "# Convert all dates to datetime object\n",
    "user_df.bdate = user_df.bdate.map(lambda x: str2date(x))\n",
    "# Add new column with age\n",
    "user_df[\"age\"] = user_df.bdate.map(lambda x: calculate_age(x))\n",
    "user_df.gender = user_df.gender.astype('category').cat.codes\n",
    "user_df.drop_duplicates(\"user_id\", inplace=True)\n",
    "print(len(user_df))\n",
    "user_df.head()"
   ]
  },
  {
   "cell_type": "code",
   "execution_count": 282,
   "metadata": {
    "ExecuteTime": {
     "end_time": "2020-10-09T19:53:41.451396Z",
     "start_time": "2020-10-09T19:53:41.441112Z"
    }
   },
   "outputs": [
    {
     "data": {
      "text/html": [
       "<div>\n",
       "<style scoped>\n",
       "    .dataframe tbody tr th:only-of-type {\n",
       "        vertical-align: middle;\n",
       "    }\n",
       "\n",
       "    .dataframe tbody tr th {\n",
       "        vertical-align: top;\n",
       "    }\n",
       "\n",
       "    .dataframe thead th {\n",
       "        text-align: right;\n",
       "    }\n",
       "</style>\n",
       "<table border=\"1\" class=\"dataframe\">\n",
       "  <thead>\n",
       "    <tr style=\"text-align: right;\">\n",
       "      <th></th>\n",
       "      <th>store_id</th>\n",
       "      <th>city_name</th>\n",
       "    </tr>\n",
       "  </thead>\n",
       "  <tbody>\n",
       "    <tr>\n",
       "      <th>0</th>\n",
       "      <td>14</td>\n",
       "      <td>45</td>\n",
       "    </tr>\n",
       "    <tr>\n",
       "      <th>1</th>\n",
       "      <td>21</td>\n",
       "      <td>45</td>\n",
       "    </tr>\n",
       "    <tr>\n",
       "      <th>2</th>\n",
       "      <td>1</td>\n",
       "      <td>45</td>\n",
       "    </tr>\n",
       "    <tr>\n",
       "      <th>3</th>\n",
       "      <td>4</td>\n",
       "      <td>45</td>\n",
       "    </tr>\n",
       "    <tr>\n",
       "      <th>4</th>\n",
       "      <td>7</td>\n",
       "      <td>45</td>\n",
       "    </tr>\n",
       "  </tbody>\n",
       "</table>\n",
       "</div>"
      ],
      "text/plain": [
       "   store_id  city_name\n",
       "0        14         45\n",
       "1        21         45\n",
       "2         1         45\n",
       "3         4         45\n",
       "4         7         45"
      ]
     },
     "execution_count": 282,
     "metadata": {},
     "output_type": "execute_result"
    }
   ],
   "source": [
    "# Read and convert city names to category labels\n",
    "city_df = pd.read_csv(\"data/tab_6_city.csv\")\n",
    "city_df.city_name = city_df.city_name.astype('category').cat.codes\n",
    "city_df.head()"
   ]
  },
  {
   "cell_type": "code",
   "execution_count": 336,
   "metadata": {
    "ExecuteTime": {
     "end_time": "2020-10-09T20:51:12.203306Z",
     "start_time": "2020-10-09T20:51:06.811445Z"
    }
   },
   "outputs": [
    {
     "name": "stdout",
     "output_type": "stream",
     "text": [
      "2461927 diff: 0\n",
      "2426955 diff: -34972\n"
     ]
    }
   ],
   "source": [
    "orders_df = pd.read_csv(\"data/kaggle_tab_1345/tab_1_orders.csv\")\n",
    "orders_df.drop_duplicates([\"order_id\", \"store_id\"], inplace=True)\n",
    "orders_df.retailer = orders_df.retailer.astype('category').cat.codes\n",
    "orders_df.platform = orders_df.platform.astype('category').cat.codes\n",
    "\n",
    "# print(len(orders_df))\n",
    "# orders_df.head()\n",
    "\n",
    "# Merge city data\n",
    "orders_df = orders_df.set_index('store_id').join(city_df.set_index('store_id'))\n",
    "print(len(orders_df), \"diff:\", len(orders_df) - 2461927)\n",
    "\n",
    "# Merge user data\n",
    "orders_df = orders_df.set_index('user_id').join(user_df.set_index('user_id'))\n",
    "orders_df.drop_duplicates(\"order_id\", inplace=True)\n",
    "print(len(orders_df), \"diff:\", len(orders_df) - 2461927)\n",
    "\n"
   ]
  },
  {
   "cell_type": "code",
   "execution_count": 290,
   "metadata": {
    "ExecuteTime": {
     "end_time": "2020-10-09T19:56:39.330905Z",
     "start_time": "2020-10-09T19:56:39.321505Z"
    }
   },
   "outputs": [
    {
     "data": {
      "text/html": [
       "<div>\n",
       "<style scoped>\n",
       "    .dataframe tbody tr th:only-of-type {\n",
       "        vertical-align: middle;\n",
       "    }\n",
       "\n",
       "    .dataframe tbody tr th {\n",
       "        vertical-align: top;\n",
       "    }\n",
       "\n",
       "    .dataframe thead th {\n",
       "        text-align: right;\n",
       "    }\n",
       "</style>\n",
       "<table border=\"1\" class=\"dataframe\">\n",
       "  <thead>\n",
       "    <tr style=\"text-align: right;\">\n",
       "      <th></th>\n",
       "      <th>order_id</th>\n",
       "      <th>order_created_time</th>\n",
       "      <th>retailer</th>\n",
       "      <th>platform</th>\n",
       "      <th>city_name</th>\n",
       "      <th>gender</th>\n",
       "      <th>bdate</th>\n",
       "      <th>age</th>\n",
       "    </tr>\n",
       "    <tr>\n",
       "      <th>user_id</th>\n",
       "      <th></th>\n",
       "      <th></th>\n",
       "      <th></th>\n",
       "      <th></th>\n",
       "      <th></th>\n",
       "      <th></th>\n",
       "      <th></th>\n",
       "      <th></th>\n",
       "    </tr>\n",
       "  </thead>\n",
       "  <tbody>\n",
       "    <tr>\n",
       "      <th>72</th>\n",
       "      <td>17431000</td>\n",
       "      <td>2020-09-26 10:48:57</td>\n",
       "      <td>4</td>\n",
       "      <td>0</td>\n",
       "      <td>45</td>\n",
       "      <td>NaN</td>\n",
       "      <td>NaT</td>\n",
       "      <td>NaN</td>\n",
       "    </tr>\n",
       "    <tr>\n",
       "      <th>83</th>\n",
       "      <td>9718154</td>\n",
       "      <td>2020-05-08 09:46:18</td>\n",
       "      <td>4</td>\n",
       "      <td>2</td>\n",
       "      <td>46</td>\n",
       "      <td>NaN</td>\n",
       "      <td>NaT</td>\n",
       "      <td>NaN</td>\n",
       "    </tr>\n",
       "    <tr>\n",
       "      <th>142</th>\n",
       "      <td>10056850</td>\n",
       "      <td>2020-05-14 15:06:03</td>\n",
       "      <td>4</td>\n",
       "      <td>0</td>\n",
       "      <td>46</td>\n",
       "      <td>NaN</td>\n",
       "      <td>NaT</td>\n",
       "      <td>NaN</td>\n",
       "    </tr>\n",
       "    <tr>\n",
       "      <th>187</th>\n",
       "      <td>15952443</td>\n",
       "      <td>2020-09-01 17:34:00</td>\n",
       "      <td>21</td>\n",
       "      <td>0</td>\n",
       "      <td>45</td>\n",
       "      <td>NaN</td>\n",
       "      <td>NaT</td>\n",
       "      <td>NaN</td>\n",
       "    </tr>\n",
       "    <tr>\n",
       "      <th>224</th>\n",
       "      <td>10409918</td>\n",
       "      <td>2020-05-20 06:32:50</td>\n",
       "      <td>13</td>\n",
       "      <td>2</td>\n",
       "      <td>45</td>\n",
       "      <td>NaN</td>\n",
       "      <td>NaT</td>\n",
       "      <td>NaN</td>\n",
       "    </tr>\n",
       "  </tbody>\n",
       "</table>\n",
       "</div>"
      ],
      "text/plain": [
       "         order_id   order_created_time  retailer  platform  city_name  gender  \\\n",
       "user_id                                                                         \n",
       "72       17431000  2020-09-26 10:48:57         4         0         45     NaN   \n",
       "83        9718154  2020-05-08 09:46:18         4         2         46     NaN   \n",
       "142      10056850  2020-05-14 15:06:03         4         0         46     NaN   \n",
       "187      15952443  2020-09-01 17:34:00        21         0         45     NaN   \n",
       "224      10409918  2020-05-20 06:32:50        13         2         45     NaN   \n",
       "\n",
       "        bdate  age  \n",
       "user_id             \n",
       "72        NaT  NaN  \n",
       "83        NaT  NaN  \n",
       "142       NaT  NaN  \n",
       "187       NaT  NaN  \n",
       "224       NaT  NaN  "
      ]
     },
     "execution_count": 290,
     "metadata": {},
     "output_type": "execute_result"
    }
   ],
   "source": [
    "# Users from users_df and users from test_df?\n",
    "# test_user_ids.unique\n",
    "# user_id_users\n",
    "orders_df.head()"
   ]
  },
  {
   "cell_type": "code",
   "execution_count": 335,
   "metadata": {
    "ExecuteTime": {
     "end_time": "2020-10-09T20:49:12.576768Z",
     "start_time": "2020-10-09T20:49:12.264619Z"
    }
   },
   "outputs": [
    {
     "data": {
      "text/plain": [
       "(2461927, 2426955)"
      ]
     },
     "execution_count": 335,
     "metadata": {},
     "output_type": "execute_result"
    }
   ],
   "source": [
    "len(orders_df), orders_df.order_id.nunique()"
   ]
  },
  {
   "cell_type": "code",
   "execution_count": null,
   "metadata": {},
   "outputs": [],
   "source": []
  },
  {
   "cell_type": "markdown",
   "metadata": {
    "ExecuteTime": {
     "end_time": "2020-10-09T19:38:19.162095Z",
     "start_time": "2020-10-09T19:38:19.119184Z"
    }
   },
   "source": [
    "## Merge products table into one, by first filtering everyone else"
   ]
  },
  {
   "cell_type": "code",
   "execution_count": null,
   "metadata": {},
   "outputs": [],
   "source": []
  },
  {
   "cell_type": "code",
   "execution_count": null,
   "metadata": {},
   "outputs": [],
   "source": []
  },
  {
   "cell_type": "code",
   "execution_count": 292,
   "metadata": {
    "ExecuteTime": {
     "end_time": "2020-10-09T19:59:35.517721Z",
     "start_time": "2020-10-09T19:59:35.515305Z"
    }
   },
   "outputs": [],
   "source": [
    "from pathlib import Path"
   ]
  },
  {
   "cell_type": "code",
   "execution_count": null,
   "metadata": {},
   "outputs": [],
   "source": []
  },
  {
   "cell_type": "code",
   "execution_count": 329,
   "metadata": {
    "ExecuteTime": {
     "end_time": "2020-10-09T20:44:47.243341Z",
     "start_time": "2020-10-09T20:43:16.751395Z"
    }
   },
   "outputs": [
    {
     "name": "stdout",
     "output_type": "stream",
     "text": [
      "Total: 21677070\n"
     ]
    }
   ],
   "source": [
    "pathes = sorted(list(Path(\"data/\").glob('*/tab_2*.csv')))\n",
    "dfs = []\n",
    "total_count = 0\n",
    "for path in pathes:\n",
    "    # Read DF\n",
    "    df = pd.read_csv(path)\n",
    "#     print(\"Before:\", len(df))\n",
    "    \n",
    "    # Filter and delete users not from test\n",
    "    df = df[df.user_id.isin(test_user_ids)]\n",
    "\n",
    "    # Drop column with long desciption\n",
    "    df.drop(columns=[\"product_name\"], inplace=True)\n",
    "    \n",
    "    # Label code column\n",
    "    df.brand_name = df.brand_name.astype('category').cat.codes\n",
    "    \n",
    "    # Fill NaNs in one column\n",
    "    df.master_category_id.fillna(-1, inplace=True)\n",
    "\n",
    "    total_count = total_count + len(df)\n",
    "    dfs.append(df)\n",
    "    \n",
    "#     print(\"After:\", len(df))\n",
    "\n",
    "print(\"Total:\", total_count)"
   ]
  },
  {
   "cell_type": "code",
   "execution_count": 337,
   "metadata": {
    "ExecuteTime": {
     "end_time": "2020-10-09T20:51:28.893187Z",
     "start_time": "2020-10-09T20:51:27.523840Z"
    }
   },
   "outputs": [],
   "source": [
    "merged_df = pd.concat(dfs)"
   ]
  },
  {
   "cell_type": "code",
   "execution_count": 333,
   "metadata": {
    "ExecuteTime": {
     "end_time": "2020-10-09T20:45:38.640264Z",
     "start_time": "2020-10-09T20:45:38.621804Z"
    }
   },
   "outputs": [
    {
     "data": {
      "text/html": [
       "<div>\n",
       "<style scoped>\n",
       "    .dataframe tbody tr th:only-of-type {\n",
       "        vertical-align: middle;\n",
       "    }\n",
       "\n",
       "    .dataframe tbody tr th {\n",
       "        vertical-align: top;\n",
       "    }\n",
       "\n",
       "    .dataframe thead th {\n",
       "        text-align: right;\n",
       "    }\n",
       "</style>\n",
       "<table border=\"1\" class=\"dataframe\">\n",
       "  <thead>\n",
       "    <tr style=\"text-align: right;\">\n",
       "      <th></th>\n",
       "      <th>user_id</th>\n",
       "      <th>order_id</th>\n",
       "      <th>line_item_id</th>\n",
       "      <th>price</th>\n",
       "      <th>quantity</th>\n",
       "      <th>discount</th>\n",
       "      <th>product_id</th>\n",
       "      <th>brand_name</th>\n",
       "      <th>master_category_id</th>\n",
       "      <th>parent_category_id</th>\n",
       "    </tr>\n",
       "  </thead>\n",
       "  <tbody>\n",
       "    <tr>\n",
       "      <th>14</th>\n",
       "      <td>766</td>\n",
       "      <td>5395508</td>\n",
       "      <td>28998751</td>\n",
       "      <td>24.270000</td>\n",
       "      <td>3</td>\n",
       "      <td>0.000000</td>\n",
       "      <td>3069043</td>\n",
       "      <td>2260</td>\n",
       "      <td>77.0</td>\n",
       "      <td>74</td>\n",
       "    </tr>\n",
       "    <tr>\n",
       "      <th>15</th>\n",
       "      <td>766</td>\n",
       "      <td>5395508</td>\n",
       "      <td>28998796</td>\n",
       "      <td>79.300003</td>\n",
       "      <td>3</td>\n",
       "      <td>0.000000</td>\n",
       "      <td>3041849</td>\n",
       "      <td>1856</td>\n",
       "      <td>26.0</td>\n",
       "      <td>20</td>\n",
       "    </tr>\n",
       "    <tr>\n",
       "      <th>16</th>\n",
       "      <td>766</td>\n",
       "      <td>5395508</td>\n",
       "      <td>28999083</td>\n",
       "      <td>76.620003</td>\n",
       "      <td>5</td>\n",
       "      <td>15.070000</td>\n",
       "      <td>216</td>\n",
       "      <td>1375</td>\n",
       "      <td>607.0</td>\n",
       "      <td>20</td>\n",
       "    </tr>\n",
       "    <tr>\n",
       "      <th>17</th>\n",
       "      <td>766</td>\n",
       "      <td>5395508</td>\n",
       "      <td>28999153</td>\n",
       "      <td>72.180000</td>\n",
       "      <td>1</td>\n",
       "      <td>19.540001</td>\n",
       "      <td>1990</td>\n",
       "      <td>1292</td>\n",
       "      <td>32.0</td>\n",
       "      <td>20</td>\n",
       "    </tr>\n",
       "    <tr>\n",
       "      <th>18</th>\n",
       "      <td>766</td>\n",
       "      <td>5395508</td>\n",
       "      <td>28999278</td>\n",
       "      <td>142.500000</td>\n",
       "      <td>3</td>\n",
       "      <td>0.000000</td>\n",
       "      <td>3883053</td>\n",
       "      <td>1397</td>\n",
       "      <td>31.0</td>\n",
       "      <td>20</td>\n",
       "    </tr>\n",
       "    <tr>\n",
       "      <th>...</th>\n",
       "      <td>...</td>\n",
       "      <td>...</td>\n",
       "      <td>...</td>\n",
       "      <td>...</td>\n",
       "      <td>...</td>\n",
       "      <td>...</td>\n",
       "      <td>...</td>\n",
       "      <td>...</td>\n",
       "      <td>...</td>\n",
       "      <td>...</td>\n",
       "    </tr>\n",
       "    <tr>\n",
       "      <th>3167876</th>\n",
       "      <td>3142875</td>\n",
       "      <td>15626637</td>\n",
       "      <td>173268439</td>\n",
       "      <td>69.290001</td>\n",
       "      <td>1</td>\n",
       "      <td>28.500000</td>\n",
       "      <td>67694</td>\n",
       "      <td>1533</td>\n",
       "      <td>577.0</td>\n",
       "      <td>9</td>\n",
       "    </tr>\n",
       "    <tr>\n",
       "      <th>3167877</th>\n",
       "      <td>3142875</td>\n",
       "      <td>15626637</td>\n",
       "      <td>173268681</td>\n",
       "      <td>109.889999</td>\n",
       "      <td>1</td>\n",
       "      <td>39.900002</td>\n",
       "      <td>68465</td>\n",
       "      <td>2631</td>\n",
       "      <td>222.0</td>\n",
       "      <td>221</td>\n",
       "    </tr>\n",
       "    <tr>\n",
       "      <th>3167878</th>\n",
       "      <td>3142875</td>\n",
       "      <td>15626637</td>\n",
       "      <td>173270630</td>\n",
       "      <td>185.990005</td>\n",
       "      <td>2</td>\n",
       "      <td>125.599998</td>\n",
       "      <td>5075130</td>\n",
       "      <td>2032</td>\n",
       "      <td>347.0</td>\n",
       "      <td>345</td>\n",
       "    </tr>\n",
       "    <tr>\n",
       "      <th>3167879</th>\n",
       "      <td>3142875</td>\n",
       "      <td>15626637</td>\n",
       "      <td>173446934</td>\n",
       "      <td>185.990005</td>\n",
       "      <td>1</td>\n",
       "      <td>125.599998</td>\n",
       "      <td>9741</td>\n",
       "      <td>2032</td>\n",
       "      <td>347.0</td>\n",
       "      <td>345</td>\n",
       "    </tr>\n",
       "    <tr>\n",
       "      <th>3167880</th>\n",
       "      <td>3142875</td>\n",
       "      <td>15626637</td>\n",
       "      <td>173447186</td>\n",
       "      <td>185.990005</td>\n",
       "      <td>1</td>\n",
       "      <td>125.599998</td>\n",
       "      <td>9741</td>\n",
       "      <td>2032</td>\n",
       "      <td>347.0</td>\n",
       "      <td>345</td>\n",
       "    </tr>\n",
       "  </tbody>\n",
       "</table>\n",
       "<p>21677070 rows × 10 columns</p>\n",
       "</div>"
      ],
      "text/plain": [
       "         user_id  order_id  line_item_id       price  quantity    discount  \\\n",
       "14           766   5395508      28998751   24.270000         3    0.000000   \n",
       "15           766   5395508      28998796   79.300003         3    0.000000   \n",
       "16           766   5395508      28999083   76.620003         5   15.070000   \n",
       "17           766   5395508      28999153   72.180000         1   19.540001   \n",
       "18           766   5395508      28999278  142.500000         3    0.000000   \n",
       "...          ...       ...           ...         ...       ...         ...   \n",
       "3167876  3142875  15626637     173268439   69.290001         1   28.500000   \n",
       "3167877  3142875  15626637     173268681  109.889999         1   39.900002   \n",
       "3167878  3142875  15626637     173270630  185.990005         2  125.599998   \n",
       "3167879  3142875  15626637     173446934  185.990005         1  125.599998   \n",
       "3167880  3142875  15626637     173447186  185.990005         1  125.599998   \n",
       "\n",
       "         product_id  brand_name  master_category_id  parent_category_id  \n",
       "14          3069043        2260                77.0                  74  \n",
       "15          3041849        1856                26.0                  20  \n",
       "16              216        1375               607.0                  20  \n",
       "17             1990        1292                32.0                  20  \n",
       "18          3883053        1397                31.0                  20  \n",
       "...             ...         ...                 ...                 ...  \n",
       "3167876       67694        1533               577.0                   9  \n",
       "3167877       68465        2631               222.0                 221  \n",
       "3167878     5075130        2032               347.0                 345  \n",
       "3167879        9741        2032               347.0                 345  \n",
       "3167880        9741        2032               347.0                 345  \n",
       "\n",
       "[21677070 rows x 10 columns]"
      ]
     },
     "execution_count": 333,
     "metadata": {},
     "output_type": "execute_result"
    }
   ],
   "source": [
    "merged_df"
   ]
  },
  {
   "cell_type": "code",
   "execution_count": 338,
   "metadata": {
    "ExecuteTime": {
     "end_time": "2020-10-09T20:52:21.391639Z",
     "start_time": "2020-10-09T20:51:50.603102Z"
    }
   },
   "outputs": [
    {
     "name": "stdout",
     "output_type": "stream",
     "text": [
      "0\n"
     ]
    }
   ],
   "source": [
    "merged_df = merged_df.set_index('order_id').join(orders_df.set_index('order_id'))\n",
    "print(len(merged_df) - 21677070)"
   ]
  },
  {
   "cell_type": "code",
   "execution_count": 341,
   "metadata": {
    "ExecuteTime": {
     "end_time": "2020-10-09T21:14:15.061738Z",
     "start_time": "2020-10-09T21:14:15.056942Z"
    }
   },
   "outputs": [
    {
     "data": {
      "text/plain": [
       "21677070"
      ]
     },
     "execution_count": 341,
     "metadata": {},
     "output_type": "execute_result"
    }
   ],
   "source": [
    "len(merged_df)"
   ]
  },
  {
   "cell_type": "code",
   "execution_count": 342,
   "metadata": {
    "ExecuteTime": {
     "end_time": "2020-10-09T21:14:21.073411Z",
     "start_time": "2020-10-09T21:14:21.067519Z"
    }
   },
   "outputs": [
    {
     "data": {
      "text/plain": [
       "user_id                        int64\n",
       "line_item_id                   int64\n",
       "price                        float64\n",
       "quantity                       int64\n",
       "discount                     float64\n",
       "product_id                     int64\n",
       "brand_name                     int16\n",
       "master_category_id           float64\n",
       "parent_category_id             int64\n",
       "order_created_time            object\n",
       "retailer                     float64\n",
       "platform                     float64\n",
       "city_name                    float64\n",
       "gender                       float64\n",
       "bdate                 datetime64[ns]\n",
       "age                          float64\n",
       "dtype: object"
      ]
     },
     "execution_count": 342,
     "metadata": {},
     "output_type": "execute_result"
    }
   ],
   "source": [
    "merged_df.dtypes"
   ]
  },
  {
   "cell_type": "code",
   "execution_count": 340,
   "metadata": {
    "ExecuteTime": {
     "end_time": "2020-10-09T20:56:41.418443Z",
     "start_time": "2020-10-09T20:54:09.470994Z"
    }
   },
   "outputs": [],
   "source": [
    "merged_df.to_csv(\"data/merged_data.csv\")"
   ]
  },
  {
   "cell_type": "code",
   "execution_count": 339,
   "metadata": {
    "ExecuteTime": {
     "end_time": "2020-10-09T20:52:42.377221Z",
     "start_time": "2020-10-09T20:52:42.361261Z"
    }
   },
   "outputs": [
    {
     "data": {
      "text/html": [
       "<div>\n",
       "<style scoped>\n",
       "    .dataframe tbody tr th:only-of-type {\n",
       "        vertical-align: middle;\n",
       "    }\n",
       "\n",
       "    .dataframe tbody tr th {\n",
       "        vertical-align: top;\n",
       "    }\n",
       "\n",
       "    .dataframe thead th {\n",
       "        text-align: right;\n",
       "    }\n",
       "</style>\n",
       "<table border=\"1\" class=\"dataframe\">\n",
       "  <thead>\n",
       "    <tr style=\"text-align: right;\">\n",
       "      <th></th>\n",
       "      <th>user_id</th>\n",
       "      <th>line_item_id</th>\n",
       "      <th>price</th>\n",
       "      <th>quantity</th>\n",
       "      <th>discount</th>\n",
       "      <th>product_id</th>\n",
       "      <th>brand_name</th>\n",
       "      <th>master_category_id</th>\n",
       "      <th>parent_category_id</th>\n",
       "      <th>order_created_time</th>\n",
       "      <th>retailer</th>\n",
       "      <th>platform</th>\n",
       "      <th>city_name</th>\n",
       "      <th>gender</th>\n",
       "      <th>bdate</th>\n",
       "      <th>age</th>\n",
       "    </tr>\n",
       "    <tr>\n",
       "      <th>order_id</th>\n",
       "      <th></th>\n",
       "      <th></th>\n",
       "      <th></th>\n",
       "      <th></th>\n",
       "      <th></th>\n",
       "      <th></th>\n",
       "      <th></th>\n",
       "      <th></th>\n",
       "      <th></th>\n",
       "      <th></th>\n",
       "      <th></th>\n",
       "      <th></th>\n",
       "      <th></th>\n",
       "      <th></th>\n",
       "      <th></th>\n",
       "      <th></th>\n",
       "    </tr>\n",
       "  </thead>\n",
       "  <tbody>\n",
       "    <tr>\n",
       "      <th>139128</th>\n",
       "      <td>1050</td>\n",
       "      <td>97633689</td>\n",
       "      <td>236.889999</td>\n",
       "      <td>1</td>\n",
       "      <td>0.0</td>\n",
       "      <td>5045454</td>\n",
       "      <td>3573</td>\n",
       "      <td>122.0</td>\n",
       "      <td>119</td>\n",
       "      <td>NaN</td>\n",
       "      <td>NaN</td>\n",
       "      <td>NaN</td>\n",
       "      <td>NaN</td>\n",
       "      <td>NaN</td>\n",
       "      <td>NaT</td>\n",
       "      <td>NaN</td>\n",
       "    </tr>\n",
       "    <tr>\n",
       "      <th>139128</th>\n",
       "      <td>1050</td>\n",
       "      <td>97633791</td>\n",
       "      <td>178.160004</td>\n",
       "      <td>1</td>\n",
       "      <td>0.0</td>\n",
       "      <td>73719</td>\n",
       "      <td>5154</td>\n",
       "      <td>122.0</td>\n",
       "      <td>119</td>\n",
       "      <td>NaN</td>\n",
       "      <td>NaN</td>\n",
       "      <td>NaN</td>\n",
       "      <td>NaN</td>\n",
       "      <td>NaN</td>\n",
       "      <td>NaT</td>\n",
       "      <td>NaN</td>\n",
       "    </tr>\n",
       "    <tr>\n",
       "      <th>139128</th>\n",
       "      <td>1050</td>\n",
       "      <td>97635201</td>\n",
       "      <td>173.279999</td>\n",
       "      <td>1</td>\n",
       "      <td>0.0</td>\n",
       "      <td>7000939</td>\n",
       "      <td>2846</td>\n",
       "      <td>85.0</td>\n",
       "      <td>84</td>\n",
       "      <td>NaN</td>\n",
       "      <td>NaN</td>\n",
       "      <td>NaN</td>\n",
       "      <td>NaN</td>\n",
       "      <td>NaN</td>\n",
       "      <td>NaT</td>\n",
       "      <td>NaN</td>\n",
       "    </tr>\n",
       "    <tr>\n",
       "      <th>139128</th>\n",
       "      <td>1050</td>\n",
       "      <td>97635312</td>\n",
       "      <td>73.690002</td>\n",
       "      <td>1</td>\n",
       "      <td>0.0</td>\n",
       "      <td>7386015</td>\n",
       "      <td>3342</td>\n",
       "      <td>85.0</td>\n",
       "      <td>84</td>\n",
       "      <td>NaN</td>\n",
       "      <td>NaN</td>\n",
       "      <td>NaN</td>\n",
       "      <td>NaN</td>\n",
       "      <td>NaN</td>\n",
       "      <td>NaT</td>\n",
       "      <td>NaN</td>\n",
       "    </tr>\n",
       "    <tr>\n",
       "      <th>139128</th>\n",
       "      <td>1050</td>\n",
       "      <td>97635414</td>\n",
       "      <td>282.140015</td>\n",
       "      <td>1</td>\n",
       "      <td>0.0</td>\n",
       "      <td>73291</td>\n",
       "      <td>2846</td>\n",
       "      <td>85.0</td>\n",
       "      <td>84</td>\n",
       "      <td>NaN</td>\n",
       "      <td>NaN</td>\n",
       "      <td>NaN</td>\n",
       "      <td>NaN</td>\n",
       "      <td>NaN</td>\n",
       "      <td>NaT</td>\n",
       "      <td>NaN</td>\n",
       "    </tr>\n",
       "  </tbody>\n",
       "</table>\n",
       "</div>"
      ],
      "text/plain": [
       "          user_id  line_item_id       price  quantity  discount  product_id  \\\n",
       "order_id                                                                      \n",
       "139128       1050      97633689  236.889999         1       0.0     5045454   \n",
       "139128       1050      97633791  178.160004         1       0.0       73719   \n",
       "139128       1050      97635201  173.279999         1       0.0     7000939   \n",
       "139128       1050      97635312   73.690002         1       0.0     7386015   \n",
       "139128       1050      97635414  282.140015         1       0.0       73291   \n",
       "\n",
       "          brand_name  master_category_id  parent_category_id  \\\n",
       "order_id                                                       \n",
       "139128          3573               122.0                 119   \n",
       "139128          5154               122.0                 119   \n",
       "139128          2846                85.0                  84   \n",
       "139128          3342                85.0                  84   \n",
       "139128          2846                85.0                  84   \n",
       "\n",
       "         order_created_time  retailer  platform  city_name  gender bdate  age  \n",
       "order_id                                                                       \n",
       "139128                  NaN       NaN       NaN        NaN     NaN   NaT  NaN  \n",
       "139128                  NaN       NaN       NaN        NaN     NaN   NaT  NaN  \n",
       "139128                  NaN       NaN       NaN        NaN     NaN   NaT  NaN  \n",
       "139128                  NaN       NaN       NaN        NaN     NaN   NaT  NaN  \n",
       "139128                  NaN       NaN       NaN        NaN     NaN   NaT  NaN  "
      ]
     },
     "execution_count": 339,
     "metadata": {},
     "output_type": "execute_result"
    }
   ],
   "source": [
    "merged_df.head()"
   ]
  },
  {
   "cell_type": "code",
   "execution_count": null,
   "metadata": {},
   "outputs": [],
   "source": [
    "21677070\n",
    "22228585"
   ]
  },
  {
   "cell_type": "code",
   "execution_count": 321,
   "metadata": {
    "ExecuteTime": {
     "end_time": "2020-10-09T20:18:27.896654Z",
     "start_time": "2020-10-09T20:18:27.883117Z"
    }
   },
   "outputs": [
    {
     "data": {
      "text/plain": [
       "user_id                 int32\n",
       "order_id                int32\n",
       "line_item_id            int64\n",
       "price                 float32\n",
       "quantity                int32\n",
       "discount              float32\n",
       "product_id              int32\n",
       "brand_name              int32\n",
       "master_category_id      int32\n",
       "parent_category_id      int32\n",
       "dtype: object"
      ]
     },
     "execution_count": 321,
     "metadata": {},
     "output_type": "execute_result"
    }
   ],
   "source": []
  },
  {
   "cell_type": "code",
   "execution_count": 188,
   "metadata": {
    "ExecuteTime": {
     "end_time": "2020-10-09T18:58:09.863471Z",
     "start_time": "2020-10-09T18:58:09.550245Z"
    }
   },
   "outputs": [
    {
     "data": {
      "text/html": [
       "<div>\n",
       "<style scoped>\n",
       "    .dataframe tbody tr th:only-of-type {\n",
       "        vertical-align: middle;\n",
       "    }\n",
       "\n",
       "    .dataframe tbody tr th {\n",
       "        vertical-align: top;\n",
       "    }\n",
       "\n",
       "    .dataframe thead th {\n",
       "        text-align: right;\n",
       "    }\n",
       "</style>\n",
       "<table border=\"1\" class=\"dataframe\">\n",
       "  <thead>\n",
       "    <tr style=\"text-align: right;\">\n",
       "      <th></th>\n",
       "      <th>user_id</th>\n",
       "      <th>order_id</th>\n",
       "      <th>order_created_time</th>\n",
       "      <th>retailer</th>\n",
       "      <th>store_idl_</th>\n",
       "      <th>platform</th>\n",
       "      <th>store_id</th>\n",
       "      <th>city_name</th>\n",
       "    </tr>\n",
       "  </thead>\n",
       "  <tbody>\n",
       "    <tr>\n",
       "      <th>0</th>\n",
       "      <td>72</td>\n",
       "      <td>17431000</td>\n",
       "      <td>2020-09-26 10:48:57</td>\n",
       "      <td>4</td>\n",
       "      <td>21</td>\n",
       "      <td>0</td>\n",
       "      <td>73.0</td>\n",
       "      <td>45.0</td>\n",
       "    </tr>\n",
       "    <tr>\n",
       "      <th>1</th>\n",
       "      <td>83</td>\n",
       "      <td>9718154</td>\n",
       "      <td>2020-05-08 09:46:18</td>\n",
       "      <td>4</td>\n",
       "      <td>87</td>\n",
       "      <td>2</td>\n",
       "      <td>327.0</td>\n",
       "      <td>46.0</td>\n",
       "    </tr>\n",
       "    <tr>\n",
       "      <th>2</th>\n",
       "      <td>142</td>\n",
       "      <td>10056850</td>\n",
       "      <td>2020-05-14 15:06:03</td>\n",
       "      <td>4</td>\n",
       "      <td>320</td>\n",
       "      <td>0</td>\n",
       "      <td>345.0</td>\n",
       "      <td>45.0</td>\n",
       "    </tr>\n",
       "    <tr>\n",
       "      <th>3</th>\n",
       "      <td>187</td>\n",
       "      <td>15952443</td>\n",
       "      <td>2020-09-01 17:34:00</td>\n",
       "      <td>21</td>\n",
       "      <td>533</td>\n",
       "      <td>0</td>\n",
       "      <td>578.0</td>\n",
       "      <td>24.0</td>\n",
       "    </tr>\n",
       "    <tr>\n",
       "      <th>4</th>\n",
       "      <td>224</td>\n",
       "      <td>10409918</td>\n",
       "      <td>2020-05-20 06:32:50</td>\n",
       "      <td>13</td>\n",
       "      <td>183</td>\n",
       "      <td>2</td>\n",
       "      <td>533.0</td>\n",
       "      <td>45.0</td>\n",
       "    </tr>\n",
       "    <tr>\n",
       "      <th>...</th>\n",
       "      <td>...</td>\n",
       "      <td>...</td>\n",
       "      <td>...</td>\n",
       "      <td>...</td>\n",
       "      <td>...</td>\n",
       "      <td>...</td>\n",
       "      <td>...</td>\n",
       "      <td>...</td>\n",
       "    </tr>\n",
       "    <tr>\n",
       "      <th>2461953</th>\n",
       "      <td>3432957</td>\n",
       "      <td>15948419</td>\n",
       "      <td>2020-09-01 15:41:27</td>\n",
       "      <td>32</td>\n",
       "      <td>218</td>\n",
       "      <td>0</td>\n",
       "      <td>246.0</td>\n",
       "      <td>45.0</td>\n",
       "    </tr>\n",
       "    <tr>\n",
       "      <th>2461954</th>\n",
       "      <td>3432966</td>\n",
       "      <td>16855344</td>\n",
       "      <td>2020-09-17 10:16:16</td>\n",
       "      <td>32</td>\n",
       "      <td>130</td>\n",
       "      <td>0</td>\n",
       "      <td>166.0</td>\n",
       "      <td>51.0</td>\n",
       "    </tr>\n",
       "    <tr>\n",
       "      <th>2461955</th>\n",
       "      <td>3432977</td>\n",
       "      <td>9214726</td>\n",
       "      <td>2020-04-29 10:09:37</td>\n",
       "      <td>32</td>\n",
       "      <td>373</td>\n",
       "      <td>0</td>\n",
       "      <td>72.0</td>\n",
       "      <td>45.0</td>\n",
       "    </tr>\n",
       "    <tr>\n",
       "      <th>2461956</th>\n",
       "      <td>3433000</td>\n",
       "      <td>17739392</td>\n",
       "      <td>2020-09-30 09:18:19</td>\n",
       "      <td>32</td>\n",
       "      <td>781</td>\n",
       "      <td>1</td>\n",
       "      <td>807.0</td>\n",
       "      <td>45.0</td>\n",
       "    </tr>\n",
       "    <tr>\n",
       "      <th>2461957</th>\n",
       "      <td>3433023</td>\n",
       "      <td>10205918</td>\n",
       "      <td>2020-05-16 22:33:20</td>\n",
       "      <td>4</td>\n",
       "      <td>189</td>\n",
       "      <td>0</td>\n",
       "      <td>766.0</td>\n",
       "      <td>55.0</td>\n",
       "    </tr>\n",
       "  </tbody>\n",
       "</table>\n",
       "<p>2461927 rows × 8 columns</p>\n",
       "</div>"
      ],
      "text/plain": [
       "         user_id  order_id   order_created_time  retailer  store_idl_  \\\n",
       "0             72  17431000  2020-09-26 10:48:57         4          21   \n",
       "1             83   9718154  2020-05-08 09:46:18         4          87   \n",
       "2            142  10056850  2020-05-14 15:06:03         4         320   \n",
       "3            187  15952443  2020-09-01 17:34:00        21         533   \n",
       "4            224  10409918  2020-05-20 06:32:50        13         183   \n",
       "...          ...       ...                  ...       ...         ...   \n",
       "2461953  3432957  15948419  2020-09-01 15:41:27        32         218   \n",
       "2461954  3432966  16855344  2020-09-17 10:16:16        32         130   \n",
       "2461955  3432977   9214726  2020-04-29 10:09:37        32         373   \n",
       "2461956  3433000  17739392  2020-09-30 09:18:19        32         781   \n",
       "2461957  3433023  10205918  2020-05-16 22:33:20         4         189   \n",
       "\n",
       "         platform  store_id  city_name  \n",
       "0               0      73.0       45.0  \n",
       "1               2     327.0       46.0  \n",
       "2               0     345.0       45.0  \n",
       "3               0     578.0       24.0  \n",
       "4               2     533.0       45.0  \n",
       "...           ...       ...        ...  \n",
       "2461953         0     246.0       45.0  \n",
       "2461954         0     166.0       51.0  \n",
       "2461955         0      72.0       45.0  \n",
       "2461956         1     807.0       45.0  \n",
       "2461957         0     766.0       55.0  \n",
       "\n",
       "[2461927 rows x 8 columns]"
      ]
     },
     "execution_count": 188,
     "metadata": {},
     "output_type": "execute_result"
    }
   ],
   "source": [
    "orders_df.join(city_df, on=[\"store_id\"], how='left', lsuffix='l_')"
   ]
  }
 ],
 "metadata": {
  "kernelspec": {
   "display_name": "Python 3",
   "language": "python",
   "name": "python3"
  },
  "language_info": {
   "codemirror_mode": {
    "name": "ipython",
    "version": 3
   },
   "file_extension": ".py",
   "mimetype": "text/x-python",
   "name": "python",
   "nbconvert_exporter": "python",
   "pygments_lexer": "ipython3",
   "version": "3.6.9"
  }
 },
 "nbformat": 4,
 "nbformat_minor": 2
}
