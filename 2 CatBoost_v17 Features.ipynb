{
 "cells": [
  {
   "cell_type": "code",
   "execution_count": 1,
   "metadata": {
    "colab": {
     "base_uri": "https://localhost:8080/",
     "height": 252
    },
    "id": "Qe8PzteJSX9W",
    "outputId": "d9a133a8-62a0-4a71-b4d3-5e7b99db74b2"
   },
   "outputs": [],
   "source": [
    "# !pip install catboost"
   ]
  },
  {
   "cell_type": "code",
   "execution_count": 2,
   "metadata": {
    "colab": {
     "base_uri": "https://localhost:8080/",
     "height": 118
    },
    "id": "JXuE8F6uh-8_",
    "outputId": "7841c4b3-6079-4ed2-f921-f9593abd89e7"
   },
   "outputs": [],
   "source": [
    "# !pip install ml_metrics"
   ]
  },
  {
   "cell_type": "code",
   "execution_count": 1,
   "metadata": {
    "id": "2Kurej6rttw8"
   },
   "outputs": [],
   "source": [
    "import pandas as pd\n",
    "import matplotlib.pyplot as plt"
   ]
  },
  {
   "cell_type": "code",
   "execution_count": 2,
   "metadata": {
    "colab": {
     "base_uri": "https://localhost:8080/",
     "height": 266
    },
    "id": "0U3qSPGottzL",
    "outputId": "a68a67f4-d2cf-4366-f24e-cb0f28607d79"
   },
   "outputs": [
    {
     "name": "stderr",
     "output_type": "stream",
     "text": [
      "D:\\programs\\anaconda3\\lib\\site-packages\\IPython\\core\\interactiveshell.py:3071: DtypeWarning: Columns (11,16) have mixed types.Specify dtype option on import or set low_memory=False.\n",
      "  has_raised = await self.run_ast_nodes(code_ast.body, cell_name,\n"
     ]
    },
    {
     "data": {
      "text/html": [
       "<div>\n",
       "<style scoped>\n",
       "    .dataframe tbody tr th:only-of-type {\n",
       "        vertical-align: middle;\n",
       "    }\n",
       "\n",
       "    .dataframe tbody tr th {\n",
       "        vertical-align: top;\n",
       "    }\n",
       "\n",
       "    .dataframe thead th {\n",
       "        text-align: right;\n",
       "    }\n",
       "</style>\n",
       "<table border=\"1\" class=\"dataframe\">\n",
       "  <thead>\n",
       "    <tr style=\"text-align: right;\">\n",
       "      <th></th>\n",
       "      <th>Unnamed: 0</th>\n",
       "      <th>order_id</th>\n",
       "      <th>user_id</th>\n",
       "      <th>line_item_id</th>\n",
       "      <th>price</th>\n",
       "      <th>quantity</th>\n",
       "      <th>discount</th>\n",
       "      <th>product_id</th>\n",
       "      <th>brand_name</th>\n",
       "      <th>master_category_id</th>\n",
       "      <th>parent_category_id</th>\n",
       "      <th>order_created_time</th>\n",
       "      <th>retailer</th>\n",
       "      <th>platform</th>\n",
       "      <th>city_name</th>\n",
       "      <th>gender</th>\n",
       "      <th>bdate</th>\n",
       "      <th>age</th>\n",
       "    </tr>\n",
       "  </thead>\n",
       "  <tbody>\n",
       "    <tr>\n",
       "      <th>0</th>\n",
       "      <td>0</td>\n",
       "      <td>139128</td>\n",
       "      <td>1050</td>\n",
       "      <td>97633689</td>\n",
       "      <td>236.89</td>\n",
       "      <td>1</td>\n",
       "      <td>0.0</td>\n",
       "      <td>5045454</td>\n",
       "      <td>3573</td>\n",
       "      <td>122</td>\n",
       "      <td>119</td>\n",
       "      <td>-1</td>\n",
       "      <td>-1</td>\n",
       "      <td>-1</td>\n",
       "      <td>-1</td>\n",
       "      <td>-1</td>\n",
       "      <td>-1</td>\n",
       "      <td>-1</td>\n",
       "    </tr>\n",
       "    <tr>\n",
       "      <th>1</th>\n",
       "      <td>1</td>\n",
       "      <td>139128</td>\n",
       "      <td>1050</td>\n",
       "      <td>97633791</td>\n",
       "      <td>178.16</td>\n",
       "      <td>1</td>\n",
       "      <td>0.0</td>\n",
       "      <td>73719</td>\n",
       "      <td>5154</td>\n",
       "      <td>122</td>\n",
       "      <td>119</td>\n",
       "      <td>-1</td>\n",
       "      <td>-1</td>\n",
       "      <td>-1</td>\n",
       "      <td>-1</td>\n",
       "      <td>-1</td>\n",
       "      <td>-1</td>\n",
       "      <td>-1</td>\n",
       "    </tr>\n",
       "    <tr>\n",
       "      <th>2</th>\n",
       "      <td>2</td>\n",
       "      <td>139128</td>\n",
       "      <td>1050</td>\n",
       "      <td>97635201</td>\n",
       "      <td>173.28</td>\n",
       "      <td>1</td>\n",
       "      <td>0.0</td>\n",
       "      <td>7000939</td>\n",
       "      <td>2846</td>\n",
       "      <td>85</td>\n",
       "      <td>84</td>\n",
       "      <td>-1</td>\n",
       "      <td>-1</td>\n",
       "      <td>-1</td>\n",
       "      <td>-1</td>\n",
       "      <td>-1</td>\n",
       "      <td>-1</td>\n",
       "      <td>-1</td>\n",
       "    </tr>\n",
       "    <tr>\n",
       "      <th>3</th>\n",
       "      <td>3</td>\n",
       "      <td>139128</td>\n",
       "      <td>1050</td>\n",
       "      <td>97635312</td>\n",
       "      <td>73.69</td>\n",
       "      <td>1</td>\n",
       "      <td>0.0</td>\n",
       "      <td>7386015</td>\n",
       "      <td>3342</td>\n",
       "      <td>85</td>\n",
       "      <td>84</td>\n",
       "      <td>-1</td>\n",
       "      <td>-1</td>\n",
       "      <td>-1</td>\n",
       "      <td>-1</td>\n",
       "      <td>-1</td>\n",
       "      <td>-1</td>\n",
       "      <td>-1</td>\n",
       "    </tr>\n",
       "    <tr>\n",
       "      <th>4</th>\n",
       "      <td>4</td>\n",
       "      <td>139128</td>\n",
       "      <td>1050</td>\n",
       "      <td>97635414</td>\n",
       "      <td>282.14</td>\n",
       "      <td>1</td>\n",
       "      <td>0.0</td>\n",
       "      <td>73291</td>\n",
       "      <td>2846</td>\n",
       "      <td>85</td>\n",
       "      <td>84</td>\n",
       "      <td>-1</td>\n",
       "      <td>-1</td>\n",
       "      <td>-1</td>\n",
       "      <td>-1</td>\n",
       "      <td>-1</td>\n",
       "      <td>-1</td>\n",
       "      <td>-1</td>\n",
       "    </tr>\n",
       "  </tbody>\n",
       "</table>\n",
       "</div>"
      ],
      "text/plain": [
       "   Unnamed: 0  order_id  user_id  line_item_id   price  quantity  discount  \\\n",
       "0           0    139128     1050      97633689  236.89         1       0.0   \n",
       "1           1    139128     1050      97633791  178.16         1       0.0   \n",
       "2           2    139128     1050      97635201  173.28         1       0.0   \n",
       "3           3    139128     1050      97635312   73.69         1       0.0   \n",
       "4           4    139128     1050      97635414  282.14         1       0.0   \n",
       "\n",
       "   product_id  brand_name  master_category_id  parent_category_id  \\\n",
       "0     5045454        3573                 122                 119   \n",
       "1       73719        5154                 122                 119   \n",
       "2     7000939        2846                  85                  84   \n",
       "3     7386015        3342                  85                  84   \n",
       "4       73291        2846                  85                  84   \n",
       "\n",
       "  order_created_time  retailer  platform  city_name  gender bdate  age  \n",
       "0                 -1        -1        -1         -1      -1    -1   -1  \n",
       "1                 -1        -1        -1         -1      -1    -1   -1  \n",
       "2                 -1        -1        -1         -1      -1    -1   -1  \n",
       "3                 -1        -1        -1         -1      -1    -1   -1  \n",
       "4                 -1        -1        -1         -1      -1    -1   -1  "
      ]
     },
     "execution_count": 2,
     "metadata": {},
     "output_type": "execute_result"
    }
   ],
   "source": [
    "merged = pd.read_csv('data/merged_data.csv', index_col=None)\n",
    "merged.head()"
   ]
  },
  {
   "cell_type": "code",
   "execution_count": 3,
   "metadata": {
    "colab": {
     "base_uri": "https://localhost:8080/",
     "height": 34
    },
    "id": "tqOI7DhFtt4F",
    "outputId": "4d876ef4-57ee-4f4f-ee64-b2c283b25dcf"
   },
   "outputs": [
    {
     "name": "stdout",
     "output_type": "stream",
     "text": [
      "107068\n",
      "91994\n",
      "21677070\n",
      "21466723\n"
     ]
    }
   ],
   "source": [
    "print(merged['user_id'].nunique())\n",
    "print(merged['product_id'].nunique())\n",
    "print(len(merged))\n",
    "\n",
    "merged = merged[merged['product_id'] != 0]\n",
    "print(len(merged))"
   ]
  },
  {
   "cell_type": "code",
   "execution_count": 4,
   "metadata": {
    "colab": {
     "base_uri": "https://localhost:8080/",
     "height": 445
    },
    "id": "LyNh37LBu7Rs",
    "outputId": "5be4e104-a9ac-41b5-801e-7e3ce09aa7f6"
   },
   "outputs": [
    {
     "data": {
      "text/plain": [
       "<matplotlib.axes._subplots.AxesSubplot at 0x26dcbd7c880>"
      ]
     },
     "execution_count": 4,
     "metadata": {},
     "output_type": "execute_result"
    },
    {
     "data": {
      "image/png": "[encoded data removed]",
      "text/plain": [
       "<Figure size 720x504 with 1 Axes>"
      ]
     },
     "metadata": {
      "needs_background": "light"
     },
     "output_type": "display_data"
    }
   ],
   "source": [
    "plt.figure(figsize=(10, 7))\n",
    "merged['product_id'].value_counts().hist(bins=100)"
   ]
  },
  {
   "cell_type": "code",
   "execution_count": 5,
   "metadata": {
    "colab": {
     "base_uri": "https://localhost:8080/",
     "height": 34
    },
    "id": "FIhvfwPxzGJI",
    "outputId": "e79a18d7-f79f-4225-e9f6-436e9396a08b"
   },
   "outputs": [
    {
     "data": {
      "text/plain": [
       "107066"
      ]
     },
     "execution_count": 5,
     "metadata": {},
     "output_type": "execute_result"
    }
   ],
   "source": [
    "merged['user_id'].nunique()"
   ]
  },
  {
   "cell_type": "code",
   "execution_count": 6,
   "metadata": {
    "colab": {
     "base_uri": "https://localhost:8080/",
     "height": 402
    },
    "id": "lcqqgI8Rtn8O",
    "outputId": "733953cd-214e-4e24-c574-0e0b0e6c6952"
   },
   "outputs": [
    {
     "data": {
      "text/html": [
       "<div>\n",
       "<style scoped>\n",
       "    .dataframe tbody tr th:only-of-type {\n",
       "        vertical-align: middle;\n",
       "    }\n",
       "\n",
       "    .dataframe tbody tr th {\n",
       "        vertical-align: top;\n",
       "    }\n",
       "\n",
       "    .dataframe thead th {\n",
       "        text-align: right;\n",
       "    }\n",
       "</style>\n",
       "<table border=\"1\" class=\"dataframe\">\n",
       "  <thead>\n",
       "    <tr style=\"text-align: right;\">\n",
       "      <th></th>\n",
       "      <th>product_id</th>\n",
       "      <th>count</th>\n",
       "    </tr>\n",
       "  </thead>\n",
       "  <tbody>\n",
       "    <tr>\n",
       "      <th>193</th>\n",
       "      <td>709</td>\n",
       "      <td>139570</td>\n",
       "    </tr>\n",
       "    <tr>\n",
       "      <th>9290</th>\n",
       "      <td>39590</td>\n",
       "      <td>44804</td>\n",
       "    </tr>\n",
       "    <tr>\n",
       "      <th>71</th>\n",
       "      <td>166</td>\n",
       "      <td>36970</td>\n",
       "    </tr>\n",
       "  </tbody>\n",
       "</table>\n",
       "</div>"
      ],
      "text/plain": [
       "      product_id   count\n",
       "193          709  139570\n",
       "9290       39590   44804\n",
       "71           166   36970"
      ]
     },
     "execution_count": 6,
     "metadata": {},
     "output_type": "execute_result"
    }
   ],
   "source": [
    "groupby_0 = pd.DataFrame({'count' : merged.groupby(['product_id']).size()}).reset_index()\n",
    "groupby_0 = groupby_0.sort_values(['count'], ascending=False)\n",
    "groupby_0.head(3)"
   ]
  },
  {
   "cell_type": "code",
   "execution_count": 7,
   "metadata": {
    "colab": {
     "base_uri": "https://localhost:8080/",
     "height": 34
    },
    "id": "JnHcF1mwxfBf",
    "outputId": "8caf4be5-c8c2-4ac9-e5d1-cc778000fc55"
   },
   "outputs": [
    {
     "name": "stdout",
     "output_type": "stream",
     "text": [
      "0.28358841729126516\n",
      "0.8288523124838384\n",
      "0.9561352238066332\n"
     ]
    }
   ],
   "source": [
    "# доля покрытия\n",
    "print(groupby_0[:1000]['count'].sum() / groupby_0['count'].sum())\n",
    "print(groupby_0[:15000]['count'].sum() / groupby_0['count'].sum())\n",
    "print(groupby_0[:35000]['count'].sum() / groupby_0['count'].sum())"
   ]
  },
  {
   "cell_type": "code",
   "execution_count": 8,
   "metadata": {
    "id": "8IVow3Lp0guY"
   },
   "outputs": [
    {
     "name": "stdout",
     "output_type": "stream",
     "text": [
      "20525090\n",
      "106936\n"
     ]
    }
   ],
   "source": [
    "# фильтруем по продуктам\n",
    "top_products = groupby_0[:35000]['product_id'].tolist()\n",
    "\n",
    "merged = merged[merged['product_id'].isin(top_products)]\n",
    "print(len(merged))\n",
    "print(merged['user_id'].nunique())"
   ]
  },
  {
   "cell_type": "code",
   "execution_count": 9,
   "metadata": {
    "colab": {
     "base_uri": "https://localhost:8080/",
     "height": 34
    },
    "id": "IAJJmGW903pm",
    "outputId": "3bdaf333-d574-4e78-abd2-762f242a2323"
   },
   "outputs": [
    {
     "data": {
      "text/html": [
       "<div>\n",
       "<style scoped>\n",
       "    .dataframe tbody tr th:only-of-type {\n",
       "        vertical-align: middle;\n",
       "    }\n",
       "\n",
       "    .dataframe tbody tr th {\n",
       "        vertical-align: top;\n",
       "    }\n",
       "\n",
       "    .dataframe thead th {\n",
       "        text-align: right;\n",
       "    }\n",
       "</style>\n",
       "<table border=\"1\" class=\"dataframe\">\n",
       "  <thead>\n",
       "    <tr style=\"text-align: right;\">\n",
       "      <th></th>\n",
       "      <th>user_id</th>\n",
       "      <th>count</th>\n",
       "    </tr>\n",
       "  </thead>\n",
       "  <tbody>\n",
       "    <tr>\n",
       "      <th>0</th>\n",
       "      <td>51</td>\n",
       "      <td>17</td>\n",
       "    </tr>\n",
       "    <tr>\n",
       "      <th>1</th>\n",
       "      <td>65</td>\n",
       "      <td>23</td>\n",
       "    </tr>\n",
       "    <tr>\n",
       "      <th>2</th>\n",
       "      <td>187</td>\n",
       "      <td>1</td>\n",
       "    </tr>\n",
       "  </tbody>\n",
       "</table>\n",
       "</div>"
      ],
      "text/plain": [
       "   user_id  count\n",
       "0       51     17\n",
       "1       65     23\n",
       "2      187      1"
      ]
     },
     "execution_count": 9,
     "metadata": {},
     "output_type": "execute_result"
    }
   ],
   "source": [
    "users_n_orders = merged.groupby(['user_id'])['order_id'].nunique().to_frame('count').reset_index()\n",
    "users_n_orders.head(3)"
   ]
  },
  {
   "cell_type": "code",
   "execution_count": 10,
   "metadata": {
    "colab": {
     "base_uri": "https://localhost:8080/",
     "height": 34
    },
    "id": "ZKFEQl4XxfKZ",
    "outputId": "605bee1f-d4ec-4404-dc71-f58d6e741f91"
   },
   "outputs": [
    {
     "name": "stdout",
     "output_type": "stream",
     "text": [
      "valid_users_ids 86924\n",
      "20094509\n"
     ]
    }
   ],
   "source": [
    "valid_users = users_n_orders[users_n_orders['count'] >= 2]\n",
    "valid_users_ids = valid_users['user_id'].tolist()\n",
    "print('valid_users_ids', len(valid_users_ids))\n",
    "\n",
    "merged = merged[merged['user_id'].isin(valid_users_ids)]\n",
    "print(len(merged))"
   ]
  },
  {
   "cell_type": "code",
   "execution_count": 11,
   "metadata": {},
   "outputs": [],
   "source": [
    "merged_ = merged[merged['order_created_time'].values != -1]\n",
    "merged_ = merged_[merged_['order_created_time'].values != '-1']\n",
    "merged_ = merged_.drop(columns=['Unnamed: 0']) \n",
    "\n",
    "# Change data types to reduce memory footprint\n",
    "merged_ = merged_.astype({\n",
    "    'user_id': 'int32',\n",
    "    'order_id': 'int32',\n",
    "    'price': 'float32',\n",
    "    'quantity': 'int32',\n",
    "    'discount': 'float32',\n",
    "    'product_id': 'int32',\n",
    "    'brand_name': 'int32',\n",
    "    'master_category_id': 'int32',\n",
    "    'parent_category_id': 'int32',\n",
    "    'order_created_time': str,\n",
    "    'retailer': 'int32',\n",
    "    'platform': 'int32',\n",
    "    'city_name': 'int32',\n",
    "    'gender': 'int32',\n",
    "    'age': 'int32'}, copy=False)\n",
    "\n",
    "merged_['order_created_time'] = pd.to_datetime(merged_['order_created_time'], format='%Y-%m-%d %H:%M:%S', exact=True)"
   ]
  },
  {
   "cell_type": "code",
   "execution_count": 12,
   "metadata": {},
   "outputs": [],
   "source": [
    "del merged"
   ]
  },
  {
   "cell_type": "code",
   "execution_count": 13,
   "metadata": {},
   "outputs": [
    {
     "data": {
      "text/html": [
       "<div>\n",
       "<style scoped>\n",
       "    .dataframe tbody tr th:only-of-type {\n",
       "        vertical-align: middle;\n",
       "    }\n",
       "\n",
       "    .dataframe tbody tr th {\n",
       "        vertical-align: top;\n",
       "    }\n",
       "\n",
       "    .dataframe thead th {\n",
       "        text-align: right;\n",
       "    }\n",
       "</style>\n",
       "<table border=\"1\" class=\"dataframe\">\n",
       "  <thead>\n",
       "    <tr style=\"text-align: right;\">\n",
       "      <th></th>\n",
       "      <th>order_id</th>\n",
       "      <th>user_id</th>\n",
       "      <th>line_item_id</th>\n",
       "      <th>price</th>\n",
       "      <th>quantity</th>\n",
       "      <th>discount</th>\n",
       "      <th>product_id</th>\n",
       "      <th>brand_name</th>\n",
       "      <th>master_category_id</th>\n",
       "      <th>parent_category_id</th>\n",
       "      <th>order_created_time</th>\n",
       "      <th>retailer</th>\n",
       "      <th>platform</th>\n",
       "      <th>city_name</th>\n",
       "      <th>gender</th>\n",
       "      <th>bdate</th>\n",
       "      <th>age</th>\n",
       "    </tr>\n",
       "  </thead>\n",
       "  <tbody>\n",
       "    <tr>\n",
       "      <th>282503</th>\n",
       "      <td>5531326</td>\n",
       "      <td>691783</td>\n",
       "      <td>28336408</td>\n",
       "      <td>40.000000</td>\n",
       "      <td>1</td>\n",
       "      <td>6.990000</td>\n",
       "      <td>67693</td>\n",
       "      <td>700</td>\n",
       "      <td>577</td>\n",
       "      <td>9</td>\n",
       "      <td>2019-12-31 21:29:17</td>\n",
       "      <td>4</td>\n",
       "      <td>0</td>\n",
       "      <td>71</td>\n",
       "      <td>1</td>\n",
       "      <td>1998-06-20 00:00:00</td>\n",
       "      <td>22</td>\n",
       "    </tr>\n",
       "    <tr>\n",
       "      <th>282504</th>\n",
       "      <td>5531326</td>\n",
       "      <td>691783</td>\n",
       "      <td>28336410</td>\n",
       "      <td>139.000000</td>\n",
       "      <td>1</td>\n",
       "      <td>106.000000</td>\n",
       "      <td>1536</td>\n",
       "      <td>815</td>\n",
       "      <td>582</td>\n",
       "      <td>9</td>\n",
       "      <td>2019-12-31 21:29:17</td>\n",
       "      <td>4</td>\n",
       "      <td>0</td>\n",
       "      <td>71</td>\n",
       "      <td>1</td>\n",
       "      <td>1998-06-20 00:00:00</td>\n",
       "      <td>22</td>\n",
       "    </tr>\n",
       "    <tr>\n",
       "      <th>282505</th>\n",
       "      <td>5531326</td>\n",
       "      <td>691783</td>\n",
       "      <td>28336411</td>\n",
       "      <td>49.900002</td>\n",
       "      <td>1</td>\n",
       "      <td>39.990002</td>\n",
       "      <td>57951</td>\n",
       "      <td>104</td>\n",
       "      <td>581</td>\n",
       "      <td>9</td>\n",
       "      <td>2019-12-31 21:29:17</td>\n",
       "      <td>4</td>\n",
       "      <td>0</td>\n",
       "      <td>71</td>\n",
       "      <td>1</td>\n",
       "      <td>1998-06-20 00:00:00</td>\n",
       "      <td>22</td>\n",
       "    </tr>\n",
       "  </tbody>\n",
       "</table>\n",
       "</div>"
      ],
      "text/plain": [
       "        order_id  user_id  line_item_id       price  quantity    discount  \\\n",
       "282503   5531326   691783      28336408   40.000000         1    6.990000   \n",
       "282504   5531326   691783      28336410  139.000000         1  106.000000   \n",
       "282505   5531326   691783      28336411   49.900002         1   39.990002   \n",
       "\n",
       "        product_id  brand_name  master_category_id  parent_category_id  \\\n",
       "282503       67693         700                 577                   9   \n",
       "282504        1536         815                 582                   9   \n",
       "282505       57951         104                 581                   9   \n",
       "\n",
       "        order_created_time  retailer  platform  city_name  gender  \\\n",
       "282503 2019-12-31 21:29:17         4         0         71       1   \n",
       "282504 2019-12-31 21:29:17         4         0         71       1   \n",
       "282505 2019-12-31 21:29:17         4         0         71       1   \n",
       "\n",
       "                      bdate  age  \n",
       "282503  1998-06-20 00:00:00   22  \n",
       "282504  1998-06-20 00:00:00   22  \n",
       "282505  1998-06-20 00:00:00   22  "
      ]
     },
     "execution_count": 13,
     "metadata": {},
     "output_type": "execute_result"
    }
   ],
   "source": [
    "merged_.head(3)"
   ]
  },
  {
   "cell_type": "code",
   "execution_count": 14,
   "metadata": {},
   "outputs": [
    {
     "data": {
      "text/html": [
       "<div>\n",
       "<style scoped>\n",
       "    .dataframe tbody tr th:only-of-type {\n",
       "        vertical-align: middle;\n",
       "    }\n",
       "\n",
       "    .dataframe tbody tr th {\n",
       "        vertical-align: top;\n",
       "    }\n",
       "\n",
       "    .dataframe thead th {\n",
       "        text-align: right;\n",
       "    }\n",
       "</style>\n",
       "<table border=\"1\" class=\"dataframe\">\n",
       "  <thead>\n",
       "    <tr style=\"text-align: right;\">\n",
       "      <th></th>\n",
       "      <th>user_id</th>\n",
       "      <th>product_id</th>\n",
       "      <th>master_category_id</th>\n",
       "      <th>parent_category_id</th>\n",
       "      <th>product_count</th>\n",
       "      <th>avg_discount</th>\n",
       "      <th>max_discount</th>\n",
       "      <th>min_discount</th>\n",
       "      <th>avg_price</th>\n",
       "      <th>max_price</th>\n",
       "      <th>min_price</th>\n",
       "      <th>last_date_purchase</th>\n",
       "    </tr>\n",
       "  </thead>\n",
       "  <tbody>\n",
       "    <tr>\n",
       "      <th>0</th>\n",
       "      <td>400</td>\n",
       "      <td>41</td>\n",
       "      <td>85</td>\n",
       "      <td>84</td>\n",
       "      <td>1</td>\n",
       "      <td>0.000</td>\n",
       "      <td>0.00</td>\n",
       "      <td>0.0</td>\n",
       "      <td>59.000000</td>\n",
       "      <td>59.000000</td>\n",
       "      <td>59.000000</td>\n",
       "      <td>2020-06-19 11:57:25</td>\n",
       "    </tr>\n",
       "    <tr>\n",
       "      <th>1</th>\n",
       "      <td>400</td>\n",
       "      <td>177</td>\n",
       "      <td>26</td>\n",
       "      <td>20</td>\n",
       "      <td>2</td>\n",
       "      <td>9.995</td>\n",
       "      <td>19.99</td>\n",
       "      <td>0.0</td>\n",
       "      <td>64.895004</td>\n",
       "      <td>74.889999</td>\n",
       "      <td>54.900002</td>\n",
       "      <td>2020-07-09 12:01:19</td>\n",
       "    </tr>\n",
       "    <tr>\n",
       "      <th>2</th>\n",
       "      <td>400</td>\n",
       "      <td>397</td>\n",
       "      <td>38</td>\n",
       "      <td>35</td>\n",
       "      <td>1</td>\n",
       "      <td>139.000</td>\n",
       "      <td>139.00</td>\n",
       "      <td>139.0</td>\n",
       "      <td>265.000000</td>\n",
       "      <td>265.000000</td>\n",
       "      <td>265.000000</td>\n",
       "      <td>2020-06-29 19:14:42</td>\n",
       "    </tr>\n",
       "  </tbody>\n",
       "</table>\n",
       "</div>"
      ],
      "text/plain": [
       "   user_id  product_id  master_category_id  parent_category_id  product_count  \\\n",
       "0      400          41                  85                  84              1   \n",
       "1      400         177                  26                  20              2   \n",
       "2      400         397                  38                  35              1   \n",
       "\n",
       "   avg_discount  max_discount  min_discount   avg_price   max_price  \\\n",
       "0         0.000          0.00           0.0   59.000000   59.000000   \n",
       "1         9.995         19.99           0.0   64.895004   74.889999   \n",
       "2       139.000        139.00         139.0  265.000000  265.000000   \n",
       "\n",
       "    min_price  last_date_purchase  \n",
       "0   59.000000 2020-06-19 11:57:25  \n",
       "1   54.900002 2020-07-09 12:01:19  \n",
       "2  265.000000 2020-06-29 19:14:42  "
      ]
     },
     "execution_count": 14,
     "metadata": {},
     "output_type": "execute_result"
    }
   ],
   "source": [
    "features = merged_.groupby(['user_id', 'product_id', 'master_category_id', \n",
    "                            'parent_category_id']).agg(\n",
    "    product_count=pd.NamedAgg(column='product_id', aggfunc='count'),\n",
    "    avg_discount=pd.NamedAgg(column='discount', aggfunc='mean'),\n",
    "    max_discount=pd.NamedAgg(column='discount', aggfunc='max'),\n",
    "    min_discount=pd.NamedAgg(column='discount', aggfunc='min'),\n",
    "    avg_price=pd.NamedAgg(column='price', aggfunc='mean'),\n",
    "    max_price=pd.NamedAgg(column='price', aggfunc='max'),\n",
    "    min_price=pd.NamedAgg(column='price', aggfunc='min'),\n",
    "    last_date_purchase=pd.NamedAgg(column='order_created_time', aggfunc='max'),\n",
    ").reset_index()\n",
    "            \n",
    "features.head(3)"
   ]
  },
  {
   "cell_type": "code",
   "execution_count": 15,
   "metadata": {},
   "outputs": [
    {
     "data": {
      "text/html": [
       "<div>\n",
       "<style scoped>\n",
       "    .dataframe tbody tr th:only-of-type {\n",
       "        vertical-align: middle;\n",
       "    }\n",
       "\n",
       "    .dataframe tbody tr th {\n",
       "        vertical-align: top;\n",
       "    }\n",
       "\n",
       "    .dataframe thead th {\n",
       "        text-align: right;\n",
       "    }\n",
       "</style>\n",
       "<table border=\"1\" class=\"dataframe\">\n",
       "  <thead>\n",
       "    <tr style=\"text-align: right;\">\n",
       "      <th></th>\n",
       "      <th>user_id</th>\n",
       "      <th>orders_count</th>\n",
       "      <th>last_order_date</th>\n",
       "      <th>first_order_date</th>\n",
       "      <th>freq_retailer</th>\n",
       "      <th>avg_order_size</th>\n",
       "    </tr>\n",
       "  </thead>\n",
       "  <tbody>\n",
       "    <tr>\n",
       "      <th>0</th>\n",
       "      <td>400</td>\n",
       "      <td>129</td>\n",
       "      <td>2020-07-09 12:01:19</td>\n",
       "      <td>2020-06-13 13:26:03</td>\n",
       "      <td>4</td>\n",
       "      <td>25.80</td>\n",
       "    </tr>\n",
       "    <tr>\n",
       "      <th>1</th>\n",
       "      <td>576</td>\n",
       "      <td>146</td>\n",
       "      <td>2020-09-04 17:33:47</td>\n",
       "      <td>2020-06-26 08:05:37</td>\n",
       "      <td>4</td>\n",
       "      <td>18.25</td>\n",
       "    </tr>\n",
       "    <tr>\n",
       "      <th>2</th>\n",
       "      <td>608</td>\n",
       "      <td>58</td>\n",
       "      <td>2020-08-29 05:52:55</td>\n",
       "      <td>2020-08-04 16:30:07</td>\n",
       "      <td>4</td>\n",
       "      <td>14.50</td>\n",
       "    </tr>\n",
       "  </tbody>\n",
       "</table>\n",
       "</div>"
      ],
      "text/plain": [
       "   user_id  orders_count     last_order_date    first_order_date  \\\n",
       "0      400           129 2020-07-09 12:01:19 2020-06-13 13:26:03   \n",
       "1      576           146 2020-09-04 17:33:47 2020-06-26 08:05:37   \n",
       "2      608            58 2020-08-29 05:52:55 2020-08-04 16:30:07   \n",
       "\n",
       "   freq_retailer  avg_order_size  \n",
       "0              4           25.80  \n",
       "1              4           18.25  \n",
       "2              4           14.50  "
      ]
     },
     "execution_count": 15,
     "metadata": {},
     "output_type": "execute_result"
    }
   ],
   "source": [
    "# add user properities\n",
    "\n",
    "# средний размер корзины\n",
    "users_info_0 = merged_.groupby(['user_id', 'order_id']).agg(\n",
    "    orders_size=pd.NamedAgg(column='product_id', aggfunc='count'),\n",
    ").reset_index()\n",
    "\n",
    "users_info_1 = users_info_0.groupby(['user_id']).agg(\n",
    "    avg_order_size=pd.NamedAgg(column='orders_size', aggfunc='mean'),\n",
    ").reset_index()\n",
    "\n",
    "users_info = merged_.groupby(['user_id']).agg(\n",
    "    orders_count=pd.NamedAgg(column='order_id', aggfunc='count'),\n",
    "    last_order_date=pd.NamedAgg(column='order_created_time', aggfunc='max'),\n",
    "    first_order_date=pd.NamedAgg(column='order_created_time', aggfunc='min'),\n",
    "    freq_retailer=pd.NamedAgg(column='retailer', aggfunc=lambda x:x.value_counts().index[0]), # mode\n",
    ").reset_index()\n",
    "\n",
    "users_info = pd.merge(users_info, users_info_1, on='user_id')\n",
    "users_info.head(3)"
   ]
  },
  {
   "cell_type": "code",
   "execution_count": 16,
   "metadata": {},
   "outputs": [
    {
     "data": {
      "text/html": [
       "<div>\n",
       "<style scoped>\n",
       "    .dataframe tbody tr th:only-of-type {\n",
       "        vertical-align: middle;\n",
       "    }\n",
       "\n",
       "    .dataframe tbody tr th {\n",
       "        vertical-align: top;\n",
       "    }\n",
       "\n",
       "    .dataframe thead th {\n",
       "        text-align: right;\n",
       "    }\n",
       "</style>\n",
       "<table border=\"1\" class=\"dataframe\">\n",
       "  <thead>\n",
       "    <tr style=\"text-align: right;\">\n",
       "      <th></th>\n",
       "      <th>master_category_id</th>\n",
       "      <th>parent_category_id</th>\n",
       "      <th>all_product_counts</th>\n",
       "      <th>max_price_of_product</th>\n",
       "    </tr>\n",
       "  </thead>\n",
       "  <tbody>\n",
       "    <tr>\n",
       "      <th>0</th>\n",
       "      <td>15</td>\n",
       "      <td>9</td>\n",
       "      <td>159438</td>\n",
       "      <td>3671.0</td>\n",
       "    </tr>\n",
       "    <tr>\n",
       "      <th>1</th>\n",
       "      <td>16</td>\n",
       "      <td>9</td>\n",
       "      <td>32209</td>\n",
       "      <td>3282.0</td>\n",
       "    </tr>\n",
       "    <tr>\n",
       "      <th>2</th>\n",
       "      <td>21</td>\n",
       "      <td>20</td>\n",
       "      <td>331432</td>\n",
       "      <td>154.0</td>\n",
       "    </tr>\n",
       "  </tbody>\n",
       "</table>\n",
       "</div>"
      ],
      "text/plain": [
       "   master_category_id  parent_category_id  all_product_counts  \\\n",
       "0                  15                   9              159438   \n",
       "1                  16                   9               32209   \n",
       "2                  21                  20              331432   \n",
       "\n",
       "   max_price_of_product  \n",
       "0                3671.0  \n",
       "1                3282.0  \n",
       "2                 154.0  "
      ]
     },
     "execution_count": 16,
     "metadata": {},
     "output_type": "execute_result"
    }
   ],
   "source": [
    "# categories properities\n",
    "categories = merged_.groupby(['master_category_id', 'parent_category_id']).agg(\n",
    "    all_product_counts=pd.NamedAgg(column='product_id', aggfunc='count'),\n",
    "    max_price_of_product=pd.NamedAgg(column='price', aggfunc='max'),\n",
    ").reset_index()\n",
    "\n",
    "categories.head(3)"
   ]
  },
  {
   "cell_type": "code",
   "execution_count": 17,
   "metadata": {},
   "outputs": [
    {
     "data": {
      "text/html": [
       "<div>\n",
       "<style scoped>\n",
       "    .dataframe tbody tr th:only-of-type {\n",
       "        vertical-align: middle;\n",
       "    }\n",
       "\n",
       "    .dataframe tbody tr th {\n",
       "        vertical-align: top;\n",
       "    }\n",
       "\n",
       "    .dataframe thead th {\n",
       "        text-align: right;\n",
       "    }\n",
       "</style>\n",
       "<table border=\"1\" class=\"dataframe\">\n",
       "  <thead>\n",
       "    <tr style=\"text-align: right;\">\n",
       "      <th></th>\n",
       "      <th>product_id</th>\n",
       "      <th>master_category_id</th>\n",
       "      <th>parent_category_id</th>\n",
       "      <th>product_count_in_categ</th>\n",
       "      <th>avg_discount</th>\n",
       "      <th>max_discount</th>\n",
       "      <th>min_discount</th>\n",
       "      <th>avg_price</th>\n",
       "      <th>max_price</th>\n",
       "      <th>min_price</th>\n",
       "    </tr>\n",
       "  </thead>\n",
       "  <tbody>\n",
       "    <tr>\n",
       "      <th>0</th>\n",
       "      <td>6</td>\n",
       "      <td>22</td>\n",
       "      <td>20</td>\n",
       "      <td>75</td>\n",
       "      <td>8.238267</td>\n",
       "      <td>17.389999</td>\n",
       "      <td>0.0</td>\n",
       "      <td>46.686401</td>\n",
       "      <td>57.790001</td>\n",
       "      <td>39.900002</td>\n",
       "    </tr>\n",
       "    <tr>\n",
       "      <th>1</th>\n",
       "      <td>8</td>\n",
       "      <td>22</td>\n",
       "      <td>20</td>\n",
       "      <td>243</td>\n",
       "      <td>8.517366</td>\n",
       "      <td>17.389999</td>\n",
       "      <td>0.0</td>\n",
       "      <td>46.150124</td>\n",
       "      <td>61.599998</td>\n",
       "      <td>37.799999</td>\n",
       "    </tr>\n",
       "    <tr>\n",
       "      <th>2</th>\n",
       "      <td>9</td>\n",
       "      <td>22</td>\n",
       "      <td>20</td>\n",
       "      <td>114</td>\n",
       "      <td>10.388772</td>\n",
       "      <td>18.639999</td>\n",
       "      <td>0.0</td>\n",
       "      <td>45.386669</td>\n",
       "      <td>59.090000</td>\n",
       "      <td>38.009998</td>\n",
       "    </tr>\n",
       "  </tbody>\n",
       "</table>\n",
       "</div>"
      ],
      "text/plain": [
       "   product_id  master_category_id  parent_category_id  product_count_in_categ  \\\n",
       "0           6                  22                  20                      75   \n",
       "1           8                  22                  20                     243   \n",
       "2           9                  22                  20                     114   \n",
       "\n",
       "   avg_discount  max_discount  min_discount  avg_price  max_price  min_price  \n",
       "0      8.238267     17.389999           0.0  46.686401  57.790001  39.900002  \n",
       "1      8.517366     17.389999           0.0  46.150124  61.599998  37.799999  \n",
       "2     10.388772     18.639999           0.0  45.386669  59.090000  38.009998  "
      ]
     },
     "execution_count": 17,
     "metadata": {},
     "output_type": "execute_result"
    }
   ],
   "source": [
    "# product properities\n",
    "products = merged_.groupby(['product_id', 'master_category_id', 'parent_category_id']).agg(\n",
    "    product_count_in_categ=pd.NamedAgg(column='product_id', aggfunc='count'),   \n",
    "    avg_discount=pd.NamedAgg(column='discount', aggfunc='mean'),\n",
    "    max_discount=pd.NamedAgg(column='discount', aggfunc='max'),\n",
    "    min_discount=pd.NamedAgg(column='discount', aggfunc='min'),\n",
    "    avg_price=pd.NamedAgg(column='price', aggfunc='mean'),\n",
    "    max_price=pd.NamedAgg(column='price', aggfunc='max'),\n",
    "    min_price=pd.NamedAgg(column='price', aggfunc='min'),\n",
    ").reset_index()\n",
    "\n",
    "products.head(3)"
   ]
  },
  {
   "cell_type": "code",
   "execution_count": 18,
   "metadata": {},
   "outputs": [
    {
     "data": {
      "text/html": [
       "<div>\n",
       "<style scoped>\n",
       "    .dataframe tbody tr th:only-of-type {\n",
       "        vertical-align: middle;\n",
       "    }\n",
       "\n",
       "    .dataframe tbody tr th {\n",
       "        vertical-align: top;\n",
       "    }\n",
       "\n",
       "    .dataframe thead th {\n",
       "        text-align: right;\n",
       "    }\n",
       "</style>\n",
       "<table border=\"1\" class=\"dataframe\">\n",
       "  <thead>\n",
       "    <tr style=\"text-align: right;\">\n",
       "      <th></th>\n",
       "      <th>product_id</th>\n",
       "      <th>master_category_id</th>\n",
       "      <th>parent_category_id</th>\n",
       "      <th>product_count_in_categ</th>\n",
       "      <th>avg_discount</th>\n",
       "      <th>max_discount</th>\n",
       "      <th>min_discount</th>\n",
       "      <th>avg_price</th>\n",
       "      <th>max_price</th>\n",
       "      <th>min_price</th>\n",
       "      <th>all_product_counts</th>\n",
       "      <th>max_price_of_product</th>\n",
       "      <th>freq_of_buying</th>\n",
       "      <th>avg_quantile</th>\n",
       "      <th>max_quantile</th>\n",
       "      <th>min_quantile</th>\n",
       "    </tr>\n",
       "  </thead>\n",
       "  <tbody>\n",
       "    <tr>\n",
       "      <th>0</th>\n",
       "      <td>6</td>\n",
       "      <td>22</td>\n",
       "      <td>20</td>\n",
       "      <td>75</td>\n",
       "      <td>8.238267</td>\n",
       "      <td>17.389999</td>\n",
       "      <td>0.0</td>\n",
       "      <td>46.686401</td>\n",
       "      <td>57.790001</td>\n",
       "      <td>39.900002</td>\n",
       "      <td>113422</td>\n",
       "      <td>165.770004</td>\n",
       "      <td>0.000661</td>\n",
       "      <td>0.281634</td>\n",
       "      <td>0.348616</td>\n",
       "      <td>0.240695</td>\n",
       "    </tr>\n",
       "    <tr>\n",
       "      <th>1</th>\n",
       "      <td>8</td>\n",
       "      <td>22</td>\n",
       "      <td>20</td>\n",
       "      <td>243</td>\n",
       "      <td>8.517366</td>\n",
       "      <td>17.389999</td>\n",
       "      <td>0.0</td>\n",
       "      <td>46.150124</td>\n",
       "      <td>61.599998</td>\n",
       "      <td>37.799999</td>\n",
       "      <td>113422</td>\n",
       "      <td>165.770004</td>\n",
       "      <td>0.002142</td>\n",
       "      <td>0.278399</td>\n",
       "      <td>0.371599</td>\n",
       "      <td>0.228027</td>\n",
       "    </tr>\n",
       "    <tr>\n",
       "      <th>2</th>\n",
       "      <td>9</td>\n",
       "      <td>22</td>\n",
       "      <td>20</td>\n",
       "      <td>114</td>\n",
       "      <td>10.388772</td>\n",
       "      <td>18.639999</td>\n",
       "      <td>0.0</td>\n",
       "      <td>45.386669</td>\n",
       "      <td>59.090000</td>\n",
       "      <td>38.009998</td>\n",
       "      <td>113422</td>\n",
       "      <td>165.770004</td>\n",
       "      <td>0.001005</td>\n",
       "      <td>0.273793</td>\n",
       "      <td>0.356458</td>\n",
       "      <td>0.229294</td>\n",
       "    </tr>\n",
       "  </tbody>\n",
       "</table>\n",
       "</div>"
      ],
      "text/plain": [
       "   product_id  master_category_id  parent_category_id  product_count_in_categ  \\\n",
       "0           6                  22                  20                      75   \n",
       "1           8                  22                  20                     243   \n",
       "2           9                  22                  20                     114   \n",
       "\n",
       "   avg_discount  max_discount  min_discount  avg_price  max_price  min_price  \\\n",
       "0      8.238267     17.389999           0.0  46.686401  57.790001  39.900002   \n",
       "1      8.517366     17.389999           0.0  46.150124  61.599998  37.799999   \n",
       "2     10.388772     18.639999           0.0  45.386669  59.090000  38.009998   \n",
       "\n",
       "   all_product_counts  max_price_of_product  freq_of_buying  avg_quantile  \\\n",
       "0              113422            165.770004        0.000661      0.281634   \n",
       "1              113422            165.770004        0.002142      0.278399   \n",
       "2              113422            165.770004        0.001005      0.273793   \n",
       "\n",
       "   max_quantile  min_quantile  \n",
       "0      0.348616      0.240695  \n",
       "1      0.371599      0.228027  \n",
       "2      0.356458      0.229294  "
      ]
     },
     "execution_count": 18,
     "metadata": {},
     "output_type": "execute_result"
    }
   ],
   "source": [
    "products_and_cat = pd.merge(products, categories, on=['master_category_id', 'parent_category_id'])\n",
    "\n",
    "products_and_cat['freq_of_buying'] = products_and_cat['product_count_in_categ'] / products_and_cat['all_product_counts']\n",
    "products_and_cat['avg_quantile'] = products_and_cat['avg_price'] / products_and_cat['max_price_of_product']\n",
    "products_and_cat['max_quantile'] = products_and_cat['max_price'] / products_and_cat['max_price_of_product']\n",
    "products_and_cat['min_quantile'] = products_and_cat['min_price'] / products_and_cat['max_price_of_product']\n",
    "\n",
    "products_and_cat.head(3)"
   ]
  },
  {
   "cell_type": "code",
   "execution_count": 19,
   "metadata": {},
   "outputs": [
    {
     "data": {
      "text/html": [
       "<div>\n",
       "<style scoped>\n",
       "    .dataframe tbody tr th:only-of-type {\n",
       "        vertical-align: middle;\n",
       "    }\n",
       "\n",
       "    .dataframe tbody tr th {\n",
       "        vertical-align: top;\n",
       "    }\n",
       "\n",
       "    .dataframe thead th {\n",
       "        text-align: right;\n",
       "    }\n",
       "</style>\n",
       "<table border=\"1\" class=\"dataframe\">\n",
       "  <thead>\n",
       "    <tr style=\"text-align: right;\">\n",
       "      <th></th>\n",
       "      <th>user_id</th>\n",
       "      <th>product_id</th>\n",
       "      <th>master_category_id</th>\n",
       "      <th>parent_category_id</th>\n",
       "      <th>product_count</th>\n",
       "      <th>avg_discount</th>\n",
       "      <th>max_discount</th>\n",
       "      <th>min_discount</th>\n",
       "      <th>avg_price</th>\n",
       "      <th>max_price</th>\n",
       "      <th>...</th>\n",
       "      <th>orders_count</th>\n",
       "      <th>last_order_date</th>\n",
       "      <th>first_order_date</th>\n",
       "      <th>freq_retailer</th>\n",
       "      <th>avg_order_size</th>\n",
       "      <th>17_sep_date</th>\n",
       "      <th>product_purchase_share</th>\n",
       "      <th>last_order_days_ago</th>\n",
       "      <th>first_order_days_ago</th>\n",
       "      <th>last_purchase_days_ago</th>\n",
       "    </tr>\n",
       "  </thead>\n",
       "  <tbody>\n",
       "    <tr>\n",
       "      <th>13326677</th>\n",
       "      <td>3142407</td>\n",
       "      <td>5061149</td>\n",
       "      <td>234</td>\n",
       "      <td>232</td>\n",
       "      <td>1</td>\n",
       "      <td>0.0</td>\n",
       "      <td>0.0</td>\n",
       "      <td>0.0</td>\n",
       "      <td>52.990002</td>\n",
       "      <td>52.990002</td>\n",
       "      <td>...</td>\n",
       "      <td>35</td>\n",
       "      <td>2020-09-16 19:52:23</td>\n",
       "      <td>2020-09-15 16:07:24</td>\n",
       "      <td>13</td>\n",
       "      <td>17.5</td>\n",
       "      <td>2020-09-17</td>\n",
       "      <td>0.028571</td>\n",
       "      <td>0</td>\n",
       "      <td>1</td>\n",
       "      <td>1</td>\n",
       "    </tr>\n",
       "    <tr>\n",
       "      <th>13326678</th>\n",
       "      <td>3142407</td>\n",
       "      <td>5076176</td>\n",
       "      <td>247</td>\n",
       "      <td>243</td>\n",
       "      <td>1</td>\n",
       "      <td>0.0</td>\n",
       "      <td>0.0</td>\n",
       "      <td>0.0</td>\n",
       "      <td>801.989990</td>\n",
       "      <td>801.989990</td>\n",
       "      <td>...</td>\n",
       "      <td>35</td>\n",
       "      <td>2020-09-16 19:52:23</td>\n",
       "      <td>2020-09-15 16:07:24</td>\n",
       "      <td>13</td>\n",
       "      <td>17.5</td>\n",
       "      <td>2020-09-17</td>\n",
       "      <td>0.028571</td>\n",
       "      <td>0</td>\n",
       "      <td>1</td>\n",
       "      <td>1</td>\n",
       "    </tr>\n",
       "    <tr>\n",
       "      <th>13326679</th>\n",
       "      <td>3142407</td>\n",
       "      <td>5566924</td>\n",
       "      <td>260</td>\n",
       "      <td>252</td>\n",
       "      <td>1</td>\n",
       "      <td>0.0</td>\n",
       "      <td>0.0</td>\n",
       "      <td>0.0</td>\n",
       "      <td>270.989990</td>\n",
       "      <td>270.989990</td>\n",
       "      <td>...</td>\n",
       "      <td>35</td>\n",
       "      <td>2020-09-16 19:52:23</td>\n",
       "      <td>2020-09-15 16:07:24</td>\n",
       "      <td>13</td>\n",
       "      <td>17.5</td>\n",
       "      <td>2020-09-17</td>\n",
       "      <td>0.028571</td>\n",
       "      <td>0</td>\n",
       "      <td>1</td>\n",
       "      <td>1</td>\n",
       "    </tr>\n",
       "    <tr>\n",
       "      <th>13326680</th>\n",
       "      <td>3142407</td>\n",
       "      <td>7034722</td>\n",
       "      <td>280</td>\n",
       "      <td>279</td>\n",
       "      <td>1</td>\n",
       "      <td>0.0</td>\n",
       "      <td>0.0</td>\n",
       "      <td>0.0</td>\n",
       "      <td>35.990002</td>\n",
       "      <td>35.990002</td>\n",
       "      <td>...</td>\n",
       "      <td>35</td>\n",
       "      <td>2020-09-16 19:52:23</td>\n",
       "      <td>2020-09-15 16:07:24</td>\n",
       "      <td>13</td>\n",
       "      <td>17.5</td>\n",
       "      <td>2020-09-17</td>\n",
       "      <td>0.028571</td>\n",
       "      <td>0</td>\n",
       "      <td>1</td>\n",
       "      <td>1</td>\n",
       "    </tr>\n",
       "  </tbody>\n",
       "</table>\n",
       "<p>4 rows × 22 columns</p>\n",
       "</div>"
      ],
      "text/plain": [
       "          user_id  product_id  master_category_id  parent_category_id  \\\n",
       "13326677  3142407     5061149                 234                 232   \n",
       "13326678  3142407     5076176                 247                 243   \n",
       "13326679  3142407     5566924                 260                 252   \n",
       "13326680  3142407     7034722                 280                 279   \n",
       "\n",
       "          product_count  avg_discount  max_discount  min_discount   avg_price  \\\n",
       "13326677              1           0.0           0.0           0.0   52.990002   \n",
       "13326678              1           0.0           0.0           0.0  801.989990   \n",
       "13326679              1           0.0           0.0           0.0  270.989990   \n",
       "13326680              1           0.0           0.0           0.0   35.990002   \n",
       "\n",
       "           max_price  ...  orders_count     last_order_date  \\\n",
       "13326677   52.990002  ...            35 2020-09-16 19:52:23   \n",
       "13326678  801.989990  ...            35 2020-09-16 19:52:23   \n",
       "13326679  270.989990  ...            35 2020-09-16 19:52:23   \n",
       "13326680   35.990002  ...            35 2020-09-16 19:52:23   \n",
       "\n",
       "            first_order_date freq_retailer avg_order_size  17_sep_date  \\\n",
       "13326677 2020-09-15 16:07:24            13           17.5   2020-09-17   \n",
       "13326678 2020-09-15 16:07:24            13           17.5   2020-09-17   \n",
       "13326679 2020-09-15 16:07:24            13           17.5   2020-09-17   \n",
       "13326680 2020-09-15 16:07:24            13           17.5   2020-09-17   \n",
       "\n",
       "          product_purchase_share last_order_days_ago  first_order_days_ago  \\\n",
       "13326677                0.028571                   0                     1   \n",
       "13326678                0.028571                   0                     1   \n",
       "13326679                0.028571                   0                     1   \n",
       "13326680                0.028571                   0                     1   \n",
       "\n",
       "          last_purchase_days_ago  \n",
       "13326677                       1  \n",
       "13326678                       1  \n",
       "13326679                       1  \n",
       "13326680                       1  \n",
       "\n",
       "[4 rows x 22 columns]"
      ]
     },
     "execution_count": 19,
     "metadata": {},
     "output_type": "execute_result"
    }
   ],
   "source": [
    "features_for_test = pd.merge(features, users_info, on='user_id')\n",
    "features_for_test['17_sep_date'] = pd.Timestamp('2020-09-17 00:00:00')\n",
    "\n",
    "features_for_test['product_purchase_share'] = features_for_test['product_count'] / features_for_test['orders_count']\n",
    "features_for_test['last_order_days_ago'] = features_for_test['17_sep_date'] - features_for_test['last_order_date']\n",
    "features_for_test['first_order_days_ago'] = features_for_test['17_sep_date'] - features_for_test['first_order_date']\n",
    "features_for_test['last_purchase_days_ago'] = features_for_test['17_sep_date'] - features_for_test['last_date_purchase']\n",
    "\n",
    "features_for_test['last_order_days_ago'] = features_for_test['last_order_days_ago'].dt.days\n",
    "features_for_test['first_order_days_ago'] = features_for_test['first_order_days_ago'].dt.days\n",
    "features_for_test['last_purchase_days_ago'] = features_for_test['last_purchase_days_ago'].dt.days\n",
    "\n",
    "features_for_test.tail(4)"
   ]
  },
  {
   "cell_type": "code",
   "execution_count": 20,
   "metadata": {},
   "outputs": [
    {
     "data": {
      "text/html": [
       "<div>\n",
       "<style scoped>\n",
       "    .dataframe tbody tr th:only-of-type {\n",
       "        vertical-align: middle;\n",
       "    }\n",
       "\n",
       "    .dataframe tbody tr th {\n",
       "        vertical-align: top;\n",
       "    }\n",
       "\n",
       "    .dataframe thead th {\n",
       "        text-align: right;\n",
       "    }\n",
       "</style>\n",
       "<table border=\"1\" class=\"dataframe\">\n",
       "  <thead>\n",
       "    <tr style=\"text-align: right;\">\n",
       "      <th></th>\n",
       "      <th>user_id</th>\n",
       "      <th>product_id</th>\n",
       "      <th>master_category_id</th>\n",
       "      <th>parent_category_id</th>\n",
       "      <th>product_count</th>\n",
       "      <th>avg_discount</th>\n",
       "      <th>max_discount</th>\n",
       "      <th>min_discount</th>\n",
       "      <th>avg_price</th>\n",
       "      <th>max_price</th>\n",
       "      <th>...</th>\n",
       "      <th>avg_order_size</th>\n",
       "      <th>17_sep_date</th>\n",
       "      <th>product_purchase_share</th>\n",
       "      <th>last_order_days_ago</th>\n",
       "      <th>first_order_days_ago</th>\n",
       "      <th>last_purchase_days_ago</th>\n",
       "      <th>freq_of_buying</th>\n",
       "      <th>avg_quantile</th>\n",
       "      <th>max_quantile</th>\n",
       "      <th>min_quantile</th>\n",
       "    </tr>\n",
       "  </thead>\n",
       "  <tbody>\n",
       "    <tr>\n",
       "      <th>0</th>\n",
       "      <td>400</td>\n",
       "      <td>41</td>\n",
       "      <td>85</td>\n",
       "      <td>84</td>\n",
       "      <td>1</td>\n",
       "      <td>0.0</td>\n",
       "      <td>0.0</td>\n",
       "      <td>0.0</td>\n",
       "      <td>59.000000</td>\n",
       "      <td>59.000000</td>\n",
       "      <td>...</td>\n",
       "      <td>25.8</td>\n",
       "      <td>2020-09-17</td>\n",
       "      <td>0.007752</td>\n",
       "      <td>69</td>\n",
       "      <td>95</td>\n",
       "      <td>89</td>\n",
       "      <td>0.000646</td>\n",
       "      <td>0.000102</td>\n",
       "      <td>0.000589</td>\n",
       "      <td>0.000004</td>\n",
       "    </tr>\n",
       "    <tr>\n",
       "      <th>79</th>\n",
       "      <td>400</td>\n",
       "      <td>3817489</td>\n",
       "      <td>85</td>\n",
       "      <td>84</td>\n",
       "      <td>1</td>\n",
       "      <td>0.0</td>\n",
       "      <td>0.0</td>\n",
       "      <td>0.0</td>\n",
       "      <td>190.460007</td>\n",
       "      <td>190.460007</td>\n",
       "      <td>...</td>\n",
       "      <td>25.8</td>\n",
       "      <td>2020-09-17</td>\n",
       "      <td>0.007752</td>\n",
       "      <td>69</td>\n",
       "      <td>95</td>\n",
       "      <td>89</td>\n",
       "      <td>0.014428</td>\n",
       "      <td>0.000430</td>\n",
       "      <td>0.003224</td>\n",
       "      <td>0.000000</td>\n",
       "    </tr>\n",
       "    <tr>\n",
       "      <th>78</th>\n",
       "      <td>400</td>\n",
       "      <td>3817484</td>\n",
       "      <td>85</td>\n",
       "      <td>84</td>\n",
       "      <td>2</td>\n",
       "      <td>0.0</td>\n",
       "      <td>0.0</td>\n",
       "      <td>0.0</td>\n",
       "      <td>45.349998</td>\n",
       "      <td>50.000000</td>\n",
       "      <td>...</td>\n",
       "      <td>25.8</td>\n",
       "      <td>2020-09-17</td>\n",
       "      <td>0.015504</td>\n",
       "      <td>69</td>\n",
       "      <td>95</td>\n",
       "      <td>89</td>\n",
       "      <td>0.019156</td>\n",
       "      <td>0.000080</td>\n",
       "      <td>0.001039</td>\n",
       "      <td>0.000004</td>\n",
       "    </tr>\n",
       "  </tbody>\n",
       "</table>\n",
       "<p>3 rows × 26 columns</p>\n",
       "</div>"
      ],
      "text/plain": [
       "    user_id  product_id  master_category_id  parent_category_id  \\\n",
       "0       400          41                  85                  84   \n",
       "79      400     3817489                  85                  84   \n",
       "78      400     3817484                  85                  84   \n",
       "\n",
       "    product_count  avg_discount  max_discount  min_discount   avg_price  \\\n",
       "0               1           0.0           0.0           0.0   59.000000   \n",
       "79              1           0.0           0.0           0.0  190.460007   \n",
       "78              2           0.0           0.0           0.0   45.349998   \n",
       "\n",
       "     max_price  ...  avg_order_size 17_sep_date  product_purchase_share  \\\n",
       "0    59.000000  ...            25.8  2020-09-17                0.007752   \n",
       "79  190.460007  ...            25.8  2020-09-17                0.007752   \n",
       "78   50.000000  ...            25.8  2020-09-17                0.015504   \n",
       "\n",
       "   last_order_days_ago first_order_days_ago  last_purchase_days_ago  \\\n",
       "0                   69                   95                      89   \n",
       "79                  69                   95                      89   \n",
       "78                  69                   95                      89   \n",
       "\n",
       "    freq_of_buying avg_quantile  max_quantile  min_quantile  \n",
       "0         0.000646     0.000102      0.000589      0.000004  \n",
       "79        0.014428     0.000430      0.003224      0.000000  \n",
       "78        0.019156     0.000080      0.001039      0.000004  \n",
       "\n",
       "[3 rows x 26 columns]"
      ]
     },
     "execution_count": 20,
     "metadata": {},
     "output_type": "execute_result"
    }
   ],
   "source": [
    "# replace Nans where possible\n",
    "\n",
    "features_for_test['product_purchase_share'] = features_for_test['product_purchase_share'].fillna(0)\n",
    "features_for_test['product_count'] = features_for_test['product_count'].fillna(0)\n",
    "\n",
    "features_for_test = pd.merge(features_for_test, \n",
    "                 products_and_cat[['product_id', 'master_category_id', \n",
    "                                   'parent_category_id', 'freq_of_buying', \n",
    "                                   'avg_quantile', 'max_quantile', 'min_quantile']], \n",
    "                 on=['product_id', 'master_category_id', 'parent_category_id'],\n",
    "                how='left')\n",
    "\n",
    "features_for_test = features_for_test.sort_values('user_id')\n",
    "\n",
    "features_for_test['freq_of_buying'] = features_for_test['freq_of_buying'].fillna(0)\n",
    "features_for_test['avg_quantile'] = features_for_test['avg_quantile'].fillna(0)\n",
    "features_for_test['max_quantile'] = features_for_test['max_quantile'].fillna(0)\n",
    "features_for_test['min_quantile'] = features_for_test['min_quantile'].fillna(0)\n",
    "\n",
    "features_for_test.head(3)"
   ]
  },
  {
   "cell_type": "code",
   "execution_count": 21,
   "metadata": {},
   "outputs": [
    {
     "data": {
      "text/plain": [
       "user_id                   False\n",
       "product_id                False\n",
       "master_category_id        False\n",
       "parent_category_id        False\n",
       "product_count             False\n",
       "avg_discount              False\n",
       "max_discount              False\n",
       "min_discount              False\n",
       "avg_price                 False\n",
       "max_price                 False\n",
       "min_price                 False\n",
       "last_date_purchase        False\n",
       "orders_count              False\n",
       "last_order_date           False\n",
       "first_order_date          False\n",
       "freq_retailer             False\n",
       "avg_order_size            False\n",
       "17_sep_date               False\n",
       "product_purchase_share    False\n",
       "last_order_days_ago       False\n",
       "first_order_days_ago      False\n",
       "last_purchase_days_ago    False\n",
       "freq_of_buying            False\n",
       "avg_quantile              False\n",
       "max_quantile              False\n",
       "min_quantile              False\n",
       "dtype: bool"
      ]
     },
     "execution_count": 21,
     "metadata": {},
     "output_type": "execute_result"
    }
   ],
   "source": [
    "features_for_test.isnull().any()"
   ]
  },
  {
   "cell_type": "code",
   "execution_count": 22,
   "metadata": {},
   "outputs": [
    {
     "data": {
      "text/plain": [
       "(13326681, 13326681)"
      ]
     },
     "execution_count": 22,
     "metadata": {},
     "output_type": "execute_result"
    }
   ],
   "source": [
    "len(features), len(features_for_test)"
   ]
  },
  {
   "cell_type": "code",
   "execution_count": 23,
   "metadata": {},
   "outputs": [
    {
     "data": {
      "text/plain": [
       "Index(['user_id', 'product_id', 'master_category_id', 'parent_category_id',\n",
       "       'product_count', 'avg_discount', 'max_discount', 'min_discount',\n",
       "       'avg_price', 'max_price', 'min_price', 'last_date_purchase',\n",
       "       'orders_count', 'last_order_date', 'first_order_date', 'freq_retailer',\n",
       "       'avg_order_size', '17_sep_date', 'product_purchase_share',\n",
       "       'last_order_days_ago', 'first_order_days_ago', 'last_purchase_days_ago',\n",
       "       'freq_of_buying', 'avg_quantile', 'max_quantile', 'min_quantile'],\n",
       "      dtype='object')"
      ]
     },
     "execution_count": 23,
     "metadata": {},
     "output_type": "execute_result"
    }
   ],
   "source": [
    "features_for_test.columns"
   ]
  },
  {
   "cell_type": "code",
   "execution_count": 24,
   "metadata": {},
   "outputs": [
    {
     "name": "stdout",
     "output_type": "stream",
     "text": [
      "84405\n"
     ]
    },
    {
     "data": {
      "text/html": [
       "<div>\n",
       "<style scoped>\n",
       "    .dataframe tbody tr th:only-of-type {\n",
       "        vertical-align: middle;\n",
       "    }\n",
       "\n",
       "    .dataframe tbody tr th {\n",
       "        vertical-align: top;\n",
       "    }\n",
       "\n",
       "    .dataframe thead th {\n",
       "        text-align: right;\n",
       "    }\n",
       "</style>\n",
       "<table border=\"1\" class=\"dataframe\">\n",
       "  <thead>\n",
       "    <tr style=\"text-align: right;\">\n",
       "      <th></th>\n",
       "      <th>user_id</th>\n",
       "      <th>product_id</th>\n",
       "      <th>master_category_id</th>\n",
       "      <th>parent_category_id</th>\n",
       "      <th>product_count</th>\n",
       "      <th>avg_discount</th>\n",
       "      <th>max_discount</th>\n",
       "      <th>min_discount</th>\n",
       "      <th>avg_price</th>\n",
       "      <th>max_price</th>\n",
       "      <th>...</th>\n",
       "      <th>17_sep_date</th>\n",
       "      <th>product_purchase_share</th>\n",
       "      <th>last_order_days_ago</th>\n",
       "      <th>first_order_days_ago</th>\n",
       "      <th>last_purchase_days_ago</th>\n",
       "      <th>freq_of_buying</th>\n",
       "      <th>avg_quantile</th>\n",
       "      <th>max_quantile</th>\n",
       "      <th>min_quantile</th>\n",
       "      <th>GroupId</th>\n",
       "    </tr>\n",
       "  </thead>\n",
       "  <tbody>\n",
       "    <tr>\n",
       "      <th>0</th>\n",
       "      <td>400</td>\n",
       "      <td>41</td>\n",
       "      <td>85</td>\n",
       "      <td>84</td>\n",
       "      <td>1</td>\n",
       "      <td>0.0</td>\n",
       "      <td>0.0</td>\n",
       "      <td>0.0</td>\n",
       "      <td>59.000000</td>\n",
       "      <td>59.000000</td>\n",
       "      <td>...</td>\n",
       "      <td>2020-09-17</td>\n",
       "      <td>0.007752</td>\n",
       "      <td>69</td>\n",
       "      <td>95</td>\n",
       "      <td>89</td>\n",
       "      <td>0.000646</td>\n",
       "      <td>0.000102</td>\n",
       "      <td>0.000589</td>\n",
       "      <td>0.000004</td>\n",
       "      <td>400</td>\n",
       "    </tr>\n",
       "    <tr>\n",
       "      <th>79</th>\n",
       "      <td>400</td>\n",
       "      <td>3817489</td>\n",
       "      <td>85</td>\n",
       "      <td>84</td>\n",
       "      <td>1</td>\n",
       "      <td>0.0</td>\n",
       "      <td>0.0</td>\n",
       "      <td>0.0</td>\n",
       "      <td>190.460007</td>\n",
       "      <td>190.460007</td>\n",
       "      <td>...</td>\n",
       "      <td>2020-09-17</td>\n",
       "      <td>0.007752</td>\n",
       "      <td>69</td>\n",
       "      <td>95</td>\n",
       "      <td>89</td>\n",
       "      <td>0.014428</td>\n",
       "      <td>0.000430</td>\n",
       "      <td>0.003224</td>\n",
       "      <td>0.000000</td>\n",
       "      <td>400</td>\n",
       "    </tr>\n",
       "    <tr>\n",
       "      <th>78</th>\n",
       "      <td>400</td>\n",
       "      <td>3817484</td>\n",
       "      <td>85</td>\n",
       "      <td>84</td>\n",
       "      <td>2</td>\n",
       "      <td>0.0</td>\n",
       "      <td>0.0</td>\n",
       "      <td>0.0</td>\n",
       "      <td>45.349998</td>\n",
       "      <td>50.000000</td>\n",
       "      <td>...</td>\n",
       "      <td>2020-09-17</td>\n",
       "      <td>0.015504</td>\n",
       "      <td>69</td>\n",
       "      <td>95</td>\n",
       "      <td>89</td>\n",
       "      <td>0.019156</td>\n",
       "      <td>0.000080</td>\n",
       "      <td>0.001039</td>\n",
       "      <td>0.000004</td>\n",
       "      <td>400</td>\n",
       "    </tr>\n",
       "  </tbody>\n",
       "</table>\n",
       "<p>3 rows × 27 columns</p>\n",
       "</div>"
      ],
      "text/plain": [
       "    user_id  product_id  master_category_id  parent_category_id  \\\n",
       "0       400          41                  85                  84   \n",
       "79      400     3817489                  85                  84   \n",
       "78      400     3817484                  85                  84   \n",
       "\n",
       "    product_count  avg_discount  max_discount  min_discount   avg_price  \\\n",
       "0               1           0.0           0.0           0.0   59.000000   \n",
       "79              1           0.0           0.0           0.0  190.460007   \n",
       "78              2           0.0           0.0           0.0   45.349998   \n",
       "\n",
       "     max_price  ...  17_sep_date product_purchase_share  last_order_days_ago  \\\n",
       "0    59.000000  ...   2020-09-17               0.007752                   69   \n",
       "79  190.460007  ...   2020-09-17               0.007752                   69   \n",
       "78   50.000000  ...   2020-09-17               0.015504                   69   \n",
       "\n",
       "   first_order_days_ago last_purchase_days_ago  freq_of_buying  avg_quantile  \\\n",
       "0                    95                     89        0.000646      0.000102   \n",
       "79                   95                     89        0.014428      0.000430   \n",
       "78                   95                     89        0.019156      0.000080   \n",
       "\n",
       "   max_quantile  min_quantile  GroupId  \n",
       "0      0.000589      0.000004      400  \n",
       "79     0.003224      0.000000      400  \n",
       "78     0.001039      0.000004      400  \n",
       "\n",
       "[3 rows x 27 columns]"
      ]
     },
     "execution_count": 24,
     "metadata": {},
     "output_type": "execute_result"
    }
   ],
   "source": [
    "features_for_test['GroupId'] = features_for_test['user_id'].apply(str)\n",
    "\n",
    "# train_labels = train['target']\n",
    "# train = train.drop(columns=['target'])\n",
    "\n",
    "print(len(set(features_for_test['GroupId'])))\n",
    "features_for_test.head(3)"
   ]
  },
  {
   "cell_type": "code",
   "execution_count": 25,
   "metadata": {},
   "outputs": [],
   "source": [
    "features_for_test.to_csv('features_v17.csv')"
   ]
  },
  {
   "cell_type": "code",
   "execution_count": 26,
   "metadata": {},
   "outputs": [
    {
     "data": {
      "text/plain": [
       "user_id                            int64\n",
       "product_id                         int64\n",
       "master_category_id                 int64\n",
       "parent_category_id                 int64\n",
       "product_count                      int64\n",
       "avg_discount                     float32\n",
       "max_discount                     float32\n",
       "min_discount                     float32\n",
       "avg_price                        float32\n",
       "max_price                        float32\n",
       "min_price                        float32\n",
       "last_date_purchase        datetime64[ns]\n",
       "orders_count                       int64\n",
       "last_order_date           datetime64[ns]\n",
       "first_order_date          datetime64[ns]\n",
       "freq_retailer                      int32\n",
       "avg_order_size                   float64\n",
       "17_sep_date               datetime64[ns]\n",
       "product_purchase_share           float64\n",
       "last_order_days_ago                int64\n",
       "first_order_days_ago               int64\n",
       "last_purchase_days_ago             int64\n",
       "freq_of_buying                   float64\n",
       "avg_quantile                     float32\n",
       "max_quantile                     float32\n",
       "min_quantile                     float32\n",
       "GroupId                           object\n",
       "dtype: object"
      ]
     },
     "execution_count": 26,
     "metadata": {},
     "output_type": "execute_result"
    }
   ],
   "source": [
    "features_for_test.dtypes"
   ]
  },
  {
   "cell_type": "code",
   "execution_count": null,
   "metadata": {},
   "outputs": [],
   "source": []
  },
  {
   "cell_type": "code",
   "execution_count": null,
   "metadata": {},
   "outputs": [],
   "source": []
  },
  {
   "cell_type": "code",
   "execution_count": null,
   "metadata": {},
   "outputs": [],
   "source": []
  },
  {
   "cell_type": "code",
   "execution_count": null,
   "metadata": {},
   "outputs": [],
   "source": []
  },
  {
   "cell_type": "code",
   "execution_count": null,
   "metadata": {},
   "outputs": [],
   "source": []
  },
  {
   "cell_type": "code",
   "execution_count": null,
   "metadata": {},
   "outputs": [],
   "source": []
  },
  {
   "cell_type": "code",
   "execution_count": null,
   "metadata": {},
   "outputs": [],
   "source": []
  },
  {
   "cell_type": "code",
   "execution_count": null,
   "metadata": {},
   "outputs": [],
   "source": []
  },
  {
   "cell_type": "code",
   "execution_count": null,
   "metadata": {},
   "outputs": [],
   "source": []
  },
  {
   "cell_type": "markdown",
   "metadata": {
    "id": "zt0YrpnhSMLv"
   },
   "source": [
    "### Модель\n"
   ]
  },
  {
   "cell_type": "code",
   "execution_count": 58,
   "metadata": {
    "id": "dMb46nFkRr-o"
   },
   "outputs": [],
   "source": [
    "import ml_metrics as metrics\n",
    "from catboost import CatBoost, CatBoostClassifier, Pool"
   ]
  },
  {
   "cell_type": "code",
   "execution_count": 59,
   "metadata": {},
   "outputs": [
    {
     "data": {
      "text/plain": [
       "user_id                     int64\n",
       "product_id                  int64\n",
       "master_category_id        float64\n",
       "parent_category_id        float64\n",
       "product_count             float64\n",
       "avg_discount              float32\n",
       "max_discount              float32\n",
       "min_discount              float32\n",
       "avg_price                 float32\n",
       "max_price                 float32\n",
       "min_price                 float32\n",
       "target                    float64\n",
       "orders_count                int64\n",
       "freq_retailer               int32\n",
       "avg_order_size            float64\n",
       "product_purchase_share    float64\n",
       "last_order_days_ago         int64\n",
       "first_order_days_ago        int64\n",
       "last_purchase_days_ago    float64\n",
       "freq_of_buying            float64\n",
       "avg_quantile              float32\n",
       "max_quantile              float32\n",
       "min_quantile              float32\n",
       "dtype: object"
      ]
     },
     "execution_count": 59,
     "metadata": {},
     "output_type": "execute_result"
    }
   ],
   "source": [
    "train_final.dtypes"
   ]
  },
  {
   "cell_type": "code",
   "execution_count": 60,
   "metadata": {},
   "outputs": [
    {
     "data": {
      "text/plain": [
       "user_id                     int32\n",
       "product_id                  int32\n",
       "master_category_id          int32\n",
       "parent_category_id          int32\n",
       "product_count               int32\n",
       "avg_discount              float32\n",
       "max_discount              float32\n",
       "min_discount              float32\n",
       "avg_price                 float32\n",
       "max_price                 float32\n",
       "min_price                 float32\n",
       "target                      int32\n",
       "orders_count                int64\n",
       "freq_retailer               int32\n",
       "avg_order_size            float64\n",
       "product_purchase_share    float64\n",
       "last_order_days_ago         int32\n",
       "first_order_days_ago        int32\n",
       "last_purchase_days_ago    float64\n",
       "freq_of_buying            float64\n",
       "avg_quantile              float32\n",
       "max_quantile              float32\n",
       "min_quantile              float32\n",
       "dtype: object"
      ]
     },
     "execution_count": 60,
     "metadata": {},
     "output_type": "execute_result"
    }
   ],
   "source": [
    "train_final = train_final.astype({\n",
    "    'master_category_id' : 'int32', \n",
    "    'parent_category_id' : 'int32',\n",
    "    'last_order_days_ago' : 'int32', \n",
    "    'first_order_days_ago' : 'int32',\n",
    "    'target' : 'int32',\n",
    "    'product_count' : 'int32',\n",
    "    'user_id' : 'int32',\n",
    "    'product_id' : 'int32',\n",
    "})\n",
    "\n",
    "train_final.dtypes"
   ]
  },
  {
   "cell_type": "code",
   "execution_count": 61,
   "metadata": {
    "colab": {
     "base_uri": "https://localhost:8080/",
     "height": 34
    },
    "id": "sivE8PFMPD9D",
    "outputId": "ee71005e-ab95-41d7-9826-eda806312453"
   },
   "outputs": [
    {
     "name": "stdout",
     "output_type": "stream",
     "text": [
      "83677\n"
     ]
    },
    {
     "data": {
      "text/html": [
       "<div>\n",
       "<style scoped>\n",
       "    .dataframe tbody tr th:only-of-type {\n",
       "        vertical-align: middle;\n",
       "    }\n",
       "\n",
       "    .dataframe tbody tr th {\n",
       "        vertical-align: top;\n",
       "    }\n",
       "\n",
       "    .dataframe thead th {\n",
       "        text-align: right;\n",
       "    }\n",
       "</style>\n",
       "<table border=\"1\" class=\"dataframe\">\n",
       "  <thead>\n",
       "    <tr style=\"text-align: right;\">\n",
       "      <th></th>\n",
       "      <th>user_id</th>\n",
       "      <th>product_id</th>\n",
       "      <th>master_category_id</th>\n",
       "      <th>parent_category_id</th>\n",
       "      <th>product_count</th>\n",
       "      <th>avg_discount</th>\n",
       "      <th>max_discount</th>\n",
       "      <th>min_discount</th>\n",
       "      <th>avg_price</th>\n",
       "      <th>max_price</th>\n",
       "      <th>...</th>\n",
       "      <th>avg_order_size</th>\n",
       "      <th>product_purchase_share</th>\n",
       "      <th>last_order_days_ago</th>\n",
       "      <th>first_order_days_ago</th>\n",
       "      <th>last_purchase_days_ago</th>\n",
       "      <th>freq_of_buying</th>\n",
       "      <th>avg_quantile</th>\n",
       "      <th>max_quantile</th>\n",
       "      <th>min_quantile</th>\n",
       "      <th>GroupId</th>\n",
       "    </tr>\n",
       "  </thead>\n",
       "  <tbody>\n",
       "    <tr>\n",
       "      <th>0</th>\n",
       "      <td>400</td>\n",
       "      <td>41</td>\n",
       "      <td>85</td>\n",
       "      <td>84</td>\n",
       "      <td>1</td>\n",
       "      <td>0.00</td>\n",
       "      <td>0.00</td>\n",
       "      <td>0.00</td>\n",
       "      <td>59.000000</td>\n",
       "      <td>59.000000</td>\n",
       "      <td>...</td>\n",
       "      <td>26.75</td>\n",
       "      <td>0.009346</td>\n",
       "      <td>79</td>\n",
       "      <td>95</td>\n",
       "      <td>89.0</td>\n",
       "      <td>0.000717</td>\n",
       "      <td>0.000102</td>\n",
       "      <td>0.000589</td>\n",
       "      <td>0.000004</td>\n",
       "      <td>400</td>\n",
       "    </tr>\n",
       "    <tr>\n",
       "      <th>43</th>\n",
       "      <td>400</td>\n",
       "      <td>67549</td>\n",
       "      <td>60</td>\n",
       "      <td>56</td>\n",
       "      <td>1</td>\n",
       "      <td>30.10</td>\n",
       "      <td>30.10</td>\n",
       "      <td>30.10</td>\n",
       "      <td>39.900002</td>\n",
       "      <td>39.900002</td>\n",
       "      <td>...</td>\n",
       "      <td>26.75</td>\n",
       "      <td>0.009346</td>\n",
       "      <td>79</td>\n",
       "      <td>95</td>\n",
       "      <td>79.0</td>\n",
       "      <td>0.002446</td>\n",
       "      <td>0.056352</td>\n",
       "      <td>0.105905</td>\n",
       "      <td>0.000000</td>\n",
       "      <td>400</td>\n",
       "    </tr>\n",
       "    <tr>\n",
       "      <th>44</th>\n",
       "      <td>400</td>\n",
       "      <td>69033</td>\n",
       "      <td>76</td>\n",
       "      <td>74</td>\n",
       "      <td>2</td>\n",
       "      <td>14.79</td>\n",
       "      <td>14.79</td>\n",
       "      <td>14.79</td>\n",
       "      <td>26.900000</td>\n",
       "      <td>26.900000</td>\n",
       "      <td>...</td>\n",
       "      <td>26.75</td>\n",
       "      <td>0.018692</td>\n",
       "      <td>79</td>\n",
       "      <td>95</td>\n",
       "      <td>95.0</td>\n",
       "      <td>0.005067</td>\n",
       "      <td>0.054150</td>\n",
       "      <td>0.088318</td>\n",
       "      <td>0.046210</td>\n",
       "      <td>400</td>\n",
       "    </tr>\n",
       "  </tbody>\n",
       "</table>\n",
       "<p>3 rows × 24 columns</p>\n",
       "</div>"
      ],
      "text/plain": [
       "    user_id  product_id  master_category_id  parent_category_id  \\\n",
       "0       400          41                  85                  84   \n",
       "43      400       67549                  60                  56   \n",
       "44      400       69033                  76                  74   \n",
       "\n",
       "    product_count  avg_discount  max_discount  min_discount  avg_price  \\\n",
       "0               1          0.00          0.00          0.00  59.000000   \n",
       "43              1         30.10         30.10         30.10  39.900002   \n",
       "44              2         14.79         14.79         14.79  26.900000   \n",
       "\n",
       "    max_price  ...  avg_order_size  product_purchase_share  \\\n",
       "0   59.000000  ...           26.75                0.009346   \n",
       "43  39.900002  ...           26.75                0.009346   \n",
       "44  26.900000  ...           26.75                0.018692   \n",
       "\n",
       "    last_order_days_ago  first_order_days_ago  last_purchase_days_ago  \\\n",
       "0                    79                    95                    89.0   \n",
       "43                   79                    95                    79.0   \n",
       "44                   79                    95                    95.0   \n",
       "\n",
       "    freq_of_buying  avg_quantile  max_quantile  min_quantile  GroupId  \n",
       "0         0.000717      0.000102      0.000589      0.000004      400  \n",
       "43        0.002446      0.056352      0.105905      0.000000      400  \n",
       "44        0.005067      0.054150      0.088318      0.046210      400  \n",
       "\n",
       "[3 rows x 24 columns]"
      ]
     },
     "execution_count": 61,
     "metadata": {},
     "output_type": "execute_result"
    }
   ],
   "source": [
    "train_final['GroupId'] = train_final['user_id'].apply(str)\n",
    "\n",
    "# train_labels = train['target']\n",
    "# train = train.drop(columns=['target'])\n",
    "\n",
    "print(len(set(train_final['GroupId'])))\n",
    "train_final.head(3)"
   ]
  },
  {
   "cell_type": "code",
   "execution_count": 62,
   "metadata": {},
   "outputs": [],
   "source": [
    "train_final.to_csv('train_v6.csv')"
   ]
  },
  {
   "cell_type": "code",
   "execution_count": null,
   "metadata": {},
   "outputs": [],
   "source": []
  },
  {
   "cell_type": "markdown",
   "metadata": {},
   "source": [
    "### ДАЛЬШЕ НЕ ЧИТАТЬ ЭТО АППЕНДИКС))))"
   ]
  },
  {
   "cell_type": "code",
   "execution_count": 36,
   "metadata": {
    "id": "CYmzTUR4ntFp"
   },
   "outputs": [],
   "source": [
    "def calculate_mapk(predictions, test=True):\n",
    "    if test:\n",
    "        res = train.iloc[train_size: train_size + test_size]\n",
    "    else:\n",
    "        res = train.iloc[:train_size]\n",
    "    \n",
    "    res.loc[:, 'pred'] = predictions\n",
    "    res = res.sort_values(['user_id', 'pred'], ascending=False)\n",
    "\n",
    "    predicted_lists = res.groupby('user_id')['product_id'].apply(list)\n",
    "\n",
    "    if test:\n",
    "        actual_lists = res[train_labels.iloc[train_size: train_size + test_size] == 1].groupby('user_id')['product_id'].apply(list)\n",
    "        actual_lists = [l[:50] for l in actual_lists.tolist()] \n",
    "    else:\n",
    "        actual_lists = res[train_labels.iloc[:train_size] == 1].groupby('user_id')['product_id'].apply(list)\n",
    "        actual_lists = [l[:50] for l in actual_lists.tolist()] \n",
    "\n",
    "    return metrics.mapk(actual_lists, predicted_lists.tolist(), 50)\n",
    "    "
   ]
  },
  {
   "cell_type": "code",
   "execution_count": 37,
   "metadata": {
    "colab": {
     "base_uri": "https://localhost:8080/",
     "height": 655,
     "referenced_widgets": [
      "4acc08f71c13453cad15db7a6c503353",
      "c39d05c715cf4a7e90bb6ef05e4b0b94"
     ]
    },
    "id": "mpnHsyU3RsDT",
    "outputId": "e9e85238-515e-43a4-f020-f8335e82e2b8"
   },
   "outputs": [
    {
     "ename": "CatBoostError",
     "evalue": "Invalid type for cat_feature[non-default value idx=0,feature_idx=2]=85.0 : cat_features must be integer or string, real number values and NaN values should be converted to string.",
     "output_type": "error",
     "traceback": [
      "\u001b[1;31m---------------------------------------------------------------------------\u001b[0m",
      "\u001b[1;31mCatBoostError\u001b[0m                             Traceback (most recent call last)",
      "\u001b[1;32m_catboost.pyx\u001b[0m in \u001b[0;36m_catboost.get_cat_factor_bytes_representation\u001b[1;34m()\u001b[0m\n",
      "\u001b[1;32m_catboost.pyx\u001b[0m in \u001b[0;36m_catboost.get_id_object_bytes_string_representation\u001b[1;34m()\u001b[0m\n",
      "\u001b[1;31mCatBoostError\u001b[0m: bad object for id: 85.0",
      "\nDuring handling of the above exception, another exception occurred:\n",
      "\u001b[1;31mCatBoostError\u001b[0m                             Traceback (most recent call last)",
      "\u001b[1;32m<timed exec>\u001b[0m in \u001b[0;36m<module>\u001b[1;34m\u001b[0m\n",
      "\u001b[1;32mD:\\programs\\anaconda3\\lib\\site-packages\\catboost\\core.py\u001b[0m in \u001b[0;36m__init__\u001b[1;34m(self, data, label, cat_features, text_features, embedding_features, column_description, pairs, delimiter, has_header, ignore_csv_quoting, weight, group_id, group_weight, subgroup_id, pairs_weight, baseline, feature_names, thread_count)\u001b[0m\n\u001b[0;32m    453\u001b[0m                     )\n\u001b[0;32m    454\u001b[0m \u001b[1;33m\u001b[0m\u001b[0m\n\u001b[1;32m--> 455\u001b[1;33m                 \u001b[0mself\u001b[0m\u001b[1;33m.\u001b[0m\u001b[0m_init\u001b[0m\u001b[1;33m(\u001b[0m\u001b[0mdata\u001b[0m\u001b[1;33m,\u001b[0m \u001b[0mlabel\u001b[0m\u001b[1;33m,\u001b[0m \u001b[0mcat_features\u001b[0m\u001b[1;33m,\u001b[0m \u001b[0mtext_features\u001b[0m\u001b[1;33m,\u001b[0m \u001b[0membedding_features\u001b[0m\u001b[1;33m,\u001b[0m \u001b[0mpairs\u001b[0m\u001b[1;33m,\u001b[0m \u001b[0mweight\u001b[0m\u001b[1;33m,\u001b[0m \u001b[0mgroup_id\u001b[0m\u001b[1;33m,\u001b[0m \u001b[0mgroup_weight\u001b[0m\u001b[1;33m,\u001b[0m \u001b[0msubgroup_id\u001b[0m\u001b[1;33m,\u001b[0m \u001b[0mpairs_weight\u001b[0m\u001b[1;33m,\u001b[0m \u001b[0mbaseline\u001b[0m\u001b[1;33m,\u001b[0m \u001b[0mfeature_names\u001b[0m\u001b[1;33m,\u001b[0m \u001b[0mthread_count\u001b[0m\u001b[1;33m)\u001b[0m\u001b[1;33m\u001b[0m\u001b[1;33m\u001b[0m\u001b[0m\n\u001b[0m\u001b[0;32m    456\u001b[0m         \u001b[0msuper\u001b[0m\u001b[1;33m(\u001b[0m\u001b[0mPool\u001b[0m\u001b[1;33m,\u001b[0m \u001b[0mself\u001b[0m\u001b[1;33m)\u001b[0m\u001b[1;33m.\u001b[0m\u001b[0m__init__\u001b[0m\u001b[1;33m(\u001b[0m\u001b[1;33m)\u001b[0m\u001b[1;33m\u001b[0m\u001b[1;33m\u001b[0m\u001b[0m\n\u001b[0;32m    457\u001b[0m \u001b[1;33m\u001b[0m\u001b[0m\n",
      "\u001b[1;32mD:\\programs\\anaconda3\\lib\\site-packages\\catboost\\core.py\u001b[0m in \u001b[0;36m_init\u001b[1;34m(self, data, label, cat_features, text_features, embedding_features, pairs, weight, group_id, group_weight, subgroup_id, pairs_weight, baseline, feature_names, thread_count)\u001b[0m\n\u001b[0;32m    964\u001b[0m             \u001b[0mbaseline\u001b[0m \u001b[1;33m=\u001b[0m \u001b[0mnp\u001b[0m\u001b[1;33m.\u001b[0m\u001b[0mreshape\u001b[0m\u001b[1;33m(\u001b[0m\u001b[0mbaseline\u001b[0m\u001b[1;33m,\u001b[0m \u001b[1;33m(\u001b[0m\u001b[0msamples_count\u001b[0m\u001b[1;33m,\u001b[0m \u001b[1;33m-\u001b[0m\u001b[1;36m1\u001b[0m\u001b[1;33m)\u001b[0m\u001b[1;33m)\u001b[0m\u001b[1;33m\u001b[0m\u001b[1;33m\u001b[0m\u001b[0m\n\u001b[0;32m    965\u001b[0m             \u001b[0mself\u001b[0m\u001b[1;33m.\u001b[0m\u001b[0m_check_baseline_shape\u001b[0m\u001b[1;33m(\u001b[0m\u001b[0mbaseline\u001b[0m\u001b[1;33m,\u001b[0m \u001b[0msamples_count\u001b[0m\u001b[1;33m)\u001b[0m\u001b[1;33m\u001b[0m\u001b[1;33m\u001b[0m\u001b[0m\n\u001b[1;32m--> 966\u001b[1;33m         \u001b[0mself\u001b[0m\u001b[1;33m.\u001b[0m\u001b[0m_init_pool\u001b[0m\u001b[1;33m(\u001b[0m\u001b[0mdata\u001b[0m\u001b[1;33m,\u001b[0m \u001b[0mlabel\u001b[0m\u001b[1;33m,\u001b[0m \u001b[0mcat_features\u001b[0m\u001b[1;33m,\u001b[0m \u001b[0mtext_features\u001b[0m\u001b[1;33m,\u001b[0m \u001b[0membedding_features\u001b[0m\u001b[1;33m,\u001b[0m \u001b[0mpairs\u001b[0m\u001b[1;33m,\u001b[0m \u001b[0mweight\u001b[0m\u001b[1;33m,\u001b[0m \u001b[0mgroup_id\u001b[0m\u001b[1;33m,\u001b[0m \u001b[0mgroup_weight\u001b[0m\u001b[1;33m,\u001b[0m \u001b[0msubgroup_id\u001b[0m\u001b[1;33m,\u001b[0m \u001b[0mpairs_weight\u001b[0m\u001b[1;33m,\u001b[0m \u001b[0mbaseline\u001b[0m\u001b[1;33m,\u001b[0m \u001b[0mfeature_names\u001b[0m\u001b[1;33m,\u001b[0m \u001b[0mthread_count\u001b[0m\u001b[1;33m)\u001b[0m\u001b[1;33m\u001b[0m\u001b[1;33m\u001b[0m\u001b[0m\n\u001b[0m\u001b[0;32m    967\u001b[0m \u001b[1;33m\u001b[0m\u001b[0m\n\u001b[0;32m    968\u001b[0m \u001b[1;33m\u001b[0m\u001b[0m\n",
      "\u001b[1;32m_catboost.pyx\u001b[0m in \u001b[0;36m_catboost._PoolBase._init_pool\u001b[1;34m()\u001b[0m\n",
      "\u001b[1;32m_catboost.pyx\u001b[0m in \u001b[0;36m_catboost._PoolBase._init_pool\u001b[1;34m()\u001b[0m\n",
      "\u001b[1;32m_catboost.pyx\u001b[0m in \u001b[0;36m_catboost._PoolBase._init_features_order_layout_pool\u001b[1;34m()\u001b[0m\n",
      "\u001b[1;32m_catboost.pyx\u001b[0m in \u001b[0;36m_catboost._set_features_order_data_pd_data_frame\u001b[1;34m()\u001b[0m\n",
      "\u001b[1;32m_catboost.pyx\u001b[0m in \u001b[0;36m_catboost.get_cat_factor_bytes_representation\u001b[1;34m()\u001b[0m\n",
      "\u001b[1;31mCatBoostError\u001b[0m: Invalid type for cat_feature[non-default value idx=0,feature_idx=2]=85.0 : cat_features must be integer or string, real number values and NaN values should be converted to string."
     ]
    }
   ],
   "source": [
    "%%time\n",
    "param = {\n",
    "    'iterations': 50, \n",
    "    'task_type': 'CPU', \n",
    "    'loss_function': 'YetiRank',\n",
    "    'cat_features': ['master_category_id', 'parent_category_id', 'product_id'],\n",
    "}\n",
    "model = CatBoost(param)\n",
    "train_size = int(len(train) * 0.1)\n",
    "test_size = int(len(train) * 0.1)\n",
    "train_pool = Pool(\n",
    "    data=train.iloc[:train_size], \n",
    "    label=train_labels.iloc[:train_size], \n",
    "    group_id=train.iloc[:train_size]['GroupId'],\n",
    "    cat_features=['master_category_id', 'parent_category_id', 'product_id'],\n",
    ")\n",
    "test_pool = Pool(\n",
    "    data=train.iloc[train_size: train_size + test_size], \n",
    "    label=train_labels.iloc[train_size: train_size + test_size], \n",
    "    group_id=train.iloc[train_size: train_size + test_size]['GroupId'],\n",
    "    cat_features=['master_category_id', 'parent_category_id', 'product_id'],\n",
    ")\n",
    "model.fit(train_pool, verbose=0, plot=True)\n",
    "\n",
    "from sklearn.metrics import roc_auc_score\n",
    "\n",
    "predictions = model.predict(train_pool)\n",
    "print('train auc', roc_auc_score(train_pool.get_label(), predictions))\n",
    "print('train MAP@k', calculate_mapk(predictions, False))\n",
    "\n",
    "predictions = model.predict(test_pool)\n",
    "print('test auc', roc_auc_score(test_pool.get_label(), predictions))\n",
    "print('test MAP@k', calculate_mapk(predictions, True))"
   ]
  },
  {
   "cell_type": "code",
   "execution_count": 71,
   "metadata": {
    "colab": {
     "base_uri": "https://localhost:8080/",
     "height": 195
    },
    "id": "JzSmRuC6wciq",
    "outputId": "c5ecee70-946f-45a0-b436-401dc1793074"
   },
   "outputs": [],
   "source": [
    "importances = model.get_feature_importance(train_pool)"
   ]
  },
  {
   "cell_type": "code",
   "execution_count": 78,
   "metadata": {
    "colab": {
     "base_uri": "https://localhost:8080/",
     "height": 286
    },
    "id": "gxytzU5Awcm6",
    "outputId": "101b9779-68c3-4c6b-af97-ca855773a6c6"
   },
   "outputs": [
    {
     "name": "stdout",
     "output_type": "stream",
     "text": [
      "product_count, 0.02632665\n",
      "product_id, 0.01084888\n",
      "max_discount, 0.00086650\n",
      "master_category_id, 0.00029641\n",
      "avg_discount, 0.00009950\n",
      "min_discount, 0.00004216\n",
      "min_price, 0.00002497\n",
      "max_price, 0.00000603\n",
      "user_id, 0.00000000\n",
      "avg_price, 0.00000000\n",
      "GroupId, 0.00000000\n",
      "parent_category_id, -0.00007575\n"
     ]
    }
   ],
   "source": [
    "for name, importance in sorted(zip(model.feature_names_, importances), key=lambda x: x[1], reverse=True):\n",
    "    # print(\"%s, %.8f\" % (f, importances[i]))\n",
    "    print(f'{name}, {importance:.8f}')"
   ]
  },
  {
   "cell_type": "code",
   "execution_count": null,
   "metadata": {
    "id": "15OKdn9Wwcte"
   },
   "outputs": [],
   "source": []
  },
  {
   "cell_type": "code",
   "execution_count": null,
   "metadata": {
    "id": "3-PG8K1cwcla"
   },
   "outputs": [],
   "source": []
  },
  {
   "cell_type": "code",
   "execution_count": null,
   "metadata": {
    "id": "QFKC3OOsl6Gj"
   },
   "outputs": [],
   "source": []
  },
  {
   "cell_type": "markdown",
   "metadata": {
    "id": "oF9sGZh-q2UT"
   },
   "source": [
    "### Submit"
   ]
  },
  {
   "cell_type": "code",
   "execution_count": null,
   "metadata": {},
   "outputs": [],
   "source": [
    "%%time\n",
    "param = {\n",
    "    'iterations': 50, \n",
    "    'task_type': 'CPU', \n",
    "    'loss_function': 'YetiRank',\n",
    "    'cat_features': ['master_category_id', 'parent_category_id', 'product_id'],\n",
    "}\n",
    "model_2 = CatBoost(param)\n",
    "train_size = len(train)\n",
    "# test_size = int(len(train) * 0.3)\n",
    "train_pool = Pool(\n",
    "    data=train.iloc[:train_size], \n",
    "    label=train_labels.iloc[:train_size], \n",
    "    group_id=train.iloc[:train_size]['GroupId'],\n",
    "    cat_features=['master_category_id', 'parent_category_id', 'product_id'],\n",
    ")\n",
    "# test_pool = Pool(\n",
    "#     data=train.iloc[train_size: train_size + test_size], \n",
    "#     label=train_labels.iloc[train_size: train_size + test_size], \n",
    "#     group_id=train.iloc[train_size: train_size + test_size]['GroupId'],\n",
    "#     cat_features=['master_category_id', 'parent_category_id', 'product_id'],\n",
    "# )\n",
    "model_2.fit(train_pool, verbose=0, plot=True)\n",
    "\n",
    "from sklearn.metrics import roc_auc_score\n",
    "\n",
    "predictions = model_2.predict(train_pool)\n",
    "print('train auc', roc_auc_score(train_pool.get_label(), predictions))\n",
    "print('train MAP@k', calculate_mapk(predictions, False))\n",
    "\n",
    "# predictions = model_2.predict(test_pool)\n",
    "# print('test auc', roc_auc_score(test_pool.get_label(), predictions))\n",
    "# print('test MAP@k', calculate_mapk(predictions, True))"
   ]
  },
  {
   "cell_type": "code",
   "execution_count": null,
   "metadata": {},
   "outputs": [],
   "source": []
  },
  {
   "cell_type": "code",
   "execution_count": null,
   "metadata": {},
   "outputs": [],
   "source": []
  },
  {
   "cell_type": "code",
   "execution_count": null,
   "metadata": {},
   "outputs": [],
   "source": [
    "#"
   ]
  },
  {
   "cell_type": "code",
   "execution_count": null,
   "metadata": {},
   "outputs": [],
   "source": []
  }
 ],
 "metadata": {
  "accelerator": "GPU",
  "colab": {
   "collapsed_sections": [],
   "name": "CatBoost.ipynb",
   "provenance": []
  },
  "kernelspec": {
   "display_name": "Python 3",
   "language": "python",
   "name": "python3"
  },
  "language_info": {
   "codemirror_mode": {
    "name": "ipython",
    "version": 3
   },
   "file_extension": ".py",
   "mimetype": "text/x-python",
   "name": "python",
   "nbconvert_exporter": "python",
   "pygments_lexer": "ipython3",
   "version": "3.8.3"
  },
  "widgets": {
   "application/vnd.jupyter.widget-state+json": {
    "4acc08f71c13453cad15db7a6c503353": {
     "model_module": "@jupyter-widgets/base",
     "model_name": "DOMWidgetModel",
     "state": {
      "_dom_classes": [],
      "_model_module": "@jupyter-widgets/base",
      "_model_module_version": "1.2.0",
      "_model_name": "DOMWidgetModel",
      "_view_count": null,
      "_view_module": "catboost_module",
      "_view_module_version": "",
      "_view_name": "CatboostIpythonWidgetView",
      "data": {
       "catboost_info": {
        "content": {
         "data": {
          "iterations": [
           {
            "iteration": 0,
            "passed_time": 0.4098448371,
            "remaining_time": 20.08239702
           },
           {
            "iteration": 1,
            "passed_time": 0.6958574784,
            "remaining_time": 16.70057948
           },
           {
            "iteration": 2,
            "passed_time": 0.9791317181,
            "remaining_time": 15.33973025
           },
           {
            "iteration": 3,
            "passed_time": 1.266914746,
            "remaining_time": 14.56951958
           },
           {
            "iteration": 4,
            "passed_time": 1.554761966,
            "remaining_time": 13.9928577
           },
           {
            "iteration": 5,
            "passed_time": 1.839716878,
            "remaining_time": 13.4912571
           },
           {
            "iteration": 6,
            "passed_time": 2.137431011,
            "remaining_time": 13.12993335
           },
           {
            "iteration": 7,
            "passed_time": 2.426358063,
            "remaining_time": 12.73837983
           },
           {
            "iteration": 8,
            "passed_time": 2.716806822,
            "remaining_time": 12.37656441
           },
           {
            "iteration": 9,
            "passed_time": 3.011345029,
            "remaining_time": 12.04538012
           },
           {
            "iteration": 10,
            "passed_time": 3.297762972,
            "remaining_time": 11.69206872
           },
           {
            "iteration": 11,
            "passed_time": 3.586183119,
            "remaining_time": 11.35624654
           },
           {
            "iteration": 12,
            "passed_time": 3.872505995,
            "remaining_time": 11.02174783
           },
           {
            "iteration": 13,
            "passed_time": 4.174939575,
            "remaining_time": 10.73555891
           },
           {
            "iteration": 14,
            "passed_time": 4.463745942,
            "remaining_time": 10.4154072
           },
           {
            "iteration": 15,
            "passed_time": 4.760168656,
            "remaining_time": 10.11535839
           },
           {
            "iteration": 16,
            "passed_time": 5.048443569,
            "remaining_time": 9.799919869
           },
           {
            "iteration": 17,
            "passed_time": 5.335668599,
            "remaining_time": 9.485633065
           },
           {
            "iteration": 18,
            "passed_time": 5.62312141,
            "remaining_time": 9.17456651
           },
           {
            "iteration": 19,
            "passed_time": 5.91355957,
            "remaining_time": 8.870339355
           },
           {
            "iteration": 20,
            "passed_time": 6.209026204,
            "remaining_time": 8.57436952
           },
           {
            "iteration": 21,
            "passed_time": 6.498560977,
            "remaining_time": 8.270895789
           },
           {
            "iteration": 22,
            "passed_time": 6.798469985,
            "remaining_time": 7.980812591
           },
           {
            "iteration": 23,
            "passed_time": 7.087108289,
            "remaining_time": 7.677700646
           },
           {
            "iteration": 24,
            "passed_time": 7.375109406,
            "remaining_time": 7.375109406
           },
           {
            "iteration": 25,
            "passed_time": 7.664657789,
            "remaining_time": 7.075068728
           },
           {
            "iteration": 26,
            "passed_time": 7.953892634,
            "remaining_time": 6.77553817
           },
           {
            "iteration": 27,
            "passed_time": 8.244325191,
            "remaining_time": 6.477684078
           },
           {
            "iteration": 28,
            "passed_time": 8.534023978,
            "remaining_time": 6.179810467
           },
           {
            "iteration": 29,
            "passed_time": 8.832358437,
            "remaining_time": 5.888238958
           },
           {
            "iteration": 30,
            "passed_time": 9.118486689,
            "remaining_time": 5.588749906
           },
           {
            "iteration": 31,
            "passed_time": 9.407537468,
            "remaining_time": 5.291739826
           },
           {
            "iteration": 32,
            "passed_time": 9.698846435,
            "remaining_time": 4.996375436
           },
           {
            "iteration": 33,
            "passed_time": 9.987653101,
            "remaining_time": 4.700072048
           },
           {
            "iteration": 34,
            "passed_time": 10.28094079,
            "remaining_time": 4.406117481
           },
           {
            "iteration": 35,
            "passed_time": 10.5710685,
            "remaining_time": 4.110971082
           },
           {
            "iteration": 36,
            "passed_time": 10.87127591,
            "remaining_time": 3.819637482
           },
           {
            "iteration": 37,
            "passed_time": 11.15919382,
            "remaining_time": 3.523955944
           },
           {
            "iteration": 38,
            "passed_time": 11.45083005,
            "remaining_time": 3.229721296
           },
           {
            "iteration": 39,
            "passed_time": 11.74345554,
            "remaining_time": 2.935863884
           },
           {
            "iteration": 40,
            "passed_time": 12.04105734,
            "remaining_time": 2.643158929
           },
           {
            "iteration": 41,
            "passed_time": 12.33609132,
            "remaining_time": 2.349731679
           },
           {
            "iteration": 42,
            "passed_time": 12.62967557,
            "remaining_time": 2.055993697
           },
           {
            "iteration": 43,
            "passed_time": 12.92046452,
            "remaining_time": 1.761881525
           },
           {
            "iteration": 44,
            "passed_time": 13.2082722,
            "remaining_time": 1.4675858
           },
           {
            "iteration": 45,
            "passed_time": 13.49979271,
            "remaining_time": 1.173895018
           },
           {
            "iteration": 46,
            "passed_time": 13.79191665,
            "remaining_time": 0.8803351051
           },
           {
            "iteration": 47,
            "passed_time": 14.09088822,
            "remaining_time": 0.5871203424
           },
           {
            "iteration": 48,
            "passed_time": 14.38736252,
            "remaining_time": 0.2936196432
           },
           {
            "iteration": 49,
            "passed_time": 14.6780318,
            "remaining_time": 0
           }
          ],
          "meta": {
           "iteration_count": 50,
           "launch_mode": "Train",
           "learn_metrics": [],
           "learn_sets": [
            "learn"
           ],
           "name": "experiment",
           "parameters": "",
           "test_metrics": [],
           "test_sets": []
          }
         },
         "passed_iterations": 49,
         "total_iterations": 50
        },
        "name": "catboost_info",
        "path": "catboost_info"
       }
      },
      "layout": "IPY_MODEL_c39d05c715cf4a7e90bb6ef05e4b0b94"
     }
    },
    "c39d05c715cf4a7e90bb6ef05e4b0b94": {
     "model_module": "@jupyter-widgets/base",
     "model_name": "LayoutModel",
     "state": {
      "_model_module": "@jupyter-widgets/base",
      "_model_module_version": "1.2.0",
      "_model_name": "LayoutModel",
      "_view_count": null,
      "_view_module": "@jupyter-widgets/base",
      "_view_module_version": "1.2.0",
      "_view_name": "LayoutView",
      "align_content": null,
      "align_items": null,
      "align_self": "stretch",
      "border": null,
      "bottom": null,
      "display": null,
      "flex": null,
      "flex_flow": null,
      "grid_area": null,
      "grid_auto_columns": null,
      "grid_auto_flow": null,
      "grid_auto_rows": null,
      "grid_column": null,
      "grid_gap": null,
      "grid_row": null,
      "grid_template_areas": null,
      "grid_template_columns": null,
      "grid_template_rows": null,
      "height": "500px",
      "justify_content": null,
      "justify_items": null,
      "left": null,
      "margin": null,
      "max_height": null,
      "max_width": null,
      "min_height": null,
      "min_width": null,
      "object_fit": null,
      "object_position": null,
      "order": null,
      "overflow": null,
      "overflow_x": null,
      "overflow_y": null,
      "padding": null,
      "right": null,
      "top": null,
      "visibility": null,
      "width": null
     }
    }
   }
  }
 },
 "nbformat": 4,
 "nbformat_minor": 1
}
