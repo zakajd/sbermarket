{
 "cells": [
  {
   "cell_type": "markdown",
   "metadata": {},
   "source": [
    "1. Users in test? 107068"
   ]
  },
  {
   "cell_type": "code",
   "execution_count": 1,
   "metadata": {
    "ExecuteTime": {
     "end_time": "2020-10-10T14:22:23.887050Z",
     "start_time": "2020-10-10T14:22:23.883919Z"
    }
   },
   "outputs": [],
   "source": [
    "DATA_PATH = \"data\""
   ]
  },
  {
   "cell_type": "code",
   "execution_count": 2,
   "metadata": {
    "ExecuteTime": {
     "end_time": "2020-10-10T14:22:24.821756Z",
     "start_time": "2020-10-10T14:22:23.889047Z"
    }
   },
   "outputs": [],
   "source": [
    "# Imports\n",
    "import pandas as pd\n",
    "import numpy as np\n",
    "import datetime \n",
    "from pathlib import Path\n",
    "from tqdm.notebook import tqdm\n",
    "import os\n",
    "\n",
    "%matplotlib inline "
   ]
  },
  {
   "cell_type": "code",
   "execution_count": 3,
   "metadata": {
    "ExecuteTime": {
     "end_time": "2020-10-10T14:22:25.482024Z",
     "start_time": "2020-10-10T14:22:24.823592Z"
    }
   },
   "outputs": [
    {
     "name": "stdout",
     "output_type": "stream",
     "text": [
      "Unique test users: 107068\n"
     ]
    },
    {
     "data": {
      "text/html": [
       "<div>\n",
       "<style scoped>\n",
       "    .dataframe tbody tr th:only-of-type {\n",
       "        vertical-align: middle;\n",
       "    }\n",
       "\n",
       "    .dataframe tbody tr th {\n",
       "        vertical-align: top;\n",
       "    }\n",
       "\n",
       "    .dataframe thead th {\n",
       "        text-align: right;\n",
       "    }\n",
       "</style>\n",
       "<table border=\"1\" class=\"dataframe\">\n",
       "  <thead>\n",
       "    <tr style=\"text-align: right;\">\n",
       "      <th></th>\n",
       "      <th>Id</th>\n",
       "      <th>Predicted</th>\n",
       "    </tr>\n",
       "  </thead>\n",
       "  <tbody>\n",
       "    <tr>\n",
       "      <th>0</th>\n",
       "      <td>51</td>\n",
       "      <td>3239211 10720024 8493844 1965540 5009002 95218...</td>\n",
       "    </tr>\n",
       "    <tr>\n",
       "      <th>1</th>\n",
       "      <td>65</td>\n",
       "      <td>11693356 13392267 2464515 2245175 4748570 1134...</td>\n",
       "    </tr>\n",
       "    <tr>\n",
       "      <th>2</th>\n",
       "      <td>766</td>\n",
       "      <td>12773054 3692749 12726751 10041624 11893515 23...</td>\n",
       "    </tr>\n",
       "  </tbody>\n",
       "</table>\n",
       "</div>"
      ],
      "text/plain": [
       "    Id                                          Predicted\n",
       "0   51  3239211 10720024 8493844 1965540 5009002 95218...\n",
       "1   65  11693356 13392267 2464515 2245175 4748570 1134...\n",
       "2  766  12773054 3692749 12726751 10041624 11893515 23..."
      ]
     },
     "execution_count": 3,
     "metadata": {},
     "output_type": "execute_result"
    }
   ],
   "source": [
    "submission_df = pd.read_csv(os.path.join(DATA_PATH, \"sample_submission.csv\"))\n",
    "test_user_ids = submission_df.Id\n",
    "print(\"Unique test users:\", test_user_ids.nunique())\n",
    "submission_df.head(3)"
   ]
  },
  {
   "cell_type": "code",
   "execution_count": 4,
   "metadata": {
    "ExecuteTime": {
     "end_time": "2020-10-10T14:22:25.497322Z",
     "start_time": "2020-10-10T14:22:25.486539Z"
    }
   },
   "outputs": [],
   "source": [
    "def replace_date(date_str):\n",
    "    if len(date_str) < 8:\n",
    "        return '2020-10-09'\n",
    "    else:\n",
    "        return date_str\n",
    "\n",
    "def str2date(date_str):\n",
    "    try:\n",
    "        date = datetime.datetime.strptime(date_str, '%Y-%m-%d')\n",
    "    except:\n",
    "        date = datetime.datetime.strptime(date_str, '%d.%m.%Y')\n",
    "    return date\n",
    "\n",
    "def calculate_age(born):\n",
    "    today = datetime.date.today()\n",
    "    age = today.year - born.year - ((today.month, today.day) < (born.month, born.day))\n",
    "    if age < 10 or age > 70:\n",
    "        age = 0\n",
    "    return age"
   ]
  },
  {
   "cell_type": "code",
   "execution_count": 5,
   "metadata": {
    "ExecuteTime": {
     "end_time": "2020-10-10T14:22:26.132847Z",
     "start_time": "2020-10-10T14:22:25.799909Z"
    }
   },
   "outputs": [
    {
     "name": "stdout",
     "output_type": "stream",
     "text": [
      "Users in original file 438867, unique 436927, diff 1940\n",
      "After filtering 20764, unique 20412, diff 352\n",
      "After droping duplicates and NaN's 8254, unique 8254, diff 0\n",
      "Sanity check. Should be same as previous 8254, unique 8254, diff 0\n"
     ]
    },
    {
     "data": {
      "text/html": [
       "<div>\n",
       "<style scoped>\n",
       "    .dataframe tbody tr th:only-of-type {\n",
       "        vertical-align: middle;\n",
       "    }\n",
       "\n",
       "    .dataframe tbody tr th {\n",
       "        vertical-align: top;\n",
       "    }\n",
       "\n",
       "    .dataframe thead th {\n",
       "        text-align: right;\n",
       "    }\n",
       "</style>\n",
       "<table border=\"1\" class=\"dataframe\">\n",
       "  <thead>\n",
       "    <tr style=\"text-align: right;\">\n",
       "      <th></th>\n",
       "      <th>user_id</th>\n",
       "      <th>gender</th>\n",
       "      <th>age</th>\n",
       "    </tr>\n",
       "  </thead>\n",
       "  <tbody>\n",
       "    <tr>\n",
       "      <th>10</th>\n",
       "      <td>1288925</td>\n",
       "      <td>1</td>\n",
       "      <td>38</td>\n",
       "    </tr>\n",
       "    <tr>\n",
       "      <th>43</th>\n",
       "      <td>1780454</td>\n",
       "      <td>0</td>\n",
       "      <td>0</td>\n",
       "    </tr>\n",
       "    <tr>\n",
       "      <th>48</th>\n",
       "      <td>534410</td>\n",
       "      <td>0</td>\n",
       "      <td>29</td>\n",
       "    </tr>\n",
       "    <tr>\n",
       "      <th>73</th>\n",
       "      <td>1050790</td>\n",
       "      <td>0</td>\n",
       "      <td>33</td>\n",
       "    </tr>\n",
       "    <tr>\n",
       "      <th>85</th>\n",
       "      <td>2119485</td>\n",
       "      <td>0</td>\n",
       "      <td>28</td>\n",
       "    </tr>\n",
       "  </tbody>\n",
       "</table>\n",
       "</div>"
      ],
      "text/plain": [
       "    user_id  gender  age\n",
       "10  1288925       1   38\n",
       "43  1780454       0    0\n",
       "48   534410       0   29\n",
       "73  1050790       0   33\n",
       "85  2119485       0   28"
      ]
     },
     "execution_count": 5,
     "metadata": {},
     "output_type": "execute_result"
    }
   ],
   "source": [
    "## Preprocess Users\n",
    "user_df = pd.read_csv(os.path.join(DATA_PATH, \"kaggle_tab_1345/tab_4_user_profiles.csv\"))\n",
    "\n",
    "uniq = user_df.user_id.nunique()\n",
    "print(\n",
    "    f\"Users in original file {len(user_df)}, unique {uniq}, diff {len(user_df) - uniq}\")\n",
    "\n",
    "# Filter users not in test\n",
    "user_df = user_df[user_df.user_id.isin(test_user_ids)]\n",
    "uniq = user_df.user_id.nunique()\n",
    "print(f\"After filtering {len(user_df)}, unique {uniq}, diff {len(user_df) - uniq}\")\n",
    "\n",
    "# Drop duplicates (352 / ~2% of the data)\n",
    "user_df.drop_duplicates(\"user_id\", inplace=True)\n",
    "\n",
    "# Drop NaNs\n",
    "user_df.dropna(inplace=True)\n",
    "uniq = user_df.user_id.nunique()\n",
    "print(f\"After droping duplicates and NaN's {len(user_df)}, unique {uniq}, diff {len(user_df) - uniq}\")\n",
    "\n",
    "\n",
    "# Replace incorrect dates\n",
    "user_df.bdate = user_df.bdate.map(lambda x: replace_date(x))\n",
    "# Convert all dates to datetime object\n",
    "user_df.bdate = user_df.bdate.map(lambda x: str2date(x))\n",
    "# Add new column with age\n",
    "user_df[\"age\"] = user_df.bdate.map(lambda x: calculate_age(x))\n",
    "# Drop bdate column\n",
    "user_df.drop(columns=\"bdate\", inplace=True)\n",
    "# Label code column\n",
    "user_df.gender = user_df.gender.astype('category').cat.codes\n",
    "\n",
    "print(f\"Sanity check. Should be same as previous {len(user_df)}, unique {uniq}, diff {len(user_df) - uniq}\")\n",
    "user_df.head()"
   ]
  },
  {
   "cell_type": "code",
   "execution_count": 6,
   "metadata": {
    "ExecuteTime": {
     "end_time": "2020-10-10T14:22:27.326619Z",
     "start_time": "2020-10-10T14:22:27.094725Z"
    }
   },
   "outputs": [
    {
     "data": {
      "text/plain": [
       "<matplotlib.axes._subplots.AxesSubplot at 0x7f25f8b62198>"
      ]
     },
     "execution_count": 6,
     "metadata": {},
     "output_type": "execute_result"
    },
    {
     "data": {
      "image/png": "[encoded data removed]",
      "text/plain": [
       "<Figure size 432x288 with 1 Axes>"
      ]
     },
     "metadata": {
      "needs_background": "light"
     },
     "output_type": "display_data"
    }
   ],
   "source": [
    "user_df.age.hist()"
   ]
  },
  {
   "cell_type": "code",
   "execution_count": 7,
   "metadata": {
    "ExecuteTime": {
     "end_time": "2020-10-10T14:22:27.548308Z",
     "start_time": "2020-10-10T14:22:27.537812Z"
    }
   },
   "outputs": [
    {
     "data": {
      "text/html": [
       "<div>\n",
       "<style scoped>\n",
       "    .dataframe tbody tr th:only-of-type {\n",
       "        vertical-align: middle;\n",
       "    }\n",
       "\n",
       "    .dataframe tbody tr th {\n",
       "        vertical-align: top;\n",
       "    }\n",
       "\n",
       "    .dataframe thead th {\n",
       "        text-align: right;\n",
       "    }\n",
       "</style>\n",
       "<table border=\"1\" class=\"dataframe\">\n",
       "  <thead>\n",
       "    <tr style=\"text-align: right;\">\n",
       "      <th></th>\n",
       "      <th>store_id</th>\n",
       "      <th>city_name</th>\n",
       "    </tr>\n",
       "  </thead>\n",
       "  <tbody>\n",
       "    <tr>\n",
       "      <th>0</th>\n",
       "      <td>14</td>\n",
       "      <td>45</td>\n",
       "    </tr>\n",
       "    <tr>\n",
       "      <th>1</th>\n",
       "      <td>21</td>\n",
       "      <td>45</td>\n",
       "    </tr>\n",
       "    <tr>\n",
       "      <th>2</th>\n",
       "      <td>1</td>\n",
       "      <td>45</td>\n",
       "    </tr>\n",
       "  </tbody>\n",
       "</table>\n",
       "</div>"
      ],
      "text/plain": [
       "   store_id  city_name\n",
       "0        14         45\n",
       "1        21         45\n",
       "2         1         45"
      ]
     },
     "execution_count": 7,
     "metadata": {},
     "output_type": "execute_result"
    }
   ],
   "source": [
    "## Preprocess Citys\n",
    "city_df = pd.read_csv(os.path.join(DATA_PATH, \"tab_6_city.csv\"))\n",
    "city_df.city_name = city_df.city_name.astype('category').cat.codes\n",
    "city_df.head(3)"
   ]
  },
  {
   "cell_type": "code",
   "execution_count": 8,
   "metadata": {
    "ExecuteTime": {
     "end_time": "2020-10-10T14:22:32.808323Z",
     "start_time": "2020-10-10T14:22:28.517954Z"
    }
   },
   "outputs": [
    {
     "name": "stdout",
     "output_type": "stream",
     "text": [
      "Rows in original file 2461958, unique 2426955, diff 35003\n",
      "After filtering 967345, unique 953436, diff 13909\n",
      "After dropping duplicates 967340, unique 953436, diff 13904\n",
      "Sanity check. Should be same as previous 967340, unique 953436, diff 13904\n"
     ]
    },
    {
     "data": {
      "text/html": [
       "<div>\n",
       "<style scoped>\n",
       "    .dataframe tbody tr th:only-of-type {\n",
       "        vertical-align: middle;\n",
       "    }\n",
       "\n",
       "    .dataframe tbody tr th {\n",
       "        vertical-align: top;\n",
       "    }\n",
       "\n",
       "    .dataframe thead th {\n",
       "        text-align: right;\n",
       "    }\n",
       "</style>\n",
       "<table border=\"1\" class=\"dataframe\">\n",
       "  <thead>\n",
       "    <tr style=\"text-align: right;\">\n",
       "      <th></th>\n",
       "      <th>user_id</th>\n",
       "      <th>store_id</th>\n",
       "      <th>order_id</th>\n",
       "      <th>order_created_time</th>\n",
       "      <th>retailer</th>\n",
       "      <th>platform</th>\n",
       "      <th>city_name</th>\n",
       "      <th>gender</th>\n",
       "      <th>age</th>\n",
       "    </tr>\n",
       "  </thead>\n",
       "  <tbody>\n",
       "    <tr>\n",
       "      <th>0</th>\n",
       "      <td>187</td>\n",
       "      <td>533</td>\n",
       "      <td>15952443</td>\n",
       "      <td>2020-09-01 17:34:00</td>\n",
       "      <td>16</td>\n",
       "      <td>0</td>\n",
       "      <td>45</td>\n",
       "      <td>NaN</td>\n",
       "      <td>NaN</td>\n",
       "    </tr>\n",
       "    <tr>\n",
       "      <th>1</th>\n",
       "      <td>400</td>\n",
       "      <td>11</td>\n",
       "      <td>11911561</td>\n",
       "      <td>2020-06-13 13:26:03</td>\n",
       "      <td>2</td>\n",
       "      <td>0</td>\n",
       "      <td>45</td>\n",
       "      <td>NaN</td>\n",
       "      <td>NaN</td>\n",
       "    </tr>\n",
       "    <tr>\n",
       "      <th>2</th>\n",
       "      <td>400</td>\n",
       "      <td>11</td>\n",
       "      <td>11922112</td>\n",
       "      <td>2020-06-13 16:30:57</td>\n",
       "      <td>2</td>\n",
       "      <td>0</td>\n",
       "      <td>45</td>\n",
       "      <td>NaN</td>\n",
       "      <td>NaN</td>\n",
       "    </tr>\n",
       "    <tr>\n",
       "      <th>3</th>\n",
       "      <td>400</td>\n",
       "      <td>11</td>\n",
       "      <td>12264981</td>\n",
       "      <td>2020-06-19 11:57:25</td>\n",
       "      <td>2</td>\n",
       "      <td>0</td>\n",
       "      <td>45</td>\n",
       "      <td>NaN</td>\n",
       "      <td>NaN</td>\n",
       "    </tr>\n",
       "    <tr>\n",
       "      <th>4</th>\n",
       "      <td>400</td>\n",
       "      <td>11</td>\n",
       "      <td>12749996</td>\n",
       "      <td>2020-06-29 19:14:42</td>\n",
       "      <td>2</td>\n",
       "      <td>0</td>\n",
       "      <td>45</td>\n",
       "      <td>NaN</td>\n",
       "      <td>NaN</td>\n",
       "    </tr>\n",
       "  </tbody>\n",
       "</table>\n",
       "</div>"
      ],
      "text/plain": [
       "   user_id  store_id  order_id   order_created_time  retailer  platform  \\\n",
       "0      187       533  15952443  2020-09-01 17:34:00        16         0   \n",
       "1      400        11  11911561  2020-06-13 13:26:03         2         0   \n",
       "2      400        11  11922112  2020-06-13 16:30:57         2         0   \n",
       "3      400        11  12264981  2020-06-19 11:57:25         2         0   \n",
       "4      400        11  12749996  2020-06-29 19:14:42         2         0   \n",
       "\n",
       "   city_name  gender  age  \n",
       "0         45     NaN  NaN  \n",
       "1         45     NaN  NaN  \n",
       "2         45     NaN  NaN  \n",
       "3         45     NaN  NaN  \n",
       "4         45     NaN  NaN  "
      ]
     },
     "execution_count": 8,
     "metadata": {},
     "output_type": "execute_result"
    }
   ],
   "source": [
    "# diff is because correct primary key is [order_id, store_id]\n",
    "\n",
    "## Preprocess Orders\n",
    "orders_df = pd.read_csv(os.path.join(DATA_PATH, \"kaggle_tab_1345/tab_1_orders.csv\"))\n",
    "uniq = orders_df.order_id.nunique()\n",
    "print(f\"Rows in original file {len(orders_df)}, unique {uniq}, diff {len(orders_df) - uniq}\")\n",
    "# Filter orders only from test users\n",
    "orders_df = orders_df[orders_df.user_id.isin(test_user_ids)]\n",
    "uniq = orders_df.order_id.nunique()\n",
    "print(f\"After filtering {len(orders_df)}, unique {uniq}, diff {len(orders_df) - uniq}\")\n",
    "\n",
    "# Drop duplicates\n",
    "orders_df.drop_duplicates([\"order_id\", \"store_id\"], inplace=True)\n",
    "uniq = orders_df.order_id.nunique()\n",
    "print(f\"After dropping duplicates {len(orders_df)}, unique {uniq}, diff {len(orders_df) - uniq}\")\n",
    "\n",
    "# Label code columns\n",
    "orders_df.retailer = orders_df.retailer.astype('category').cat.codes\n",
    "orders_df.platform = orders_df.platform.astype('category').cat.codes\n",
    "\n",
    "# Merge city data\n",
    "orders_df = orders_df.set_index('store_id').join(city_df.set_index('store_id'))\n",
    "orders_df.reset_index(inplace=True)\n",
    "# # Merge user data\n",
    "orders_df = orders_df.set_index('user_id').join(user_df.set_index('user_id'))\n",
    "orders_df.reset_index(inplace=True)\n",
    "\n",
    "uniq = orders_df.order_id.nunique()\n",
    "print(f\"Sanity check. Should be same as previous {len(orders_df)}, unique {uniq}, diff {len(orders_df) - uniq}\")\n",
    "orders_df.head()"
   ]
  },
  {
   "cell_type": "code",
   "execution_count": 9,
   "metadata": {
    "ExecuteTime": {
     "end_time": "2020-10-10T14:22:51.877510Z",
     "start_time": "2020-10-10T14:22:32.810872Z"
    }
   },
   "outputs": [],
   "source": [
    "# Add new feature\n",
    "orders_df['order_created_time'] = pd.to_datetime(orders_df['order_created_time'])\n",
    "tmp = orders_df.drop_duplicates([\"order_id\"]).sort_values(by=[\"user_id\", \"order_id\", \"order_created_time\"])\n",
    "tmp['day_since_prior_order'] = tmp.groupby(['user_id'])['order_created_time'].diff().dt.days.fillna(-1)\n",
    "orders_df = orders_df.merge(tmp[[\"order_id\", \"day_since_prior_order\"]])"
   ]
  },
  {
   "cell_type": "code",
   "execution_count": 10,
   "metadata": {
    "ExecuteTime": {
     "end_time": "2020-10-10T14:22:52.029834Z",
     "start_time": "2020-10-10T14:22:51.879002Z"
    }
   },
   "outputs": [
    {
     "data": {
      "text/plain": [
       "<matplotlib.axes._subplots.AxesSubplot at 0x7f25f8b4df98>"
      ]
     },
     "execution_count": 10,
     "metadata": {},
     "output_type": "execute_result"
    },
    {
     "data": {
      "image/png": "[encoded data removed]",
      "text/plain": [
       "<Figure size 432x288 with 1 Axes>"
      ]
     },
     "metadata": {
      "needs_background": "light"
     },
     "output_type": "display_data"
    }
   ],
   "source": [
    "orders_df.city_name.hist()"
   ]
  },
  {
   "cell_type": "code",
   "execution_count": 11,
   "metadata": {
    "ExecuteTime": {
     "end_time": "2020-10-10T14:25:11.728842Z",
     "start_time": "2020-10-10T14:22:52.031658Z"
    }
   },
   "outputs": [
    {
     "data": {
      "application/vnd.jupyter.widget-view+json": {
       "model_id": "abe2cd0e8a8e4bc28374e4266ef51c0d",
       "version_major": 2,
       "version_minor": 0
      },
      "text/plain": [
       "HBox(children=(FloatProgress(value=0.0, max=26.0), HTML(value='')))"
      ]
     },
     "metadata": {},
     "output_type": "display_data"
    },
    {
     "name": "stdout",
     "output_type": "stream",
     "text": [
      "\n"
     ]
    }
   ],
   "source": [
    "## Preprocess Products\n",
    "pathes = sorted(list(Path(DATA_PATH).glob('*/tab_2*.csv')))\n",
    "dfs = []\n",
    "\n",
    "for path in tqdm(pathes):\n",
    "    # Read DF\n",
    "    df = pd.read_csv(path)\n",
    "    \n",
    "    # Filter and delete users not from test\n",
    "    df = df[df.user_id.isin(test_user_ids)]\n",
    "\n",
    "    # Drop column with long desciption\n",
    "    df.drop(columns=[\"product_name\"], inplace=True)\n",
    "    \n",
    "    # Label code column\n",
    "    df.brand_name = df.brand_name.astype('category').cat.codes\n",
    "    \n",
    "    # Fill NaNs in one column\n",
    "    df.master_category_id.fillna(-1, inplace=True)\n",
    "    dfs.append(df)"
   ]
  },
  {
   "cell_type": "code",
   "execution_count": 12,
   "metadata": {
    "ExecuteTime": {
     "end_time": "2020-10-10T14:25:15.165921Z",
     "start_time": "2020-10-10T14:25:11.730887Z"
    }
   },
   "outputs": [
    {
     "name": "stdout",
     "output_type": "stream",
     "text": [
      "Num rows in filtered products: 21677070\n",
      "Num unique products: 91994\n"
     ]
    }
   ],
   "source": [
    "products_df = pd.concat(dfs)\n",
    "print(\"Num rows in filtered products:\", len(products_df)) # 21677070\n",
    "print(\"Num unique products:\", products_df.product_id.nunique()) # 91994"
   ]
  },
  {
   "cell_type": "code",
   "execution_count": 13,
   "metadata": {
    "ExecuteTime": {
     "end_time": "2020-10-10T14:25:17.714095Z",
     "start_time": "2020-10-10T14:25:15.168882Z"
    }
   },
   "outputs": [
    {
     "name": "stdout",
     "output_type": "stream",
     "text": [
      "Orders: 953436, Products: 839874\n",
      "Intersection: 792285\n",
      "Union orders: 161151\n",
      "Union products: 47589\n"
     ]
    }
   ],
   "source": [
    "# Compare `orders_id`\n",
    "orders_from_orders = set(orders_df.order_id)\n",
    "orders_from_products = set(products_df.order_id)\n",
    "print(f\"Orders: {len(orders_from_orders)}, Products: {len(orders_from_products)}\")\n",
    "print(f\"Intersection: {len(orders_from_orders.intersection(orders_from_products))}\")\n",
    "print(f\"Union orders: {len(orders_from_orders.difference(orders_from_products))}\")\n",
    "print(f\"Union products: {len(orders_from_products.difference(orders_from_orders))}\")\n",
    "\n",
    "# Not for all users/orders in Products table we can find corresponding element in Orders to get additional features"
   ]
  },
  {
   "cell_type": "code",
   "execution_count": 14,
   "metadata": {
    "ExecuteTime": {
     "end_time": "2020-10-10T14:25:29.494651Z",
     "start_time": "2020-10-10T14:25:17.716038Z"
    }
   },
   "outputs": [],
   "source": [
    "# Mean order size per user\n",
    "mean_orders = (products_df.groupby([\"user_id\", \"order_id\"])\n",
    "                         .agg({'line_item_id':'count'})\n",
    "                         .groupby(\"user_id\").mean()\n",
    "                         .rename(columns={'line_item_id':'mean_order_size'}))\n",
    "\n",
    "products_df = products_df.merge(mean_orders, on='user_id')"
   ]
  },
  {
   "cell_type": "code",
   "execution_count": 15,
   "metadata": {
    "ExecuteTime": {
     "end_time": "2020-10-10T14:25:35.025008Z",
     "start_time": "2020-10-10T14:25:29.496864Z"
    }
   },
   "outputs": [
    {
     "data": {
      "text/html": [
       "<div>\n",
       "<style scoped>\n",
       "    .dataframe tbody tr th:only-of-type {\n",
       "        vertical-align: middle;\n",
       "    }\n",
       "\n",
       "    .dataframe tbody tr th {\n",
       "        vertical-align: top;\n",
       "    }\n",
       "\n",
       "    .dataframe thead th {\n",
       "        text-align: right;\n",
       "    }\n",
       "</style>\n",
       "<table border=\"1\" class=\"dataframe\">\n",
       "  <thead>\n",
       "    <tr style=\"text-align: right;\">\n",
       "      <th></th>\n",
       "      <th>user_id</th>\n",
       "      <th>order_id</th>\n",
       "      <th>line_item_id</th>\n",
       "      <th>price</th>\n",
       "      <th>quantity</th>\n",
       "      <th>discount</th>\n",
       "      <th>product_id</th>\n",
       "      <th>brand_name</th>\n",
       "      <th>master_category_id</th>\n",
       "      <th>parent_category_id</th>\n",
       "      <th>mean_order_size</th>\n",
       "      <th>store_id</th>\n",
       "      <th>order_created_time</th>\n",
       "      <th>retailer</th>\n",
       "      <th>platform</th>\n",
       "      <th>city_name</th>\n",
       "      <th>gender</th>\n",
       "      <th>age</th>\n",
       "      <th>day_since_prior_order</th>\n",
       "    </tr>\n",
       "  </thead>\n",
       "  <tbody>\n",
       "    <tr>\n",
       "      <th>0</th>\n",
       "      <td>766</td>\n",
       "      <td>5395508</td>\n",
       "      <td>28998751</td>\n",
       "      <td>24.270000</td>\n",
       "      <td>3</td>\n",
       "      <td>0.000000</td>\n",
       "      <td>3069043</td>\n",
       "      <td>2260</td>\n",
       "      <td>77.0</td>\n",
       "      <td>74</td>\n",
       "      <td>19.217391</td>\n",
       "      <td>NaN</td>\n",
       "      <td>NaT</td>\n",
       "      <td>NaN</td>\n",
       "      <td>NaN</td>\n",
       "      <td>NaN</td>\n",
       "      <td>NaN</td>\n",
       "      <td>NaN</td>\n",
       "      <td>NaN</td>\n",
       "    </tr>\n",
       "    <tr>\n",
       "      <th>1</th>\n",
       "      <td>766</td>\n",
       "      <td>5395508</td>\n",
       "      <td>28998796</td>\n",
       "      <td>79.300003</td>\n",
       "      <td>3</td>\n",
       "      <td>0.000000</td>\n",
       "      <td>3041849</td>\n",
       "      <td>1856</td>\n",
       "      <td>26.0</td>\n",
       "      <td>20</td>\n",
       "      <td>19.217391</td>\n",
       "      <td>NaN</td>\n",
       "      <td>NaT</td>\n",
       "      <td>NaN</td>\n",
       "      <td>NaN</td>\n",
       "      <td>NaN</td>\n",
       "      <td>NaN</td>\n",
       "      <td>NaN</td>\n",
       "      <td>NaN</td>\n",
       "    </tr>\n",
       "    <tr>\n",
       "      <th>2</th>\n",
       "      <td>766</td>\n",
       "      <td>5395508</td>\n",
       "      <td>28999083</td>\n",
       "      <td>76.620003</td>\n",
       "      <td>5</td>\n",
       "      <td>15.070000</td>\n",
       "      <td>216</td>\n",
       "      <td>1375</td>\n",
       "      <td>607.0</td>\n",
       "      <td>20</td>\n",
       "      <td>19.217391</td>\n",
       "      <td>NaN</td>\n",
       "      <td>NaT</td>\n",
       "      <td>NaN</td>\n",
       "      <td>NaN</td>\n",
       "      <td>NaN</td>\n",
       "      <td>NaN</td>\n",
       "      <td>NaN</td>\n",
       "      <td>NaN</td>\n",
       "    </tr>\n",
       "    <tr>\n",
       "      <th>3</th>\n",
       "      <td>766</td>\n",
       "      <td>5395508</td>\n",
       "      <td>28999153</td>\n",
       "      <td>72.180000</td>\n",
       "      <td>1</td>\n",
       "      <td>19.540001</td>\n",
       "      <td>1990</td>\n",
       "      <td>1292</td>\n",
       "      <td>32.0</td>\n",
       "      <td>20</td>\n",
       "      <td>19.217391</td>\n",
       "      <td>NaN</td>\n",
       "      <td>NaT</td>\n",
       "      <td>NaN</td>\n",
       "      <td>NaN</td>\n",
       "      <td>NaN</td>\n",
       "      <td>NaN</td>\n",
       "      <td>NaN</td>\n",
       "      <td>NaN</td>\n",
       "    </tr>\n",
       "    <tr>\n",
       "      <th>4</th>\n",
       "      <td>766</td>\n",
       "      <td>5395508</td>\n",
       "      <td>28999278</td>\n",
       "      <td>142.500000</td>\n",
       "      <td>3</td>\n",
       "      <td>0.000000</td>\n",
       "      <td>3883053</td>\n",
       "      <td>1397</td>\n",
       "      <td>31.0</td>\n",
       "      <td>20</td>\n",
       "      <td>19.217391</td>\n",
       "      <td>NaN</td>\n",
       "      <td>NaT</td>\n",
       "      <td>NaN</td>\n",
       "      <td>NaN</td>\n",
       "      <td>NaN</td>\n",
       "      <td>NaN</td>\n",
       "      <td>NaN</td>\n",
       "      <td>NaN</td>\n",
       "    </tr>\n",
       "  </tbody>\n",
       "</table>\n",
       "</div>"
      ],
      "text/plain": [
       "   user_id  order_id  line_item_id       price  quantity   discount  \\\n",
       "0      766   5395508      28998751   24.270000         3   0.000000   \n",
       "1      766   5395508      28998796   79.300003         3   0.000000   \n",
       "2      766   5395508      28999083   76.620003         5  15.070000   \n",
       "3      766   5395508      28999153   72.180000         1  19.540001   \n",
       "4      766   5395508      28999278  142.500000         3   0.000000   \n",
       "\n",
       "   product_id  brand_name  master_category_id  parent_category_id  \\\n",
       "0     3069043        2260                77.0                  74   \n",
       "1     3041849        1856                26.0                  20   \n",
       "2         216        1375               607.0                  20   \n",
       "3        1990        1292                32.0                  20   \n",
       "4     3883053        1397                31.0                  20   \n",
       "\n",
       "   mean_order_size  store_id order_created_time  retailer  platform  \\\n",
       "0        19.217391       NaN                NaT       NaN       NaN   \n",
       "1        19.217391       NaN                NaT       NaN       NaN   \n",
       "2        19.217391       NaN                NaT       NaN       NaN   \n",
       "3        19.217391       NaN                NaT       NaN       NaN   \n",
       "4        19.217391       NaN                NaT       NaN       NaN   \n",
       "\n",
       "   city_name  gender  age  day_since_prior_order  \n",
       "0        NaN     NaN  NaN                    NaN  \n",
       "1        NaN     NaN  NaN                    NaN  \n",
       "2        NaN     NaN  NaN                    NaN  \n",
       "3        NaN     NaN  NaN                    NaN  \n",
       "4        NaN     NaN  NaN                    NaN  "
      ]
     },
     "execution_count": 15,
     "metadata": {},
     "output_type": "execute_result"
    }
   ],
   "source": [
    "# Merge Orders data\n",
    "tmp = orders_df.drop_duplicates(\"order_id\").drop(columns=\"user_id\")\n",
    "products_df = products_df.merge(tmp, how='left', on='order_id')\n",
    "products_df.head()"
   ]
  },
  {
   "cell_type": "code",
   "execution_count": 16,
   "metadata": {
    "ExecuteTime": {
     "end_time": "2020-10-10T14:27:41.682645Z",
     "start_time": "2020-10-10T14:27:41.675178Z"
    }
   },
   "outputs": [
    {
     "data": {
      "text/plain": [
       "21677070"
      ]
     },
     "execution_count": 16,
     "metadata": {},
     "output_type": "execute_result"
    }
   ],
   "source": [
    "len(products_df)"
   ]
  },
  {
   "cell_type": "markdown",
   "metadata": {},
   "source": [
    "## Convert products df into training data for logistic regression"
   ]
  },
  {
   "cell_type": "code",
   "execution_count": 143,
   "metadata": {
    "ExecuteTime": {
     "end_time": "2020-10-10T14:15:47.300647Z",
     "start_time": "2020-10-10T14:15:47.124121Z"
    }
   },
   "outputs": [],
   "source": []
  },
  {
   "cell_type": "code",
   "execution_count": null,
   "metadata": {},
   "outputs": [],
   "source": [
    "#     # Change data types to reduce memory footprint\n",
    "#     df.astype({\n",
    "#         'user_id': 'int32',\n",
    "#         'order_id': 'int32',\n",
    "#         'price': 'float32',\n",
    "#         'quantity': 'int32',\n",
    "#         'discount': 'float32',\n",
    "#         'product_id': 'int32',\n",
    "#         'brand_name': 'int32',\n",
    "#         'master_category_id': 'int32',\n",
    "#         'parent_category_id': 'int32'}, copy=False)"
   ]
  },
  {
   "cell_type": "code",
   "execution_count": 7,
   "metadata": {
    "ExecuteTime": {
     "end_time": "2020-10-09T21:32:58.396995Z",
     "start_time": "2020-10-09T21:32:56.989648Z"
    }
   },
   "outputs": [],
   "source": []
  },
  {
   "cell_type": "code",
   "execution_count": 8,
   "metadata": {
    "ExecuteTime": {
     "end_time": "2020-10-09T21:33:17.683449Z",
     "start_time": "2020-10-09T21:32:58.398456Z"
    }
   },
   "outputs": [
    {
     "name": "stdout",
     "output_type": "stream",
     "text": [
      "Total: 21677070\n"
     ]
    }
   ],
   "source": [
    "# Can be slow, just wait =)\n",
    "merged_df = products_df.set_index('order_id').join(orders_df.set_index('order_id'))\n",
    "merged_df.reset_index(inplace=True)\n",
    "print(\"Total:\", len(merged_df))"
   ]
  },
  {
   "cell_type": "code",
   "execution_count": 9,
   "metadata": {
    "ExecuteTime": {
     "end_time": "2020-10-09T21:33:17.705692Z",
     "start_time": "2020-10-09T21:33:17.685260Z"
    }
   },
   "outputs": [
    {
     "data": {
      "text/html": [
       "<div>\n",
       "<style scoped>\n",
       "    .dataframe tbody tr th:only-of-type {\n",
       "        vertical-align: middle;\n",
       "    }\n",
       "\n",
       "    .dataframe tbody tr th {\n",
       "        vertical-align: top;\n",
       "    }\n",
       "\n",
       "    .dataframe thead th {\n",
       "        text-align: right;\n",
       "    }\n",
       "</style>\n",
       "<table border=\"1\" class=\"dataframe\">\n",
       "  <thead>\n",
       "    <tr style=\"text-align: right;\">\n",
       "      <th></th>\n",
       "      <th>order_id</th>\n",
       "      <th>user_id</th>\n",
       "      <th>line_item_id</th>\n",
       "      <th>price</th>\n",
       "      <th>quantity</th>\n",
       "      <th>discount</th>\n",
       "      <th>product_id</th>\n",
       "      <th>brand_name</th>\n",
       "      <th>master_category_id</th>\n",
       "      <th>parent_category_id</th>\n",
       "      <th>order_created_time</th>\n",
       "      <th>retailer</th>\n",
       "      <th>platform</th>\n",
       "      <th>city_name</th>\n",
       "      <th>gender</th>\n",
       "      <th>bdate</th>\n",
       "      <th>age</th>\n",
       "    </tr>\n",
       "  </thead>\n",
       "  <tbody>\n",
       "    <tr>\n",
       "      <th>0</th>\n",
       "      <td>139128</td>\n",
       "      <td>1050</td>\n",
       "      <td>97633689</td>\n",
       "      <td>236.889999</td>\n",
       "      <td>1</td>\n",
       "      <td>0.0</td>\n",
       "      <td>5045454</td>\n",
       "      <td>3573</td>\n",
       "      <td>122.0</td>\n",
       "      <td>119</td>\n",
       "      <td>NaN</td>\n",
       "      <td>NaN</td>\n",
       "      <td>NaN</td>\n",
       "      <td>NaN</td>\n",
       "      <td>NaN</td>\n",
       "      <td>NaT</td>\n",
       "      <td>NaN</td>\n",
       "    </tr>\n",
       "    <tr>\n",
       "      <th>1</th>\n",
       "      <td>139128</td>\n",
       "      <td>1050</td>\n",
       "      <td>97633791</td>\n",
       "      <td>178.160004</td>\n",
       "      <td>1</td>\n",
       "      <td>0.0</td>\n",
       "      <td>73719</td>\n",
       "      <td>5154</td>\n",
       "      <td>122.0</td>\n",
       "      <td>119</td>\n",
       "      <td>NaN</td>\n",
       "      <td>NaN</td>\n",
       "      <td>NaN</td>\n",
       "      <td>NaN</td>\n",
       "      <td>NaN</td>\n",
       "      <td>NaT</td>\n",
       "      <td>NaN</td>\n",
       "    </tr>\n",
       "    <tr>\n",
       "      <th>2</th>\n",
       "      <td>139128</td>\n",
       "      <td>1050</td>\n",
       "      <td>97635201</td>\n",
       "      <td>173.279999</td>\n",
       "      <td>1</td>\n",
       "      <td>0.0</td>\n",
       "      <td>7000939</td>\n",
       "      <td>2846</td>\n",
       "      <td>85.0</td>\n",
       "      <td>84</td>\n",
       "      <td>NaN</td>\n",
       "      <td>NaN</td>\n",
       "      <td>NaN</td>\n",
       "      <td>NaN</td>\n",
       "      <td>NaN</td>\n",
       "      <td>NaT</td>\n",
       "      <td>NaN</td>\n",
       "    </tr>\n",
       "    <tr>\n",
       "      <th>3</th>\n",
       "      <td>139128</td>\n",
       "      <td>1050</td>\n",
       "      <td>97635312</td>\n",
       "      <td>73.690002</td>\n",
       "      <td>1</td>\n",
       "      <td>0.0</td>\n",
       "      <td>7386015</td>\n",
       "      <td>3342</td>\n",
       "      <td>85.0</td>\n",
       "      <td>84</td>\n",
       "      <td>NaN</td>\n",
       "      <td>NaN</td>\n",
       "      <td>NaN</td>\n",
       "      <td>NaN</td>\n",
       "      <td>NaN</td>\n",
       "      <td>NaT</td>\n",
       "      <td>NaN</td>\n",
       "    </tr>\n",
       "    <tr>\n",
       "      <th>4</th>\n",
       "      <td>139128</td>\n",
       "      <td>1050</td>\n",
       "      <td>97635414</td>\n",
       "      <td>282.140015</td>\n",
       "      <td>1</td>\n",
       "      <td>0.0</td>\n",
       "      <td>73291</td>\n",
       "      <td>2846</td>\n",
       "      <td>85.0</td>\n",
       "      <td>84</td>\n",
       "      <td>NaN</td>\n",
       "      <td>NaN</td>\n",
       "      <td>NaN</td>\n",
       "      <td>NaN</td>\n",
       "      <td>NaN</td>\n",
       "      <td>NaT</td>\n",
       "      <td>NaN</td>\n",
       "    </tr>\n",
       "  </tbody>\n",
       "</table>\n",
       "</div>"
      ],
      "text/plain": [
       "   order_id  user_id  line_item_id       price  quantity  discount  \\\n",
       "0    139128     1050      97633689  236.889999         1       0.0   \n",
       "1    139128     1050      97633791  178.160004         1       0.0   \n",
       "2    139128     1050      97635201  173.279999         1       0.0   \n",
       "3    139128     1050      97635312   73.690002         1       0.0   \n",
       "4    139128     1050      97635414  282.140015         1       0.0   \n",
       "\n",
       "   product_id  brand_name  master_category_id  parent_category_id  \\\n",
       "0     5045454        3573               122.0                 119   \n",
       "1       73719        5154               122.0                 119   \n",
       "2     7000939        2846                85.0                  84   \n",
       "3     7386015        3342                85.0                  84   \n",
       "4       73291        2846                85.0                  84   \n",
       "\n",
       "  order_created_time  retailer  platform  city_name  gender bdate  age  \n",
       "0                NaN       NaN       NaN        NaN     NaN   NaT  NaN  \n",
       "1                NaN       NaN       NaN        NaN     NaN   NaT  NaN  \n",
       "2                NaN       NaN       NaN        NaN     NaN   NaT  NaN  \n",
       "3                NaN       NaN       NaN        NaN     NaN   NaT  NaN  \n",
       "4                NaN       NaN       NaN        NaN     NaN   NaT  NaN  "
      ]
     },
     "execution_count": 9,
     "metadata": {},
     "output_type": "execute_result"
    }
   ],
   "source": [
    "merged_df.head()"
   ]
  },
  {
   "cell_type": "code",
   "execution_count": 10,
   "metadata": {
    "ExecuteTime": {
     "end_time": "2020-10-09T21:33:49.017760Z",
     "start_time": "2020-10-09T21:33:17.707108Z"
    }
   },
   "outputs": [],
   "source": [
    "merged_df.fillna(value=-1, inplace=True)"
   ]
  },
  {
   "cell_type": "code",
   "execution_count": 11,
   "metadata": {
    "ExecuteTime": {
     "end_time": "2020-10-09T21:33:49.025778Z",
     "start_time": "2020-10-09T21:33:49.019468Z"
    }
   },
   "outputs": [
    {
     "data": {
      "text/plain": [
       "order_id                int64\n",
       "user_id                 int64\n",
       "line_item_id            int64\n",
       "price                 float64\n",
       "quantity                int64\n",
       "discount              float64\n",
       "product_id              int64\n",
       "brand_name              int16\n",
       "master_category_id    float64\n",
       "parent_category_id      int64\n",
       "order_created_time     object\n",
       "retailer              float64\n",
       "platform              float64\n",
       "city_name             float64\n",
       "gender                float64\n",
       "bdate                  object\n",
       "age                   float64\n",
       "dtype: object"
      ]
     },
     "execution_count": 11,
     "metadata": {},
     "output_type": "execute_result"
    }
   ],
   "source": [
    "merged_df.dtypes"
   ]
  },
  {
   "cell_type": "code",
   "execution_count": 12,
   "metadata": {
    "ExecuteTime": {
     "end_time": "2020-10-09T21:33:51.824627Z",
     "start_time": "2020-10-09T21:33:49.027409Z"
    }
   },
   "outputs": [],
   "source": [
    "# Change data types to reduce memory footprint\n",
    "merged_df = merged_df.astype({\n",
    "    'user_id': 'int32',\n",
    "    'order_id': 'int32',\n",
    "    'price': 'float32',\n",
    "    'quantity': 'int32',\n",
    "    'discount': 'float32',\n",
    "    'product_id': 'int32',\n",
    "    'brand_name': 'int32',\n",
    "    'master_category_id': 'int32',\n",
    "    'parent_category_id': 'int32',\n",
    "    'retailer': 'int16',\n",
    "    'platform': 'int8',\n",
    "    'city_name': 'int16',\n",
    "    'gender': 'int8',\n",
    "    'age': 'int8',\n",
    "    }, copy=True)"
   ]
  },
  {
   "cell_type": "code",
   "execution_count": 13,
   "metadata": {
    "ExecuteTime": {
     "end_time": "2020-10-09T21:33:51.830999Z",
     "start_time": "2020-10-09T21:33:51.826170Z"
    }
   },
   "outputs": [
    {
     "data": {
      "text/plain": [
       "order_id                int32\n",
       "user_id                 int32\n",
       "line_item_id            int64\n",
       "price                 float32\n",
       "quantity                int32\n",
       "discount              float32\n",
       "product_id              int32\n",
       "brand_name              int32\n",
       "master_category_id      int32\n",
       "parent_category_id      int32\n",
       "order_created_time     object\n",
       "retailer                int16\n",
       "platform                 int8\n",
       "city_name               int16\n",
       "gender                   int8\n",
       "bdate                  object\n",
       "age                      int8\n",
       "dtype: object"
      ]
     },
     "execution_count": 13,
     "metadata": {},
     "output_type": "execute_result"
    }
   ],
   "source": [
    "merged_df.dtypes"
   ]
  },
  {
   "cell_type": "code",
   "execution_count": null,
   "metadata": {},
   "outputs": [],
   "source": []
  },
  {
   "cell_type": "code",
   "execution_count": 15,
   "metadata": {
    "ExecuteTime": {
     "end_time": "2020-10-09T21:43:39.254856Z",
     "start_time": "2020-10-09T21:43:39.241278Z"
    }
   },
   "outputs": [
    {
     "data": {
      "text/html": [
       "<div>\n",
       "<style scoped>\n",
       "    .dataframe tbody tr th:only-of-type {\n",
       "        vertical-align: middle;\n",
       "    }\n",
       "\n",
       "    .dataframe tbody tr th {\n",
       "        vertical-align: top;\n",
       "    }\n",
       "\n",
       "    .dataframe thead th {\n",
       "        text-align: right;\n",
       "    }\n",
       "</style>\n",
       "<table border=\"1\" class=\"dataframe\">\n",
       "  <thead>\n",
       "    <tr style=\"text-align: right;\">\n",
       "      <th></th>\n",
       "      <th>order_id</th>\n",
       "      <th>user_id</th>\n",
       "      <th>line_item_id</th>\n",
       "      <th>price</th>\n",
       "      <th>quantity</th>\n",
       "      <th>discount</th>\n",
       "      <th>product_id</th>\n",
       "      <th>brand_name</th>\n",
       "      <th>master_category_id</th>\n",
       "      <th>parent_category_id</th>\n",
       "      <th>order_created_time</th>\n",
       "      <th>retailer</th>\n",
       "      <th>platform</th>\n",
       "      <th>city_name</th>\n",
       "      <th>gender</th>\n",
       "      <th>bdate</th>\n",
       "      <th>age</th>\n",
       "    </tr>\n",
       "  </thead>\n",
       "  <tbody>\n",
       "    <tr>\n",
       "      <th>0</th>\n",
       "      <td>139128</td>\n",
       "      <td>1050</td>\n",
       "      <td>97633689</td>\n",
       "      <td>236.889999</td>\n",
       "      <td>1</td>\n",
       "      <td>0.0</td>\n",
       "      <td>5045454</td>\n",
       "      <td>3573</td>\n",
       "      <td>122</td>\n",
       "      <td>119</td>\n",
       "      <td>-1</td>\n",
       "      <td>-1</td>\n",
       "      <td>-1</td>\n",
       "      <td>-1</td>\n",
       "      <td>-1</td>\n",
       "      <td>-1</td>\n",
       "      <td>-1</td>\n",
       "    </tr>\n",
       "    <tr>\n",
       "      <th>1</th>\n",
       "      <td>139128</td>\n",
       "      <td>1050</td>\n",
       "      <td>97633791</td>\n",
       "      <td>178.160004</td>\n",
       "      <td>1</td>\n",
       "      <td>0.0</td>\n",
       "      <td>73719</td>\n",
       "      <td>5154</td>\n",
       "      <td>122</td>\n",
       "      <td>119</td>\n",
       "      <td>-1</td>\n",
       "      <td>-1</td>\n",
       "      <td>-1</td>\n",
       "      <td>-1</td>\n",
       "      <td>-1</td>\n",
       "      <td>-1</td>\n",
       "      <td>-1</td>\n",
       "    </tr>\n",
       "    <tr>\n",
       "      <th>2</th>\n",
       "      <td>139128</td>\n",
       "      <td>1050</td>\n",
       "      <td>97635201</td>\n",
       "      <td>173.279999</td>\n",
       "      <td>1</td>\n",
       "      <td>0.0</td>\n",
       "      <td>7000939</td>\n",
       "      <td>2846</td>\n",
       "      <td>85</td>\n",
       "      <td>84</td>\n",
       "      <td>-1</td>\n",
       "      <td>-1</td>\n",
       "      <td>-1</td>\n",
       "      <td>-1</td>\n",
       "      <td>-1</td>\n",
       "      <td>-1</td>\n",
       "      <td>-1</td>\n",
       "    </tr>\n",
       "    <tr>\n",
       "      <th>3</th>\n",
       "      <td>139128</td>\n",
       "      <td>1050</td>\n",
       "      <td>97635312</td>\n",
       "      <td>73.690002</td>\n",
       "      <td>1</td>\n",
       "      <td>0.0</td>\n",
       "      <td>7386015</td>\n",
       "      <td>3342</td>\n",
       "      <td>85</td>\n",
       "      <td>84</td>\n",
       "      <td>-1</td>\n",
       "      <td>-1</td>\n",
       "      <td>-1</td>\n",
       "      <td>-1</td>\n",
       "      <td>-1</td>\n",
       "      <td>-1</td>\n",
       "      <td>-1</td>\n",
       "    </tr>\n",
       "    <tr>\n",
       "      <th>4</th>\n",
       "      <td>139128</td>\n",
       "      <td>1050</td>\n",
       "      <td>97635414</td>\n",
       "      <td>282.140015</td>\n",
       "      <td>1</td>\n",
       "      <td>0.0</td>\n",
       "      <td>73291</td>\n",
       "      <td>2846</td>\n",
       "      <td>85</td>\n",
       "      <td>84</td>\n",
       "      <td>-1</td>\n",
       "      <td>-1</td>\n",
       "      <td>-1</td>\n",
       "      <td>-1</td>\n",
       "      <td>-1</td>\n",
       "      <td>-1</td>\n",
       "      <td>-1</td>\n",
       "    </tr>\n",
       "  </tbody>\n",
       "</table>\n",
       "</div>"
      ],
      "text/plain": [
       "   order_id  user_id  line_item_id       price  quantity  discount  \\\n",
       "0    139128     1050      97633689  236.889999         1       0.0   \n",
       "1    139128     1050      97633791  178.160004         1       0.0   \n",
       "2    139128     1050      97635201  173.279999         1       0.0   \n",
       "3    139128     1050      97635312   73.690002         1       0.0   \n",
       "4    139128     1050      97635414  282.140015         1       0.0   \n",
       "\n",
       "   product_id  brand_name  master_category_id  parent_category_id  \\\n",
       "0     5045454        3573                 122                 119   \n",
       "1       73719        5154                 122                 119   \n",
       "2     7000939        2846                  85                  84   \n",
       "3     7386015        3342                  85                  84   \n",
       "4       73291        2846                  85                  84   \n",
       "\n",
       "  order_created_time  retailer  platform  city_name  gender bdate  age  \n",
       "0                 -1        -1        -1         -1      -1    -1   -1  \n",
       "1                 -1        -1        -1         -1      -1    -1   -1  \n",
       "2                 -1        -1        -1         -1      -1    -1   -1  \n",
       "3                 -1        -1        -1         -1      -1    -1   -1  \n",
       "4                 -1        -1        -1         -1      -1    -1   -1  "
      ]
     },
     "execution_count": 15,
     "metadata": {},
     "output_type": "execute_result"
    }
   ],
   "source": [
    "merged_df.head()"
   ]
  },
  {
   "cell_type": "code",
   "execution_count": 14,
   "metadata": {
    "ExecuteTime": {
     "end_time": "2020-10-09T21:35:21.406215Z",
     "start_time": "2020-10-09T21:33:51.832411Z"
    }
   },
   "outputs": [],
   "source": [
    "merged_df.to_csv(os.path.join(DATA_PATH, \"merged_data.csv\"))"
   ]
  },
  {
   "cell_type": "code",
   "execution_count": 36,
   "metadata": {
    "ExecuteTime": {
     "end_time": "2020-10-09T21:54:51.562740Z",
     "start_time": "2020-10-09T21:54:50.055196Z"
    }
   },
   "outputs": [
    {
     "data": {
      "text/plain": [
       "0          210347\n",
       "709        139570\n",
       "39590       44804\n",
       "166         36970\n",
       "55133       34424\n",
       "            ...  \n",
       "7030736         1\n",
       "9122012         1\n",
       "5571748         1\n",
       "6748166         1\n",
       "8016826         1\n",
       "Name: product_id, Length: 91994, dtype: int64"
      ]
     },
     "execution_count": 36,
     "metadata": {},
     "output_type": "execute_result"
    }
   ],
   "source": [
    "merged_df.product_id.value_counts()"
   ]
  },
  {
   "cell_type": "code",
   "execution_count": null,
   "metadata": {},
   "outputs": [],
   "source": []
  },
  {
   "cell_type": "code",
   "execution_count": 124,
   "metadata": {
    "ExecuteTime": {
     "end_time": "2020-10-09T22:46:09.746103Z",
     "start_time": "2020-10-09T22:45:50.414587Z"
    }
   },
   "outputs": [],
   "source": [
    "merged_df['count'] = 1\n",
    "df_agg = merged_df.groupby([\"user_id\", \"product_id\"]).agg({'count':sum})\n",
    "g = df_agg['count'].groupby(level=0, group_keys=False)"
   ]
  },
  {
   "cell_type": "code",
   "execution_count": 125,
   "metadata": {
    "ExecuteTime": {
     "end_time": "2020-10-09T22:47:51.601331Z",
     "start_time": "2020-10-09T22:46:09.748513Z"
    }
   },
   "outputs": [],
   "source": [
    "res = g.nlargest(50)\n",
    "res.reset_index(inplace=True)\n",
    "res.product_id = res.product_id.astype('str')\n",
    "submit = res.groupby('user_id')['product_id'].apply(' '.join).reset_index()\n",
    "submit.columns = [\"Id\", \"Predicted\"]\n",
    "submit.to_csv(\"my_sumbit1.csv\", index=False)"
   ]
  },
  {
   "cell_type": "code",
   "execution_count": null,
   "metadata": {},
   "outputs": [],
   "source": []
  }
 ],
 "metadata": {
  "kernelspec": {
   "display_name": "Python 3",
   "language": "python",
   "name": "python3"
  },
  "language_info": {
   "codemirror_mode": {
    "name": "ipython",
    "version": 3
   },
   "file_extension": ".py",
   "mimetype": "text/x-python",
   "name": "python",
   "nbconvert_exporter": "python",
   "pygments_lexer": "ipython3",
   "version": "3.6.9"
  }
 },
 "nbformat": 4,
 "nbformat_minor": 2
}
