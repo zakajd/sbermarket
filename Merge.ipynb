{
 "cells": [
  {
   "cell_type": "markdown",
   "metadata": {},
   "source": [
    "1. Users in test? 107068"
   ]
  },
  {
   "cell_type": "markdown",
   "metadata": {},
   "source": [
    "# Merge data"
   ]
  },
  {
   "cell_type": "code",
   "execution_count": 1,
   "metadata": {
    "ExecuteTime": {
     "end_time": "2020-10-11T01:34:14.305483Z",
     "start_time": "2020-10-11T01:34:14.302986Z"
    }
   },
   "outputs": [],
   "source": [
    "DATA_PATH = \"data\""
   ]
  },
  {
   "cell_type": "code",
   "execution_count": 2,
   "metadata": {
    "ExecuteTime": {
     "end_time": "2020-10-11T01:34:15.200140Z",
     "start_time": "2020-10-11T01:34:14.624865Z"
    }
   },
   "outputs": [],
   "source": [
    "# Imports\n",
    "import pandas as pd\n",
    "import numpy as np\n",
    "import datetime \n",
    "from pathlib import Path\n",
    "from tqdm.notebook import tqdm\n",
    "import os\n",
    "\n",
    "%matplotlib inline "
   ]
  },
  {
   "cell_type": "code",
   "execution_count": 3,
   "metadata": {
    "ExecuteTime": {
     "end_time": "2020-10-11T01:34:19.798780Z",
     "start_time": "2020-10-11T01:34:19.271341Z"
    }
   },
   "outputs": [
    {
     "name": "stdout",
     "output_type": "stream",
     "text": [
      "Unique test users: 107068\n"
     ]
    },
    {
     "data": {
      "text/html": [
       "<div>\n",
       "<style scoped>\n",
       "    .dataframe tbody tr th:only-of-type {\n",
       "        vertical-align: middle;\n",
       "    }\n",
       "\n",
       "    .dataframe tbody tr th {\n",
       "        vertical-align: top;\n",
       "    }\n",
       "\n",
       "    .dataframe thead th {\n",
       "        text-align: right;\n",
       "    }\n",
       "</style>\n",
       "<table border=\"1\" class=\"dataframe\">\n",
       "  <thead>\n",
       "    <tr style=\"text-align: right;\">\n",
       "      <th></th>\n",
       "      <th>Id</th>\n",
       "      <th>Predicted</th>\n",
       "    </tr>\n",
       "  </thead>\n",
       "  <tbody>\n",
       "    <tr>\n",
       "      <th>0</th>\n",
       "      <td>51</td>\n",
       "      <td>3239211 10720024 8493844 1965540 5009002 95218...</td>\n",
       "    </tr>\n",
       "    <tr>\n",
       "      <th>1</th>\n",
       "      <td>65</td>\n",
       "      <td>11693356 13392267 2464515 2245175 4748570 1134...</td>\n",
       "    </tr>\n",
       "    <tr>\n",
       "      <th>2</th>\n",
       "      <td>766</td>\n",
       "      <td>12773054 3692749 12726751 10041624 11893515 23...</td>\n",
       "    </tr>\n",
       "  </tbody>\n",
       "</table>\n",
       "</div>"
      ],
      "text/plain": [
       "    Id                                          Predicted\n",
       "0   51  3239211 10720024 8493844 1965540 5009002 95218...\n",
       "1   65  11693356 13392267 2464515 2245175 4748570 1134...\n",
       "2  766  12773054 3692749 12726751 10041624 11893515 23..."
      ]
     },
     "execution_count": 3,
     "metadata": {},
     "output_type": "execute_result"
    }
   ],
   "source": [
    "submission_df = pd.read_csv(os.path.join(DATA_PATH, \"sample_submission.csv\"))\n",
    "test_user_ids = submission_df.Id\n",
    "print(\"Unique test users:\", test_user_ids.nunique())\n",
    "submission_df.head(3)"
   ]
  },
  {
   "cell_type": "code",
   "execution_count": 4,
   "metadata": {
    "ExecuteTime": {
     "end_time": "2020-10-11T01:34:37.513942Z",
     "start_time": "2020-10-11T01:34:37.491764Z"
    }
   },
   "outputs": [],
   "source": [
    "product_counts = pd.read_csv(\"product-counts.csv\")\n",
    "# # 35.000 products cover ~97% of all orders\n",
    "# most_popular_products = product_counts.product_id[:40000].tolist()\n",
    "\n",
    "# 5.000 products cover ~50% of all orders\n",
    "most_popular_products = product_counts.product_id[:5000].tolist()\n",
    "\n",
    "# banany, smetane, moloko, ...\n",
    "most_popular_products[:10]\n",
    "\n",
    "del product_counts"
   ]
  },
  {
   "cell_type": "code",
   "execution_count": 5,
   "metadata": {
    "ExecuteTime": {
     "end_time": "2020-10-11T01:34:41.529198Z",
     "start_time": "2020-10-11T01:34:41.520505Z"
    }
   },
   "outputs": [],
   "source": [
    "def replace_date(date_str):\n",
    "    if len(date_str) < 8:\n",
    "        return '2020-10-09'\n",
    "    else:\n",
    "        return date_str\n",
    "\n",
    "def str2date(date_str):\n",
    "    try:\n",
    "        date = datetime.datetime.strptime(date_str, '%Y-%m-%d')\n",
    "    except:\n",
    "        date = datetime.datetime.strptime(date_str, '%d.%m.%Y')\n",
    "    return date\n",
    "\n",
    "def calculate_age(born):\n",
    "    today = datetime.date.today()\n",
    "    age = today.year - born.year - ((today.month, today.day) < (born.month, born.day))\n",
    "    if age < 10 or age > 70:\n",
    "        age = 0\n",
    "    return age"
   ]
  },
  {
   "cell_type": "code",
   "execution_count": 6,
   "metadata": {
    "ExecuteTime": {
     "end_time": "2020-10-11T01:35:25.600874Z",
     "start_time": "2020-10-11T01:35:25.247632Z"
    }
   },
   "outputs": [
    {
     "name": "stdout",
     "output_type": "stream",
     "text": [
      "Users in original file 438867, unique 436927, diff 1940\n",
      "After filtering 20764, unique 20412, diff 352\n",
      "After droping duplicates and NaN's 8254, unique 8254, diff 0\n",
      "Sanity check. Should be same as previous 8254, unique 8254, diff 0\n"
     ]
    },
    {
     "data": {
      "text/html": [
       "<div>\n",
       "<style scoped>\n",
       "    .dataframe tbody tr th:only-of-type {\n",
       "        vertical-align: middle;\n",
       "    }\n",
       "\n",
       "    .dataframe tbody tr th {\n",
       "        vertical-align: top;\n",
       "    }\n",
       "\n",
       "    .dataframe thead th {\n",
       "        text-align: right;\n",
       "    }\n",
       "</style>\n",
       "<table border=\"1\" class=\"dataframe\">\n",
       "  <thead>\n",
       "    <tr style=\"text-align: right;\">\n",
       "      <th></th>\n",
       "      <th>user_id</th>\n",
       "      <th>gender</th>\n",
       "      <th>age</th>\n",
       "    </tr>\n",
       "  </thead>\n",
       "  <tbody>\n",
       "    <tr>\n",
       "      <th>10</th>\n",
       "      <td>1288925</td>\n",
       "      <td>1</td>\n",
       "      <td>38</td>\n",
       "    </tr>\n",
       "    <tr>\n",
       "      <th>43</th>\n",
       "      <td>1780454</td>\n",
       "      <td>0</td>\n",
       "      <td>0</td>\n",
       "    </tr>\n",
       "    <tr>\n",
       "      <th>48</th>\n",
       "      <td>534410</td>\n",
       "      <td>0</td>\n",
       "      <td>29</td>\n",
       "    </tr>\n",
       "    <tr>\n",
       "      <th>73</th>\n",
       "      <td>1050790</td>\n",
       "      <td>0</td>\n",
       "      <td>33</td>\n",
       "    </tr>\n",
       "    <tr>\n",
       "      <th>85</th>\n",
       "      <td>2119485</td>\n",
       "      <td>0</td>\n",
       "      <td>28</td>\n",
       "    </tr>\n",
       "  </tbody>\n",
       "</table>\n",
       "</div>"
      ],
      "text/plain": [
       "    user_id  gender  age\n",
       "10  1288925       1   38\n",
       "43  1780454       0    0\n",
       "48   534410       0   29\n",
       "73  1050790       0   33\n",
       "85  2119485       0   28"
      ]
     },
     "execution_count": 6,
     "metadata": {},
     "output_type": "execute_result"
    }
   ],
   "source": [
    "## Preprocess Users\n",
    "user_df = pd.read_csv(os.path.join(DATA_PATH, \"kaggle_tab_1345/tab_4_user_profiles.csv\"))\n",
    "\n",
    "uniq = user_df.user_id.nunique()\n",
    "print(\n",
    "    f\"Users in original file {len(user_df)}, unique {uniq}, diff {len(user_df) - uniq}\")\n",
    "\n",
    "# Filter users not in test\n",
    "user_df = user_df[user_df.user_id.isin(test_user_ids)]\n",
    "uniq = user_df.user_id.nunique()\n",
    "print(f\"After filtering {len(user_df)}, unique {uniq}, diff {len(user_df) - uniq}\")\n",
    "\n",
    "# Drop duplicates (352 / ~2% of the data)\n",
    "user_df.drop_duplicates(\"user_id\", inplace=True)\n",
    "\n",
    "# Drop NaNs\n",
    "user_df.dropna(inplace=True)\n",
    "uniq = user_df.user_id.nunique()\n",
    "print(f\"After droping duplicates and NaN's {len(user_df)}, unique {uniq}, diff {len(user_df) - uniq}\")\n",
    "\n",
    "\n",
    "# Replace incorrect dates\n",
    "user_df.bdate = user_df.bdate.map(lambda x: replace_date(x))\n",
    "# Convert all dates to datetime object\n",
    "user_df.bdate = user_df.bdate.map(lambda x: str2date(x))\n",
    "# Add new column with age\n",
    "user_df[\"age\"] = user_df.bdate.map(lambda x: calculate_age(x))\n",
    "# Drop bdate column\n",
    "user_df.drop(columns=\"bdate\", inplace=True)\n",
    "# Label code column\n",
    "user_df.gender = user_df.gender.astype('category').cat.codes\n",
    "\n",
    "print(f\"Sanity check. Should be same as previous {len(user_df)}, unique {uniq}, diff {len(user_df) - uniq}\")\n",
    "user_df.head()"
   ]
  },
  {
   "cell_type": "code",
   "execution_count": 7,
   "metadata": {
    "ExecuteTime": {
     "end_time": "2020-10-11T01:35:35.729202Z",
     "start_time": "2020-10-11T01:35:35.578895Z"
    }
   },
   "outputs": [
    {
     "data": {
      "text/plain": [
       "<matplotlib.axes._subplots.AxesSubplot at 0x7efcb020b2b0>"
      ]
     },
     "execution_count": 7,
     "metadata": {},
     "output_type": "execute_result"
    },
    {
     "data": {
      "image/png": "[encoded data removed]",
      "text/plain": [
       "<Figure size 432x288 with 1 Axes>"
      ]
     },
     "metadata": {
      "needs_background": "light"
     },
     "output_type": "display_data"
    }
   ],
   "source": [
    "user_df.age.hist()"
   ]
  },
  {
   "cell_type": "code",
   "execution_count": 8,
   "metadata": {
    "ExecuteTime": {
     "end_time": "2020-10-11T01:35:39.246080Z",
     "start_time": "2020-10-11T01:35:39.235821Z"
    }
   },
   "outputs": [
    {
     "data": {
      "text/html": [
       "<div>\n",
       "<style scoped>\n",
       "    .dataframe tbody tr th:only-of-type {\n",
       "        vertical-align: middle;\n",
       "    }\n",
       "\n",
       "    .dataframe tbody tr th {\n",
       "        vertical-align: top;\n",
       "    }\n",
       "\n",
       "    .dataframe thead th {\n",
       "        text-align: right;\n",
       "    }\n",
       "</style>\n",
       "<table border=\"1\" class=\"dataframe\">\n",
       "  <thead>\n",
       "    <tr style=\"text-align: right;\">\n",
       "      <th></th>\n",
       "      <th>store_id</th>\n",
       "      <th>city_name</th>\n",
       "    </tr>\n",
       "  </thead>\n",
       "  <tbody>\n",
       "    <tr>\n",
       "      <th>0</th>\n",
       "      <td>14</td>\n",
       "      <td>45</td>\n",
       "    </tr>\n",
       "    <tr>\n",
       "      <th>1</th>\n",
       "      <td>21</td>\n",
       "      <td>45</td>\n",
       "    </tr>\n",
       "    <tr>\n",
       "      <th>2</th>\n",
       "      <td>1</td>\n",
       "      <td>45</td>\n",
       "    </tr>\n",
       "  </tbody>\n",
       "</table>\n",
       "</div>"
      ],
      "text/plain": [
       "   store_id  city_name\n",
       "0        14         45\n",
       "1        21         45\n",
       "2         1         45"
      ]
     },
     "execution_count": 8,
     "metadata": {},
     "output_type": "execute_result"
    }
   ],
   "source": [
    "## Preprocess Citys\n",
    "city_df = pd.read_csv(os.path.join(DATA_PATH, \"tab_6_city.csv\"))\n",
    "city_df.city_name = city_df.city_name.astype('category').cat.codes\n",
    "city_df.head(3)"
   ]
  },
  {
   "cell_type": "code",
   "execution_count": 9,
   "metadata": {
    "ExecuteTime": {
     "end_time": "2020-10-11T01:36:02.724686Z",
     "start_time": "2020-10-11T01:35:59.693565Z"
    }
   },
   "outputs": [
    {
     "name": "stdout",
     "output_type": "stream",
     "text": [
      "Rows in original file 2461958, unique 2426955, diff 35003\n",
      "After filtering 967345, unique 953436, diff 13909\n",
      "After dropping duplicates 967340, unique 953436, diff 13904\n",
      "Sanity check. Should be same as previous 967340, unique 953436, diff 13904\n"
     ]
    },
    {
     "data": {
      "text/html": [
       "<div>\n",
       "<style scoped>\n",
       "    .dataframe tbody tr th:only-of-type {\n",
       "        vertical-align: middle;\n",
       "    }\n",
       "\n",
       "    .dataframe tbody tr th {\n",
       "        vertical-align: top;\n",
       "    }\n",
       "\n",
       "    .dataframe thead th {\n",
       "        text-align: right;\n",
       "    }\n",
       "</style>\n",
       "<table border=\"1\" class=\"dataframe\">\n",
       "  <thead>\n",
       "    <tr style=\"text-align: right;\">\n",
       "      <th></th>\n",
       "      <th>user_id</th>\n",
       "      <th>order_id</th>\n",
       "      <th>order_created_time</th>\n",
       "      <th>retailer</th>\n",
       "      <th>store_id</th>\n",
       "      <th>platform</th>\n",
       "    </tr>\n",
       "  </thead>\n",
       "  <tbody>\n",
       "    <tr>\n",
       "      <th>3</th>\n",
       "      <td>187</td>\n",
       "      <td>15952443</td>\n",
       "      <td>2020-09-01 17:34:00</td>\n",
       "      <td>16</td>\n",
       "      <td>533</td>\n",
       "      <td>0</td>\n",
       "    </tr>\n",
       "    <tr>\n",
       "      <th>15</th>\n",
       "      <td>400</td>\n",
       "      <td>11911561</td>\n",
       "      <td>2020-06-13 13:26:03</td>\n",
       "      <td>2</td>\n",
       "      <td>11</td>\n",
       "      <td>0</td>\n",
       "    </tr>\n",
       "    <tr>\n",
       "      <th>16</th>\n",
       "      <td>400</td>\n",
       "      <td>11922112</td>\n",
       "      <td>2020-06-13 16:30:57</td>\n",
       "      <td>2</td>\n",
       "      <td>11</td>\n",
       "      <td>0</td>\n",
       "    </tr>\n",
       "    <tr>\n",
       "      <th>17</th>\n",
       "      <td>400</td>\n",
       "      <td>12264981</td>\n",
       "      <td>2020-06-19 11:57:25</td>\n",
       "      <td>2</td>\n",
       "      <td>11</td>\n",
       "      <td>0</td>\n",
       "    </tr>\n",
       "    <tr>\n",
       "      <th>18</th>\n",
       "      <td>400</td>\n",
       "      <td>12749996</td>\n",
       "      <td>2020-06-29 19:14:42</td>\n",
       "      <td>2</td>\n",
       "      <td>11</td>\n",
       "      <td>0</td>\n",
       "    </tr>\n",
       "  </tbody>\n",
       "</table>\n",
       "</div>"
      ],
      "text/plain": [
       "    user_id  order_id   order_created_time  retailer  store_id  platform\n",
       "3       187  15952443  2020-09-01 17:34:00        16       533         0\n",
       "15      400  11911561  2020-06-13 13:26:03         2        11         0\n",
       "16      400  11922112  2020-06-13 16:30:57         2        11         0\n",
       "17      400  12264981  2020-06-19 11:57:25         2        11         0\n",
       "18      400  12749996  2020-06-29 19:14:42         2        11         0"
      ]
     },
     "execution_count": 9,
     "metadata": {},
     "output_type": "execute_result"
    }
   ],
   "source": [
    "# diff is because correct primary key is [order_id, store_id]\n",
    "\n",
    "## Preprocess Orders\n",
    "orders_df = pd.read_csv(os.path.join(DATA_PATH, \"kaggle_tab_1345/tab_1_orders.csv\"))\n",
    "uniq = orders_df.order_id.nunique()\n",
    "print(f\"Rows in original file {len(orders_df)}, unique {uniq}, diff {len(orders_df) - uniq}\")\n",
    "# Filter orders only from test users\n",
    "orders_df = orders_df[orders_df.user_id.isin(test_user_ids)]\n",
    "uniq = orders_df.order_id.nunique()\n",
    "print(f\"After filtering {len(orders_df)}, unique {uniq}, diff {len(orders_df) - uniq}\")\n",
    "\n",
    "# Drop duplicates\n",
    "orders_df.drop_duplicates([\"order_id\", \"store_id\"], inplace=True)\n",
    "uniq = orders_df.order_id.nunique()\n",
    "print(f\"After dropping duplicates {len(orders_df)}, unique {uniq}, diff {len(orders_df) - uniq}\")\n",
    "\n",
    "# Label code columns\n",
    "orders_df.retailer = orders_df.retailer.astype('category').cat.codes\n",
    "orders_df.platform = orders_df.platform.astype('category').cat.codes\n",
    "\n",
    "# # Merge city data\n",
    "# orders_df = orders_df.set_index('store_id').join(city_df.set_index('store_id'))\n",
    "# orders_df.reset_index(inplace=True)\n",
    "# # # Merge user data\n",
    "# orders_df = orders_df.set_index('user_id').join(user_df.set_index('user_id'))\n",
    "# orders_df.reset_index(inplace=True)\n",
    "\n",
    "uniq = orders_df.order_id.nunique()\n",
    "print(f\"Sanity check. Should be same as previous {len(orders_df)}, unique {uniq}, diff {len(orders_df) - uniq}\")\n",
    "orders_df.head()"
   ]
  },
  {
   "cell_type": "code",
   "execution_count": 10,
   "metadata": {
    "ExecuteTime": {
     "end_time": "2020-10-11T01:36:45.178932Z",
     "start_time": "2020-10-11T01:36:26.688585Z"
    }
   },
   "outputs": [],
   "source": [
    "# Add new feature\n",
    "orders_df['order_created_time'] = pd.to_datetime(orders_df['order_created_time'])\n",
    "tmp = orders_df.drop_duplicates([\"order_id\"]).sort_values(by=[\"user_id\", \"order_id\", \"order_created_time\"])\n",
    "tmp['day_since_prior_order'] = tmp.groupby(['user_id'])['order_created_time'].diff().dt.days.fillna(-1)\n",
    "orders_df = orders_df.merge(tmp[[\"order_id\", \"day_since_prior_order\"]])\n",
    "del tmp"
   ]
  },
  {
   "cell_type": "code",
   "execution_count": 11,
   "metadata": {
    "ExecuteTime": {
     "end_time": "2020-10-11T01:36:56.512191Z",
     "start_time": "2020-10-11T01:36:56.506830Z"
    }
   },
   "outputs": [
    {
     "data": {
      "text/plain": [
       "user_id                           int64\n",
       "order_id                          int64\n",
       "order_created_time       datetime64[ns]\n",
       "retailer                           int8\n",
       "store_id                          int64\n",
       "platform                           int8\n",
       "day_since_prior_order           float64\n",
       "dtype: object"
      ]
     },
     "execution_count": 11,
     "metadata": {},
     "output_type": "execute_result"
    }
   ],
   "source": [
    "orders_df.dtypes"
   ]
  },
  {
   "cell_type": "code",
   "execution_count": 12,
   "metadata": {
    "ExecuteTime": {
     "end_time": "2020-10-11T01:38:26.559351Z",
     "start_time": "2020-10-11T01:38:26.536634Z"
    }
   },
   "outputs": [],
   "source": [
    "# Convert to reduce memory usage\n",
    "orders_df = orders_df.astype({\n",
    "        'user_id': 'int32',\n",
    "        'order_id': 'int32',\n",
    "        'retailer': 'int8',\n",
    "        'store_id': 'int16',\n",
    "        'platform': 'int8',\n",
    "        'day_since_prior_order': 'int16'}, copy=False)"
   ]
  },
  {
   "cell_type": "code",
   "execution_count": 28,
   "metadata": {
    "ExecuteTime": {
     "end_time": "2020-10-11T01:26:17.677037Z",
     "start_time": "2020-10-11T01:26:17.674939Z"
    }
   },
   "outputs": [],
   "source": [
    "# orders_df.city_name.hist()"
   ]
  },
  {
   "cell_type": "code",
   "execution_count": 13,
   "metadata": {
    "ExecuteTime": {
     "end_time": "2020-10-11T01:40:41.464069Z",
     "start_time": "2020-10-11T01:39:09.732759Z"
    }
   },
   "outputs": [
    {
     "data": {
      "application/vnd.jupyter.widget-view+json": {
       "model_id": "d741e2ba03734ab49db9f60a38e87fcc",
       "version_major": 2,
       "version_minor": 0
      },
      "text/plain": [
       "HBox(children=(FloatProgress(value=0.0, max=26.0), HTML(value='')))"
      ]
     },
     "metadata": {},
     "output_type": "display_data"
    },
    {
     "name": "stdout",
     "output_type": "stream",
     "text": [
      "\n"
     ]
    }
   ],
   "source": [
    "## Preprocess Products\n",
    "pathes = sorted(list(Path(DATA_PATH).glob('*/tab_2*.csv')))\n",
    "dfs = []\n",
    "\n",
    "for path in tqdm(pathes):\n",
    "    # Read DF\n",
    "    df = pd.read_csv(path)\n",
    "    \n",
    "    # Filter: delete users not from test and not popular products\n",
    "    df = df[df.user_id.isin(test_user_ids) & df.product_id.isin(most_popular_products)]\n",
    "\n",
    "    # Drop column with long desciption\n",
    "    df.drop(columns=[\"product_name\"], inplace=True)\n",
    "    \n",
    "    # Label code column\n",
    "    df.brand_name = df.brand_name.astype('category').cat.codes\n",
    "    \n",
    "    # Fill NaNs in one column\n",
    "    df.master_category_id.fillna(-1, inplace=True)\n",
    "    dfs.append(df)"
   ]
  },
  {
   "cell_type": "code",
   "execution_count": 14,
   "metadata": {
    "ExecuteTime": {
     "end_time": "2020-10-11T01:40:51.557988Z",
     "start_time": "2020-10-11T01:40:50.719209Z"
    }
   },
   "outputs": [
    {
     "name": "stdout",
     "output_type": "stream",
     "text": [
      "Num rows in filtered products: 12563262\n",
      "Num unique products: 5000\n"
     ]
    }
   ],
   "source": [
    "products_df = pd.concat(dfs)\n",
    "del dfs\n",
    "print(\"Num rows in filtered products:\", len(products_df)) # 21677070\n",
    "print(\"Num unique products:\", products_df.product_id.nunique()) # 91994"
   ]
  },
  {
   "cell_type": "code",
   "execution_count": 16,
   "metadata": {
    "ExecuteTime": {
     "end_time": "2020-10-11T01:41:53.986636Z",
     "start_time": "2020-10-11T01:41:52.368121Z"
    }
   },
   "outputs": [
    {
     "name": "stdout",
     "output_type": "stream",
     "text": [
      "Orders: 953436, Products: 825696\n",
      "Intersection: 780813\n",
      "Difference orders: 172623\n",
      "Difference products: 44883\n"
     ]
    }
   ],
   "source": [
    "# Compare `orders_id`\n",
    "orders_from_orders = set(orders_df.order_id)\n",
    "orders_from_products = set(products_df.order_id)\n",
    "print(f\"Orders: {len(orders_from_orders)}, Products: {len(orders_from_products)}\")\n",
    "print(f\"Intersection: {len(orders_from_orders.intersection(orders_from_products))}\")\n",
    "print(f\"Difference orders: {len(orders_from_orders.difference(orders_from_products))}\")\n",
    "print(f\"Difference products: {len(orders_from_products.difference(orders_from_orders))}\")\n",
    "\n",
    "# Not for all users/orders in Products table we can find corresponding element in Orders to get additional features"
   ]
  },
  {
   "cell_type": "code",
   "execution_count": 17,
   "metadata": {
    "ExecuteTime": {
     "end_time": "2020-10-11T01:42:10.792676Z",
     "start_time": "2020-10-11T01:42:06.041737Z"
    }
   },
   "outputs": [],
   "source": [
    "# Mean order size per user\n",
    "mean_orders = (products_df.groupby([\"user_id\", \"order_id\"])\n",
    "                         .agg({'line_item_id':'count'})\n",
    "                         .groupby(\"user_id\").mean()\n",
    "                         .rename(columns={'line_item_id':'mean_order_size'}))\n",
    "\n",
    "products_df = products_df.merge(mean_orders, on='user_id')\n",
    "del mean_orders"
   ]
  },
  {
   "cell_type": "code",
   "execution_count": 18,
   "metadata": {
    "ExecuteTime": {
     "end_time": "2020-10-11T01:42:32.900086Z",
     "start_time": "2020-10-11T01:42:32.894461Z"
    }
   },
   "outputs": [
    {
     "data": {
      "text/plain": [
       "user_id                 int64\n",
       "order_id                int64\n",
       "line_item_id            int64\n",
       "price                 float64\n",
       "quantity                int64\n",
       "discount              float64\n",
       "product_id              int64\n",
       "brand_name              int16\n",
       "master_category_id    float64\n",
       "parent_category_id      int64\n",
       "mean_order_size       float64\n",
       "dtype: object"
      ]
     },
     "execution_count": 18,
     "metadata": {},
     "output_type": "execute_result"
    }
   ],
   "source": [
    "products_df.dtypes"
   ]
  },
  {
   "cell_type": "code",
   "execution_count": 19,
   "metadata": {
    "ExecuteTime": {
     "end_time": "2020-10-11T01:43:35.392182Z",
     "start_time": "2020-10-11T01:43:34.688100Z"
    }
   },
   "outputs": [],
   "source": [
    "products_df = products_df.astype({\n",
    "        'user_id': 'int32',\n",
    "        'order_id': 'int32',\n",
    "        'line_item_id': 'int32',\n",
    "        'price': 'float32',\n",
    "        'quantity': 'int32',\n",
    "        'discount': 'float32',\n",
    "        'product_id': 'int32',\n",
    "        'brand_name': 'int16',\n",
    "        'master_category_id': 'int32',\n",
    "        'parent_category_id': 'int32',\n",
    "        'mean_order_size': 'float32'}, copy=False)"
   ]
  },
  {
   "cell_type": "code",
   "execution_count": 20,
   "metadata": {
    "ExecuteTime": {
     "end_time": "2020-10-11T01:44:20.765110Z",
     "start_time": "2020-10-11T01:44:17.489159Z"
    }
   },
   "outputs": [],
   "source": [
    "# Merge Orders data\n",
    "tmp = orders_df.drop_duplicates(\"order_id\").drop(columns=\"user_id\")\n",
    "merged_df = products_df.merge(tmp, how='left', on='order_id')\n",
    "merged_df.head()\n",
    "del tmp, products_df"
   ]
  },
  {
   "cell_type": "code",
   "execution_count": 97,
   "metadata": {
    "ExecuteTime": {
     "end_time": "2020-10-11T03:32:08.801208Z",
     "start_time": "2020-10-11T03:32:08.797572Z"
    }
   },
   "outputs": [
    {
     "data": {
      "text/plain": [
       "12006535"
      ]
     },
     "execution_count": 97,
     "metadata": {},
     "output_type": "execute_result"
    }
   ],
   "source": [
    "len(merged_df) # 20779975"
   ]
  },
  {
   "cell_type": "markdown",
   "metadata": {},
   "source": [
    "**Finished generating GENERAL tables**"
   ]
  },
  {
   "cell_type": "markdown",
   "metadata": {},
   "source": [
    "# Train data split"
   ]
  },
  {
   "cell_type": "code",
   "execution_count": 98,
   "metadata": {
    "ExecuteTime": {
     "end_time": "2020-10-11T03:32:16.923424Z",
     "start_time": "2020-10-11T03:32:13.046160Z"
    }
   },
   "outputs": [
    {
     "name": "stdout",
     "output_type": "stream",
     "text": [
      "After dropping NaN's: 12006535\n"
     ]
    }
   ],
   "source": [
    "# Drop NaN's from merged_df (~5% of the data) (No info about order date)\n",
    "merged_df.dropna(inplace=True)\n",
    "print(\"After dropping NaN's:\", len(merged_df))"
   ]
  },
  {
   "cell_type": "code",
   "execution_count": 25,
   "metadata": {
    "ExecuteTime": {
     "end_time": "2020-10-11T01:45:38.835196Z",
     "start_time": "2020-10-11T01:45:38.756700Z"
    }
   },
   "outputs": [],
   "source": [
    "NUM_USERS = 5000\n",
    "users = merged_df.user_id.unique()\n",
    "# Take a subset first to make debug faster\n",
    "train_users = users[:NUM_USERS]\n",
    "print(f\"Training size: {len(most_popular_products) * len(train_users)}\") # 25000000"
   ]
  },
  {
   "cell_type": "code",
   "execution_count": 27,
   "metadata": {
    "ExecuteTime": {
     "end_time": "2020-10-11T01:45:52.299351Z",
     "start_time": "2020-10-11T01:45:50.268890Z"
    }
   },
   "outputs": [],
   "source": [
    "# Generate empty df with # rows = len(user_id) x len(product_id) all unique\n",
    "import itertools\n",
    "data = list(itertools.product(most_popular_products, train_users))"
   ]
  },
  {
   "cell_type": "code",
   "execution_count": 28,
   "metadata": {
    "ExecuteTime": {
     "end_time": "2020-10-11T01:45:54.079674Z",
     "start_time": "2020-10-11T01:45:52.302145Z"
    }
   },
   "outputs": [],
   "source": [
    "df_data = {\n",
    "    \"product_id\": [x[0] for x in data],\n",
    "    \"user_id\": [x[1] for x in data]\n",
    "}"
   ]
  },
  {
   "cell_type": "code",
   "execution_count": 29,
   "metadata": {
    "ExecuteTime": {
     "end_time": "2020-10-11T01:46:02.870936Z",
     "start_time": "2020-10-11T01:45:54.084756Z"
    }
   },
   "outputs": [],
   "source": [
    "X_train = pd.DataFrame(df_data)"
   ]
  },
  {
   "cell_type": "code",
   "execution_count": 31,
   "metadata": {
    "ExecuteTime": {
     "end_time": "2020-10-11T01:47:41.184033Z",
     "start_time": "2020-10-11T01:47:39.896723Z"
    }
   },
   "outputs": [],
   "source": [
    "last_order_date = merged_df.groupby(['user_id'])['order_created_time'].max().to_frame('order_created_time').reset_index()\n",
    "last_order_df = pd.merge(merged_df, last_order_date, on=['user_id', 'order_created_time']) \n"
   ]
  },
  {
   "cell_type": "code",
   "execution_count": null,
   "metadata": {
    "ExecuteTime": {
     "end_time": "2020-10-11T01:48:44.233802Z",
     "start_time": "2020-10-11T01:48:43.000038Z"
    }
   },
   "outputs": [],
   "source": [
    "target = pd.merge(merged_df, last_order_date, on=['user_id', 'order_created_time']) \n",
    "\n",
    "target_user_product_pos = target[['user_id', 'product_id']]\n",
    "target_user_product_pos['target'] = 1\n",
    "target_user_product_pos.drop_duplicates(inplace=True)"
   ]
  },
  {
   "cell_type": "code",
   "execution_count": 35,
   "metadata": {
    "ExecuteTime": {
     "end_time": "2020-10-11T01:51:32.706203Z",
     "start_time": "2020-10-11T01:51:24.102603Z"
    }
   },
   "outputs": [
    {
     "data": {
      "text/html": [
       "<div>\n",
       "<style scoped>\n",
       "    .dataframe tbody tr th:only-of-type {\n",
       "        vertical-align: middle;\n",
       "    }\n",
       "\n",
       "    .dataframe tbody tr th {\n",
       "        vertical-align: top;\n",
       "    }\n",
       "\n",
       "    .dataframe thead th {\n",
       "        text-align: right;\n",
       "    }\n",
       "</style>\n",
       "<table border=\"1\" class=\"dataframe\">\n",
       "  <thead>\n",
       "    <tr style=\"text-align: right;\">\n",
       "      <th></th>\n",
       "      <th>product_id</th>\n",
       "      <th>user_id</th>\n",
       "      <th>target</th>\n",
       "    </tr>\n",
       "  </thead>\n",
       "  <tbody>\n",
       "    <tr>\n",
       "      <th>0</th>\n",
       "      <td>709</td>\n",
       "      <td>766</td>\n",
       "      <td>0.0</td>\n",
       "    </tr>\n",
       "    <tr>\n",
       "      <th>1</th>\n",
       "      <td>709</td>\n",
       "      <td>1012</td>\n",
       "      <td>0.0</td>\n",
       "    </tr>\n",
       "    <tr>\n",
       "      <th>2</th>\n",
       "      <td>709</td>\n",
       "      <td>1132</td>\n",
       "      <td>0.0</td>\n",
       "    </tr>\n",
       "    <tr>\n",
       "      <th>3</th>\n",
       "      <td>709</td>\n",
       "      <td>2131</td>\n",
       "      <td>0.0</td>\n",
       "    </tr>\n",
       "    <tr>\n",
       "      <th>4</th>\n",
       "      <td>709</td>\n",
       "      <td>3011</td>\n",
       "      <td>0.0</td>\n",
       "    </tr>\n",
       "  </tbody>\n",
       "</table>\n",
       "</div>"
      ],
      "text/plain": [
       "   product_id  user_id  target\n",
       "0         709      766     0.0\n",
       "1         709     1012     0.0\n",
       "2         709     1132     0.0\n",
       "3         709     2131     0.0\n",
       "4         709     3011     0.0"
      ]
     },
     "execution_count": 35,
     "metadata": {},
     "output_type": "execute_result"
    }
   ],
   "source": [
    "X_train = X_train.merge(target_user_product_pos, how='left')\n",
    "X_train.fillna(value=0, inplace=True)\n",
    "X_train.head()"
   ]
  },
  {
   "cell_type": "code",
   "execution_count": 37,
   "metadata": {
    "ExecuteTime": {
     "end_time": "2020-10-11T02:18:43.040444Z",
     "start_time": "2020-10-11T02:18:43.026854Z"
    }
   },
   "outputs": [],
   "source": [
    "train_order_ids = target[\"order_id\"].unique()"
   ]
  },
  {
   "cell_type": "code",
   "execution_count": 38,
   "metadata": {
    "ExecuteTime": {
     "end_time": "2020-10-11T02:19:21.656992Z",
     "start_time": "2020-10-11T02:19:19.867425Z"
    }
   },
   "outputs": [],
   "source": [
    "# Use this data to generate features\n",
    "X_prior = merged_df[~merged_df.order_id.isin(train_order_ids)]"
   ]
  },
  {
   "cell_type": "markdown",
   "metadata": {},
   "source": [
    "# Features"
   ]
  },
  {
   "cell_type": "markdown",
   "metadata": {},
   "source": [
    "## Product Features"
   ]
  },
  {
   "cell_type": "code",
   "execution_count": null,
   "metadata": {},
   "outputs": [],
   "source": [
    "\"product_total_orders\", \"product_avg_order_dow\", \"product_avg_order_hour_of_day\""
   ]
  },
  {
   "cell_type": "code",
   "execution_count": 49,
   "metadata": {
    "ExecuteTime": {
     "end_time": "2020-10-11T02:29:05.523096Z",
     "start_time": "2020-10-11T02:29:05.288013Z"
    }
   },
   "outputs": [],
   "source": [
    "product_total_orders = X_prior.groupby(['product_id']).size().reset_index().rename(columns={0:'product_total_orders'})\n",
    "\n"
   ]
  },
  {
   "cell_type": "code",
   "execution_count": 129,
   "metadata": {
    "ExecuteTime": {
     "end_time": "2020-10-11T04:04:18.615696Z",
     "start_time": "2020-10-11T04:04:16.194031Z"
    }
   },
   "outputs": [],
   "source": [
    "tmp = X_prior[[\"product_id\", \"order_created_time\"]]\n",
    "tmp[\"order_dow\"] = tmp[\"order_created_time\"].dt.weekday\n",
    "tmp[\"order_hour\"] = tmp[\"order_created_time\"].dt.hour + tmp[\"order_created_time\"].dt.minute / 60.0"
   ]
  },
  {
   "cell_type": "code",
   "execution_count": 130,
   "metadata": {
    "ExecuteTime": {
     "end_time": "2020-10-11T04:04:20.361060Z",
     "start_time": "2020-10-11T04:04:19.956528Z"
    }
   },
   "outputs": [],
   "source": [
    "product_avg_order_dow = tmp.groupby(\"product_id\").agg(\n",
    "    product_avg_order_dow=pd.NamedAgg(column='order_dow', aggfunc='mean')).reset_index()\n",
    "\n",
    "product_avg_order_hour_of_day = tmp.groupby(\"product_id\").agg(\n",
    "    product_avg_order_hour_of_day=pd.NamedAgg(column='order_hour', aggfunc='mean')).reset_index()"
   ]
  },
  {
   "cell_type": "markdown",
   "metadata": {},
   "source": [
    "## User features"
   ]
  },
  {
   "cell_type": "code",
   "execution_count": null,
   "metadata": {},
   "outputs": [],
   "source": [
    "\"user_total_orders\", \"user_total_products\", \"user_avg_cartsize\""
   ]
  },
  {
   "cell_type": "code",
   "execution_count": 110,
   "metadata": {
    "ExecuteTime": {
     "end_time": "2020-10-11T03:53:01.622178Z",
     "start_time": "2020-10-11T03:52:59.371776Z"
    }
   },
   "outputs": [],
   "source": [
    "# X_prior.groupby(['user_id', 'order_id']).size()\n",
    "user_total_orders = (X_prior.groupby(['user_id'])['order_id']\n",
    "     .nunique().to_frame('count')\n",
    "     .reset_index()\n",
    "     .rename(columns={'count':'user_total_orders'}))\n"
   ]
  },
  {
   "cell_type": "code",
   "execution_count": 111,
   "metadata": {
    "ExecuteTime": {
     "end_time": "2020-10-11T03:54:12.639753Z",
     "start_time": "2020-10-11T03:54:12.631244Z"
    }
   },
   "outputs": [
    {
     "data": {
      "text/html": [
       "<div>\n",
       "<style scoped>\n",
       "    .dataframe tbody tr th:only-of-type {\n",
       "        vertical-align: middle;\n",
       "    }\n",
       "\n",
       "    .dataframe tbody tr th {\n",
       "        vertical-align: top;\n",
       "    }\n",
       "\n",
       "    .dataframe thead th {\n",
       "        text-align: right;\n",
       "    }\n",
       "</style>\n",
       "<table border=\"1\" class=\"dataframe\">\n",
       "  <thead>\n",
       "    <tr style=\"text-align: right;\">\n",
       "      <th></th>\n",
       "      <th>user_id</th>\n",
       "      <th>user_total_orders</th>\n",
       "    </tr>\n",
       "  </thead>\n",
       "  <tbody>\n",
       "    <tr>\n",
       "      <th>0</th>\n",
       "      <td>400</td>\n",
       "      <td>4</td>\n",
       "    </tr>\n",
       "    <tr>\n",
       "      <th>1</th>\n",
       "      <td>576</td>\n",
       "      <td>7</td>\n",
       "    </tr>\n",
       "    <tr>\n",
       "      <th>2</th>\n",
       "      <td>608</td>\n",
       "      <td>3</td>\n",
       "    </tr>\n",
       "    <tr>\n",
       "      <th>3</th>\n",
       "      <td>766</td>\n",
       "      <td>20</td>\n",
       "    </tr>\n",
       "    <tr>\n",
       "      <th>4</th>\n",
       "      <td>1012</td>\n",
       "      <td>9</td>\n",
       "    </tr>\n",
       "    <tr>\n",
       "      <th>...</th>\n",
       "      <td>...</td>\n",
       "      <td>...</td>\n",
       "    </tr>\n",
       "    <tr>\n",
       "      <th>83230</th>\n",
       "      <td>3127156</td>\n",
       "      <td>1</td>\n",
       "    </tr>\n",
       "    <tr>\n",
       "      <th>83231</th>\n",
       "      <td>3128356</td>\n",
       "      <td>1</td>\n",
       "    </tr>\n",
       "    <tr>\n",
       "      <th>83232</th>\n",
       "      <td>3130099</td>\n",
       "      <td>1</td>\n",
       "    </tr>\n",
       "    <tr>\n",
       "      <th>83233</th>\n",
       "      <td>3133198</td>\n",
       "      <td>1</td>\n",
       "    </tr>\n",
       "    <tr>\n",
       "      <th>83234</th>\n",
       "      <td>3142407</td>\n",
       "      <td>1</td>\n",
       "    </tr>\n",
       "  </tbody>\n",
       "</table>\n",
       "<p>83235 rows × 2 columns</p>\n",
       "</div>"
      ],
      "text/plain": [
       "       user_id  user_total_orders\n",
       "0          400                  4\n",
       "1          576                  7\n",
       "2          608                  3\n",
       "3          766                 20\n",
       "4         1012                  9\n",
       "...        ...                ...\n",
       "83230  3127156                  1\n",
       "83231  3128356                  1\n",
       "83232  3130099                  1\n",
       "83233  3133198                  1\n",
       "83234  3142407                  1\n",
       "\n",
       "[83235 rows x 2 columns]"
      ]
     },
     "execution_count": 111,
     "metadata": {},
     "output_type": "execute_result"
    }
   ],
   "source": [
    "user_total_orders"
   ]
  },
  {
   "cell_type": "code",
   "execution_count": 59,
   "metadata": {
    "ExecuteTime": {
     "end_time": "2020-10-11T02:40:09.695011Z",
     "start_time": "2020-10-11T02:40:07.170683Z"
    }
   },
   "outputs": [],
   "source": [
    "# Total number of different product in all user orders\n",
    "user_total_products = (X_prior.drop_duplicates([\"user_id\", \"product_id\"])\n",
    "     .groupby(\"user_id\")\n",
    "     .size().reset_index()\n",
    "     .rename(columns={0:'user_total_products'}))"
   ]
  },
  {
   "cell_type": "code",
   "execution_count": 143,
   "metadata": {
    "ExecuteTime": {
     "end_time": "2020-10-11T04:07:43.876472Z",
     "start_time": "2020-10-11T04:07:43.060611Z"
    }
   },
   "outputs": [],
   "source": [
    "# Mean order size per user\n",
    "user_avg_cartsize = (X_prior.groupby([\"user_id\", \"order_id\"])\n",
    "                         .agg({'line_item_id':'count'})\n",
    "                         .groupby(\"user_id\").mean()\n",
    "                         .rename(columns={'line_item_id':'user_avg_cartsize'})).reset_index()\n"
   ]
  },
  {
   "cell_type": "markdown",
   "metadata": {},
   "source": [
    "## User product features"
   ]
  },
  {
   "cell_type": "code",
   "execution_count": null,
   "metadata": {},
   "outputs": [],
   "source": [
    "\"user_product_total_orders\" \"user_product_order_freq\""
   ]
  },
  {
   "cell_type": "code",
   "execution_count": 76,
   "metadata": {
    "ExecuteTime": {
     "end_time": "2020-10-11T03:06:09.924289Z",
     "start_time": "2020-10-11T03:06:05.772582Z"
    }
   },
   "outputs": [],
   "source": [
    "user_product_total_orders = X_prior.groupby(\n",
    "     ['user_id', 'product_id']).agg(\n",
    "     user_product_total_orders=pd.NamedAgg(column='product_id', aggfunc='count')).reset_index()"
   ]
  },
  {
   "cell_type": "code",
   "execution_count": 116,
   "metadata": {
    "ExecuteTime": {
     "end_time": "2020-10-11T03:59:43.916056Z",
     "start_time": "2020-10-11T03:59:43.913543Z"
    }
   },
   "outputs": [],
   "source": [
    "# user_product_total_orders"
   ]
  },
  {
   "cell_type": "code",
   "execution_count": 117,
   "metadata": {
    "ExecuteTime": {
     "end_time": "2020-10-11T03:59:47.500262Z",
     "start_time": "2020-10-11T03:59:45.629411Z"
    }
   },
   "outputs": [],
   "source": [
    "tmp = user_product_total_orders.merge(user_total_orders)\n",
    "tmp[\"user_product_order_freq\"] = tmp.user_product_total_orders / tmp.user_total_orders\n",
    "user_product_order_freq = tmp[[\"user_id\", \"product_id\", \"user_product_order_freq\"]]\n",
    "# user_product_order_freq"
   ]
  },
  {
   "cell_type": "code",
   "execution_count": null,
   "metadata": {},
   "outputs": [],
   "source": [
    "# features = X_prior.groupby(['user_id', 'product_id', 'master_category_id', \n",
    "#                             'parent_category_id']).agg(\n",
    "#     product_count=pd.NamedAgg(column='product_id', aggfunc='count'),\n",
    "#     avg_discount=pd.NamedAgg(column='discount', aggfunc='mean'),\n",
    "#     max_discount=pd.NamedAgg(column='discount', aggfunc='max'),\n",
    "#     min_discount=pd.NamedAgg(column='discount', aggfunc='min'),\n",
    "#     avg_price=pd.NamedAgg(column='price', aggfunc='mean'),\n",
    "#     max_price=pd.NamedAgg(column='price', aggfunc='max'),\n",
    "#     min_price=pd.NamedAgg(column='price', aggfunc='min'),\n",
    "#     last_date_purchase=pd.NamedAgg(column='order_created_time', aggfunc='max'),"
   ]
  },
  {
   "cell_type": "markdown",
   "metadata": {},
   "source": [
    "## Order features"
   ]
  },
  {
   "cell_type": "code",
   "execution_count": null,
   "metadata": {},
   "outputs": [],
   "source": [
    "\"order_dow\", \"order_time\""
   ]
  },
  {
   "cell_type": "code",
   "execution_count": 71,
   "metadata": {
    "ExecuteTime": {
     "end_time": "2020-10-11T02:49:53.148802Z",
     "start_time": "2020-10-11T02:49:51.405634Z"
    }
   },
   "outputs": [],
   "source": [
    "last_order_date[\"order_dow\"] = last_order_date.order_created_time.apply(lambda x: x.weekday())\n",
    "# UTC+0 time!\n",
    "last_order_date[\"order_time\"] = last_order_date.order_created_time.apply(lambda x: x.hour + x.minute / 60.0)"
   ]
  },
  {
   "cell_type": "code",
   "execution_count": 154,
   "metadata": {
    "ExecuteTime": {
     "end_time": "2020-10-11T04:11:52.705632Z",
     "start_time": "2020-10-11T04:11:52.698634Z"
    }
   },
   "outputs": [],
   "source": [
    "order_dow = last_order_date[[\"user_id\", \"order_dow\"]]\n",
    "order_time = last_order_date[[\"user_id\", \"order_time\"]]"
   ]
  },
  {
   "cell_type": "markdown",
   "metadata": {},
   "source": [
    "## Order product features"
   ]
  },
  {
   "cell_type": "code",
   "execution_count": null,
   "metadata": {},
   "outputs": [],
   "source": [
    "\"last_purchase_days_ago\""
   ]
  },
  {
   "cell_type": "code",
   "execution_count": 78,
   "metadata": {
    "ExecuteTime": {
     "end_time": "2020-10-11T03:14:52.226189Z",
     "start_time": "2020-10-11T03:14:22.941959Z"
    }
   },
   "outputs": [],
   "source": [
    "last_date_purchase = X_prior.groupby(\n",
    "     ['user_id', 'product_id']).agg(\n",
    "     last_date_purchase=pd.NamedAgg(column='order_created_time', aggfunc='max')).reset_index()"
   ]
  },
  {
   "cell_type": "code",
   "execution_count": 95,
   "metadata": {
    "ExecuteTime": {
     "end_time": "2020-10-11T03:24:37.516588Z",
     "start_time": "2020-10-11T03:24:35.599372Z"
    }
   },
   "outputs": [],
   "source": [
    "tmp = last_order_date.merge(last_date_purchase)\n",
    "\n",
    "tmp[\"last_purchase_days_ago\"] = (tmp.order_created_time - tmp.last_date_purchase).dt.days\n",
    "last_purchase_days_ago = tmp[[\"user_id\", \"product_id\", \"last_purchase_days_ago\"]]\n",
    " #.apply(lambda x: x.dt.days())"
   ]
  },
  {
   "cell_type": "code",
   "execution_count": null,
   "metadata": {},
   "outputs": [],
   "source": []
  },
  {
   "cell_type": "markdown",
   "metadata": {},
   "source": [
    "# Merge features into train data"
   ]
  },
  {
   "cell_type": "code",
   "execution_count": 120,
   "metadata": {
    "ExecuteTime": {
     "end_time": "2020-10-11T04:02:08.433435Z",
     "start_time": "2020-10-11T04:02:08.424261Z"
    }
   },
   "outputs": [
    {
     "data": {
      "text/html": [
       "<div>\n",
       "<style scoped>\n",
       "    .dataframe tbody tr th:only-of-type {\n",
       "        vertical-align: middle;\n",
       "    }\n",
       "\n",
       "    .dataframe tbody tr th {\n",
       "        vertical-align: top;\n",
       "    }\n",
       "\n",
       "    .dataframe thead th {\n",
       "        text-align: right;\n",
       "    }\n",
       "</style>\n",
       "<table border=\"1\" class=\"dataframe\">\n",
       "  <thead>\n",
       "    <tr style=\"text-align: right;\">\n",
       "      <th></th>\n",
       "      <th>product_id</th>\n",
       "      <th>user_id</th>\n",
       "      <th>target</th>\n",
       "    </tr>\n",
       "  </thead>\n",
       "  <tbody>\n",
       "    <tr>\n",
       "      <th>0</th>\n",
       "      <td>709</td>\n",
       "      <td>766</td>\n",
       "      <td>0.0</td>\n",
       "    </tr>\n",
       "    <tr>\n",
       "      <th>1</th>\n",
       "      <td>709</td>\n",
       "      <td>1012</td>\n",
       "      <td>0.0</td>\n",
       "    </tr>\n",
       "    <tr>\n",
       "      <th>2</th>\n",
       "      <td>709</td>\n",
       "      <td>1132</td>\n",
       "      <td>0.0</td>\n",
       "    </tr>\n",
       "    <tr>\n",
       "      <th>3</th>\n",
       "      <td>709</td>\n",
       "      <td>2131</td>\n",
       "      <td>0.0</td>\n",
       "    </tr>\n",
       "    <tr>\n",
       "      <th>4</th>\n",
       "      <td>709</td>\n",
       "      <td>3011</td>\n",
       "      <td>0.0</td>\n",
       "    </tr>\n",
       "  </tbody>\n",
       "</table>\n",
       "</div>"
      ],
      "text/plain": [
       "   product_id  user_id  target\n",
       "0         709      766     0.0\n",
       "1         709     1012     0.0\n",
       "2         709     1132     0.0\n",
       "3         709     2131     0.0\n",
       "4         709     3011     0.0"
      ]
     },
     "execution_count": 120,
     "metadata": {},
     "output_type": "execute_result"
    }
   ],
   "source": [
    "X_train.head()"
   ]
  },
  {
   "cell_type": "code",
   "execution_count": 123,
   "metadata": {
    "ExecuteTime": {
     "end_time": "2020-10-11T04:03:08.681697Z",
     "start_time": "2020-10-11T04:03:05.095472Z"
    }
   },
   "outputs": [],
   "source": [
    "X_train = X_train.merge(product_total_orders)\n",
    "\n",
    "X_train = X_train.merge(product_avg_order_dow)\n",
    "\n",
    "X_train = X_train.merge(product_avg_order_hour_of_day)"
   ]
  },
  {
   "cell_type": "code",
   "execution_count": 137,
   "metadata": {
    "ExecuteTime": {
     "end_time": "2020-10-11T04:06:49.444598Z",
     "start_time": "2020-10-11T04:06:45.315319Z"
    }
   },
   "outputs": [],
   "source": [
    "X_train = X_train.merge(user_total_orders, how=\"left\")\n",
    "\n",
    "X_train = X_train.merge(user_total_products, how=\"left\")\n",
    "\n",
    "X_train = X_train.merge(user_avg_cartsize, how=\"left\")"
   ]
  },
  {
   "cell_type": "code",
   "execution_count": 150,
   "metadata": {
    "ExecuteTime": {
     "end_time": "2020-10-11T04:10:20.183102Z",
     "start_time": "2020-10-11T04:10:04.877225Z"
    }
   },
   "outputs": [],
   "source": [
    "X_train = X_train.merge(user_product_total_orders, how=\"left\")\n",
    "\n",
    "X_train = X_train.merge(user_product_order_freq, how=\"left\")"
   ]
  },
  {
   "cell_type": "code",
   "execution_count": 157,
   "metadata": {
    "ExecuteTime": {
     "end_time": "2020-10-11T04:13:07.062399Z",
     "start_time": "2020-10-11T04:12:53.113745Z"
    }
   },
   "outputs": [],
   "source": [
    "X_train = X_train.merge(order_dow, how=\"left\")\n",
    "X_train = X_train.merge(order_time, how=\"left\")"
   ]
  },
  {
   "cell_type": "code",
   "execution_count": 161,
   "metadata": {
    "ExecuteTime": {
     "end_time": "2020-10-11T04:16:50.965790Z",
     "start_time": "2020-10-11T04:15:41.857705Z"
    }
   },
   "outputs": [],
   "source": [
    "X_train = X_train.merge(last_purchase_days_ago, how=\"left\")"
   ]
  },
  {
   "cell_type": "code",
   "execution_count": 165,
   "metadata": {
    "ExecuteTime": {
     "end_time": "2020-10-11T04:18:38.279259Z",
     "start_time": "2020-10-11T04:18:38.256272Z"
    }
   },
   "outputs": [
    {
     "data": {
      "text/html": [
       "<div>\n",
       "<style scoped>\n",
       "    .dataframe tbody tr th:only-of-type {\n",
       "        vertical-align: middle;\n",
       "    }\n",
       "\n",
       "    .dataframe tbody tr th {\n",
       "        vertical-align: top;\n",
       "    }\n",
       "\n",
       "    .dataframe thead th {\n",
       "        text-align: right;\n",
       "    }\n",
       "</style>\n",
       "<table border=\"1\" class=\"dataframe\">\n",
       "  <thead>\n",
       "    <tr style=\"text-align: right;\">\n",
       "      <th></th>\n",
       "      <th>product_id</th>\n",
       "      <th>user_id</th>\n",
       "      <th>target</th>\n",
       "      <th>product_total_orders</th>\n",
       "      <th>product_avg_order_dow</th>\n",
       "      <th>product_avg_order_hour_of_day</th>\n",
       "      <th>user_total_orders</th>\n",
       "      <th>user_total_products</th>\n",
       "      <th>user_avg_cartsize</th>\n",
       "      <th>user_product_total_orders</th>\n",
       "      <th>user_product_order_freq</th>\n",
       "      <th>order_dow</th>\n",
       "      <th>order_time</th>\n",
       "      <th>last_purchase_days_ago</th>\n",
       "    </tr>\n",
       "  </thead>\n",
       "  <tbody>\n",
       "    <tr>\n",
       "      <th>0</th>\n",
       "      <td>709</td>\n",
       "      <td>766</td>\n",
       "      <td>0.0</td>\n",
       "      <td>120137</td>\n",
       "      <td>3.045814</td>\n",
       "      <td>12.277780</td>\n",
       "      <td>20</td>\n",
       "      <td>140</td>\n",
       "      <td>9.500000</td>\n",
       "      <td>1.0</td>\n",
       "      <td>0.05</td>\n",
       "      <td>0</td>\n",
       "      <td>9.766667</td>\n",
       "      <td>213.0</td>\n",
       "    </tr>\n",
       "    <tr>\n",
       "      <th>1</th>\n",
       "      <td>39590</td>\n",
       "      <td>766</td>\n",
       "      <td>0.0</td>\n",
       "      <td>36029</td>\n",
       "      <td>3.043576</td>\n",
       "      <td>11.986180</td>\n",
       "      <td>20</td>\n",
       "      <td>140</td>\n",
       "      <td>9.500000</td>\n",
       "      <td>NaN</td>\n",
       "      <td>NaN</td>\n",
       "      <td>0</td>\n",
       "      <td>9.766667</td>\n",
       "      <td>NaN</td>\n",
       "    </tr>\n",
       "    <tr>\n",
       "      <th>2</th>\n",
       "      <td>166</td>\n",
       "      <td>766</td>\n",
       "      <td>0.0</td>\n",
       "      <td>30115</td>\n",
       "      <td>3.092047</td>\n",
       "      <td>11.619395</td>\n",
       "      <td>20</td>\n",
       "      <td>140</td>\n",
       "      <td>9.500000</td>\n",
       "      <td>NaN</td>\n",
       "      <td>NaN</td>\n",
       "      <td>0</td>\n",
       "      <td>9.766667</td>\n",
       "      <td>NaN</td>\n",
       "    </tr>\n",
       "    <tr>\n",
       "      <th>3</th>\n",
       "      <td>55133</td>\n",
       "      <td>766</td>\n",
       "      <td>1.0</td>\n",
       "      <td>29620</td>\n",
       "      <td>3.068501</td>\n",
       "      <td>12.544262</td>\n",
       "      <td>20</td>\n",
       "      <td>140</td>\n",
       "      <td>9.500000</td>\n",
       "      <td>NaN</td>\n",
       "      <td>NaN</td>\n",
       "      <td>0</td>\n",
       "      <td>9.766667</td>\n",
       "      <td>NaN</td>\n",
       "    </tr>\n",
       "    <tr>\n",
       "      <th>4</th>\n",
       "      <td>1300</td>\n",
       "      <td>766</td>\n",
       "      <td>0.0</td>\n",
       "      <td>26270</td>\n",
       "      <td>3.067377</td>\n",
       "      <td>12.293673</td>\n",
       "      <td>20</td>\n",
       "      <td>140</td>\n",
       "      <td>9.500000</td>\n",
       "      <td>NaN</td>\n",
       "      <td>NaN</td>\n",
       "      <td>0</td>\n",
       "      <td>9.766667</td>\n",
       "      <td>NaN</td>\n",
       "    </tr>\n",
       "    <tr>\n",
       "      <th>...</th>\n",
       "      <td>...</td>\n",
       "      <td>...</td>\n",
       "      <td>...</td>\n",
       "      <td>...</td>\n",
       "      <td>...</td>\n",
       "      <td>...</td>\n",
       "      <td>...</td>\n",
       "      <td>...</td>\n",
       "      <td>...</td>\n",
       "      <td>...</td>\n",
       "      <td>...</td>\n",
       "      <td>...</td>\n",
       "      <td>...</td>\n",
       "      <td>...</td>\n",
       "    </tr>\n",
       "    <tr>\n",
       "      <th>24594995</th>\n",
       "      <td>25355</td>\n",
       "      <td>74341</td>\n",
       "      <td>0.0</td>\n",
       "      <td>844</td>\n",
       "      <td>3.161137</td>\n",
       "      <td>11.912539</td>\n",
       "      <td>24</td>\n",
       "      <td>330</td>\n",
       "      <td>26.166667</td>\n",
       "      <td>NaN</td>\n",
       "      <td>NaN</td>\n",
       "      <td>3</td>\n",
       "      <td>21.616667</td>\n",
       "      <td>NaN</td>\n",
       "    </tr>\n",
       "    <tr>\n",
       "      <th>24594996</th>\n",
       "      <td>5482080</td>\n",
       "      <td>74341</td>\n",
       "      <td>0.0</td>\n",
       "      <td>924</td>\n",
       "      <td>3.053030</td>\n",
       "      <td>9.723737</td>\n",
       "      <td>24</td>\n",
       "      <td>330</td>\n",
       "      <td>26.166667</td>\n",
       "      <td>NaN</td>\n",
       "      <td>NaN</td>\n",
       "      <td>3</td>\n",
       "      <td>21.616667</td>\n",
       "      <td>NaN</td>\n",
       "    </tr>\n",
       "    <tr>\n",
       "      <th>24594997</th>\n",
       "      <td>23501</td>\n",
       "      <td>74341</td>\n",
       "      <td>0.0</td>\n",
       "      <td>781</td>\n",
       "      <td>3.138284</td>\n",
       "      <td>12.187452</td>\n",
       "      <td>24</td>\n",
       "      <td>330</td>\n",
       "      <td>26.166667</td>\n",
       "      <td>NaN</td>\n",
       "      <td>NaN</td>\n",
       "      <td>3</td>\n",
       "      <td>21.616667</td>\n",
       "      <td>NaN</td>\n",
       "    </tr>\n",
       "    <tr>\n",
       "      <th>24594998</th>\n",
       "      <td>7114</td>\n",
       "      <td>74341</td>\n",
       "      <td>0.0</td>\n",
       "      <td>774</td>\n",
       "      <td>2.981912</td>\n",
       "      <td>11.856783</td>\n",
       "      <td>24</td>\n",
       "      <td>330</td>\n",
       "      <td>26.166667</td>\n",
       "      <td>NaN</td>\n",
       "      <td>NaN</td>\n",
       "      <td>3</td>\n",
       "      <td>21.616667</td>\n",
       "      <td>NaN</td>\n",
       "    </tr>\n",
       "    <tr>\n",
       "      <th>24594999</th>\n",
       "      <td>6696839</td>\n",
       "      <td>74341</td>\n",
       "      <td>0.0</td>\n",
       "      <td>789</td>\n",
       "      <td>3.058302</td>\n",
       "      <td>11.469265</td>\n",
       "      <td>24</td>\n",
       "      <td>330</td>\n",
       "      <td>26.166667</td>\n",
       "      <td>NaN</td>\n",
       "      <td>NaN</td>\n",
       "      <td>3</td>\n",
       "      <td>21.616667</td>\n",
       "      <td>NaN</td>\n",
       "    </tr>\n",
       "  </tbody>\n",
       "</table>\n",
       "<p>24595000 rows × 14 columns</p>\n",
       "</div>"
      ],
      "text/plain": [
       "          product_id  user_id  target  product_total_orders  \\\n",
       "0                709      766     0.0                120137   \n",
       "1              39590      766     0.0                 36029   \n",
       "2                166      766     0.0                 30115   \n",
       "3              55133      766     1.0                 29620   \n",
       "4               1300      766     0.0                 26270   \n",
       "...              ...      ...     ...                   ...   \n",
       "24594995       25355    74341     0.0                   844   \n",
       "24594996     5482080    74341     0.0                   924   \n",
       "24594997       23501    74341     0.0                   781   \n",
       "24594998        7114    74341     0.0                   774   \n",
       "24594999     6696839    74341     0.0                   789   \n",
       "\n",
       "          product_avg_order_dow  product_avg_order_hour_of_day  \\\n",
       "0                      3.045814                      12.277780   \n",
       "1                      3.043576                      11.986180   \n",
       "2                      3.092047                      11.619395   \n",
       "3                      3.068501                      12.544262   \n",
       "4                      3.067377                      12.293673   \n",
       "...                         ...                            ...   \n",
       "24594995               3.161137                      11.912539   \n",
       "24594996               3.053030                       9.723737   \n",
       "24594997               3.138284                      12.187452   \n",
       "24594998               2.981912                      11.856783   \n",
       "24594999               3.058302                      11.469265   \n",
       "\n",
       "          user_total_orders  user_total_products  user_avg_cartsize  \\\n",
       "0                        20                  140           9.500000   \n",
       "1                        20                  140           9.500000   \n",
       "2                        20                  140           9.500000   \n",
       "3                        20                  140           9.500000   \n",
       "4                        20                  140           9.500000   \n",
       "...                     ...                  ...                ...   \n",
       "24594995                 24                  330          26.166667   \n",
       "24594996                 24                  330          26.166667   \n",
       "24594997                 24                  330          26.166667   \n",
       "24594998                 24                  330          26.166667   \n",
       "24594999                 24                  330          26.166667   \n",
       "\n",
       "          user_product_total_orders  user_product_order_freq  order_dow  \\\n",
       "0                               1.0                     0.05          0   \n",
       "1                               NaN                      NaN          0   \n",
       "2                               NaN                      NaN          0   \n",
       "3                               NaN                      NaN          0   \n",
       "4                               NaN                      NaN          0   \n",
       "...                             ...                      ...        ...   \n",
       "24594995                        NaN                      NaN          3   \n",
       "24594996                        NaN                      NaN          3   \n",
       "24594997                        NaN                      NaN          3   \n",
       "24594998                        NaN                      NaN          3   \n",
       "24594999                        NaN                      NaN          3   \n",
       "\n",
       "          order_time  last_purchase_days_ago  \n",
       "0           9.766667                   213.0  \n",
       "1           9.766667                     NaN  \n",
       "2           9.766667                     NaN  \n",
       "3           9.766667                     NaN  \n",
       "4           9.766667                     NaN  \n",
       "...              ...                     ...  \n",
       "24594995   21.616667                     NaN  \n",
       "24594996   21.616667                     NaN  \n",
       "24594997   21.616667                     NaN  \n",
       "24594998   21.616667                     NaN  \n",
       "24594999   21.616667                     NaN  \n",
       "\n",
       "[24595000 rows x 14 columns]"
      ]
     },
     "execution_count": 165,
     "metadata": {},
     "output_type": "execute_result"
    }
   ],
   "source": [
    "X_train"
   ]
  },
  {
   "cell_type": "markdown",
   "metadata": {},
   "source": [
    "# Train model"
   ]
  },
  {
   "cell_type": "code",
   "execution_count": 162,
   "metadata": {
    "ExecuteTime": {
     "end_time": "2020-10-11T04:17:10.725179Z",
     "start_time": "2020-10-11T04:17:08.618896Z"
    }
   },
   "outputs": [],
   "source": [
    "from sklearn.linear_model import LogisticRegression"
   ]
  },
  {
   "cell_type": "code",
   "execution_count": 175,
   "metadata": {
    "ExecuteTime": {
     "end_time": "2020-10-11T04:35:25.371341Z",
     "start_time": "2020-10-11T04:35:25.367711Z"
    }
   },
   "outputs": [],
   "source": [
    "lr = LogisticRegression(class_weight={1 : 6, 0 : 1}, C=10000000, verbose=1, n_jobs=12)"
   ]
  },
  {
   "cell_type": "code",
   "execution_count": 170,
   "metadata": {
    "ExecuteTime": {
     "end_time": "2020-10-11T04:28:35.077738Z",
     "start_time": "2020-10-11T04:24:52.699005Z"
    }
   },
   "outputs": [],
   "source": [
    "X_train_final = X_train.drop(columns=['product_id','user_id','target'])\n",
    "# y_train = X_train[\"target\"]"
   ]
  },
  {
   "cell_type": "code",
   "execution_count": 172,
   "metadata": {
    "ExecuteTime": {
     "end_time": "2020-10-11T04:29:28.377715Z",
     "start_time": "2020-10-11T04:29:15.906319Z"
    }
   },
   "outputs": [],
   "source": [
    "X_train_final.fillna(-1, inplace=True)"
   ]
  },
  {
   "cell_type": "code",
   "execution_count": null,
   "metadata": {
    "ExecuteTime": {
     "start_time": "2020-10-11T04:35:27.524Z"
    }
   },
   "outputs": [
    {
     "name": "stdout",
     "output_type": "stream",
     "text": [
      "[LibLinear]"
     ]
    }
   ],
   "source": [
    "lr.fit(X_train_final, y_train)"
   ]
  },
  {
   "cell_type": "code",
   "execution_count": null,
   "metadata": {},
   "outputs": [],
   "source": []
  },
  {
   "cell_type": "code",
   "execution_count": null,
   "metadata": {},
   "outputs": [],
   "source": [
    "X_tr, X_te = df_X_tr, \\\n",
    "             df_X_te.drop(['product_id','user_id','latest_cart','in_cart'],axis=1), \\\n",
    "\n",
    "lr_10x = LogisticRegression(class_weight={1 : 6, 0 : 1}, C=10000000)\n",
    "lr_10x.fit(X_tr, y_tr)"
   ]
  },
  {
   "cell_type": "code",
   "execution_count": 65,
   "metadata": {
    "ExecuteTime": {
     "end_time": "2020-10-11T00:55:49.754471Z",
     "start_time": "2020-10-11T00:55:47.135112Z"
    }
   },
   "outputs": [
    {
     "data": {
      "text/html": [
       "<div>\n",
       "<style scoped>\n",
       "    .dataframe tbody tr th:only-of-type {\n",
       "        vertical-align: middle;\n",
       "    }\n",
       "\n",
       "    .dataframe tbody tr th {\n",
       "        vertical-align: top;\n",
       "    }\n",
       "\n",
       "    .dataframe thead th {\n",
       "        text-align: right;\n",
       "    }\n",
       "</style>\n",
       "<table border=\"1\" class=\"dataframe\">\n",
       "  <thead>\n",
       "    <tr style=\"text-align: right;\">\n",
       "      <th></th>\n",
       "      <th>user_id</th>\n",
       "      <th>order_id</th>\n",
       "      <th>line_item_id</th>\n",
       "      <th>price</th>\n",
       "      <th>quantity</th>\n",
       "      <th>discount</th>\n",
       "      <th>product_id</th>\n",
       "      <th>brand_name</th>\n",
       "      <th>master_category_id</th>\n",
       "      <th>parent_category_id</th>\n",
       "      <th>mean_order_size</th>\n",
       "      <th>order_created_time</th>\n",
       "      <th>retailer</th>\n",
       "      <th>store_id</th>\n",
       "      <th>platform</th>\n",
       "      <th>day_since_prior_order</th>\n",
       "    </tr>\n",
       "  </thead>\n",
       "  <tbody>\n",
       "    <tr>\n",
       "      <th>0</th>\n",
       "      <td>766</td>\n",
       "      <td>15872781</td>\n",
       "      <td>165315688</td>\n",
       "      <td>192.809998</td>\n",
       "      <td>1</td>\n",
       "      <td>30.00</td>\n",
       "      <td>5481688</td>\n",
       "      <td>-1</td>\n",
       "      <td>591.0</td>\n",
       "      <td>90</td>\n",
       "      <td>18.130435</td>\n",
       "      <td>2020-08-31 09:46:25</td>\n",
       "      <td>2.0</td>\n",
       "      <td>2.0</td>\n",
       "      <td>2.0</td>\n",
       "      <td>171.0</td>\n",
       "    </tr>\n",
       "    <tr>\n",
       "      <th>1</th>\n",
       "      <td>766</td>\n",
       "      <td>15872781</td>\n",
       "      <td>165316130</td>\n",
       "      <td>199.000000</td>\n",
       "      <td>1</td>\n",
       "      <td>100.00</td>\n",
       "      <td>92338</td>\n",
       "      <td>1884</td>\n",
       "      <td>91.0</td>\n",
       "      <td>90</td>\n",
       "      <td>18.130435</td>\n",
       "      <td>2020-08-31 09:46:25</td>\n",
       "      <td>2.0</td>\n",
       "      <td>2.0</td>\n",
       "      <td>2.0</td>\n",
       "      <td>171.0</td>\n",
       "    </tr>\n",
       "    <tr>\n",
       "      <th>2</th>\n",
       "      <td>766</td>\n",
       "      <td>15872781</td>\n",
       "      <td>165316378</td>\n",
       "      <td>31.900000</td>\n",
       "      <td>4</td>\n",
       "      <td>11.59</td>\n",
       "      <td>103039</td>\n",
       "      <td>3002</td>\n",
       "      <td>584.0</td>\n",
       "      <td>479</td>\n",
       "      <td>18.130435</td>\n",
       "      <td>2020-08-31 09:46:25</td>\n",
       "      <td>2.0</td>\n",
       "      <td>2.0</td>\n",
       "      <td>2.0</td>\n",
       "      <td>171.0</td>\n",
       "    </tr>\n",
       "    <tr>\n",
       "      <th>3</th>\n",
       "      <td>766</td>\n",
       "      <td>15872781</td>\n",
       "      <td>165317686</td>\n",
       "      <td>24.900000</td>\n",
       "      <td>4</td>\n",
       "      <td>10.09</td>\n",
       "      <td>5659264</td>\n",
       "      <td>-1</td>\n",
       "      <td>600.0</td>\n",
       "      <td>56</td>\n",
       "      <td>18.130435</td>\n",
       "      <td>2020-08-31 09:46:25</td>\n",
       "      <td>2.0</td>\n",
       "      <td>2.0</td>\n",
       "      <td>2.0</td>\n",
       "      <td>171.0</td>\n",
       "    </tr>\n",
       "    <tr>\n",
       "      <th>4</th>\n",
       "      <td>766</td>\n",
       "      <td>15872781</td>\n",
       "      <td>165318905</td>\n",
       "      <td>284.000000</td>\n",
       "      <td>1</td>\n",
       "      <td>89.00</td>\n",
       "      <td>69731</td>\n",
       "      <td>2005</td>\n",
       "      <td>45.0</td>\n",
       "      <td>42</td>\n",
       "      <td>18.130435</td>\n",
       "      <td>2020-08-31 09:46:25</td>\n",
       "      <td>2.0</td>\n",
       "      <td>2.0</td>\n",
       "      <td>2.0</td>\n",
       "      <td>171.0</td>\n",
       "    </tr>\n",
       "  </tbody>\n",
       "</table>\n",
       "</div>"
      ],
      "text/plain": [
       "   user_id  order_id  line_item_id       price  quantity  discount  \\\n",
       "0      766  15872781     165315688  192.809998         1     30.00   \n",
       "1      766  15872781     165316130  199.000000         1    100.00   \n",
       "2      766  15872781     165316378   31.900000         4     11.59   \n",
       "3      766  15872781     165317686   24.900000         4     10.09   \n",
       "4      766  15872781     165318905  284.000000         1     89.00   \n",
       "\n",
       "   product_id  brand_name  master_category_id  parent_category_id  \\\n",
       "0     5481688          -1               591.0                  90   \n",
       "1       92338        1884                91.0                  90   \n",
       "2      103039        3002               584.0                 479   \n",
       "3     5659264          -1               600.0                  56   \n",
       "4       69731        2005                45.0                  42   \n",
       "\n",
       "   mean_order_size  order_created_time  retailer  store_id  platform  \\\n",
       "0        18.130435 2020-08-31 09:46:25       2.0       2.0       2.0   \n",
       "1        18.130435 2020-08-31 09:46:25       2.0       2.0       2.0   \n",
       "2        18.130435 2020-08-31 09:46:25       2.0       2.0       2.0   \n",
       "3        18.130435 2020-08-31 09:46:25       2.0       2.0       2.0   \n",
       "4        18.130435 2020-08-31 09:46:25       2.0       2.0       2.0   \n",
       "\n",
       "   day_since_prior_order  \n",
       "0                  171.0  \n",
       "1                  171.0  \n",
       "2                  171.0  \n",
       "3                  171.0  \n",
       "4                  171.0  "
      ]
     },
     "execution_count": 65,
     "metadata": {},
     "output_type": "execute_result"
    }
   ],
   "source": [
    "target = pd.merge(merged_df, last_order, on=['user_id', 'order_created_time'], ) \n",
    "# train_order_id = target[\"order_id\"].unique()\n",
    "train_order_id\n",
    "target.head()\n",
    "# print(len(target))\n",
    "\n",
    "# target_user_product_pos = target[['user_id', 'product_id']]\n",
    "# target_user_product_pos['target'] = 1\n",
    "# target_user_product_pos = target_user_product_pos.drop_duplicates()\n",
    "# target_user_product_pos.head(3)"
   ]
  },
  {
   "cell_type": "code",
   "execution_count": null,
   "metadata": {
    "ExecuteTime": {
     "end_time": "2020-10-10T14:48:05.444310Z",
     "start_time": "2020-10-10T14:47:54.129331Z"
    }
   },
   "outputs": [],
   "source": [
    "# Data type conversion\n",
    "products_df.drop(columns=[\"line_item_id\", \"order_created_time\"], inplace=True)\n",
    "products_df.fillna(-1, inplace=True)\n",
    "products_df = products_df.astype({\n",
    "        'user_id': 'int32',\n",
    "        'order_id': 'int32',\n",
    "        'price': 'float32',\n",
    "        'quantity': 'int32',\n",
    "        'discount': 'float32',\n",
    "        'product_id': 'int32',\n",
    "        'brand_name': 'int16',\n",
    "        'master_category_id': 'int32',\n",
    "        'parent_category_id': 'int32',\n",
    "        'mean_order_size': 'float32',\n",
    "        'store_id': 'int16',\n",
    "        'retailer': 'int16',\n",
    "        'platform': 'int8',\n",
    "        'city_name': 'int16',\n",
    "        'gender': 'int8',\n",
    "        'age': 'int8',\n",
    "        'day_since_prior_order': 'int16'}, copy=False)"
   ]
  },
  {
   "cell_type": "code",
   "execution_count": null,
   "metadata": {},
   "outputs": [],
   "source": []
  },
  {
   "cell_type": "code",
   "execution_count": null,
   "metadata": {},
   "outputs": [],
   "source": []
  },
  {
   "cell_type": "code",
   "execution_count": 124,
   "metadata": {
    "ExecuteTime": {
     "end_time": "2020-10-09T22:46:09.746103Z",
     "start_time": "2020-10-09T22:45:50.414587Z"
    }
   },
   "outputs": [],
   "source": [
    "merged_df['count'] = 1\n",
    "df_agg = merged_df.groupby([\"user_id\", \"product_id\"]).agg({'count':sum})\n",
    "g = df_agg['count'].groupby(level=0, group_keys=False)"
   ]
  },
  {
   "cell_type": "code",
   "execution_count": 125,
   "metadata": {
    "ExecuteTime": {
     "end_time": "2020-10-09T22:47:51.601331Z",
     "start_time": "2020-10-09T22:46:09.748513Z"
    }
   },
   "outputs": [],
   "source": [
    "res = g.nlargest(50)\n",
    "res.reset_index(inplace=True)\n",
    "res.product_id = res.product_id.astype('str')\n",
    "submit = res.groupby('user_id')['product_id'].apply(' '.join).reset_index()\n",
    "submit.columns = [\"Id\", \"Predicted\"]\n",
    "submit.to_csv(\"my_sumbit1.csv\", index=False)"
   ]
  },
  {
   "cell_type": "code",
   "execution_count": null,
   "metadata": {},
   "outputs": [],
   "source": []
  },
  {
   "cell_type": "code",
   "execution_count": null,
   "metadata": {},
   "outputs": [],
   "source": []
  },
  {
   "cell_type": "markdown",
   "metadata": {
    "heading_collapsed": true
   },
   "source": [
    "# Merge best submissions"
   ]
  },
  {
   "cell_type": "code",
   "execution_count": 82,
   "metadata": {
    "ExecuteTime": {
     "end_time": "2020-10-10T23:31:49.961783Z",
     "start_time": "2020-10-10T23:31:48.209842Z"
    },
    "hidden": true
   },
   "outputs": [],
   "source": [
    "best1_df = pd.read_csv(\"1_submission_04_masha_sunday.csv\")\n",
    "best2_df = pd.read_csv(\"2_test_submission_08.csv\")\n",
    "best3_df = pd.read_csv(\"3_emils_with_10cf.csv\")\n",
    "\n",
    "best1_df.sort_values(\"Id\", inplace=True)\n",
    "best2_df.sort_values(\"Id\", inplace=True)\n",
    "best3_df.sort_values(\"Id\", inplace=True)"
   ]
  },
  {
   "cell_type": "code",
   "execution_count": 84,
   "metadata": {
    "ExecuteTime": {
     "end_time": "2020-10-10T23:31:55.351759Z",
     "start_time": "2020-10-10T23:31:52.809070Z"
    },
    "hidden": true
   },
   "outputs": [],
   "source": [
    "merged_predicted = (best1_df.Predicted + best2_df.Predicted + best3_df.Predicted).apply(lambda x: x.split(' '))\n",
    "\n",
    "merged_predicted = merged_predicted.apply(lambda x: [int(k) for k in x])"
   ]
  },
  {
   "cell_type": "code",
   "execution_count": 112,
   "metadata": {
    "ExecuteTime": {
     "end_time": "2020-10-10T23:48:37.878264Z",
     "start_time": "2020-10-10T23:48:37.869984Z"
    },
    "hidden": true
   },
   "outputs": [],
   "source": [
    "def filter_popular(predicted):\n",
    "    counter = Counter(predicted)\n",
    "    count_1, count_2, count_3 = [], [], []\n",
    "    for elem in predicted:\n",
    "        if elem == 0:\n",
    "            continue\n",
    "        if counter[elem] == 3:\n",
    "            if elem not in count_3:\n",
    "                count_3.append(elem)\n",
    "        elif counter[elem] == 2:\n",
    "            if elem not in count_2:\n",
    "                count_2.append(elem)\n",
    "        else:\n",
    "            if elem not in count_1:\n",
    "                count_1.append(elem)\n",
    "\n",
    "        if len(count_3) == 50:\n",
    "            return \" \".join([str(x[0]) for x in count_3])\n",
    "        \n",
    "    result = count_3 + count_2[:50 - len(count_3)] + count_1[:50 - len(count_3) - len(count_2[:50 - len(count_3)])]\n",
    "#     assert len(result) == 50, f\"Too short! {len(result)}. {len(count_3)}, {len(count_2)}, {len(count_1)}\"\n",
    "#     print(result)\n",
    "    return \" \".join([str(x) for x in result])\n",
    "\n"
   ]
  },
  {
   "cell_type": "code",
   "execution_count": 114,
   "metadata": {
    "ExecuteTime": {
     "end_time": "2020-10-10T23:49:48.137551Z",
     "start_time": "2020-10-10T23:49:29.818469Z"
    },
    "hidden": true
   },
   "outputs": [],
   "source": [
    "best1_df[\"Predicted\"] = merged_predicted.apply(lambda x: filter_popular(x))\n",
    "best1_df.to_csv(\"merged3_no_month_filter_ordered.csv\", index=False)"
   ]
  }
 ],
 "metadata": {
  "kernelspec": {
   "display_name": "Python 3",
   "language": "python",
   "name": "python3"
  },
  "language_info": {
   "codemirror_mode": {
    "name": "ipython",
    "version": 3
   },
   "file_extension": ".py",
   "mimetype": "text/x-python",
   "name": "python",
   "nbconvert_exporter": "python",
   "pygments_lexer": "ipython3",
   "version": "3.6.9"
  }
 },
 "nbformat": 4,
 "nbformat_minor": 2
}
