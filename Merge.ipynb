{
 "cells": [
  {
   "cell_type": "code",
   "execution_count": 1,
   "metadata": {
    "ExecuteTime": {
     "end_time": "2020-10-09T21:31:16.577319Z",
     "start_time": "2020-10-09T21:31:16.575229Z"
    }
   },
   "outputs": [],
   "source": [
    "DATA_PATH = \"data\""
   ]
  },
  {
   "cell_type": "code",
   "execution_count": 2,
   "metadata": {
    "ExecuteTime": {
     "end_time": "2020-10-09T21:31:16.853383Z",
     "start_time": "2020-10-09T21:31:16.578397Z"
    }
   },
   "outputs": [],
   "source": [
    "# Imports\n",
    "import pandas as pd\n",
    "import numpy as np\n",
    "import datetime \n",
    "from pathlib import Path\n",
    "from tqdm.notebook import tqdm\n",
    "import os"
   ]
  },
  {
   "cell_type": "code",
   "execution_count": 3,
   "metadata": {
    "ExecuteTime": {
     "end_time": "2020-10-09T21:31:17.299259Z",
     "start_time": "2020-10-09T21:31:16.854806Z"
    }
   },
   "outputs": [],
   "source": [
    "\n",
    "submission_df = pd.read_csv(os.path.join(DATA_PATH, \"sample_submission.csv\"))\n",
    "test_user_ids = submission_df.Id"
   ]
  },
  {
   "cell_type": "code",
   "execution_count": 4,
   "metadata": {
    "ExecuteTime": {
     "end_time": "2020-10-09T21:31:17.559293Z",
     "start_time": "2020-10-09T21:31:17.301874Z"
    }
   },
   "outputs": [],
   "source": [
    "def replace_date(date_str):\n",
    "    if len(date_str) < 8:\n",
    "        return '2020-10-09'\n",
    "    else:\n",
    "        return date_str\n",
    "\n",
    "def str2date(date_str):\n",
    "    try:\n",
    "        date = datetime.datetime.strptime(date_str, '%Y-%m-%d')\n",
    "    except:\n",
    "        date = datetime.datetime.strptime(date_str, '%d.%m.%Y')\n",
    "    return date\n",
    "\n",
    "def calculate_age(born):\n",
    "    today = datetime.date.today()\n",
    "    age = today.year - born.year - ((today.month, today.day) < (born.month, born.day))\n",
    "    if age < 15 or age > 60:\n",
    "        age = 0\n",
    "    return age\n",
    "\n",
    "## Preprocess Users\n",
    "user_df = pd.read_csv(os.path.join(DATA_PATH, \"kaggle_tab_1345/tab_4_user_profiles.csv\"))\n",
    "# Drop NaNs\n",
    "user_df.dropna(inplace=True)\n",
    "# # Fill NaNs\n",
    "# user_df.bdate.fillna('2020-10-09', inplace=True)\n",
    "user_df = user_df[user_df.user_id.isin(test_user_ids)]\n",
    "# Replace incorrect dates\n",
    "user_df.bdate = user_df.bdate.map(lambda x: replace_date(x))\n",
    "# Convert all dates to datetime object\n",
    "user_df.bdate = user_df.bdate.map(lambda x: str2date(x))\n",
    "# Add new column with age\n",
    "user_df[\"age\"] = user_df.bdate.map(lambda x: calculate_age(x))\n",
    "# Label code column\n",
    "user_df.gender = user_df.gender.astype('category').cat.codes\n",
    "\n",
    "user_df.drop_duplicates(\"user_id\", inplace=True)\n",
    "# users_df.head(3)\n",
    "\n",
    "## Preprocess Citys\n",
    "city_df = pd.read_csv(os.path.join(DATA_PATH, \"tab_6_city.csv\"))\n",
    "city_df.city_name = city_df.city_name.astype('category').cat.codes\n",
    "# city_df.head(3)"
   ]
  },
  {
   "cell_type": "code",
   "execution_count": 5,
   "metadata": {
    "ExecuteTime": {
     "end_time": "2020-10-09T21:31:23.441434Z",
     "start_time": "2020-10-09T21:31:17.560935Z"
    }
   },
   "outputs": [],
   "source": [
    "## Preprocess Orders\n",
    "orders_df = pd.read_csv(os.path.join(DATA_PATH, \"kaggle_tab_1345/tab_1_orders.csv\"))\n",
    "# Drop\n",
    "orders_df.drop_duplicates([\"order_id\", \"store_id\"], inplace=True)\n",
    "# Label code columns\n",
    "orders_df.retailer = orders_df.retailer.astype('category').cat.codes\n",
    "orders_df.platform = orders_df.platform.astype('category').cat.codes\n",
    "\n",
    "# Merge city data\n",
    "orders_df = orders_df.set_index('store_id').join(city_df.set_index('store_id'))\n",
    "\n",
    "# Merge user data\n",
    "orders_df = orders_df.set_index('user_id').join(user_df.set_index('user_id'))\n",
    "orders_df.drop_duplicates(\"order_id\", inplace=True)"
   ]
  },
  {
   "cell_type": "code",
   "execution_count": null,
   "metadata": {
    "ExecuteTime": {
     "start_time": "2020-10-09T21:31:15.259Z"
    }
   },
   "outputs": [
    {
     "data": {
      "application/vnd.jupyter.widget-view+json": {
       "model_id": "64cf88c570d24f9a8cbdc3274a90b69b",
       "version_major": 2,
       "version_minor": 0
      },
      "text/plain": [
       "HBox(children=(FloatProgress(value=0.0, max=26.0), HTML(value='')))"
      ]
     },
     "metadata": {},
     "output_type": "display_data"
    }
   ],
   "source": [
    "pathes = sorted(list(Path(DATA_PATH).glob('*/tab_2*.csv')))\n",
    "dfs = []\n",
    "total_count = 0\n",
    "\n",
    "for path in tqdm(pathes):\n",
    "    # Read DF\n",
    "    df = pd.read_csv(path)\n",
    "#     print(\"Before:\", len(df))\n",
    "    \n",
    "    # Filter and delete users not from test\n",
    "    df = df[df.user_id.isin(test_user_ids)]\n",
    "\n",
    "    # Drop column with long desciption\n",
    "    df.drop(columns=[\"product_name\"], inplace=True)\n",
    "    \n",
    "    # Label code column\n",
    "    df.brand_name = df.brand_name.astype('category').cat.codes\n",
    "    \n",
    "    # Fill NaNs in one column\n",
    "    df.master_category_id.fillna(-1, inplace=True)\n",
    "    \n",
    "    # Change data types to reduce memory footprint\n",
    "    df.astype({\n",
    "        'user_id': 'int32',\n",
    "        'order_id': 'int32',\n",
    "        'price': 'float32',\n",
    "        'quantity': 'int32',\n",
    "        'discount': 'float32',\n",
    "        'product_id': 'int32',\n",
    "        'brand_name': 'int32',\n",
    "        'master_category_id': 'int32',\n",
    "        'parent_category_id': 'int32'}, copy=False)\n",
    "    total_count = total_count + len(df)\n",
    "    dfs.append(df)\n",
    "\n",
    "print(\"Total:\", total_count)"
   ]
  },
  {
   "cell_type": "code",
   "execution_count": null,
   "metadata": {
    "ExecuteTime": {
     "start_time": "2020-10-09T21:31:15.262Z"
    }
   },
   "outputs": [],
   "source": [
    "products_df = pd.concat(dfs)"
   ]
  },
  {
   "cell_type": "code",
   "execution_count": null,
   "metadata": {
    "ExecuteTime": {
     "start_time": "2020-10-09T21:31:15.264Z"
    }
   },
   "outputs": [],
   "source": [
    "# Can be slow, just wait =)\n",
    "merged_df = products_df.set_index('order_id').join(orders_df.set_index('order_id'))\n",
    "merged_df = merged_df.reset_index()\n",
    "print(\"Total:\", len(merged_df))"
   ]
  },
  {
   "cell_type": "code",
   "execution_count": null,
   "metadata": {
    "ExecuteTime": {
     "start_time": "2020-10-09T21:31:15.266Z"
    }
   },
   "outputs": [],
   "source": [
    "merged_df.head()"
   ]
  },
  {
   "cell_type": "code",
   "execution_count": null,
   "metadata": {
    "ExecuteTime": {
     "start_time": "2020-10-09T21:31:15.269Z"
    }
   },
   "outputs": [],
   "source": [
    "merged_df.fillna(value=-1, inplace=True)"
   ]
  },
  {
   "cell_type": "code",
   "execution_count": null,
   "metadata": {
    "ExecuteTime": {
     "start_time": "2020-10-09T21:31:15.272Z"
    }
   },
   "outputs": [],
   "source": [
    "merged_df.dtypes"
   ]
  },
  {
   "cell_type": "code",
   "execution_count": null,
   "metadata": {
    "ExecuteTime": {
     "start_time": "2020-10-09T21:31:15.274Z"
    }
   },
   "outputs": [],
   "source": [
    "# Change data types to reduce memory footprint\n",
    "merged_df = merged_df.astype({\n",
    "    'user_id': 'int32',\n",
    "    'order_id': 'int32',\n",
    "    'price': 'float32',\n",
    "    'quantity': 'int32',\n",
    "    'discount': 'float32',\n",
    "    'product_id': 'int32',\n",
    "    'brand_name': 'int32',\n",
    "    'master_category_id': 'int32',\n",
    "    'parent_category_id': 'int32',\n",
    "    'retailer': 'int16',\n",
    "    'platform': 'int8',\n",
    "    'city_name': 'int16',\n",
    "    'gender': 'int8',\n",
    "    'age': 'int8',\n",
    "    }, copy=True)"
   ]
  },
  {
   "cell_type": "code",
   "execution_count": null,
   "metadata": {
    "ExecuteTime": {
     "start_time": "2020-10-09T21:31:15.276Z"
    }
   },
   "outputs": [],
   "source": [
    "merged_df.dtypes"
   ]
  },
  {
   "cell_type": "code",
   "execution_count": null,
   "metadata": {
    "ExecuteTime": {
     "start_time": "2020-10-09T21:31:15.279Z"
    }
   },
   "outputs": [],
   "source": [
    "merged_df.to_csv(os.path.join(DATA_PATH, \"merged_data.csv\"))"
   ]
  },
  {
   "cell_type": "code",
   "execution_count": null,
   "metadata": {},
   "outputs": [],
   "source": []
  },
  {
   "cell_type": "code",
   "execution_count": null,
   "metadata": {},
   "outputs": [],
   "source": []
  }
 ],
 "metadata": {
  "kernelspec": {
   "display_name": "Python 3",
   "language": "python",
   "name": "python3"
  },
  "language_info": {
   "codemirror_mode": {
    "name": "ipython",
    "version": 3
   },
   "file_extension": ".py",
   "mimetype": "text/x-python",
   "name": "python",
   "nbconvert_exporter": "python",
   "pygments_lexer": "ipython3",
   "version": "3.6.9"
  }
 },
 "nbformat": 4,
 "nbformat_minor": 2
}
