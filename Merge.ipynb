{
 "cells": [
  {
   "cell_type": "code",
   "execution_count": null,
   "metadata": {},
   "outputs": [],
   "source": [
    "DATA_PATH = \"data\""
   ]
  },
  {
   "cell_type": "code",
   "execution_count": 8,
   "metadata": {
    "ExecuteTime": {
     "end_time": "2020-10-09T21:09:17.372513Z",
     "start_time": "2020-10-09T21:09:17.358338Z"
    }
   },
   "outputs": [],
   "source": [
    "# Imports\n",
    "import pandas as pd\n",
    "import numpy as np\n",
    "import datetime \n",
    "from pathlib import Path\n",
    "from tqdm.notebook import tqdm\n",
    "import os"
   ]
  },
  {
   "cell_type": "code",
   "execution_count": 3,
   "metadata": {
    "ExecuteTime": {
     "end_time": "2020-10-09T21:08:08.153964Z",
     "start_time": "2020-10-09T21:08:07.601171Z"
    }
   },
   "outputs": [],
   "source": [
    "\n",
    "submission_df = pd.read_csv(os.path.join(DATA_PATH, \"sample_submission.csv\"))\n",
    "test_user_ids = submission_df.Id"
   ]
  },
  {
   "cell_type": "code",
   "execution_count": 5,
   "metadata": {
    "ExecuteTime": {
     "end_time": "2020-10-09T21:08:37.121239Z",
     "start_time": "2020-10-09T21:08:36.863626Z"
    }
   },
   "outputs": [],
   "source": [
    "def replace_date(date_str):\n",
    "    if len(date_str) < 8:\n",
    "        return '2020-10-09'\n",
    "    else:\n",
    "        return date_str\n",
    "\n",
    "def str2date(date_str):\n",
    "    try:\n",
    "        date = datetime.datetime.strptime(date_str, '%Y-%m-%d')\n",
    "    except:\n",
    "        date = datetime.datetime.strptime(date_str, '%d.%m.%Y')\n",
    "    return date\n",
    "\n",
    "def calculate_age(born):\n",
    "    today = datetime.date.today()\n",
    "    age = today.year - born.year - ((today.month, today.day) < (born.month, born.day))\n",
    "    if age < 15 or age > 60:\n",
    "        age = 0\n",
    "    return age\n",
    "\n",
    "## Preprocess Users\n",
    "user_df = pd.read_csv(os.path.join(DATA_PATH, \"/kaggle_tab_1345/tab_4_user_profiles.csv\"))\n",
    "# Drop NaNs\n",
    "user_df.dropna(inplace=True)\n",
    "# # Fill NaNs\n",
    "# user_df.bdate.fillna('2020-10-09', inplace=True)\n",
    "user_df = user_df[user_df.user_id.isin(test_user_ids)]\n",
    "# Replace incorrect dates\n",
    "user_df.bdate = user_df.bdate.map(lambda x: replace_date(x))\n",
    "# Convert all dates to datetime object\n",
    "user_df.bdate = user_df.bdate.map(lambda x: str2date(x))\n",
    "# Add new column with age\n",
    "user_df[\"age\"] = user_df.bdate.map(lambda x: calculate_age(x))\n",
    "# Label code column\n",
    "user_df.gender = user_df.gender.astype('category').cat.codes\n",
    "\n",
    "user_df.drop_duplicates(\"user_id\", inplace=True)\n",
    "# users_df.head(3)\n",
    "\n",
    "## Preprocess Citys\n",
    "city_df = pd.read_csv(os.path.join(DATA_PATH, \"tab_6_city.csv\"))\n",
    "city_df.city_name = city_df.city_name.astype('category').cat.codes\n",
    "# city_df.head(3)"
   ]
  },
  {
   "cell_type": "code",
   "execution_count": 6,
   "metadata": {
    "ExecuteTime": {
     "end_time": "2020-10-09T21:08:50.867215Z",
     "start_time": "2020-10-09T21:08:45.327726Z"
    }
   },
   "outputs": [],
   "source": [
    "## Preprocess Orders\n",
    "orders_df = pd.read_csv(os.path.join(DATA_PATH, \"kaggle_tab_1345/tab_1_orders.csv\"))\n",
    "# Drop\n",
    "orders_df.drop_duplicates([\"order_id\", \"store_id\"], inplace=True)\n",
    "# Label code columns\n",
    "orders_df.retailer = orders_df.retailer.astype('category').cat.codes\n",
    "orders_df.platform = orders_df.platform.astype('category').cat.codes\n",
    "\n",
    "# Merge city data\n",
    "orders_df = orders_df.set_index('store_id').join(city_df.set_index('store_id'))\n",
    "\n",
    "# Merge user data\n",
    "orders_df = orders_df.set_index('user_id').join(user_df.set_index('user_id'))\n",
    "orders_df.drop_duplicates(\"order_id\", inplace=True)"
   ]
  },
  {
   "cell_type": "code",
   "execution_count": 9,
   "metadata": {
    "ExecuteTime": {
     "end_time": "2020-10-09T21:10:54.081860Z",
     "start_time": "2020-10-09T21:09:26.459259Z"
    }
   },
   "outputs": [
    {
     "data": {
      "application/vnd.jupyter.widget-view+json": {
       "model_id": "83764b7bd3594f25ba1582f747268e31",
       "version_major": 2,
       "version_minor": 0
      },
      "text/plain": [
       "HBox(children=(FloatProgress(value=0.0, max=26.0), HTML(value='')))"
      ]
     },
     "metadata": {},
     "output_type": "display_data"
    },
    {
     "name": "stdout",
     "output_type": "stream",
     "text": [
      "\n",
      "Total: 21677070\n"
     ]
    }
   ],
   "source": [
    "pathes = sorted(list(Path(DATA_PATH).glob('*/tab_2*.csv')))\n",
    "dfs = []\n",
    "total_count = 0\n",
    "\n",
    "for path in tqdm(pathes):\n",
    "    # Read DF\n",
    "    df = pd.read_csv(path)\n",
    "#     print(\"Before:\", len(df))\n",
    "    \n",
    "    # Filter and delete users not from test\n",
    "    df = df[df.user_id.isin(test_user_ids)]\n",
    "\n",
    "    # Drop column with long desciption\n",
    "    df.drop(columns=[\"product_name\"], inplace=True)\n",
    "    \n",
    "    # Label code column\n",
    "    df.brand_name = df.brand_name.astype('category').cat.codes\n",
    "    \n",
    "    # Fill NaNs in one column\n",
    "    df.master_category_id.fillna(-1, inplace=True)\n",
    "    \n",
    "    # Change data types to reduce memory footprint\n",
    "    df.astype({\n",
    "        'user_id': 'int32',\n",
    "        'order_id': 'int32',\n",
    "        'price': 'float32',\n",
    "        'quantity': 'int32',\n",
    "        'discount': 'float32',\n",
    "        'product_id': 'int32',\n",
    "        'brand_name': 'int32',\n",
    "        'master_category_id': 'int32',\n",
    "        'parent_category_id': 'int32'}, copy=False)\n",
    "    total_count = total_count + len(df)\n",
    "    dfs.append(df)\n",
    "\n",
    "print(\"Total:\", total_count)"
   ]
  },
  {
   "cell_type": "code",
   "execution_count": 10,
   "metadata": {
    "ExecuteTime": {
     "end_time": "2020-10-09T21:11:08.698660Z",
     "start_time": "2020-10-09T21:11:07.263269Z"
    }
   },
   "outputs": [],
   "source": [
    "products_df = pd.concat(dfs)"
   ]
  },
  {
   "cell_type": "code",
   "execution_count": null,
   "metadata": {
    "ExecuteTime": {
     "end_time": "2020-10-09T21:11:59.688669Z",
     "start_time": "2020-10-09T21:11:54.728Z"
    }
   },
   "outputs": [],
   "source": [
    "# Can be slow, just wait =)\n",
    "merged_df = products_df.set_index('order_id').join(orders_df.set_index('order_id'))\n",
    "merged_df = merged_df.reset_index()\n",
    "print(\"Total:\", len(merged_df))"
   ]
  },
  {
   "cell_type": "code",
   "execution_count": 15,
   "metadata": {
    "ExecuteTime": {
     "end_time": "2020-10-09T21:16:03.210230Z",
     "start_time": "2020-10-09T21:16:03.193907Z"
    }
   },
   "outputs": [
    {
     "data": {
      "text/html": [
       "<div>\n",
       "<style scoped>\n",
       "    .dataframe tbody tr th:only-of-type {\n",
       "        vertical-align: middle;\n",
       "    }\n",
       "\n",
       "    .dataframe tbody tr th {\n",
       "        vertical-align: top;\n",
       "    }\n",
       "\n",
       "    .dataframe thead th {\n",
       "        text-align: right;\n",
       "    }\n",
       "</style>\n",
       "<table border=\"1\" class=\"dataframe\">\n",
       "  <thead>\n",
       "    <tr style=\"text-align: right;\">\n",
       "      <th></th>\n",
       "      <th>user_id</th>\n",
       "      <th>line_item_id</th>\n",
       "      <th>price</th>\n",
       "      <th>quantity</th>\n",
       "      <th>discount</th>\n",
       "      <th>product_id</th>\n",
       "      <th>brand_name</th>\n",
       "      <th>master_category_id</th>\n",
       "      <th>parent_category_id</th>\n",
       "      <th>order_created_time</th>\n",
       "      <th>retailer</th>\n",
       "      <th>platform</th>\n",
       "      <th>city_name</th>\n",
       "      <th>gender</th>\n",
       "      <th>bdate</th>\n",
       "      <th>age</th>\n",
       "    </tr>\n",
       "    <tr>\n",
       "      <th>order_id</th>\n",
       "      <th></th>\n",
       "      <th></th>\n",
       "      <th></th>\n",
       "      <th></th>\n",
       "      <th></th>\n",
       "      <th></th>\n",
       "      <th></th>\n",
       "      <th></th>\n",
       "      <th></th>\n",
       "      <th></th>\n",
       "      <th></th>\n",
       "      <th></th>\n",
       "      <th></th>\n",
       "      <th></th>\n",
       "      <th></th>\n",
       "      <th></th>\n",
       "    </tr>\n",
       "  </thead>\n",
       "  <tbody>\n",
       "    <tr>\n",
       "      <th>139128</th>\n",
       "      <td>1050</td>\n",
       "      <td>97633689</td>\n",
       "      <td>236.889999</td>\n",
       "      <td>1</td>\n",
       "      <td>0.0</td>\n",
       "      <td>5045454</td>\n",
       "      <td>3573</td>\n",
       "      <td>122.0</td>\n",
       "      <td>119</td>\n",
       "      <td>NaN</td>\n",
       "      <td>NaN</td>\n",
       "      <td>NaN</td>\n",
       "      <td>NaN</td>\n",
       "      <td>NaN</td>\n",
       "      <td>NaT</td>\n",
       "      <td>NaN</td>\n",
       "    </tr>\n",
       "    <tr>\n",
       "      <th>139128</th>\n",
       "      <td>1050</td>\n",
       "      <td>97633791</td>\n",
       "      <td>178.160004</td>\n",
       "      <td>1</td>\n",
       "      <td>0.0</td>\n",
       "      <td>73719</td>\n",
       "      <td>5154</td>\n",
       "      <td>122.0</td>\n",
       "      <td>119</td>\n",
       "      <td>NaN</td>\n",
       "      <td>NaN</td>\n",
       "      <td>NaN</td>\n",
       "      <td>NaN</td>\n",
       "      <td>NaN</td>\n",
       "      <td>NaT</td>\n",
       "      <td>NaN</td>\n",
       "    </tr>\n",
       "    <tr>\n",
       "      <th>139128</th>\n",
       "      <td>1050</td>\n",
       "      <td>97635201</td>\n",
       "      <td>173.279999</td>\n",
       "      <td>1</td>\n",
       "      <td>0.0</td>\n",
       "      <td>7000939</td>\n",
       "      <td>2846</td>\n",
       "      <td>85.0</td>\n",
       "      <td>84</td>\n",
       "      <td>NaN</td>\n",
       "      <td>NaN</td>\n",
       "      <td>NaN</td>\n",
       "      <td>NaN</td>\n",
       "      <td>NaN</td>\n",
       "      <td>NaT</td>\n",
       "      <td>NaN</td>\n",
       "    </tr>\n",
       "    <tr>\n",
       "      <th>139128</th>\n",
       "      <td>1050</td>\n",
       "      <td>97635312</td>\n",
       "      <td>73.690002</td>\n",
       "      <td>1</td>\n",
       "      <td>0.0</td>\n",
       "      <td>7386015</td>\n",
       "      <td>3342</td>\n",
       "      <td>85.0</td>\n",
       "      <td>84</td>\n",
       "      <td>NaN</td>\n",
       "      <td>NaN</td>\n",
       "      <td>NaN</td>\n",
       "      <td>NaN</td>\n",
       "      <td>NaN</td>\n",
       "      <td>NaT</td>\n",
       "      <td>NaN</td>\n",
       "    </tr>\n",
       "    <tr>\n",
       "      <th>139128</th>\n",
       "      <td>1050</td>\n",
       "      <td>97635414</td>\n",
       "      <td>282.140015</td>\n",
       "      <td>1</td>\n",
       "      <td>0.0</td>\n",
       "      <td>73291</td>\n",
       "      <td>2846</td>\n",
       "      <td>85.0</td>\n",
       "      <td>84</td>\n",
       "      <td>NaN</td>\n",
       "      <td>NaN</td>\n",
       "      <td>NaN</td>\n",
       "      <td>NaN</td>\n",
       "      <td>NaN</td>\n",
       "      <td>NaT</td>\n",
       "      <td>NaN</td>\n",
       "    </tr>\n",
       "  </tbody>\n",
       "</table>\n",
       "</div>"
      ],
      "text/plain": [
       "          user_id  line_item_id       price  quantity  discount  product_id  \\\n",
       "order_id                                                                      \n",
       "139128       1050      97633689  236.889999         1       0.0     5045454   \n",
       "139128       1050      97633791  178.160004         1       0.0       73719   \n",
       "139128       1050      97635201  173.279999         1       0.0     7000939   \n",
       "139128       1050      97635312   73.690002         1       0.0     7386015   \n",
       "139128       1050      97635414  282.140015         1       0.0       73291   \n",
       "\n",
       "          brand_name  master_category_id  parent_category_id  \\\n",
       "order_id                                                       \n",
       "139128          3573               122.0                 119   \n",
       "139128          5154               122.0                 119   \n",
       "139128          2846                85.0                  84   \n",
       "139128          3342                85.0                  84   \n",
       "139128          2846                85.0                  84   \n",
       "\n",
       "         order_created_time  retailer  platform  city_name  gender bdate  age  \n",
       "order_id                                                                       \n",
       "139128                  NaN       NaN       NaN        NaN     NaN   NaT  NaN  \n",
       "139128                  NaN       NaN       NaN        NaN     NaN   NaT  NaN  \n",
       "139128                  NaN       NaN       NaN        NaN     NaN   NaT  NaN  \n",
       "139128                  NaN       NaN       NaN        NaN     NaN   NaT  NaN  \n",
       "139128                  NaN       NaN       NaN        NaN     NaN   NaT  NaN  "
      ]
     },
     "execution_count": 15,
     "metadata": {},
     "output_type": "execute_result"
    }
   ],
   "source": [
    "merged_df.head()"
   ]
  },
  {
   "cell_type": "code",
   "execution_count": 23,
   "metadata": {
    "ExecuteTime": {
     "end_time": "2020-10-09T21:23:20.123183Z",
     "start_time": "2020-10-09T21:22:47.231047Z"
    }
   },
   "outputs": [],
   "source": [
    "merged_df.fillna(value=-1, inplace=True)"
   ]
  },
  {
   "cell_type": "code",
   "execution_count": 24,
   "metadata": {
    "ExecuteTime": {
     "end_time": "2020-10-09T21:23:29.126078Z",
     "start_time": "2020-10-09T21:23:29.116961Z"
    }
   },
   "outputs": [
    {
     "data": {
      "text/plain": [
       "order_id                int64\n",
       "user_id                 int64\n",
       "line_item_id            int64\n",
       "price                 float64\n",
       "quantity                int64\n",
       "discount              float64\n",
       "product_id              int64\n",
       "brand_name              int16\n",
       "master_category_id    float64\n",
       "parent_category_id      int64\n",
       "order_created_time     object\n",
       "retailer              float64\n",
       "platform              float64\n",
       "city_name             float64\n",
       "gender                float64\n",
       "bdate                  object\n",
       "age                   float64\n",
       "dtype: object"
      ]
     },
     "execution_count": 24,
     "metadata": {},
     "output_type": "execute_result"
    }
   ],
   "source": [
    "merged_df.dtypes"
   ]
  },
  {
   "cell_type": "code",
   "execution_count": 25,
   "metadata": {
    "ExecuteTime": {
     "end_time": "2020-10-09T21:23:34.531517Z",
     "start_time": "2020-10-09T21:23:31.466640Z"
    }
   },
   "outputs": [],
   "source": [
    "# Change data types to reduce memory footprint\n",
    "merged_df = merged_df.astype({\n",
    "    'user_id': 'int32',\n",
    "    'order_id': 'int32',\n",
    "    'price': 'float32',\n",
    "    'quantity': 'int32',\n",
    "    'discount': 'float32',\n",
    "    'product_id': 'int32',\n",
    "    'brand_name': 'int32',\n",
    "    'master_category_id': 'int32',\n",
    "    'parent_category_id': 'int32',\n",
    "    'retailer': 'int16',\n",
    "    'platform': 'int8',\n",
    "    'city_name': 'int16',\n",
    "    'gender': 'int8',\n",
    "    'age': 'int8',\n",
    "    }, copy=True)"
   ]
  },
  {
   "cell_type": "code",
   "execution_count": null,
   "metadata": {},
   "outputs": [],
   "source": [
    "merged_df.dtypes"
   ]
  },
  {
   "cell_type": "code",
   "execution_count": 26,
   "metadata": {
    "ExecuteTime": {
     "end_time": "2020-10-09T21:25:07.394837Z",
     "start_time": "2020-10-09T21:23:38.045086Z"
    }
   },
   "outputs": [],
   "source": [
    "merged_df.to_csv(os.path.join(DATA_PATH, \"merged_data.csv\"))"
   ]
  },
  {
   "cell_type": "code",
   "execution_count": null,
   "metadata": {},
   "outputs": [],
   "source": []
  }
 ],
 "metadata": {
  "kernelspec": {
   "display_name": "Python 3",
   "language": "python",
   "name": "python3"
  },
  "language_info": {
   "codemirror_mode": {
    "name": "ipython",
    "version": 3
   },
   "file_extension": ".py",
   "mimetype": "text/x-python",
   "name": "python",
   "nbconvert_exporter": "python",
   "pygments_lexer": "ipython3",
   "version": "3.6.9"
  }
 },
 "nbformat": 4,
 "nbformat_minor": 2
}
